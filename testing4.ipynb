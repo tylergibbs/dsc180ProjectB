{
 "cells": [
  {
   "cell_type": "code",
   "execution_count": 1,
   "id": "9195b4dd",
   "metadata": {},
   "outputs": [],
   "source": [
    "import testing_one"
   ]
  },
  {
   "cell_type": "code",
   "execution_count": null,
   "id": "18a53609",
   "metadata": {},
   "outputs": [],
   "source": []
  },
  {
   "cell_type": "code",
   "execution_count": null,
   "id": "8a499b47",
   "metadata": {},
   "outputs": [
    {
     "data": {
      "application/vnd.jupyter.widget-view+json": {
       "model_id": "7b9497b397ca4ec8ac8822ae9e11c7fe",
       "version_major": 2,
       "version_minor": 0
      },
      "text/plain": [
       "  0%|          | 0/230000.0 [00:00<?, ?it/s]"
      ]
     },
     "metadata": {},
     "output_type": "display_data"
    },
    {
     "name": "stdout",
     "output_type": "stream",
     "text": [
      "{'fdr': 0.25, 'tpr': 0.75, 'fpr': 0.13793103448275862, 'shd': 6, 'pred_size': 16, 'n': 50, 'p': 1, 'd': 5, 'degree': 2, 'noise_type': 'EV', 'mlp': True, 'runtime': 298.3067002296448, 'model_name': 'DAGMATS'}\n"
     ]
    },
    {
     "data": {
      "application/vnd.jupyter.widget-view+json": {
       "model_id": "c13827673d654ea1b1a3124abaa91774",
       "version_major": 2,
       "version_minor": 0
      },
      "text/plain": [
       "  0%|          | 0/230000.0 [00:00<?, ?it/s]"
      ]
     },
     "metadata": {},
     "output_type": "display_data"
    },
    {
     "name": "stdout",
     "output_type": "stream",
     "text": [
      "{'fdr': 0.5, 'tpr': 0.5, 'fpr': 0.4, 'shd': 17, 'pred_size': 20, 'n': 50, 'p': 1, 'd': 5, 'degree': 2, 'noise_type': 'EV', 'mlp': True, 'runtime': 220.4933774471283, 'model_name': 'DAGMATS'}\n"
     ]
    },
    {
     "data": {
      "application/vnd.jupyter.widget-view+json": {
       "model_id": "a00d6823519c44678e56930dee27b4ba",
       "version_major": 2,
       "version_minor": 0
      },
      "text/plain": [
       "  0%|          | 0/230000.0 [00:00<?, ?it/s]"
      ]
     },
     "metadata": {},
     "output_type": "display_data"
    },
    {
     "name": "stdout",
     "output_type": "stream",
     "text": [
      "{'fdr': 0.3333333333333333, 'tpr': 0.6666666666666666, 'fpr': 0.2222222222222222, 'shd': 11, 'pred_size': 18, 'n': 50, 'p': 1, 'd': 5, 'degree': 2, 'noise_type': 'EV', 'mlp': True, 'runtime': 229.7010383605957, 'model_name': 'DAGMATS'}\n"
     ]
    },
    {
     "data": {
      "application/vnd.jupyter.widget-view+json": {
       "model_id": "57a3eaeb42e042ecbecc3b89769c97d7",
       "version_major": 2,
       "version_minor": 0
      },
      "text/plain": [
       "  0%|          | 0/230000.0 [00:00<?, ?it/s]"
      ]
     },
     "metadata": {},
     "output_type": "display_data"
    }
   ],
   "source": [
    "testing_one.test_all_methods(output_dir='testing02.jsonl')"
   ]
  },
  {
   "cell_type": "code",
   "execution_count": null,
   "id": "87b010e0",
   "metadata": {},
   "outputs": [],
   "source": [
    "from "
   ]
  }
 ],
 "metadata": {
  "kernelspec": {
   "display_name": "Python 3 (ipykernel)",
   "language": "python",
   "name": "python3"
  },
  "language_info": {
   "codemirror_mode": {
    "name": "ipython",
    "version": 3
   },
   "file_extension": ".py",
   "mimetype": "text/x-python",
   "name": "python",
   "nbconvert_exporter": "python",
   "pygments_lexer": "ipython3",
   "version": "3.9.5"
  }
 },
 "nbformat": 4,
 "nbformat_minor": 5
}
