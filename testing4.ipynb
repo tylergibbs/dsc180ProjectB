{
 "cells": [
  {
   "cell_type": "code",
   "execution_count": 1,
   "id": "9195b4dd",
   "metadata": {},
   "outputs": [],
   "source": [
    "import testing_one"
   ]
  },
  {
   "cell_type": "code",
   "execution_count": null,
   "id": "18a53609",
   "metadata": {},
   "outputs": [],
   "source": []
  },
  {
   "cell_type": "code",
   "execution_count": null,
   "id": "8a499b47",
   "metadata": {
    "scrolled": true
   },
   "outputs": [
    {
     "name": "stderr",
     "output_type": "stream",
     "text": [
      "/home/vpotloff/private/dsc180ProjectB/GOLEMTS/model.py:99: UserWarning: To copy construct from a tensor, it is recommended to use sourceTensor.clone().detach() or sourceTensor.clone().detach().requires_grad_(True), rather than torch.tensor(sourceTensor).\n",
      "  self.Y = torch.tensor(Y.clone().detach(), dtype=torch.float32)\n",
      "/home/vpotloff/private/dsc180ProjectB/GOLEMTS/trainer.py:30: RuntimeWarning: invalid value encountered in scalar divide\n",
      "  if es and np.abs(score.cpu().detach().numpy() - scores[-1]) / scores[-1] < es_tol:\n"
     ]
    },
    {
     "name": "stdout",
     "output_type": "stream",
     "text": [
      "{'fdr': 0.1, 'tpr': 0.8181818181818182, 'fpr': 0.08695652173913043, 'shd': 6, 'pred_size': 20, 'n': 50, 'p': 1, 'd': 5, 'degree': 2, 'noise_type': 'EV', 'mlp': False, 'runtime': 7.117581844329834, 'model_name': 'GOLEMTS-EV'}\n",
      "{'fdr': 0.13333333333333333, 'tpr': 0.65, 'fpr': 0.08, 'shd': 8, 'pred_size': 15, 'n': 50, 'p': 1, 'd': 5, 'degree': 2, 'noise_type': 'EV', 'mlp': False, 'runtime': 2.8822081089019775, 'model_name': 'GOLEMTS-EV'}\n",
      "{'fdr': 0.1, 'tpr': 0.782608695652174, 'fpr': 0.09090909090909091, 'shd': 7, 'pred_size': 20, 'n': 50, 'p': 1, 'd': 5, 'degree': 2, 'noise_type': 'EV', 'mlp': False, 'runtime': 6.346733808517456, 'model_name': 'GOLEMTS-EV'}\n",
      "{'fdr': 0.13636363636363635, 'tpr': 0.76, 'fpr': 0.15, 'shd': 8, 'pred_size': 22, 'n': 50, 'p': 1, 'd': 5, 'degree': 2, 'noise_type': 'EV', 'mlp': False, 'runtime': 3.4264864921569824, 'model_name': 'GOLEMTS-EV'}\n",
      "{'fdr': 0.2222222222222222, 'tpr': 0.7, 'fpr': 0.16, 'shd': 9, 'pred_size': 18, 'n': 50, 'p': 1, 'd': 5, 'degree': 2, 'noise_type': 'EV', 'mlp': False, 'runtime': 7.154561519622803, 'model_name': 'GOLEMTS-EV'}\n",
      "{'fdr': 0.17391304347826086, 'tpr': 0.6785714285714286, 'fpr': 0.23529411764705882, 'shd': 12, 'pred_size': 23, 'n': 50, 'p': 1, 'd': 5, 'degree': 2, 'noise_type': 'EV', 'mlp': False, 'runtime': 4.083774566650391, 'model_name': 'GOLEMTS-EV'}\n",
      "{'fdr': 0.15, 'tpr': 0.85, 'fpr': 0.12, 'shd': 5, 'pred_size': 20, 'n': 50, 'p': 1, 'd': 5, 'degree': 2, 'noise_type': 'EV', 'mlp': False, 'runtime': 4.068011522293091, 'model_name': 'GOLEMTS-EV'}\n",
      "{'fdr': 0.13636363636363635, 'tpr': 0.8260869565217391, 'fpr': 0.13636363636363635, 'shd': 7, 'pred_size': 22, 'n': 50, 'p': 1, 'd': 5, 'degree': 2, 'noise_type': 'EV', 'mlp': False, 'runtime': 2.850736618041992, 'model_name': 'GOLEMTS-EV'}\n",
      "{'fdr': 0.15789473684210525, 'tpr': 0.6956521739130435, 'fpr': 0.13636363636363635, 'shd': 9, 'pred_size': 19, 'n': 50, 'p': 1, 'd': 5, 'degree': 2, 'noise_type': 'EV', 'mlp': False, 'runtime': 4.890387058258057, 'model_name': 'GOLEMTS-EV'}\n",
      "{'fdr': 0.19047619047619047, 'tpr': 0.8095238095238095, 'fpr': 0.16666666666666666, 'shd': 8, 'pred_size': 21, 'n': 50, 'p': 1, 'd': 5, 'degree': 2, 'noise_type': 'EV', 'mlp': False, 'runtime': 4.846348524093628, 'model_name': 'GOLEMTS-EV'}\n",
      "{'fdr': 0.12, 'tpr': 0.9166666666666666, 'fpr': 0.14285714285714285, 'shd': 4, 'pred_size': 25, 'n': 500, 'p': 1, 'd': 5, 'degree': 2, 'noise_type': 'EV', 'mlp': False, 'runtime': 4.865052700042725, 'model_name': 'GOLEMTS-EV'}\n",
      "{'fdr': 0.1, 'tpr': 0.8181818181818182, 'fpr': 0.08695652173913043, 'shd': 5, 'pred_size': 20, 'n': 500, 'p': 1, 'd': 5, 'degree': 2, 'noise_type': 'EV', 'mlp': False, 'runtime': 3.512281656265259, 'model_name': 'GOLEMTS-EV'}\n",
      "{'fdr': 0.0, 'tpr': 1.0, 'fpr': 0.0, 'shd': 0, 'pred_size': 20, 'n': 500, 'p': 1, 'd': 5, 'degree': 2, 'noise_type': 'EV', 'mlp': False, 'runtime': 4.8194684982299805, 'model_name': 'GOLEMTS-EV'}\n",
      "{'fdr': 0.1, 'tpr': 0.8571428571428571, 'fpr': 0.08333333333333333, 'shd': 4, 'pred_size': 20, 'n': 500, 'p': 1, 'd': 5, 'degree': 2, 'noise_type': 'EV', 'mlp': False, 'runtime': 4.839061975479126, 'model_name': 'GOLEMTS-EV'}\n",
      "{'fdr': 0.09523809523809523, 'tpr': 0.8260869565217391, 'fpr': 0.09090909090909091, 'shd': 5, 'pred_size': 21, 'n': 500, 'p': 1, 'd': 5, 'degree': 2, 'noise_type': 'EV', 'mlp': False, 'runtime': 3.874946355819702, 'model_name': 'GOLEMTS-EV'}\n",
      "{'fdr': 0.0, 'tpr': 1.0, 'fpr': 0.0, 'shd': 0, 'pred_size': 18, 'n': 500, 'p': 1, 'd': 5, 'degree': 2, 'noise_type': 'EV', 'mlp': False, 'runtime': 8.46839427947998, 'model_name': 'GOLEMTS-EV'}\n",
      "{'fdr': 0.10526315789473684, 'tpr': 0.85, 'fpr': 0.08, 'shd': 4, 'pred_size': 19, 'n': 500, 'p': 1, 'd': 5, 'degree': 2, 'noise_type': 'EV', 'mlp': False, 'runtime': 3.9737608432769775, 'model_name': 'GOLEMTS-EV'}\n",
      "{'fdr': 0.1, 'tpr': 0.9473684210526315, 'fpr': 0.07692307692307693, 'shd': 2, 'pred_size': 20, 'n': 500, 'p': 1, 'd': 5, 'degree': 2, 'noise_type': 'EV', 'mlp': False, 'runtime': 5.479092359542847, 'model_name': 'GOLEMTS-EV'}\n",
      "{'fdr': 0.09523809523809523, 'tpr': 0.9047619047619048, 'fpr': 0.08333333333333333, 'shd': 3, 'pred_size': 21, 'n': 500, 'p': 1, 'd': 5, 'degree': 2, 'noise_type': 'EV', 'mlp': False, 'runtime': 5.607379913330078, 'model_name': 'GOLEMTS-EV'}\n",
      "{'fdr': 0.0, 'tpr': 0.9545454545454546, 'fpr': 0.0, 'shd': 1, 'pred_size': 21, 'n': 500, 'p': 1, 'd': 5, 'degree': 2, 'noise_type': 'EV', 'mlp': False, 'runtime': 4.066963195800781, 'model_name': 'GOLEMTS-EV'}\n",
      "{'fdr': 0.22727272727272727, 'tpr': 0.7727272727272727, 'fpr': 0.21739130434782608, 'shd': 9, 'pred_size': 22, 'n': 50, 'p': 1, 'd': 5, 'degree': 4, 'noise_type': 'EV', 'mlp': False, 'runtime': 7.237241506576538, 'model_name': 'GOLEMTS-EV'}\n",
      "{'fdr': 0.19047619047619047, 'tpr': 0.7391304347826086, 'fpr': 0.18181818181818182, 'shd': 9, 'pred_size': 21, 'n': 50, 'p': 1, 'd': 5, 'degree': 4, 'noise_type': 'EV', 'mlp': False, 'runtime': 9.33212685585022, 'model_name': 'GOLEMTS-EV'}\n",
      "{'fdr': 0.08333333333333333, 'tpr': 0.7857142857142857, 'fpr': 0.11764705882352941, 'shd': 7, 'pred_size': 24, 'n': 50, 'p': 1, 'd': 5, 'degree': 4, 'noise_type': 'EV', 'mlp': False, 'runtime': 6.184526443481445, 'model_name': 'GOLEMTS-EV'}\n",
      "{'fdr': 0.13043478260869565, 'tpr': 0.8333333333333334, 'fpr': 0.14285714285714285, 'shd': 6, 'pred_size': 23, 'n': 50, 'p': 1, 'd': 5, 'degree': 4, 'noise_type': 'EV', 'mlp': False, 'runtime': 7.6891703605651855, 'model_name': 'GOLEMTS-EV'}\n",
      "{'fdr': 0.3333333333333333, 'tpr': 0.6086956521739131, 'fpr': 0.3181818181818182, 'shd': 15, 'pred_size': 21, 'n': 50, 'p': 1, 'd': 5, 'degree': 4, 'noise_type': 'EV', 'mlp': False, 'runtime': 6.783430337905884, 'model_name': 'GOLEMTS-EV'}\n",
      "{'fdr': 0.18181818181818182, 'tpr': 0.75, 'fpr': 0.19047619047619047, 'shd': 9, 'pred_size': 22, 'n': 50, 'p': 1, 'd': 5, 'degree': 4, 'noise_type': 'EV', 'mlp': False, 'runtime': 10.180168390274048, 'model_name': 'GOLEMTS-EV'}\n",
      "{'fdr': 0.19230769230769232, 'tpr': 0.8076923076923077, 'fpr': 0.2631578947368421, 'shd': 9, 'pred_size': 26, 'n': 50, 'p': 1, 'd': 5, 'degree': 4, 'noise_type': 'EV', 'mlp': False, 'runtime': 7.528716564178467, 'model_name': 'GOLEMTS-EV'}\n",
      "{'fdr': 0.13043478260869565, 'tpr': 0.8, 'fpr': 0.15, 'shd': 7, 'pred_size': 23, 'n': 50, 'p': 1, 'd': 5, 'degree': 4, 'noise_type': 'EV', 'mlp': False, 'runtime': 11.572248220443726, 'model_name': 'GOLEMTS-EV'}\n",
      "{'fdr': 0.13636363636363635, 'tpr': 0.7916666666666666, 'fpr': 0.14285714285714285, 'shd': 7, 'pred_size': 22, 'n': 50, 'p': 1, 'd': 5, 'degree': 4, 'noise_type': 'EV', 'mlp': False, 'runtime': 18.47246789932251, 'model_name': 'GOLEMTS-EV'}\n",
      "{'fdr': 0.17857142857142858, 'tpr': 0.7931034482758621, 'fpr': 0.3125, 'shd': 10, 'pred_size': 28, 'n': 50, 'p': 1, 'd': 5, 'degree': 4, 'noise_type': 'EV', 'mlp': False, 'runtime': 8.758265018463135, 'model_name': 'GOLEMTS-EV'}\n",
      "{'fdr': 0.13636363636363635, 'tpr': 0.9047619047619048, 'fpr': 0.125, 'shd': 4, 'pred_size': 22, 'n': 500, 'p': 1, 'd': 5, 'degree': 4, 'noise_type': 'EV', 'mlp': False, 'runtime': 5.398911476135254, 'model_name': 'GOLEMTS-EV'}\n",
      "{'fdr': 0.25, 'tpr': 0.9, 'fpr': 0.24, 'shd': 7, 'pred_size': 24, 'n': 500, 'p': 1, 'd': 5, 'degree': 4, 'noise_type': 'EV', 'mlp': False, 'runtime': 8.625216245651245, 'model_name': 'GOLEMTS-EV'}\n",
      "{'fdr': 0.7368421052631579, 'tpr': 1.0, 'fpr': 0.35, 'shd': 14, 'pred_size': 19, 'n': 500, 'p': 1, 'd': 5, 'degree': 4, 'noise_type': 'EV', 'mlp': False, 'runtime': 2.5052950382232666, 'model_name': 'GOLEMTS-EV'}\n",
      "{'fdr': 0.7272727272727273, 'tpr': 0.8571428571428571, 'fpr': 0.42105263157894735, 'shd': 17, 'pred_size': 22, 'n': 500, 'p': 1, 'd': 5, 'degree': 4, 'noise_type': 'EV', 'mlp': False, 'runtime': 4.281928062438965, 'model_name': 'GOLEMTS-EV'}\n",
      "{'fdr': 0.3333333333333333, 'tpr': 0.9411764705882353, 'fpr': 0.2857142857142857, 'shd': 8, 'pred_size': 24, 'n': 500, 'p': 1, 'd': 5, 'degree': 4, 'noise_type': 'EV', 'mlp': False, 'runtime': 6.018953561782837, 'model_name': 'GOLEMTS-EV'}\n",
      "{'fdr': 0.2608695652173913, 'tpr': 0.8947368421052632, 'fpr': 0.23076923076923078, 'shd': 7, 'pred_size': 23, 'n': 500, 'p': 1, 'd': 5, 'degree': 4, 'noise_type': 'EV', 'mlp': False, 'runtime': 7.0627593994140625, 'model_name': 'GOLEMTS-EV'}\n",
      "{'fdr': 0.28, 'tpr': 0.9, 'fpr': 0.28, 'shd': 8, 'pred_size': 25, 'n': 500, 'p': 1, 'd': 5, 'degree': 4, 'noise_type': 'EV', 'mlp': False, 'runtime': 7.555883169174194, 'model_name': 'GOLEMTS-EV'}\n"
     ]
    },
    {
     "name": "stdout",
     "output_type": "stream",
     "text": [
      "{'fdr': 0.65, 'tpr': 1.0, 'fpr': 0.34210526315789475, 'shd': 13, 'pred_size': 20, 'n': 500, 'p': 1, 'd': 5, 'degree': 4, 'noise_type': 'EV', 'mlp': False, 'runtime': 4.498407602310181, 'model_name': 'GOLEMTS-EV'}\n",
      "{'fdr': 0.7727272727272727, 'tpr': 1.0, 'fpr': 0.425, 'shd': 17, 'pred_size': 22, 'n': 500, 'p': 1, 'd': 5, 'degree': 4, 'noise_type': 'EV', 'mlp': False, 'runtime': 2.6716551780700684, 'model_name': 'GOLEMTS-EV'}\n",
      "{'fdr': 0.16, 'tpr': 0.9130434782608695, 'fpr': 0.18181818181818182, 'shd': 5, 'pred_size': 25, 'n': 500, 'p': 1, 'd': 5, 'degree': 4, 'noise_type': 'EV', 'mlp': False, 'runtime': 5.111602067947388, 'model_name': 'GOLEMTS-EV'}\n"
     ]
    }
   ],
   "source": [
    "testing_one.test_all_methods(output_dir='testing02.jsonl')"
   ]
  },
  {
   "cell_type": "code",
   "execution_count": null,
   "id": "87b010e0",
   "metadata": {},
   "outputs": [],
   "source": []
  },
  {
   "cell_type": "code",
   "execution_count": null,
   "id": "b4e85866",
   "metadata": {},
   "outputs": [],
   "source": []
  }
 ],
 "metadata": {
  "kernelspec": {
   "display_name": "Python 3 (ipykernel)",
   "language": "python",
   "name": "python3"
  },
  "language_info": {
   "codemirror_mode": {
    "name": "ipython",
    "version": 3
   },
   "file_extension": ".py",
   "mimetype": "text/x-python",
   "name": "python",
   "nbconvert_exporter": "python",
   "pygments_lexer": "ipython3",
   "version": "3.9.5"
  }
 },
 "nbformat": 4,
 "nbformat_minor": 5
}
