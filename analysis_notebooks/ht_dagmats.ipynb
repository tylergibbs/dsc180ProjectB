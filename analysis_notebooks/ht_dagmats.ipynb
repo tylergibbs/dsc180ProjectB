{
 "cells": [
  {
   "cell_type": "code",
   "execution_count": 1,
   "metadata": {},
   "outputs": [],
   "source": [
    "from dagma import dagmats"
   ]
  },
  {
   "cell_type": "code",
   "execution_count": 7,
   "metadata": {},
   "outputs": [],
   "source": [
    "def dagma(lambda1, lambda2, lr, thresh):\n",
    "    from generate_data import SyntheticDataset\n",
    "    n, d, p = 1000, 5, 3\n",
    "    dag_obj = SyntheticDataset(n, d, p, B_scale=1.0, graph_type='ER', degree=2, A_scale=1.0, noise_type='EV', mlp=False)\n",
    "\n",
    "    A_true = dag_obj.A\n",
    "    X = dag_obj.X\n",
    "    Y = dag_obj.Y\n",
    "\n",
    "    eq_model = dagmats.DagmaTS(n=n, p=p, d=d)\n",
    "    model = dagmats.DagmaLinear(eq_model, verbose=False)\n",
    "    W_est = model.fit(X, Y, lambda1=lambda1, lambda2=lambda2, lr=lr, w_threshold=thresh)\n",
    "    return W_est, A_true"
   ]
  },
  {
   "cell_type": "code",
   "execution_count": 8,
   "metadata": {},
   "outputs": [],
   "source": [
    "def dagma_grid(lambda1_list, lambda2_list, lr_list, thresh_list):\n",
    "    out_list = []\n",
    "    for thresh in thresh_list:\n",
    "        for lambda1 in lambda1_list:\n",
    "            for lambda2 in lambda2_list:\n",
    "                for lr in lr_list:\n",
    "                    out_list.append({\n",
    "                        'thresh': thresh,\n",
    "                        'lambda1': lambda1,\n",
    "                        'lambda2': lambda2,\n",
    "                        'lr': lr\n",
    "                    })\n",
    "    return out_list\n"
   ]
  },
  {
   "cell_type": "code",
   "execution_count": 12,
   "metadata": {},
   "outputs": [],
   "source": [
    "grid = dagma_grid(\n",
    "    lambda1_list=[0.02, 0.05, 0.1, 0.2],\n",
    "    lambda2_list=[0.005, 0.01, 0.03],\n",
    "    lr_list=[0.001, 0.005, 0.01],\n",
    "    thresh_list=[0.01, 0.1, 0.2, 0.3]\n",
    ")"
   ]
  },
  {
   "cell_type": "code",
   "execution_count": 13,
   "metadata": {},
   "outputs": [],
   "source": [
    "import grid_search"
   ]
  },
  {
   "cell_type": "code",
   "execution_count": 14,
   "metadata": {},
   "outputs": [
    {
     "data": {
      "application/vnd.jupyter.widget-view+json": {
       "model_id": "91fd343fc6824894b5428f9952cf55d2",
       "version_major": 2,
       "version_minor": 0
      },
      "text/plain": [
       "  0%|          | 0/230000.0 [00:00<?, ?it/s]"
      ]
     },
     "metadata": {},
     "output_type": "display_data"
    },
    {
     "name": "stdout",
     "output_type": "stream",
     "text": [
      "{'fdr': 0.0, 'tpr': 0.4318181818181818, 'fpr': 0.0, 'shd': 25, 'pred_size': 19, 'thresh': 0.01, 'lambda1': 0.02, 'lambda2': 0.005, 'lr': 0.001}\n"
     ]
    },
    {
     "data": {
      "application/vnd.jupyter.widget-view+json": {
       "model_id": "ee1986f5120b43e891649aff7873a1df",
       "version_major": 2,
       "version_minor": 0
      },
      "text/plain": [
       "  0%|          | 0/230000.0 [00:00<?, ?it/s]"
      ]
     },
     "metadata": {},
     "output_type": "display_data"
    },
    {
     "name": "stdout",
     "output_type": "stream",
     "text": [
      "{'fdr': 0.0, 'tpr': 0.4634146341463415, 'fpr': 0.0, 'shd': 22, 'pred_size': 19, 'thresh': 0.01, 'lambda1': 0.02, 'lambda2': 0.005, 'lr': 0.005}\n"
     ]
    },
    {
     "data": {
      "application/vnd.jupyter.widget-view+json": {
       "model_id": "b48dbef8c31646c5bb60278e562b4003",
       "version_major": 2,
       "version_minor": 0
      },
      "text/plain": [
       "  0%|          | 0/230000.0 [00:00<?, ?it/s]"
      ]
     },
     "metadata": {},
     "output_type": "display_data"
    },
    {
     "name": "stdout",
     "output_type": "stream",
     "text": [
      "{'fdr': 0.05555555555555555, 'tpr': 0.38636363636363635, 'fpr': 0.00684931506849315, 'shd': 27, 'pred_size': 18, 'thresh': 0.01, 'lambda1': 0.02, 'lambda2': 0.005, 'lr': 0.01}\n"
     ]
    },
    {
     "data": {
      "application/vnd.jupyter.widget-view+json": {
       "model_id": "250e4549ab0a416ea0d57d0d87cb87f5",
       "version_major": 2,
       "version_minor": 0
      },
      "text/plain": [
       "  0%|          | 0/230000.0 [00:00<?, ?it/s]"
      ]
     },
     "metadata": {},
     "output_type": "display_data"
    },
    {
     "name": "stdout",
     "output_type": "stream",
     "text": [
      "{'fdr': 0.0, 'tpr': 0.38461538461538464, 'fpr': 0.0, 'shd': 24, 'pred_size': 15, 'thresh': 0.01, 'lambda1': 0.02, 'lambda2': 0.01, 'lr': 0.001}\n"
     ]
    },
    {
     "data": {
      "application/vnd.jupyter.widget-view+json": {
       "model_id": "c87197273e9747beb68e371695b07347",
       "version_major": 2,
       "version_minor": 0
      },
      "text/plain": [
       "  0%|          | 0/230000.0 [00:00<?, ?it/s]"
      ]
     },
     "metadata": {},
     "output_type": "display_data"
    },
    {
     "name": "stdout",
     "output_type": "stream",
     "text": [
      "{'fdr': 0.0, 'tpr': 0.37777777777777777, 'fpr': 0.0, 'shd': 28, 'pred_size': 17, 'thresh': 0.01, 'lambda1': 0.02, 'lambda2': 0.01, 'lr': 0.005}\n"
     ]
    },
    {
     "data": {
      "application/vnd.jupyter.widget-view+json": {
       "model_id": "5a63ec67a28c47d4bf93d6310a33d71e",
       "version_major": 2,
       "version_minor": 0
      },
      "text/plain": [
       "  0%|          | 0/230000.0 [00:00<?, ?it/s]"
      ]
     },
     "metadata": {},
     "output_type": "display_data"
    },
    {
     "name": "stdout",
     "output_type": "stream",
     "text": [
      "{'fdr': 0.0, 'tpr': 0.4883720930232558, 'fpr': 0.0, 'shd': 22, 'pred_size': 21, 'thresh': 0.01, 'lambda1': 0.02, 'lambda2': 0.01, 'lr': 0.01}\n"
     ]
    },
    {
     "data": {
      "application/vnd.jupyter.widget-view+json": {
       "model_id": "c493a32fc5f743cb9798a883a028c720",
       "version_major": 2,
       "version_minor": 0
      },
      "text/plain": [
       "  0%|          | 0/230000.0 [00:00<?, ?it/s]"
      ]
     },
     "metadata": {},
     "output_type": "display_data"
    },
    {
     "name": "stdout",
     "output_type": "stream",
     "text": [
      "{'fdr': 0.0, 'tpr': 0.5, 'fpr': 0.0, 'shd': 26, 'pred_size': 26, 'thresh': 0.01, 'lambda1': 0.02, 'lambda2': 0.03, 'lr': 0.001}\n"
     ]
    },
    {
     "data": {
      "application/vnd.jupyter.widget-view+json": {
       "model_id": "643c924c9752478491f55dfeb5740622",
       "version_major": 2,
       "version_minor": 0
      },
      "text/plain": [
       "  0%|          | 0/230000.0 [00:00<?, ?it/s]"
      ]
     },
     "metadata": {},
     "output_type": "display_data"
    },
    {
     "name": "stdout",
     "output_type": "stream",
     "text": [
      "{'fdr': 0.05555555555555555, 'tpr': 0.3269230769230769, 'fpr': 0.007246376811594203, 'shd': 35, 'pred_size': 18, 'thresh': 0.01, 'lambda1': 0.02, 'lambda2': 0.03, 'lr': 0.005}\n"
     ]
    },
    {
     "data": {
      "application/vnd.jupyter.widget-view+json": {
       "model_id": "0924c0b880694aeab37f30eb3616f078",
       "version_major": 2,
       "version_minor": 0
      },
      "text/plain": [
       "  0%|          | 0/230000.0 [00:00<?, ?it/s]"
      ]
     },
     "metadata": {},
     "output_type": "display_data"
    },
    {
     "name": "stdout",
     "output_type": "stream",
     "text": [
      "{'fdr': 0.125, 'tpr': 0.34146341463414637, 'fpr': 0.013422818791946308, 'shd': 27, 'pred_size': 16, 'thresh': 0.01, 'lambda1': 0.02, 'lambda2': 0.03, 'lr': 0.01}\n"
     ]
    },
    {
     "data": {
      "application/vnd.jupyter.widget-view+json": {
       "model_id": "0f43ea5944fd45bb8a088dbbb0c298f3",
       "version_major": 2,
       "version_minor": 0
      },
      "text/plain": [
       "  0%|          | 0/230000.0 [00:00<?, ?it/s]"
      ]
     },
     "metadata": {},
     "output_type": "display_data"
    },
    {
     "name": "stdout",
     "output_type": "stream",
     "text": [
      "{'fdr': 0.0, 'tpr': 0.7391304347826086, 'fpr': 0.0, 'shd': 6, 'pred_size': 17, 'thresh': 0.01, 'lambda1': 0.05, 'lambda2': 0.005, 'lr': 0.001}\n"
     ]
    },
    {
     "data": {
      "application/vnd.jupyter.widget-view+json": {
       "model_id": "2b468f1996aa41aab912f4ef4390fc0b",
       "version_major": 2,
       "version_minor": 0
      },
      "text/plain": [
       "  0%|          | 0/230000.0 [00:00<?, ?it/s]"
      ]
     },
     "metadata": {},
     "output_type": "display_data"
    },
    {
     "name": "stdout",
     "output_type": "stream",
     "text": [
      "{'fdr': 0.0, 'tpr': 0.6086956521739131, 'fpr': 0.0, 'shd': 9, 'pred_size': 14, 'thresh': 0.01, 'lambda1': 0.05, 'lambda2': 0.005, 'lr': 0.005}\n"
     ]
    },
    {
     "data": {
      "application/vnd.jupyter.widget-view+json": {
       "model_id": "3e7d51ecb25b4cbebacefa052b9062b5",
       "version_major": 2,
       "version_minor": 0
      },
      "text/plain": [
       "  0%|          | 0/230000.0 [00:00<?, ?it/s]"
      ]
     },
     "metadata": {},
     "output_type": "display_data"
    },
    {
     "name": "stdout",
     "output_type": "stream",
     "text": [
      "{'fdr': 0.08333333333333333, 'tpr': 0.6111111111111112, 'fpr': 0.012987012987012988, 'shd': 14, 'pred_size': 24, 'thresh': 0.01, 'lambda1': 0.05, 'lambda2': 0.005, 'lr': 0.01}\n"
     ]
    },
    {
     "data": {
      "application/vnd.jupyter.widget-view+json": {
       "model_id": "6e89a555638742c9bb2087339a771ceb",
       "version_major": 2,
       "version_minor": 0
      },
      "text/plain": [
       "  0%|          | 0/230000.0 [00:00<?, ?it/s]"
      ]
     },
     "metadata": {},
     "output_type": "display_data"
    },
    {
     "name": "stdout",
     "output_type": "stream",
     "text": [
      "{'fdr': 0.0, 'tpr': 0.88, 'fpr': 0.0, 'shd': 3, 'pred_size': 22, 'thresh': 0.01, 'lambda1': 0.05, 'lambda2': 0.01, 'lr': 0.001}\n"
     ]
    },
    {
     "data": {
      "application/vnd.jupyter.widget-view+json": {
       "model_id": "a24b3081769047fb94bd7082d04bf460",
       "version_major": 2,
       "version_minor": 0
      },
      "text/plain": [
       "  0%|          | 0/230000.0 [00:00<?, ?it/s]"
      ]
     },
     "metadata": {},
     "output_type": "display_data"
    },
    {
     "name": "stdout",
     "output_type": "stream",
     "text": [
      "{'fdr': 0.0, 'tpr': 0.75, 'fpr': 0.0, 'shd': 4, 'pred_size': 12, 'thresh': 0.01, 'lambda1': 0.05, 'lambda2': 0.01, 'lr': 0.005}\n"
     ]
    },
    {
     "data": {
      "application/vnd.jupyter.widget-view+json": {
       "model_id": "99c909752e6f436cb32b395945e48626",
       "version_major": 2,
       "version_minor": 0
      },
      "text/plain": [
       "  0%|          | 0/230000.0 [00:00<?, ?it/s]"
      ]
     },
     "metadata": {},
     "output_type": "display_data"
    },
    {
     "name": "stdout",
     "output_type": "stream",
     "text": [
      "{'fdr': 0.058823529411764705, 'tpr': 0.5714285714285714, 'fpr': 0.006172839506172839, 'shd': 12, 'pred_size': 17, 'thresh': 0.01, 'lambda1': 0.05, 'lambda2': 0.01, 'lr': 0.01}\n"
     ]
    },
    {
     "data": {
      "application/vnd.jupyter.widget-view+json": {
       "model_id": "10324b86dc904bc89d9cbec316ba3611",
       "version_major": 2,
       "version_minor": 0
      },
      "text/plain": [
       "  0%|          | 0/230000.0 [00:00<?, ?it/s]"
      ]
     },
     "metadata": {},
     "output_type": "display_data"
    },
    {
     "name": "stdout",
     "output_type": "stream",
     "text": [
      "{'fdr': 0.0, 'tpr': 0.7727272727272727, 'fpr': 0.0, 'shd': 5, 'pred_size': 17, 'thresh': 0.01, 'lambda1': 0.05, 'lambda2': 0.03, 'lr': 0.001}\n"
     ]
    },
    {
     "data": {
      "application/vnd.jupyter.widget-view+json": {
       "model_id": "d32319c9f9ba4844b0405650e671cf97",
       "version_major": 2,
       "version_minor": 0
      },
      "text/plain": [
       "  0%|          | 0/230000.0 [00:00<?, ?it/s]"
      ]
     },
     "metadata": {},
     "output_type": "display_data"
    },
    {
     "name": "stdout",
     "output_type": "stream",
     "text": [
      "{'fdr': 0.0, 'tpr': 0.7777777777777778, 'fpr': 0.0, 'shd': 6, 'pred_size': 21, 'thresh': 0.01, 'lambda1': 0.05, 'lambda2': 0.03, 'lr': 0.005}\n"
     ]
    },
    {
     "data": {
      "application/vnd.jupyter.widget-view+json": {
       "model_id": "673e44e7640e4e0d829dd42aa975fb9e",
       "version_major": 2,
       "version_minor": 0
      },
      "text/plain": [
       "  0%|          | 0/230000.0 [00:00<?, ?it/s]"
      ]
     },
     "metadata": {},
     "output_type": "display_data"
    },
    {
     "name": "stdout",
     "output_type": "stream",
     "text": [
      "{'fdr': 0.13333333333333333, 'tpr': 0.52, 'fpr': 0.012121212121212121, 'shd': 12, 'pred_size': 15, 'thresh': 0.01, 'lambda1': 0.05, 'lambda2': 0.03, 'lr': 0.01}\n"
     ]
    },
    {
     "data": {
      "application/vnd.jupyter.widget-view+json": {
       "model_id": "396f88496d5345af8a2f5e66acbb664a",
       "version_major": 2,
       "version_minor": 0
      },
      "text/plain": [
       "  0%|          | 0/230000.0 [00:00<?, ?it/s]"
      ]
     },
     "metadata": {},
     "output_type": "display_data"
    },
    {
     "name": "stdout",
     "output_type": "stream",
     "text": [
      "{'fdr': 0.0, 'tpr': 0.9473684210526315, 'fpr': 0.0, 'shd': 1, 'pred_size': 18, 'thresh': 0.01, 'lambda1': 0.1, 'lambda2': 0.005, 'lr': 0.001}\n"
     ]
    },
    {
     "data": {
      "application/vnd.jupyter.widget-view+json": {
       "model_id": "aec6c42dedd74bd994e4a6d74e774ca7",
       "version_major": 2,
       "version_minor": 0
      },
      "text/plain": [
       "  0%|          | 0/230000.0 [00:00<?, ?it/s]"
      ]
     },
     "metadata": {},
     "output_type": "display_data"
    },
    {
     "name": "stdout",
     "output_type": "stream",
     "text": [
      "{'fdr': 0.07142857142857142, 'tpr': 0.7647058823529411, 'fpr': 0.005780346820809248, 'shd': 4, 'pred_size': 14, 'thresh': 0.01, 'lambda1': 0.1, 'lambda2': 0.005, 'lr': 0.005}\n"
     ]
    },
    {
     "data": {
      "application/vnd.jupyter.widget-view+json": {
       "model_id": "daaad26e2e064d1e98dbae527b20224c",
       "version_major": 2,
       "version_minor": 0
      },
      "text/plain": [
       "  0%|          | 0/230000.0 [00:00<?, ?it/s]"
      ]
     },
     "metadata": {},
     "output_type": "display_data"
    },
    {
     "name": "stdout",
     "output_type": "stream",
     "text": [
      "{'fdr': 0.17647058823529413, 'tpr': 0.6086956521739131, 'fpr': 0.017964071856287425, 'shd': 10, 'pred_size': 17, 'thresh': 0.01, 'lambda1': 0.1, 'lambda2': 0.005, 'lr': 0.01}\n"
     ]
    },
    {
     "data": {
      "application/vnd.jupyter.widget-view+json": {
       "model_id": "ab2f3e3b07834fe294f89d092a34ce8c",
       "version_major": 2,
       "version_minor": 0
      },
      "text/plain": [
       "  0%|          | 0/230000.0 [00:00<?, ?it/s]"
      ]
     },
     "metadata": {},
     "output_type": "display_data"
    },
    {
     "name": "stdout",
     "output_type": "stream",
     "text": [
      "{'fdr': 0.0, 'tpr': 0.85, 'fpr': 0.0, 'shd': 3, 'pred_size': 17, 'thresh': 0.01, 'lambda1': 0.1, 'lambda2': 0.01, 'lr': 0.001}\n"
     ]
    },
    {
     "data": {
      "application/vnd.jupyter.widget-view+json": {
       "model_id": "4ebce3c7878f42438d74f78691b5ede0",
       "version_major": 2,
       "version_minor": 0
      },
      "text/plain": [
       "  0%|          | 0/230000.0 [00:00<?, ?it/s]"
      ]
     },
     "metadata": {},
     "output_type": "display_data"
    },
    {
     "name": "stdout",
     "output_type": "stream",
     "text": [
      "{'fdr': 0.0, 'tpr': 0.9, 'fpr': 0.0, 'shd': 2, 'pred_size': 18, 'thresh': 0.01, 'lambda1': 0.1, 'lambda2': 0.01, 'lr': 0.005}\n"
     ]
    },
    {
     "data": {
      "application/vnd.jupyter.widget-view+json": {
       "model_id": "bf091b08ab2e4519bf056ca62d3751c6",
       "version_major": 2,
       "version_minor": 0
      },
      "text/plain": [
       "  0%|          | 0/230000.0 [00:00<?, ?it/s]"
      ]
     },
     "metadata": {},
     "output_type": "display_data"
    },
    {
     "name": "stdout",
     "output_type": "stream",
     "text": [
      "{'fdr': 0.041666666666666664, 'tpr': 0.7931034482758621, 'fpr': 0.006211180124223602, 'shd': 6, 'pred_size': 24, 'thresh': 0.01, 'lambda1': 0.1, 'lambda2': 0.01, 'lr': 0.01}\n"
     ]
    },
    {
     "data": {
      "application/vnd.jupyter.widget-view+json": {
       "model_id": "7de8f8f6f6e942eab89845a89000c494",
       "version_major": 2,
       "version_minor": 0
      },
      "text/plain": [
       "  0%|          | 0/230000.0 [00:00<?, ?it/s]"
      ]
     },
     "metadata": {},
     "output_type": "display_data"
    },
    {
     "name": "stdout",
     "output_type": "stream",
     "text": [
      "{'fdr': 0.0, 'tpr': 0.9047619047619048, 'fpr': 0.0, 'shd': 2, 'pred_size': 19, 'thresh': 0.01, 'lambda1': 0.1, 'lambda2': 0.03, 'lr': 0.001}\n"
     ]
    },
    {
     "data": {
      "application/vnd.jupyter.widget-view+json": {
       "model_id": "b0f2c258e4a54d898f43fe1bf3b37889",
       "version_major": 2,
       "version_minor": 0
      },
      "text/plain": [
       "  0%|          | 0/230000.0 [00:00<?, ?it/s]"
      ]
     },
     "metadata": {},
     "output_type": "display_data"
    },
    {
     "name": "stdout",
     "output_type": "stream",
     "text": [
      "{'fdr': 0.0, 'tpr': 0.9090909090909091, 'fpr': 0.0, 'shd': 2, 'pred_size': 20, 'thresh': 0.01, 'lambda1': 0.1, 'lambda2': 0.03, 'lr': 0.005}\n"
     ]
    },
    {
     "data": {
      "application/vnd.jupyter.widget-view+json": {
       "model_id": "94550c8c2c84454fb2f79b741d854100",
       "version_major": 2,
       "version_minor": 0
      },
      "text/plain": [
       "  0%|          | 0/230000.0 [00:00<?, ?it/s]"
      ]
     },
     "metadata": {},
     "output_type": "display_data"
    },
    {
     "name": "stdout",
     "output_type": "stream",
     "text": [
      "{'fdr': 0.1111111111111111, 'tpr': 0.6956521739130435, 'fpr': 0.011976047904191617, 'shd': 7, 'pred_size': 18, 'thresh': 0.01, 'lambda1': 0.1, 'lambda2': 0.03, 'lr': 0.01}\n"
     ]
    },
    {
     "data": {
      "application/vnd.jupyter.widget-view+json": {
       "model_id": "04d7b6cd93a54fda963c99f6d6eedfd7",
       "version_major": 2,
       "version_minor": 0
      },
      "text/plain": [
       "  0%|          | 0/230000.0 [00:00<?, ?it/s]"
      ]
     },
     "metadata": {},
     "output_type": "display_data"
    },
    {
     "name": "stdout",
     "output_type": "stream",
     "text": [
      "{'fdr': 0.3125, 'tpr': 0.7857142857142857, 'fpr': 0.028409090909090908, 'shd': 6, 'pred_size': 16, 'thresh': 0.01, 'lambda1': 0.2, 'lambda2': 0.005, 'lr': 0.001}\n"
     ]
    },
    {
     "data": {
      "application/vnd.jupyter.widget-view+json": {
       "model_id": "e8691c3a244c41c2878ee1f05e01fe97",
       "version_major": 2,
       "version_minor": 0
      },
      "text/plain": [
       "  0%|          | 0/230000.0 [00:00<?, ?it/s]"
      ]
     },
     "metadata": {},
     "output_type": "display_data"
    },
    {
     "name": "stdout",
     "output_type": "stream",
     "text": [
      "{'fdr': 0.16666666666666666, 'tpr': 0.7894736842105263, 'fpr': 0.017543859649122806, 'shd': 5, 'pred_size': 18, 'thresh': 0.01, 'lambda1': 0.2, 'lambda2': 0.005, 'lr': 0.005}\n"
     ]
    },
    {
     "data": {
      "application/vnd.jupyter.widget-view+json": {
       "model_id": "07e038a30ee34737a066f270de81babc",
       "version_major": 2,
       "version_minor": 0
      },
      "text/plain": [
       "  0%|          | 0/230000.0 [00:00<?, ?it/s]"
      ]
     },
     "metadata": {},
     "output_type": "display_data"
    },
    {
     "name": "stdout",
     "output_type": "stream",
     "text": [
      "{'fdr': 0.7058823529411765, 'tpr': 0.4166666666666667, 'fpr': 0.06741573033707865, 'shd': 14, 'pred_size': 17, 'thresh': 0.01, 'lambda1': 0.2, 'lambda2': 0.005, 'lr': 0.01}\n"
     ]
    },
    {
     "data": {
      "application/vnd.jupyter.widget-view+json": {
       "model_id": "a81f8dd3b3b24413be96a6bcb53755e7",
       "version_major": 2,
       "version_minor": 0
      },
      "text/plain": [
       "  0%|          | 0/230000.0 [00:00<?, ?it/s]"
      ]
     },
     "metadata": {},
     "output_type": "display_data"
    },
    {
     "name": "stdout",
     "output_type": "stream",
     "text": [
      "{'fdr': 0.3125, 'tpr': 0.6875, 'fpr': 0.028735632183908046, 'shd': 8, 'pred_size': 16, 'thresh': 0.01, 'lambda1': 0.2, 'lambda2': 0.01, 'lr': 0.001}\n"
     ]
    },
    {
     "data": {
      "application/vnd.jupyter.widget-view+json": {
       "model_id": "34a657c8426c49b2a286e4002bc3c198",
       "version_major": 2,
       "version_minor": 0
      },
      "text/plain": [
       "  0%|          | 0/230000.0 [00:00<?, ?it/s]"
      ]
     },
     "metadata": {},
     "output_type": "display_data"
    },
    {
     "name": "stdout",
     "output_type": "stream",
     "text": [
      "{'fdr': 0.25, 'tpr': 0.6923076923076923, 'fpr': 0.01694915254237288, 'shd': 4, 'pred_size': 12, 'thresh': 0.01, 'lambda1': 0.2, 'lambda2': 0.01, 'lr': 0.005}\n"
     ]
    },
    {
     "data": {
      "application/vnd.jupyter.widget-view+json": {
       "model_id": "7f7b88cf19dc4b648c939e687258be45",
       "version_major": 2,
       "version_minor": 0
      },
      "text/plain": [
       "  0%|          | 0/230000.0 [00:00<?, ?it/s]"
      ]
     },
     "metadata": {},
     "output_type": "display_data"
    },
    {
     "name": "stdout",
     "output_type": "stream",
     "text": [
      "{'fdr': 0.25, 'tpr': 0.75, 'fpr': 0.022988505747126436, 'shd': 5, 'pred_size': 16, 'thresh': 0.01, 'lambda1': 0.2, 'lambda2': 0.01, 'lr': 0.01}\n"
     ]
    },
    {
     "data": {
      "application/vnd.jupyter.widget-view+json": {
       "model_id": "cff921a33aef44d8aa9867cc569cf033",
       "version_major": 2,
       "version_minor": 0
      },
      "text/plain": [
       "  0%|          | 0/230000.0 [00:00<?, ?it/s]"
      ]
     },
     "metadata": {},
     "output_type": "display_data"
    },
    {
     "name": "stdout",
     "output_type": "stream",
     "text": [
      "{'fdr': 0.35, 'tpr': 0.7647058823529411, 'fpr': 0.04046242774566474, 'shd': 8, 'pred_size': 20, 'thresh': 0.01, 'lambda1': 0.2, 'lambda2': 0.03, 'lr': 0.001}\n"
     ]
    },
    {
     "data": {
      "application/vnd.jupyter.widget-view+json": {
       "model_id": "663e9d6251be4f3999d7d3ef93bbf4a4",
       "version_major": 2,
       "version_minor": 0
      },
      "text/plain": [
       "  0%|          | 0/230000.0 [00:00<?, ?it/s]"
      ]
     },
     "metadata": {},
     "output_type": "display_data"
    },
    {
     "name": "stdout",
     "output_type": "stream",
     "text": [
      "{'fdr': 0.2857142857142857, 'tpr': 0.7142857142857143, 'fpr': 0.022727272727272728, 'shd': 5, 'pred_size': 14, 'thresh': 0.01, 'lambda1': 0.2, 'lambda2': 0.03, 'lr': 0.005}\n"
     ]
    },
    {
     "data": {
      "application/vnd.jupyter.widget-view+json": {
       "model_id": "9e77303714464840bb21f3405b16af70",
       "version_major": 2,
       "version_minor": 0
      },
      "text/plain": [
       "  0%|          | 0/230000.0 [00:00<?, ?it/s]"
      ]
     },
     "metadata": {},
     "output_type": "display_data"
    },
    {
     "name": "stdout",
     "output_type": "stream",
     "text": [
      "{'fdr': 0.6111111111111112, 'tpr': 0.4117647058823529, 'fpr': 0.06358381502890173, 'shd': 16, 'pred_size': 18, 'thresh': 0.01, 'lambda1': 0.2, 'lambda2': 0.03, 'lr': 0.01}\n"
     ]
    },
    {
     "data": {
      "application/vnd.jupyter.widget-view+json": {
       "model_id": "374fda3e979e41eb8eef9eb6e10dfd18",
       "version_major": 2,
       "version_minor": 0
      },
      "text/plain": [
       "  0%|          | 0/230000.0 [00:00<?, ?it/s]"
      ]
     },
     "metadata": {},
     "output_type": "display_data"
    },
    {
     "name": "stdout",
     "output_type": "stream",
     "text": [
      "{'fdr': 0.0, 'tpr': 1.0, 'fpr': 0.0, 'shd': 0, 'pred_size': 17, 'thresh': 0.1, 'lambda1': 0.02, 'lambda2': 0.005, 'lr': 0.001}\n"
     ]
    },
    {
     "data": {
      "application/vnd.jupyter.widget-view+json": {
       "model_id": "04b5c3588f5d4f15ba07c80fd23c2eba",
       "version_major": 2,
       "version_minor": 0
      },
      "text/plain": [
       "  0%|          | 0/230000.0 [00:00<?, ?it/s]"
      ]
     },
     "metadata": {},
     "output_type": "display_data"
    },
    {
     "name": "stdout",
     "output_type": "stream",
     "text": [
      "{'fdr': 0.0, 'tpr': 1.0, 'fpr': 0.0, 'shd': 0, 'pred_size': 19, 'thresh': 0.1, 'lambda1': 0.02, 'lambda2': 0.005, 'lr': 0.005}\n"
     ]
    },
    {
     "data": {
      "application/vnd.jupyter.widget-view+json": {
       "model_id": "13153ea9c4aa4bb08c95e9ab3de40496",
       "version_major": 2,
       "version_minor": 0
      },
      "text/plain": [
       "  0%|          | 0/230000.0 [00:00<?, ?it/s]"
      ]
     },
     "metadata": {},
     "output_type": "display_data"
    },
    {
     "name": "stdout",
     "output_type": "stream",
     "text": [
      "{'fdr': 0.10526315789473684, 'tpr': 0.6538461538461539, 'fpr': 0.012195121951219513, 'shd': 9, 'pred_size': 19, 'thresh': 0.1, 'lambda1': 0.02, 'lambda2': 0.005, 'lr': 0.01}\n"
     ]
    },
    {
     "data": {
      "application/vnd.jupyter.widget-view+json": {
       "model_id": "d5c04f64e21a46638233d010d46a82d9",
       "version_major": 2,
       "version_minor": 0
      },
      "text/plain": [
       "  0%|          | 0/230000.0 [00:00<?, ?it/s]"
      ]
     },
     "metadata": {},
     "output_type": "display_data"
    },
    {
     "name": "stdout",
     "output_type": "stream",
     "text": [
      "{'fdr': 0.0, 'tpr': 1.0, 'fpr': 0.0, 'shd': 0, 'pred_size': 17, 'thresh': 0.1, 'lambda1': 0.02, 'lambda2': 0.01, 'lr': 0.001}\n"
     ]
    },
    {
     "data": {
      "application/vnd.jupyter.widget-view+json": {
       "model_id": "2222905f262b4b80a7871a56ba329872",
       "version_major": 2,
       "version_minor": 0
      },
      "text/plain": [
       "  0%|          | 0/230000.0 [00:00<?, ?it/s]"
      ]
     },
     "metadata": {},
     "output_type": "display_data"
    },
    {
     "name": "stdout",
     "output_type": "stream",
     "text": [
      "{'fdr': 0.0, 'tpr': 0.9411764705882353, 'fpr': 0.0, 'shd': 1, 'pred_size': 16, 'thresh': 0.1, 'lambda1': 0.02, 'lambda2': 0.01, 'lr': 0.005}\n"
     ]
    },
    {
     "data": {
      "application/vnd.jupyter.widget-view+json": {
       "model_id": "556473303ca545ca84bad95ad706df79",
       "version_major": 2,
       "version_minor": 0
      },
      "text/plain": [
       "  0%|          | 0/230000.0 [00:00<?, ?it/s]"
      ]
     },
     "metadata": {},
     "output_type": "display_data"
    },
    {
     "name": "stdout",
     "output_type": "stream",
     "text": [
      "{'fdr': 0.0, 'tpr': 0.8571428571428571, 'fpr': 0.0, 'shd': 2, 'pred_size': 12, 'thresh': 0.1, 'lambda1': 0.02, 'lambda2': 0.01, 'lr': 0.01}\n"
     ]
    },
    {
     "data": {
      "application/vnd.jupyter.widget-view+json": {
       "model_id": "f88bef6193a146639714171961e644d7",
       "version_major": 2,
       "version_minor": 0
      },
      "text/plain": [
       "  0%|          | 0/230000.0 [00:00<?, ?it/s]"
      ]
     },
     "metadata": {},
     "output_type": "display_data"
    },
    {
     "name": "stdout",
     "output_type": "stream",
     "text": [
      "{'fdr': 0.0, 'tpr': 1.0, 'fpr': 0.0, 'shd': 0, 'pred_size': 23, 'thresh': 0.1, 'lambda1': 0.02, 'lambda2': 0.03, 'lr': 0.001}\n"
     ]
    },
    {
     "data": {
      "application/vnd.jupyter.widget-view+json": {
       "model_id": "62d22ed0229a4ff587762053742fea71",
       "version_major": 2,
       "version_minor": 0
      },
      "text/plain": [
       "  0%|          | 0/230000.0 [00:00<?, ?it/s]"
      ]
     },
     "metadata": {},
     "output_type": "display_data"
    },
    {
     "name": "stdout",
     "output_type": "stream",
     "text": [
      "{'fdr': 0.0, 'tpr': 0.9565217391304348, 'fpr': 0.0, 'shd': 1, 'pred_size': 22, 'thresh': 0.1, 'lambda1': 0.02, 'lambda2': 0.03, 'lr': 0.005}\n"
     ]
    },
    {
     "data": {
      "application/vnd.jupyter.widget-view+json": {
       "model_id": "199ad47af9f6467585769875445cd46a",
       "version_major": 2,
       "version_minor": 0
      },
      "text/plain": [
       "  0%|          | 0/230000.0 [00:00<?, ?it/s]"
      ]
     },
     "metadata": {},
     "output_type": "display_data"
    },
    {
     "name": "stdout",
     "output_type": "stream",
     "text": [
      "{'fdr': 0.125, 'tpr': 0.6086956521739131, 'fpr': 0.011976047904191617, 'shd': 9, 'pred_size': 16, 'thresh': 0.1, 'lambda1': 0.02, 'lambda2': 0.03, 'lr': 0.01}\n"
     ]
    },
    {
     "data": {
      "application/vnd.jupyter.widget-view+json": {
       "model_id": "ba93cc922c4141ac9902dca83d9e3308",
       "version_major": 2,
       "version_minor": 0
      },
      "text/plain": [
       "  0%|          | 0/230000.0 [00:00<?, ?it/s]"
      ]
     },
     "metadata": {},
     "output_type": "display_data"
    },
    {
     "name": "stdout",
     "output_type": "stream",
     "text": [
      "{'fdr': 0.0, 'tpr': 0.9473684210526315, 'fpr': 0.0, 'shd': 1, 'pred_size': 18, 'thresh': 0.1, 'lambda1': 0.05, 'lambda2': 0.005, 'lr': 0.001}\n"
     ]
    },
    {
     "data": {
      "application/vnd.jupyter.widget-view+json": {
       "model_id": "9e473709f1c7475fa18d057bac413214",
       "version_major": 2,
       "version_minor": 0
      },
      "text/plain": [
       "  0%|          | 0/230000.0 [00:00<?, ?it/s]"
      ]
     },
     "metadata": {},
     "output_type": "display_data"
    },
    {
     "name": "stdout",
     "output_type": "stream",
     "text": [
      "{'fdr': 0.0, 'tpr': 0.9583333333333334, 'fpr': 0.0, 'shd': 1, 'pred_size': 23, 'thresh': 0.1, 'lambda1': 0.05, 'lambda2': 0.005, 'lr': 0.005}\n"
     ]
    },
    {
     "data": {
      "application/vnd.jupyter.widget-view+json": {
       "model_id": "89d3b1e1d64248e49c88632ad85be42f",
       "version_major": 2,
       "version_minor": 0
      },
      "text/plain": [
       "  0%|          | 0/230000.0 [00:00<?, ?it/s]"
      ]
     },
     "metadata": {},
     "output_type": "display_data"
    },
    {
     "name": "stdout",
     "output_type": "stream",
     "text": [
      "{'fdr': 0.047619047619047616, 'tpr': 0.8695652173913043, 'fpr': 0.005988023952095809, 'shd': 3, 'pred_size': 21, 'thresh': 0.1, 'lambda1': 0.05, 'lambda2': 0.005, 'lr': 0.01}\n"
     ]
    },
    {
     "data": {
      "application/vnd.jupyter.widget-view+json": {
       "model_id": "0e156ffd64b547f8846d79f1d00f5002",
       "version_major": 2,
       "version_minor": 0
      },
      "text/plain": [
       "  0%|          | 0/230000.0 [00:00<?, ?it/s]"
      ]
     },
     "metadata": {},
     "output_type": "display_data"
    },
    {
     "name": "stdout",
     "output_type": "stream",
     "text": [
      "{'fdr': 0.0, 'tpr': 1.0, 'fpr': 0.0, 'shd': 0, 'pred_size': 18, 'thresh': 0.1, 'lambda1': 0.05, 'lambda2': 0.01, 'lr': 0.001}\n"
     ]
    },
    {
     "data": {
      "application/vnd.jupyter.widget-view+json": {
       "model_id": "2fc6d98a36424e299fcdc3ae95e4ec12",
       "version_major": 2,
       "version_minor": 0
      },
      "text/plain": [
       "  0%|          | 0/230000.0 [00:00<?, ?it/s]"
      ]
     },
     "metadata": {},
     "output_type": "display_data"
    },
    {
     "name": "stdout",
     "output_type": "stream",
     "text": [
      "{'fdr': 0.0, 'tpr': 0.9545454545454546, 'fpr': 0.0, 'shd': 1, 'pred_size': 21, 'thresh': 0.1, 'lambda1': 0.05, 'lambda2': 0.01, 'lr': 0.005}\n"
     ]
    },
    {
     "data": {
      "application/vnd.jupyter.widget-view+json": {
       "model_id": "4d662678fd6e40be803cc51909d2f19d",
       "version_major": 2,
       "version_minor": 0
      },
      "text/plain": [
       "  0%|          | 0/230000.0 [00:00<?, ?it/s]"
      ]
     },
     "metadata": {},
     "output_type": "display_data"
    },
    {
     "name": "stdout",
     "output_type": "stream",
     "text": [
      "{'fdr': 0.10526315789473684, 'tpr': 0.7727272727272727, 'fpr': 0.011904761904761904, 'shd': 5, 'pred_size': 19, 'thresh': 0.1, 'lambda1': 0.05, 'lambda2': 0.01, 'lr': 0.01}\n"
     ]
    },
    {
     "data": {
      "application/vnd.jupyter.widget-view+json": {
       "model_id": "d66916fff80e4f948b1cb65dc72d72c4",
       "version_major": 2,
       "version_minor": 0
      },
      "text/plain": [
       "  0%|          | 0/230000.0 [00:00<?, ?it/s]"
      ]
     },
     "metadata": {},
     "output_type": "display_data"
    },
    {
     "name": "stdout",
     "output_type": "stream",
     "text": [
      "{'fdr': 0.0, 'tpr': 0.9090909090909091, 'fpr': 0.0, 'shd': 1, 'pred_size': 10, 'thresh': 0.1, 'lambda1': 0.05, 'lambda2': 0.03, 'lr': 0.001}\n"
     ]
    },
    {
     "data": {
      "application/vnd.jupyter.widget-view+json": {
       "model_id": "07579cb7dc414fd9a94c0f105d5a4694",
       "version_major": 2,
       "version_minor": 0
      },
      "text/plain": [
       "  0%|          | 0/230000.0 [00:00<?, ?it/s]"
      ]
     },
     "metadata": {},
     "output_type": "display_data"
    },
    {
     "name": "stdout",
     "output_type": "stream",
     "text": [
      "{'fdr': 0.0, 'tpr': 0.9565217391304348, 'fpr': 0.0, 'shd': 1, 'pred_size': 22, 'thresh': 0.1, 'lambda1': 0.05, 'lambda2': 0.03, 'lr': 0.005}\n"
     ]
    },
    {
     "data": {
      "application/vnd.jupyter.widget-view+json": {
       "model_id": "e46486080af943d6bb1fcd26f3054812",
       "version_major": 2,
       "version_minor": 0
      },
      "text/plain": [
       "  0%|          | 0/230000.0 [00:00<?, ?it/s]"
      ]
     },
     "metadata": {},
     "output_type": "display_data"
    },
    {
     "name": "stdout",
     "output_type": "stream",
     "text": [
      "{'fdr': 0.11764705882352941, 'tpr': 0.75, 'fpr': 0.011764705882352941, 'shd': 5, 'pred_size': 17, 'thresh': 0.1, 'lambda1': 0.05, 'lambda2': 0.03, 'lr': 0.01}\n"
     ]
    },
    {
     "data": {
      "application/vnd.jupyter.widget-view+json": {
       "model_id": "12fa8b0673604602bbacf31d1812cee4",
       "version_major": 2,
       "version_minor": 0
      },
      "text/plain": [
       "  0%|          | 0/230000.0 [00:00<?, ?it/s]"
      ]
     },
     "metadata": {},
     "output_type": "display_data"
    },
    {
     "name": "stdout",
     "output_type": "stream",
     "text": [
      "{'fdr': 0.0, 'tpr': 0.9333333333333333, 'fpr': 0.0, 'shd': 1, 'pred_size': 14, 'thresh': 0.1, 'lambda1': 0.1, 'lambda2': 0.005, 'lr': 0.001}\n"
     ]
    },
    {
     "data": {
      "application/vnd.jupyter.widget-view+json": {
       "model_id": "ac911749f8d245b19c8ca65b78a0c109",
       "version_major": 2,
       "version_minor": 0
      },
      "text/plain": [
       "  0%|          | 0/230000.0 [00:00<?, ?it/s]"
      ]
     },
     "metadata": {},
     "output_type": "display_data"
    },
    {
     "name": "stdout",
     "output_type": "stream",
     "text": [
      "{'fdr': 0.0, 'tpr': 0.9375, 'fpr': 0.0, 'shd': 1, 'pred_size': 15, 'thresh': 0.1, 'lambda1': 0.1, 'lambda2': 0.005, 'lr': 0.005}\n"
     ]
    },
    {
     "data": {
      "application/vnd.jupyter.widget-view+json": {
       "model_id": "ad13a3ac72864473bc4cfde2d5285d80",
       "version_major": 2,
       "version_minor": 0
      },
      "text/plain": [
       "  0%|          | 0/230000.0 [00:00<?, ?it/s]"
      ]
     },
     "metadata": {},
     "output_type": "display_data"
    },
    {
     "name": "stdout",
     "output_type": "stream",
     "text": [
      "{'fdr': 0.16666666666666666, 'tpr': 0.75, 'fpr': 0.01764705882352941, 'shd': 5, 'pred_size': 18, 'thresh': 0.1, 'lambda1': 0.1, 'lambda2': 0.005, 'lr': 0.01}\n"
     ]
    },
    {
     "data": {
      "application/vnd.jupyter.widget-view+json": {
       "model_id": "1e75afcd4d814e48ab0ecd39b7da8b09",
       "version_major": 2,
       "version_minor": 0
      },
      "text/plain": [
       "  0%|          | 0/230000.0 [00:00<?, ?it/s]"
      ]
     },
     "metadata": {},
     "output_type": "display_data"
    },
    {
     "name": "stdout",
     "output_type": "stream",
     "text": [
      "{'fdr': 0.0, 'tpr': 0.95, 'fpr': 0.0, 'shd': 1, 'pred_size': 19, 'thresh': 0.1, 'lambda1': 0.1, 'lambda2': 0.01, 'lr': 0.001}\n"
     ]
    },
    {
     "data": {
      "application/vnd.jupyter.widget-view+json": {
       "model_id": "bd2473036ce04c15948dc737c743ae5c",
       "version_major": 2,
       "version_minor": 0
      },
      "text/plain": [
       "  0%|          | 0/230000.0 [00:00<?, ?it/s]"
      ]
     },
     "metadata": {},
     "output_type": "display_data"
    },
    {
     "name": "stdout",
     "output_type": "stream",
     "text": [
      "{'fdr': 0.04, 'tpr': 0.9230769230769231, 'fpr': 0.006097560975609756, 'shd': 3, 'pred_size': 25, 'thresh': 0.1, 'lambda1': 0.1, 'lambda2': 0.01, 'lr': 0.005}\n"
     ]
    },
    {
     "data": {
      "application/vnd.jupyter.widget-view+json": {
       "model_id": "019924978667448285b290f747dc1d9b",
       "version_major": 2,
       "version_minor": 0
      },
      "text/plain": [
       "  0%|          | 0/230000.0 [00:00<?, ?it/s]"
      ]
     },
     "metadata": {},
     "output_type": "display_data"
    },
    {
     "name": "stdout",
     "output_type": "stream",
     "text": [
      "{'fdr': 0.1875, 'tpr': 0.8125, 'fpr': 0.017241379310344827, 'shd': 4, 'pred_size': 16, 'thresh': 0.1, 'lambda1': 0.1, 'lambda2': 0.01, 'lr': 0.01}\n"
     ]
    },
    {
     "data": {
      "application/vnd.jupyter.widget-view+json": {
       "model_id": "bb305a01568a499a80391c6e637ededf",
       "version_major": 2,
       "version_minor": 0
      },
      "text/plain": [
       "  0%|          | 0/230000.0 [00:00<?, ?it/s]"
      ]
     },
     "metadata": {},
     "output_type": "display_data"
    },
    {
     "name": "stdout",
     "output_type": "stream",
     "text": [
      "{'fdr': 0.05, 'tpr': 0.95, 'fpr': 0.0058823529411764705, 'shd': 2, 'pred_size': 20, 'thresh': 0.1, 'lambda1': 0.1, 'lambda2': 0.03, 'lr': 0.001}\n"
     ]
    },
    {
     "data": {
      "application/vnd.jupyter.widget-view+json": {
       "model_id": "54b7877b4e1a4e329ad5744466de7fc2",
       "version_major": 2,
       "version_minor": 0
      },
      "text/plain": [
       "  0%|          | 0/230000.0 [00:00<?, ?it/s]"
      ]
     },
     "metadata": {},
     "output_type": "display_data"
    },
    {
     "name": "stdout",
     "output_type": "stream",
     "text": [
      "{'fdr': 0.058823529411764705, 'tpr': 0.9411764705882353, 'fpr': 0.005780346820809248, 'shd': 2, 'pred_size': 17, 'thresh': 0.1, 'lambda1': 0.1, 'lambda2': 0.03, 'lr': 0.005}\n"
     ]
    },
    {
     "data": {
      "application/vnd.jupyter.widget-view+json": {
       "model_id": "31cbc5ea57094fcda2a569513e842776",
       "version_major": 2,
       "version_minor": 0
      },
      "text/plain": [
       "  0%|          | 0/230000.0 [00:00<?, ?it/s]"
      ]
     },
     "metadata": {},
     "output_type": "display_data"
    },
    {
     "name": "stdout",
     "output_type": "stream",
     "text": [
      "{'fdr': 0.21052631578947367, 'tpr': 0.75, 'fpr': 0.023529411764705882, 'shd': 6, 'pred_size': 19, 'thresh': 0.1, 'lambda1': 0.1, 'lambda2': 0.03, 'lr': 0.01}\n"
     ]
    },
    {
     "data": {
      "application/vnd.jupyter.widget-view+json": {
       "model_id": "242738d0799e45f2b5a2ea6880a6345c",
       "version_major": 2,
       "version_minor": 0
      },
      "text/plain": [
       "  0%|          | 0/230000.0 [00:00<?, ?it/s]"
      ]
     },
     "metadata": {},
     "output_type": "display_data"
    },
    {
     "name": "stdout",
     "output_type": "stream",
     "text": [
      "{'fdr': 0.5789473684210527, 'tpr': 0.6666666666666666, 'fpr': 0.06179775280898876, 'shd': 12, 'pred_size': 19, 'thresh': 0.1, 'lambda1': 0.2, 'lambda2': 0.005, 'lr': 0.001}\n"
     ]
    },
    {
     "data": {
      "application/vnd.jupyter.widget-view+json": {
       "model_id": "ba901e0a422f4eb88728eee0a47f729b",
       "version_major": 2,
       "version_minor": 0
      },
      "text/plain": [
       "  0%|          | 0/230000.0 [00:00<?, ?it/s]"
      ]
     },
     "metadata": {},
     "output_type": "display_data"
    },
    {
     "name": "stdout",
     "output_type": "stream",
     "text": [
      "{'fdr': 0.76, 'tpr': 0.75, 'fpr': 0.1043956043956044, 'shd': 20, 'pred_size': 25, 'thresh': 0.1, 'lambda1': 0.2, 'lambda2': 0.005, 'lr': 0.005}\n"
     ]
    },
    {
     "data": {
      "application/vnd.jupyter.widget-view+json": {
       "model_id": "a2547c3af25447cabeeb986884bce475",
       "version_major": 2,
       "version_minor": 0
      },
      "text/plain": [
       "  0%|          | 0/230000.0 [00:00<?, ?it/s]"
      ]
     },
     "metadata": {},
     "output_type": "display_data"
    },
    {
     "name": "stdout",
     "output_type": "stream",
     "text": [
      "{'fdr': 0.7333333333333333, 'tpr': 0.4, 'fpr': 0.06111111111111111, 'shd': 14, 'pred_size': 15, 'thresh': 0.1, 'lambda1': 0.2, 'lambda2': 0.005, 'lr': 0.01}\n"
     ]
    },
    {
     "data": {
      "application/vnd.jupyter.widget-view+json": {
       "model_id": "c1f5e306ba6b4b2cbd7b90f0a98fa2c9",
       "version_major": 2,
       "version_minor": 0
      },
      "text/plain": [
       "  0%|          | 0/230000.0 [00:00<?, ?it/s]"
      ]
     },
     "metadata": {},
     "output_type": "display_data"
    },
    {
     "name": "stdout",
     "output_type": "stream",
     "text": [
      "{'fdr': 0.5263157894736842, 'tpr': 0.8181818181818182, 'fpr': 0.055865921787709494, 'shd': 11, 'pred_size': 19, 'thresh': 0.1, 'lambda1': 0.2, 'lambda2': 0.01, 'lr': 0.001}\n"
     ]
    },
    {
     "data": {
      "application/vnd.jupyter.widget-view+json": {
       "model_id": "6335c5990025458e9f0adc386a759749",
       "version_major": 2,
       "version_minor": 0
      },
      "text/plain": [
       "  0%|          | 0/230000.0 [00:00<?, ?it/s]"
      ]
     },
     "metadata": {},
     "output_type": "display_data"
    },
    {
     "name": "stdout",
     "output_type": "stream",
     "text": [
      "{'fdr': 0.4444444444444444, 'tpr': 0.7142857142857143, 'fpr': 0.045454545454545456, 'shd': 10, 'pred_size': 18, 'thresh': 0.1, 'lambda1': 0.2, 'lambda2': 0.01, 'lr': 0.005}\n"
     ]
    },
    {
     "data": {
      "application/vnd.jupyter.widget-view+json": {
       "model_id": "d659a19be64547a19cacd4c9e4ec97e7",
       "version_major": 2,
       "version_minor": 0
      },
      "text/plain": [
       "  0%|          | 0/230000.0 [00:00<?, ?it/s]"
      ]
     },
     "metadata": {},
     "output_type": "display_data"
    },
    {
     "name": "stdout",
     "output_type": "stream",
     "text": [
      "{'fdr': 0.625, 'tpr': 0.8181818181818182, 'fpr': 0.08379888268156424, 'shd': 16, 'pred_size': 24, 'thresh': 0.1, 'lambda1': 0.2, 'lambda2': 0.01, 'lr': 0.01}\n"
     ]
    },
    {
     "data": {
      "application/vnd.jupyter.widget-view+json": {
       "model_id": "81d3b47b65464d48b3bad4eb789b59f8",
       "version_major": 2,
       "version_minor": 0
      },
      "text/plain": [
       "  0%|          | 0/230000.0 [00:00<?, ?it/s]"
      ]
     },
     "metadata": {},
     "output_type": "display_data"
    },
    {
     "name": "stdout",
     "output_type": "stream",
     "text": [
      "{'fdr': 0.5625, 'tpr': 0.875, 'fpr': 0.04945054945054945, 'shd': 10, 'pred_size': 16, 'thresh': 0.1, 'lambda1': 0.2, 'lambda2': 0.03, 'lr': 0.001}\n"
     ]
    },
    {
     "data": {
      "application/vnd.jupyter.widget-view+json": {
       "model_id": "a0922b780f0d46be9653ac83cb779934",
       "version_major": 2,
       "version_minor": 0
      },
      "text/plain": [
       "  0%|          | 0/230000.0 [00:00<?, ?it/s]"
      ]
     },
     "metadata": {},
     "output_type": "display_data"
    },
    {
     "name": "stdout",
     "output_type": "stream",
     "text": [
      "{'fdr': 0.6, 'tpr': 0.7272727272727273, 'fpr': 0.0670391061452514, 'shd': 13, 'pred_size': 20, 'thresh': 0.1, 'lambda1': 0.2, 'lambda2': 0.03, 'lr': 0.005}\n"
     ]
    },
    {
     "data": {
      "application/vnd.jupyter.widget-view+json": {
       "model_id": "619b6b1707924604a64f816d6a602a4a",
       "version_major": 2,
       "version_minor": 0
      },
      "text/plain": [
       "  0%|          | 0/230000.0 [00:00<?, ?it/s]"
      ]
     },
     "metadata": {},
     "output_type": "display_data"
    },
    {
     "name": "stdout",
     "output_type": "stream",
     "text": [
      "{'fdr': 0.7619047619047619, 'tpr': 0.5, 'fpr': 0.08888888888888889, 'shd': 18, 'pred_size': 21, 'thresh': 0.1, 'lambda1': 0.2, 'lambda2': 0.03, 'lr': 0.01}\n"
     ]
    },
    {
     "data": {
      "application/vnd.jupyter.widget-view+json": {
       "model_id": "fb6652abefd04fdfa4f27c86c1d3ec85",
       "version_major": 2,
       "version_minor": 0
      },
      "text/plain": [
       "  0%|          | 0/230000.0 [00:00<?, ?it/s]"
      ]
     },
     "metadata": {},
     "output_type": "display_data"
    },
    {
     "name": "stdout",
     "output_type": "stream",
     "text": [
      "{'fdr': 0.0, 'tpr': 1.0, 'fpr': 0.0, 'shd': 0, 'pred_size': 16, 'thresh': 0.2, 'lambda1': 0.02, 'lambda2': 0.005, 'lr': 0.001}\n"
     ]
    },
    {
     "data": {
      "application/vnd.jupyter.widget-view+json": {
       "model_id": "84b2a14aebf24af7888a5303b403037b",
       "version_major": 2,
       "version_minor": 0
      },
      "text/plain": [
       "  0%|          | 0/230000.0 [00:00<?, ?it/s]"
      ]
     },
     "metadata": {},
     "output_type": "display_data"
    },
    {
     "name": "stdout",
     "output_type": "stream",
     "text": [
      "{'fdr': 0.0, 'tpr': 1.0, 'fpr': 0.0, 'shd': 0, 'pred_size': 24, 'thresh': 0.2, 'lambda1': 0.02, 'lambda2': 0.005, 'lr': 0.005}\n"
     ]
    },
    {
     "data": {
      "application/vnd.jupyter.widget-view+json": {
       "model_id": "9484ee565cc4490aa31511c11268154f",
       "version_major": 2,
       "version_minor": 0
      },
      "text/plain": [
       "  0%|          | 0/230000.0 [00:00<?, ?it/s]"
      ]
     },
     "metadata": {},
     "output_type": "display_data"
    },
    {
     "name": "stdout",
     "output_type": "stream",
     "text": [
      "{'fdr': 0.15789473684210525, 'tpr': 0.7619047619047619, 'fpr': 0.01775147928994083, 'shd': 6, 'pred_size': 19, 'thresh': 0.2, 'lambda1': 0.02, 'lambda2': 0.005, 'lr': 0.01}\n"
     ]
    },
    {
     "data": {
      "application/vnd.jupyter.widget-view+json": {
       "model_id": "479a53e8c9f645d685c560774429ff3c",
       "version_major": 2,
       "version_minor": 0
      },
      "text/plain": [
       "  0%|          | 0/230000.0 [00:00<?, ?it/s]"
      ]
     },
     "metadata": {},
     "output_type": "display_data"
    },
    {
     "name": "stdout",
     "output_type": "stream",
     "text": [
      "{'fdr': 0.0, 'tpr': 1.0, 'fpr': 0.0, 'shd': 0, 'pred_size': 24, 'thresh': 0.2, 'lambda1': 0.02, 'lambda2': 0.01, 'lr': 0.001}\n"
     ]
    },
    {
     "data": {
      "application/vnd.jupyter.widget-view+json": {
       "model_id": "6064a8a458a74c9c804e8cdef2df2fa4",
       "version_major": 2,
       "version_minor": 0
      },
      "text/plain": [
       "  0%|          | 0/230000.0 [00:00<?, ?it/s]"
      ]
     },
     "metadata": {},
     "output_type": "display_data"
    },
    {
     "name": "stdout",
     "output_type": "stream",
     "text": [
      "{'fdr': 0.0, 'tpr': 1.0, 'fpr': 0.0, 'shd': 0, 'pred_size': 18, 'thresh': 0.2, 'lambda1': 0.02, 'lambda2': 0.01, 'lr': 0.005}\n"
     ]
    },
    {
     "data": {
      "application/vnd.jupyter.widget-view+json": {
       "model_id": "edc8677360cc433485d2b79332127763",
       "version_major": 2,
       "version_minor": 0
      },
      "text/plain": [
       "  0%|          | 0/230000.0 [00:00<?, ?it/s]"
      ]
     },
     "metadata": {},
     "output_type": "display_data"
    },
    {
     "name": "stdout",
     "output_type": "stream",
     "text": [
      "{'fdr': 0.1111111111111111, 'tpr': 0.8, 'fpr': 0.011764705882352941, 'shd': 4, 'pred_size': 18, 'thresh': 0.2, 'lambda1': 0.02, 'lambda2': 0.01, 'lr': 0.01}\n"
     ]
    },
    {
     "data": {
      "application/vnd.jupyter.widget-view+json": {
       "model_id": "675504ba85ae470d9dff5193953c768a",
       "version_major": 2,
       "version_minor": 0
      },
      "text/plain": [
       "  0%|          | 0/230000.0 [00:00<?, ?it/s]"
      ]
     },
     "metadata": {},
     "output_type": "display_data"
    },
    {
     "name": "stdout",
     "output_type": "stream",
     "text": [
      "{'fdr': 0.0, 'tpr': 1.0, 'fpr': 0.0, 'shd': 0, 'pred_size': 20, 'thresh': 0.2, 'lambda1': 0.02, 'lambda2': 0.03, 'lr': 0.001}\n"
     ]
    },
    {
     "data": {
      "application/vnd.jupyter.widget-view+json": {
       "model_id": "95016b3259fa4036a1000bffdc5a6e17",
       "version_major": 2,
       "version_minor": 0
      },
      "text/plain": [
       "  0%|          | 0/230000.0 [00:00<?, ?it/s]"
      ]
     },
     "metadata": {},
     "output_type": "display_data"
    },
    {
     "name": "stdout",
     "output_type": "stream",
     "text": [
      "{'fdr': 0.0, 'tpr': 1.0, 'fpr': 0.0, 'shd': 0, 'pred_size': 20, 'thresh': 0.2, 'lambda1': 0.02, 'lambda2': 0.03, 'lr': 0.005}\n"
     ]
    },
    {
     "data": {
      "application/vnd.jupyter.widget-view+json": {
       "model_id": "7b2ff28c264b408fa1cf598066474d43",
       "version_major": 2,
       "version_minor": 0
      },
      "text/plain": [
       "  0%|          | 0/230000.0 [00:00<?, ?it/s]"
      ]
     },
     "metadata": {},
     "output_type": "display_data"
    },
    {
     "name": "stdout",
     "output_type": "stream",
     "text": [
      "{'fdr': 0.13043478260869565, 'tpr': 0.7692307692307693, 'fpr': 0.018292682926829267, 'shd': 7, 'pred_size': 23, 'thresh': 0.2, 'lambda1': 0.02, 'lambda2': 0.03, 'lr': 0.01}\n"
     ]
    },
    {
     "data": {
      "application/vnd.jupyter.widget-view+json": {
       "model_id": "270a11025ad144228d2f6c9dadeeb333",
       "version_major": 2,
       "version_minor": 0
      },
      "text/plain": [
       "  0%|          | 0/230000.0 [00:00<?, ?it/s]"
      ]
     },
     "metadata": {},
     "output_type": "display_data"
    },
    {
     "name": "stdout",
     "output_type": "stream",
     "text": [
      "{'fdr': 0.0, 'tpr': 1.0, 'fpr': 0.0, 'shd': 0, 'pred_size': 26, 'thresh': 0.2, 'lambda1': 0.05, 'lambda2': 0.005, 'lr': 0.001}\n"
     ]
    },
    {
     "data": {
      "application/vnd.jupyter.widget-view+json": {
       "model_id": "06add4192e714d32b16bdf028a656b2d",
       "version_major": 2,
       "version_minor": 0
      },
      "text/plain": [
       "  0%|          | 0/230000.0 [00:00<?, ?it/s]"
      ]
     },
     "metadata": {},
     "output_type": "display_data"
    },
    {
     "name": "stdout",
     "output_type": "stream",
     "text": [
      "{'fdr': 0.0, 'tpr': 1.0, 'fpr': 0.0, 'shd': 0, 'pred_size': 21, 'thresh': 0.2, 'lambda1': 0.05, 'lambda2': 0.005, 'lr': 0.005}\n"
     ]
    },
    {
     "data": {
      "application/vnd.jupyter.widget-view+json": {
       "model_id": "5cb2bc2a837243da9ac3ab9ccb379e0b",
       "version_major": 2,
       "version_minor": 0
      },
      "text/plain": [
       "  0%|          | 0/230000.0 [00:00<?, ?it/s]"
      ]
     },
     "metadata": {},
     "output_type": "display_data"
    },
    {
     "name": "stdout",
     "output_type": "stream",
     "text": [
      "{'fdr': 0.2631578947368421, 'tpr': 0.7368421052631579, 'fpr': 0.029239766081871343, 'shd': 8, 'pred_size': 19, 'thresh': 0.2, 'lambda1': 0.05, 'lambda2': 0.005, 'lr': 0.01}\n"
     ]
    },
    {
     "data": {
      "application/vnd.jupyter.widget-view+json": {
       "model_id": "b7867a879f4f4cafb073fe6d53fc9bfc",
       "version_major": 2,
       "version_minor": 0
      },
      "text/plain": [
       "  0%|          | 0/230000.0 [00:00<?, ?it/s]"
      ]
     },
     "metadata": {},
     "output_type": "display_data"
    },
    {
     "name": "stdout",
     "output_type": "stream",
     "text": [
      "{'fdr': 0.0, 'tpr': 1.0, 'fpr': 0.0, 'shd': 0, 'pred_size': 14, 'thresh': 0.2, 'lambda1': 0.05, 'lambda2': 0.01, 'lr': 0.001}\n"
     ]
    },
    {
     "data": {
      "application/vnd.jupyter.widget-view+json": {
       "model_id": "4a6b630596164e94b5084f58698b4553",
       "version_major": 2,
       "version_minor": 0
      },
      "text/plain": [
       "  0%|          | 0/230000.0 [00:00<?, ?it/s]"
      ]
     },
     "metadata": {},
     "output_type": "display_data"
    },
    {
     "name": "stdout",
     "output_type": "stream",
     "text": [
      "{'fdr': 0.0, 'tpr': 1.0, 'fpr': 0.0, 'shd': 0, 'pred_size': 22, 'thresh': 0.2, 'lambda1': 0.05, 'lambda2': 0.01, 'lr': 0.005}\n"
     ]
    },
    {
     "data": {
      "application/vnd.jupyter.widget-view+json": {
       "model_id": "73fc8d51a3ec421b987c3153f35cbaf7",
       "version_major": 2,
       "version_minor": 0
      },
      "text/plain": [
       "  0%|          | 0/230000.0 [00:00<?, ?it/s]"
      ]
     },
     "metadata": {},
     "output_type": "display_data"
    },
    {
     "name": "stdout",
     "output_type": "stream",
     "text": [
      "{'fdr': 0.0, 'tpr': 1.0, 'fpr': 0.0, 'shd': 0, 'pred_size': 16, 'thresh': 0.2, 'lambda1': 0.05, 'lambda2': 0.01, 'lr': 0.01}\n"
     ]
    },
    {
     "data": {
      "application/vnd.jupyter.widget-view+json": {
       "model_id": "c3f8182af3b5402bab5ba4240b10380f",
       "version_major": 2,
       "version_minor": 0
      },
      "text/plain": [
       "  0%|          | 0/230000.0 [00:00<?, ?it/s]"
      ]
     },
     "metadata": {},
     "output_type": "display_data"
    },
    {
     "name": "stdout",
     "output_type": "stream",
     "text": [
      "{'fdr': 0.08333333333333333, 'tpr': 0.9166666666666666, 'fpr': 0.0056179775280898875, 'shd': 2, 'pred_size': 12, 'thresh': 0.2, 'lambda1': 0.05, 'lambda2': 0.03, 'lr': 0.001}\n"
     ]
    },
    {
     "data": {
      "application/vnd.jupyter.widget-view+json": {
       "model_id": "34e472fd22c548ce8dbb340c9736bae9",
       "version_major": 2,
       "version_minor": 0
      },
      "text/plain": [
       "  0%|          | 0/230000.0 [00:00<?, ?it/s]"
      ]
     },
     "metadata": {},
     "output_type": "display_data"
    },
    {
     "name": "stdout",
     "output_type": "stream",
     "text": [
      "{'fdr': 0.0, 'tpr': 1.0, 'fpr': 0.0, 'shd': 0, 'pred_size': 18, 'thresh': 0.2, 'lambda1': 0.05, 'lambda2': 0.03, 'lr': 0.005}\n"
     ]
    },
    {
     "data": {
      "application/vnd.jupyter.widget-view+json": {
       "model_id": "8d96f9d4f30049a1a991c3f4b23b831a",
       "version_major": 2,
       "version_minor": 0
      },
      "text/plain": [
       "  0%|          | 0/230000.0 [00:00<?, ?it/s]"
      ]
     },
     "metadata": {},
     "output_type": "display_data"
    },
    {
     "name": "stdout",
     "output_type": "stream",
     "text": [
      "{'fdr': 0.0, 'tpr': 1.0, 'fpr': 0.0, 'shd': 0, 'pred_size': 15, 'thresh': 0.2, 'lambda1': 0.05, 'lambda2': 0.03, 'lr': 0.01}\n"
     ]
    },
    {
     "data": {
      "application/vnd.jupyter.widget-view+json": {
       "model_id": "5ab1c958a48f4627ab21c5ce9413f63e",
       "version_major": 2,
       "version_minor": 0
      },
      "text/plain": [
       "  0%|          | 0/230000.0 [00:00<?, ?it/s]"
      ]
     },
     "metadata": {},
     "output_type": "display_data"
    },
    {
     "name": "stdout",
     "output_type": "stream",
     "text": [
      "{'fdr': 0.10526315789473684, 'tpr': 0.9444444444444444, 'fpr': 0.011627906976744186, 'shd': 2, 'pred_size': 19, 'thresh': 0.2, 'lambda1': 0.1, 'lambda2': 0.005, 'lr': 0.001}\n"
     ]
    },
    {
     "data": {
      "application/vnd.jupyter.widget-view+json": {
       "model_id": "33130ac493d14554b2989b6df0770746",
       "version_major": 2,
       "version_minor": 0
      },
      "text/plain": [
       "  0%|          | 0/230000.0 [00:00<?, ?it/s]"
      ]
     },
     "metadata": {},
     "output_type": "display_data"
    },
    {
     "name": "stdout",
     "output_type": "stream",
     "text": [
      "{'fdr': 0.0, 'tpr': 1.0, 'fpr': 0.0, 'shd': 0, 'pred_size': 17, 'thresh': 0.2, 'lambda1': 0.1, 'lambda2': 0.005, 'lr': 0.005}\n"
     ]
    },
    {
     "data": {
      "application/vnd.jupyter.widget-view+json": {
       "model_id": "28149f5481ad4fd29b72f03ed0184efd",
       "version_major": 2,
       "version_minor": 0
      },
      "text/plain": [
       "  0%|          | 0/230000.0 [00:00<?, ?it/s]"
      ]
     },
     "metadata": {},
     "output_type": "display_data"
    },
    {
     "name": "stdout",
     "output_type": "stream",
     "text": [
      "{'fdr': 0.42857142857142855, 'tpr': 0.8888888888888888, 'fpr': 0.06976744186046512, 'shd': 13, 'pred_size': 28, 'thresh': 0.2, 'lambda1': 0.1, 'lambda2': 0.005, 'lr': 0.01}\n"
     ]
    },
    {
     "data": {
      "application/vnd.jupyter.widget-view+json": {
       "model_id": "bc1b82d3f1f745f3b8678c334465225d",
       "version_major": 2,
       "version_minor": 0
      },
      "text/plain": [
       "  0%|          | 0/230000.0 [00:00<?, ?it/s]"
      ]
     },
     "metadata": {},
     "output_type": "display_data"
    },
    {
     "name": "stdout",
     "output_type": "stream",
     "text": [
      "{'fdr': 0.13043478260869565, 'tpr': 0.9523809523809523, 'fpr': 0.01775147928994083, 'shd': 4, 'pred_size': 23, 'thresh': 0.2, 'lambda1': 0.1, 'lambda2': 0.01, 'lr': 0.001}\n"
     ]
    },
    {
     "data": {
      "application/vnd.jupyter.widget-view+json": {
       "model_id": "27eb7a3bb3d34a16bdbb4470c7463b4b",
       "version_major": 2,
       "version_minor": 0
      },
      "text/plain": [
       "  0%|          | 0/230000.0 [00:00<?, ?it/s]"
      ]
     },
     "metadata": {},
     "output_type": "display_data"
    },
    {
     "name": "stdout",
     "output_type": "stream",
     "text": [
      "{'fdr': 0.17391304347826086, 'tpr': 1.0, 'fpr': 0.023391812865497075, 'shd': 4, 'pred_size': 23, 'thresh': 0.2, 'lambda1': 0.1, 'lambda2': 0.01, 'lr': 0.005}\n"
     ]
    },
    {
     "data": {
      "application/vnd.jupyter.widget-view+json": {
       "model_id": "46bc664a0898420ebe1d6242e80dfc66",
       "version_major": 2,
       "version_minor": 0
      },
      "text/plain": [
       "  0%|          | 0/230000.0 [00:00<?, ?it/s]"
      ]
     },
     "metadata": {},
     "output_type": "display_data"
    },
    {
     "name": "stdout",
     "output_type": "stream",
     "text": [
      "{'fdr': 0.391304347826087, 'tpr': 0.875, 'fpr': 0.05172413793103448, 'shd': 10, 'pred_size': 23, 'thresh': 0.2, 'lambda1': 0.1, 'lambda2': 0.01, 'lr': 0.01}\n"
     ]
    },
    {
     "data": {
      "application/vnd.jupyter.widget-view+json": {
       "model_id": "b3c3e076d8ff4a0dbf610111343c9cc0",
       "version_major": 2,
       "version_minor": 0
      },
      "text/plain": [
       "  0%|          | 0/230000.0 [00:00<?, ?it/s]"
      ]
     },
     "metadata": {},
     "output_type": "display_data"
    },
    {
     "name": "stdout",
     "output_type": "stream",
     "text": [
      "{'fdr': 0.19047619047619047, 'tpr': 0.9444444444444444, 'fpr': 0.023255813953488372, 'shd': 5, 'pred_size': 21, 'thresh': 0.2, 'lambda1': 0.1, 'lambda2': 0.03, 'lr': 0.001}\n"
     ]
    },
    {
     "data": {
      "application/vnd.jupyter.widget-view+json": {
       "model_id": "1b809275b88343798577cd11afdbc3bb",
       "version_major": 2,
       "version_minor": 0
      },
      "text/plain": [
       "  0%|          | 0/230000.0 [00:00<?, ?it/s]"
      ]
     },
     "metadata": {},
     "output_type": "display_data"
    },
    {
     "name": "stdout",
     "output_type": "stream",
     "text": [
      "{'fdr': 0.1111111111111111, 'tpr': 0.9411764705882353, 'fpr': 0.011560693641618497, 'shd': 3, 'pred_size': 18, 'thresh': 0.2, 'lambda1': 0.1, 'lambda2': 0.03, 'lr': 0.005}\n"
     ]
    },
    {
     "data": {
      "application/vnd.jupyter.widget-view+json": {
       "model_id": "ecd3e5b4ba034204a2c58cf7544ffd52",
       "version_major": 2,
       "version_minor": 0
      },
      "text/plain": [
       "  0%|          | 0/230000.0 [00:00<?, ?it/s]"
      ]
     },
     "metadata": {},
     "output_type": "display_data"
    },
    {
     "name": "stdout",
     "output_type": "stream",
     "text": [
      "{'fdr': 0.4117647058823529, 'tpr': 0.7142857142857143, 'fpr': 0.03977272727272727, 'shd': 9, 'pred_size': 17, 'thresh': 0.2, 'lambda1': 0.1, 'lambda2': 0.03, 'lr': 0.01}\n"
     ]
    },
    {
     "data": {
      "application/vnd.jupyter.widget-view+json": {
       "model_id": "d50b0cea2f6348ff8e1c1638899d1f18",
       "version_major": 2,
       "version_minor": 0
      },
      "text/plain": [
       "  0%|          | 0/230000.0 [00:00<?, ?it/s]"
      ]
     },
     "metadata": {},
     "output_type": "display_data"
    },
    {
     "name": "stdout",
     "output_type": "stream",
     "text": [
      "{'fdr': 0.75, 'tpr': 0.6666666666666666, 'fpr': 0.06521739130434782, 'shd': 13, 'pred_size': 16, 'thresh': 0.2, 'lambda1': 0.2, 'lambda2': 0.005, 'lr': 0.001}\n"
     ]
    },
    {
     "data": {
      "application/vnd.jupyter.widget-view+json": {
       "model_id": "0f810b8c2dd7447a92686cd921ba81f6",
       "version_major": 2,
       "version_minor": 0
      },
      "text/plain": [
       "  0%|          | 0/230000.0 [00:00<?, ?it/s]"
      ]
     },
     "metadata": {},
     "output_type": "display_data"
    },
    {
     "name": "stdout",
     "output_type": "stream",
     "text": [
      "{'fdr': 0.7727272727272727, 'tpr': 0.8333333333333334, 'fpr': 0.09239130434782608, 'shd': 18, 'pred_size': 22, 'thresh': 0.2, 'lambda1': 0.2, 'lambda2': 0.005, 'lr': 0.005}\n"
     ]
    },
    {
     "data": {
      "application/vnd.jupyter.widget-view+json": {
       "model_id": "78e370ade6c244f3aad28b854ac20eef",
       "version_major": 2,
       "version_minor": 0
      },
      "text/plain": [
       "  0%|          | 0/230000.0 [00:00<?, ?it/s]"
      ]
     },
     "metadata": {},
     "output_type": "display_data"
    },
    {
     "name": "stdout",
     "output_type": "stream",
     "text": [
      "{'fdr': 0.8125, 'tpr': 0.6, 'fpr': 0.07027027027027027, 'shd': 14, 'pred_size': 16, 'thresh': 0.2, 'lambda1': 0.2, 'lambda2': 0.005, 'lr': 0.01}\n"
     ]
    },
    {
     "data": {
      "application/vnd.jupyter.widget-view+json": {
       "model_id": "1da445e2cccc4d5b96e639007461d2c3",
       "version_major": 2,
       "version_minor": 0
      },
      "text/plain": [
       "  0%|          | 0/230000.0 [00:00<?, ?it/s]"
      ]
     },
     "metadata": {},
     "output_type": "display_data"
    },
    {
     "name": "stdout",
     "output_type": "stream",
     "text": [
      "{'fdr': 0.6842105263157895, 'tpr': 0.8571428571428571, 'fpr': 0.07103825136612021, 'shd': 14, 'pred_size': 19, 'thresh': 0.2, 'lambda1': 0.2, 'lambda2': 0.01, 'lr': 0.001}\n"
     ]
    },
    {
     "data": {
      "application/vnd.jupyter.widget-view+json": {
       "model_id": "5f4e1eaa147f42c3a1076a1ba4d2d4cc",
       "version_major": 2,
       "version_minor": 0
      },
      "text/plain": [
       "  0%|          | 0/230000.0 [00:00<?, ?it/s]"
      ]
     },
     "metadata": {},
     "output_type": "display_data"
    },
    {
     "name": "stdout",
     "output_type": "stream",
     "text": [
      "{'fdr': 0.7333333333333333, 'tpr': 0.8, 'fpr': 0.05945945945945946, 'shd': 12, 'pred_size': 15, 'thresh': 0.2, 'lambda1': 0.2, 'lambda2': 0.01, 'lr': 0.005}\n"
     ]
    },
    {
     "data": {
      "application/vnd.jupyter.widget-view+json": {
       "model_id": "a667ef287c214a28837e849b4d947755",
       "version_major": 2,
       "version_minor": 0
      },
      "text/plain": [
       "  0%|          | 0/230000.0 [00:00<?, ?it/s]"
      ]
     },
     "metadata": {},
     "output_type": "display_data"
    },
    {
     "name": "stdout",
     "output_type": "stream",
     "text": [
      "{'fdr': 0.75, 'tpr': 0.6666666666666666, 'fpr': 0.06521739130434782, 'shd': 13, 'pred_size': 16, 'thresh': 0.2, 'lambda1': 0.2, 'lambda2': 0.01, 'lr': 0.01}\n"
     ]
    },
    {
     "data": {
      "application/vnd.jupyter.widget-view+json": {
       "model_id": "046e913161f34ec4897224a0422e3dc0",
       "version_major": 2,
       "version_minor": 0
      },
      "text/plain": [
       "  0%|          | 0/230000.0 [00:00<?, ?it/s]"
      ]
     },
     "metadata": {},
     "output_type": "display_data"
    },
    {
     "name": "stdout",
     "output_type": "stream",
     "text": [
      "{'fdr': 0.8333333333333334, 'tpr': 0.6666666666666666, 'fpr': 0.10869565217391304, 'shd': 22, 'pred_size': 24, 'thresh': 0.2, 'lambda1': 0.2, 'lambda2': 0.03, 'lr': 0.001}\n"
     ]
    },
    {
     "data": {
      "application/vnd.jupyter.widget-view+json": {
       "model_id": "a3af30dc7906473e8637db159f563584",
       "version_major": 2,
       "version_minor": 0
      },
      "text/plain": [
       "  0%|          | 0/230000.0 [00:00<?, ?it/s]"
      ]
     },
     "metadata": {},
     "output_type": "display_data"
    },
    {
     "name": "stdout",
     "output_type": "stream",
     "text": [
      "{'fdr': 0.8095238095238095, 'tpr': 0.8, 'fpr': 0.0918918918918919, 'shd': 18, 'pred_size': 21, 'thresh': 0.2, 'lambda1': 0.2, 'lambda2': 0.03, 'lr': 0.005}\n"
     ]
    },
    {
     "data": {
      "application/vnd.jupyter.widget-view+json": {
       "model_id": "eb7f5497e1d6427d9aceb40958cb4a97",
       "version_major": 2,
       "version_minor": 0
      },
      "text/plain": [
       "  0%|          | 0/230000.0 [00:00<?, ?it/s]"
      ]
     },
     "metadata": {},
     "output_type": "display_data"
    },
    {
     "name": "stdout",
     "output_type": "stream",
     "text": [
      "{'fdr': 0.7368421052631579, 'tpr': 0.8333333333333334, 'fpr': 0.07608695652173914, 'shd': 15, 'pred_size': 19, 'thresh': 0.2, 'lambda1': 0.2, 'lambda2': 0.03, 'lr': 0.01}\n"
     ]
    },
    {
     "data": {
      "application/vnd.jupyter.widget-view+json": {
       "model_id": "afb0c048bb1f4d2d951ce7ee0954ebab",
       "version_major": 2,
       "version_minor": 0
      },
      "text/plain": [
       "  0%|          | 0/230000.0 [00:00<?, ?it/s]"
      ]
     },
     "metadata": {},
     "output_type": "display_data"
    },
    {
     "name": "stdout",
     "output_type": "stream",
     "text": [
      "{'fdr': 0.21052631578947367, 'tpr': 1.0, 'fpr': 0.022857142857142857, 'shd': 4, 'pred_size': 19, 'thresh': 0.3, 'lambda1': 0.02, 'lambda2': 0.005, 'lr': 0.001}\n"
     ]
    },
    {
     "data": {
      "application/vnd.jupyter.widget-view+json": {
       "model_id": "9344573f8a1a4307a39cd335869608d0",
       "version_major": 2,
       "version_minor": 0
      },
      "text/plain": [
       "  0%|          | 0/230000.0 [00:00<?, ?it/s]"
      ]
     },
     "metadata": {},
     "output_type": "display_data"
    },
    {
     "name": "stdout",
     "output_type": "stream",
     "text": [
      "{'fdr': 0.05, 'tpr': 1.0, 'fpr': 0.005847953216374269, 'shd': 1, 'pred_size': 20, 'thresh': 0.3, 'lambda1': 0.02, 'lambda2': 0.005, 'lr': 0.005}\n"
     ]
    },
    {
     "data": {
      "application/vnd.jupyter.widget-view+json": {
       "model_id": "d5b7482c6ef949dab3cf6597323fdef0",
       "version_major": 2,
       "version_minor": 0
      },
      "text/plain": [
       "  0%|          | 0/230000.0 [00:00<?, ?it/s]"
      ]
     },
     "metadata": {},
     "output_type": "display_data"
    },
    {
     "name": "stdout",
     "output_type": "stream",
     "text": [
      "{'fdr': 0.36363636363636365, 'tpr': 0.8235294117647058, 'fpr': 0.046242774566473986, 'shd': 9, 'pred_size': 22, 'thresh': 0.3, 'lambda1': 0.02, 'lambda2': 0.005, 'lr': 0.01}\n"
     ]
    },
    {
     "data": {
      "application/vnd.jupyter.widget-view+json": {
       "model_id": "bc822ebbde19462faeb948e080bc933c",
       "version_major": 2,
       "version_minor": 0
      },
      "text/plain": [
       "  0%|          | 0/230000.0 [00:00<?, ?it/s]"
      ]
     },
     "metadata": {},
     "output_type": "display_data"
    },
    {
     "name": "stdout",
     "output_type": "stream",
     "text": [
      "{'fdr': 0.0, 'tpr': 1.0, 'fpr': 0.0, 'shd': 0, 'pred_size': 15, 'thresh': 0.3, 'lambda1': 0.02, 'lambda2': 0.01, 'lr': 0.001}\n"
     ]
    },
    {
     "data": {
      "application/vnd.jupyter.widget-view+json": {
       "model_id": "ff3c2d32b7784145a934287480e7e520",
       "version_major": 2,
       "version_minor": 0
      },
      "text/plain": [
       "  0%|          | 0/230000.0 [00:00<?, ?it/s]"
      ]
     },
     "metadata": {},
     "output_type": "display_data"
    },
    {
     "name": "stdout",
     "output_type": "stream",
     "text": [
      "{'fdr': 0.0, 'tpr': 1.0, 'fpr': 0.0, 'shd': 0, 'pred_size': 22, 'thresh': 0.3, 'lambda1': 0.02, 'lambda2': 0.01, 'lr': 0.005}\n"
     ]
    },
    {
     "data": {
      "application/vnd.jupyter.widget-view+json": {
       "model_id": "0bf01ad64a56486aacc4a0b08d8010b0",
       "version_major": 2,
       "version_minor": 0
      },
      "text/plain": [
       "  0%|          | 0/230000.0 [00:00<?, ?it/s]"
      ]
     },
     "metadata": {},
     "output_type": "display_data"
    },
    {
     "name": "stdout",
     "output_type": "stream",
     "text": [
      "{'fdr': 0.17647058823529413, 'tpr': 1.0, 'fpr': 0.017045454545454544, 'shd': 3, 'pred_size': 17, 'thresh': 0.3, 'lambda1': 0.02, 'lambda2': 0.01, 'lr': 0.01}\n"
     ]
    },
    {
     "data": {
      "application/vnd.jupyter.widget-view+json": {
       "model_id": "5754baca6b2b4c908cb5fafe7feb5b49",
       "version_major": 2,
       "version_minor": 0
      },
      "text/plain": [
       "  0%|          | 0/230000.0 [00:00<?, ?it/s]"
      ]
     },
     "metadata": {},
     "output_type": "display_data"
    },
    {
     "name": "stdout",
     "output_type": "stream",
     "text": [
      "{'fdr': 0.0, 'tpr': 1.0, 'fpr': 0.0, 'shd': 0, 'pred_size': 19, 'thresh': 0.3, 'lambda1': 0.02, 'lambda2': 0.03, 'lr': 0.001}\n"
     ]
    },
    {
     "data": {
      "application/vnd.jupyter.widget-view+json": {
       "model_id": "075423449345423d9167fc7c03a8998e",
       "version_major": 2,
       "version_minor": 0
      },
      "text/plain": [
       "  0%|          | 0/230000.0 [00:00<?, ?it/s]"
      ]
     },
     "metadata": {},
     "output_type": "display_data"
    },
    {
     "name": "stdout",
     "output_type": "stream",
     "text": [
      "{'fdr': 0.06666666666666667, 'tpr': 1.0, 'fpr': 0.005681818181818182, 'shd': 1, 'pred_size': 15, 'thresh': 0.3, 'lambda1': 0.02, 'lambda2': 0.03, 'lr': 0.005}\n"
     ]
    },
    {
     "data": {
      "application/vnd.jupyter.widget-view+json": {
       "model_id": "43191b939e344c70ad3336e9699d4b97",
       "version_major": 2,
       "version_minor": 0
      },
      "text/plain": [
       "  0%|          | 0/230000.0 [00:00<?, ?it/s]"
      ]
     },
     "metadata": {},
     "output_type": "display_data"
    },
    {
     "name": "stdout",
     "output_type": "stream",
     "text": [
      "{'fdr': 0.17647058823529413, 'tpr': 0.875, 'fpr': 0.017241379310344827, 'shd': 4, 'pred_size': 17, 'thresh': 0.3, 'lambda1': 0.02, 'lambda2': 0.03, 'lr': 0.01}\n"
     ]
    },
    {
     "data": {
      "application/vnd.jupyter.widget-view+json": {
       "model_id": "1bcdba86ddf74f79995d8f097730528e",
       "version_major": 2,
       "version_minor": 0
      },
      "text/plain": [
       "  0%|          | 0/230000.0 [00:00<?, ?it/s]"
      ]
     },
     "metadata": {},
     "output_type": "display_data"
    },
    {
     "name": "stdout",
     "output_type": "stream",
     "text": [
      "{'fdr': 0.07692307692307693, 'tpr': 1.0, 'fpr': 0.0056179775280898875, 'shd': 1, 'pred_size': 13, 'thresh': 0.3, 'lambda1': 0.05, 'lambda2': 0.005, 'lr': 0.001}\n"
     ]
    },
    {
     "data": {
      "application/vnd.jupyter.widget-view+json": {
       "model_id": "a975bebc526d44bf91f1b11cfe786771",
       "version_major": 2,
       "version_minor": 0
      },
      "text/plain": [
       "  0%|          | 0/230000.0 [00:00<?, ?it/s]"
      ]
     },
     "metadata": {},
     "output_type": "display_data"
    },
    {
     "name": "stdout",
     "output_type": "stream",
     "text": [
      "{'fdr': 0.3076923076923077, 'tpr': 1.0, 'fpr': 0.046511627906976744, 'shd': 8, 'pred_size': 26, 'thresh': 0.3, 'lambda1': 0.05, 'lambda2': 0.005, 'lr': 0.005}\n"
     ]
    },
    {
     "data": {
      "application/vnd.jupyter.widget-view+json": {
       "model_id": "59b089cf7501453e96ba7fa9bcebbdce",
       "version_major": 2,
       "version_minor": 0
      },
      "text/plain": [
       "  0%|          | 0/230000.0 [00:00<?, ?it/s]"
      ]
     },
     "metadata": {},
     "output_type": "display_data"
    },
    {
     "name": "stdout",
     "output_type": "stream",
     "text": [
      "{'fdr': 0.3333333333333333, 'tpr': 0.8571428571428571, 'fpr': 0.03409090909090909, 'shd': 8, 'pred_size': 18, 'thresh': 0.3, 'lambda1': 0.05, 'lambda2': 0.005, 'lr': 0.01}\n"
     ]
    },
    {
     "data": {
      "application/vnd.jupyter.widget-view+json": {
       "model_id": "f929fdf246a34e72bbeb503c76f1545e",
       "version_major": 2,
       "version_minor": 0
      },
      "text/plain": [
       "  0%|          | 0/230000.0 [00:00<?, ?it/s]"
      ]
     },
     "metadata": {},
     "output_type": "display_data"
    },
    {
     "name": "stdout",
     "output_type": "stream",
     "text": [
      "{'fdr': 0.13333333333333333, 'tpr': 1.0, 'fpr': 0.011299435028248588, 'shd': 2, 'pred_size': 15, 'thresh': 0.3, 'lambda1': 0.05, 'lambda2': 0.01, 'lr': 0.001}\n"
     ]
    },
    {
     "data": {
      "application/vnd.jupyter.widget-view+json": {
       "model_id": "59ab1fd9544b4015b3eb37fb0312e44b",
       "version_major": 2,
       "version_minor": 0
      },
      "text/plain": [
       "  0%|          | 0/230000.0 [00:00<?, ?it/s]"
      ]
     },
     "metadata": {},
     "output_type": "display_data"
    },
    {
     "name": "stdout",
     "output_type": "stream",
     "text": [
      "{'fdr': 0.13333333333333333, 'tpr': 1.0, 'fpr': 0.011299435028248588, 'shd': 2, 'pred_size': 15, 'thresh': 0.3, 'lambda1': 0.05, 'lambda2': 0.01, 'lr': 0.005}\n"
     ]
    },
    {
     "data": {
      "application/vnd.jupyter.widget-view+json": {
       "model_id": "f840dcdec6bc40d4b1fa037ebe846976",
       "version_major": 2,
       "version_minor": 0
      },
      "text/plain": [
       "  0%|          | 0/230000.0 [00:00<?, ?it/s]"
      ]
     },
     "metadata": {},
     "output_type": "display_data"
    },
    {
     "name": "stdout",
     "output_type": "stream",
     "text": [
      "{'fdr': 0.3888888888888889, 'tpr': 1.0, 'fpr': 0.03910614525139665, 'shd': 7, 'pred_size': 18, 'thresh': 0.3, 'lambda1': 0.05, 'lambda2': 0.01, 'lr': 0.01}\n"
     ]
    },
    {
     "data": {
      "application/vnd.jupyter.widget-view+json": {
       "model_id": "e2d951f700a84081a9b112e68ae929c7",
       "version_major": 2,
       "version_minor": 0
      },
      "text/plain": [
       "  0%|          | 0/230000.0 [00:00<?, ?it/s]"
      ]
     },
     "metadata": {},
     "output_type": "display_data"
    },
    {
     "name": "stdout",
     "output_type": "stream",
     "text": [
      "{'fdr': 0.2777777777777778, 'tpr': 1.0, 'fpr': 0.02824858757062147, 'shd': 5, 'pred_size': 18, 'thresh': 0.3, 'lambda1': 0.05, 'lambda2': 0.03, 'lr': 0.001}\n"
     ]
    },
    {
     "data": {
      "application/vnd.jupyter.widget-view+json": {
       "model_id": "17b370e960fa4c6aaccf031c448820e7",
       "version_major": 2,
       "version_minor": 0
      },
      "text/plain": [
       "  0%|          | 0/230000.0 [00:00<?, ?it/s]"
      ]
     },
     "metadata": {},
     "output_type": "display_data"
    },
    {
     "name": "stdout",
     "output_type": "stream",
     "text": [
      "{'fdr': 0.2631578947368421, 'tpr': 1.0, 'fpr': 0.028409090909090908, 'shd': 5, 'pred_size': 19, 'thresh': 0.3, 'lambda1': 0.05, 'lambda2': 0.03, 'lr': 0.005}\n"
     ]
    },
    {
     "data": {
      "application/vnd.jupyter.widget-view+json": {
       "model_id": "d3d5aa53bbb6487d807f9490f7a495c9",
       "version_major": 2,
       "version_minor": 0
      },
      "text/plain": [
       "  0%|          | 0/230000.0 [00:00<?, ?it/s]"
      ]
     },
     "metadata": {},
     "output_type": "display_data"
    },
    {
     "name": "stdout",
     "output_type": "stream",
     "text": [
      "{'fdr': 0.5238095238095238, 'tpr': 1.0, 'fpr': 0.06111111111111111, 'shd': 11, 'pred_size': 21, 'thresh': 0.3, 'lambda1': 0.05, 'lambda2': 0.03, 'lr': 0.01}\n"
     ]
    },
    {
     "data": {
      "application/vnd.jupyter.widget-view+json": {
       "model_id": "34f6b89098ba48a794b8fae39e299770",
       "version_major": 2,
       "version_minor": 0
      },
      "text/plain": [
       "  0%|          | 0/230000.0 [00:00<?, ?it/s]"
      ]
     },
     "metadata": {},
     "output_type": "display_data"
    },
    {
     "name": "stdout",
     "output_type": "stream",
     "text": [
      "{'fdr': 0.38095238095238093, 'tpr': 1.0, 'fpr': 0.04519774011299435, 'shd': 8, 'pred_size': 21, 'thresh': 0.3, 'lambda1': 0.1, 'lambda2': 0.005, 'lr': 0.001}\n"
     ]
    },
    {
     "data": {
      "application/vnd.jupyter.widget-view+json": {
       "model_id": "1a04a7920a7b4e7096b19b6372d49f1b",
       "version_major": 2,
       "version_minor": 0
      },
      "text/plain": [
       "  0%|          | 0/230000.0 [00:00<?, ?it/s]"
      ]
     },
     "metadata": {},
     "output_type": "display_data"
    },
    {
     "name": "stdout",
     "output_type": "stream",
     "text": [
      "{'fdr': 0.3333333333333333, 'tpr': 1.0, 'fpr': 0.033707865168539325, 'shd': 6, 'pred_size': 18, 'thresh': 0.3, 'lambda1': 0.1, 'lambda2': 0.005, 'lr': 0.005}\n"
     ]
    },
    {
     "data": {
      "application/vnd.jupyter.widget-view+json": {
       "model_id": "b80f40e799994c6b926321ed7d40c70f",
       "version_major": 2,
       "version_minor": 0
      },
      "text/plain": [
       "  0%|          | 0/230000.0 [00:00<?, ?it/s]"
      ]
     },
     "metadata": {},
     "output_type": "display_data"
    },
    {
     "name": "stdout",
     "output_type": "stream",
     "text": [
      "{'fdr': 0.47619047619047616, 'tpr': 1.0, 'fpr': 0.055865921787709494, 'shd': 10, 'pred_size': 21, 'thresh': 0.3, 'lambda1': 0.1, 'lambda2': 0.005, 'lr': 0.01}\n"
     ]
    },
    {
     "data": {
      "application/vnd.jupyter.widget-view+json": {
       "model_id": "f8f533c5d6fc4ab7a067fdb09f117f06",
       "version_major": 2,
       "version_minor": 0
      },
      "text/plain": [
       "  0%|          | 0/230000.0 [00:00<?, ?it/s]"
      ]
     },
     "metadata": {},
     "output_type": "display_data"
    },
    {
     "name": "stdout",
     "output_type": "stream",
     "text": [
      "{'fdr': 0.5384615384615384, 'tpr': 0.9230769230769231, 'fpr': 0.07909604519774012, 'shd': 14, 'pred_size': 26, 'thresh': 0.3, 'lambda1': 0.1, 'lambda2': 0.01, 'lr': 0.001}\n"
     ]
    },
    {
     "data": {
      "application/vnd.jupyter.widget-view+json": {
       "model_id": "0ecb166b993c4aee96263039e107039d",
       "version_major": 2,
       "version_minor": 0
      },
      "text/plain": [
       "  0%|          | 0/230000.0 [00:00<?, ?it/s]"
      ]
     },
     "metadata": {},
     "output_type": "display_data"
    },
    {
     "name": "stdout",
     "output_type": "stream",
     "text": [
      "{'fdr': 0.4, 'tpr': 1.0, 'fpr': 0.03314917127071823, 'shd': 6, 'pred_size': 15, 'thresh': 0.3, 'lambda1': 0.1, 'lambda2': 0.01, 'lr': 0.005}\n"
     ]
    },
    {
     "data": {
      "application/vnd.jupyter.widget-view+json": {
       "model_id": "c7a6e14f881b4c2aa13b403321703245",
       "version_major": 2,
       "version_minor": 0
      },
      "text/plain": [
       "  0%|          | 0/230000.0 [00:00<?, ?it/s]"
      ]
     },
     "metadata": {},
     "output_type": "display_data"
    },
    {
     "name": "stdout",
     "output_type": "stream",
     "text": [
      "{'fdr': 0.5, 'tpr': 1.0, 'fpr': 0.05555555555555555, 'shd': 10, 'pred_size': 20, 'thresh': 0.3, 'lambda1': 0.1, 'lambda2': 0.01, 'lr': 0.01}\n"
     ]
    },
    {
     "data": {
      "application/vnd.jupyter.widget-view+json": {
       "model_id": "920e1039d49b42e1a8968471d7d026bf",
       "version_major": 2,
       "version_minor": 0
      },
      "text/plain": [
       "  0%|          | 0/230000.0 [00:00<?, ?it/s]"
      ]
     },
     "metadata": {},
     "output_type": "display_data"
    },
    {
     "name": "stdout",
     "output_type": "stream",
     "text": [
      "{'fdr': 0.45, 'tpr': 1.0, 'fpr': 0.05027932960893855, 'shd': 9, 'pred_size': 20, 'thresh': 0.3, 'lambda1': 0.1, 'lambda2': 0.03, 'lr': 0.001}\n"
     ]
    },
    {
     "data": {
      "application/vnd.jupyter.widget-view+json": {
       "model_id": "a8a15d4a04354facbaf7afe0dcfd32d0",
       "version_major": 2,
       "version_minor": 0
      },
      "text/plain": [
       "  0%|          | 0/230000.0 [00:00<?, ?it/s]"
      ]
     },
     "metadata": {},
     "output_type": "display_data"
    },
    {
     "name": "stdout",
     "output_type": "stream",
     "text": [
      "{'fdr': 0.5238095238095238, 'tpr': 1.0, 'fpr': 0.06111111111111111, 'shd': 11, 'pred_size': 21, 'thresh': 0.3, 'lambda1': 0.1, 'lambda2': 0.03, 'lr': 0.005}\n"
     ]
    },
    {
     "data": {
      "application/vnd.jupyter.widget-view+json": {
       "model_id": "629b7be409b0433caf3ed4ac95f98387",
       "version_major": 2,
       "version_minor": 0
      },
      "text/plain": [
       "  0%|          | 0/230000.0 [00:00<?, ?it/s]"
      ]
     },
     "metadata": {},
     "output_type": "display_data"
    },
    {
     "name": "stdout",
     "output_type": "stream",
     "text": [
      "{'fdr': 0.625, 'tpr': 1.0, 'fpr': 0.08287292817679558, 'shd': 15, 'pred_size': 24, 'thresh': 0.3, 'lambda1': 0.1, 'lambda2': 0.03, 'lr': 0.01}\n"
     ]
    },
    {
     "data": {
      "application/vnd.jupyter.widget-view+json": {
       "model_id": "d6913d5cd46e41b683a4311c1e23f523",
       "version_major": 2,
       "version_minor": 0
      },
      "text/plain": [
       "  0%|          | 0/230000.0 [00:00<?, ?it/s]"
      ]
     },
     "metadata": {},
     "output_type": "display_data"
    },
    {
     "name": "stdout",
     "output_type": "stream",
     "text": [
      "{'fdr': 0.76, 'tpr': 0.8571428571428571, 'fpr': 0.10382513661202186, 'shd': 20, 'pred_size': 25, 'thresh': 0.3, 'lambda1': 0.2, 'lambda2': 0.005, 'lr': 0.001}\n"
     ]
    },
    {
     "data": {
      "application/vnd.jupyter.widget-view+json": {
       "model_id": "5c9a8a893b30452a89c3e7d49e7f590d",
       "version_major": 2,
       "version_minor": 0
      },
      "text/plain": [
       "  0%|          | 0/230000.0 [00:00<?, ?it/s]"
      ]
     },
     "metadata": {},
     "output_type": "display_data"
    },
    {
     "name": "stdout",
     "output_type": "stream",
     "text": [
      "{'fdr': 0.7647058823529411, 'tpr': 0.8, 'fpr': 0.07027027027027027, 'shd': 14, 'pred_size': 17, 'thresh': 0.3, 'lambda1': 0.2, 'lambda2': 0.005, 'lr': 0.005}\n"
     ]
    },
    {
     "data": {
      "application/vnd.jupyter.widget-view+json": {
       "model_id": "fee14717edab44e184ae391a9a0e3f43",
       "version_major": 2,
       "version_minor": 0
      },
      "text/plain": [
       "  0%|          | 0/230000.0 [00:00<?, ?it/s]"
      ]
     },
     "metadata": {},
     "output_type": "display_data"
    },
    {
     "name": "stdout",
     "output_type": "stream",
     "text": [
      "{'fdr': 0.8235294117647058, 'tpr': 0.75, 'fpr': 0.07526881720430108, 'shd': 15, 'pred_size': 17, 'thresh': 0.3, 'lambda1': 0.2, 'lambda2': 0.005, 'lr': 0.01}\n"
     ]
    },
    {
     "data": {
      "application/vnd.jupyter.widget-view+json": {
       "model_id": "65f2bebfc3eb46ac9f1a5002b9d6289c",
       "version_major": 2,
       "version_minor": 0
      },
      "text/plain": [
       "  0%|          | 0/230000.0 [00:00<?, ?it/s]"
      ]
     },
     "metadata": {},
     "output_type": "display_data"
    },
    {
     "name": "stdout",
     "output_type": "stream",
     "text": [
      "{'fdr': 0.8235294117647058, 'tpr': 0.75, 'fpr': 0.07526881720430108, 'shd': 15, 'pred_size': 17, 'thresh': 0.3, 'lambda1': 0.2, 'lambda2': 0.01, 'lr': 0.001}\n"
     ]
    },
    {
     "data": {
      "application/vnd.jupyter.widget-view+json": {
       "model_id": "d43f60a4483c4f18bea2e5ccf2457f4f",
       "version_major": 2,
       "version_minor": 0
      },
      "text/plain": [
       "  0%|          | 0/230000.0 [00:00<?, ?it/s]"
      ]
     },
     "metadata": {},
     "output_type": "display_data"
    },
    {
     "name": "stdout",
     "output_type": "stream",
     "text": [
      "{'fdr': 0.8235294117647058, 'tpr': 1.0, 'fpr': 0.0748663101604278, 'shd': 14, 'pred_size': 17, 'thresh': 0.3, 'lambda1': 0.2, 'lambda2': 0.01, 'lr': 0.005}\n"
     ]
    },
    {
     "data": {
      "application/vnd.jupyter.widget-view+json": {
       "model_id": "29e29cfdfa504d20a06e8587fa3ce161",
       "version_major": 2,
       "version_minor": 0
      },
      "text/plain": [
       "  0%|          | 0/230000.0 [00:00<?, ?it/s]"
      ]
     },
     "metadata": {},
     "output_type": "display_data"
    },
    {
     "name": "stdout",
     "output_type": "stream",
     "text": [
      "{'fdr': 0.9130434782608695, 'tpr': 0.5, 'fpr': 0.11290322580645161, 'shd': 22, 'pred_size': 23, 'thresh': 0.3, 'lambda1': 0.2, 'lambda2': 0.01, 'lr': 0.01}\n"
     ]
    },
    {
     "data": {
      "application/vnd.jupyter.widget-view+json": {
       "model_id": "d5b1e4c7602043cc8ba7728bb7e40702",
       "version_major": 2,
       "version_minor": 0
      },
      "text/plain": [
       "  0%|          | 0/230000.0 [00:00<?, ?it/s]"
      ]
     },
     "metadata": {},
     "output_type": "display_data"
    },
    {
     "name": "stdout",
     "output_type": "stream",
     "text": [
      "{'fdr': 0.8095238095238095, 'tpr': 0.8, 'fpr': 0.0918918918918919, 'shd': 18, 'pred_size': 21, 'thresh': 0.3, 'lambda1': 0.2, 'lambda2': 0.03, 'lr': 0.001}\n"
     ]
    },
    {
     "data": {
      "application/vnd.jupyter.widget-view+json": {
       "model_id": "5d9178036acd4302964a6b2c5cecdd27",
       "version_major": 2,
       "version_minor": 0
      },
      "text/plain": [
       "  0%|          | 0/230000.0 [00:00<?, ?it/s]"
      ]
     },
     "metadata": {},
     "output_type": "display_data"
    },
    {
     "name": "stdout",
     "output_type": "stream",
     "text": [
      "{'fdr': 0.7333333333333333, 'tpr': 0.8, 'fpr': 0.05945945945945946, 'shd': 12, 'pred_size': 15, 'thresh': 0.3, 'lambda1': 0.2, 'lambda2': 0.03, 'lr': 0.005}\n"
     ]
    },
    {
     "data": {
      "application/vnd.jupyter.widget-view+json": {
       "model_id": "f553ee544cb94170890aee28e761d75b",
       "version_major": 2,
       "version_minor": 0
      },
      "text/plain": [
       "  0%|          | 0/230000.0 [00:00<?, ?it/s]"
      ]
     },
     "metadata": {},
     "output_type": "display_data"
    },
    {
     "name": "stdout",
     "output_type": "stream",
     "text": [
      "{'fdr': 0.8235294117647058, 'tpr': 0.75, 'fpr': 0.07526881720430108, 'shd': 15, 'pred_size': 17, 'thresh': 0.3, 'lambda1': 0.2, 'lambda2': 0.03, 'lr': 0.01}\n"
     ]
    }
   ],
   "source": [
    "grid_search.perform_grid_search(grid=grid, model_func=dagma, output_dir='dagmats01.jsonl', thresh=0.01)"
   ]
  },
  {
   "cell_type": "code",
   "execution_count": null,
   "metadata": {},
   "outputs": [],
   "source": []
  }
 ],
 "metadata": {
  "kernelspec": {
   "display_name": "base",
   "language": "python",
   "name": "python3"
  },
  "language_info": {
   "codemirror_mode": {
    "name": "ipython",
    "version": 3
   },
   "file_extension": ".py",
   "mimetype": "text/x-python",
   "name": "python",
   "nbconvert_exporter": "python",
   "pygments_lexer": "ipython3",
   "version": "3.11.7"
  }
 },
 "nbformat": 4,
 "nbformat_minor": 2
}
