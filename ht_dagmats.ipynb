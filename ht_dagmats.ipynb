{
 "cells": [
  {
   "cell_type": "code",
   "execution_count": 1,
   "metadata": {},
   "outputs": [],
   "source": [
    "from dagma_nl import dagmats"
   ]
  },
  {
   "cell_type": "code",
   "execution_count": 7,
   "metadata": {},
   "outputs": [],
   "source": [
    "def dagma(lambda1, lambda2, lr, thresh):\n",
    "    from generate_data import SyntheticDataset\n",
    "    n, d, p = 1000, 5, 3\n",
    "    dag_obj = SyntheticDataset(n, d, p, B_scale=1.0, graph_type='ER', degree=2, A_scale=1.0, noise_type='EV', mlp=False)\n",
    "\n",
    "    A_true = dag_obj.A\n",
    "    X = dag_obj.X\n",
    "    Y = dag_obj.Y\n",
    "\n",
    "    eq_model = dagmats.DagmaTS(n=n, p=p, d=d)\n",
    "    model = dagmats.DagmaLinear(eq_model, verbose=False)\n",
    "    W_est = model.fit(X, Y, lambda1=lambda1, lambda2=lambda2, lr=lr, w_threshold=thresh)\n",
    "    return W_est, A_true"
   ]
  },
  {
   "cell_type": "code",
   "execution_count": 8,
   "metadata": {},
   "outputs": [],
   "source": [
    "def dagma_grid(lambda1_list, lambda2_list, lr_list, thresh_list):\n",
    "    out_list = []\n",
    "    for thresh in thresh_list:\n",
    "        for lambda1 in lambda1_list:\n",
    "            for lambda2 in lambda2_list:\n",
    "                for lr in lr_list:\n",
    "                    out_list.append({\n",
    "                        'thresh': thresh,\n",
    "                        'lambda1': lambda1,\n",
    "                        'lambda2': lambda2,\n",
    "                        'lr': lr\n",
    "                    })\n",
    "    return out_list\n"
   ]
  },
  {
   "cell_type": "code",
   "execution_count": 9,
   "metadata": {},
   "outputs": [],
   "source": [
    "grid = dagma_grid(\n",
    "    lambda1_list=[0.02, 0.05, 0.1, 0.2],\n",
    "    lambda2_list=[0.005, 0.01, 0.03],\n",
    "    lr_list=[0.001, 0.005, 0.01],\n",
    "    thresh_list=[0.01, 0.1, 0.2, 0.3]\n",
    ")"
   ]
  },
  {
   "cell_type": "code",
   "execution_count": 10,
   "metadata": {},
   "outputs": [],
   "source": [
    "import grid_search"
   ]
  },
  {
   "cell_type": "code",
   "execution_count": 11,
   "metadata": {},
   "outputs": [
    {
     "data": {
      "application/vnd.jupyter.widget-view+json": {
       "model_id": "b3fc3eee3b034eef948140b2ebef4cdc",
       "version_major": 2,
       "version_minor": 0
      },
      "text/plain": [
       "  0%|          | 0/230000.0 [00:00<?, ?it/s]"
      ]
     },
     "metadata": {},
     "output_type": "display_data"
    },
    {
     "name": "stdout",
     "output_type": "stream",
     "text": [
      "{'fdr': 0.0, 'tpr': 0.3620689655172414, 'fpr': 0.0, 'shd': 37, 'pred_size': 21, 'thresh': 0.01, 'lambda1': 0.005, 'lambda2': 0.005, 'lr': 0.005}\n"
     ]
    },
    {
     "data": {
      "application/vnd.jupyter.widget-view+json": {
       "model_id": "7d3ca714a1024bec818dcd1f39ed92bb",
       "version_major": 2,
       "version_minor": 0
      },
      "text/plain": [
       "  0%|          | 0/230000.0 [00:00<?, ?it/s]"
      ]
     },
     "metadata": {},
     "output_type": "display_data"
    },
    {
     "name": "stdout",
     "output_type": "stream",
     "text": [
      "{'fdr': 0.05555555555555555, 'tpr': 0.25757575757575757, 'fpr': 0.008064516129032258, 'shd': 49, 'pred_size': 18, 'thresh': 0.01, 'lambda1': 0.005, 'lambda2': 0.005, 'lr': 0.01}\n"
     ]
    },
    {
     "data": {
      "application/vnd.jupyter.widget-view+json": {
       "model_id": "42f6fe3207b64d46b0fc4ada0e35c19d",
       "version_major": 2,
       "version_minor": 0
      },
      "text/plain": [
       "  0%|          | 0/230000.0 [00:00<?, ?it/s]"
      ]
     },
     "metadata": {},
     "output_type": "display_data"
    },
    {
     "name": "stdout",
     "output_type": "stream",
     "text": [
      "{'fdr': 0.16, 'tpr': 0.2916666666666667, 'fpr': 0.03389830508474576, 'shd': 51, 'pred_size': 25, 'thresh': 0.01, 'lambda1': 0.005, 'lambda2': 0.005, 'lr': 0.02}\n"
     ]
    },
    {
     "data": {
      "application/vnd.jupyter.widget-view+json": {
       "model_id": "20c5c0ac553340689e88cba5615ddfa3",
       "version_major": 2,
       "version_minor": 0
      },
      "text/plain": [
       "  0%|          | 0/230000.0 [00:00<?, ?it/s]"
      ]
     },
     "metadata": {},
     "output_type": "display_data"
    },
    {
     "name": "stdout",
     "output_type": "stream",
     "text": [
      "{'fdr': 0.125, 'tpr': 0.23728813559322035, 'fpr': 0.015267175572519083, 'shd': 45, 'pred_size': 16, 'thresh': 0.01, 'lambda1': 0.005, 'lambda2': 0.005, 'lr': 0.05}\n"
     ]
    },
    {
     "data": {
      "application/vnd.jupyter.widget-view+json": {
       "model_id": "4e5ecf7129444a9e9bea54e04ffb87ba",
       "version_major": 2,
       "version_minor": 0
      },
      "text/plain": [
       "  0%|          | 0/230000.0 [00:00<?, ?it/s]"
      ]
     },
     "metadata": {},
     "output_type": "display_data"
    },
    {
     "name": "stdout",
     "output_type": "stream",
     "text": [
      "{'fdr': 0.0, 'tpr': 0.30158730158730157, 'fpr': 0.0, 'shd': 44, 'pred_size': 19, 'thresh': 0.01, 'lambda1': 0.005, 'lambda2': 0.01, 'lr': 0.005}\n"
     ]
    },
    {
     "data": {
      "application/vnd.jupyter.widget-view+json": {
       "model_id": "ab7a7450f0f448ca83de821a5bc0d9e8",
       "version_major": 2,
       "version_minor": 0
      },
      "text/plain": [
       "  0%|          | 0/230000.0 [00:00<?, ?it/s]"
      ]
     },
     "metadata": {},
     "output_type": "display_data"
    },
    {
     "name": "stdout",
     "output_type": "stream",
     "text": [
      "{'fdr': 0.058823529411764705, 'tpr': 0.2909090909090909, 'fpr': 0.007407407407407408, 'shd': 39, 'pred_size': 17, 'thresh': 0.01, 'lambda1': 0.005, 'lambda2': 0.01, 'lr': 0.01}\n"
     ]
    },
    {
     "data": {
      "application/vnd.jupyter.widget-view+json": {
       "model_id": "e929dd0ebf2e405aa0cdbf86b8c89ea5",
       "version_major": 2,
       "version_minor": 0
      },
      "text/plain": [
       "  0%|          | 0/230000.0 [00:00<?, ?it/s]"
      ]
     },
     "metadata": {},
     "output_type": "display_data"
    },
    {
     "name": "stdout",
     "output_type": "stream",
     "text": [
      "{'fdr': 0.05555555555555555, 'tpr': 0.2833333333333333, 'fpr': 0.007692307692307693, 'shd': 43, 'pred_size': 18, 'thresh': 0.01, 'lambda1': 0.005, 'lambda2': 0.01, 'lr': 0.02}\n"
     ]
    },
    {
     "data": {
      "application/vnd.jupyter.widget-view+json": {
       "model_id": "e6097a506e8d4b7baea4cd546fcc29c7",
       "version_major": 2,
       "version_minor": 0
      },
      "text/plain": [
       "  0%|          | 0/230000.0 [00:00<?, ?it/s]"
      ]
     },
     "metadata": {},
     "output_type": "display_data"
    },
    {
     "name": "stdout",
     "output_type": "stream",
     "text": [
      "{'fdr': 0.1, 'tpr': 0.3, 'fpr': 0.015384615384615385, 'shd': 42, 'pred_size': 20, 'thresh': 0.01, 'lambda1': 0.005, 'lambda2': 0.01, 'lr': 0.05}\n"
     ]
    },
    {
     "data": {
      "application/vnd.jupyter.widget-view+json": {
       "model_id": "b33d65f3ee1441e295542ed4fb2a8301",
       "version_major": 2,
       "version_minor": 0
      },
      "text/plain": [
       "  0%|          | 0/230000.0 [00:00<?, ?it/s]"
      ]
     },
     "metadata": {},
     "output_type": "display_data"
    },
    {
     "name": "stdout",
     "output_type": "stream",
     "text": [
      "{'fdr': 0.0, 'tpr': 0.34545454545454546, 'fpr': 0.0, 'shd': 36, 'pred_size': 19, 'thresh': 0.01, 'lambda1': 0.005, 'lambda2': 0.03, 'lr': 0.005}\n"
     ]
    },
    {
     "data": {
      "application/vnd.jupyter.widget-view+json": {
       "model_id": "e549366c943f484892fc71a9b8abb790",
       "version_major": 2,
       "version_minor": 0
      },
      "text/plain": [
       "  0%|          | 0/230000.0 [00:00<?, ?it/s]"
      ]
     },
     "metadata": {},
     "output_type": "display_data"
    },
    {
     "name": "stdout",
     "output_type": "stream",
     "text": [
      "{'fdr': 0.0, 'tpr': 0.2711864406779661, 'fpr': 0.0, 'shd': 43, 'pred_size': 16, 'thresh': 0.01, 'lambda1': 0.005, 'lambda2': 0.03, 'lr': 0.01}\n"
     ]
    },
    {
     "data": {
      "application/vnd.jupyter.widget-view+json": {
       "model_id": "aac742ad79874f4bbb35738375a0123e",
       "version_major": 2,
       "version_minor": 0
      },
      "text/plain": [
       "  0%|          | 0/230000.0 [00:00<?, ?it/s]"
      ]
     },
     "metadata": {},
     "output_type": "display_data"
    },
    {
     "name": "stdout",
     "output_type": "stream",
     "text": [
      "{'fdr': 0.11764705882352941, 'tpr': 0.234375, 'fpr': 0.015873015873015872, 'shd': 49, 'pred_size': 17, 'thresh': 0.01, 'lambda1': 0.005, 'lambda2': 0.03, 'lr': 0.02}\n"
     ]
    },
    {
     "data": {
      "application/vnd.jupyter.widget-view+json": {
       "model_id": "ae9efba20fe7492f8b3ee8a5c08d324d",
       "version_major": 2,
       "version_minor": 0
      },
      "text/plain": [
       "  0%|          | 0/230000.0 [00:00<?, ?it/s]"
      ]
     },
     "metadata": {},
     "output_type": "display_data"
    },
    {
     "name": "stdout",
     "output_type": "stream",
     "text": [
      "{'fdr': 0.35294117647058826, 'tpr': 0.15714285714285714, 'fpr': 0.05, 'shd': 59, 'pred_size': 17, 'thresh': 0.01, 'lambda1': 0.005, 'lambda2': 0.03, 'lr': 0.05}\n"
     ]
    },
    {
     "data": {
      "application/vnd.jupyter.widget-view+json": {
       "model_id": "d023471d75534757b666dae7d0aa7c66",
       "version_major": 2,
       "version_minor": 0
      },
      "text/plain": [
       "  0%|          | 0/230000.0 [00:00<?, ?it/s]"
      ]
     },
     "metadata": {},
     "output_type": "display_data"
    },
    {
     "name": "stdout",
     "output_type": "stream",
     "text": [
      "{'fdr': 0.0, 'tpr': 0.34782608695652173, 'fpr': 0.0, 'shd': 45, 'pred_size': 24, 'thresh': 0.01, 'lambda1': 0.005, 'lambda2': 0.05, 'lr': 0.005}\n"
     ]
    },
    {
     "data": {
      "application/vnd.jupyter.widget-view+json": {
       "model_id": "2d295efa1da7489ea6e8ff7500427ad7",
       "version_major": 2,
       "version_minor": 0
      },
      "text/plain": [
       "  0%|          | 0/230000.0 [00:00<?, ?it/s]"
      ]
     },
     "metadata": {},
     "output_type": "display_data"
    },
    {
     "name": "stdout",
     "output_type": "stream",
     "text": [
      "{'fdr': 0.125, 'tpr': 0.22950819672131148, 'fpr': 0.015503875968992248, 'shd': 47, 'pred_size': 16, 'thresh': 0.01, 'lambda1': 0.005, 'lambda2': 0.05, 'lr': 0.01}\n"
     ]
    },
    {
     "data": {
      "application/vnd.jupyter.widget-view+json": {
       "model_id": "fd5ec1039cf54b2fa7e28468d10cac1b",
       "version_major": 2,
       "version_minor": 0
      },
      "text/plain": [
       "  0%|          | 0/230000.0 [00:00<?, ?it/s]"
      ]
     },
     "metadata": {},
     "output_type": "display_data"
    },
    {
     "name": "stdout",
     "output_type": "stream",
     "text": [
      "{'fdr': 0.0, 'tpr': 0.296875, 'fpr': 0.0, 'shd': 45, 'pred_size': 19, 'thresh': 0.01, 'lambda1': 0.005, 'lambda2': 0.05, 'lr': 0.02}\n"
     ]
    },
    {
     "data": {
      "application/vnd.jupyter.widget-view+json": {
       "model_id": "282d04b776af4952bf14f0ba58808460",
       "version_major": 2,
       "version_minor": 0
      },
      "text/plain": [
       "  0%|          | 0/230000.0 [00:00<?, ?it/s]"
      ]
     },
     "metadata": {},
     "output_type": "display_data"
    },
    {
     "name": "stdout",
     "output_type": "stream",
     "text": [
      "{'fdr': 0.35294117647058826, 'tpr': 0.15942028985507245, 'fpr': 0.049586776859504134, 'shd': 58, 'pred_size': 17, 'thresh': 0.01, 'lambda1': 0.005, 'lambda2': 0.05, 'lr': 0.05}\n"
     ]
    },
    {
     "data": {
      "application/vnd.jupyter.widget-view+json": {
       "model_id": "8448b0cefa764243bd9cf7ce8b255495",
       "version_major": 2,
       "version_minor": 0
      },
      "text/plain": [
       "  0%|          | 0/230000.0 [00:00<?, ?it/s]"
      ]
     },
     "metadata": {},
     "output_type": "display_data"
    },
    {
     "name": "stdout",
     "output_type": "stream",
     "text": [
      "{'fdr': 0.0, 'tpr': 0.26785714285714285, 'fpr': 0.0, 'shd': 41, 'pred_size': 15, 'thresh': 0.01, 'lambda1': 0.01, 'lambda2': 0.005, 'lr': 0.005}\n"
     ]
    },
    {
     "data": {
      "application/vnd.jupyter.widget-view+json": {
       "model_id": "6520e36f831545faad3566aa76697878",
       "version_major": 2,
       "version_minor": 0
      },
      "text/plain": [
       "  0%|          | 0/230000.0 [00:00<?, ?it/s]"
      ]
     },
     "metadata": {},
     "output_type": "display_data"
    },
    {
     "name": "stdout",
     "output_type": "stream",
     "text": [
      "{'fdr': 0.0, 'tpr': 0.30357142857142855, 'fpr': 0.0, 'shd': 39, 'pred_size': 17, 'thresh': 0.01, 'lambda1': 0.01, 'lambda2': 0.005, 'lr': 0.01}\n"
     ]
    },
    {
     "data": {
      "application/vnd.jupyter.widget-view+json": {
       "model_id": "d4ba43a2e6724e1d96644e8220b4f25a",
       "version_major": 2,
       "version_minor": 0
      },
      "text/plain": [
       "  0%|          | 0/230000.0 [00:00<?, ?it/s]"
      ]
     },
     "metadata": {},
     "output_type": "display_data"
    },
    {
     "name": "stdout",
     "output_type": "stream",
     "text": [
      "{'fdr': 0.05, 'tpr': 0.3392857142857143, 'fpr': 0.007462686567164179, 'shd': 37, 'pred_size': 20, 'thresh': 0.01, 'lambda1': 0.01, 'lambda2': 0.005, 'lr': 0.02}\n"
     ]
    },
    {
     "data": {
      "application/vnd.jupyter.widget-view+json": {
       "model_id": "81eac737d03e49f0bff346cdc75bc917",
       "version_major": 2,
       "version_minor": 0
      },
      "text/plain": [
       "  0%|          | 0/230000.0 [00:00<?, ?it/s]"
      ]
     },
     "metadata": {},
     "output_type": "display_data"
    },
    {
     "name": "stdout",
     "output_type": "stream",
     "text": [
      "{'fdr': 0.19047619047619047, 'tpr': 0.27419354838709675, 'fpr': 0.03125, 'shd': 45, 'pred_size': 21, 'thresh': 0.01, 'lambda1': 0.01, 'lambda2': 0.005, 'lr': 0.05}\n"
     ]
    },
    {
     "data": {
      "application/vnd.jupyter.widget-view+json": {
       "model_id": "abf2cfc98d6648a6b07582094c501a48",
       "version_major": 2,
       "version_minor": 0
      },
      "text/plain": [
       "  0%|          | 0/230000.0 [00:00<?, ?it/s]"
      ]
     },
     "metadata": {},
     "output_type": "display_data"
    },
    {
     "name": "stdout",
     "output_type": "stream",
     "text": [
      "{'fdr': 0.0, 'tpr': 0.3469387755102041, 'fpr': 0.0, 'shd': 32, 'pred_size': 17, 'thresh': 0.01, 'lambda1': 0.01, 'lambda2': 0.01, 'lr': 0.005}\n"
     ]
    },
    {
     "data": {
      "application/vnd.jupyter.widget-view+json": {
       "model_id": "a0dd13afaff4443cbbe7dfbfb862e4fc",
       "version_major": 2,
       "version_minor": 0
      },
      "text/plain": [
       "  0%|          | 0/230000.0 [00:00<?, ?it/s]"
      ]
     },
     "metadata": {},
     "output_type": "display_data"
    },
    {
     "name": "stdout",
     "output_type": "stream",
     "text": [
      "{'fdr': 0.04, 'tpr': 0.3870967741935484, 'fpr': 0.0078125, 'shd': 38, 'pred_size': 25, 'thresh': 0.01, 'lambda1': 0.01, 'lambda2': 0.01, 'lr': 0.01}\n"
     ]
    },
    {
     "data": {
      "application/vnd.jupyter.widget-view+json": {
       "model_id": "bf16daf43c3c41b59945f6282f27ffa5",
       "version_major": 2,
       "version_minor": 0
      },
      "text/plain": [
       "  0%|          | 0/230000.0 [00:00<?, ?it/s]"
      ]
     },
     "metadata": {},
     "output_type": "display_data"
    },
    {
     "name": "stdout",
     "output_type": "stream",
     "text": [
      "{'fdr': 0.09523809523809523, 'tpr': 0.3114754098360656, 'fpr': 0.015503875968992248, 'shd': 42, 'pred_size': 21, 'thresh': 0.01, 'lambda1': 0.01, 'lambda2': 0.01, 'lr': 0.02}\n"
     ]
    },
    {
     "data": {
      "application/vnd.jupyter.widget-view+json": {
       "model_id": "588d29412cff445a92d6b1a337461e31",
       "version_major": 2,
       "version_minor": 0
      },
      "text/plain": [
       "  0%|          | 0/230000.0 [00:00<?, ?it/s]"
      ]
     },
     "metadata": {},
     "output_type": "display_data"
    },
    {
     "name": "stdout",
     "output_type": "stream",
     "text": [
      "{'fdr': 0.0, 'tpr': 0.32075471698113206, 'fpr': 0.0, 'shd': 36, 'pred_size': 17, 'thresh': 0.01, 'lambda1': 0.01, 'lambda2': 0.01, 'lr': 0.05}\n"
     ]
    },
    {
     "data": {
      "application/vnd.jupyter.widget-view+json": {
       "model_id": "dbe2d44242ba481189bcd84ff482c9c8",
       "version_major": 2,
       "version_minor": 0
      },
      "text/plain": [
       "  0%|          | 0/230000.0 [00:00<?, ?it/s]"
      ]
     },
     "metadata": {},
     "output_type": "display_data"
    },
    {
     "name": "stdout",
     "output_type": "stream",
     "text": [
      "{'fdr': 0.0, 'tpr': 0.3333333333333333, 'fpr': 0.0, 'shd': 36, 'pred_size': 18, 'thresh': 0.01, 'lambda1': 0.01, 'lambda2': 0.03, 'lr': 0.005}\n"
     ]
    },
    {
     "data": {
      "application/vnd.jupyter.widget-view+json": {
       "model_id": "de9604b4139949daa12f087bb7bfb489",
       "version_major": 2,
       "version_minor": 0
      },
      "text/plain": [
       "  0%|          | 0/230000.0 [00:00<?, ?it/s]"
      ]
     },
     "metadata": {},
     "output_type": "display_data"
    },
    {
     "name": "stdout",
     "output_type": "stream",
     "text": [
      "{'fdr': 0.0, 'tpr': 0.2830188679245283, 'fpr': 0.0, 'shd': 38, 'pred_size': 15, 'thresh': 0.01, 'lambda1': 0.01, 'lambda2': 0.03, 'lr': 0.01}\n"
     ]
    },
    {
     "data": {
      "application/vnd.jupyter.widget-view+json": {
       "model_id": "c9e9d75a3d104738b2d9f17a1bdc940d",
       "version_major": 2,
       "version_minor": 0
      },
      "text/plain": [
       "  0%|          | 0/230000.0 [00:00<?, ?it/s]"
      ]
     },
     "metadata": {},
     "output_type": "display_data"
    },
    {
     "name": "stdout",
     "output_type": "stream",
     "text": [
      "{'fdr': 0.0, 'tpr': 0.31666666666666665, 'fpr': 0.0, 'shd': 41, 'pred_size': 19, 'thresh': 0.01, 'lambda1': 0.01, 'lambda2': 0.03, 'lr': 0.02}\n"
     ]
    },
    {
     "data": {
      "application/vnd.jupyter.widget-view+json": {
       "model_id": "1728bf348d944f2e98ee172ad76e49bf",
       "version_major": 2,
       "version_minor": 0
      },
      "text/plain": [
       "  0%|          | 0/230000.0 [00:00<?, ?it/s]"
      ]
     },
     "metadata": {},
     "output_type": "display_data"
    },
    {
     "name": "stdout",
     "output_type": "stream",
     "text": [
      "{'fdr': 0.2777777777777778, 'tpr': 0.20967741935483872, 'fpr': 0.0390625, 'shd': 49, 'pred_size': 18, 'thresh': 0.01, 'lambda1': 0.01, 'lambda2': 0.03, 'lr': 0.05}\n"
     ]
    },
    {
     "data": {
      "application/vnd.jupyter.widget-view+json": {
       "model_id": "dd41a8e336884ed9a0a47c4684ca1f13",
       "version_major": 2,
       "version_minor": 0
      },
      "text/plain": [
       "  0%|          | 0/230000.0 [00:00<?, ?it/s]"
      ]
     },
     "metadata": {},
     "output_type": "display_data"
    },
    {
     "name": "stdout",
     "output_type": "stream",
     "text": [
      "{'fdr': 0.0, 'tpr': 0.3333333333333333, 'fpr': 0.0, 'shd': 42, 'pred_size': 21, 'thresh': 0.01, 'lambda1': 0.01, 'lambda2': 0.05, 'lr': 0.005}\n"
     ]
    },
    {
     "data": {
      "application/vnd.jupyter.widget-view+json": {
       "model_id": "1ab2f078ab2841d8824ed259f1758dee",
       "version_major": 2,
       "version_minor": 0
      },
      "text/plain": [
       "  0%|          | 0/230000.0 [00:00<?, ?it/s]"
      ]
     },
     "metadata": {},
     "output_type": "display_data"
    },
    {
     "name": "stdout",
     "output_type": "stream",
     "text": [
      "{'fdr': 0.11764705882352941, 'tpr': 0.23809523809523808, 'fpr': 0.015748031496062992, 'shd': 48, 'pred_size': 17, 'thresh': 0.01, 'lambda1': 0.01, 'lambda2': 0.05, 'lr': 0.01}\n"
     ]
    },
    {
     "data": {
      "application/vnd.jupyter.widget-view+json": {
       "model_id": "e753475432344578b746931d29e202c4",
       "version_major": 2,
       "version_minor": 0
      },
      "text/plain": [
       "  0%|          | 0/230000.0 [00:00<?, ?it/s]"
      ]
     },
     "metadata": {},
     "output_type": "display_data"
    },
    {
     "name": "stdout",
     "output_type": "stream",
     "text": [
      "{'fdr': 0.058823529411764705, 'tpr': 0.3076923076923077, 'fpr': 0.007246376811594203, 'shd': 36, 'pred_size': 17, 'thresh': 0.01, 'lambda1': 0.01, 'lambda2': 0.05, 'lr': 0.02}\n"
     ]
    },
    {
     "data": {
      "application/vnd.jupyter.widget-view+json": {
       "model_id": "383b44e826554465b1c8385b0ecdc31a",
       "version_major": 2,
       "version_minor": 0
      },
      "text/plain": [
       "  0%|          | 0/230000.0 [00:00<?, ?it/s]"
      ]
     },
     "metadata": {},
     "output_type": "display_data"
    },
    {
     "name": "stdout",
     "output_type": "stream",
     "text": [
      "{'fdr': 0.13333333333333333, 'tpr': 0.24528301886792453, 'fpr': 0.014598540145985401, 'shd': 40, 'pred_size': 15, 'thresh': 0.01, 'lambda1': 0.01, 'lambda2': 0.05, 'lr': 0.05}\n"
     ]
    },
    {
     "data": {
      "application/vnd.jupyter.widget-view+json": {
       "model_id": "d0e366aaaa874ddda5c19feff175dab5",
       "version_major": 2,
       "version_minor": 0
      },
      "text/plain": [
       "  0%|          | 0/230000.0 [00:00<?, ?it/s]"
      ]
     },
     "metadata": {},
     "output_type": "display_data"
    },
    {
     "name": "stdout",
     "output_type": "stream",
     "text": [
      "{'fdr': 0.0, 'tpr': 0.5142857142857142, 'fpr': 0.0, 'shd': 17, 'pred_size': 18, 'thresh': 0.01, 'lambda1': 0.02, 'lambda2': 0.005, 'lr': 0.005}\n"
     ]
    },
    {
     "data": {
      "application/vnd.jupyter.widget-view+json": {
       "model_id": "ffdaf9ae0e4042ca94a1ee4b334d9c80",
       "version_major": 2,
       "version_minor": 0
      },
      "text/plain": [
       "  0%|          | 0/230000.0 [00:00<?, ?it/s]"
      ]
     },
     "metadata": {},
     "output_type": "display_data"
    },
    {
     "name": "stdout",
     "output_type": "stream",
     "text": [
      "{'fdr': 0.0, 'tpr': 0.45, 'fpr': 0.0, 'shd': 22, 'pred_size': 18, 'thresh': 0.01, 'lambda1': 0.02, 'lambda2': 0.005, 'lr': 0.01}\n"
     ]
    },
    {
     "data": {
      "application/vnd.jupyter.widget-view+json": {
       "model_id": "4f5da18c7d784bacae599b63ddca0cbc",
       "version_major": 2,
       "version_minor": 0
      },
      "text/plain": [
       "  0%|          | 0/230000.0 [00:00<?, ?it/s]"
      ]
     },
     "metadata": {},
     "output_type": "display_data"
    },
    {
     "name": "stdout",
     "output_type": "stream",
     "text": [
      "{'fdr': 0.0, 'tpr': 0.4, 'fpr': 0.0, 'shd': 27, 'pred_size': 18, 'thresh': 0.01, 'lambda1': 0.02, 'lambda2': 0.005, 'lr': 0.02}\n"
     ]
    },
    {
     "data": {
      "application/vnd.jupyter.widget-view+json": {
       "model_id": "31a25ad0de4d4a438468bb6ecff89061",
       "version_major": 2,
       "version_minor": 0
      },
      "text/plain": [
       "  0%|          | 0/230000.0 [00:00<?, ?it/s]"
      ]
     },
     "metadata": {},
     "output_type": "display_data"
    },
    {
     "name": "stdout",
     "output_type": "stream",
     "text": [
      "{'fdr': 0.1111111111111111, 'tpr': 0.32653061224489793, 'fpr': 0.014184397163120567, 'shd': 33, 'pred_size': 18, 'thresh': 0.01, 'lambda1': 0.02, 'lambda2': 0.005, 'lr': 0.05}\n"
     ]
    },
    {
     "data": {
      "application/vnd.jupyter.widget-view+json": {
       "model_id": "98815490bf50474e9f1f7ec4631471a2",
       "version_major": 2,
       "version_minor": 0
      },
      "text/plain": [
       "  0%|          | 0/230000.0 [00:00<?, ?it/s]"
      ]
     },
     "metadata": {},
     "output_type": "display_data"
    },
    {
     "name": "stdout",
     "output_type": "stream",
     "text": [
      "{'fdr': 0.0, 'tpr': 0.4318181818181818, 'fpr': 0.0, 'shd': 25, 'pred_size': 19, 'thresh': 0.01, 'lambda1': 0.02, 'lambda2': 0.01, 'lr': 0.005}\n"
     ]
    },
    {
     "data": {
      "application/vnd.jupyter.widget-view+json": {
       "model_id": "94dc97b136c8415ab90452ce44bf70c7",
       "version_major": 2,
       "version_minor": 0
      },
      "text/plain": [
       "  0%|          | 0/230000.0 [00:00<?, ?it/s]"
      ]
     },
     "metadata": {},
     "output_type": "display_data"
    },
    {
     "name": "stdout",
     "output_type": "stream",
     "text": [
      "{'fdr': 0.1111111111111111, 'tpr': 0.38095238095238093, 'fpr': 0.013513513513513514, 'shd': 26, 'pred_size': 18, 'thresh': 0.01, 'lambda1': 0.02, 'lambda2': 0.01, 'lr': 0.01}\n"
     ]
    },
    {
     "data": {
      "application/vnd.jupyter.widget-view+json": {
       "model_id": "844b4764df7e46a98462a0b7e800bc15",
       "version_major": 2,
       "version_minor": 0
      },
      "text/plain": [
       "  0%|          | 0/230000.0 [00:00<?, ?it/s]"
      ]
     },
     "metadata": {},
     "output_type": "display_data"
    },
    {
     "name": "stdout",
     "output_type": "stream",
     "text": [
      "{'fdr': 0.041666666666666664, 'tpr': 0.5, 'fpr': 0.006944444444444444, 'shd': 23, 'pred_size': 24, 'thresh': 0.01, 'lambda1': 0.02, 'lambda2': 0.01, 'lr': 0.02}\n"
     ]
    },
    {
     "data": {
      "application/vnd.jupyter.widget-view+json": {
       "model_id": "5213466fce004e71a557f33c28d61a5d",
       "version_major": 2,
       "version_minor": 0
      },
      "text/plain": [
       "  0%|          | 0/230000.0 [00:00<?, ?it/s]"
      ]
     },
     "metadata": {},
     "output_type": "display_data"
    },
    {
     "name": "stdout",
     "output_type": "stream",
     "text": [
      "{'fdr': 0.25, 'tpr': 0.25862068965517243, 'fpr': 0.03787878787878788, 'shd': 43, 'pred_size': 20, 'thresh': 0.01, 'lambda1': 0.02, 'lambda2': 0.01, 'lr': 0.05}\n"
     ]
    },
    {
     "data": {
      "application/vnd.jupyter.widget-view+json": {
       "model_id": "7fe39a31175346dba2e14cc556f9ca34",
       "version_major": 2,
       "version_minor": 0
      },
      "text/plain": [
       "  0%|          | 0/230000.0 [00:00<?, ?it/s]"
      ]
     },
     "metadata": {},
     "output_type": "display_data"
    },
    {
     "name": "stdout",
     "output_type": "stream",
     "text": [
      "{'fdr': 0.0, 'tpr': 0.4, 'fpr': 0.0, 'shd': 24, 'pred_size': 16, 'thresh': 0.01, 'lambda1': 0.02, 'lambda2': 0.03, 'lr': 0.005}\n"
     ]
    },
    {
     "data": {
      "application/vnd.jupyter.widget-view+json": {
       "model_id": "995da5bc3fd849e9902fc8e7957569d3",
       "version_major": 2,
       "version_minor": 0
      },
      "text/plain": [
       "  0%|          | 0/230000.0 [00:00<?, ?it/s]"
      ]
     },
     "metadata": {},
     "output_type": "display_data"
    },
    {
     "name": "stdout",
     "output_type": "stream",
     "text": [
      "{'fdr': 0.13333333333333333, 'tpr': 0.30952380952380953, 'fpr': 0.013513513513513514, 'shd': 29, 'pred_size': 15, 'thresh': 0.01, 'lambda1': 0.02, 'lambda2': 0.03, 'lr': 0.01}\n"
     ]
    },
    {
     "data": {
      "application/vnd.jupyter.widget-view+json": {
       "model_id": "4db6f8a1c70240a9979bef3401f2b1ad",
       "version_major": 2,
       "version_minor": 0
      },
      "text/plain": [
       "  0%|          | 0/230000.0 [00:00<?, ?it/s]"
      ]
     },
     "metadata": {},
     "output_type": "display_data"
    },
    {
     "name": "stdout",
     "output_type": "stream",
     "text": [
      "{'fdr': 0.0625, 'tpr': 0.38461538461538464, 'fpr': 0.006622516556291391, 'shd': 24, 'pred_size': 16, 'thresh': 0.01, 'lambda1': 0.02, 'lambda2': 0.03, 'lr': 0.02}\n"
     ]
    },
    {
     "data": {
      "application/vnd.jupyter.widget-view+json": {
       "model_id": "cb06d4bf0ef5453c9b77adae2650270e",
       "version_major": 2,
       "version_minor": 0
      },
      "text/plain": [
       "  0%|          | 0/230000.0 [00:00<?, ?it/s]"
      ]
     },
     "metadata": {},
     "output_type": "display_data"
    },
    {
     "name": "stdout",
     "output_type": "stream",
     "text": [
      "{'fdr': 0.0, 'tpr': 0.46153846153846156, 'fpr': 0.0, 'shd': 21, 'pred_size': 18, 'thresh': 0.01, 'lambda1': 0.02, 'lambda2': 0.03, 'lr': 0.05}\n"
     ]
    },
    {
     "data": {
      "application/vnd.jupyter.widget-view+json": {
       "model_id": "557b68dd7ea3495b8ddb9a07c3383638",
       "version_major": 2,
       "version_minor": 0
      },
      "text/plain": [
       "  0%|          | 0/230000.0 [00:00<?, ?it/s]"
      ]
     },
     "metadata": {},
     "output_type": "display_data"
    },
    {
     "name": "stdout",
     "output_type": "stream",
     "text": [
      "{'fdr': 0.07142857142857142, 'tpr': 0.3023255813953488, 'fpr': 0.006802721088435374, 'shd': 30, 'pred_size': 14, 'thresh': 0.01, 'lambda1': 0.02, 'lambda2': 0.05, 'lr': 0.005}\n"
     ]
    },
    {
     "data": {
      "application/vnd.jupyter.widget-view+json": {
       "model_id": "398ae67880d148959028a72e1e9551e9",
       "version_major": 2,
       "version_minor": 0
      },
      "text/plain": [
       "  0%|          | 0/230000.0 [00:00<?, ?it/s]"
      ]
     },
     "metadata": {},
     "output_type": "display_data"
    },
    {
     "name": "stdout",
     "output_type": "stream",
     "text": [
      "{'fdr': 0.10526315789473684, 'tpr': 0.3695652173913043, 'fpr': 0.013888888888888888, 'shd': 29, 'pred_size': 19, 'thresh': 0.01, 'lambda1': 0.02, 'lambda2': 0.05, 'lr': 0.01}\n"
     ]
    },
    {
     "data": {
      "application/vnd.jupyter.widget-view+json": {
       "model_id": "81139b31bba54416b8d146a1a6b7fe98",
       "version_major": 2,
       "version_minor": 0
      },
      "text/plain": [
       "  0%|          | 0/230000.0 [00:00<?, ?it/s]"
      ]
     },
     "metadata": {},
     "output_type": "display_data"
    },
    {
     "name": "stdout",
     "output_type": "stream",
     "text": [
      "{'fdr': 0.2, 'tpr': 0.2962962962962963, 'fpr': 0.029411764705882353, 'shd': 38, 'pred_size': 20, 'thresh': 0.01, 'lambda1': 0.02, 'lambda2': 0.05, 'lr': 0.02}\n"
     ]
    },
    {
     "data": {
      "application/vnd.jupyter.widget-view+json": {
       "model_id": "dece6bd3e05144c295e1b8a981e97909",
       "version_major": 2,
       "version_minor": 0
      },
      "text/plain": [
       "  0%|          | 0/230000.0 [00:00<?, ?it/s]"
      ]
     },
     "metadata": {},
     "output_type": "display_data"
    },
    {
     "name": "stdout",
     "output_type": "stream",
     "text": [
      "{'fdr': 0.2857142857142857, 'tpr': 0.24193548387096775, 'fpr': 0.046875, 'shd': 47, 'pred_size': 21, 'thresh': 0.01, 'lambda1': 0.02, 'lambda2': 0.05, 'lr': 0.05}\n"
     ]
    },
    {
     "data": {
      "application/vnd.jupyter.widget-view+json": {
       "model_id": "b5622fa0a3b84f74b0589ea453294c27",
       "version_major": 2,
       "version_minor": 0
      },
      "text/plain": [
       "  0%|          | 0/230000.0 [00:00<?, ?it/s]"
      ]
     },
     "metadata": {},
     "output_type": "display_data"
    },
    {
     "name": "stdout",
     "output_type": "stream",
     "text": [
      "{'fdr': 0.0, 'tpr': 0.7619047619047619, 'fpr': 0.0, 'shd': 5, 'pred_size': 16, 'thresh': 0.01, 'lambda1': 0.05, 'lambda2': 0.005, 'lr': 0.005}\n"
     ]
    },
    {
     "data": {
      "application/vnd.jupyter.widget-view+json": {
       "model_id": "68851cbf100043958529b88851db0c53",
       "version_major": 2,
       "version_minor": 0
      },
      "text/plain": [
       "  0%|          | 0/230000.0 [00:00<?, ?it/s]"
      ]
     },
     "metadata": {},
     "output_type": "display_data"
    },
    {
     "ename": "KeyboardInterrupt",
     "evalue": "",
     "output_type": "error",
     "traceback": [
      "\u001b[0;31m---------------------------------------------------------------------------\u001b[0m",
      "\u001b[0;31mKeyboardInterrupt\u001b[0m                         Traceback (most recent call last)",
      "Cell \u001b[0;32mIn[11], line 1\u001b[0m\n\u001b[0;32m----> 1\u001b[0m grid_search\u001b[38;5;241m.\u001b[39mperform_grid_search(grid\u001b[38;5;241m=\u001b[39mgrid, model_func\u001b[38;5;241m=\u001b[39mdagma, output_dir\u001b[38;5;241m=\u001b[39m\u001b[38;5;124m'\u001b[39m\u001b[38;5;124mdagmats01.jsonl\u001b[39m\u001b[38;5;124m'\u001b[39m, thresh\u001b[38;5;241m=\u001b[39m\u001b[38;5;241m0.01\u001b[39m)\n",
      "File \u001b[0;32m~/Documents/GitHub/dsc180ProjectB/grid_search.py:33\u001b[0m, in \u001b[0;36mperform_grid_search\u001b[0;34m(grid, model_func, output_dir, thresh)\u001b[0m\n\u001b[1;32m     29\u001b[0m \u001b[38;5;28;01mdef\u001b[39;00m \u001b[38;5;21mperform_grid_search\u001b[39m(grid, model_func, output_dir, thresh\u001b[38;5;241m=\u001b[39m\u001b[38;5;241m0.0\u001b[39m):\n\u001b[1;32m     30\u001b[0m     \u001b[38;5;66;03m# we have the grid already, now we just iterate thru it\u001b[39;00m\n\u001b[1;32m     31\u001b[0m     \u001b[38;5;28;01mfor\u001b[39;00m g \u001b[38;5;129;01min\u001b[39;00m grid:\n\u001b[1;32m     32\u001b[0m         \u001b[38;5;66;03m# get estimantes and true dag\u001b[39;00m\n\u001b[0;32m---> 33\u001b[0m         A_est, A_true \u001b[38;5;241m=\u001b[39m model_func(\u001b[38;5;241m*\u001b[39m\u001b[38;5;241m*\u001b[39mg)\n\u001b[1;32m     34\u001b[0m         \u001b[38;5;66;03m# post process\u001b[39;00m\n\u001b[1;32m     35\u001b[0m         A_est, A_true \u001b[38;5;241m=\u001b[39m postprocess_A(A_est, A_true, graph_thres\u001b[38;5;241m=\u001b[39mthresh)\n",
      "Cell \u001b[0;32mIn[7], line 12\u001b[0m, in \u001b[0;36mdagma\u001b[0;34m(lambda1, lambda2, lr, thresh)\u001b[0m\n\u001b[1;32m     10\u001b[0m eq_model \u001b[38;5;241m=\u001b[39m dagmats\u001b[38;5;241m.\u001b[39mDagmaTS(n\u001b[38;5;241m=\u001b[39mn, p\u001b[38;5;241m=\u001b[39mp, d\u001b[38;5;241m=\u001b[39md)\n\u001b[1;32m     11\u001b[0m model \u001b[38;5;241m=\u001b[39m dagmats\u001b[38;5;241m.\u001b[39mDagmaLinear(eq_model, verbose\u001b[38;5;241m=\u001b[39m\u001b[38;5;28;01mFalse\u001b[39;00m)\n\u001b[0;32m---> 12\u001b[0m W_est \u001b[38;5;241m=\u001b[39m model\u001b[38;5;241m.\u001b[39mfit(X, Y, lambda1\u001b[38;5;241m=\u001b[39mlambda1, lambda2\u001b[38;5;241m=\u001b[39mlambda2, lr\u001b[38;5;241m=\u001b[39mlr, w_threshold\u001b[38;5;241m=\u001b[39mthresh)\n\u001b[1;32m     13\u001b[0m \u001b[38;5;28;01mreturn\u001b[39;00m W_est, A_true\n",
      "File \u001b[0;32m~/Documents/GitHub/dsc180ProjectB/dagma_nl/dagmats.py:307\u001b[0m, in \u001b[0;36mDagmaLinear.fit\u001b[0;34m(self, X, Y, lambda1, lambda2, T, mu_init, mu_factor, s, warm_iter, max_iter, lr, w_threshold, checkpoint)\u001b[0m\n\u001b[1;32m    305\u001b[0m lr_decay \u001b[38;5;241m=\u001b[39m \u001b[38;5;28;01mFalse\u001b[39;00m\n\u001b[1;32m    306\u001b[0m \u001b[38;5;28;01mwhile\u001b[39;00m success \u001b[38;5;129;01mis\u001b[39;00m \u001b[38;5;28;01mFalse\u001b[39;00m:\n\u001b[0;32m--> 307\u001b[0m     success \u001b[38;5;241m=\u001b[39m \u001b[38;5;28mself\u001b[39m\u001b[38;5;241m.\u001b[39mminimize(inner_iter, lr, lambda1, lambda2, mu, s_cur, \n\u001b[1;32m    308\u001b[0m                         lr_decay, pbar\u001b[38;5;241m=\u001b[39mpbar)\n\u001b[1;32m    309\u001b[0m     \u001b[38;5;28;01mif\u001b[39;00m success \u001b[38;5;129;01mis\u001b[39;00m \u001b[38;5;28;01mFalse\u001b[39;00m:\n\u001b[1;32m    310\u001b[0m         \u001b[38;5;28mself\u001b[39m\u001b[38;5;241m.\u001b[39mmodel\u001b[38;5;241m.\u001b[39mload_state_dict(model_copy\u001b[38;5;241m.\u001b[39mstate_dict()\u001b[38;5;241m.\u001b[39mcopy())\n",
      "File \u001b[0;32m~/Documents/GitHub/dsc180ProjectB/dagma_nl/dagmats.py:204\u001b[0m, in \u001b[0;36mDagmaLinear.minimize\u001b[0;34m(self, max_iter, lr, lambda1, lambda2, mu, s, lr_decay, tol, pbar)\u001b[0m\n\u001b[1;32m    202\u001b[0m l1_reg \u001b[38;5;241m=\u001b[39m lambda1 \u001b[38;5;241m*\u001b[39m \u001b[38;5;28mself\u001b[39m\u001b[38;5;241m.\u001b[39mmodel\u001b[38;5;241m.\u001b[39mfc1_l1_reg()\n\u001b[1;32m    203\u001b[0m obj \u001b[38;5;241m=\u001b[39m mu \u001b[38;5;241m*\u001b[39m (score \u001b[38;5;241m+\u001b[39m l1_reg) \u001b[38;5;241m+\u001b[39m h_val\n\u001b[0;32m--> 204\u001b[0m obj\u001b[38;5;241m.\u001b[39mbackward()\n\u001b[1;32m    205\u001b[0m optimizer\u001b[38;5;241m.\u001b[39mstep()\n\u001b[1;32m    206\u001b[0m \u001b[38;5;28;01mif\u001b[39;00m lr_decay \u001b[38;5;129;01mand\u001b[39;00m (i\u001b[38;5;241m+\u001b[39m\u001b[38;5;241m1\u001b[39m) \u001b[38;5;241m%\u001b[39m \u001b[38;5;241m1000\u001b[39m \u001b[38;5;241m==\u001b[39m \u001b[38;5;241m0\u001b[39m: \u001b[38;5;66;03m#every 1000 iters reduce lr\u001b[39;00m\n",
      "File \u001b[0;32m~/anaconda3/lib/python3.11/site-packages/torch/_tensor.py:492\u001b[0m, in \u001b[0;36mTensor.backward\u001b[0;34m(self, gradient, retain_graph, create_graph, inputs)\u001b[0m\n\u001b[1;32m    482\u001b[0m \u001b[38;5;28;01mif\u001b[39;00m has_torch_function_unary(\u001b[38;5;28mself\u001b[39m):\n\u001b[1;32m    483\u001b[0m     \u001b[38;5;28;01mreturn\u001b[39;00m handle_torch_function(\n\u001b[1;32m    484\u001b[0m         Tensor\u001b[38;5;241m.\u001b[39mbackward,\n\u001b[1;32m    485\u001b[0m         (\u001b[38;5;28mself\u001b[39m,),\n\u001b[0;32m   (...)\u001b[0m\n\u001b[1;32m    490\u001b[0m         inputs\u001b[38;5;241m=\u001b[39minputs,\n\u001b[1;32m    491\u001b[0m     )\n\u001b[0;32m--> 492\u001b[0m torch\u001b[38;5;241m.\u001b[39mautograd\u001b[38;5;241m.\u001b[39mbackward(\n\u001b[1;32m    493\u001b[0m     \u001b[38;5;28mself\u001b[39m, gradient, retain_graph, create_graph, inputs\u001b[38;5;241m=\u001b[39minputs\n\u001b[1;32m    494\u001b[0m )\n",
      "File \u001b[0;32m~/anaconda3/lib/python3.11/site-packages/torch/autograd/__init__.py:251\u001b[0m, in \u001b[0;36mbackward\u001b[0;34m(tensors, grad_tensors, retain_graph, create_graph, grad_variables, inputs)\u001b[0m\n\u001b[1;32m    246\u001b[0m     retain_graph \u001b[38;5;241m=\u001b[39m create_graph\n\u001b[1;32m    248\u001b[0m \u001b[38;5;66;03m# The reason we repeat the same comment below is that\u001b[39;00m\n\u001b[1;32m    249\u001b[0m \u001b[38;5;66;03m# some Python versions print out the first line of a multi-line function\u001b[39;00m\n\u001b[1;32m    250\u001b[0m \u001b[38;5;66;03m# calls in the traceback and some print out the last line\u001b[39;00m\n\u001b[0;32m--> 251\u001b[0m Variable\u001b[38;5;241m.\u001b[39m_execution_engine\u001b[38;5;241m.\u001b[39mrun_backward(  \u001b[38;5;66;03m# Calls into the C++ engine to run the backward pass\u001b[39;00m\n\u001b[1;32m    252\u001b[0m     tensors,\n\u001b[1;32m    253\u001b[0m     grad_tensors_,\n\u001b[1;32m    254\u001b[0m     retain_graph,\n\u001b[1;32m    255\u001b[0m     create_graph,\n\u001b[1;32m    256\u001b[0m     inputs,\n\u001b[1;32m    257\u001b[0m     allow_unreachable\u001b[38;5;241m=\u001b[39m\u001b[38;5;28;01mTrue\u001b[39;00m,\n\u001b[1;32m    258\u001b[0m     accumulate_grad\u001b[38;5;241m=\u001b[39m\u001b[38;5;28;01mTrue\u001b[39;00m,\n\u001b[1;32m    259\u001b[0m )\n",
      "\u001b[0;31mKeyboardInterrupt\u001b[0m: "
     ]
    }
   ],
   "source": [
    "grid_search.perform_grid_search(grid=grid, model_func=dagma, output_dir='dagmats01.jsonl', thresh=0.01)"
   ]
  },
  {
   "cell_type": "code",
   "execution_count": null,
   "metadata": {},
   "outputs": [],
   "source": []
  }
 ],
 "metadata": {
  "kernelspec": {
   "display_name": "base",
   "language": "python",
   "name": "python3"
  },
  "language_info": {
   "codemirror_mode": {
    "name": "ipython",
    "version": 3
   },
   "file_extension": ".py",
   "mimetype": "text/x-python",
   "name": "python",
   "nbconvert_exporter": "python",
   "pygments_lexer": "ipython3",
   "version": "3.11.7"
  }
 },
 "nbformat": 4,
 "nbformat_minor": 2
}
