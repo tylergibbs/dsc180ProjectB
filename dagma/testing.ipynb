{
 "cells": [
  {
   "cell_type": "code",
   "execution_count": 2,
   "metadata": {},
   "outputs": [],
   "source": [
    "import matplotlib.pyplot as plt\n",
    "import nonlinear_dagma"
   ]
  },
  {
   "cell_type": "code",
   "execution_count": 4,
   "metadata": {},
   "outputs": [
    {
     "name": "stdout",
     "output_type": "stream",
     "text": [
      "(20, 5)\n"
     ]
    },
    {
     "data": {
      "application/vnd.jupyter.widget-view+json": {
       "model_id": "382dfac30a8e4b67b271f839d045e68a",
       "version_major": 2,
       "version_minor": 0
      },
      "text/plain": [
       "  0%|          | 0/230000.0 [00:00<?, ?it/s]"
      ]
     },
     "metadata": {},
     "output_type": "display_data"
    },
    {
     "ename": "KeyboardInterrupt",
     "evalue": "",
     "output_type": "error",
     "traceback": [
      "\u001b[1;31m---------------------------------------------------------------------------\u001b[0m",
      "\u001b[1;31mKeyboardInterrupt\u001b[0m                         Traceback (most recent call last)",
      "Cell \u001b[1;32mIn[4], line 1\u001b[0m\n\u001b[1;32m----> 1\u001b[0m gen, truth \u001b[38;5;241m=\u001b[39m nonlinear_dagma\u001b[38;5;241m.\u001b[39mtest(mlp\u001b[38;5;241m=\u001b[39m\u001b[38;5;28;01mTrue\u001b[39;00m, d\u001b[38;5;241m=\u001b[39m\u001b[38;5;241m5\u001b[39m)\n",
      "File \u001b[1;32m~\\Documents\\Github\\dsc180ProjectB\\dagma\\nonlinear_dagma.py:394\u001b[0m, in \u001b[0;36mtest\u001b[1;34m(mlp, d)\u001b[0m\n\u001b[0;32m    392\u001b[0m adj \u001b[38;5;241m=\u001b[39m eq_model\u001b[38;5;241m.\u001b[39mfc1_to_adj()\n\u001b[0;32m    393\u001b[0m \u001b[38;5;28mprint\u001b[39m(adj\u001b[38;5;241m.\u001b[39mshape)\n\u001b[1;32m--> 394\u001b[0m W_est \u001b[38;5;241m=\u001b[39m model\u001b[38;5;241m.\u001b[39mfit(X, Y, lambda1\u001b[38;5;241m=\u001b[39m\u001b[38;5;241m0.01\u001b[39m, lambda2\u001b[38;5;241m=\u001b[39m\u001b[38;5;241m0.03\u001b[39m, lr\u001b[38;5;241m=\u001b[39m\u001b[38;5;241m0.02\u001b[39m, w_threshold\u001b[38;5;241m=\u001b[39m\u001b[38;5;241m0\u001b[39m)\n\u001b[0;32m    395\u001b[0m \u001b[38;5;28;01mreturn\u001b[39;00m W_est, A_true\n",
      "File \u001b[1;32m~\\Documents\\Github\\dsc180ProjectB\\dagma\\nonlinear_dagma.py:358\u001b[0m, in \u001b[0;36mDagmaNonlinear.fit\u001b[1;34m(self, X, Y, lambda1, lambda2, T, mu_init, mu_factor, s, warm_iter, max_iter, lr, w_threshold, checkpoint)\u001b[0m\n\u001b[0;32m    356\u001b[0m lr_decay \u001b[38;5;241m=\u001b[39m \u001b[38;5;28;01mFalse\u001b[39;00m\n\u001b[0;32m    357\u001b[0m \u001b[38;5;28;01mwhile\u001b[39;00m success \u001b[38;5;129;01mis\u001b[39;00m \u001b[38;5;28;01mFalse\u001b[39;00m:\n\u001b[1;32m--> 358\u001b[0m     success \u001b[38;5;241m=\u001b[39m \u001b[38;5;28mself\u001b[39m\u001b[38;5;241m.\u001b[39mminimize(inner_iter, lr, lambda1, lambda2, mu, s_cur, \n\u001b[0;32m    359\u001b[0m                         lr_decay, pbar\u001b[38;5;241m=\u001b[39mpbar)\n\u001b[0;32m    360\u001b[0m     \u001b[38;5;28;01mif\u001b[39;00m success \u001b[38;5;129;01mis\u001b[39;00m \u001b[38;5;28;01mFalse\u001b[39;00m:\n\u001b[0;32m    361\u001b[0m         \u001b[38;5;28mself\u001b[39m\u001b[38;5;241m.\u001b[39mmodel\u001b[38;5;241m.\u001b[39mload_state_dict(model_copy\u001b[38;5;241m.\u001b[39mstate_dict()\u001b[38;5;241m.\u001b[39mcopy())\n",
      "File \u001b[1;32m~\\Documents\\Github\\dsc180ProjectB\\dagma\\nonlinear_dagma.py:251\u001b[0m, in \u001b[0;36mDagmaNonlinear.minimize\u001b[1;34m(self, max_iter, lr, lambda1, lambda2, mu, s, lr_decay, tol, pbar)\u001b[0m\n\u001b[0;32m    249\u001b[0m     \u001b[38;5;28;01mreturn\u001b[39;00m \u001b[38;5;28;01mFalse\u001b[39;00m\n\u001b[0;32m    250\u001b[0m X_hat \u001b[38;5;241m=\u001b[39m \u001b[38;5;28mself\u001b[39m\u001b[38;5;241m.\u001b[39mmodel(\u001b[38;5;28mself\u001b[39m\u001b[38;5;241m.\u001b[39mY)\n\u001b[1;32m--> 251\u001b[0m score \u001b[38;5;241m=\u001b[39m \u001b[38;5;28mself\u001b[39m\u001b[38;5;241m.\u001b[39mlog_mse_loss(X_hat, \u001b[38;5;28mself\u001b[39m\u001b[38;5;241m.\u001b[39mX)\n\u001b[0;32m    253\u001b[0m l1_reg \u001b[38;5;241m=\u001b[39m lambda1 \u001b[38;5;241m*\u001b[39m \u001b[38;5;28mself\u001b[39m\u001b[38;5;241m.\u001b[39mmodel\u001b[38;5;241m.\u001b[39mfc1_l1_reg()\n\u001b[0;32m    254\u001b[0m obj \u001b[38;5;241m=\u001b[39m mu \u001b[38;5;241m*\u001b[39m (score \u001b[38;5;241m+\u001b[39m l1_reg) \u001b[38;5;241m+\u001b[39m h_val\n",
      "File \u001b[1;32m~\\Documents\\Github\\dsc180ProjectB\\dagma\\nonlinear_dagma.py:190\u001b[0m, in \u001b[0;36mDagmaNonlinear.log_mse_loss\u001b[1;34m(self, output, target)\u001b[0m\n\u001b[0;32m    172\u001b[0m \u001b[38;5;250m\u001b[39m\u001b[38;5;124mr\u001b[39m\u001b[38;5;124;03m\"\"\"\u001b[39;00m\n\u001b[0;32m    173\u001b[0m \u001b[38;5;124;03mComputes the logarithm of the MSE loss:\u001b[39;00m\n\u001b[0;32m    174\u001b[0m \u001b[38;5;124;03m    .. math::\u001b[39;00m\n\u001b[1;32m   (...)\u001b[0m\n\u001b[0;32m    187\u001b[0m \u001b[38;5;124;03m    A scalar value of the loss.\u001b[39;00m\n\u001b[0;32m    188\u001b[0m \u001b[38;5;124;03m\"\"\"\u001b[39;00m\n\u001b[0;32m    189\u001b[0m n, d \u001b[38;5;241m=\u001b[39m target\u001b[38;5;241m.\u001b[39mshape\n\u001b[1;32m--> 190\u001b[0m loss \u001b[38;5;241m=\u001b[39m \u001b[38;5;241m0.5\u001b[39m \u001b[38;5;241m*\u001b[39m d \u001b[38;5;241m*\u001b[39m torch\u001b[38;5;241m.\u001b[39mlog(\u001b[38;5;241m1\u001b[39m \u001b[38;5;241m/\u001b[39m n \u001b[38;5;241m*\u001b[39m torch\u001b[38;5;241m.\u001b[39msum((output \u001b[38;5;241m-\u001b[39m target) \u001b[38;5;241m*\u001b[39m\u001b[38;5;241m*\u001b[39m \u001b[38;5;241m2\u001b[39m))\n\u001b[0;32m    191\u001b[0m \u001b[38;5;28;01mreturn\u001b[39;00m loss\n",
      "File \u001b[1;32m~\\anaconda3\\Lib\\site-packages\\torch\\_tensor.py:40\u001b[0m, in \u001b[0;36m_handle_torch_function_and_wrap_type_error_to_not_implemented.<locals>.wrapped\u001b[1;34m(*args, **kwargs)\u001b[0m\n\u001b[0;32m     38\u001b[0m     \u001b[38;5;28;01mif\u001b[39;00m has_torch_function(args):\n\u001b[0;32m     39\u001b[0m         \u001b[38;5;28;01mreturn\u001b[39;00m handle_torch_function(wrapped, args, \u001b[38;5;241m*\u001b[39margs, \u001b[38;5;241m*\u001b[39m\u001b[38;5;241m*\u001b[39mkwargs)\n\u001b[1;32m---> 40\u001b[0m     \u001b[38;5;28;01mreturn\u001b[39;00m f(\u001b[38;5;241m*\u001b[39margs, \u001b[38;5;241m*\u001b[39m\u001b[38;5;241m*\u001b[39mkwargs)\n\u001b[0;32m     41\u001b[0m \u001b[38;5;28;01mexcept\u001b[39;00m \u001b[38;5;167;01mTypeError\u001b[39;00m:\n\u001b[0;32m     42\u001b[0m     \u001b[38;5;28;01mreturn\u001b[39;00m \u001b[38;5;28mNotImplemented\u001b[39m\n",
      "\u001b[1;31mKeyboardInterrupt\u001b[0m: "
     ]
    }
   ],
   "source": [
    "gen, truth = nonlinear_dagma.test(mlp=True, d=5)"
   ]
  },
  {
   "cell_type": "code",
   "execution_count": 1,
   "metadata": {},
   "outputs": [
    {
     "data": {
      "text/plain": [
       "1"
      ]
     },
     "execution_count": 1,
     "metadata": {},
     "output_type": "execute_result"
    }
   ],
   "source": [
    "import torch\n",
    "torch.cuda.device_count()"
   ]
  },
  {
   "cell_type": "code",
   "execution_count": 2,
   "metadata": {},
   "outputs": [
    {
     "name": "stdout",
     "output_type": "stream",
     "text": [
      "None\n"
     ]
    }
   ],
   "source": [
    "print(torch.version.cuda)"
   ]
  },
  {
   "cell_type": "code",
   "execution_count": 15,
   "metadata": {},
   "outputs": [
    {
     "data": {
      "text/plain": [
       "<matplotlib.image.AxesImage at 0x164662b50>"
      ]
     },
     "execution_count": 15,
     "metadata": {},
     "output_type": "execute_result"
    },
    {
     "data": {
      "image/png": "[encoded data removed]",
      "text/plain": [
       "<Figure size 640x480 with 1 Axes>"
      ]
     },
     "metadata": {},
     "output_type": "display_data"
    }
   ],
   "source": [
    "plt.imshow(truth)"
   ]
  },
  {
   "cell_type": "code",
   "execution_count": 18,
   "metadata": {},
   "outputs": [
    {
     "data": {
      "text/plain": [
       "<matplotlib.image.AxesImage at 0x16756d750>"
      ]
     },
     "execution_count": 18,
     "metadata": {},
     "output_type": "execute_result"
    },
    {
     "data": {
      "image/png": "[encoded data removed]",
      "text/plain": [
       "<Figure size 640x480 with 1 Axes>"
      ]
     },
     "metadata": {},
     "output_type": "display_data"
    }
   ],
   "source": [
    "plt.imshow(gen)"
   ]
  },
  {
   "cell_type": "code",
   "execution_count": 17,
   "metadata": {},
   "outputs": [],
   "source": [
    "import numpy as np\n",
    "gen[np.abs(gen) < 0.3] = 0\n"
   ]
  },
  {
   "cell_type": "code",
   "execution_count": 6,
   "metadata": {},
   "outputs": [
    {
     "data": {
      "text/plain": [
       "array([[ 0.        ,  0.        ,  0.        ,  0.        ,  0.        ],\n",
       "       [ 0.81744217,  0.        , -0.74806149,  0.        ,  0.70891452],\n",
       "       [ 0.        ,  0.        ,  0.        ,  0.        ,  0.        ],\n",
       "       [-0.68278624,  0.        ,  0.57493019,  0.        ,  0.        ],\n",
       "       [-1.85247975,  0.        ,  1.30384461, -1.32815971,  0.        ],\n",
       "       [ 0.38250777,  0.        , -0.40688278, -0.4827924 ,  0.        ],\n",
       "       [ 0.3892269 ,  0.        ,  0.        ,  0.        , -0.4605515 ],\n",
       "       [ 0.        ,  0.        ,  0.        ,  0.        ,  0.        ],\n",
       "       [ 0.        ,  0.        ,  0.        ,  0.        ,  0.        ],\n",
       "       [-0.38235758,  0.        ,  0.        ,  0.        ,  0.        ],\n",
       "       [ 0.        ,  0.        ,  0.        ,  0.        ,  0.        ],\n",
       "       [ 0.        , -0.42473444,  0.        ,  0.43817938,  0.        ],\n",
       "       [ 0.        ,  0.        ,  0.        ,  0.        ,  0.        ],\n",
       "       [ 0.        ,  0.        ,  0.        ,  0.44230495,  0.        ],\n",
       "       [ 0.        ,  0.        ,  0.        ,  0.        ,  0.        ],\n",
       "       [ 0.49635133,  0.47860424,  0.        ,  0.        ,  0.        ],\n",
       "       [ 0.        ,  0.        ,  0.        ,  0.        ,  0.        ],\n",
       "       [ 0.        ,  0.        ,  0.        ,  0.        ,  0.        ],\n",
       "       [-0.35492903,  0.        ,  0.        ,  0.31485169,  0.        ],\n",
       "       [ 0.        ,  0.        ,  0.        ,  0.        ,  0.        ]])"
      ]
     },
     "execution_count": 6,
     "metadata": {},
     "output_type": "execute_result"
    }
   ],
   "source": [
    "truth"
   ]
  },
  {
   "cell_type": "code",
   "execution_count": 7,
   "metadata": {},
   "outputs": [],
   "source": [
    "import torch"
   ]
  },
  {
   "cell_type": "code",
   "execution_count": 8,
   "metadata": {},
   "outputs": [],
   "source": [
    "h = 10\n",
    "d = 5\n",
    "pd = 20\n",
    "n = 50"
   ]
  },
  {
   "cell_type": "code",
   "execution_count": 9,
   "metadata": {},
   "outputs": [],
   "source": [
    "fc1 = torch.randn(h*d, pd)"
   ]
  },
  {
   "cell_type": "code",
   "execution_count": 10,
   "metadata": {},
   "outputs": [
    {
     "data": {
      "text/plain": [
       "tensor([[ 1.1315,  0.4815,  1.8275, -1.6126,  0.1254, -0.1532, -0.4301, -1.2727,\n",
       "          1.2000, -1.3809,  0.6794,  0.5592, -1.0355,  0.7954, -0.9056,  0.4815,\n",
       "          1.2298, -2.8974,  0.9570,  1.1828],\n",
       "        [-1.0419,  0.6527, -0.9666,  1.9298,  0.2241, -0.8234,  0.6740,  0.1197,\n",
       "         -0.6160,  0.4897, -1.3391, -0.6780,  1.7048,  0.5397,  0.3373, -1.1223,\n",
       "          1.3699, -0.0132, -0.3245, -0.9115],\n",
       "        [ 0.9313,  0.8806,  0.8787, -0.1083, -0.2757, -0.7145, -1.0666,  0.5455,\n",
       "         -1.7605, -0.1624, -0.8437,  0.2596, -0.3651, -0.4998, -0.6632, -0.0297,\n",
       "         -1.4720,  0.5062,  0.1908, -0.8031],\n",
       "        [ 1.9904,  0.3446, -1.1050, -0.5269, -0.7783, -0.7889, -0.4459, -1.6852,\n",
       "          1.2110,  0.8489, -0.0111, -0.3423, -0.4706, -1.2217,  0.0664,  0.6780,\n",
       "          0.9798,  0.4499, -0.0662, -0.8631],\n",
       "        [ 0.3757,  0.0604, -1.7920,  0.7734, -0.8229, -1.4478,  0.7717, -1.1647,\n",
       "         -0.8692,  0.3026,  1.0106,  0.7183,  0.6866,  0.2266,  0.4419, -0.6714,\n",
       "         -0.0198, -1.4637,  0.7599,  0.0444],\n",
       "        [-0.5495,  0.4732,  1.0135, -2.1073, -0.5684, -0.5033,  0.6087, -0.0847,\n",
       "          0.0583,  0.7698,  0.5061,  0.5594, -1.6292, -2.5140,  0.2597, -1.4910,\n",
       "          1.7781,  1.3393,  1.7483, -0.0037],\n",
       "        [ 0.8936,  0.9393,  0.6654, -0.1429, -0.1038,  0.6640, -0.1666, -0.9609,\n",
       "         -0.7271, -0.8152,  1.1164, -0.1143,  0.5621,  1.3845,  0.0322, -0.2539,\n",
       "          1.3668, -0.6620,  0.2023,  0.4228],\n",
       "        [ 0.9191,  0.3374, -0.3052,  0.2171, -0.6189,  1.2935,  0.7699, -1.6289,\n",
       "         -0.5287,  0.3453,  0.3187,  0.8866,  0.7466,  0.4375, -1.0605, -0.3511,\n",
       "          1.3358, -1.0258,  0.2047, -0.7605],\n",
       "        [ 0.8071, -1.3754, -1.1940,  0.6360,  0.2395, -0.6170,  0.1170, -0.9676,\n",
       "         -1.3197, -0.3047,  1.3144, -2.6208, -0.1683, -1.7067,  1.2749, -0.0401,\n",
       "          0.7340, -0.7063, -0.8377, -0.1409],\n",
       "        [-0.5062,  0.3449,  0.9857,  0.6597,  0.0685,  0.6896,  1.0585, -0.2785,\n",
       "         -0.1413, -1.7685, -0.9045, -0.3416, -1.9859,  0.4739, -1.1985, -0.4758,\n",
       "          0.1139,  0.8916,  3.2144, -0.3787]])"
      ]
     },
     "execution_count": 10,
     "metadata": {},
     "output_type": "execute_result"
    }
   ],
   "source": [
    "fc1[:h]"
   ]
  },
  {
   "cell_type": "code",
   "execution_count": 3,
   "metadata": {},
   "outputs": [],
   "source": [
    "import torch\n",
    "device = torch.device(\"cuda:0\" if torch.cuda.is_available() else \"cpu\")\n"
   ]
  },
  {
   "cell_type": "code",
   "execution_count": 10,
   "metadata": {},
   "outputs": [
    {
     "data": {
      "text/plain": [
       "device(type='cpu')"
      ]
     },
     "execution_count": 10,
     "metadata": {},
     "output_type": "execute_result"
    }
   ],
   "source": [
    "torch.zeros((5, 3)).device"
   ]
  },
  {
   "cell_type": "code",
   "execution_count": 10,
   "metadata": {},
   "outputs": [
    {
     "ename": "AttributeError",
     "evalue": "'Adam' object has no attribute 'to'",
     "output_type": "error",
     "traceback": [
      "\u001b[0;31m---------------------------------------------------------------------------\u001b[0m",
      "\u001b[0;31mAttributeError\u001b[0m                            Traceback (most recent call last)",
      "\u001b[0;32m/tmp/ipykernel_51765/2202705310.py\u001b[0m in \u001b[0;36m<module>\u001b[0;34m\u001b[0m\n\u001b[0;32m----> 1\u001b[0;31m \u001b[0mtorch\u001b[0m\u001b[0;34m.\u001b[0m\u001b[0moptim\u001b[0m\u001b[0;34m.\u001b[0m\u001b[0mAdam\u001b[0m\u001b[0;34m(\u001b[0m\u001b[0mparams\u001b[0m\u001b[0;34m=\u001b[0m\u001b[0;34m[\u001b[0m\u001b[0mtorch\u001b[0m\u001b[0;34m.\u001b[0m\u001b[0mnn\u001b[0m\u001b[0;34m.\u001b[0m\u001b[0mParameter\u001b[0m\u001b[0;34m(\u001b[0m\u001b[0;34m)\u001b[0m\u001b[0;34m]\u001b[0m\u001b[0;34m)\u001b[0m\u001b[0;34m.\u001b[0m\u001b[0mto\u001b[0m\u001b[0;34m(\u001b[0m\u001b[0mdevice\u001b[0m\u001b[0;34m)\u001b[0m\u001b[0;34m\u001b[0m\u001b[0;34m\u001b[0m\u001b[0m\n\u001b[0m",
      "\u001b[0;31mAttributeError\u001b[0m: 'Adam' object has no attribute 'to'"
     ]
    }
   ],
   "source": [
    "torch.optim.Adam(params=[torch.nn.Parameter()])"
   ]
  },
  {
   "cell_type": "code",
   "execution_count": null,
   "metadata": {},
   "outputs": [],
   "source": []
  },
  {
   "cell_type": "code",
   "execution_count": 1,
   "metadata": {},
   "outputs": [],
   "source": [
    "import matplotlib.pyplot as plt\n",
    "import dagmats"
   ]
  },
  {
   "cell_type": "code",
   "execution_count": 2,
   "metadata": {},
   "outputs": [
    {
     "data": {
      "application/vnd.jupyter.widget-view+json": {
       "model_id": "4d3d0f4a5b974a6eb9e28b9b183ba8c9",
       "version_major": 2,
       "version_minor": 0
      },
      "text/plain": [
       "  0%|          | 0/230000.0 [00:00<?, ?it/s]"
      ]
     },
     "metadata": {},
     "output_type": "display_data"
    },
    {
     "name": "stdout",
     "output_type": "stream",
     "text": [
      "\n",
      "Dagma iter t=1 -- mu: 0.1 ------------------------------\n",
      "\n",
      "Minimize s=1.0 -- lr=0.02\n",
      "\n",
      "Inner iteration 0\n",
      "\th(W(model)): 0.0\n",
      "\tscore(model): 0.7021299606988249\n",
      "\n",
      "Inner iteration 1000\n",
      "\th(W(model)): 0.036031209270895634\n",
      "\tscore(model): 0.42058396120012437\n",
      "\n",
      "Inner iteration 2000\n",
      "\th(W(model)): 0.03586771709916359\n",
      "\tscore(model): 0.42053150537857753\n",
      "\n",
      "Inner iteration 3000\n",
      "\th(W(model)): 0.03591532939138169\n",
      "\tscore(model): 0.42053158702193494\n",
      "\n",
      "Dagma iter t=2 -- mu: 0.010000000000000002 ------------------------------\n",
      "\n",
      "Minimize s=1.0 -- lr=0.02\n",
      "\n",
      "Inner iteration 0\n",
      "\th(W(model)): 0.03588837613650983\n",
      "\tscore(model): 0.07435274889210157\n",
      "\n",
      "Inner iteration 1000\n",
      "\th(W(model)): 0.0003490504001051835\n",
      "\tscore(model): 0.04489492267390335\n",
      "\n",
      "Inner iteration 2000\n",
      "\th(W(model)): 0.0003438868759907314\n",
      "\tscore(model): 0.044895812744957894\n",
      "\n",
      "Inner iteration 3000\n",
      "\th(W(model)): 0.00034308945930960156\n",
      "\tscore(model): 0.044895835485796474\n",
      "\n",
      "Dagma iter t=3 -- mu: 0.0010000000000000002 ------------------------------\n",
      "\n",
      "Minimize s=1.0 -- lr=0.02\n",
      "\n",
      "Inner iteration 0\n",
      "\th(W(model)): 0.0003432869328413056\n",
      "\tscore(model): 0.00479851908172977\n",
      "\n",
      "Inner iteration 1000\n",
      "\th(W(model)): 3.585420263100259e-06\n",
      "\tscore(model): 0.00451595203860111\n",
      "\n",
      "Inner iteration 2000\n",
      "\th(W(model)): 3.5743347476132165e-06\n",
      "\tscore(model): 0.004516097967499209\n"
     ]
    },
    {
     "ename": "KeyboardInterrupt",
     "evalue": "",
     "output_type": "error",
     "traceback": [
      "\u001b[0;31m---------------------------------------------------------------------------\u001b[0m",
      "\u001b[0;31mKeyboardInterrupt\u001b[0m                         Traceback (most recent call last)",
      "Cell \u001b[0;32mIn[2], line 1\u001b[0m\n\u001b[0;32m----> 1\u001b[0m est, true \u001b[38;5;241m=\u001b[39m dagmats\u001b[38;5;241m.\u001b[39mtest()\n",
      "File \u001b[0;32m~/Documents/GitHub/dsc180ProjectB/dagma/dagmats.py:342\u001b[0m, in \u001b[0;36mtest\u001b[0;34m()\u001b[0m\n\u001b[1;32m    339\u001b[0m eq_model \u001b[38;5;241m=\u001b[39m eq_model\u001b[38;5;241m.\u001b[39mto(device)\n\u001b[1;32m    341\u001b[0m model \u001b[38;5;241m=\u001b[39m DagmaLinear(eq_model, verbose\u001b[38;5;241m=\u001b[39m\u001b[38;5;28;01mTrue\u001b[39;00m)\n\u001b[0;32m--> 342\u001b[0m W_est \u001b[38;5;241m=\u001b[39m model\u001b[38;5;241m.\u001b[39mfit(X, Y, lambda1\u001b[38;5;241m=\u001b[39m\u001b[38;5;241m0.01\u001b[39m, lambda2\u001b[38;5;241m=\u001b[39m\u001b[38;5;241m0.03\u001b[39m, lr\u001b[38;5;241m=\u001b[39m\u001b[38;5;241m0.02\u001b[39m, w_threshold\u001b[38;5;241m=\u001b[39m\u001b[38;5;241m0\u001b[39m)\n\u001b[1;32m    343\u001b[0m \u001b[38;5;28;01mreturn\u001b[39;00m W_est, A_true\n",
      "File \u001b[0;32m~/Documents/GitHub/dsc180ProjectB/dagma/dagmats.py:307\u001b[0m, in \u001b[0;36mDagmaLinear.fit\u001b[0;34m(self, X, Y, lambda1, lambda2, T, mu_init, mu_factor, s, warm_iter, max_iter, lr, w_threshold, checkpoint)\u001b[0m\n\u001b[1;32m    305\u001b[0m lr_decay \u001b[38;5;241m=\u001b[39m \u001b[38;5;28;01mFalse\u001b[39;00m\n\u001b[1;32m    306\u001b[0m \u001b[38;5;28;01mwhile\u001b[39;00m success \u001b[38;5;129;01mis\u001b[39;00m \u001b[38;5;28;01mFalse\u001b[39;00m:\n\u001b[0;32m--> 307\u001b[0m     success \u001b[38;5;241m=\u001b[39m \u001b[38;5;28mself\u001b[39m\u001b[38;5;241m.\u001b[39mminimize(inner_iter, lr, lambda1, lambda2, mu, s_cur, \n\u001b[1;32m    308\u001b[0m                         lr_decay, pbar\u001b[38;5;241m=\u001b[39mpbar)\n\u001b[1;32m    309\u001b[0m     \u001b[38;5;28;01mif\u001b[39;00m success \u001b[38;5;129;01mis\u001b[39;00m \u001b[38;5;28;01mFalse\u001b[39;00m:\n\u001b[1;32m    310\u001b[0m         \u001b[38;5;28mself\u001b[39m\u001b[38;5;241m.\u001b[39mmodel\u001b[38;5;241m.\u001b[39mload_state_dict(model_copy\u001b[38;5;241m.\u001b[39mstate_dict()\u001b[38;5;241m.\u001b[39mcopy())\n",
      "File \u001b[0;32m~/Documents/GitHub/dsc180ProjectB/dagma/dagmats.py:204\u001b[0m, in \u001b[0;36mDagmaLinear.minimize\u001b[0;34m(self, max_iter, lr, lambda1, lambda2, mu, s, lr_decay, tol, pbar)\u001b[0m\n\u001b[1;32m    202\u001b[0m l1_reg \u001b[38;5;241m=\u001b[39m lambda1 \u001b[38;5;241m*\u001b[39m \u001b[38;5;28mself\u001b[39m\u001b[38;5;241m.\u001b[39mmodel\u001b[38;5;241m.\u001b[39mfc1_l1_reg()\n\u001b[1;32m    203\u001b[0m obj \u001b[38;5;241m=\u001b[39m mu \u001b[38;5;241m*\u001b[39m (score \u001b[38;5;241m+\u001b[39m l1_reg) \u001b[38;5;241m+\u001b[39m h_val\n\u001b[0;32m--> 204\u001b[0m obj\u001b[38;5;241m.\u001b[39mbackward()\n\u001b[1;32m    205\u001b[0m optimizer\u001b[38;5;241m.\u001b[39mstep()\n\u001b[1;32m    206\u001b[0m \u001b[38;5;28;01mif\u001b[39;00m lr_decay \u001b[38;5;129;01mand\u001b[39;00m (i\u001b[38;5;241m+\u001b[39m\u001b[38;5;241m1\u001b[39m) \u001b[38;5;241m%\u001b[39m \u001b[38;5;241m1000\u001b[39m \u001b[38;5;241m==\u001b[39m \u001b[38;5;241m0\u001b[39m: \u001b[38;5;66;03m#every 1000 iters reduce lr\u001b[39;00m\n",
      "File \u001b[0;32m~/anaconda3/lib/python3.11/site-packages/torch/_tensor.py:492\u001b[0m, in \u001b[0;36mTensor.backward\u001b[0;34m(self, gradient, retain_graph, create_graph, inputs)\u001b[0m\n\u001b[1;32m    482\u001b[0m \u001b[38;5;28;01mif\u001b[39;00m has_torch_function_unary(\u001b[38;5;28mself\u001b[39m):\n\u001b[1;32m    483\u001b[0m     \u001b[38;5;28;01mreturn\u001b[39;00m handle_torch_function(\n\u001b[1;32m    484\u001b[0m         Tensor\u001b[38;5;241m.\u001b[39mbackward,\n\u001b[1;32m    485\u001b[0m         (\u001b[38;5;28mself\u001b[39m,),\n\u001b[0;32m   (...)\u001b[0m\n\u001b[1;32m    490\u001b[0m         inputs\u001b[38;5;241m=\u001b[39minputs,\n\u001b[1;32m    491\u001b[0m     )\n\u001b[0;32m--> 492\u001b[0m torch\u001b[38;5;241m.\u001b[39mautograd\u001b[38;5;241m.\u001b[39mbackward(\n\u001b[1;32m    493\u001b[0m     \u001b[38;5;28mself\u001b[39m, gradient, retain_graph, create_graph, inputs\u001b[38;5;241m=\u001b[39minputs\n\u001b[1;32m    494\u001b[0m )\n",
      "File \u001b[0;32m~/anaconda3/lib/python3.11/site-packages/torch/autograd/__init__.py:251\u001b[0m, in \u001b[0;36mbackward\u001b[0;34m(tensors, grad_tensors, retain_graph, create_graph, grad_variables, inputs)\u001b[0m\n\u001b[1;32m    246\u001b[0m     retain_graph \u001b[38;5;241m=\u001b[39m create_graph\n\u001b[1;32m    248\u001b[0m \u001b[38;5;66;03m# The reason we repeat the same comment below is that\u001b[39;00m\n\u001b[1;32m    249\u001b[0m \u001b[38;5;66;03m# some Python versions print out the first line of a multi-line function\u001b[39;00m\n\u001b[1;32m    250\u001b[0m \u001b[38;5;66;03m# calls in the traceback and some print out the last line\u001b[39;00m\n\u001b[0;32m--> 251\u001b[0m Variable\u001b[38;5;241m.\u001b[39m_execution_engine\u001b[38;5;241m.\u001b[39mrun_backward(  \u001b[38;5;66;03m# Calls into the C++ engine to run the backward pass\u001b[39;00m\n\u001b[1;32m    252\u001b[0m     tensors,\n\u001b[1;32m    253\u001b[0m     grad_tensors_,\n\u001b[1;32m    254\u001b[0m     retain_graph,\n\u001b[1;32m    255\u001b[0m     create_graph,\n\u001b[1;32m    256\u001b[0m     inputs,\n\u001b[1;32m    257\u001b[0m     allow_unreachable\u001b[38;5;241m=\u001b[39m\u001b[38;5;28;01mTrue\u001b[39;00m,\n\u001b[1;32m    258\u001b[0m     accumulate_grad\u001b[38;5;241m=\u001b[39m\u001b[38;5;28;01mTrue\u001b[39;00m,\n\u001b[1;32m    259\u001b[0m )\n",
      "\u001b[0;31mKeyboardInterrupt\u001b[0m: "
     ]
    }
   ],
   "source": [
    "est, true = dagmats.test()"
   ]
  },
  {
   "cell_type": "code",
   "execution_count": null,
   "metadata": {},
   "outputs": [
    {
     "data": {
      "text/plain": [
       "array([[ 0.        ,  0.        ,  0.        ,  0.        ,  0.        ],\n",
       "       [ 0.81744217,  0.        , -0.74806149,  0.        ,  0.70891452],\n",
       "       [ 0.        ,  0.        ,  0.        ,  0.        ,  0.        ],\n",
       "       [-0.68278624,  0.        ,  0.57493019,  0.        ,  0.        ],\n",
       "       [-1.85247975,  0.        ,  1.30384461, -1.32815971,  0.        ],\n",
       "       [ 0.        ,  0.        ,  0.4757664 ,  0.        ,  0.        ],\n",
       "       [-0.39719813,  0.        ,  0.        ,  0.        ,  0.        ],\n",
       "       [ 0.        ,  0.30310666,  0.        ,  0.        ,  0.        ],\n",
       "       [ 0.        ,  0.        ,  0.        , -0.46542309,  0.        ],\n",
       "       [ 0.        ,  0.        ,  0.        ,  0.        ,  0.        ],\n",
       "       [ 0.        ,  0.        ,  0.        ,  0.        ,  0.        ],\n",
       "       [ 0.        ,  0.        ,  0.        ,  0.        ,  0.        ],\n",
       "       [ 0.        ,  0.        ,  0.        ,  0.        , -0.35478007],\n",
       "       [ 0.        ,  0.        ,  0.        ,  0.        ,  0.39503055],\n",
       "       [ 0.        ,  0.        , -0.35976005,  0.        ,  0.39341706],\n",
       "       [ 0.        ,  0.        ,  0.        ,  0.35141386,  0.        ],\n",
       "       [ 0.        ,  0.        ,  0.        ,  0.        ,  0.        ],\n",
       "       [ 0.        ,  0.        ,  0.        ,  0.        ,  0.        ],\n",
       "       [ 0.        ,  0.        ,  0.        , -0.47082309,  0.        ],\n",
       "       [ 0.        ,  0.        ,  0.        ,  0.        ,  0.        ]])"
      ]
     },
     "execution_count": 14,
     "metadata": {},
     "output_type": "execute_result"
    }
   ],
   "source": [
    "true"
   ]
  },
  {
   "cell_type": "code",
   "execution_count": 15,
   "metadata": {},
   "outputs": [
    {
     "data": {
      "text/plain": [
       "array([[-1.23751045e-05,  3.27061224e-06, -6.53530812e-04,\n",
       "        -7.59676031e-05, -2.31232552e-05],\n",
       "       [ 6.27032463e-01,  9.87500945e-05, -6.50223641e-01,\n",
       "        -9.62508311e-03,  7.06218627e-01],\n",
       "       [-1.02114709e-01, -4.72348481e-05,  3.24149279e-05,\n",
       "         2.35500332e-05, -3.57230637e-05],\n",
       "       [-5.43707862e-01, -1.68704218e-04,  5.59825563e-01,\n",
       "        -1.44329521e-05,  3.46546884e-05],\n",
       "       [-1.48852926e+00,  7.69595079e-05,  1.23019633e+00,\n",
       "        -1.30484501e+00,  5.33384570e-06],\n",
       "       [-1.24969976e-03,  5.31310251e-04,  6.41092801e-03,\n",
       "         1.11721764e-02, -6.90210759e-04],\n",
       "       [ 1.03232965e-02, -8.98578843e-03, -5.94659486e-03,\n",
       "        -1.99522465e-02,  1.19528485e-03],\n",
       "       [ 1.57637854e-03,  3.46618294e-01, -1.31119430e-03,\n",
       "        -2.10567549e-02, -2.18453062e-04],\n",
       "       [-1.45738755e-02, -3.36234691e-01,  9.92766126e-02,\n",
       "        -3.07548822e-04,  5.82020343e-02],\n",
       "       [-2.47914913e-03, -5.89817962e-02, -1.01101598e-03,\n",
       "         9.43080054e-03,  3.32090370e-04],\n",
       "       [-2.88873729e-02,  1.83352184e-02, -6.44543196e-04,\n",
       "        -2.55882970e-03,  3.25837797e-03],\n",
       "       [ 3.50219641e-04, -1.43254682e-03, -8.78572803e-03,\n",
       "         3.80050949e-01, -3.28367744e-01],\n",
       "       [-4.84973551e-01,  1.65431219e-02,  7.55640033e-03,\n",
       "         2.95211311e-03,  5.69025071e-03],\n",
       "       [-4.55208516e-02, -2.31510832e-02, -3.04455600e-01,\n",
       "         4.68212046e-01, -1.33661111e-02],\n",
       "       [ 7.60054780e-03, -8.12767759e-03, -1.09427232e-03,\n",
       "         3.22822812e-03,  1.38257052e-04],\n",
       "       [-1.38814370e-03,  3.07948319e-02, -2.58436375e-02,\n",
       "         1.24306531e-03, -4.47974752e-03],\n",
       "       [ 5.12731245e-01,  1.37024734e-02, -3.69177447e-02,\n",
       "         1.51422423e-02, -7.45144922e-02],\n",
       "       [ 2.73741651e-01, -5.36398835e-03, -3.31585323e-02,\n",
       "         9.55435417e-03,  2.67346781e-03],\n",
       "       [ 1.75669144e-02,  4.17221497e-01, -3.87839463e-02,\n",
       "        -2.49433198e-03,  1.67421710e-02],\n",
       "       [-5.14182454e-03, -1.67882504e-02,  8.13631427e-04,\n",
       "         3.56057925e-02,  1.52409418e-03]])"
      ]
     },
     "execution_count": 15,
     "metadata": {},
     "output_type": "execute_result"
    }
   ],
   "source": [
    "est"
   ]
  },
  {
   "cell_type": "code",
   "execution_count": 16,
   "metadata": {},
   "outputs": [
    {
     "data": {
      "text/plain": [
       "<matplotlib.image.AxesImage at 0x1666ff910>"
      ]
     },
     "execution_count": 16,
     "metadata": {},
     "output_type": "execute_result"
    },
    {
     "data": {
      "image/png": "[encoded data removed]",
      "text/plain": [
       "<Figure size 640x480 with 1 Axes>"
      ]
     },
     "metadata": {},
     "output_type": "display_data"
    }
   ],
   "source": [
    "plt.imshow(est)"
   ]
  },
  {
   "cell_type": "code",
   "execution_count": 17,
   "metadata": {},
   "outputs": [
    {
     "data": {
      "text/plain": [
       "<matplotlib.image.AxesImage at 0x168d7ce10>"
      ]
     },
     "execution_count": 17,
     "metadata": {},
     "output_type": "execute_result"
    },
    {
     "data": {
      "image/png": "[encoded data removed]",
      "text/plain": [
       "<Figure size 640x480 with 1 Axes>"
      ]
     },
     "metadata": {},
     "output_type": "display_data"
    }
   ],
   "source": [
    "plt.imshow(true)"
   ]
  },
  {
   "cell_type": "code",
   "execution_count": 1,
   "metadata": {},
   "outputs": [],
   "source": [
    "import numpy as np"
   ]
  },
  {
   "cell_type": "code",
   "execution_count": 5,
   "metadata": {},
   "outputs": [],
   "source": [
    "exp = np.random.exponential(size=(1000, 5))"
   ]
  },
  {
   "cell_type": "code",
   "execution_count": 7,
   "metadata": {},
   "outputs": [],
   "source": [
    "g = np.random.gumbel(size=(1000, 5))"
   ]
  },
  {
   "cell_type": "code",
   "execution_count": 8,
   "metadata": {},
   "outputs": [
    {
     "data": {
      "text/plain": [
       "array([[ 1.69183207,  0.00698624, -0.07427542,  0.02414225, -0.02862375],\n",
       "       [ 0.00698624,  1.62797001,  0.07299934,  0.03499786, -0.00771885],\n",
       "       [-0.07427542,  0.07299934,  1.67448319,  0.12655155, -0.10576203],\n",
       "       [ 0.02414225,  0.03499786,  0.12655155,  1.68457278, -0.00692547],\n",
       "       [-0.02862375, -0.00771885, -0.10576203, -0.00692547,  1.64580027]])"
      ]
     },
     "execution_count": 8,
     "metadata": {},
     "output_type": "execute_result"
    }
   ],
   "source": [
    "np.cov(g.T)"
   ]
  },
  {
   "cell_type": "code",
   "execution_count": null,
   "metadata": {},
   "outputs": [],
   "source": []
  }
 ],
 "metadata": {
  "kernelspec": {
   "display_name": "Python 3 (ipykernel)",
   "language": "python",
   "name": "python3"
  },
  "language_info": {
   "codemirror_mode": {
    "name": "ipython",
    "version": 3
   },
   "file_extension": ".py",
   "mimetype": "text/x-python",
   "name": "python",
   "nbconvert_exporter": "python",
   "pygments_lexer": "ipython3",
   "version": "3.11.7"
  }
 },
 "nbformat": 4,
 "nbformat_minor": 4
}
