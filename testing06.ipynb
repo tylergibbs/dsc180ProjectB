{
 "cells": [
  {
   "cell_type": "code",
   "execution_count": 1,
   "metadata": {},
   "outputs": [],
   "source": [
    "import testing_dagmats"
   ]
  },
  {
   "cell_type": "code",
   "execution_count": 2,
   "metadata": {},
   "outputs": [
    {
     "ename": "KeyboardInterrupt",
     "evalue": "",
     "output_type": "error",
     "traceback": [
      "\u001b[0;31m---------------------------------------------------------------------------\u001b[0m",
      "\u001b[0;31mKeyboardInterrupt\u001b[0m                         Traceback (most recent call last)",
      "Cell \u001b[0;32mIn[2], line 1\u001b[0m\n\u001b[0;32m----> 1\u001b[0m testing_dagmats\u001b[38;5;241m.\u001b[39mtest_all_methods(output_dir\u001b[38;5;241m=\u001b[39m\u001b[38;5;124m'\u001b[39m\u001b[38;5;124mtesting06.jsonl\u001b[39m\u001b[38;5;124m'\u001b[39m)\n",
      "File \u001b[0;32m~/Documents/GitHub/dsc180ProjectB/testing_dagmats.py:129\u001b[0m, in \u001b[0;36mtest_all_methods\u001b[0;34m(output_dir)\u001b[0m\n\u001b[1;32m    128\u001b[0m \u001b[38;5;28;01mdef\u001b[39;00m \u001b[38;5;21mtest_all_methods\u001b[39m(output_dir):\n\u001b[0;32m--> 129\u001b[0m     dag_list, dag_stats \u001b[38;5;241m=\u001b[39m gen_dags()\n\u001b[1;32m    130\u001b[0m     \u001b[38;5;28;01mfor\u001b[39;00m name, func \u001b[38;5;129;01min\u001b[39;00m function_dict\u001b[38;5;241m.\u001b[39mitems():\n\u001b[1;32m    131\u001b[0m         \u001b[38;5;28;01mfor\u001b[39;00m dag_obj, dag_stat \u001b[38;5;129;01min\u001b[39;00m \u001b[38;5;28mzip\u001b[39m(dag_list, dag_stats):\n\u001b[1;32m    132\u001b[0m             \u001b[38;5;66;03m# get estimated dag\u001b[39;00m\n",
      "File \u001b[0;32m~/Documents/GitHub/dsc180ProjectB/testing_dagmats.py:105\u001b[0m, in \u001b[0;36mgen_dags\u001b[0;34m(ns, degrees, nodes, ps, noise_types, mlps, reps)\u001b[0m\n\u001b[1;32m    103\u001b[0m \u001b[38;5;28;01mfor\u001b[39;00m n \u001b[38;5;129;01min\u001b[39;00m ns:\n\u001b[1;32m    104\u001b[0m     \u001b[38;5;28;01mfor\u001b[39;00m i \u001b[38;5;129;01min\u001b[39;00m \u001b[38;5;28mrange\u001b[39m(reps):\n\u001b[0;32m--> 105\u001b[0m         dag_obj \u001b[38;5;241m=\u001b[39m SyntheticDataset(\n\u001b[1;32m    106\u001b[0m             n\u001b[38;5;241m=\u001b[39mn,\n\u001b[1;32m    107\u001b[0m             p\u001b[38;5;241m=\u001b[39mp,\n\u001b[1;32m    108\u001b[0m             d\u001b[38;5;241m=\u001b[39md,\n\u001b[1;32m    109\u001b[0m             graph_type\u001b[38;5;241m=\u001b[39m\u001b[38;5;124m'\u001b[39m\u001b[38;5;124mER\u001b[39m\u001b[38;5;124m'\u001b[39m,\n\u001b[1;32m    110\u001b[0m             degree\u001b[38;5;241m=\u001b[39mdegree,\n\u001b[1;32m    111\u001b[0m             noise_type\u001b[38;5;241m=\u001b[39mnoise_type,\n\u001b[1;32m    112\u001b[0m             mlp\u001b[38;5;241m=\u001b[39mmlp,\n\u001b[1;32m    113\u001b[0m             A_scale\u001b[38;5;241m=\u001b[39m\u001b[38;5;241m1.5\u001b[39m,\n\u001b[1;32m    114\u001b[0m             B_scale\u001b[38;5;241m=\u001b[39m\u001b[38;5;241m1.0\u001b[39m\n\u001b[1;32m    115\u001b[0m         )\n\u001b[1;32m    116\u001b[0m         dag_list\u001b[38;5;241m.\u001b[39mappend(dag_obj)\n\u001b[1;32m    117\u001b[0m         dag_stats\u001b[38;5;241m.\u001b[39mappend({\n\u001b[1;32m    118\u001b[0m             \u001b[38;5;124m'\u001b[39m\u001b[38;5;124mn\u001b[39m\u001b[38;5;124m'\u001b[39m: n,\n\u001b[1;32m    119\u001b[0m             \u001b[38;5;124m'\u001b[39m\u001b[38;5;124mp\u001b[39m\u001b[38;5;124m'\u001b[39m: p,\n\u001b[0;32m   (...)\u001b[0m\n\u001b[1;32m    123\u001b[0m             \u001b[38;5;124m'\u001b[39m\u001b[38;5;124mmlp\u001b[39m\u001b[38;5;124m'\u001b[39m: mlp\n\u001b[1;32m    124\u001b[0m         })\n",
      "File \u001b[0;32m~/Documents/GitHub/dsc180ProjectB/generate_data.py:68\u001b[0m, in \u001b[0;36mSyntheticDataset.__init__\u001b[0;34m(self, n, d, p, graph_type, degree, noise_type, B_scale, A_scale, mlp, seed)\u001b[0m\n\u001b[1;32m     62\u001b[0m        \u001b[38;5;28mself\u001b[39m\u001b[38;5;241m.\u001b[39mA_ranges\u001b[38;5;241m.\u001b[39mappend(((A_s \u001b[38;5;241m*\u001b[39m \u001b[38;5;241m-\u001b[39m\u001b[38;5;241m0.3\u001b[39m, A_s \u001b[38;5;241m*\u001b[39m \u001b[38;5;241m-\u001b[39m\u001b[38;5;241m0.5\u001b[39m),\n\u001b[1;32m     63\u001b[0m                  (A_s \u001b[38;5;241m*\u001b[39m \u001b[38;5;241m0.3\u001b[39m, A_s \u001b[38;5;241m*\u001b[39m \u001b[38;5;241m0.5\u001b[39m)))\n\u001b[1;32m     66\u001b[0m    \u001b[38;5;28mself\u001b[39m\u001b[38;5;241m.\u001b[39mrs \u001b[38;5;241m=\u001b[39m np\u001b[38;5;241m.\u001b[39mrandom\u001b[38;5;241m.\u001b[39mRandomState(seed)    \u001b[38;5;66;03m# Reproducibility\u001b[39;00m\n\u001b[0;32m---> 68\u001b[0m    \u001b[38;5;28mself\u001b[39m\u001b[38;5;241m.\u001b[39m_setup()\n\u001b[1;32m     69\u001b[0m    \u001b[38;5;28mself\u001b[39m\u001b[38;5;241m.\u001b[39m_logger\u001b[38;5;241m.\u001b[39mdebug(\u001b[38;5;124m\"\u001b[39m\u001b[38;5;124mFinished setting up dataset class.\u001b[39m\u001b[38;5;124m\"\u001b[39m)\n\u001b[1;32m     70\u001b[0m \u001b[38;5;28;01melse\u001b[39;00m:\n",
      "File \u001b[0;32m~/Documents/GitHub/dsc180ProjectB/generate_data.py:100\u001b[0m, in \u001b[0;36mSyntheticDataset._setup\u001b[0;34m(self)\u001b[0m\n\u001b[1;32m     98\u001b[0m \u001b[38;5;28mself\u001b[39m\u001b[38;5;241m.\u001b[39mA \u001b[38;5;241m=\u001b[39m np\u001b[38;5;241m.\u001b[39mvstack([\u001b[38;5;28mself\u001b[39m\u001b[38;5;241m.\u001b[39mB\u001b[38;5;241m.\u001b[39mT, np\u001b[38;5;241m.\u001b[39mvstack(A_list)])\n\u001b[1;32m     99\u001b[0m \u001b[38;5;28;01mif\u001b[39;00m \u001b[38;5;28mself\u001b[39m\u001b[38;5;241m.\u001b[39mmlp:\n\u001b[0;32m--> 100\u001b[0m     \u001b[38;5;28mself\u001b[39m\u001b[38;5;241m.\u001b[39mZ, \u001b[38;5;28mself\u001b[39m\u001b[38;5;241m.\u001b[39mY \u001b[38;5;241m=\u001b[39m SyntheticDataset\u001b[38;5;241m.\u001b[39msimulate_nonlinear_sem(\u001b[38;5;28mself\u001b[39m\u001b[38;5;241m.\u001b[39mA, \u001b[38;5;28mself\u001b[39m\u001b[38;5;241m.\u001b[39mn, \u001b[38;5;28mself\u001b[39m\u001b[38;5;241m.\u001b[39mnoise_type)\n\u001b[1;32m    101\u001b[0m \u001b[38;5;28;01melse\u001b[39;00m:\n\u001b[1;32m    102\u001b[0m     \u001b[38;5;28mself\u001b[39m\u001b[38;5;241m.\u001b[39mZ, \u001b[38;5;28mself\u001b[39m\u001b[38;5;241m.\u001b[39mY \u001b[38;5;241m=\u001b[39m SyntheticDataset\u001b[38;5;241m.\u001b[39msimulate_ts(\u001b[38;5;28mself\u001b[39m\u001b[38;5;241m.\u001b[39mA, \u001b[38;5;28mself\u001b[39m\u001b[38;5;241m.\u001b[39mn, \u001b[38;5;28mself\u001b[39m\u001b[38;5;241m.\u001b[39mnoise_type)\n",
      "File \u001b[0;32m~/Documents/GitHub/dsc180ProjectB/generate_data.py:127\u001b[0m, in \u001b[0;36mSyntheticDataset.simulate_nonlinear_sem\u001b[0;34m(A, n, noise_type)\u001b[0m\n\u001b[1;32m    125\u001b[0m     W2 \u001b[38;5;241m=\u001b[39m np\u001b[38;5;241m.\u001b[39mrandom\u001b[38;5;241m.\u001b[39muniform(low\u001b[38;5;241m=\u001b[39m\u001b[38;5;241m0.5\u001b[39m, high\u001b[38;5;241m=\u001b[39m\u001b[38;5;241m2.0\u001b[39m, size\u001b[38;5;241m=\u001b[39mhidden)\n\u001b[1;32m    126\u001b[0m     W2[np\u001b[38;5;241m.\u001b[39mrandom\u001b[38;5;241m.\u001b[39mrand(hidden) \u001b[38;5;241m<\u001b[39m \u001b[38;5;241m0.5\u001b[39m] \u001b[38;5;241m*\u001b[39m\u001b[38;5;241m=\u001b[39m \u001b[38;5;241m-\u001b[39m\u001b[38;5;241m1\u001b[39m\n\u001b[0;32m--> 127\u001b[0m     Y[:, i] \u001b[38;5;241m=\u001b[39m sigmoid(Y[:, parents] \u001b[38;5;241m@\u001b[39m W1) \u001b[38;5;241m@\u001b[39m W2 \u001b[38;5;241m+\u001b[39m Z[:, i]\n\u001b[1;32m    128\u001b[0m \u001b[38;5;28;01mreturn\u001b[39;00m Z, Y\n",
      "\u001b[0;31mKeyboardInterrupt\u001b[0m: "
     ]
    }
   ],
   "source": [
    "testing_dagmats.test_all_methods(output_dir='testing06.jsonl')"
   ]
  },
  {
   "cell_type": "code",
   "execution_count": null,
   "metadata": {},
   "outputs": [],
   "source": []
  }
 ],
 "metadata": {
  "kernelspec": {
   "display_name": "base",
   "language": "python",
   "name": "python3"
  },
  "language_info": {
   "codemirror_mode": {
    "name": "ipython",
    "version": 3
   },
   "file_extension": ".py",
   "mimetype": "text/x-python",
   "name": "python",
   "nbconvert_exporter": "python",
   "pygments_lexer": "ipython3",
   "version": "3.11.7"
  }
 },
 "nbformat": 4,
 "nbformat_minor": 2
}
