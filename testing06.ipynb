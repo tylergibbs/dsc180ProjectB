{
 "cells": [
  {
   "cell_type": "code",
   "execution_count": 1,
   "metadata": {},
   "outputs": [],
   "source": [
    "import testing_dagmats"
   ]
  },
  {
   "cell_type": "code",
   "execution_count": 2,
   "metadata": {},
   "outputs": [
    {
     "data": {
      "application/vnd.jupyter.widget-view+json": {
       "model_id": "03ca7dd89ccb499bbafb24936bdf09a1",
       "version_major": 2,
       "version_minor": 0
      },
      "text/plain": [
       "  0%|          | 0/23000.0 [00:00<?, ?it/s]"
      ]
     },
     "metadata": {},
     "output_type": "display_data"
    },
    {
     "name": "stdout",
     "output_type": "stream",
     "text": [
      "{'fdr': 0.3939393939393939, 'tpr': 0.4166666666666667, 'fpr': 0.09154929577464789, 'shd': 38, 'pred_size': 33, 'n': 50, 'p': 1, 'd': 10, 'degree': 2, 'noise_type': 'GUMBEL', 'mlp': True, 'runtime': 42.46727442741394, 'model_name': 'DAGMATS'}\n"
     ]
    },
    {
     "data": {
      "application/vnd.jupyter.widget-view+json": {
       "model_id": "e781d9c9f0f34e6684d4d64a45658b2e",
       "version_major": 2,
       "version_minor": 0
      },
      "text/plain": [
       "  0%|          | 0/23000.0 [00:00<?, ?it/s]"
      ]
     },
     "metadata": {},
     "output_type": "display_data"
    },
    {
     "name": "stdout",
     "output_type": "stream",
     "text": [
      "{'fdr': 0.5135135135135135, 'tpr': 0.3673469387755102, 'fpr': 0.1347517730496454, 'shd': 48, 'pred_size': 37, 'n': 50, 'p': 1, 'd': 10, 'degree': 2, 'noise_type': 'GUMBEL', 'mlp': True, 'runtime': 33.06609106063843, 'model_name': 'DAGMATS'}\n"
     ]
    },
    {
     "data": {
      "application/vnd.jupyter.widget-view+json": {
       "model_id": "b11cab8a77144900bfdf56f0c30e81e2",
       "version_major": 2,
       "version_minor": 0
      },
      "text/plain": [
       "  0%|          | 0/23000.0 [00:00<?, ?it/s]"
      ]
     },
     "metadata": {},
     "output_type": "display_data"
    },
    {
     "name": "stdout",
     "output_type": "stream",
     "text": [
      "{'fdr': 0.5833333333333334, 'tpr': 0.7142857142857143, 'fpr': 0.1242603550295858, 'shd': 27, 'pred_size': 36, 'n': 500, 'p': 1, 'd': 10, 'degree': 2, 'noise_type': 'GUMBEL', 'mlp': True, 'runtime': 37.01937651634216, 'model_name': 'DAGMATS'}\n"
     ]
    },
    {
     "data": {
      "application/vnd.jupyter.widget-view+json": {
       "model_id": "d1564ba309e24602a7593d4498a4f1a2",
       "version_major": 2,
       "version_minor": 0
      },
      "text/plain": [
       "  0%|          | 0/23000.0 [00:00<?, ?it/s]"
      ]
     },
     "metadata": {},
     "output_type": "display_data"
    },
    {
     "name": "stdout",
     "output_type": "stream",
     "text": [
      "{'fdr': 0.35135135135135137, 'tpr': 0.8275862068965517, 'fpr': 0.08074534161490683, 'shd': 17, 'pred_size': 37, 'n': 500, 'p': 1, 'd': 10, 'degree': 2, 'noise_type': 'GUMBEL', 'mlp': True, 'runtime': 33.18037223815918, 'model_name': 'DAGMATS'}\n"
     ]
    },
    {
     "data": {
      "application/vnd.jupyter.widget-view+json": {
       "model_id": "1a17830cd90d4174a258dff50e5379d4",
       "version_major": 2,
       "version_minor": 0
      },
      "text/plain": [
       "  0%|          | 0/23000.0 [00:00<?, ?it/s]"
      ]
     },
     "metadata": {},
     "output_type": "display_data"
    },
    {
     "name": "stdout",
     "output_type": "stream",
     "text": [
      "{'fdr': 0.5, 'tpr': 0.6538461538461539, 'fpr': 0.10365853658536585, 'shd': 25, 'pred_size': 34, 'n': 500, 'p': 1, 'd': 10, 'degree': 2, 'noise_type': 'GUMBEL', 'mlp': True, 'runtime': 41.77644419670105, 'model_name': 'DAGMATS'}\n"
     ]
    },
    {
     "data": {
      "application/vnd.jupyter.widget-view+json": {
       "model_id": "c2a1b97b9d604efd9240189b3e71b201",
       "version_major": 2,
       "version_minor": 0
      },
      "text/plain": [
       "  0%|          | 0/23000.0 [00:00<?, ?it/s]"
      ]
     },
     "metadata": {},
     "output_type": "display_data"
    },
    {
     "name": "stdout",
     "output_type": "stream",
     "text": [
      "{'fdr': 0.45161290322580644, 'tpr': 0.85, 'fpr': 0.08235294117647059, 'shd': 17, 'pred_size': 31, 'n': 500, 'p': 1, 'd': 10, 'degree': 2, 'noise_type': 'GUMBEL', 'mlp': True, 'runtime': 37.33948111534119, 'model_name': 'DAGMATS'}\n"
     ]
    },
    {
     "data": {
      "application/vnd.jupyter.widget-view+json": {
       "model_id": "de9d82ac864a499da1c1da7f301ff82e",
       "version_major": 2,
       "version_minor": 0
      },
      "text/plain": [
       "  0%|          | 0/23000.0 [00:00<?, ?it/s]"
      ]
     },
     "metadata": {},
     "output_type": "display_data"
    },
    {
     "name": "stdout",
     "output_type": "stream",
     "text": [
      "{'fdr': 0.4864864864864865, 'tpr': 0.8636363636363636, 'fpr': 0.10714285714285714, 'shd': 20, 'pred_size': 37, 'n': 500, 'p': 1, 'd': 10, 'degree': 2, 'noise_type': 'GUMBEL', 'mlp': True, 'runtime': 21.93723750114441, 'model_name': 'DAGMATS'}\n"
     ]
    },
    {
     "data": {
      "application/vnd.jupyter.widget-view+json": {
       "model_id": "3d88a83374c243309064114cbc6db83a",
       "version_major": 2,
       "version_minor": 0
      },
      "text/plain": [
       "  0%|          | 0/23000.0 [00:00<?, ?it/s]"
      ]
     },
     "metadata": {},
     "output_type": "display_data"
    },
    {
     "name": "stdout",
     "output_type": "stream",
     "text": [
      "{'fdr': 0.4857142857142857, 'tpr': 0.782608695652174, 'fpr': 0.10179640718562874, 'shd': 21, 'pred_size': 35, 'n': 500, 'p': 1, 'd': 10, 'degree': 2, 'noise_type': 'GUMBEL', 'mlp': True, 'runtime': 30.912981510162354, 'model_name': 'DAGMATS'}\n"
     ]
    },
    {
     "data": {
      "application/vnd.jupyter.widget-view+json": {
       "model_id": "376f8c1edbe143d5a90fb3bf462a35da",
       "version_major": 2,
       "version_minor": 0
      },
      "text/plain": [
       "  0%|          | 0/23000.0 [00:00<?, ?it/s]"
      ]
     },
     "metadata": {},
     "output_type": "display_data"
    },
    {
     "name": "stdout",
     "output_type": "stream",
     "text": [
      "{'fdr': 0.3611111111111111, 'tpr': 0.696969696969697, 'fpr': 0.08280254777070063, 'shd': 23, 'pred_size': 36, 'n': 500, 'p': 1, 'd': 10, 'degree': 2, 'noise_type': 'GUMBEL', 'mlp': True, 'runtime': 30.23897671699524, 'model_name': 'DAGMATS'}\n"
     ]
    },
    {
     "data": {
      "application/vnd.jupyter.widget-view+json": {
       "model_id": "20c37256ce7b49bc9908d544d4da6dda",
       "version_major": 2,
       "version_minor": 0
      },
      "text/plain": [
       "  0%|          | 0/23000.0 [00:00<?, ?it/s]"
      ]
     },
     "metadata": {},
     "output_type": "display_data"
    },
    {
     "name": "stdout",
     "output_type": "stream",
     "text": [
      "{'fdr': 0.42424242424242425, 'tpr': 0.7037037037037037, 'fpr': 0.08588957055214724, 'shd': 22, 'pred_size': 33, 'n': 500, 'p': 1, 'd': 10, 'degree': 2, 'noise_type': 'GUMBEL', 'mlp': True, 'runtime': 33.25503325462341, 'model_name': 'DAGMATS'}\n"
     ]
    },
    {
     "data": {
      "application/vnd.jupyter.widget-view+json": {
       "model_id": "35e24204ea95479db5ef0d6a8d57118e",
       "version_major": 2,
       "version_minor": 0
      },
      "text/plain": [
       "  0%|          | 0/23000.0 [00:00<?, ?it/s]"
      ]
     },
     "metadata": {},
     "output_type": "display_data"
    },
    {
     "name": "stdout",
     "output_type": "stream",
     "text": [
      "{'fdr': 0.4722222222222222, 'tpr': 0.6785714285714286, 'fpr': 0.10493827160493827, 'shd': 26, 'pred_size': 36, 'n': 500, 'p': 1, 'd': 10, 'degree': 2, 'noise_type': 'GUMBEL', 'mlp': True, 'runtime': 30.908926963806152, 'model_name': 'DAGMATS'}\n"
     ]
    },
    {
     "data": {
      "application/vnd.jupyter.widget-view+json": {
       "model_id": "ace6433f234a48bebfecd8799bf90e2f",
       "version_major": 2,
       "version_minor": 0
      },
      "text/plain": [
       "  0%|          | 0/23000.0 [00:00<?, ?it/s]"
      ]
     },
     "metadata": {},
     "output_type": "display_data"
    },
    {
     "name": "stdout",
     "output_type": "stream",
     "text": [
      "{'fdr': 0.41025641025641024, 'tpr': 0.71875, 'fpr': 0.10126582278481013, 'shd': 25, 'pred_size': 39, 'n': 500, 'p': 1, 'd': 10, 'degree': 2, 'noise_type': 'GUMBEL', 'mlp': True, 'runtime': 25.695173978805542, 'model_name': 'DAGMATS'}\n"
     ]
    },
    {
     "data": {
      "application/vnd.jupyter.widget-view+json": {
       "model_id": "2d4da5f0ceda4142b2fb71522014d55a",
       "version_major": 2,
       "version_minor": 0
      },
      "text/plain": [
       "  0%|          | 0/23000.0 [00:00<?, ?it/s]"
      ]
     },
     "metadata": {},
     "output_type": "display_data"
    },
    {
     "name": "stdout",
     "output_type": "stream",
     "text": [
      "{'fdr': 0.5625, 'tpr': 0.5384615384615384, 'fpr': 0.2608695652173913, 'shd': 56, 'pred_size': 64, 'n': 50, 'p': 1, 'd': 10, 'degree': 4, 'noise_type': 'GUMBEL', 'mlp': True, 'runtime': 26.327605724334717, 'model_name': 'DAGMATS'}\n"
     ]
    },
    {
     "data": {
      "application/vnd.jupyter.widget-view+json": {
       "model_id": "a646db096d5b4e69a44ebe7aceb1d34e",
       "version_major": 2,
       "version_minor": 0
      },
      "text/plain": [
       "  0%|          | 0/23000.0 [00:00<?, ?it/s]"
      ]
     },
     "metadata": {},
     "output_type": "display_data"
    },
    {
     "name": "stdout",
     "output_type": "stream",
     "text": [
      "{'fdr': 0.5675675675675675, 'tpr': 0.5818181818181818, 'fpr': 0.3111111111111111, 'shd': 61, 'pred_size': 74, 'n': 50, 'p': 1, 'd': 10, 'degree': 4, 'noise_type': 'GUMBEL', 'mlp': True, 'runtime': 35.206326961517334, 'model_name': 'DAGMATS'}\n"
     ]
    },
    {
     "data": {
      "application/vnd.jupyter.widget-view+json": {
       "model_id": "dbb3859b889b4098b145190e829969a5",
       "version_major": 2,
       "version_minor": 0
      },
      "text/plain": [
       "  0%|          | 0/23000.0 [00:00<?, ?it/s]"
      ]
     },
     "metadata": {},
     "output_type": "display_data"
    },
    {
     "name": "stdout",
     "output_type": "stream",
     "text": [
      "{'fdr': 0.5373134328358209, 'tpr': 0.5535714285714286, 'fpr': 0.26865671641791045, 'shd': 57, 'pred_size': 67, 'n': 50, 'p': 1, 'd': 10, 'degree': 4, 'noise_type': 'GUMBEL', 'mlp': True, 'runtime': 30.453940629959106, 'model_name': 'DAGMATS'}\n"
     ]
    },
    {
     "data": {
      "application/vnd.jupyter.widget-view+json": {
       "model_id": "a262bea872124b8697c49433326bd27c",
       "version_major": 2,
       "version_minor": 0
      },
      "text/plain": [
       "  0%|          | 0/23000.0 [00:00<?, ?it/s]"
      ]
     },
     "metadata": {},
     "output_type": "display_data"
    },
    {
     "name": "stdout",
     "output_type": "stream",
     "text": [
      "{'fdr': 0.4675324675324675, 'tpr': 0.6612903225806451, 'fpr': 0.28125, 'shd': 55, 'pred_size': 77, 'n': 50, 'p': 1, 'd': 10, 'degree': 4, 'noise_type': 'GUMBEL', 'mlp': True, 'runtime': 37.28455328941345, 'model_name': 'DAGMATS'}\n"
     ]
    },
    {
     "data": {
      "application/vnd.jupyter.widget-view+json": {
       "model_id": "a3cf0e8eaee64c2aa99cac226c13c3a1",
       "version_major": 2,
       "version_minor": 0
      },
      "text/plain": [
       "  0%|          | 0/23000.0 [00:00<?, ?it/s]"
      ]
     },
     "metadata": {},
     "output_type": "display_data"
    },
    {
     "name": "stdout",
     "output_type": "stream",
     "text": [
      "{'fdr': 0.35064935064935066, 'tpr': 0.8064516129032258, 'fpr': 0.2109375, 'shd': 37, 'pred_size': 77, 'n': 50, 'p': 1, 'd': 10, 'degree': 4, 'noise_type': 'GUMBEL', 'mlp': True, 'runtime': 32.25412058830261, 'model_name': 'DAGMATS'}\n"
     ]
    },
    {
     "data": {
      "application/vnd.jupyter.widget-view+json": {
       "model_id": "ca3b3f2725384174a4abb1efc5125bdd",
       "version_major": 2,
       "version_minor": 0
      },
      "text/plain": [
       "  0%|          | 0/23000.0 [00:00<?, ?it/s]"
      ]
     },
     "metadata": {},
     "output_type": "display_data"
    },
    {
     "name": "stdout",
     "output_type": "stream",
     "text": [
      "{'fdr': 0.5405405405405406, 'tpr': 0.6296296296296297, 'fpr': 0.29411764705882354, 'shd': 54, 'pred_size': 74, 'n': 50, 'p': 1, 'd': 10, 'degree': 4, 'noise_type': 'GUMBEL', 'mlp': True, 'runtime': 36.667518615722656, 'model_name': 'DAGMATS'}\n"
     ]
    },
    {
     "data": {
      "application/vnd.jupyter.widget-view+json": {
       "model_id": "28790d9328054a95b8188284326a0ccf",
       "version_major": 2,
       "version_minor": 0
      },
      "text/plain": [
       "  0%|          | 0/23000.0 [00:00<?, ?it/s]"
      ]
     },
     "metadata": {},
     "output_type": "display_data"
    },
    {
     "name": "stdout",
     "output_type": "stream",
     "text": [
      "{'fdr': 0.6190476190476191, 'tpr': 0.5217391304347826, 'fpr': 0.2708333333333333, 'shd': 60, 'pred_size': 63, 'n': 50, 'p': 1, 'd': 10, 'degree': 4, 'noise_type': 'GUMBEL', 'mlp': True, 'runtime': 28.50389790534973, 'model_name': 'DAGMATS'}\n"
     ]
    },
    {
     "data": {
      "application/vnd.jupyter.widget-view+json": {
       "model_id": "c4edfcb7e0f54265bad78faa2aed8585",
       "version_major": 2,
       "version_minor": 0
      },
      "text/plain": [
       "  0%|          | 0/23000.0 [00:00<?, ?it/s]"
      ]
     },
     "metadata": {},
     "output_type": "display_data"
    },
    {
     "name": "stdout",
     "output_type": "stream",
     "text": [
      "{'fdr': 0.4927536231884058, 'tpr': 0.6730769230769231, 'fpr': 0.2463768115942029, 'shd': 47, 'pred_size': 69, 'n': 50, 'p': 1, 'd': 10, 'degree': 4, 'noise_type': 'GUMBEL', 'mlp': True, 'runtime': 30.142913579940796, 'model_name': 'DAGMATS'}\n"
     ]
    },
    {
     "data": {
      "application/vnd.jupyter.widget-view+json": {
       "model_id": "109add80f2d64185bb9b04e351882937",
       "version_major": 2,
       "version_minor": 0
      },
      "text/plain": [
       "  0%|          | 0/23000.0 [00:00<?, ?it/s]"
      ]
     },
     "metadata": {},
     "output_type": "display_data"
    },
    {
     "name": "stdout",
     "output_type": "stream",
     "text": [
      "{'fdr': 0.5492957746478874, 'tpr': 0.6037735849056604, 'fpr': 0.2846715328467153, 'shd': 56, 'pred_size': 71, 'n': 50, 'p': 1, 'd': 10, 'degree': 4, 'noise_type': 'GUMBEL', 'mlp': True, 'runtime': 32.90480661392212, 'model_name': 'DAGMATS'}\n"
     ]
    },
    {
     "data": {
      "application/vnd.jupyter.widget-view+json": {
       "model_id": "53906b5cfa194f6e9b111a3eaf2d7401",
       "version_major": 2,
       "version_minor": 0
      },
      "text/plain": [
       "  0%|          | 0/23000.0 [00:00<?, ?it/s]"
      ]
     },
     "metadata": {},
     "output_type": "display_data"
    },
    {
     "name": "stdout",
     "output_type": "stream",
     "text": [
      "{'fdr': 0.375, 'tpr': 0.7627118644067796, 'fpr': 0.20610687022900764, 'shd': 40, 'pred_size': 72, 'n': 50, 'p': 1, 'd': 10, 'degree': 4, 'noise_type': 'GUMBEL', 'mlp': True, 'runtime': 26.214699268341064, 'model_name': 'DAGMATS'}\n"
     ]
    },
    {
     "data": {
      "application/vnd.jupyter.widget-view+json": {
       "model_id": "6d0cd69f631040b0a1ff71989a4100b3",
       "version_major": 2,
       "version_minor": 0
      },
      "text/plain": [
       "  0%|          | 0/23000.0 [00:00<?, ?it/s]"
      ]
     },
     "metadata": {},
     "output_type": "display_data"
    },
    {
     "name": "stdout",
     "output_type": "stream",
     "text": [
      "{'fdr': 0.6333333333333333, 'tpr': 0.7096774193548387, 'fpr': 0.2389937106918239, 'shd': 46, 'pred_size': 60, 'n': 500, 'p': 1, 'd': 10, 'degree': 4, 'noise_type': 'GUMBEL', 'mlp': True, 'runtime': 23.996052980422974, 'model_name': 'DAGMATS'}\n"
     ]
    },
    {
     "data": {
      "application/vnd.jupyter.widget-view+json": {
       "model_id": "af0658079ef947a78f6f3e42bae63ebf",
       "version_major": 2,
       "version_minor": 0
      },
      "text/plain": [
       "  0%|          | 0/23000.0 [00:00<?, ?it/s]"
      ]
     },
     "metadata": {},
     "output_type": "display_data"
    },
    {
     "name": "stdout",
     "output_type": "stream",
     "text": [
      "{'fdr': 0.53125, 'tpr': 0.8108108108108109, 'fpr': 0.2222222222222222, 'shd': 41, 'pred_size': 64, 'n': 500, 'p': 1, 'd': 10, 'degree': 4, 'noise_type': 'GUMBEL', 'mlp': True, 'runtime': 30.370382070541382, 'model_name': 'DAGMATS'}\n"
     ]
    },
    {
     "data": {
      "application/vnd.jupyter.widget-view+json": {
       "model_id": "e5f9ac570cf2453d96faf2824e3e46c9",
       "version_major": 2,
       "version_minor": 0
      },
      "text/plain": [
       "  0%|          | 0/23000.0 [00:00<?, ?it/s]"
      ]
     },
     "metadata": {},
     "output_type": "display_data"
    },
    {
     "name": "stdout",
     "output_type": "stream",
     "text": [
      "{'fdr': 0.4603174603174603, 'tpr': 0.8947368421052632, 'fpr': 0.19078947368421054, 'shd': 32, 'pred_size': 63, 'n': 500, 'p': 1, 'd': 10, 'degree': 4, 'noise_type': 'GUMBEL', 'mlp': True, 'runtime': 27.87748384475708, 'model_name': 'DAGMATS'}\n"
     ]
    },
    {
     "data": {
      "application/vnd.jupyter.widget-view+json": {
       "model_id": "ae65d041981c45ba9697fa84b13d7bba",
       "version_major": 2,
       "version_minor": 0
      },
      "text/plain": [
       "  0%|          | 0/23000.0 [00:00<?, ?it/s]"
      ]
     },
     "metadata": {},
     "output_type": "display_data"
    },
    {
     "name": "stdout",
     "output_type": "stream",
     "text": [
      "{'fdr': 0.4927536231884058, 'tpr': 0.8974358974358975, 'fpr': 0.2251655629139073, 'shd': 38, 'pred_size': 69, 'n': 500, 'p': 1, 'd': 10, 'degree': 4, 'noise_type': 'GUMBEL', 'mlp': True, 'runtime': 33.72985053062439, 'model_name': 'DAGMATS'}\n"
     ]
    },
    {
     "data": {
      "application/vnd.jupyter.widget-view+json": {
       "model_id": "d5311995e9394d3a918e89bca0e19a3e",
       "version_major": 2,
       "version_minor": 0
      },
      "text/plain": [
       "  0%|          | 0/23000.0 [00:00<?, ?it/s]"
      ]
     },
     "metadata": {},
     "output_type": "display_data"
    },
    {
     "name": "stdout",
     "output_type": "stream",
     "text": [
      "{'fdr': 0.5147058823529411, 'tpr': 0.7674418604651163, 'fpr': 0.23809523809523808, 'shd': 43, 'pred_size': 68, 'n': 500, 'p': 1, 'd': 10, 'degree': 4, 'noise_type': 'GUMBEL', 'mlp': True, 'runtime': 33.071125745773315, 'model_name': 'DAGMATS'}\n"
     ]
    },
    {
     "data": {
      "application/vnd.jupyter.widget-view+json": {
       "model_id": "3388c6c6b05c4828823da66c00136f28",
       "version_major": 2,
       "version_minor": 0
      },
      "text/plain": [
       "  0%|          | 0/23000.0 [00:00<?, ?it/s]"
      ]
     },
     "metadata": {},
     "output_type": "display_data"
    },
    {
     "name": "stdout",
     "output_type": "stream",
     "text": [
      "{'fdr': 0.5, 'tpr': 0.8043478260869565, 'fpr': 0.2569444444444444, 'shd': 45, 'pred_size': 74, 'n': 500, 'p': 1, 'd': 10, 'degree': 4, 'noise_type': 'GUMBEL', 'mlp': True, 'runtime': 30.71349263191223, 'model_name': 'DAGMATS'}\n"
     ]
    },
    {
     "data": {
      "application/vnd.jupyter.widget-view+json": {
       "model_id": "4fc7e81083c64dbdabac47cb40c3cfc8",
       "version_major": 2,
       "version_minor": 0
      },
      "text/plain": [
       "  0%|          | 0/23000.0 [00:00<?, ?it/s]"
      ]
     },
     "metadata": {},
     "output_type": "display_data"
    },
    {
     "name": "stdout",
     "output_type": "stream",
     "text": [
      "{'fdr': 0.5074626865671642, 'tpr': 0.7674418604651163, 'fpr': 0.23129251700680273, 'shd': 42, 'pred_size': 67, 'n': 500, 'p': 1, 'd': 10, 'degree': 4, 'noise_type': 'GUMBEL', 'mlp': True, 'runtime': 32.87865114212036, 'model_name': 'DAGMATS'}\n"
     ]
    },
    {
     "data": {
      "application/vnd.jupyter.widget-view+json": {
       "model_id": "37d1b89d7d0c42f69e93464ea79ffd43",
       "version_major": 2,
       "version_minor": 0
      },
      "text/plain": [
       "  0%|          | 0/23000.0 [00:00<?, ?it/s]"
      ]
     },
     "metadata": {},
     "output_type": "display_data"
    },
    {
     "name": "stdout",
     "output_type": "stream",
     "text": [
      "{'fdr': 0.6153846153846154, 'tpr': 0.9090909090909091, 'fpr': 0.3057324840764331, 'shd': 49, 'pred_size': 78, 'n': 500, 'p': 1, 'd': 10, 'degree': 4, 'noise_type': 'GUMBEL', 'mlp': True, 'runtime': 30.703619718551636, 'model_name': 'DAGMATS'}\n"
     ]
    },
    {
     "data": {
      "application/vnd.jupyter.widget-view+json": {
       "model_id": "035ef420df7246f5a3de997c655feff7",
       "version_major": 2,
       "version_minor": 0
      },
      "text/plain": [
       "  0%|          | 0/23000.0 [00:00<?, ?it/s]"
      ]
     },
     "metadata": {},
     "output_type": "display_data"
    },
    {
     "name": "stdout",
     "output_type": "stream",
     "text": [
      "{'fdr': 0.5967741935483871, 'tpr': 0.8928571428571429, 'fpr': 0.22839506172839505, 'shd': 40, 'pred_size': 62, 'n': 500, 'p': 1, 'd': 10, 'degree': 4, 'noise_type': 'GUMBEL', 'mlp': True, 'runtime': 34.47223424911499, 'model_name': 'DAGMATS'}\n"
     ]
    },
    {
     "data": {
      "application/vnd.jupyter.widget-view+json": {
       "model_id": "f90b4f3e2c954eb89c93391994b6f73c",
       "version_major": 2,
       "version_minor": 0
      },
      "text/plain": [
       "  0%|          | 0/23000.0 [00:00<?, ?it/s]"
      ]
     },
     "metadata": {},
     "output_type": "display_data"
    },
    {
     "name": "stdout",
     "output_type": "stream",
     "text": [
      "{'fdr': 0.5555555555555556, 'tpr': 0.8888888888888888, 'fpr': 0.2597402597402597, 'shd': 44, 'pred_size': 72, 'n': 500, 'p': 1, 'd': 10, 'degree': 4, 'noise_type': 'GUMBEL', 'mlp': True, 'runtime': 28.608675241470337, 'model_name': 'DAGMATS'}\n"
     ]
    },
    {
     "data": {
      "application/vnd.jupyter.widget-view+json": {
       "model_id": "bc3ca59cd0f24edf814f292223a94372",
       "version_major": 2,
       "version_minor": 0
      },
      "text/plain": [
       "  0%|          | 0/23000.0 [00:00<?, ?it/s]"
      ]
     },
     "metadata": {},
     "output_type": "display_data"
    },
    {
     "name": "stdout",
     "output_type": "stream",
     "text": [
      "{'fdr': 0.417910447761194, 'tpr': 0.21666666666666667, 'fpr': 0.04666666666666667, 'shd': 165, 'pred_size': 67, 'n': 50, 'p': 1, 'd': 20, 'degree': 2, 'noise_type': 'GUMBEL', 'mlp': True, 'runtime': 44.23506474494934, 'model_name': 'DAGMATS'}\n"
     ]
    },
    {
     "data": {
      "application/vnd.jupyter.widget-view+json": {
       "model_id": "2365649c9fcf47b2a9ca644147290de2",
       "version_major": 2,
       "version_minor": 0
      },
      "text/plain": [
       "  0%|          | 0/23000.0 [00:00<?, ?it/s]"
      ]
     },
     "metadata": {},
     "output_type": "display_data"
    },
    {
     "name": "stdout",
     "output_type": "stream",
     "text": [
      "{'fdr': 0.3090909090909091, 'tpr': 0.2222222222222222, 'fpr': 0.027914614121510674, 'shd': 149, 'pred_size': 55, 'n': 50, 'p': 1, 'd': 20, 'degree': 2, 'noise_type': 'GUMBEL', 'mlp': True, 'runtime': 44.41225838661194, 'model_name': 'DAGMATS'}\n"
     ]
    },
    {
     "data": {
      "application/vnd.jupyter.widget-view+json": {
       "model_id": "6c37f7bbe3e14a90adc062ff8a5656e2",
       "version_major": 2,
       "version_minor": 0
      },
      "text/plain": [
       "  0%|          | 0/23000.0 [00:00<?, ?it/s]"
      ]
     },
     "metadata": {},
     "output_type": "display_data"
    },
    {
     "name": "stdout",
     "output_type": "stream",
     "text": [
      "{'fdr': 0.3880597014925373, 'tpr': 0.22282608695652173, 'fpr': 0.0436241610738255, 'shd': 168, 'pred_size': 67, 'n': 50, 'p': 1, 'd': 20, 'degree': 2, 'noise_type': 'GUMBEL', 'mlp': True, 'runtime': 42.018216371536255, 'model_name': 'DAGMATS'}\n"
     ]
    },
    {
     "data": {
      "application/vnd.jupyter.widget-view+json": {
       "model_id": "2bb428b01e6448b98ee3c5f3e36c3c4a",
       "version_major": 2,
       "version_minor": 0
      },
      "text/plain": [
       "  0%|          | 0/23000.0 [00:00<?, ?it/s]"
      ]
     },
     "metadata": {},
     "output_type": "display_data"
    },
    {
     "name": "stdout",
     "output_type": "stream",
     "text": [
      "{'fdr': 0.5, 'tpr': 0.20809248554913296, 'fpr': 0.05930807248764415, 'shd': 169, 'pred_size': 72, 'n': 50, 'p': 1, 'd': 20, 'degree': 2, 'noise_type': 'GUMBEL', 'mlp': True, 'runtime': 37.505735635757446, 'model_name': 'DAGMATS'}\n"
     ]
    },
    {
     "data": {
      "application/vnd.jupyter.widget-view+json": {
       "model_id": "874c2899877a4457ac7183c2a1f625c0",
       "version_major": 2,
       "version_minor": 0
      },
      "text/plain": [
       "  0%|          | 0/23000.0 [00:00<?, ?it/s]"
      ]
     },
     "metadata": {},
     "output_type": "display_data"
    },
    {
     "name": "stdout",
     "output_type": "stream",
     "text": [
      "{'fdr': 0.41975308641975306, 'tpr': 0.2655367231638418, 'fpr': 0.05638474295190713, 'shd': 161, 'pred_size': 81, 'n': 50, 'p': 1, 'd': 20, 'degree': 2, 'noise_type': 'GUMBEL', 'mlp': True, 'runtime': 31.24260663986206, 'model_name': 'DAGMATS'}\n"
     ]
    },
    {
     "data": {
      "application/vnd.jupyter.widget-view+json": {
       "model_id": "89fbacd83a504176a01e66f77ce29665",
       "version_major": 2,
       "version_minor": 0
      },
      "text/plain": [
       "  0%|          | 0/23000.0 [00:00<?, ?it/s]"
      ]
     },
     "metadata": {},
     "output_type": "display_data"
    },
    {
     "name": "stdout",
     "output_type": "stream",
     "text": [
      "{'fdr': 0.42105263157894735, 'tpr': 0.23741007194244604, 'fpr': 0.0374414976599064, 'shd': 129, 'pred_size': 57, 'n': 50, 'p': 1, 'd': 20, 'degree': 2, 'noise_type': 'GUMBEL', 'mlp': True, 'runtime': 37.318065881729126, 'model_name': 'DAGMATS'}\n"
     ]
    },
    {
     "data": {
      "application/vnd.jupyter.widget-view+json": {
       "model_id": "7d1babe5404e45c68cabb483ecab9676",
       "version_major": 2,
       "version_minor": 0
      },
      "text/plain": [
       "  0%|          | 0/23000.0 [00:00<?, ?it/s]"
      ]
     },
     "metadata": {},
     "output_type": "display_data"
    },
    {
     "name": "stdout",
     "output_type": "stream",
     "text": [
      "{'fdr': 0.4827586206896552, 'tpr': 0.17647058823529413, 'fpr': 0.04590163934426229, 'shd': 164, 'pred_size': 58, 'n': 50, 'p': 1, 'd': 20, 'degree': 2, 'noise_type': 'GUMBEL', 'mlp': True, 'runtime': 44.36898851394653, 'model_name': 'DAGMATS'}\n"
     ]
    },
    {
     "data": {
      "application/vnd.jupyter.widget-view+json": {
       "model_id": "309d5f1bace14137a3cdda9c2e5f9bae",
       "version_major": 2,
       "version_minor": 0
      },
      "text/plain": [
       "  0%|          | 0/23000.0 [00:00<?, ?it/s]"
      ]
     },
     "metadata": {},
     "output_type": "display_data"
    },
    {
     "name": "stdout",
     "output_type": "stream",
     "text": [
      "{'fdr': 0.37681159420289856, 'tpr': 0.2471264367816092, 'fpr': 0.0429042904290429, 'shd': 153, 'pred_size': 69, 'n': 50, 'p': 1, 'd': 20, 'degree': 2, 'noise_type': 'GUMBEL', 'mlp': True, 'runtime': 39.17013740539551, 'model_name': 'DAGMATS'}\n"
     ]
    },
    {
     "data": {
      "application/vnd.jupyter.widget-view+json": {
       "model_id": "a2d89cc7c7aa4fe1910698a952d2f13a",
       "version_major": 2,
       "version_minor": 0
      },
      "text/plain": [
       "  0%|          | 0/23000.0 [00:00<?, ?it/s]"
      ]
     },
     "metadata": {},
     "output_type": "display_data"
    },
    {
     "name": "stdout",
     "output_type": "stream",
     "text": [
      "{'fdr': 0.47619047619047616, 'tpr': 0.1783783783783784, 'fpr': 0.05042016806722689, 'shd': 179, 'pred_size': 63, 'n': 50, 'p': 1, 'd': 20, 'degree': 2, 'noise_type': 'GUMBEL', 'mlp': True, 'runtime': 42.09667158126831, 'model_name': 'DAGMATS'}\n"
     ]
    },
    {
     "data": {
      "application/vnd.jupyter.widget-view+json": {
       "model_id": "7870023332f44e7da740e474eca3c872",
       "version_major": 2,
       "version_minor": 0
      },
      "text/plain": [
       "  0%|          | 0/23000.0 [00:00<?, ?it/s]"
      ]
     },
     "metadata": {},
     "output_type": "display_data"
    },
    {
     "name": "stdout",
     "output_type": "stream",
     "text": [
      "{'fdr': 0.5679012345679012, 'tpr': 0.22435897435897437, 'fpr': 0.07371794871794872, 'shd': 163, 'pred_size': 81, 'n': 50, 'p': 1, 'd': 20, 'degree': 2, 'noise_type': 'GUMBEL', 'mlp': True, 'runtime': 40.783379793167114, 'model_name': 'DAGMATS'}\n"
     ]
    },
    {
     "data": {
      "application/vnd.jupyter.widget-view+json": {
       "model_id": "6b3602cf8f134e62bca31c75d90dfb86",
       "version_major": 2,
       "version_minor": 0
      },
      "text/plain": [
       "  0%|          | 0/23000.0 [00:00<?, ?it/s]"
      ]
     },
     "metadata": {},
     "output_type": "display_data"
    },
    {
     "name": "stdout",
     "output_type": "stream",
     "text": [
      "{'fdr': 0.48484848484848486, 'tpr': 0.7906976744186046, 'fpr': 0.04341926729986431, 'shd': 40, 'pred_size': 66, 'n': 500, 'p': 1, 'd': 20, 'degree': 2, 'noise_type': 'GUMBEL', 'mlp': True, 'runtime': 41.55192279815674, 'model_name': 'DAGMATS'}\n"
     ]
    },
    {
     "data": {
      "application/vnd.jupyter.widget-view+json": {
       "model_id": "d734825db0394fbe9842be090a85c9e9",
       "version_major": 2,
       "version_minor": 0
      },
      "text/plain": [
       "  0%|          | 0/23000.0 [00:00<?, ?it/s]"
      ]
     },
     "metadata": {},
     "output_type": "display_data"
    },
    {
     "name": "stdout",
     "output_type": "stream",
     "text": [
      "{'fdr': 0.5, 'tpr': 0.8536585365853658, 'fpr': 0.04736129905277402, 'shd': 40, 'pred_size': 70, 'n': 500, 'p': 1, 'd': 20, 'degree': 2, 'noise_type': 'GUMBEL', 'mlp': True, 'runtime': 37.18058490753174, 'model_name': 'DAGMATS'}\n"
     ]
    },
    {
     "data": {
      "application/vnd.jupyter.widget-view+json": {
       "model_id": "14bc90de505c4b8dbcce3e89ead31317",
       "version_major": 2,
       "version_minor": 0
      },
      "text/plain": [
       "  0%|          | 0/23000.0 [00:00<?, ?it/s]"
      ]
     },
     "metadata": {},
     "output_type": "display_data"
    },
    {
     "name": "stdout",
     "output_type": "stream",
     "text": [
      "{'fdr': 0.5151515151515151, 'tpr': 0.8205128205128205, 'fpr': 0.04588394062078273, 'shd': 41, 'pred_size': 66, 'n': 500, 'p': 1, 'd': 20, 'degree': 2, 'noise_type': 'GUMBEL', 'mlp': True, 'runtime': 36.530317544937134, 'model_name': 'DAGMATS'}\n"
     ]
    },
    {
     "data": {
      "application/vnd.jupyter.widget-view+json": {
       "model_id": "2367cba499ba436b9bf8e85f78611478",
       "version_major": 2,
       "version_minor": 0
      },
      "text/plain": [
       "  0%|          | 0/23000.0 [00:00<?, ?it/s]"
      ]
     },
     "metadata": {},
     "output_type": "display_data"
    },
    {
     "name": "stdout",
     "output_type": "stream",
     "text": [
      "{'fdr': 0.463768115942029, 'tpr': 0.9024390243902439, 'fpr': 0.04330175913396482, 'shd': 35, 'pred_size': 69, 'n': 500, 'p': 1, 'd': 20, 'degree': 2, 'noise_type': 'GUMBEL', 'mlp': True, 'runtime': 41.44293785095215, 'model_name': 'DAGMATS'}\n"
     ]
    },
    {
     "data": {
      "application/vnd.jupyter.widget-view+json": {
       "model_id": "eb9189213bbe4a3692ab00eeb0aab6d2",
       "version_major": 2,
       "version_minor": 0
      },
      "text/plain": [
       "  0%|          | 0/23000.0 [00:00<?, ?it/s]"
      ]
     },
     "metadata": {},
     "output_type": "display_data"
    },
    {
     "name": "stdout",
     "output_type": "stream",
     "text": [
      "{'fdr': 0.31746031746031744, 'tpr': 0.7288135593220338, 'fpr': 0.027739251040221916, 'shd': 35, 'pred_size': 63, 'n': 500, 'p': 1, 'd': 20, 'degree': 2, 'noise_type': 'GUMBEL', 'mlp': True, 'runtime': 28.532931566238403, 'model_name': 'DAGMATS'}\n"
     ]
    },
    {
     "data": {
      "application/vnd.jupyter.widget-view+json": {
       "model_id": "c94f1475f6734c5eb8a528588793d129",
       "version_major": 2,
       "version_minor": 0
      },
      "text/plain": [
       "  0%|          | 0/23000.0 [00:00<?, ?it/s]"
      ]
     },
     "metadata": {},
     "output_type": "display_data"
    },
    {
     "name": "stdout",
     "output_type": "stream",
     "text": [
      "{'fdr': 0.4935064935064935, 'tpr': 0.7090909090909091, 'fpr': 0.05241379310344828, 'shd': 51, 'pred_size': 77, 'n': 500, 'p': 1, 'd': 20, 'degree': 2, 'noise_type': 'GUMBEL', 'mlp': True, 'runtime': 34.995155572891235, 'model_name': 'DAGMATS'}\n"
     ]
    },
    {
     "data": {
      "application/vnd.jupyter.widget-view+json": {
       "model_id": "37119cab7a5e48d2bc38bf23164d32b9",
       "version_major": 2,
       "version_minor": 0
      },
      "text/plain": [
       "  0%|          | 0/23000.0 [00:00<?, ?it/s]"
      ]
     },
     "metadata": {},
     "output_type": "display_data"
    },
    {
     "name": "stdout",
     "output_type": "stream",
     "text": [
      "{'fdr': 0.4146341463414634, 'tpr': 0.8888888888888888, 'fpr': 0.046831955922865015, 'shd': 40, 'pred_size': 82, 'n': 500, 'p': 1, 'd': 20, 'degree': 2, 'noise_type': 'GUMBEL', 'mlp': True, 'runtime': 34.79614734649658, 'model_name': 'DAGMATS'}\n"
     ]
    },
    {
     "data": {
      "application/vnd.jupyter.widget-view+json": {
       "model_id": "acbfd9c724d0446a89ba99fd37b99a90",
       "version_major": 2,
       "version_minor": 0
      },
      "text/plain": [
       "  0%|          | 0/23000.0 [00:00<?, ?it/s]"
      ]
     },
     "metadata": {},
     "output_type": "display_data"
    },
    {
     "name": "stdout",
     "output_type": "stream",
     "text": [
      "{'fdr': 0.45588235294117646, 'tpr': 0.6607142857142857, 'fpr': 0.04281767955801105, 'shd': 48, 'pred_size': 68, 'n': 500, 'p': 1, 'd': 20, 'degree': 2, 'noise_type': 'GUMBEL', 'mlp': True, 'runtime': 36.725146532058716, 'model_name': 'DAGMATS'}\n"
     ]
    },
    {
     "data": {
      "application/vnd.jupyter.widget-view+json": {
       "model_id": "9c3e04c57cbe4bfd9c4db01648272631",
       "version_major": 2,
       "version_minor": 0
      },
      "text/plain": [
       "  0%|          | 0/23000.0 [00:00<?, ?it/s]"
      ]
     },
     "metadata": {},
     "output_type": "display_data"
    },
    {
     "name": "stdout",
     "output_type": "stream",
     "text": [
      "{'fdr': 0.48, 'tpr': 0.7358490566037735, 'fpr': 0.04951856946354883, 'shd': 49, 'pred_size': 75, 'n': 500, 'p': 1, 'd': 20, 'degree': 2, 'noise_type': 'GUMBEL', 'mlp': True, 'runtime': 34.43881034851074, 'model_name': 'DAGMATS'}\n"
     ]
    },
    {
     "data": {
      "application/vnd.jupyter.widget-view+json": {
       "model_id": "d187338077554835a551704d0264a435",
       "version_major": 2,
       "version_minor": 0
      },
      "text/plain": [
       "  0%|          | 0/23000.0 [00:00<?, ?it/s]"
      ]
     },
     "metadata": {},
     "output_type": "display_data"
    },
    {
     "name": "stdout",
     "output_type": "stream",
     "text": [
      "{'fdr': 0.47761194029850745, 'tpr': 0.7608695652173914, 'fpr': 0.043596730245231606, 'shd': 40, 'pred_size': 67, 'n': 500, 'p': 1, 'd': 20, 'degree': 2, 'noise_type': 'GUMBEL', 'mlp': True, 'runtime': 42.807281255722046, 'model_name': 'DAGMATS'}\n"
     ]
    },
    {
     "data": {
      "application/vnd.jupyter.widget-view+json": {
       "model_id": "d761d224094349c9af8c3aff6863d234",
       "version_major": 2,
       "version_minor": 0
      },
      "text/plain": [
       "  0%|          | 0/23000.0 [00:00<?, ?it/s]"
      ]
     },
     "metadata": {},
     "output_type": "display_data"
    },
    {
     "name": "stdout",
     "output_type": "stream",
     "text": [
      "{'fdr': 0.48, 'tpr': 0.35911602209944754, 'fpr': 0.1001669449081803, 'shd': 170, 'pred_size': 125, 'n': 50, 'p': 1, 'd': 20, 'degree': 4, 'noise_type': 'GUMBEL', 'mlp': True, 'runtime': 42.14064598083496, 'model_name': 'DAGMATS'}\n"
     ]
    },
    {
     "data": {
      "application/vnd.jupyter.widget-view+json": {
       "model_id": "d4ec7a60e5dd4955896af921cf691ac4",
       "version_major": 2,
       "version_minor": 0
      },
      "text/plain": [
       "  0%|          | 0/23000.0 [00:00<?, ?it/s]"
      ]
     },
     "metadata": {},
     "output_type": "display_data"
    },
    {
     "name": "stdout",
     "output_type": "stream",
     "text": [
      "{'fdr': 0.541095890410959, 'tpr': 0.3544973544973545, 'fpr': 0.13367174280879865, 'shd': 194, 'pred_size': 146, 'n': 50, 'p': 1, 'd': 20, 'degree': 4, 'noise_type': 'GUMBEL', 'mlp': True, 'runtime': 39.64991331100464, 'model_name': 'DAGMATS'}\n"
     ]
    },
    {
     "data": {
      "application/vnd.jupyter.widget-view+json": {
       "model_id": "2dc9f30bb64942258041bb3e7a3ff45e",
       "version_major": 2,
       "version_minor": 0
      },
      "text/plain": [
       "  0%|          | 0/23000.0 [00:00<?, ?it/s]"
      ]
     },
     "metadata": {},
     "output_type": "display_data"
    },
    {
     "name": "stdout",
     "output_type": "stream",
     "text": [
      "{'fdr': 0.5, 'tpr': 0.39267015706806285, 'fpr': 0.1273344651952462, 'shd': 185, 'pred_size': 150, 'n': 50, 'p': 1, 'd': 20, 'degree': 4, 'noise_type': 'GUMBEL', 'mlp': True, 'runtime': 33.884371280670166, 'model_name': 'DAGMATS'}\n"
     ]
    },
    {
     "data": {
      "application/vnd.jupyter.widget-view+json": {
       "model_id": "22c293ea6a7d4646b885eaf855a952ce",
       "version_major": 2,
       "version_minor": 0
      },
      "text/plain": [
       "  0%|          | 0/23000.0 [00:00<?, ?it/s]"
      ]
     },
     "metadata": {},
     "output_type": "display_data"
    },
    {
     "name": "stdout",
     "output_type": "stream",
     "text": [
      "{'fdr': 0.5343511450381679, 'tpr': 0.2975609756097561, 'fpr': 0.12173913043478261, 'shd': 201, 'pred_size': 131, 'n': 50, 'p': 1, 'd': 20, 'degree': 4, 'noise_type': 'GUMBEL', 'mlp': True, 'runtime': 42.13281989097595, 'model_name': 'DAGMATS'}\n"
     ]
    },
    {
     "data": {
      "application/vnd.jupyter.widget-view+json": {
       "model_id": "e6dd36b8175148059058072f45e73459",
       "version_major": 2,
       "version_minor": 0
      },
      "text/plain": [
       "  0%|          | 0/23000.0 [00:00<?, ?it/s]"
      ]
     },
     "metadata": {},
     "output_type": "display_data"
    },
    {
     "name": "stdout",
     "output_type": "stream",
     "text": [
      "{'fdr': 0.6363636363636364, 'tpr': 0.30057803468208094, 'fpr': 0.14991762767710048, 'shd': 205, 'pred_size': 143, 'n': 50, 'p': 1, 'd': 20, 'degree': 4, 'noise_type': 'GUMBEL', 'mlp': True, 'runtime': 44.42920112609863, 'model_name': 'DAGMATS'}\n"
     ]
    },
    {
     "data": {
      "application/vnd.jupyter.widget-view+json": {
       "model_id": "31731ec4285148038107067f69cfabf7",
       "version_major": 2,
       "version_minor": 0
      },
      "text/plain": [
       "  0%|          | 0/23000.0 [00:00<?, ?it/s]"
      ]
     },
     "metadata": {},
     "output_type": "display_data"
    },
    {
     "name": "stdout",
     "output_type": "stream",
     "text": [
      "{'fdr': 0.5190839694656488, 'tpr': 0.315, 'fpr': 0.11724137931034483, 'shd': 199, 'pred_size': 131, 'n': 50, 'p': 1, 'd': 20, 'degree': 4, 'noise_type': 'GUMBEL', 'mlp': True, 'runtime': 42.14824867248535, 'model_name': 'DAGMATS'}\n"
     ]
    },
    {
     "data": {
      "application/vnd.jupyter.widget-view+json": {
       "model_id": "f4b2b42b32164f6dbfae8c2d6ef633cb",
       "version_major": 2,
       "version_minor": 0
      },
      "text/plain": [
       "  0%|          | 0/23000.0 [00:00<?, ?it/s]"
      ]
     },
     "metadata": {},
     "output_type": "display_data"
    },
    {
     "name": "stdout",
     "output_type": "stream",
     "text": [
      "{'fdr': 0.4405594405594406, 'tpr': 0.38095238095238093, 'fpr': 0.11052631578947368, 'shd': 189, 'pred_size': 143, 'n': 50, 'p': 1, 'd': 20, 'degree': 4, 'noise_type': 'GUMBEL', 'mlp': True, 'runtime': 37.727548122406006, 'model_name': 'DAGMATS'}\n"
     ]
    },
    {
     "data": {
      "application/vnd.jupyter.widget-view+json": {
       "model_id": "6b4b1936bdb846f4b9c9bf9f166549de",
       "version_major": 2,
       "version_minor": 0
      },
      "text/plain": [
       "  0%|          | 0/23000.0 [00:00<?, ?it/s]"
      ]
     },
     "metadata": {},
     "output_type": "display_data"
    },
    {
     "name": "stdout",
     "output_type": "stream",
     "text": [
      "{'fdr': 0.54421768707483, 'tpr': 0.36813186813186816, 'fpr': 0.13377926421404682, 'shd': 189, 'pred_size': 147, 'n': 50, 'p': 1, 'd': 20, 'degree': 4, 'noise_type': 'GUMBEL', 'mlp': True, 'runtime': 39.62621855735779, 'model_name': 'DAGMATS'}\n"
     ]
    },
    {
     "data": {
      "application/vnd.jupyter.widget-view+json": {
       "model_id": "28cb840681b6431aa987ad7c41d6aeaf",
       "version_major": 2,
       "version_minor": 0
      },
      "text/plain": [
       "  0%|          | 0/23000.0 [00:00<?, ?it/s]"
      ]
     },
     "metadata": {},
     "output_type": "display_data"
    },
    {
     "name": "stdout",
     "output_type": "stream",
     "text": [
      "{'fdr': 0.448, 'tpr': 0.34328358208955223, 'fpr': 0.09671848013816926, 'shd': 182, 'pred_size': 125, 'n': 50, 'p': 1, 'd': 20, 'degree': 4, 'noise_type': 'GUMBEL', 'mlp': True, 'runtime': 43.91426944732666, 'model_name': 'DAGMATS'}\n"
     ]
    },
    {
     "data": {
      "application/vnd.jupyter.widget-view+json": {
       "model_id": "ec8f641edec3436abfa31d0f57f096db",
       "version_major": 2,
       "version_minor": 0
      },
      "text/plain": [
       "  0%|          | 0/23000.0 [00:00<?, ?it/s]"
      ]
     },
     "metadata": {},
     "output_type": "display_data"
    },
    {
     "name": "stdout",
     "output_type": "stream",
     "text": [
      "{'fdr': 0.4351145038167939, 'tpr': 0.3756345177664975, 'fpr': 0.09777015437392796, 'shd': 177, 'pred_size': 131, 'n': 50, 'p': 1, 'd': 20, 'degree': 4, 'noise_type': 'GUMBEL', 'mlp': True, 'runtime': 39.855637550354004, 'model_name': 'DAGMATS'}\n"
     ]
    },
    {
     "data": {
      "application/vnd.jupyter.widget-view+json": {
       "model_id": "62fbb42a3dae4bec8ec03bf5f863dd12",
       "version_major": 2,
       "version_minor": 0
      },
      "text/plain": [
       "  0%|          | 0/23000.0 [00:00<?, ?it/s]"
      ]
     },
     "metadata": {},
     "output_type": "display_data"
    },
    {
     "name": "stdout",
     "output_type": "stream",
     "text": [
      "{'fdr': 0.5693430656934306, 'tpr': 0.8428571428571429, 'fpr': 0.10985915492957747, 'shd': 87, 'pred_size': 137, 'n': 500, 'p': 1, 'd': 20, 'degree': 4, 'noise_type': 'GUMBEL', 'mlp': True, 'runtime': 30.136151790618896, 'model_name': 'DAGMATS'}\n"
     ]
    },
    {
     "data": {
      "application/vnd.jupyter.widget-view+json": {
       "model_id": "3e70f79dfd654c9ba3e2c05b8e4b89c7",
       "version_major": 2,
       "version_minor": 0
      },
      "text/plain": [
       "  0%|          | 0/23000.0 [00:00<?, ?it/s]"
      ]
     },
     "metadata": {},
     "output_type": "display_data"
    },
    {
     "name": "stdout",
     "output_type": "stream",
     "text": [
      "{'fdr': 0.5223880597014925, 'tpr': 0.8767123287671232, 'fpr': 0.09900990099009901, 'shd': 76, 'pred_size': 134, 'n': 500, 'p': 1, 'd': 20, 'degree': 4, 'noise_type': 'GUMBEL', 'mlp': True, 'runtime': 35.06279802322388, 'model_name': 'DAGMATS'}\n"
     ]
    },
    {
     "data": {
      "application/vnd.jupyter.widget-view+json": {
       "model_id": "29786770c467405db11be3a1133dc20a",
       "version_major": 2,
       "version_minor": 0
      },
      "text/plain": [
       "  0%|          | 0/23000.0 [00:00<?, ?it/s]"
      ]
     },
     "metadata": {},
     "output_type": "display_data"
    },
    {
     "name": "stdout",
     "output_type": "stream",
     "text": [
      "{'fdr': 0.5267175572519084, 'tpr': 0.8493150684931506, 'fpr': 0.09759547383309759, 'shd': 79, 'pred_size': 131, 'n': 500, 'p': 1, 'd': 20, 'degree': 4, 'noise_type': 'GUMBEL', 'mlp': True, 'runtime': 41.97905468940735, 'model_name': 'DAGMATS'}\n"
     ]
    },
    {
     "data": {
      "application/vnd.jupyter.widget-view+json": {
       "model_id": "37571bb1e54746419f23afb723cb4b14",
       "version_major": 2,
       "version_minor": 0
      },
      "text/plain": [
       "  0%|          | 0/23000.0 [00:00<?, ?it/s]"
      ]
     },
     "metadata": {},
     "output_type": "display_data"
    },
    {
     "name": "stdout",
     "output_type": "stream",
     "text": [
      "{'fdr': 0.5954198473282443, 'tpr': 0.7681159420289855, 'fpr': 0.10970464135021098, 'shd': 90, 'pred_size': 131, 'n': 500, 'p': 1, 'd': 20, 'degree': 4, 'noise_type': 'GUMBEL', 'mlp': True, 'runtime': 31.66165518760681, 'model_name': 'DAGMATS'}\n"
     ]
    },
    {
     "data": {
      "application/vnd.jupyter.widget-view+json": {
       "model_id": "8e890fc16ecc4f9b83bb96a65d146dfb",
       "version_major": 2,
       "version_minor": 0
      },
      "text/plain": [
       "  0%|          | 0/23000.0 [00:00<?, ?it/s]"
      ]
     },
     "metadata": {},
     "output_type": "display_data"
    },
    {
     "name": "stdout",
     "output_type": "stream",
     "text": [
      "{'fdr': 0.5511811023622047, 'tpr': 0.8382352941176471, 'fpr': 0.09831460674157304, 'shd': 79, 'pred_size': 127, 'n': 500, 'p': 1, 'd': 20, 'degree': 4, 'noise_type': 'GUMBEL', 'mlp': True, 'runtime': 30.544751405715942, 'model_name': 'DAGMATS'}\n"
     ]
    },
    {
     "data": {
      "application/vnd.jupyter.widget-view+json": {
       "model_id": "9283968788cb473ab2e466ed9b8e3176",
       "version_major": 2,
       "version_minor": 0
      },
      "text/plain": [
       "  0%|          | 0/23000.0 [00:00<?, ?it/s]"
      ]
     },
     "metadata": {},
     "output_type": "display_data"
    },
    {
     "name": "stdout",
     "output_type": "stream",
     "text": [
      "{'fdr': 0.5220588235294118, 'tpr': 0.9420289855072463, 'fpr': 0.09985935302390998, 'shd': 74, 'pred_size': 136, 'n': 500, 'p': 1, 'd': 20, 'degree': 4, 'noise_type': 'GUMBEL', 'mlp': True, 'runtime': 32.18970513343811, 'model_name': 'DAGMATS'}\n"
     ]
    },
    {
     "data": {
      "application/vnd.jupyter.widget-view+json": {
       "model_id": "1a1e350893cf40409792575807bb23fe",
       "version_major": 2,
       "version_minor": 0
      },
      "text/plain": [
       "  0%|          | 0/23000.0 [00:00<?, ?it/s]"
      ]
     },
     "metadata": {},
     "output_type": "display_data"
    },
    {
     "name": "stdout",
     "output_type": "stream",
     "text": [
      "{'fdr': 0.5633802816901409, 'tpr': 0.8266666666666667, 'fpr': 0.11347517730496454, 'shd': 92, 'pred_size': 142, 'n': 500, 'p': 1, 'd': 20, 'degree': 4, 'noise_type': 'GUMBEL', 'mlp': True, 'runtime': 34.45156693458557, 'model_name': 'DAGMATS'}\n"
     ]
    },
    {
     "data": {
      "application/vnd.jupyter.widget-view+json": {
       "model_id": "f50320f8bb35449fb075a29c7c390285",
       "version_major": 2,
       "version_minor": 0
      },
      "text/plain": [
       "  0%|          | 0/23000.0 [00:00<?, ?it/s]"
      ]
     },
     "metadata": {},
     "output_type": "display_data"
    },
    {
     "name": "stdout",
     "output_type": "stream",
     "text": [
      "{'fdr': 0.553030303030303, 'tpr': 0.9076923076923077, 'fpr': 0.1020979020979021, 'shd': 78, 'pred_size': 132, 'n': 500, 'p': 1, 'd': 20, 'degree': 4, 'noise_type': 'GUMBEL', 'mlp': True, 'runtime': 35.179161071777344, 'model_name': 'DAGMATS'}\n"
     ]
    },
    {
     "data": {
      "application/vnd.jupyter.widget-view+json": {
       "model_id": "6032b2a1b77b47b781fee3dbb1adc164",
       "version_major": 2,
       "version_minor": 0
      },
      "text/plain": [
       "  0%|          | 0/23000.0 [00:00<?, ?it/s]"
      ]
     },
     "metadata": {},
     "output_type": "display_data"
    },
    {
     "name": "stdout",
     "output_type": "stream",
     "text": [
      "{'fdr': 0.47368421052631576, 'tpr': 0.898876404494382, 'fpr': 0.10419681620839363, 'shd': 80, 'pred_size': 152, 'n': 500, 'p': 1, 'd': 20, 'degree': 4, 'noise_type': 'GUMBEL', 'mlp': True, 'runtime': 36.290103912353516, 'model_name': 'DAGMATS'}\n"
     ]
    },
    {
     "data": {
      "application/vnd.jupyter.widget-view+json": {
       "model_id": "d72e3ecfa4974cda8db9024545b0afde",
       "version_major": 2,
       "version_minor": 0
      },
      "text/plain": [
       "  0%|          | 0/23000.0 [00:00<?, ?it/s]"
      ]
     },
     "metadata": {},
     "output_type": "display_data"
    },
    {
     "name": "stdout",
     "output_type": "stream",
     "text": [
      "{'fdr': 0.6054421768707483, 'tpr': 0.8787878787878788, 'fpr': 0.12464985994397759, 'shd': 96, 'pred_size': 147, 'n': 500, 'p': 1, 'd': 20, 'degree': 4, 'noise_type': 'GUMBEL', 'mlp': True, 'runtime': 35.047476053237915, 'model_name': 'DAGMATS'}\n"
     ]
    },
    {
     "data": {
      "application/vnd.jupyter.widget-view+json": {
       "model_id": "5b2c7f34d6ff4083879973ae40a992ce",
       "version_major": 2,
       "version_minor": 0
      },
      "text/plain": [
       "  0%|          | 0/23000.0 [00:00<?, ?it/s]"
      ]
     },
     "metadata": {},
     "output_type": "display_data"
    },
    {
     "name": "stdout",
     "output_type": "stream",
     "text": [
      "{'fdr': 0.46511627906976744, 'tpr': 0.07272727272727272, 'fpr': 0.021709633649932156, 'shd': 1246, 'pred_size': 172, 'n': 50, 'p': 1, 'd': 50, 'degree': 2, 'noise_type': 'GUMBEL', 'mlp': True, 'runtime': 54.18258881568909, 'model_name': 'DAGMATS'}\n"
     ]
    },
    {
     "data": {
      "application/vnd.jupyter.widget-view+json": {
       "model_id": "f5bd2111266942f3b12ef6ec8f92abae",
       "version_major": 2,
       "version_minor": 0
      },
      "text/plain": [
       "  0%|          | 0/23000.0 [00:00<?, ?it/s]"
      ]
     },
     "metadata": {},
     "output_type": "display_data"
    },
    {
     "name": "stdout",
     "output_type": "stream",
     "text": [
      "{'fdr': 0.4563758389261745, 'tpr': 0.06022304832713755, 'fpr': 0.0188626907073509, 'shd': 1329, 'pred_size': 149, 'n': 50, 'p': 1, 'd': 50, 'degree': 2, 'noise_type': 'GUMBEL', 'mlp': True, 'runtime': 54.10162901878357, 'model_name': 'DAGMATS'}\n"
     ]
    },
    {
     "data": {
      "application/vnd.jupyter.widget-view+json": {
       "model_id": "8c6ab8fc76624cf5b5522c923eb92fc8",
       "version_major": 2,
       "version_minor": 0
      },
      "text/plain": [
       "  0%|          | 0/23000.0 [00:00<?, ?it/s]"
      ]
     },
     "metadata": {},
     "output_type": "display_data"
    },
    {
     "name": "stdout",
     "output_type": "stream",
     "text": [
      "{'fdr': 0.4838709677419355, 'tpr': 0.06354249404289118, 'fpr': 0.02031969655919805, 'shd': 1248, 'pred_size': 155, 'n': 50, 'p': 1, 'd': 50, 'degree': 2, 'noise_type': 'GUMBEL', 'mlp': True, 'runtime': 53.92764949798584, 'model_name': 'DAGMATS'}\n"
     ]
    },
    {
     "data": {
      "application/vnd.jupyter.widget-view+json": {
       "model_id": "260c6ca5e63240ccbba37458a9090a53",
       "version_major": 2,
       "version_minor": 0
      },
      "text/plain": [
       "  0%|          | 0/23000.0 [00:00<?, ?it/s]"
      ]
     },
     "metadata": {},
     "output_type": "display_data"
    },
    {
     "name": "stdout",
     "output_type": "stream",
     "text": [
      "{'fdr': 0.45962732919254656, 'tpr': 0.06170212765957447, 'fpr': 0.020903954802259886, 'shd': 1388, 'pred_size': 161, 'n': 50, 'p': 1, 'd': 50, 'degree': 2, 'noise_type': 'GUMBEL', 'mlp': True, 'runtime': 52.84097385406494, 'model_name': 'DAGMATS'}\n"
     ]
    },
    {
     "data": {
      "application/vnd.jupyter.widget-view+json": {
       "model_id": "9e12fab718754b2b83acc0d7e0d3c597",
       "version_major": 2,
       "version_minor": 0
      },
      "text/plain": [
       "  0%|          | 0/23000.0 [00:00<?, ?it/s]"
      ]
     },
     "metadata": {},
     "output_type": "display_data"
    },
    {
     "name": "stdout",
     "output_type": "stream",
     "text": [
      "{'fdr': 0.49390243902439024, 'tpr': 0.07267950963222417, 'fpr': 0.021271008403361345, 'shd': 1136, 'pred_size': 164, 'n': 50, 'p': 1, 'd': 50, 'degree': 2, 'noise_type': 'GUMBEL', 'mlp': True, 'runtime': 53.42467451095581, 'model_name': 'DAGMATS'}\n"
     ]
    },
    {
     "data": {
      "application/vnd.jupyter.widget-view+json": {
       "model_id": "4607c74848c145548f079ffcc878c88b",
       "version_major": 2,
       "version_minor": 0
      },
      "text/plain": [
       "  0%|          | 0/23000.0 [00:00<?, ?it/s]"
      ]
     },
     "metadata": {},
     "output_type": "display_data"
    },
    {
     "name": "stdout",
     "output_type": "stream",
     "text": [
      "{'fdr': 0.48466257668711654, 'tpr': 0.0672, 'fpr': 0.021351351351351352, 'shd': 1239, 'pred_size': 163, 'n': 50, 'p': 1, 'd': 50, 'degree': 2, 'noise_type': 'GUMBEL', 'mlp': True, 'runtime': 53.51570224761963, 'model_name': 'DAGMATS'}\n"
     ]
    },
    {
     "data": {
      "application/vnd.jupyter.widget-view+json": {
       "model_id": "5cc6597562fa47298cfc1608e1f91cfb",
       "version_major": 2,
       "version_minor": 0
      },
      "text/plain": [
       "  0%|          | 0/23000.0 [00:00<?, ?it/s]"
      ]
     },
     "metadata": {},
     "output_type": "display_data"
    },
    {
     "name": "stdout",
     "output_type": "stream",
     "text": [
      "{'fdr': 0.40372670807453415, 'tpr': 0.06866952789699571, 'fpr': 0.01829954954954955, 'shd': 1359, 'pred_size': 161, 'n': 50, 'p': 1, 'd': 50, 'degree': 2, 'noise_type': 'GUMBEL', 'mlp': True, 'runtime': 52.227946043014526, 'model_name': 'DAGMATS'}\n"
     ]
    },
    {
     "data": {
      "application/vnd.jupyter.widget-view+json": {
       "model_id": "b941a192290d44b983f85bf6b5dd263a",
       "version_major": 2,
       "version_minor": 0
      },
      "text/plain": [
       "  0%|          | 0/23000.0 [00:00<?, ?it/s]"
      ]
     },
     "metadata": {},
     "output_type": "display_data"
    },
    {
     "name": "stdout",
     "output_type": "stream",
     "text": [
      "{'fdr': 0.4876543209876543, 'tpr': 0.06268882175226587, 'fpr': 0.021787093215664643, 'shd': 1309, 'pred_size': 162, 'n': 50, 'p': 1, 'd': 50, 'degree': 2, 'noise_type': 'GUMBEL', 'mlp': True, 'runtime': 53.72372913360596, 'model_name': 'DAGMATS'}\n"
     ]
    },
    {
     "data": {
      "application/vnd.jupyter.widget-view+json": {
       "model_id": "ed4983678d1e498bbbb258017fc4e309",
       "version_major": 2,
       "version_minor": 0
      },
      "text/plain": [
       "  0%|          | 0/23000.0 [00:00<?, ?it/s]"
      ]
     },
     "metadata": {},
     "output_type": "display_data"
    },
    {
     "name": "stdout",
     "output_type": "stream",
     "text": [
      "{'fdr': 0.43448275862068964, 'tpr': 0.06332046332046332, 'fpr': 0.017236662106703146, 'shd': 1267, 'pred_size': 145, 'n': 50, 'p': 1, 'd': 50, 'degree': 2, 'noise_type': 'GUMBEL', 'mlp': True, 'runtime': 53.528852224349976, 'model_name': 'DAGMATS'}\n"
     ]
    },
    {
     "data": {
      "application/vnd.jupyter.widget-view+json": {
       "model_id": "fbff867b539549229d59da5129e00f1c",
       "version_major": 2,
       "version_minor": 0
      },
      "text/plain": [
       "  0%|          | 0/23000.0 [00:00<?, ?it/s]"
      ]
     },
     "metadata": {},
     "output_type": "display_data"
    },
    {
     "name": "stdout",
     "output_type": "stream",
     "text": [
      "{'fdr': 0.4620253164556962, 'tpr': 0.061371841155234655, 'fpr': 0.020476858345021037, 'shd': 1363, 'pred_size': 158, 'n': 50, 'p': 1, 'd': 50, 'degree': 2, 'noise_type': 'GUMBEL', 'mlp': True, 'runtime': 53.61381411552429, 'model_name': 'DAGMATS'}\n"
     ]
    },
    {
     "data": {
      "application/vnd.jupyter.widget-view+json": {
       "model_id": "2a5364c1d86b44ee99ee2208272eeefe",
       "version_major": 2,
       "version_minor": 0
      },
      "text/plain": [
       "  0%|          | 0/23000.0 [00:00<?, ?it/s]"
      ]
     },
     "metadata": {},
     "output_type": "display_data"
    },
    {
     "name": "stdout",
     "output_type": "stream",
     "text": [
      "{'fdr': 0.5562130177514792, 'tpr': 0.8064516129032258, 'fpr': 0.019353510397364628, 'shd': 107, 'pred_size': 169, 'n': 500, 'p': 1, 'd': 50, 'degree': 2, 'noise_type': 'GUMBEL', 'mlp': True, 'runtime': 47.48709797859192, 'model_name': 'DAGMATS'}\n"
     ]
    },
    {
     "data": {
      "application/vnd.jupyter.widget-view+json": {
       "model_id": "98f5e314ec2c422d80b470b4d224c717",
       "version_major": 2,
       "version_minor": 0
      },
      "text/plain": [
       "  0%|          | 0/23000.0 [00:00<?, ?it/s]"
      ]
     },
     "metadata": {},
     "output_type": "display_data"
    },
    {
     "name": "stdout",
     "output_type": "stream",
     "text": [
      "{'fdr': 0.41714285714285715, 'tpr': 0.9107142857142857, 'fpr': 0.015088879702356346, 'shd': 80, 'pred_size': 175, 'n': 500, 'p': 1, 'd': 50, 'degree': 2, 'noise_type': 'GUMBEL', 'mlp': True, 'runtime': 51.6184356212616, 'model_name': 'DAGMATS'}\n"
     ]
    },
    {
     "data": {
      "application/vnd.jupyter.widget-view+json": {
       "model_id": "54d4f10a84d748c496c8bf2410f38ad8",
       "version_major": 2,
       "version_minor": 0
      },
      "text/plain": [
       "  0%|          | 0/23000.0 [00:00<?, ?it/s]"
      ]
     },
     "metadata": {},
     "output_type": "display_data"
    },
    {
     "name": "stdout",
     "output_type": "stream",
     "text": [
      "{'fdr': 0.5126582278481012, 'tpr': 0.8369565217391305, 'fpr': 0.016673528200905723, 'shd': 92, 'pred_size': 158, 'n': 500, 'p': 1, 'd': 50, 'degree': 2, 'noise_type': 'GUMBEL', 'mlp': True, 'runtime': 51.39282155036926, 'model_name': 'DAGMATS'}\n"
     ]
    },
    {
     "data": {
      "application/vnd.jupyter.widget-view+json": {
       "model_id": "178a8e5d1666456fbf0ef71d8ec8f861",
       "version_major": 2,
       "version_minor": 0
      },
      "text/plain": [
       "  0%|          | 0/23000.0 [00:00<?, ?it/s]"
      ]
     },
     "metadata": {},
     "output_type": "display_data"
    },
    {
     "name": "stdout",
     "output_type": "stream",
     "text": [
      "{'fdr': 0.432258064516129, 'tpr': 0.8712871287128713, 'fpr': 0.013817281913796659, 'shd': 72, 'pred_size': 155, 'n': 500, 'p': 1, 'd': 50, 'degree': 2, 'noise_type': 'GUMBEL', 'mlp': True, 'runtime': 44.16453409194946, 'model_name': 'DAGMATS'}\n"
     ]
    },
    {
     "data": {
      "application/vnd.jupyter.widget-view+json": {
       "model_id": "0054330da85143fd9d4b93f67f1276f1",
       "version_major": 2,
       "version_minor": 0
      },
      "text/plain": [
       "  0%|          | 0/23000.0 [00:00<?, ?it/s]"
      ]
     },
     "metadata": {},
     "output_type": "display_data"
    },
    {
     "name": "stdout",
     "output_type": "stream",
     "text": [
      "{'fdr': 0.4014084507042254, 'tpr': 0.9340659340659341, 'fpr': 0.01173080880839679, 'shd': 63, 'pred_size': 142, 'n': 500, 'p': 1, 'd': 50, 'degree': 2, 'noise_type': 'GUMBEL', 'mlp': True, 'runtime': 49.03123211860657, 'model_name': 'DAGMATS'}\n"
     ]
    },
    {
     "data": {
      "application/vnd.jupyter.widget-view+json": {
       "model_id": "6a127993074e4369a86f0c3f6991a191",
       "version_major": 2,
       "version_minor": 0
      },
      "text/plain": [
       "  0%|          | 0/23000.0 [00:00<?, ?it/s]"
      ]
     },
     "metadata": {},
     "output_type": "display_data"
    },
    {
     "name": "stdout",
     "output_type": "stream",
     "text": [
      "{'fdr': 0.5054347826086957, 'tpr': 0.7777777777777778, 'fpr': 0.019242706393544383, 'shd': 109, 'pred_size': 184, 'n': 500, 'p': 1, 'd': 50, 'degree': 2, 'noise_type': 'GUMBEL', 'mlp': True, 'runtime': 38.07583236694336, 'model_name': 'DAGMATS'}\n"
     ]
    },
    {
     "data": {
      "application/vnd.jupyter.widget-view+json": {
       "model_id": "1282b8ca66d34c788df521969a4cb41c",
       "version_major": 2,
       "version_minor": 0
      },
      "text/plain": [
       "  0%|          | 0/23000.0 [00:00<?, ?it/s]"
      ]
     },
     "metadata": {},
     "output_type": "display_data"
    },
    {
     "name": "stdout",
     "output_type": "stream",
     "text": [
      "{'fdr': 0.4050632911392405, 'tpr': 0.912621359223301, 'fpr': 0.013204043738394884, 'shd': 70, 'pred_size': 158, 'n': 500, 'p': 1, 'd': 50, 'degree': 2, 'noise_type': 'GUMBEL', 'mlp': True, 'runtime': 40.007068157196045, 'model_name': 'DAGMATS'}\n"
     ]
    },
    {
     "data": {
      "application/vnd.jupyter.widget-view+json": {
       "model_id": "b8d99f7ff7534284a37f68045b4f1c43",
       "version_major": 2,
       "version_minor": 0
      },
      "text/plain": [
       "  0%|          | 0/23000.0 [00:00<?, ?it/s]"
      ]
     },
     "metadata": {},
     "output_type": "display_data"
    },
    {
     "name": "stdout",
     "output_type": "stream",
     "text": [
      "{'fdr': 0.4090909090909091, 'tpr': 0.91, 'fpr': 0.012989690721649485, 'shd': 69, 'pred_size': 154, 'n': 500, 'p': 1, 'd': 50, 'degree': 2, 'noise_type': 'GUMBEL', 'mlp': True, 'runtime': 46.74698448181152, 'model_name': 'DAGMATS'}\n"
     ]
    },
    {
     "data": {
      "application/vnd.jupyter.widget-view+json": {
       "model_id": "8aac3e5c4e70449686a52f096accd3c2",
       "version_major": 2,
       "version_minor": 0
      },
      "text/plain": [
       "  0%|          | 0/23000.0 [00:00<?, ?it/s]"
      ]
     },
     "metadata": {},
     "output_type": "display_data"
    },
    {
     "name": "stdout",
     "output_type": "stream",
     "text": [
      "{'fdr': 0.47530864197530864, 'tpr': 0.9340659340659341, 'fpr': 0.015846882074500926, 'shd': 82, 'pred_size': 162, 'n': 500, 'p': 1, 'd': 50, 'degree': 2, 'noise_type': 'GUMBEL', 'mlp': True, 'runtime': 36.78464412689209, 'model_name': 'DAGMATS'}\n"
     ]
    },
    {
     "data": {
      "application/vnd.jupyter.widget-view+json": {
       "model_id": "9344dddd7e2445b7a1a3e8122863fad6",
       "version_major": 2,
       "version_minor": 0
      },
      "text/plain": [
       "  0%|          | 0/23000.0 [00:00<?, ?it/s]"
      ]
     },
     "metadata": {},
     "output_type": "display_data"
    },
    {
     "name": "stdout",
     "output_type": "stream",
     "text": [
      "{'fdr': 0.44375, 'tpr': 0.9270833333333334, 'fpr': 0.014627111660486197, 'shd': 77, 'pred_size': 160, 'n': 500, 'p': 1, 'd': 50, 'degree': 2, 'noise_type': 'GUMBEL', 'mlp': True, 'runtime': 47.215665102005005, 'model_name': 'DAGMATS'}\n"
     ]
    },
    {
     "data": {
      "application/vnd.jupyter.widget-view+json": {
       "model_id": "6a0b12c37cba4e72ab311e3f47389499",
       "version_major": 2,
       "version_minor": 0
      },
      "text/plain": [
       "  0%|          | 0/23000.0 [00:00<?, ?it/s]"
      ]
     },
     "metadata": {},
     "output_type": "display_data"
    },
    {
     "name": "stdout",
     "output_type": "stream",
     "text": [
      "{'fdr': 0.5484949832775919, 'tpr': 0.0944055944055944, 'fpr': 0.04659090909090909, 'shd': 1449, 'pred_size': 299, 'n': 50, 'p': 1, 'd': 50, 'degree': 4, 'noise_type': 'GUMBEL', 'mlp': True, 'runtime': 53.98767900466919, 'model_name': 'DAGMATS'}\n"
     ]
    },
    {
     "data": {
      "application/vnd.jupyter.widget-view+json": {
       "model_id": "29fdbfa493b346bf84f396427792788c",
       "version_major": 2,
       "version_minor": 0
      },
      "text/plain": [
       "  0%|          | 0/23000.0 [00:00<?, ?it/s]"
      ]
     },
     "metadata": {},
     "output_type": "display_data"
    },
    {
     "name": "stdout",
     "output_type": "stream",
     "text": [
      "{'fdr': 0.5272108843537415, 'tpr': 0.09494535519125682, 'fpr': 0.0444635685599541, 'shd': 1470, 'pred_size': 294, 'n': 50, 'p': 1, 'd': 50, 'degree': 4, 'noise_type': 'GUMBEL', 'mlp': True, 'runtime': 51.33996915817261, 'model_name': 'DAGMATS'}\n"
     ]
    },
    {
     "data": {
      "application/vnd.jupyter.widget-view+json": {
       "model_id": "52706f5bd5c24f91a654cf68324a3253",
       "version_major": 2,
       "version_minor": 0
      },
      "text/plain": [
       "  0%|          | 0/23000.0 [00:00<?, ?it/s]"
      ]
     },
     "metadata": {},
     "output_type": "display_data"
    },
    {
     "name": "stdout",
     "output_type": "stream",
     "text": [
      "{'fdr': 0.5440251572327044, 'tpr': 0.1015406162464986, 'fpr': 0.0491198182850653, 'shd': 1445, 'pred_size': 318, 'n': 50, 'p': 1, 'd': 50, 'degree': 4, 'noise_type': 'GUMBEL', 'mlp': True, 'runtime': 53.686057567596436, 'model_name': 'DAGMATS'}\n"
     ]
    },
    {
     "data": {
      "application/vnd.jupyter.widget-view+json": {
       "model_id": "1316e607f09c46c39ec4a3ff54f445eb",
       "version_major": 2,
       "version_minor": 0
      },
      "text/plain": [
       "  0%|          | 0/23000.0 [00:00<?, ?it/s]"
      ]
     },
     "metadata": {},
     "output_type": "display_data"
    },
    {
     "name": "stdout",
     "output_type": "stream",
     "text": [
      "{'fdr': 0.47289156626506024, 'tpr': 0.11816340310600945, 'fpr': 0.04525799942346498, 'shd': 1451, 'pred_size': 332, 'n': 50, 'p': 1, 'd': 50, 'degree': 4, 'noise_type': 'GUMBEL', 'mlp': True, 'runtime': 50.936058044433594, 'model_name': 'DAGMATS'}\n"
     ]
    },
    {
     "data": {
      "application/vnd.jupyter.widget-view+json": {
       "model_id": "ad580fd71833441e817bb5919e1fecf3",
       "version_major": 2,
       "version_minor": 0
      },
      "text/plain": [
       "  0%|          | 0/23000.0 [00:00<?, ?it/s]"
      ]
     },
     "metadata": {},
     "output_type": "display_data"
    },
    {
     "name": "stdout",
     "output_type": "stream",
     "text": [
      "{'fdr': 0.5145631067961165, 'tpr': 0.10838150289017341, 'fpr': 0.0445877734155917, 'shd': 1385, 'pred_size': 309, 'n': 50, 'p': 1, 'd': 50, 'degree': 4, 'noise_type': 'GUMBEL', 'mlp': True, 'runtime': 53.929938077926636, 'model_name': 'DAGMATS'}\n"
     ]
    },
    {
     "data": {
      "application/vnd.jupyter.widget-view+json": {
       "model_id": "c67b14d877ac4c0e923e31a1ebc82ced",
       "version_major": 2,
       "version_minor": 0
      },
      "text/plain": [
       "  0%|          | 0/23000.0 [00:00<?, ?it/s]"
      ]
     },
     "metadata": {},
     "output_type": "display_data"
    },
    {
     "name": "stdout",
     "output_type": "stream",
     "text": [
      "{'fdr': 0.5168918918918919, 'tpr': 0.10491562729273661, 'fpr': 0.04265402843601896, 'shd': 1362, 'pred_size': 296, 'n': 50, 'p': 1, 'd': 50, 'degree': 4, 'noise_type': 'GUMBEL', 'mlp': True, 'runtime': 49.98106336593628, 'model_name': 'DAGMATS'}\n"
     ]
    },
    {
     "data": {
      "application/vnd.jupyter.widget-view+json": {
       "model_id": "fcc8ae2e2782457c9686da6a8bb73043",
       "version_major": 2,
       "version_minor": 0
      },
      "text/plain": [
       "  0%|          | 0/23000.0 [00:00<?, ?it/s]"
      ]
     },
     "metadata": {},
     "output_type": "display_data"
    },
    {
     "name": "stdout",
     "output_type": "stream",
     "text": [
      "{'fdr': 0.5331125827814569, 'tpr': 0.09585316111488783, 'fpr': 0.04627766599597585, 'shd': 1477, 'pred_size': 302, 'n': 50, 'p': 1, 'd': 50, 'degree': 4, 'noise_type': 'GUMBEL', 'mlp': True, 'runtime': 53.996259450912476, 'model_name': 'DAGMATS'}\n"
     ]
    },
    {
     "data": {
      "application/vnd.jupyter.widget-view+json": {
       "model_id": "f4b5476de9e949c59816de18ba40135a",
       "version_major": 2,
       "version_minor": 0
      },
      "text/plain": [
       "  0%|          | 0/23000.0 [00:00<?, ?it/s]"
      ]
     },
     "metadata": {},
     "output_type": "display_data"
    },
    {
     "name": "stdout",
     "output_type": "stream",
     "text": [
      "{'fdr': 0.5570032573289903, 'tpr': 0.09770114942528736, 'fpr': 0.048060708263069137, 'shd': 1417, 'pred_size': 307, 'n': 50, 'p': 1, 'd': 50, 'degree': 4, 'noise_type': 'GUMBEL', 'mlp': True, 'runtime': 53.57408022880554, 'model_name': 'DAGMATS'}\n"
     ]
    },
    {
     "data": {
      "application/vnd.jupyter.widget-view+json": {
       "model_id": "ffa3e304848e4851bb1804cffaadab46",
       "version_major": 2,
       "version_minor": 0
      },
      "text/plain": [
       "  0%|          | 0/23000.0 [00:00<?, ?it/s]"
      ]
     },
     "metadata": {},
     "output_type": "display_data"
    },
    {
     "name": "stdout",
     "output_type": "stream",
     "text": [
      "{'fdr': 0.5669781931464174, 'tpr': 0.09740714786264891, 'fpr': 0.05166051660516605, 'shd': 1453, 'pred_size': 321, 'n': 50, 'p': 1, 'd': 50, 'degree': 4, 'noise_type': 'GUMBEL', 'mlp': True, 'runtime': 52.834651470184326, 'model_name': 'DAGMATS'}\n"
     ]
    },
    {
     "data": {
      "application/vnd.jupyter.widget-view+json": {
       "model_id": "5e6df3d7dfbf44a6b3a4640282b2551d",
       "version_major": 2,
       "version_minor": 0
      },
      "text/plain": [
       "  0%|          | 0/23000.0 [00:00<?, ?it/s]"
      ]
     },
     "metadata": {},
     "output_type": "display_data"
    },
    {
     "name": "stdout",
     "output_type": "stream",
     "text": [
      "{'fdr': 0.5501618122977346, 'tpr': 0.09754385964912281, 'fpr': 0.04822695035460993, 'shd': 1445, 'pred_size': 309, 'n': 50, 'p': 1, 'd': 50, 'degree': 4, 'noise_type': 'GUMBEL', 'mlp': True, 'runtime': 53.95448350906372, 'model_name': 'DAGMATS'}\n"
     ]
    },
    {
     "data": {
      "application/vnd.jupyter.widget-view+json": {
       "model_id": "863877d456ce4d6aa1c9a7a67532f5d9",
       "version_major": 2,
       "version_minor": 0
      },
      "text/plain": [
       "  0%|          | 0/23000.0 [00:00<?, ?it/s]"
      ]
     },
     "metadata": {},
     "output_type": "display_data"
    },
    {
     "name": "stdout",
     "output_type": "stream",
     "text": [
      "{'fdr': 0.4984423676012461, 'tpr': 0.8895027624309392, 'fpr': 0.03355001048437828, 'shd': 175, 'pred_size': 321, 'n': 500, 'p': 1, 'd': 50, 'degree': 4, 'noise_type': 'GUMBEL', 'mlp': True, 'runtime': 31.466293811798096, 'model_name': 'DAGMATS'}\n"
     ]
    },
    {
     "data": {
      "application/vnd.jupyter.widget-view+json": {
       "model_id": "2cfb811c72644d079f4d0ab0b177cfcf",
       "version_major": 2,
       "version_minor": 0
      },
      "text/plain": [
       "  0%|          | 0/23000.0 [00:00<?, ?it/s]"
      ]
     },
     "metadata": {},
     "output_type": "display_data"
    },
    {
     "name": "stdout",
     "output_type": "stream",
     "text": [
      "{'fdr': 0.576271186440678, 'tpr': 0.8333333333333334, 'fpr': 0.035416666666666666, 'shd': 187, 'pred_size': 295, 'n': 500, 'p': 1, 'd': 50, 'degree': 4, 'noise_type': 'GUMBEL', 'mlp': True, 'runtime': 41.06757950782776, 'model_name': 'DAGMATS'}\n"
     ]
    },
    {
     "data": {
      "application/vnd.jupyter.widget-view+json": {
       "model_id": "36229101aa834b53894439e69a9f1d62",
       "version_major": 2,
       "version_minor": 0
      },
      "text/plain": [
       "  0%|          | 0/23000.0 [00:00<?, ?it/s]"
      ]
     },
     "metadata": {},
     "output_type": "display_data"
    },
    {
     "name": "stdout",
     "output_type": "stream",
     "text": [
      "{'fdr': 0.6135593220338983, 'tpr': 0.8444444444444444, 'fpr': 0.03759086188992731, 'shd': 193, 'pred_size': 295, 'n': 500, 'p': 1, 'd': 50, 'degree': 4, 'noise_type': 'GUMBEL', 'mlp': True, 'runtime': 35.56925892829895, 'model_name': 'DAGMATS'}\n"
     ]
    },
    {
     "data": {
      "application/vnd.jupyter.widget-view+json": {
       "model_id": "356d539e9bde4e349680645359429a29",
       "version_major": 2,
       "version_minor": 0
      },
      "text/plain": [
       "  0%|          | 0/23000.0 [00:00<?, ?it/s]"
      ]
     },
     "metadata": {},
     "output_type": "display_data"
    },
    {
     "name": "stdout",
     "output_type": "stream",
     "text": [
      "{'fdr': 0.524390243902439, 'tpr': 0.9230769230769231, 'fpr': 0.035975737293453255, 'shd': 181, 'pred_size': 328, 'n': 500, 'p': 1, 'd': 50, 'degree': 4, 'noise_type': 'GUMBEL', 'mlp': True, 'runtime': 41.238083362579346, 'model_name': 'DAGMATS'}\n"
     ]
    },
    {
     "data": {
      "application/vnd.jupyter.widget-view+json": {
       "model_id": "920a10e500c1423cb22d2d59be052133",
       "version_major": 2,
       "version_minor": 0
      },
      "text/plain": [
       "  0%|          | 0/23000.0 [00:00<?, ?it/s]"
      ]
     },
     "metadata": {},
     "output_type": "display_data"
    },
    {
     "name": "stdout",
     "output_type": "stream",
     "text": [
      "{'fdr': 0.5858895705521472, 'tpr': 0.8881578947368421, 'fpr': 0.03980825343893289, 'shd': 204, 'pred_size': 326, 'n': 500, 'p': 1, 'd': 50, 'degree': 4, 'noise_type': 'GUMBEL', 'mlp': True, 'runtime': 40.417375326156616, 'model_name': 'DAGMATS'}\n"
     ]
    },
    {
     "data": {
      "application/vnd.jupyter.widget-view+json": {
       "model_id": "9ddce66926254248bf45cc3c5f98110c",
       "version_major": 2,
       "version_minor": 0
      },
      "text/plain": [
       "  0%|          | 0/23000.0 [00:00<?, ?it/s]"
      ]
     },
     "metadata": {},
     "output_type": "display_data"
    },
    {
     "name": "stdout",
     "output_type": "stream",
     "text": [
      "{'fdr': 0.5298013245033113, 'tpr': 0.8987341772151899, 'fpr': 0.0333889816360601, 'shd': 170, 'pred_size': 302, 'n': 500, 'p': 1, 'd': 50, 'degree': 4, 'noise_type': 'GUMBEL', 'mlp': True, 'runtime': 18.988277196884155, 'model_name': 'DAGMATS'}\n"
     ]
    },
    {
     "data": {
      "application/vnd.jupyter.widget-view+json": {
       "model_id": "ca7e6abaf7c5498c80d347e8729f21b7",
       "version_major": 2,
       "version_minor": 0
      },
      "text/plain": [
       "  0%|          | 0/23000.0 [00:00<?, ?it/s]"
      ]
     },
     "metadata": {},
     "output_type": "display_data"
    },
    {
     "name": "stdout",
     "output_type": "stream",
     "text": [
      "{'fdr': 0.55, 'tpr': 0.9411764705882353, 'fpr': 0.03668959766520742, 'shd': 182, 'pred_size': 320, 'n': 500, 'p': 1, 'd': 50, 'degree': 4, 'noise_type': 'GUMBEL', 'mlp': True, 'runtime': 41.45308303833008, 'model_name': 'DAGMATS'}\n"
     ]
    },
    {
     "data": {
      "application/vnd.jupyter.widget-view+json": {
       "model_id": "3f1011b2e7d2433bb46cd1bf014c4aa3",
       "version_major": 2,
       "version_minor": 0
      },
      "text/plain": [
       "  0%|          | 0/23000.0 [00:00<?, ?it/s]"
      ]
     },
     "metadata": {},
     "output_type": "display_data"
    },
    {
     "name": "stdout",
     "output_type": "stream",
     "text": [
      "{'fdr': 0.5860058309037901, 'tpr': 0.8765432098765432, 'fpr': 0.041979949874686714, 'shd': 214, 'pred_size': 343, 'n': 500, 'p': 1, 'd': 50, 'degree': 4, 'noise_type': 'GUMBEL', 'mlp': True, 'runtime': 34.43342161178589, 'model_name': 'DAGMATS'}\n"
     ]
    },
    {
     "data": {
      "application/vnd.jupyter.widget-view+json": {
       "model_id": "362616df1d4742f9a8406f156d342e5d",
       "version_major": 2,
       "version_minor": 0
      },
      "text/plain": [
       "  0%|          | 0/23000.0 [00:00<?, ?it/s]"
      ]
     },
     "metadata": {},
     "output_type": "display_data"
    },
    {
     "name": "stdout",
     "output_type": "stream",
     "text": [
      "{'fdr': 0.5206349206349207, 'tpr': 0.9617834394904459, 'fpr': 0.03421656582516169, 'shd': 168, 'pred_size': 315, 'n': 500, 'p': 1, 'd': 50, 'degree': 4, 'noise_type': 'GUMBEL', 'mlp': True, 'runtime': 30.23739743232727, 'model_name': 'DAGMATS'}\n"
     ]
    },
    {
     "data": {
      "application/vnd.jupyter.widget-view+json": {
       "model_id": "b4fff6b85ae54bfc932a2e8e19ccdacc",
       "version_major": 2,
       "version_minor": 0
      },
      "text/plain": [
       "  0%|          | 0/23000.0 [00:00<?, ?it/s]"
      ]
     },
     "metadata": {},
     "output_type": "display_data"
    },
    {
     "name": "stdout",
     "output_type": "stream",
     "text": [
      "{'fdr': 0.5294117647058824, 'tpr': 0.8780487804878049, 'fpr': 0.03384872544922691, 'shd': 177, 'pred_size': 306, 'n': 500, 'p': 1, 'd': 50, 'degree': 4, 'noise_type': 'GUMBEL', 'mlp': True, 'runtime': 46.9890296459198, 'model_name': 'DAGMATS'}\n"
     ]
    },
    {
     "data": {
      "application/vnd.jupyter.widget-view+json": {
       "model_id": "b4e6eb55f60f460abe6f37eb807cedf9",
       "version_major": 2,
       "version_minor": 0
      },
      "text/plain": [
       "  0%|          | 0/23000.0 [00:00<?, ?it/s]"
      ]
     },
     "metadata": {},
     "output_type": "display_data"
    },
    {
     "name": "stdout",
     "output_type": "stream",
     "text": [
      "{'fdr': 0.6880733944954128, 'tpr': 0.10703043022035677, 'fpr': 0.011875230907267642, 'shd': 1067, 'pred_size': 327, 'n': 50, 'p': 1, 'd': 100, 'degree': 2, 'noise_type': 'GUMBEL', 'mlp': True, 'runtime': 52.51826810836792, 'model_name': 'DAGMATS'}\n"
     ]
    },
    {
     "data": {
      "application/vnd.jupyter.widget-view+json": {
       "model_id": "f8ef91bb1c624301ae926fdd07a17d0f",
       "version_major": 2,
       "version_minor": 0
      },
      "text/plain": [
       "  0%|          | 0/23000.0 [00:00<?, ?it/s]"
      ]
     },
     "metadata": {},
     "output_type": "display_data"
    },
    {
     "name": "stdout",
     "output_type": "stream",
     "text": [
      "{'fdr': 0.7296416938110749, 'tpr': 0.0930493273542601, 'fpr': 0.011784511784511785, 'shd': 1023, 'pred_size': 307, 'n': 50, 'p': 1, 'd': 100, 'degree': 2, 'noise_type': 'GUMBEL', 'mlp': True, 'runtime': 50.623347997665405, 'model_name': 'DAGMATS'}\n"
     ]
    },
    {
     "data": {
      "application/vnd.jupyter.widget-view+json": {
       "model_id": "baf00dcc38e04b73bd202d968bab6076",
       "version_major": 2,
       "version_minor": 0
      },
      "text/plain": [
       "  0%|          | 0/23000.0 [00:00<?, ?it/s]"
      ]
     },
     "metadata": {},
     "output_type": "display_data"
    },
    {
     "name": "stdout",
     "output_type": "stream",
     "text": [
      "{'fdr': 0.7438271604938271, 'tpr': 0.10159118727050184, 'fpr': 0.01262904155531101, 'shd': 967, 'pred_size': 324, 'n': 50, 'p': 1, 'd': 100, 'degree': 2, 'noise_type': 'GUMBEL', 'mlp': True, 'runtime': 53.208478689193726, 'model_name': 'DAGMATS'}\n"
     ]
    },
    {
     "data": {
      "application/vnd.jupyter.widget-view+json": {
       "model_id": "a417af0686954a61b486554005a48ef8",
       "version_major": 2,
       "version_minor": 0
      },
      "text/plain": [
       "  0%|          | 0/23000.0 [00:00<?, ?it/s]"
      ]
     },
     "metadata": {},
     "output_type": "display_data"
    },
    {
     "name": "stdout",
     "output_type": "stream",
     "text": [
      "{'fdr': 0.7052631578947368, 'tpr': 0.09130434782608696, 'fpr': 0.010590094836670179, 'shd': 1034, 'pred_size': 285, 'n': 50, 'p': 1, 'd': 100, 'degree': 2, 'noise_type': 'GUMBEL', 'mlp': True, 'runtime': 53.45731735229492, 'model_name': 'DAGMATS'}\n"
     ]
    },
    {
     "data": {
      "application/vnd.jupyter.widget-view+json": {
       "model_id": "c8186823b70a4df8a9efcffe4a4212c7",
       "version_major": 2,
       "version_minor": 0
      },
      "text/plain": [
       "  0%|          | 0/23000.0 [00:00<?, ?it/s]"
      ]
     },
     "metadata": {},
     "output_type": "display_data"
    },
    {
     "name": "stdout",
     "output_type": "stream",
     "text": [
      "{'fdr': 0.726984126984127, 'tpr': 0.10035005834305717, 'fpr': 0.012025416163419629, 'shd': 995, 'pred_size': 315, 'n': 50, 'p': 1, 'd': 100, 'degree': 2, 'noise_type': 'GUMBEL', 'mlp': True, 'runtime': 53.81556439399719, 'model_name': 'DAGMATS'}\n"
     ]
    },
    {
     "data": {
      "application/vnd.jupyter.widget-view+json": {
       "model_id": "20b6870731124026829f80a8fe76e39e",
       "version_major": 2,
       "version_minor": 0
      },
      "text/plain": [
       "  0%|          | 0/23000.0 [00:00<?, ?it/s]"
      ]
     },
     "metadata": {},
     "output_type": "display_data"
    },
    {
     "name": "stdout",
     "output_type": "stream",
     "text": [
      "{'fdr': 0.7178683385579937, 'tpr': 0.1053864168618267, 'fpr': 0.012023521999369947, 'shd': 990, 'pred_size': 319, 'n': 50, 'p': 1, 'd': 100, 'degree': 2, 'noise_type': 'GUMBEL', 'mlp': True, 'runtime': 53.18799018859863, 'model_name': 'DAGMATS'}\n"
     ]
    },
    {
     "data": {
      "application/vnd.jupyter.widget-view+json": {
       "model_id": "09021e4f002545f4b4dc829720226449",
       "version_major": 2,
       "version_minor": 0
      },
      "text/plain": [
       "  0%|          | 0/23000.0 [00:00<?, ?it/s]"
      ]
     },
     "metadata": {},
     "output_type": "display_data"
    },
    {
     "name": "stdout",
     "output_type": "stream",
     "text": [
      "{'fdr': 0.7249190938511327, 'tpr': 0.09582863585118377, 'fpr': 0.011781412717614265, 'shd': 1020, 'pred_size': 309, 'n': 50, 'p': 1, 'd': 100, 'degree': 2, 'noise_type': 'GUMBEL', 'mlp': True, 'runtime': 50.857707500457764, 'model_name': 'DAGMATS'}\n"
     ]
    },
    {
     "data": {
      "application/vnd.jupyter.widget-view+json": {
       "model_id": "b6e8066ae25b48fd9ba035e16013581d",
       "version_major": 2,
       "version_minor": 0
      },
      "text/plain": [
       "  0%|          | 0/23000.0 [00:00<?, ?it/s]"
      ]
     },
     "metadata": {},
     "output_type": "display_data"
    },
    {
     "name": "stdout",
     "output_type": "stream",
     "text": [
      "{'fdr': 0.7163636363636363, 'tpr': 0.0968944099378882, 'fpr': 0.010316836868290128, 'shd': 921, 'pred_size': 275, 'n': 50, 'p': 1, 'd': 100, 'degree': 2, 'noise_type': 'GUMBEL', 'mlp': True, 'runtime': 51.93371629714966, 'model_name': 'DAGMATS'}\n"
     ]
    },
    {
     "data": {
      "application/vnd.jupyter.widget-view+json": {
       "model_id": "d329eac9f7d948df903d6bcd94850977",
       "version_major": 2,
       "version_minor": 0
      },
      "text/plain": [
       "  0%|          | 0/23000.0 [00:00<?, ?it/s]"
      ]
     },
     "metadata": {},
     "output_type": "display_data"
    },
    {
     "name": "stdout",
     "output_type": "stream",
     "text": [
      "{'fdr': 0.7616099071207431, 'tpr': 0.09166666666666666, 'fpr': 0.012906610703043022, 'shd': 1003, 'pred_size': 323, 'n': 50, 'p': 1, 'd': 100, 'degree': 2, 'noise_type': 'GUMBEL', 'mlp': True, 'runtime': 52.440088748931885, 'model_name': 'DAGMATS'}\n"
     ]
    },
    {
     "data": {
      "application/vnd.jupyter.widget-view+json": {
       "model_id": "9bf823a01d694b8aa34588404f4879d3",
       "version_major": 2,
       "version_minor": 0
      },
      "text/plain": [
       "  0%|          | 0/23000.0 [00:00<?, ?it/s]"
      ]
     },
     "metadata": {},
     "output_type": "display_data"
    },
    {
     "name": "stdout",
     "output_type": "stream",
     "text": [
      "{'fdr': 0.717948717948718, 'tpr': 0.10161662817551963, 'fpr': 0.01176841441630766, 'shd': 996, 'pred_size': 312, 'n': 50, 'p': 1, 'd': 100, 'degree': 2, 'noise_type': 'GUMBEL', 'mlp': True, 'runtime': 45.2202513217926, 'model_name': 'DAGMATS'}\n"
     ]
    },
    {
     "data": {
      "application/vnd.jupyter.widget-view+json": {
       "model_id": "52a0a9e09c7f43fca42f7deabf855925",
       "version_major": 2,
       "version_minor": 0
      },
      "text/plain": [
       "  0%|          | 0/23000.0 [00:00<?, ?it/s]"
      ]
     },
     "metadata": {},
     "output_type": "display_data"
    },
    {
     "name": "stdout",
     "output_type": "stream",
     "text": [
      "{'fdr': 0.44336569579288027, 'tpr': 0.945054945054945, 'fpr': 0.0069479663251851105, 'shd': 144, 'pred_size': 309, 'n': 500, 'p': 1, 'd': 100, 'degree': 2, 'noise_type': 'GUMBEL', 'mlp': True, 'runtime': 46.95707368850708, 'model_name': 'DAGMATS'}\n"
     ]
    },
    {
     "data": {
      "application/vnd.jupyter.widget-view+json": {
       "model_id": "36b9d993419e4741a1ac3f73f08cfde6",
       "version_major": 2,
       "version_minor": 0
      },
      "text/plain": [
       "  0%|          | 0/23000.0 [00:00<?, ?it/s]"
      ]
     },
     "metadata": {},
     "output_type": "display_data"
    },
    {
     "name": "stdout",
     "output_type": "stream",
     "text": [
      "{'fdr': 0.4485981308411215, 'tpr': 0.8676470588235294, 'fpr': 0.007311129163281885, 'shd': 163, 'pred_size': 321, 'n': 500, 'p': 1, 'd': 100, 'degree': 2, 'noise_type': 'GUMBEL', 'mlp': True, 'runtime': 44.61189937591553, 'model_name': 'DAGMATS'}\n"
     ]
    },
    {
     "data": {
      "application/vnd.jupyter.widget-view+json": {
       "model_id": "a3c106fd862d4a3d9431b61d8d3ba58b",
       "version_major": 2,
       "version_minor": 0
      },
      "text/plain": [
       "  0%|          | 0/23000.0 [00:00<?, ?it/s]"
      ]
     },
     "metadata": {},
     "output_type": "display_data"
    },
    {
     "name": "stdout",
     "output_type": "stream",
     "text": [
      "{'fdr': 0.42948717948717946, 'tpr': 0.9270833333333334, 'fpr': 0.006799269332250862, 'shd': 144, 'pred_size': 312, 'n': 500, 'p': 1, 'd': 100, 'degree': 2, 'noise_type': 'GUMBEL', 'mlp': True, 'runtime': 51.6774787902832, 'model_name': 'DAGMATS'}\n"
     ]
    },
    {
     "data": {
      "application/vnd.jupyter.widget-view+json": {
       "model_id": "998475f06c524ca39af98a5d34cda15a",
       "version_major": 2,
       "version_minor": 0
      },
      "text/plain": [
       "  0%|          | 0/23000.0 [00:00<?, ?it/s]"
      ]
     },
     "metadata": {},
     "output_type": "display_data"
    },
    {
     "name": "stdout",
     "output_type": "stream",
     "text": [
      "{'fdr': 0.4339622641509434, 'tpr': 0.9523809523809523, 'fpr': 0.007001166861143524, 'shd': 144, 'pred_size': 318, 'n': 500, 'p': 1, 'd': 100, 'degree': 2, 'noise_type': 'GUMBEL', 'mlp': True, 'runtime': 46.17478084564209, 'model_name': 'DAGMATS'}\n"
     ]
    },
    {
     "data": {
      "application/vnd.jupyter.widget-view+json": {
       "model_id": "1998230f559448e2b2eb4d0d4a1d0e03",
       "version_major": 2,
       "version_minor": 0
      },
      "text/plain": [
       "  0%|          | 0/23000.0 [00:00<?, ?it/s]"
      ]
     },
     "metadata": {},
     "output_type": "display_data"
    },
    {
     "name": "stdout",
     "output_type": "stream",
     "text": [
      "{'fdr': 0.4576271186440678, 'tpr': 0.9090909090909091, 'fpr': 0.0068444534577164875, 'shd': 147, 'pred_size': 295, 'n': 500, 'p': 1, 'd': 100, 'degree': 2, 'noise_type': 'GUMBEL', 'mlp': True, 'runtime': 50.37994742393494, 'model_name': 'DAGMATS'}\n"
     ]
    },
    {
     "data": {
      "application/vnd.jupyter.widget-view+json": {
       "model_id": "70306afaf2ea431f9e59669d02e18407",
       "version_major": 2,
       "version_minor": 0
      },
      "text/plain": [
       "  0%|          | 0/23000.0 [00:00<?, ?it/s]"
      ]
     },
     "metadata": {},
     "output_type": "display_data"
    },
    {
     "name": "stdout",
     "output_type": "stream",
     "text": [
      "{'fdr': 0.4485981308411215, 'tpr': 0.9365079365079365, 'fpr': 0.007305565420323677, 'shd': 153, 'pred_size': 321, 'n': 500, 'p': 1, 'd': 100, 'degree': 2, 'noise_type': 'GUMBEL', 'mlp': True, 'runtime': 46.64486074447632, 'model_name': 'DAGMATS'}\n"
     ]
    },
    {
     "data": {
      "application/vnd.jupyter.widget-view+json": {
       "model_id": "4fb83b4a07a749c3bd524cf5527f3035",
       "version_major": 2,
       "version_minor": 0
      },
      "text/plain": [
       "  0%|          | 0/23000.0 [00:00<?, ?it/s]"
      ]
     },
     "metadata": {},
     "output_type": "display_data"
    },
    {
     "name": "stdout",
     "output_type": "stream",
     "text": [
      "{'fdr': 0.44366197183098594, 'tpr': 0.9239766081871345, 'fpr': 0.006386537584266816, 'shd': 134, 'pred_size': 284, 'n': 500, 'p': 1, 'd': 100, 'degree': 2, 'noise_type': 'GUMBEL', 'mlp': True, 'runtime': 28.323171138763428, 'model_name': 'DAGMATS'}\n"
     ]
    },
    {
     "data": {
      "application/vnd.jupyter.widget-view+json": {
       "model_id": "14b7f38ff70c49cea18bc8ea96d206fc",
       "version_major": 2,
       "version_minor": 0
      },
      "text/plain": [
       "  0%|          | 0/23000.0 [00:00<?, ?it/s]"
      ]
     },
     "metadata": {},
     "output_type": "display_data"
    },
    {
     "name": "stdout",
     "output_type": "stream",
     "text": [
      "{'fdr': 0.5326797385620915, 'tpr': 0.8362573099415205, 'fpr': 0.008261949414567388, 'shd': 179, 'pred_size': 306, 'n': 500, 'p': 1, 'd': 100, 'degree': 2, 'noise_type': 'GUMBEL', 'mlp': True, 'runtime': 47.16386890411377, 'model_name': 'DAGMATS'}\n"
     ]
    },
    {
     "data": {
      "application/vnd.jupyter.widget-view+json": {
       "model_id": "2f3fdddaa5864bc28441695414b802c4",
       "version_major": 2,
       "version_minor": 0
      },
      "text/plain": [
       "  0%|          | 0/23000.0 [00:00<?, ?it/s]"
      ]
     },
     "metadata": {},
     "output_type": "display_data"
    },
    {
     "name": "stdout",
     "output_type": "stream",
     "text": [
      "{'fdr': 0.5382262996941896, 'tpr': 0.7947368421052632, 'fpr': 0.008929477422628108, 'shd': 206, 'pred_size': 327, 'n': 500, 'p': 1, 'd': 100, 'degree': 2, 'noise_type': 'GUMBEL', 'mlp': True, 'runtime': 52.4027419090271, 'model_name': 'DAGMATS'}\n"
     ]
    },
    {
     "data": {
      "application/vnd.jupyter.widget-view+json": {
       "model_id": "2aa5f5381e27452986258f357f7fd608",
       "version_major": 2,
       "version_minor": 0
      },
      "text/plain": [
       "  0%|          | 0/23000.0 [00:00<?, ?it/s]"
      ]
     },
     "metadata": {},
     "output_type": "display_data"
    },
    {
     "name": "stdout",
     "output_type": "stream",
     "text": [
      "{'fdr': 0.41776315789473684, 'tpr': 0.885, 'fpr': 0.006446700507614213, 'shd': 145, 'pred_size': 304, 'n': 500, 'p': 1, 'd': 100, 'degree': 2, 'noise_type': 'GUMBEL', 'mlp': True, 'runtime': 39.362221240997314, 'model_name': 'DAGMATS'}\n"
     ]
    },
    {
     "data": {
      "application/vnd.jupyter.widget-view+json": {
       "model_id": "7feee2c76a9d40689ef347cab425093c",
       "version_major": 2,
       "version_minor": 0
      },
      "text/plain": [
       "  0%|          | 0/23000.0 [00:00<?, ?it/s]"
      ]
     },
     "metadata": {},
     "output_type": "display_data"
    },
    {
     "name": "stdout",
     "output_type": "stream",
     "text": [
      "{'fdr': 0.7775947281713345, 'tpr': 0.12021371326803205, 'fpr': 0.025137135857698247, 'shd': 1444, 'pred_size': 607, 'n': 50, 'p': 1, 'd': 100, 'degree': 4, 'noise_type': 'GUMBEL', 'mlp': True, 'runtime': 45.79450535774231, 'model_name': 'DAGMATS'}\n"
     ]
    },
    {
     "data": {
      "application/vnd.jupyter.widget-view+json": {
       "model_id": "c66fa5426f7346ca8d96903874fab962",
       "version_major": 2,
       "version_minor": 0
      },
      "text/plain": [
       "  0%|          | 0/23000.0 [00:00<?, ?it/s]"
      ]
     },
     "metadata": {},
     "output_type": "display_data"
    },
    {
     "name": "stdout",
     "output_type": "stream",
     "text": [
      "{'fdr': 0.7843450479233227, 'tpr': 0.13068731848983542, 'fpr': 0.026024275189484285, 'shd': 1379, 'pred_size': 626, 'n': 50, 'p': 1, 'd': 100, 'degree': 4, 'noise_type': 'GUMBEL', 'mlp': True, 'runtime': 53.75230813026428, 'model_name': 'DAGMATS'}\n"
     ]
    },
    {
     "data": {
      "application/vnd.jupyter.widget-view+json": {
       "model_id": "a7a6a504606b4277b5af0b56ecfc41a9",
       "version_major": 2,
       "version_minor": 0
      },
      "text/plain": [
       "  0%|          | 0/23000.0 [00:00<?, ?it/s]"
      ]
     },
     "metadata": {},
     "output_type": "display_data"
    },
    {
     "name": "stdout",
     "output_type": "stream",
     "text": [
      "{'fdr': 0.7798013245033113, 'tpr': 0.14728682170542637, 'fpr': 0.024793388429752067, 'shd': 1233, 'pred_size': 604, 'n': 50, 'p': 1, 'd': 100, 'degree': 4, 'noise_type': 'GUMBEL', 'mlp': True, 'runtime': 49.68090772628784, 'model_name': 'DAGMATS'}\n"
     ]
    },
    {
     "data": {
      "application/vnd.jupyter.widget-view+json": {
       "model_id": "8f80d97ea43e490dbd63a5fd092a63cd",
       "version_major": 2,
       "version_minor": 0
      },
      "text/plain": [
       "  0%|          | 0/23000.0 [00:00<?, ?it/s]"
      ]
     },
     "metadata": {},
     "output_type": "display_data"
    },
    {
     "name": "stdout",
     "output_type": "stream",
     "text": [
      "{'fdr': 0.7744479495268138, 'tpr': 0.12402428447528187, 'fpr': 0.02619085720381928, 'shd': 1489, 'pred_size': 634, 'n': 50, 'p': 1, 'd': 100, 'degree': 4, 'noise_type': 'GUMBEL', 'mlp': True, 'runtime': 53.798489570617676, 'model_name': 'DAGMATS'}\n"
     ]
    },
    {
     "data": {
      "application/vnd.jupyter.widget-view+json": {
       "model_id": "8401cd2d3f384407be47e58401ed852a",
       "version_major": 2,
       "version_minor": 0
      },
      "text/plain": [
       "  0%|          | 0/23000.0 [00:00<?, ?it/s]"
      ]
     },
     "metadata": {},
     "output_type": "display_data"
    },
    {
     "name": "stdout",
     "output_type": "stream",
     "text": [
      "{'fdr': 0.7684210526315789, 'tpr': 0.11691762621789194, 'fpr': 0.023333866070001597, 'shd': 1423, 'pred_size': 570, 'n': 50, 'p': 1, 'd': 100, 'degree': 4, 'noise_type': 'GUMBEL', 'mlp': True, 'runtime': 52.89902973175049, 'model_name': 'DAGMATS'}\n"
     ]
    },
    {
     "data": {
      "application/vnd.jupyter.widget-view+json": {
       "model_id": "c50622f2277a4c0fbacdb5030c2ccb12",
       "version_major": 2,
       "version_minor": 0
      },
      "text/plain": [
       "  0%|          | 0/23000.0 [00:00<?, ?it/s]"
      ]
     },
     "metadata": {},
     "output_type": "display_data"
    },
    {
     "name": "stdout",
     "output_type": "stream",
     "text": [
      "{'fdr': 0.7746967071057193, 'tpr': 0.10375099760574621, 'fpr': 0.02397168445326326, 'shd': 1558, 'pred_size': 577, 'n': 50, 'p': 1, 'd': 100, 'degree': 4, 'noise_type': 'GUMBEL', 'mlp': True, 'runtime': 47.3296160697937, 'model_name': 'DAGMATS'}\n"
     ]
    },
    {
     "data": {
      "application/vnd.jupyter.widget-view+json": {
       "model_id": "e53dd59e931142b2b7a28c29526fd4ae",
       "version_major": 2,
       "version_minor": 0
      },
      "text/plain": [
       "  0%|          | 0/23000.0 [00:00<?, ?it/s]"
      ]
     },
     "metadata": {},
     "output_type": "display_data"
    },
    {
     "name": "stdout",
     "output_type": "stream",
     "text": [
      "{'fdr': 0.8135048231511254, 'tpr': 0.11983471074380166, 'fpr': 0.026727234312275513, 'shd': 1343, 'pred_size': 622, 'n': 50, 'p': 1, 'd': 100, 'degree': 4, 'noise_type': 'GUMBEL', 'mlp': True, 'runtime': 27.526880979537964, 'model_name': 'DAGMATS'}\n"
     ]
    },
    {
     "data": {
      "application/vnd.jupyter.widget-view+json": {
       "model_id": "e51a58cff3434bf3bc7ce9998fbbf9ef",
       "version_major": 2,
       "version_minor": 0
      },
      "text/plain": [
       "  0%|          | 0/23000.0 [00:00<?, ?it/s]"
      ]
     },
     "metadata": {},
     "output_type": "display_data"
    },
    {
     "name": "stdout",
     "output_type": "stream",
     "text": [
      "{'fdr': 0.8056872037914692, 'tpr': 0.11625708884688091, 'fpr': 0.02706719031949899, 'shd': 1438, 'pred_size': 633, 'n': 50, 'p': 1, 'd': 100, 'degree': 4, 'noise_type': 'GUMBEL', 'mlp': True, 'runtime': 36.424845933914185, 'model_name': 'DAGMATS'}\n"
     ]
    },
    {
     "data": {
      "application/vnd.jupyter.widget-view+json": {
       "model_id": "3c863eecb656456daaa128e255c0d056",
       "version_major": 2,
       "version_minor": 0
      },
      "text/plain": [
       "  0%|          | 0/23000.0 [00:00<?, ?it/s]"
      ]
     },
     "metadata": {},
     "output_type": "display_data"
    },
    {
     "name": "stdout",
     "output_type": "stream",
     "text": [
      "{'fdr': 0.8132911392405063, 'tpr': 0.10766423357664233, 'fpr': 0.027334609657519677, 'shd': 1482, 'pred_size': 632, 'n': 50, 'p': 1, 'd': 100, 'degree': 4, 'noise_type': 'GUMBEL', 'mlp': True, 'runtime': 53.709675788879395, 'model_name': 'DAGMATS'}\n"
     ]
    },
    {
     "data": {
      "application/vnd.jupyter.widget-view+json": {
       "model_id": "8054baac6af04058926ef6bc175b0425",
       "version_major": 2,
       "version_minor": 0
      },
      "text/plain": [
       "  0%|          | 0/23000.0 [00:00<?, ?it/s]"
      ]
     },
     "metadata": {},
     "output_type": "display_data"
    },
    {
     "name": "stdout",
     "output_type": "stream",
     "text": [
      "{'fdr': 0.7750439367311072, 'tpr': 0.12475633528265107, 'fpr': 0.023365476316626048, 'shd': 1330, 'pred_size': 569, 'n': 50, 'p': 1, 'd': 100, 'degree': 4, 'noise_type': 'GUMBEL', 'mlp': True, 'runtime': 52.121431827545166, 'model_name': 'DAGMATS'}\n"
     ]
    },
    {
     "data": {
      "application/vnd.jupyter.widget-view+json": {
       "model_id": "2a65c02ca24f423282928274f49c21c7",
       "version_major": 2,
       "version_minor": 0
      },
      "text/plain": [
       "  0%|          | 0/23000.0 [00:00<?, ?it/s]"
      ]
     },
     "metadata": {},
     "output_type": "display_data"
    },
    {
     "name": "stdout",
     "output_type": "stream",
     "text": [
      "{'fdr': 0.5627062706270627, 'tpr': 0.9013605442176871, 'fpr': 0.017392634907681323, 'shd': 353, 'pred_size': 606, 'n': 500, 'p': 1, 'd': 100, 'degree': 4, 'noise_type': 'GUMBEL', 'mlp': True, 'runtime': 34.70526385307312, 'model_name': 'DAGMATS'}\n"
     ]
    },
    {
     "data": {
      "application/vnd.jupyter.widget-view+json": {
       "model_id": "eae43e19fc714cdebeb97f9bf3576ddc",
       "version_major": 2,
       "version_minor": 0
      },
      "text/plain": [
       "  0%|          | 0/23000.0 [00:00<?, ?it/s]"
      ]
     },
     "metadata": {},
     "output_type": "display_data"
    },
    {
     "name": "stdout",
     "output_type": "stream",
     "text": [
      "{'fdr': 0.5129032258064516, 'tpr': 0.94375, 'fpr': 0.01624106230847804, 'shd': 328, 'pred_size': 620, 'n': 500, 'p': 1, 'd': 100, 'degree': 4, 'noise_type': 'GUMBEL', 'mlp': True, 'runtime': 53.696901082992554, 'model_name': 'DAGMATS'}\n"
     ]
    },
    {
     "data": {
      "application/vnd.jupyter.widget-view+json": {
       "model_id": "295d48fae6a9424797851e06a731509c",
       "version_major": 2,
       "version_minor": 0
      },
      "text/plain": [
       "  0%|          | 0/23000.0 [00:00<?, ?it/s]"
      ]
     },
     "metadata": {},
     "output_type": "display_data"
    },
    {
     "name": "stdout",
     "output_type": "stream",
     "text": [
      "{'fdr': 0.5176110260336907, 'tpr': 0.9459459459459459, 'fpr': 0.0172739817038892, 'shd': 346, 'pred_size': 653, 'n': 500, 'p': 1, 'd': 100, 'degree': 4, 'noise_type': 'GUMBEL', 'mlp': True, 'runtime': 52.92730450630188, 'model_name': 'DAGMATS'}\n"
     ]
    },
    {
     "data": {
      "application/vnd.jupyter.widget-view+json": {
       "model_id": "24ef9857e8aa40f1bf18bb82aa8ab56e",
       "version_major": 2,
       "version_minor": 0
      },
      "text/plain": [
       "  0%|          | 0/23000.0 [00:00<?, ?it/s]"
      ]
     },
     "metadata": {},
     "output_type": "display_data"
    },
    {
     "name": "stdout",
     "output_type": "stream",
     "text": [
      "{'fdr': 0.5272435897435898, 'tpr': 0.9276729559748428, 'fpr': 0.016801143907670308, 'shd': 342, 'pred_size': 624, 'n': 500, 'p': 1, 'd': 100, 'degree': 4, 'noise_type': 'GUMBEL', 'mlp': True, 'runtime': 47.467172622680664, 'model_name': 'DAGMATS'}\n"
     ]
    },
    {
     "data": {
      "application/vnd.jupyter.widget-view+json": {
       "model_id": "ccc6d37114fd41298b4bc85924718374",
       "version_major": 2,
       "version_minor": 0
      },
      "text/plain": [
       "  0%|          | 0/23000.0 [00:00<?, ?it/s]"
      ]
     },
     "metadata": {},
     "output_type": "display_data"
    },
    {
     "name": "stdout",
     "output_type": "stream",
     "text": [
      "{'fdr': 0.5510204081632653, 'tpr': 0.9166666666666666, 'fpr': 0.016520497654497247, 'shd': 339, 'pred_size': 588, 'n': 500, 'p': 1, 'd': 100, 'degree': 4, 'noise_type': 'GUMBEL', 'mlp': True, 'runtime': 27.845187187194824, 'model_name': 'DAGMATS'}\n"
     ]
    },
    {
     "data": {
      "application/vnd.jupyter.widget-view+json": {
       "model_id": "a007f3162ada47a489f82aaba4f61cf9",
       "version_major": 2,
       "version_minor": 0
      },
      "text/plain": [
       "  0%|          | 0/23000.0 [00:00<?, ?it/s]"
      ]
     },
     "metadata": {},
     "output_type": "display_data"
    },
    {
     "name": "stdout",
     "output_type": "stream",
     "text": [
      "{'fdr': 0.5435114503816794, 'tpr': 0.9462025316455697, 'fpr': 0.0181781045751634, 'shd': 367, 'pred_size': 655, 'n': 500, 'p': 1, 'd': 100, 'degree': 4, 'noise_type': 'GUMBEL', 'mlp': True, 'runtime': 53.860116720199585, 'model_name': 'DAGMATS'}\n"
     ]
    },
    {
     "data": {
      "application/vnd.jupyter.widget-view+json": {
       "model_id": "759c271bedf04c08a4d9ef42ca7dff49",
       "version_major": 2,
       "version_minor": 0
      },
      "text/plain": [
       "  0%|          | 0/23000.0 [00:00<?, ?it/s]"
      ]
     },
     "metadata": {},
     "output_type": "display_data"
    },
    {
     "name": "stdout",
     "output_type": "stream",
     "text": [
      "{'fdr': 0.5458786936236392, 'tpr': 0.9668874172185431, 'fpr': 0.017909990815389326, 'shd': 355, 'pred_size': 643, 'n': 500, 'p': 1, 'd': 100, 'degree': 4, 'noise_type': 'GUMBEL', 'mlp': True, 'runtime': 46.67996120452881, 'model_name': 'DAGMATS'}\n"
     ]
    },
    {
     "data": {
      "application/vnd.jupyter.widget-view+json": {
       "model_id": "4ed1044d4dc2431eaa3c6665846305a1",
       "version_major": 2,
       "version_minor": 0
      },
      "text/plain": [
       "  0%|          | 0/23000.0 [00:00<?, ?it/s]"
      ]
     },
     "metadata": {},
     "output_type": "display_data"
    },
    {
     "name": "stdout",
     "output_type": "stream",
     "text": [
      "{'fdr': 0.5416036308623298, 'tpr': 0.9711538461538461, 'fpr': 0.01827649581376353, 'shd': 364, 'pred_size': 661, 'n': 500, 'p': 1, 'd': 100, 'degree': 4, 'noise_type': 'GUMBEL', 'mlp': True, 'runtime': 44.22303915023804, 'model_name': 'DAGMATS'}\n"
     ]
    },
    {
     "data": {
      "application/vnd.jupyter.widget-view+json": {
       "model_id": "de957e7766c74870a41b3f6560b0e277",
       "version_major": 2,
       "version_minor": 0
      },
      "text/plain": [
       "  0%|          | 0/23000.0 [00:00<?, ?it/s]"
      ]
     },
     "metadata": {},
     "output_type": "display_data"
    },
    {
     "name": "stdout",
     "output_type": "stream",
     "text": [
      "{'fdr': 0.5529953917050692, 'tpr': 0.9326923076923077, 'fpr': 0.01837859914233204, 'shd': 374, 'pred_size': 651, 'n': 500, 'p': 1, 'd': 100, 'degree': 4, 'noise_type': 'GUMBEL', 'mlp': True, 'runtime': 44.273231506347656, 'model_name': 'DAGMATS'}\n"
     ]
    },
    {
     "data": {
      "application/vnd.jupyter.widget-view+json": {
       "model_id": "cfcf1861fb7c432ca4ba54e51d849c1e",
       "version_major": 2,
       "version_minor": 0
      },
      "text/plain": [
       "  0%|          | 0/23000.0 [00:00<?, ?it/s]"
      ]
     },
     "metadata": {},
     "output_type": "display_data"
    },
    {
     "name": "stdout",
     "output_type": "stream",
     "text": [
      "{'fdr': 0.5463108320251178, 'tpr': 0.9601328903654485, 'fpr': 0.017756007959589776, 'shd': 354, 'pred_size': 637, 'n': 500, 'p': 1, 'd': 100, 'degree': 4, 'noise_type': 'GUMBEL', 'mlp': True, 'runtime': 45.02841544151306, 'model_name': 'DAGMATS'}\n"
     ]
    }
   ],
   "source": [
    "testing_dagmats.test_all_methods(output_dir='testing06.jsonl')"
   ]
  },
  {
   "cell_type": "code",
   "execution_count": null,
   "metadata": {},
   "outputs": [],
   "source": []
  }
 ],
 "metadata": {
  "kernelspec": {
   "display_name": "Python 3 (ipykernel)",
   "language": "python",
   "name": "python3"
  },
  "language_info": {
   "codemirror_mode": {
    "name": "ipython",
    "version": 3
   },
   "file_extension": ".py",
   "mimetype": "text/x-python",
   "name": "python",
   "nbconvert_exporter": "python",
   "pygments_lexer": "ipython3",
   "version": "3.9.5"
  }
 },
 "nbformat": 4,
 "nbformat_minor": 2
}
