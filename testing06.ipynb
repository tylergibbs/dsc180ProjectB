{
 "cells": [
  {
   "cell_type": "code",
   "execution_count": 1,
   "metadata": {},
   "outputs": [],
   "source": [
    "import testing_dagmats"
   ]
  },
  {
   "cell_type": "code",
   "execution_count": null,
   "metadata": {},
   "outputs": [
    {
     "data": {
      "application/vnd.jupyter.widget-view+json": {
       "model_id": "03ca7dd89ccb499bbafb24936bdf09a1",
       "version_major": 2,
       "version_minor": 0
      },
      "text/plain": [
       "  0%|          | 0/23000.0 [00:00<?, ?it/s]"
      ]
     },
     "metadata": {},
     "output_type": "display_data"
    },
    {
     "name": "stdout",
     "output_type": "stream",
     "text": [
      "{'fdr': 0.3939393939393939, 'tpr': 0.4166666666666667, 'fpr': 0.09154929577464789, 'shd': 38, 'pred_size': 33, 'n': 50, 'p': 1, 'd': 10, 'degree': 2, 'noise_type': 'GUMBEL', 'mlp': True, 'runtime': 42.46727442741394, 'model_name': 'DAGMATS'}\n"
     ]
    },
    {
     "data": {
      "application/vnd.jupyter.widget-view+json": {
       "model_id": "e781d9c9f0f34e6684d4d64a45658b2e",
       "version_major": 2,
       "version_minor": 0
      },
      "text/plain": [
       "  0%|          | 0/23000.0 [00:00<?, ?it/s]"
      ]
     },
     "metadata": {},
     "output_type": "display_data"
    },
    {
     "name": "stdout",
     "output_type": "stream",
     "text": [
      "{'fdr': 0.5135135135135135, 'tpr': 0.3673469387755102, 'fpr': 0.1347517730496454, 'shd': 48, 'pred_size': 37, 'n': 50, 'p': 1, 'd': 10, 'degree': 2, 'noise_type': 'GUMBEL', 'mlp': True, 'runtime': 33.06609106063843, 'model_name': 'DAGMATS'}\n"
     ]
    },
    {
     "data": {
      "application/vnd.jupyter.widget-view+json": {
       "model_id": "b11cab8a77144900bfdf56f0c30e81e2",
       "version_major": 2,
       "version_minor": 0
      },
      "text/plain": [
       "  0%|          | 0/23000.0 [00:00<?, ?it/s]"
      ]
     },
     "metadata": {},
     "output_type": "display_data"
    },
    {
     "name": "stdout",
     "output_type": "stream",
     "text": [
      "{'fdr': 0.5833333333333334, 'tpr': 0.7142857142857143, 'fpr': 0.1242603550295858, 'shd': 27, 'pred_size': 36, 'n': 500, 'p': 1, 'd': 10, 'degree': 2, 'noise_type': 'GUMBEL', 'mlp': True, 'runtime': 37.01937651634216, 'model_name': 'DAGMATS'}\n"
     ]
    },
    {
     "data": {
      "application/vnd.jupyter.widget-view+json": {
       "model_id": "d1564ba309e24602a7593d4498a4f1a2",
       "version_major": 2,
       "version_minor": 0
      },
      "text/plain": [
       "  0%|          | 0/23000.0 [00:00<?, ?it/s]"
      ]
     },
     "metadata": {},
     "output_type": "display_data"
    },
    {
     "name": "stdout",
     "output_type": "stream",
     "text": [
      "{'fdr': 0.35135135135135137, 'tpr': 0.8275862068965517, 'fpr': 0.08074534161490683, 'shd': 17, 'pred_size': 37, 'n': 500, 'p': 1, 'd': 10, 'degree': 2, 'noise_type': 'GUMBEL', 'mlp': True, 'runtime': 33.18037223815918, 'model_name': 'DAGMATS'}\n"
     ]
    },
    {
     "data": {
      "application/vnd.jupyter.widget-view+json": {
       "model_id": "1a17830cd90d4174a258dff50e5379d4",
       "version_major": 2,
       "version_minor": 0
      },
      "text/plain": [
       "  0%|          | 0/23000.0 [00:00<?, ?it/s]"
      ]
     },
     "metadata": {},
     "output_type": "display_data"
    },
    {
     "name": "stdout",
     "output_type": "stream",
     "text": [
      "{'fdr': 0.5, 'tpr': 0.6538461538461539, 'fpr': 0.10365853658536585, 'shd': 25, 'pred_size': 34, 'n': 500, 'p': 1, 'd': 10, 'degree': 2, 'noise_type': 'GUMBEL', 'mlp': True, 'runtime': 41.77644419670105, 'model_name': 'DAGMATS'}\n"
     ]
    },
    {
     "data": {
      "application/vnd.jupyter.widget-view+json": {
       "model_id": "c2a1b97b9d604efd9240189b3e71b201",
       "version_major": 2,
       "version_minor": 0
      },
      "text/plain": [
       "  0%|          | 0/23000.0 [00:00<?, ?it/s]"
      ]
     },
     "metadata": {},
     "output_type": "display_data"
    },
    {
     "name": "stdout",
     "output_type": "stream",
     "text": [
      "{'fdr': 0.45161290322580644, 'tpr': 0.85, 'fpr': 0.08235294117647059, 'shd': 17, 'pred_size': 31, 'n': 500, 'p': 1, 'd': 10, 'degree': 2, 'noise_type': 'GUMBEL', 'mlp': True, 'runtime': 37.33948111534119, 'model_name': 'DAGMATS'}\n"
     ]
    },
    {
     "data": {
      "application/vnd.jupyter.widget-view+json": {
       "model_id": "de9d82ac864a499da1c1da7f301ff82e",
       "version_major": 2,
       "version_minor": 0
      },
      "text/plain": [
       "  0%|          | 0/23000.0 [00:00<?, ?it/s]"
      ]
     },
     "metadata": {},
     "output_type": "display_data"
    },
    {
     "name": "stdout",
     "output_type": "stream",
     "text": [
      "{'fdr': 0.4864864864864865, 'tpr': 0.8636363636363636, 'fpr': 0.10714285714285714, 'shd': 20, 'pred_size': 37, 'n': 500, 'p': 1, 'd': 10, 'degree': 2, 'noise_type': 'GUMBEL', 'mlp': True, 'runtime': 21.93723750114441, 'model_name': 'DAGMATS'}\n"
     ]
    },
    {
     "data": {
      "application/vnd.jupyter.widget-view+json": {
       "model_id": "3d88a83374c243309064114cbc6db83a",
       "version_major": 2,
       "version_minor": 0
      },
      "text/plain": [
       "  0%|          | 0/23000.0 [00:00<?, ?it/s]"
      ]
     },
     "metadata": {},
     "output_type": "display_data"
    },
    {
     "name": "stdout",
     "output_type": "stream",
     "text": [
      "{'fdr': 0.4857142857142857, 'tpr': 0.782608695652174, 'fpr': 0.10179640718562874, 'shd': 21, 'pred_size': 35, 'n': 500, 'p': 1, 'd': 10, 'degree': 2, 'noise_type': 'GUMBEL', 'mlp': True, 'runtime': 30.912981510162354, 'model_name': 'DAGMATS'}\n"
     ]
    },
    {
     "data": {
      "application/vnd.jupyter.widget-view+json": {
       "model_id": "376f8c1edbe143d5a90fb3bf462a35da",
       "version_major": 2,
       "version_minor": 0
      },
      "text/plain": [
       "  0%|          | 0/23000.0 [00:00<?, ?it/s]"
      ]
     },
     "metadata": {},
     "output_type": "display_data"
    },
    {
     "name": "stdout",
     "output_type": "stream",
     "text": [
      "{'fdr': 0.3611111111111111, 'tpr': 0.696969696969697, 'fpr': 0.08280254777070063, 'shd': 23, 'pred_size': 36, 'n': 500, 'p': 1, 'd': 10, 'degree': 2, 'noise_type': 'GUMBEL', 'mlp': True, 'runtime': 30.23897671699524, 'model_name': 'DAGMATS'}\n"
     ]
    },
    {
     "data": {
      "application/vnd.jupyter.widget-view+json": {
       "model_id": "20c37256ce7b49bc9908d544d4da6dda",
       "version_major": 2,
       "version_minor": 0
      },
      "text/plain": [
       "  0%|          | 0/23000.0 [00:00<?, ?it/s]"
      ]
     },
     "metadata": {},
     "output_type": "display_data"
    }
   ],
   "source": [
    "testing_dagmats.test_all_methods(output_dir='testing06.jsonl')"
   ]
  },
  {
   "cell_type": "code",
   "execution_count": null,
   "metadata": {},
   "outputs": [],
   "source": []
  }
 ],
 "metadata": {
  "kernelspec": {
   "display_name": "Python 3 (ipykernel)",
   "language": "python",
   "name": "python3"
  },
  "language_info": {
   "codemirror_mode": {
    "name": "ipython",
    "version": 3
   },
   "file_extension": ".py",
   "mimetype": "text/x-python",
   "name": "python",
   "nbconvert_exporter": "python",
   "pygments_lexer": "ipython3",
   "version": "3.9.5"
  }
 },
 "nbformat": 4,
 "nbformat_minor": 2
}
