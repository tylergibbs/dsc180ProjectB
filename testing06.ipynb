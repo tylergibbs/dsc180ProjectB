{
 "cells": [
  {
   "cell_type": "code",
   "execution_count": 1,
   "metadata": {},
   "outputs": [],
   "source": [
    "import testing_dagmats"
   ]
  },
  {
   "cell_type": "code",
   "execution_count": null,
   "metadata": {},
   "outputs": [
    {
     "data": {
      "application/vnd.jupyter.widget-view+json": {
       "model_id": "03ca7dd89ccb499bbafb24936bdf09a1",
       "version_major": 2,
       "version_minor": 0
      },
      "text/plain": [
       "  0%|          | 0/23000.0 [00:00<?, ?it/s]"
      ]
     },
     "metadata": {},
     "output_type": "display_data"
    },
    {
     "name": "stdout",
     "output_type": "stream",
     "text": [
      "{'fdr': 0.3939393939393939, 'tpr': 0.4166666666666667, 'fpr': 0.09154929577464789, 'shd': 38, 'pred_size': 33, 'n': 50, 'p': 1, 'd': 10, 'degree': 2, 'noise_type': 'GUMBEL', 'mlp': True, 'runtime': 42.46727442741394, 'model_name': 'DAGMATS'}\n"
     ]
    },
    {
     "data": {
      "application/vnd.jupyter.widget-view+json": {
       "model_id": "e781d9c9f0f34e6684d4d64a45658b2e",
       "version_major": 2,
       "version_minor": 0
      },
      "text/plain": [
       "  0%|          | 0/23000.0 [00:00<?, ?it/s]"
      ]
     },
     "metadata": {},
     "output_type": "display_data"
    },
    {
     "name": "stdout",
     "output_type": "stream",
     "text": [
      "{'fdr': 0.5135135135135135, 'tpr': 0.3673469387755102, 'fpr': 0.1347517730496454, 'shd': 48, 'pred_size': 37, 'n': 50, 'p': 1, 'd': 10, 'degree': 2, 'noise_type': 'GUMBEL', 'mlp': True, 'runtime': 33.06609106063843, 'model_name': 'DAGMATS'}\n"
     ]
    },
    {
     "data": {
      "application/vnd.jupyter.widget-view+json": {
       "model_id": "b11cab8a77144900bfdf56f0c30e81e2",
       "version_major": 2,
       "version_minor": 0
      },
      "text/plain": [
       "  0%|          | 0/23000.0 [00:00<?, ?it/s]"
      ]
     },
     "metadata": {},
     "output_type": "display_data"
    },
    {
     "name": "stdout",
     "output_type": "stream",
     "text": [
      "{'fdr': 0.5833333333333334, 'tpr': 0.7142857142857143, 'fpr': 0.1242603550295858, 'shd': 27, 'pred_size': 36, 'n': 500, 'p': 1, 'd': 10, 'degree': 2, 'noise_type': 'GUMBEL', 'mlp': True, 'runtime': 37.01937651634216, 'model_name': 'DAGMATS'}\n"
     ]
    },
    {
     "data": {
      "application/vnd.jupyter.widget-view+json": {
       "model_id": "d1564ba309e24602a7593d4498a4f1a2",
       "version_major": 2,
       "version_minor": 0
      },
      "text/plain": [
       "  0%|          | 0/23000.0 [00:00<?, ?it/s]"
      ]
     },
     "metadata": {},
     "output_type": "display_data"
    },
    {
     "name": "stdout",
     "output_type": "stream",
     "text": [
      "{'fdr': 0.35135135135135137, 'tpr': 0.8275862068965517, 'fpr': 0.08074534161490683, 'shd': 17, 'pred_size': 37, 'n': 500, 'p': 1, 'd': 10, 'degree': 2, 'noise_type': 'GUMBEL', 'mlp': True, 'runtime': 33.18037223815918, 'model_name': 'DAGMATS'}\n"
     ]
    },
    {
     "data": {
      "application/vnd.jupyter.widget-view+json": {
       "model_id": "1a17830cd90d4174a258dff50e5379d4",
       "version_major": 2,
       "version_minor": 0
      },
      "text/plain": [
       "  0%|          | 0/23000.0 [00:00<?, ?it/s]"
      ]
     },
     "metadata": {},
     "output_type": "display_data"
    },
    {
     "name": "stdout",
     "output_type": "stream",
     "text": [
      "{'fdr': 0.5, 'tpr': 0.6538461538461539, 'fpr': 0.10365853658536585, 'shd': 25, 'pred_size': 34, 'n': 500, 'p': 1, 'd': 10, 'degree': 2, 'noise_type': 'GUMBEL', 'mlp': True, 'runtime': 41.77644419670105, 'model_name': 'DAGMATS'}\n"
     ]
    },
    {
     "data": {
      "application/vnd.jupyter.widget-view+json": {
       "model_id": "c2a1b97b9d604efd9240189b3e71b201",
       "version_major": 2,
       "version_minor": 0
      },
      "text/plain": [
       "  0%|          | 0/23000.0 [00:00<?, ?it/s]"
      ]
     },
     "metadata": {},
     "output_type": "display_data"
    },
    {
     "name": "stdout",
     "output_type": "stream",
     "text": [
      "{'fdr': 0.45161290322580644, 'tpr': 0.85, 'fpr': 0.08235294117647059, 'shd': 17, 'pred_size': 31, 'n': 500, 'p': 1, 'd': 10, 'degree': 2, 'noise_type': 'GUMBEL', 'mlp': True, 'runtime': 37.33948111534119, 'model_name': 'DAGMATS'}\n"
     ]
    },
    {
     "data": {
      "application/vnd.jupyter.widget-view+json": {
       "model_id": "de9d82ac864a499da1c1da7f301ff82e",
       "version_major": 2,
       "version_minor": 0
      },
      "text/plain": [
       "  0%|          | 0/23000.0 [00:00<?, ?it/s]"
      ]
     },
     "metadata": {},
     "output_type": "display_data"
    },
    {
     "name": "stdout",
     "output_type": "stream",
     "text": [
      "{'fdr': 0.4864864864864865, 'tpr': 0.8636363636363636, 'fpr': 0.10714285714285714, 'shd': 20, 'pred_size': 37, 'n': 500, 'p': 1, 'd': 10, 'degree': 2, 'noise_type': 'GUMBEL', 'mlp': True, 'runtime': 21.93723750114441, 'model_name': 'DAGMATS'}\n"
     ]
    },
    {
     "data": {
      "application/vnd.jupyter.widget-view+json": {
       "model_id": "3d88a83374c243309064114cbc6db83a",
       "version_major": 2,
       "version_minor": 0
      },
      "text/plain": [
       "  0%|          | 0/23000.0 [00:00<?, ?it/s]"
      ]
     },
     "metadata": {},
     "output_type": "display_data"
    },
    {
     "name": "stdout",
     "output_type": "stream",
     "text": [
      "{'fdr': 0.4857142857142857, 'tpr': 0.782608695652174, 'fpr': 0.10179640718562874, 'shd': 21, 'pred_size': 35, 'n': 500, 'p': 1, 'd': 10, 'degree': 2, 'noise_type': 'GUMBEL', 'mlp': True, 'runtime': 30.912981510162354, 'model_name': 'DAGMATS'}\n"
     ]
    },
    {
     "data": {
      "application/vnd.jupyter.widget-view+json": {
       "model_id": "376f8c1edbe143d5a90fb3bf462a35da",
       "version_major": 2,
       "version_minor": 0
      },
      "text/plain": [
       "  0%|          | 0/23000.0 [00:00<?, ?it/s]"
      ]
     },
     "metadata": {},
     "output_type": "display_data"
    },
    {
     "name": "stdout",
     "output_type": "stream",
     "text": [
      "{'fdr': 0.3611111111111111, 'tpr': 0.696969696969697, 'fpr': 0.08280254777070063, 'shd': 23, 'pred_size': 36, 'n': 500, 'p': 1, 'd': 10, 'degree': 2, 'noise_type': 'GUMBEL', 'mlp': True, 'runtime': 30.23897671699524, 'model_name': 'DAGMATS'}\n"
     ]
    },
    {
     "data": {
      "application/vnd.jupyter.widget-view+json": {
       "model_id": "20c37256ce7b49bc9908d544d4da6dda",
       "version_major": 2,
       "version_minor": 0
      },
      "text/plain": [
       "  0%|          | 0/23000.0 [00:00<?, ?it/s]"
      ]
     },
     "metadata": {},
     "output_type": "display_data"
    },
    {
     "name": "stdout",
     "output_type": "stream",
     "text": [
      "{'fdr': 0.42424242424242425, 'tpr': 0.7037037037037037, 'fpr': 0.08588957055214724, 'shd': 22, 'pred_size': 33, 'n': 500, 'p': 1, 'd': 10, 'degree': 2, 'noise_type': 'GUMBEL', 'mlp': True, 'runtime': 33.25503325462341, 'model_name': 'DAGMATS'}\n"
     ]
    },
    {
     "data": {
      "application/vnd.jupyter.widget-view+json": {
       "model_id": "35e24204ea95479db5ef0d6a8d57118e",
       "version_major": 2,
       "version_minor": 0
      },
      "text/plain": [
       "  0%|          | 0/23000.0 [00:00<?, ?it/s]"
      ]
     },
     "metadata": {},
     "output_type": "display_data"
    },
    {
     "name": "stdout",
     "output_type": "stream",
     "text": [
      "{'fdr': 0.4722222222222222, 'tpr': 0.6785714285714286, 'fpr': 0.10493827160493827, 'shd': 26, 'pred_size': 36, 'n': 500, 'p': 1, 'd': 10, 'degree': 2, 'noise_type': 'GUMBEL', 'mlp': True, 'runtime': 30.908926963806152, 'model_name': 'DAGMATS'}\n"
     ]
    },
    {
     "data": {
      "application/vnd.jupyter.widget-view+json": {
       "model_id": "ace6433f234a48bebfecd8799bf90e2f",
       "version_major": 2,
       "version_minor": 0
      },
      "text/plain": [
       "  0%|          | 0/23000.0 [00:00<?, ?it/s]"
      ]
     },
     "metadata": {},
     "output_type": "display_data"
    },
    {
     "name": "stdout",
     "output_type": "stream",
     "text": [
      "{'fdr': 0.41025641025641024, 'tpr': 0.71875, 'fpr': 0.10126582278481013, 'shd': 25, 'pred_size': 39, 'n': 500, 'p': 1, 'd': 10, 'degree': 2, 'noise_type': 'GUMBEL', 'mlp': True, 'runtime': 25.695173978805542, 'model_name': 'DAGMATS'}\n"
     ]
    },
    {
     "data": {
      "application/vnd.jupyter.widget-view+json": {
       "model_id": "2d4da5f0ceda4142b2fb71522014d55a",
       "version_major": 2,
       "version_minor": 0
      },
      "text/plain": [
       "  0%|          | 0/23000.0 [00:00<?, ?it/s]"
      ]
     },
     "metadata": {},
     "output_type": "display_data"
    },
    {
     "name": "stdout",
     "output_type": "stream",
     "text": [
      "{'fdr': 0.5625, 'tpr': 0.5384615384615384, 'fpr': 0.2608695652173913, 'shd': 56, 'pred_size': 64, 'n': 50, 'p': 1, 'd': 10, 'degree': 4, 'noise_type': 'GUMBEL', 'mlp': True, 'runtime': 26.327605724334717, 'model_name': 'DAGMATS'}\n"
     ]
    },
    {
     "data": {
      "application/vnd.jupyter.widget-view+json": {
       "model_id": "a646db096d5b4e69a44ebe7aceb1d34e",
       "version_major": 2,
       "version_minor": 0
      },
      "text/plain": [
       "  0%|          | 0/23000.0 [00:00<?, ?it/s]"
      ]
     },
     "metadata": {},
     "output_type": "display_data"
    },
    {
     "name": "stdout",
     "output_type": "stream",
     "text": [
      "{'fdr': 0.5675675675675675, 'tpr': 0.5818181818181818, 'fpr': 0.3111111111111111, 'shd': 61, 'pred_size': 74, 'n': 50, 'p': 1, 'd': 10, 'degree': 4, 'noise_type': 'GUMBEL', 'mlp': True, 'runtime': 35.206326961517334, 'model_name': 'DAGMATS'}\n"
     ]
    },
    {
     "data": {
      "application/vnd.jupyter.widget-view+json": {
       "model_id": "dbb3859b889b4098b145190e829969a5",
       "version_major": 2,
       "version_minor": 0
      },
      "text/plain": [
       "  0%|          | 0/23000.0 [00:00<?, ?it/s]"
      ]
     },
     "metadata": {},
     "output_type": "display_data"
    },
    {
     "name": "stdout",
     "output_type": "stream",
     "text": [
      "{'fdr': 0.5373134328358209, 'tpr': 0.5535714285714286, 'fpr': 0.26865671641791045, 'shd': 57, 'pred_size': 67, 'n': 50, 'p': 1, 'd': 10, 'degree': 4, 'noise_type': 'GUMBEL', 'mlp': True, 'runtime': 30.453940629959106, 'model_name': 'DAGMATS'}\n"
     ]
    },
    {
     "data": {
      "application/vnd.jupyter.widget-view+json": {
       "model_id": "a262bea872124b8697c49433326bd27c",
       "version_major": 2,
       "version_minor": 0
      },
      "text/plain": [
       "  0%|          | 0/23000.0 [00:00<?, ?it/s]"
      ]
     },
     "metadata": {},
     "output_type": "display_data"
    },
    {
     "name": "stdout",
     "output_type": "stream",
     "text": [
      "{'fdr': 0.4675324675324675, 'tpr': 0.6612903225806451, 'fpr': 0.28125, 'shd': 55, 'pred_size': 77, 'n': 50, 'p': 1, 'd': 10, 'degree': 4, 'noise_type': 'GUMBEL', 'mlp': True, 'runtime': 37.28455328941345, 'model_name': 'DAGMATS'}\n"
     ]
    },
    {
     "data": {
      "application/vnd.jupyter.widget-view+json": {
       "model_id": "a3cf0e8eaee64c2aa99cac226c13c3a1",
       "version_major": 2,
       "version_minor": 0
      },
      "text/plain": [
       "  0%|          | 0/23000.0 [00:00<?, ?it/s]"
      ]
     },
     "metadata": {},
     "output_type": "display_data"
    },
    {
     "name": "stdout",
     "output_type": "stream",
     "text": [
      "{'fdr': 0.35064935064935066, 'tpr': 0.8064516129032258, 'fpr': 0.2109375, 'shd': 37, 'pred_size': 77, 'n': 50, 'p': 1, 'd': 10, 'degree': 4, 'noise_type': 'GUMBEL', 'mlp': True, 'runtime': 32.25412058830261, 'model_name': 'DAGMATS'}\n"
     ]
    },
    {
     "data": {
      "application/vnd.jupyter.widget-view+json": {
       "model_id": "ca3b3f2725384174a4abb1efc5125bdd",
       "version_major": 2,
       "version_minor": 0
      },
      "text/plain": [
       "  0%|          | 0/23000.0 [00:00<?, ?it/s]"
      ]
     },
     "metadata": {},
     "output_type": "display_data"
    }
   ],
   "source": [
    "testing_dagmats.test_all_methods(output_dir='testing06.jsonl')"
   ]
  },
  {
   "cell_type": "code",
   "execution_count": null,
   "metadata": {},
   "outputs": [],
   "source": []
  }
 ],
 "metadata": {
  "kernelspec": {
   "display_name": "Python 3 (ipykernel)",
   "language": "python",
   "name": "python3"
  },
  "language_info": {
   "codemirror_mode": {
    "name": "ipython",
    "version": 3
   },
   "file_extension": ".py",
   "mimetype": "text/x-python",
   "name": "python",
   "nbconvert_exporter": "python",
   "pygments_lexer": "ipython3",
   "version": "3.9.5"
  }
 },
 "nbformat": 4,
 "nbformat_minor": 2
}
