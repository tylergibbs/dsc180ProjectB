{
 "cells": [
  {
   "cell_type": "code",
   "execution_count": 1,
   "metadata": {},
   "outputs": [],
   "source": [
    "import matplotlib.pyplot as plt\n",
    "import nonlinear_dagma"
   ]
  },
  {
   "cell_type": "code",
   "execution_count": 2,
   "metadata": {},
   "outputs": [
    {
     "name": "stdout",
     "output_type": "stream",
     "text": [
      "(20, 5)\n"
     ]
    },
    {
     "data": {
      "application/vnd.jupyter.widget-view+json": {
       "model_id": "2d7d2061b0ad41e8826f658a16e44a75",
       "version_major": 2,
       "version_minor": 0
      },
      "text/plain": [
       "  0%|          | 0/230000.0 [00:00<?, ?it/s]"
      ]
     },
     "metadata": {},
     "output_type": "display_data"
    }
   ],
   "source": [
    "gen, truth = nonlinear_dagma.test()"
   ]
  },
  {
   "cell_type": "code",
   "execution_count": 3,
   "metadata": {},
   "outputs": [
    {
     "data": {
      "text/plain": [
       "<matplotlib.image.AxesImage at 0x144756f10>"
      ]
     },
     "execution_count": 3,
     "metadata": {},
     "output_type": "execute_result"
    },
    {
     "data": {
      "image/png": "[encoded data removed]",
      "text/plain": [
       "<Figure size 640x480 with 1 Axes>"
      ]
     },
     "metadata": {},
     "output_type": "display_data"
    }
   ],
   "source": [
    "plt.imshow(truth)"
   ]
  },
  {
   "cell_type": "code",
   "execution_count": 4,
   "metadata": {},
   "outputs": [
    {
     "data": {
      "text/plain": [
       "<matplotlib.image.AxesImage at 0x1452706d0>"
      ]
     },
     "execution_count": 4,
     "metadata": {},
     "output_type": "execute_result"
    },
    {
     "data": {
      "image/png": "[encoded data removed]",
      "text/plain": [
       "<Figure size 640x480 with 1 Axes>"
      ]
     },
     "metadata": {},
     "output_type": "display_data"
    }
   ],
   "source": [
    "plt.imshow(gen)"
   ]
  },
  {
   "cell_type": "code",
   "execution_count": 5,
   "metadata": {},
   "outputs": [
    {
     "data": {
      "text/plain": [
       "array([[2.78677495e-04, 1.16571279e-01, 2.19881482e-01, 3.36120487e-01,\n",
       "        2.59546988e-01],\n",
       "       [3.54328622e-04, 3.42661786e-04, 5.13581145e-03, 1.66459133e-03,\n",
       "        3.11551070e-04],\n",
       "       [2.89278568e-04, 1.56851186e-02, 2.99134226e-04, 2.56857393e-01,\n",
       "        7.55064356e-03],\n",
       "       [2.87846121e-04, 2.46423530e-02, 3.39033665e-04, 2.77954695e-04,\n",
       "        2.16134624e-04],\n",
       "       [3.81024435e-04, 3.63665354e-01, 6.13128618e-03, 1.34524525e+00,\n",
       "        2.32236509e-04],\n",
       "       [5.73245283e-03, 1.22636156e-02, 6.34903976e-01, 8.44721071e-02,\n",
       "        2.10568443e-01],\n",
       "       [1.01442623e-02, 7.85333313e-03, 8.43282308e-03, 9.05654996e-02,\n",
       "        8.58636045e-03],\n",
       "       [4.68504374e-03, 1.06623375e-02, 1.78306365e-02, 6.01900316e-03,\n",
       "        8.34042457e-03],\n",
       "       [8.77575608e-03, 1.41486315e+00, 1.22949478e-02, 6.53359062e-03,\n",
       "        3.77668052e-01],\n",
       "       [6.61191962e-03, 1.29126894e-02, 7.16159213e-03, 1.03654551e-02,\n",
       "        5.44219459e-03],\n",
       "       [7.28546421e-03, 9.89803507e-02, 7.65346183e-03, 6.94104100e-02,\n",
       "        9.39132682e-01],\n",
       "       [8.46337181e-03, 4.89750181e-02, 7.84464845e-03, 1.94721322e-02,\n",
       "        5.03049990e-02],\n",
       "       [7.38779679e-03, 9.17370948e-02, 1.24271776e-01, 5.48312872e-02,\n",
       "        5.58743430e-01],\n",
       "       [7.72553660e-03, 7.28107710e-03, 3.29659899e-01, 6.00284287e-01,\n",
       "        6.86218701e-03],\n",
       "       [9.92143535e-03, 4.80731802e-01, 9.76793128e-03, 8.24821100e-02,\n",
       "        1.18554904e-01],\n",
       "       [1.19208930e-02, 1.17109964e-02, 1.83995590e-01, 5.01996378e-03,\n",
       "        3.62079455e-02],\n",
       "       [3.57557667e-03, 1.02146271e+00, 1.88751529e-02, 5.77733308e-02,\n",
       "        1.07233364e-01],\n",
       "       [6.58748187e-03, 6.81168254e-03, 2.56809907e-01, 7.69199018e-03,\n",
       "        6.35621930e-03],\n",
       "       [7.78896891e-03, 4.25418949e-02, 7.05865751e-02, 7.45498474e-03,\n",
       "        5.63142257e-02],\n",
       "       [9.18532748e-03, 9.13038072e-03, 7.41509750e-03, 7.13519325e-03,\n",
       "        8.15042999e-03]])"
      ]
     },
     "execution_count": 5,
     "metadata": {},
     "output_type": "execute_result"
    }
   ],
   "source": [
    "gen"
   ]
  },
  {
   "cell_type": "code",
   "execution_count": 7,
   "metadata": {},
   "outputs": [
    {
     "data": {
      "text/plain": [
       "array([[ 0.        ,  0.        ,  0.        ,  0.        ,  0.        ],\n",
       "       [ 0.81744217,  0.        , -0.74806149,  0.        ,  0.70891452],\n",
       "       [ 0.        ,  0.        ,  0.        ,  0.        ,  0.        ],\n",
       "       [-0.68278624,  0.        ,  0.57493019,  0.        ,  0.        ],\n",
       "       [-1.85247975,  0.        ,  1.30384461, -1.32815971,  0.        ],\n",
       "       [ 0.        ,  0.        ,  0.        ,  0.        ,  0.        ],\n",
       "       [ 0.        ,  0.        ,  0.        ,  0.        ,  0.        ],\n",
       "       [ 0.        ,  0.        ,  0.        ,  0.        ,  0.        ],\n",
       "       [ 0.        ,  0.        ,  0.        ,  0.        ,  0.        ],\n",
       "       [ 0.        ,  0.        ,  0.        ,  0.        ,  0.        ],\n",
       "       [ 0.        ,  0.        ,  0.        , -0.45016242,  0.        ],\n",
       "       [ 0.        ,  0.        ,  0.        ,  0.        ,  0.        ],\n",
       "       [ 0.        ,  0.        ,  0.        ,  0.        ,  0.        ],\n",
       "       [ 0.        ,  0.        ,  0.        ,  0.        ,  0.        ],\n",
       "       [ 0.        ,  0.        , -0.4147359 ,  0.        ,  0.        ],\n",
       "       [ 0.        ,  0.        ,  0.        ,  0.        ,  0.        ],\n",
       "       [ 0.        , -0.48743806,  0.        ,  0.        ,  0.        ],\n",
       "       [ 0.        ,  0.        ,  0.        ,  0.        ,  0.        ],\n",
       "       [ 0.        ,  0.45284832,  0.        ,  0.        ,  0.        ],\n",
       "       [ 0.        ,  0.        ,  0.        ,  0.        ,  0.        ]])"
      ]
     },
     "execution_count": 7,
     "metadata": {},
     "output_type": "execute_result"
    }
   ],
   "source": [
    "truth"
   ]
  },
  {
   "cell_type": "code",
   "execution_count": 7,
   "metadata": {},
   "outputs": [],
   "source": [
    "import torch"
   ]
  },
  {
   "cell_type": "code",
   "execution_count": 8,
   "metadata": {},
   "outputs": [],
   "source": [
    "h = 10\n",
    "d = 5\n",
    "pd = 20\n",
    "n = 50"
   ]
  },
  {
   "cell_type": "code",
   "execution_count": 9,
   "metadata": {},
   "outputs": [],
   "source": [
    "fc1 = torch.randn(h*d, pd)"
   ]
  },
  {
   "cell_type": "code",
   "execution_count": 13,
   "metadata": {},
   "outputs": [
    {
     "data": {
      "text/plain": [
       "tensor([[ 1.3304e+00, -9.9774e-01,  9.2667e-01,  9.6487e-01,  6.2525e-01,\n",
       "         -9.1114e-01,  2.7628e-01, -8.7519e-03, -2.3904e+00, -3.5730e-01,\n",
       "         -2.4527e-01, -1.0548e+00, -1.0723e-01,  3.5523e-01, -1.8055e+00,\n",
       "          7.2161e-01,  1.6626e+00,  2.3857e-01,  2.0528e+00, -1.3029e+00],\n",
       "        [ 6.6405e-01,  1.1000e+00, -3.9591e-01,  4.5555e-01, -4.9549e-01,\n",
       "          1.9307e+00,  2.7727e+00, -1.3789e+00,  9.4860e-01,  7.2642e-01,\n",
       "          5.6026e-01, -2.5045e+00, -7.5516e-01,  2.1135e-01,  6.0407e-02,\n",
       "          2.0382e+00,  3.0947e-01,  1.1690e+00, -6.2007e-01, -1.3356e-01],\n",
       "        [ 3.3327e-01,  1.2827e-02, -9.4207e-01, -1.5948e+00,  1.1607e+00,\n",
       "          1.1463e+00, -3.5030e-01, -1.0083e-01, -9.5353e-01, -1.6009e+00,\n",
       "         -2.0380e-01,  1.2054e+00,  3.4548e-01,  1.1106e+00,  3.6765e-02,\n",
       "          5.2994e-01, -1.3895e+00, -1.0402e+00, -2.6532e+00,  1.6899e-03],\n",
       "        [-2.9010e-01,  3.9629e-01, -1.1491e+00, -1.9039e+00, -1.3017e+00,\n",
       "         -1.0230e+00,  6.7859e-01, -7.6376e-01,  6.0238e-01,  1.5309e+00,\n",
       "         -1.4055e+00,  4.2246e-01,  1.9794e-01,  3.3102e-01, -6.5986e-01,\n",
       "         -1.3892e+00, -1.5057e-01,  9.7014e-01, -1.0131e-01, -1.3703e+00],\n",
       "        [ 7.4582e-01, -7.1608e-01, -2.8183e-02,  3.2658e-01,  2.3331e+00,\n",
       "          8.7869e-02, -2.9322e-02,  5.5520e-01, -1.1915e+00,  1.3685e+00,\n",
       "          4.8268e-01,  1.1697e+00,  2.5278e-01,  1.3592e+00,  2.3309e-01,\n",
       "          7.3960e-01,  1.3459e+00, -1.1839e+00,  2.8315e-01, -8.2882e-02],\n",
       "        [-5.9768e-01,  1.0836e-01, -1.1824e+00, -4.2029e-01,  4.5029e-01,\n",
       "         -8.2663e-02, -5.2406e-01, -5.8778e-01,  5.1995e-01, -1.4565e+00,\n",
       "          4.2098e-02, -1.5494e+00,  6.0565e-01, -1.1231e+00, -6.9193e-01,\n",
       "         -1.2143e+00, -4.7715e-01,  1.8509e+00, -5.7811e-01, -1.6895e+00],\n",
       "        [ 7.9933e-01, -5.7586e-01,  1.2406e+00, -1.0312e+00, -7.2784e-01,\n",
       "         -1.9506e-01,  2.7148e-01,  3.3509e-01,  1.4707e-01, -7.2192e-01,\n",
       "         -2.7206e-01,  1.0760e+00,  6.4768e-01, -7.9595e-01,  1.2746e+00,\n",
       "         -4.8362e-01, -6.2734e-01, -7.9306e-01, -4.8471e-01,  7.5405e-01],\n",
       "        [ 1.7227e+00, -4.3270e-01, -2.0579e-01,  1.4892e-01, -9.5996e-01,\n",
       "         -7.0941e-01,  1.6439e+00,  1.1858e+00,  4.9452e-01,  4.3160e-01,\n",
       "         -7.7693e-01, -2.1186e+00,  4.2967e-01, -7.9949e-01, -1.1685e+00,\n",
       "          4.5667e-01,  9.1925e-01, -2.6179e-02,  6.7566e-01,  8.0888e-01],\n",
       "        [ 5.4543e-01,  4.3570e-01, -1.9218e+00, -7.0048e-01, -4.6779e-02,\n",
       "         -3.0794e+00, -2.4618e-02,  2.5707e+00,  8.7080e-01,  8.2277e-01,\n",
       "         -5.2075e-01, -3.9694e-02,  9.1546e-01,  1.6332e-01,  1.0291e+00,\n",
       "          1.8500e-01,  1.2184e+00, -2.5256e-01, -3.2151e-01, -7.4335e-01],\n",
       "        [ 9.7166e-01,  1.3798e+00,  5.7691e-01, -9.0056e-01,  3.4969e-01,\n",
       "          3.7727e-01,  5.1554e-01,  4.5509e-01, -7.0656e-01,  1.6467e+00,\n",
       "          2.8953e-01, -1.7086e+00,  2.5426e-01,  1.3863e-01,  5.8959e-01,\n",
       "         -8.0830e-01,  1.2258e+00, -1.1014e+00,  8.6010e-02,  1.0244e+00]])"
      ]
     },
     "execution_count": 13,
     "metadata": {},
     "output_type": "execute_result"
    }
   ],
   "source": [
    "fc1[:h]"
   ]
  },
  {
   "cell_type": "code",
   "execution_count": 16,
   "metadata": {},
   "outputs": [
    {
     "data": {
      "text/plain": [
       "torch.Size([20, 5])"
      ]
     },
     "execution_count": 16,
     "metadata": {},
     "output_type": "execute_result"
    }
   ],
   "source": [
    "fc1.view(pd, h, d)[:, 0]"
   ]
  },
  {
   "cell_type": "code",
   "execution_count": null,
   "metadata": {},
   "outputs": [],
   "source": []
  }
 ],
 "metadata": {
  "kernelspec": {
   "display_name": "base",
   "language": "python",
   "name": "python3"
  },
  "language_info": {
   "codemirror_mode": {
    "name": "ipython",
    "version": 3
   },
   "file_extension": ".py",
   "mimetype": "text/x-python",
   "name": "python",
   "nbconvert_exporter": "python",
   "pygments_lexer": "ipython3",
   "version": "3.11.7"
  }
 },
 "nbformat": 4,
 "nbformat_minor": 2
}
