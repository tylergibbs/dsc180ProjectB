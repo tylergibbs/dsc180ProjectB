{
 "cells": [
  {
   "cell_type": "code",
   "execution_count": 2,
   "metadata": {},
   "outputs": [],
   "source": [
    "import testing_two"
   ]
  },
  {
   "cell_type": "code",
   "execution_count": 4,
   "metadata": {},
   "outputs": [
    {
     "name": "stdout",
     "output_type": "stream",
     "text": [
      "{'fdr': 0.25, 'tpr': 0.7894736842105263, 'fpr': 0.19230769230769232, 'shd': 9, 'pred_size': 20, 'n': 50, 'p': 1, 'd': 5, 'degree': 2, 'noise_type': 'EV', 'mlp': False, 'runtime': 0.4874391555786133, 'model_name': 'DYNOTEARS'}\n",
      "{'fdr': 0.3333333333333333, 'tpr': 0.625, 'fpr': 0.1724137931034483, 'shd': 9, 'pred_size': 15, 'n': 50, 'p': 1, 'd': 5, 'degree': 2, 'noise_type': 'EV', 'mlp': False, 'runtime': 0.23666882514953613, 'model_name': 'DYNOTEARS'}\n",
      "{'fdr': 0.2222222222222222, 'tpr': 0.8235294117647058, 'fpr': 0.14285714285714285, 'shd': 6, 'pred_size': 18, 'n': 50, 'p': 1, 'd': 5, 'degree': 2, 'noise_type': 'EV', 'mlp': False, 'runtime': 0.2556650638580322, 'model_name': 'DYNOTEARS'}\n",
      "{'fdr': 0.35, 'tpr': 0.8666666666666667, 'fpr': 0.23333333333333334, 'shd': 8, 'pred_size': 20, 'n': 50, 'p': 1, 'd': 5, 'degree': 2, 'noise_type': 'EV', 'mlp': False, 'runtime': 0.2944819927215576, 'model_name': 'DYNOTEARS'}\n",
      "{'fdr': 0.1111111111111111, 'tpr': 0.9411764705882353, 'fpr': 0.07142857142857142, 'shd': 3, 'pred_size': 18, 'n': 50, 'p': 1, 'd': 5, 'degree': 2, 'noise_type': 'EV', 'mlp': False, 'runtime': 0.2551259994506836, 'model_name': 'DYNOTEARS'}\n",
      "{'fdr': 0.2, 'tpr': 0.8, 'fpr': 0.16, 'shd': 7, 'pred_size': 20, 'n': 50, 'p': 1, 'd': 5, 'degree': 2, 'noise_type': 'EV', 'mlp': False, 'runtime': 0.20125985145568848, 'model_name': 'DYNOTEARS'}\n",
      "{'fdr': 0.3181818181818182, 'tpr': 0.8823529411764706, 'fpr': 0.25, 'shd': 9, 'pred_size': 22, 'n': 50, 'p': 1, 'd': 5, 'degree': 2, 'noise_type': 'EV', 'mlp': False, 'runtime': 0.3190939426422119, 'model_name': 'DYNOTEARS'}\n",
      "{'fdr': 0.16666666666666666, 'tpr': 0.9375, 'fpr': 0.10344827586206896, 'shd': 4, 'pred_size': 18, 'n': 50, 'p': 1, 'd': 5, 'degree': 2, 'noise_type': 'EV', 'mlp': False, 'runtime': 0.2597830295562744, 'model_name': 'DYNOTEARS'}\n",
      "{'fdr': 0.1111111111111111, 'tpr': 0.9230769230769231, 'fpr': 0.15789473684210525, 'shd': 4, 'pred_size': 27, 'n': 50, 'p': 1, 'd': 5, 'degree': 2, 'noise_type': 'EV', 'mlp': False, 'runtime': 0.31615495681762695, 'model_name': 'DYNOTEARS'}\n",
      "{'fdr': 0.13636363636363635, 'tpr': 0.9047619047619048, 'fpr': 0.125, 'shd': 5, 'pred_size': 22, 'n': 50, 'p': 1, 'd': 5, 'degree': 2, 'noise_type': 'EV', 'mlp': False, 'runtime': 0.2629830837249756, 'model_name': 'DYNOTEARS'}\n",
      "{'fdr': 0.1111111111111111, 'tpr': 0.8888888888888888, 'fpr': 0.07407407407407407, 'shd': 3, 'pred_size': 18, 'n': 500, 'p': 1, 'd': 5, 'degree': 2, 'noise_type': 'EV', 'mlp': False, 'runtime': 0.43720293045043945, 'model_name': 'DYNOTEARS'}\n",
      "{'fdr': 0.0, 'tpr': 1.0, 'fpr': 0.0, 'shd': 0, 'pred_size': 20, 'n': 500, 'p': 1, 'd': 5, 'degree': 2, 'noise_type': 'EV', 'mlp': False, 'runtime': 0.3853108882904053, 'model_name': 'DYNOTEARS'}\n",
      "{'fdr': 0.125, 'tpr': 0.7777777777777778, 'fpr': 0.07407407407407407, 'shd': 5, 'pred_size': 16, 'n': 500, 'p': 1, 'd': 5, 'degree': 2, 'noise_type': 'EV', 'mlp': False, 'runtime': 0.39597606658935547, 'model_name': 'DYNOTEARS'}\n",
      "{'fdr': 0.0, 'tpr': 1.0, 'fpr': 0.0, 'shd': 0, 'pred_size': 19, 'n': 500, 'p': 1, 'd': 5, 'degree': 2, 'noise_type': 'EV', 'mlp': False, 'runtime': 0.39516282081604004, 'model_name': 'DYNOTEARS'}\n",
      "{'fdr': 0.09523809523809523, 'tpr': 0.9047619047619048, 'fpr': 0.08333333333333333, 'shd': 3, 'pred_size': 21, 'n': 500, 'p': 1, 'd': 5, 'degree': 2, 'noise_type': 'EV', 'mlp': False, 'runtime': 0.3956260681152344, 'model_name': 'DYNOTEARS'}\n",
      "{'fdr': 0.05555555555555555, 'tpr': 1.0, 'fpr': 0.03571428571428571, 'shd': 1, 'pred_size': 18, 'n': 500, 'p': 1, 'd': 5, 'degree': 2, 'noise_type': 'EV', 'mlp': False, 'runtime': 0.3559448719024658, 'model_name': 'DYNOTEARS'}\n",
      "{'fdr': 0.05263157894736842, 'tpr': 0.9473684210526315, 'fpr': 0.038461538461538464, 'shd': 1, 'pred_size': 19, 'n': 500, 'p': 1, 'd': 5, 'degree': 2, 'noise_type': 'EV', 'mlp': False, 'runtime': 0.4525160789489746, 'model_name': 'DYNOTEARS'}\n",
      "{'fdr': 0.13636363636363635, 'tpr': 0.95, 'fpr': 0.12, 'shd': 3, 'pred_size': 22, 'n': 500, 'p': 1, 'd': 5, 'degree': 2, 'noise_type': 'EV', 'mlp': False, 'runtime': 0.3768320083618164, 'model_name': 'DYNOTEARS'}\n",
      "{'fdr': 0.0, 'tpr': 1.0, 'fpr': 0.0, 'shd': 0, 'pred_size': 20, 'n': 500, 'p': 1, 'd': 5, 'degree': 2, 'noise_type': 'EV', 'mlp': False, 'runtime': 0.36966896057128906, 'model_name': 'DYNOTEARS'}\n",
      "{'fdr': 0.2857142857142857, 'tpr': 0.9375, 'fpr': 0.20689655172413793, 'shd': 6, 'pred_size': 21, 'n': 500, 'p': 1, 'd': 5, 'degree': 2, 'noise_type': 'EV', 'mlp': False, 'runtime': 0.35045766830444336, 'model_name': 'DYNOTEARS'}\n",
      "{'fdr': 0.2222222222222222, 'tpr': 1.0, 'fpr': 0.25, 'shd': 6, 'pred_size': 27, 'n': 50, 'p': 1, 'd': 5, 'degree': 4, 'noise_type': 'EV', 'mlp': False, 'runtime': 0.4974691867828369, 'model_name': 'DYNOTEARS'}\n",
      "{'fdr': 0.1, 'tpr': 1.0, 'fpr': 0.16666666666666666, 'shd': 3, 'pred_size': 30, 'n': 50, 'p': 1, 'd': 5, 'degree': 4, 'noise_type': 'EV', 'mlp': False, 'runtime': 0.4839632511138916, 'model_name': 'DYNOTEARS'}\n",
      "{'fdr': 0.2916666666666667, 'tpr': 1.0, 'fpr': 0.25, 'shd': 7, 'pred_size': 24, 'n': 50, 'p': 1, 'd': 5, 'degree': 4, 'noise_type': 'EV', 'mlp': False, 'runtime': 0.48691511154174805, 'model_name': 'DYNOTEARS'}\n",
      "{'fdr': 0.20833333333333334, 'tpr': 0.95, 'fpr': 0.2, 'shd': 6, 'pred_size': 24, 'n': 50, 'p': 1, 'd': 5, 'degree': 4, 'noise_type': 'EV', 'mlp': False, 'runtime': 0.379349946975708, 'model_name': 'DYNOTEARS'}\n",
      "{'fdr': 0.16666666666666666, 'tpr': 1.0, 'fpr': 0.16, 'shd': 4, 'pred_size': 24, 'n': 50, 'p': 1, 'd': 5, 'degree': 4, 'noise_type': 'EV', 'mlp': False, 'runtime': 0.4461848735809326, 'model_name': 'DYNOTEARS'}\n",
      "{'fdr': 0.16, 'tpr': 1.0, 'fpr': 0.16666666666666666, 'shd': 4, 'pred_size': 25, 'n': 50, 'p': 1, 'd': 5, 'degree': 4, 'noise_type': 'EV', 'mlp': False, 'runtime': 0.38115477561950684, 'model_name': 'DYNOTEARS'}\n",
      "{'fdr': 0.16, 'tpr': 0.9130434782608695, 'fpr': 0.18181818181818182, 'shd': 6, 'pred_size': 25, 'n': 50, 'p': 1, 'd': 5, 'degree': 4, 'noise_type': 'EV', 'mlp': False, 'runtime': 0.609001874923706, 'model_name': 'DYNOTEARS'}\n",
      "{'fdr': 0.13636363636363635, 'tpr': 1.0, 'fpr': 0.11538461538461539, 'shd': 3, 'pred_size': 22, 'n': 50, 'p': 1, 'd': 5, 'degree': 4, 'noise_type': 'EV', 'mlp': False, 'runtime': 0.39891505241394043, 'model_name': 'DYNOTEARS'}\n",
      "{'fdr': 0.045454545454545456, 'tpr': 0.9545454545454546, 'fpr': 0.043478260869565216, 'shd': 2, 'pred_size': 22, 'n': 50, 'p': 1, 'd': 5, 'degree': 4, 'noise_type': 'EV', 'mlp': False, 'runtime': 0.42213916778564453, 'model_name': 'DYNOTEARS'}\n",
      "{'fdr': 0.19230769230769232, 'tpr': 0.875, 'fpr': 0.23809523809523808, 'shd': 8, 'pred_size': 26, 'n': 50, 'p': 1, 'd': 5, 'degree': 4, 'noise_type': 'EV', 'mlp': False, 'runtime': 0.41721200942993164, 'model_name': 'DYNOTEARS'}\n",
      "{'fdr': 0.0, 'tpr': 1.0, 'fpr': 0.0, 'shd': 0, 'pred_size': 23, 'n': 500, 'p': 1, 'd': 5, 'degree': 4, 'noise_type': 'EV', 'mlp': False, 'runtime': 0.6257269382476807, 'model_name': 'DYNOTEARS'}\n",
      "{'fdr': 0.05263157894736842, 'tpr': 1.0, 'fpr': 0.037037037037037035, 'shd': 1, 'pred_size': 19, 'n': 500, 'p': 1, 'd': 5, 'degree': 4, 'noise_type': 'EV', 'mlp': False, 'runtime': 0.6329038143157959, 'model_name': 'DYNOTEARS'}\n",
      "{'fdr': 0.25, 'tpr': 1.0, 'fpr': 0.2222222222222222, 'shd': 6, 'pred_size': 24, 'n': 500, 'p': 1, 'd': 5, 'degree': 4, 'noise_type': 'EV', 'mlp': False, 'runtime': 0.5858807563781738, 'model_name': 'DYNOTEARS'}\n",
      "{'fdr': 0.043478260869565216, 'tpr': 1.0, 'fpr': 0.043478260869565216, 'shd': 1, 'pred_size': 23, 'n': 500, 'p': 1, 'd': 5, 'degree': 4, 'noise_type': 'EV', 'mlp': False, 'runtime': 0.6346797943115234, 'model_name': 'DYNOTEARS'}\n",
      "{'fdr': 0.043478260869565216, 'tpr': 1.0, 'fpr': 0.043478260869565216, 'shd': 1, 'pred_size': 23, 'n': 500, 'p': 1, 'd': 5, 'degree': 4, 'noise_type': 'EV', 'mlp': False, 'runtime': 0.5182390213012695, 'model_name': 'DYNOTEARS'}\n",
      "{'fdr': 0.05555555555555555, 'tpr': 1.0, 'fpr': 0.03571428571428571, 'shd': 1, 'pred_size': 18, 'n': 500, 'p': 1, 'd': 5, 'degree': 4, 'noise_type': 'EV', 'mlp': False, 'runtime': 0.5389611721038818, 'model_name': 'DYNOTEARS'}\n",
      "{'fdr': 0.05, 'tpr': 1.0, 'fpr': 0.038461538461538464, 'shd': 1, 'pred_size': 20, 'n': 500, 'p': 1, 'd': 5, 'degree': 4, 'noise_type': 'EV', 'mlp': False, 'runtime': 0.6621670722961426, 'model_name': 'DYNOTEARS'}\n",
      "{'fdr': 0.0, 'tpr': 1.0, 'fpr': 0.0, 'shd': 0, 'pred_size': 22, 'n': 500, 'p': 1, 'd': 5, 'degree': 4, 'noise_type': 'EV', 'mlp': False, 'runtime': 0.5041260719299316, 'model_name': 'DYNOTEARS'}\n",
      "{'fdr': 0.047619047619047616, 'tpr': 1.0, 'fpr': 0.04, 'shd': 1, 'pred_size': 21, 'n': 500, 'p': 1, 'd': 5, 'degree': 4, 'noise_type': 'EV', 'mlp': False, 'runtime': 0.4789121150970459, 'model_name': 'DYNOTEARS'}\n",
      "{'fdr': 0.1111111111111111, 'tpr': 1.0, 'fpr': 0.06896551724137931, 'shd': 2, 'pred_size': 18, 'n': 500, 'p': 1, 'd': 5, 'degree': 4, 'noise_type': 'EV', 'mlp': False, 'runtime': 0.4850459098815918, 'model_name': 'DYNOTEARS'}\n",
      "{'fdr': 0.26666666666666666, 'tpr': 0.868421052631579, 'fpr': 0.07894736842105263, 'shd': 17, 'pred_size': 45, 'n': 50, 'p': 1, 'd': 10, 'degree': 2, 'noise_type': 'EV', 'mlp': False, 'runtime': 2.155552864074707, 'model_name': 'DYNOTEARS'}\n",
      "{'fdr': 0.35714285714285715, 'tpr': 0.6, 'fpr': 0.0625, 'shd': 21, 'pred_size': 28, 'n': 50, 'p': 1, 'd': 10, 'degree': 2, 'noise_type': 'EV', 'mlp': False, 'runtime': 3.5313568115234375, 'model_name': 'DYNOTEARS'}\n",
      "{'fdr': 0.3157894736842105, 'tpr': 0.8387096774193549, 'fpr': 0.07547169811320754, 'shd': 16, 'pred_size': 38, 'n': 50, 'p': 1, 'd': 10, 'degree': 2, 'noise_type': 'EV', 'mlp': False, 'runtime': 3.1301498413085938, 'model_name': 'DYNOTEARS'}\n"
     ]
    },
    {
     "ename": "KeyboardInterrupt",
     "evalue": "",
     "output_type": "error",
     "traceback": [
      "\u001b[0;31m---------------------------------------------------------------------------\u001b[0m",
      "\u001b[0;31mKeyboardInterrupt\u001b[0m                         Traceback (most recent call last)",
      "Cell \u001b[0;32mIn[4], line 1\u001b[0m\n\u001b[0;32m----> 1\u001b[0m testing_two\u001b[38;5;241m.\u001b[39mtest_all_methods(output_dir\u001b[38;5;241m=\u001b[39m\u001b[38;5;124m'\u001b[39m\u001b[38;5;124mtesting03.jsonl\u001b[39m\u001b[38;5;124m'\u001b[39m)\n",
      "File \u001b[0;32m~/Documents/GitHub/dsc180ProjectB/testing_two.py:125\u001b[0m, in \u001b[0;36mtest_all_methods\u001b[0;34m(output_dir)\u001b[0m\n\u001b[1;32m    122\u001b[0m \u001b[38;5;28;01mfor\u001b[39;00m dag_obj, dag_stat \u001b[38;5;129;01min\u001b[39;00m \u001b[38;5;28mzip\u001b[39m(dag_list, dag_stats):\n\u001b[1;32m    123\u001b[0m     \u001b[38;5;66;03m# get estimated dag\u001b[39;00m\n\u001b[1;32m    124\u001b[0m     start \u001b[38;5;241m=\u001b[39m time\u001b[38;5;241m.\u001b[39mtime()\n\u001b[0;32m--> 125\u001b[0m     A_est \u001b[38;5;241m=\u001b[39m func(dag_obj)\n\u001b[1;32m    126\u001b[0m     end \u001b[38;5;241m=\u001b[39m time\u001b[38;5;241m.\u001b[39mtime()\n\u001b[1;32m    127\u001b[0m     elapsed \u001b[38;5;241m=\u001b[39m end \u001b[38;5;241m-\u001b[39m start\n",
      "File \u001b[0;32m~/Documents/GitHub/dsc180ProjectB/testing_two.py:21\u001b[0m, in \u001b[0;36mdynotears\u001b[0;34m(dag_obj)\u001b[0m\n\u001b[1;32m     20\u001b[0m \u001b[38;5;28;01mdef\u001b[39;00m \u001b[38;5;21mdynotears\u001b[39m(dag_obj):\n\u001b[0;32m---> 21\u001b[0m     \u001b[38;5;28;01mreturn\u001b[39;00m run_dynotears\u001b[38;5;241m.\u001b[39mlearn_dag(dag_obj)\n",
      "File \u001b[0;32m~/Documents/GitHub/dsc180ProjectB/DYNOTEARS/run_dynotears.py:16\u001b[0m, in \u001b[0;36mlearn_dag\u001b[0;34m(dag_obj, w_thresh)\u001b[0m\n\u001b[1;32m     14\u001b[0m \u001b[38;5;28;01mdef\u001b[39;00m \u001b[38;5;21mlearn_dag\u001b[39m(dag_obj, w_thresh\u001b[38;5;241m=\u001b[39m\u001b[38;5;241m0.01\u001b[39m):\n\u001b[1;32m     15\u001b[0m     X_lag \u001b[38;5;241m=\u001b[39m dag_obj\u001b[38;5;241m.\u001b[39mY[:, dag_obj\u001b[38;5;241m.\u001b[39md:]\n\u001b[0;32m---> 16\u001b[0m     result, w_est, a_est \u001b[38;5;241m=\u001b[39m dynotears\u001b[38;5;241m.\u001b[39mfrom_numpy_dynamic(dag_obj\u001b[38;5;241m.\u001b[39mX, X_lag, w_threshold\u001b[38;5;241m=\u001b[39mw_thresh)\n\u001b[1;32m     17\u001b[0m     A \u001b[38;5;241m=\u001b[39m np\u001b[38;5;241m.\u001b[39mvstack([w_est, a_est])\n\u001b[1;32m     18\u001b[0m     \u001b[38;5;28;01mreturn\u001b[39;00m A\n",
      "File \u001b[0;32m~/Documents/GitHub/dsc180ProjectB/DYNOTEARS/dynotears.py:249\u001b[0m, in \u001b[0;36mfrom_numpy_dynamic\u001b[0;34m(X, Xlags, lambda_w, lambda_a, max_iter, h_tol, w_threshold, tabu_edges, tabu_parent_nodes, tabu_child_nodes)\u001b[0m\n\u001b[1;32m    233\u001b[0m     bnds_a\u001b[38;5;241m.\u001b[39mextend(\n\u001b[1;32m    234\u001b[0m         \u001b[38;5;241m2\u001b[39m\n\u001b[1;32m    235\u001b[0m         \u001b[38;5;241m*\u001b[39m [\n\u001b[0;32m   (...)\u001b[0m\n\u001b[1;32m    245\u001b[0m         ]\n\u001b[1;32m    246\u001b[0m     )\n\u001b[1;32m    248\u001b[0m bnds \u001b[38;5;241m=\u001b[39m bnds_w \u001b[38;5;241m+\u001b[39m bnds_a\n\u001b[0;32m--> 249\u001b[0m w_est, a_est \u001b[38;5;241m=\u001b[39m _learn_dynamic_structure(\n\u001b[1;32m    250\u001b[0m     X, Xlags, bnds, lambda_w, lambda_a, max_iter, h_tol\n\u001b[1;32m    251\u001b[0m )\n\u001b[1;32m    253\u001b[0m w_est[np\u001b[38;5;241m.\u001b[39mabs(w_est) \u001b[38;5;241m<\u001b[39m w_threshold] \u001b[38;5;241m=\u001b[39m \u001b[38;5;241m0\u001b[39m\n\u001b[1;32m    254\u001b[0m a_est[np\u001b[38;5;241m.\u001b[39mabs(a_est) \u001b[38;5;241m<\u001b[39m w_threshold] \u001b[38;5;241m=\u001b[39m \u001b[38;5;241m0\u001b[39m\n",
      "File \u001b[0;32m~/Documents/GitHub/dsc180ProjectB/DYNOTEARS/dynotears.py:478\u001b[0m, in \u001b[0;36m_learn_dynamic_structure\u001b[0;34m(X, Xlags, bnds, lambda_w, lambda_a, max_iter, h_tol)\u001b[0m\n\u001b[1;32m    476\u001b[0m \u001b[38;5;28;01mfor\u001b[39;00m n_iter \u001b[38;5;129;01min\u001b[39;00m \u001b[38;5;28mrange\u001b[39m(max_iter):\n\u001b[1;32m    477\u001b[0m     \u001b[38;5;28;01mwhile\u001b[39;00m (rho \u001b[38;5;241m<\u001b[39m \u001b[38;5;241m1e20\u001b[39m) \u001b[38;5;129;01mand\u001b[39;00m (h_new \u001b[38;5;241m>\u001b[39m \u001b[38;5;241m0.25\u001b[39m \u001b[38;5;241m*\u001b[39m h_value \u001b[38;5;129;01mor\u001b[39;00m h_new \u001b[38;5;241m==\u001b[39m np\u001b[38;5;241m.\u001b[39minf):\n\u001b[0;32m--> 478\u001b[0m         wa_new \u001b[38;5;241m=\u001b[39m sopt\u001b[38;5;241m.\u001b[39mminimize(\n\u001b[1;32m    479\u001b[0m             _func, wa_est, method\u001b[38;5;241m=\u001b[39m\u001b[38;5;124m\"\u001b[39m\u001b[38;5;124mL-BFGS-B\u001b[39m\u001b[38;5;124m\"\u001b[39m, jac\u001b[38;5;241m=\u001b[39m_grad, bounds\u001b[38;5;241m=\u001b[39mbnds\n\u001b[1;32m    480\u001b[0m         )\u001b[38;5;241m.\u001b[39mx\n\u001b[1;32m    481\u001b[0m         h_new \u001b[38;5;241m=\u001b[39m _h(wa_new)\n\u001b[1;32m    482\u001b[0m         \u001b[38;5;28;01mif\u001b[39;00m h_new \u001b[38;5;241m>\u001b[39m \u001b[38;5;241m0.25\u001b[39m \u001b[38;5;241m*\u001b[39m h_value:\n",
      "File \u001b[0;32m/opt/anaconda3/lib/python3.11/site-packages/scipy/optimize/_minimize.py:696\u001b[0m, in \u001b[0;36mminimize\u001b[0;34m(fun, x0, args, method, jac, hess, hessp, bounds, constraints, tol, callback, options)\u001b[0m\n\u001b[1;32m    693\u001b[0m     res \u001b[38;5;241m=\u001b[39m _minimize_newtoncg(fun, x0, args, jac, hess, hessp, callback,\n\u001b[1;32m    694\u001b[0m                              \u001b[38;5;241m*\u001b[39m\u001b[38;5;241m*\u001b[39moptions)\n\u001b[1;32m    695\u001b[0m \u001b[38;5;28;01melif\u001b[39;00m meth \u001b[38;5;241m==\u001b[39m \u001b[38;5;124m'\u001b[39m\u001b[38;5;124ml-bfgs-b\u001b[39m\u001b[38;5;124m'\u001b[39m:\n\u001b[0;32m--> 696\u001b[0m     res \u001b[38;5;241m=\u001b[39m _minimize_lbfgsb(fun, x0, args, jac, bounds,\n\u001b[1;32m    697\u001b[0m                            callback\u001b[38;5;241m=\u001b[39mcallback, \u001b[38;5;241m*\u001b[39m\u001b[38;5;241m*\u001b[39moptions)\n\u001b[1;32m    698\u001b[0m \u001b[38;5;28;01melif\u001b[39;00m meth \u001b[38;5;241m==\u001b[39m \u001b[38;5;124m'\u001b[39m\u001b[38;5;124mtnc\u001b[39m\u001b[38;5;124m'\u001b[39m:\n\u001b[1;32m    699\u001b[0m     res \u001b[38;5;241m=\u001b[39m _minimize_tnc(fun, x0, args, jac, bounds, callback\u001b[38;5;241m=\u001b[39mcallback,\n\u001b[1;32m    700\u001b[0m                         \u001b[38;5;241m*\u001b[39m\u001b[38;5;241m*\u001b[39moptions)\n",
      "File \u001b[0;32m/opt/anaconda3/lib/python3.11/site-packages/scipy/optimize/_lbfgsb_py.py:359\u001b[0m, in \u001b[0;36m_minimize_lbfgsb\u001b[0;34m(fun, x0, args, jac, bounds, disp, maxcor, ftol, gtol, eps, maxfun, maxiter, iprint, callback, maxls, finite_diff_rel_step, **unknown_options)\u001b[0m\n\u001b[1;32m    353\u001b[0m task_str \u001b[38;5;241m=\u001b[39m task\u001b[38;5;241m.\u001b[39mtobytes()\n\u001b[1;32m    354\u001b[0m \u001b[38;5;28;01mif\u001b[39;00m task_str\u001b[38;5;241m.\u001b[39mstartswith(\u001b[38;5;124mb\u001b[39m\u001b[38;5;124m'\u001b[39m\u001b[38;5;124mFG\u001b[39m\u001b[38;5;124m'\u001b[39m):\n\u001b[1;32m    355\u001b[0m     \u001b[38;5;66;03m# The minimization routine wants f and g at the current x.\u001b[39;00m\n\u001b[1;32m    356\u001b[0m     \u001b[38;5;66;03m# Note that interruptions due to maxfun are postponed\u001b[39;00m\n\u001b[1;32m    357\u001b[0m     \u001b[38;5;66;03m# until the completion of the current minimization iteration.\u001b[39;00m\n\u001b[1;32m    358\u001b[0m     \u001b[38;5;66;03m# Overwrite f and g:\u001b[39;00m\n\u001b[0;32m--> 359\u001b[0m     f, g \u001b[38;5;241m=\u001b[39m func_and_grad(x)\n\u001b[1;32m    360\u001b[0m \u001b[38;5;28;01melif\u001b[39;00m task_str\u001b[38;5;241m.\u001b[39mstartswith(\u001b[38;5;124mb\u001b[39m\u001b[38;5;124m'\u001b[39m\u001b[38;5;124mNEW_X\u001b[39m\u001b[38;5;124m'\u001b[39m):\n\u001b[1;32m    361\u001b[0m     \u001b[38;5;66;03m# new iteration\u001b[39;00m\n\u001b[1;32m    362\u001b[0m     n_iterations \u001b[38;5;241m+\u001b[39m\u001b[38;5;241m=\u001b[39m \u001b[38;5;241m1\u001b[39m\n",
      "File \u001b[0;32m/opt/anaconda3/lib/python3.11/site-packages/scipy/optimize/_differentiable_functions.py:284\u001b[0m, in \u001b[0;36mScalarFunction.fun_and_grad\u001b[0;34m(self, x)\u001b[0m\n\u001b[1;32m    282\u001b[0m \u001b[38;5;28;01mdef\u001b[39;00m \u001b[38;5;21mfun_and_grad\u001b[39m(\u001b[38;5;28mself\u001b[39m, x):\n\u001b[1;32m    283\u001b[0m     \u001b[38;5;28;01mif\u001b[39;00m \u001b[38;5;129;01mnot\u001b[39;00m np\u001b[38;5;241m.\u001b[39marray_equal(x, \u001b[38;5;28mself\u001b[39m\u001b[38;5;241m.\u001b[39mx):\n\u001b[0;32m--> 284\u001b[0m         \u001b[38;5;28mself\u001b[39m\u001b[38;5;241m.\u001b[39m_update_x_impl(x)\n\u001b[1;32m    285\u001b[0m     \u001b[38;5;28mself\u001b[39m\u001b[38;5;241m.\u001b[39m_update_fun()\n\u001b[1;32m    286\u001b[0m     \u001b[38;5;28mself\u001b[39m\u001b[38;5;241m.\u001b[39m_update_grad()\n",
      "File \u001b[0;32m/opt/anaconda3/lib/python3.11/site-packages/scipy/optimize/_differentiable_functions.py:243\u001b[0m, in \u001b[0;36mScalarFunction.__init__.<locals>.update_x\u001b[0;34m(x)\u001b[0m\n\u001b[1;32m    240\u001b[0m \u001b[38;5;28;01mdef\u001b[39;00m \u001b[38;5;21mupdate_x\u001b[39m(x):\n\u001b[1;32m    241\u001b[0m     \u001b[38;5;66;03m# ensure that self.x is a copy of x. Don't store a reference\u001b[39;00m\n\u001b[1;32m    242\u001b[0m     \u001b[38;5;66;03m# otherwise the memoization doesn't work properly.\u001b[39;00m\n\u001b[0;32m--> 243\u001b[0m     \u001b[38;5;28mself\u001b[39m\u001b[38;5;241m.\u001b[39mx \u001b[38;5;241m=\u001b[39m np\u001b[38;5;241m.\u001b[39matleast_1d(x)\u001b[38;5;241m.\u001b[39mastype(\u001b[38;5;28mfloat\u001b[39m)\n\u001b[1;32m    244\u001b[0m     \u001b[38;5;28mself\u001b[39m\u001b[38;5;241m.\u001b[39mf_updated \u001b[38;5;241m=\u001b[39m \u001b[38;5;28;01mFalse\u001b[39;00m\n\u001b[1;32m    245\u001b[0m     \u001b[38;5;28mself\u001b[39m\u001b[38;5;241m.\u001b[39mg_updated \u001b[38;5;241m=\u001b[39m \u001b[38;5;28;01mFalse\u001b[39;00m\n",
      "\u001b[0;31mKeyboardInterrupt\u001b[0m: "
     ]
    }
   ],
   "source": [
    "testing_two.test_all_methods(output_dir='testing05.jsonl')"
   ]
  },
  {
   "cell_type": "code",
   "execution_count": null,
   "metadata": {},
   "outputs": [],
   "source": []
  }
 ],
 "metadata": {
  "kernelspec": {
   "display_name": "base",
   "language": "python",
   "name": "python3"
  },
  "language_info": {
   "codemirror_mode": {
    "name": "ipython",
    "version": 3
   },
   "file_extension": ".py",
   "mimetype": "text/x-python",
   "name": "python",
   "nbconvert_exporter": "python",
   "pygments_lexer": "ipython3",
   "version": "3.11.7"
  }
 },
 "nbformat": 4,
 "nbformat_minor": 2
}
