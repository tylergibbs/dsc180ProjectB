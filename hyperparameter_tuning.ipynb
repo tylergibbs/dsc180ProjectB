{
 "cells": [
  {
   "cell_type": "code",
   "execution_count": 1,
   "metadata": {},
   "outputs": [],
   "source": [
    "from dagma import nonlinear_dagma\n",
    "from dagma.generate_data import SyntheticDataset\n",
    "\n"
   ]
  },
  {
   "cell_type": "code",
   "execution_count": null,
   "metadata": {},
   "outputs": [],
   "source": []
  },
  {
   "cell_type": "code",
   "execution_count": 2,
   "metadata": {},
   "outputs": [],
   "source": [
    "    \n",
    "def dagma(h1_dim, lambda1, lambda2, lr):\n",
    "    # these vars are fixed\n",
    "    n, d, p = 1000, 5, 3\n",
    "    dag_obj = SyntheticDataset(n, d, p, B_scale=1.0, graph_type='ER', degree=2, A_scale=1.0, noise_type='EV', mlp=True)\n",
    "\n",
    "    A_true = dag_obj.A\n",
    "    X = dag_obj.X\n",
    "    Y = dag_obj.Y\n",
    "\n",
    "    # we manipulate these\n",
    "    # h1_dim = 30\n",
    "    # lambda1=0.01\n",
    "    # lambda2=0.03\n",
    "    # lr=0.02\n",
    "\n",
    "    eq_model = nonlinear_dagma.DagmaMLP(dims=[(p+1) * d, h1_dim, 1], out_dims=d, bias=True)\n",
    "    model = nonlinear_dagma.DagmaNonlinear(eq_model)\n",
    "    adj = eq_model.fc1_to_adj()\n",
    "    W_est = model.fit(X, Y, lambda1=lambda1, lambda2=lambda2, lr=lr, w_threshold=0)\n",
    "    return W_est, A_true\n"
   ]
  },
  {
   "cell_type": "code",
   "execution_count": 3,
   "metadata": {},
   "outputs": [],
   "source": [
    "import testing_utils\n",
    "import numpy as np\n",
    "import jsonlines"
   ]
  },
  {
   "cell_type": "code",
   "execution_count": 4,
   "metadata": {},
   "outputs": [],
   "source": [
    "def postprocess_A(A_est,  A_true, graph_thres=0.1):\n",
    "   # convert est to dag:\n",
    "    d = A_est.shape[1]\n",
    "    p = int(A_est.shape[0] / d) - 1\n",
    "    A_dag = np.hstack([A_est, np.zeros(((p+ 1) * d, p * d))]) \n",
    "    A_true_dag = np.hstack([A_true, np.zeros(((p+ 1) * d, p * d))]) \n",
    "    # threshold \n",
    "    A_dag = testing_utils.postprocess(A_dag, graph_thres)\n",
    "    return A_dag, A_true_dag\n",
    "\n"
   ]
  },
  {
   "cell_type": "code",
   "execution_count": 5,
   "metadata": {},
   "outputs": [],
   "source": [
    "def save_metrics(A_est, A_true, param_dict, output_dir):\n",
    "    metric_dict = testing_utils.count_accuracy(A_est != 0, A_true != 0)\n",
    "    metric_dict |= param_dict\n",
    "    with jsonlines.open(output_dir, mode='a') as f:\n",
    "        f.write(metric_dict)\n",
    "    return metric_dict\n",
    "\n",
    "\n"
   ]
  },
  {
   "cell_type": "code",
   "execution_count": 6,
   "metadata": {},
   "outputs": [],
   "source": [
    "def dagma_grid(h1_dim_list, lambda1_list, lambda2_list, lr_list):\n",
    "    out_list = []\n",
    "    for h1_dim in h1_dim_list:\n",
    "        for lambda1 in lambda1_list:\n",
    "            for lambda2 in lambda2_list:\n",
    "                for lr in lr_list:\n",
    "                    out_list.append({\n",
    "                        'h1_dim': h1_dim,\n",
    "                        'lambda1': lambda1,\n",
    "                        'lambda2': lambda2,\n",
    "                        'lr': lr\n",
    "                    })\n",
    "    return out_list\n"
   ]
  },
  {
   "cell_type": "code",
   "execution_count": 7,
   "metadata": {},
   "outputs": [],
   "source": [
    "def perform_grid_search(grid, model_func, output_dir):\n",
    "    # we have the grid already, now we just iterate thru it\n",
    "    for g in grid:\n",
    "        # get estimantes and true dag\n",
    "        A_est, A_true = model_func(**g)\n",
    "        # post process\n",
    "        A_est, A_true = postprocess_A(A_est, A_true)\n",
    "        # save metrics\n",
    "        metrics = save_metrics(A_est, A_true, param_dict=g, output_dir=output_dir)\n",
    "        print(metrics)\n",
    "    \n"
   ]
  },
  {
   "cell_type": "code",
   "execution_count": 8,
   "metadata": {},
   "outputs": [
    {
     "data": {
      "text/plain": [
       "180"
      ]
     },
     "execution_count": 8,
     "metadata": {},
     "output_type": "execute_result"
    }
   ],
   "source": [
    "grid = dagma_grid(\n",
    "    h1_dim_list=[10, 20, 50],\n",
    "    lambda1_list=[0.005, 0.01, 0.02, 0.05, 0.1],\n",
    "    lambda2_list=[0.005, 0.01, 0.03, 0.05],\n",
    "    lr_list=[0.005, 0.01, 0.02]\n",
    ")\n",
    "len(grid)"
   ]
  },
  {
   "cell_type": "code",
   "execution_count": 9,
   "metadata": {},
   "outputs": [
    {
     "data": {
      "application/vnd.jupyter.widget-view+json": {
       "model_id": "ee3bfa5d7ac6410392ddd8ef6cd7c212",
       "version_major": 2,
       "version_minor": 0
      },
      "text/plain": [
       "  0%|          | 0/230000.0 [00:00<?, ?it/s]"
      ]
     },
     "metadata": {},
     "output_type": "display_data"
    },
    {
     "name": "stdout",
     "output_type": "stream",
     "text": [
      "{'fdr': 0.0, 'tpr': 0.375, 'fpr': 0.0, 'shd': 25, 'pred_size': 15, 'h1_dim': 10, 'lambda1': 0.005, 'lambda2': 0.005, 'lr': 0.005}\n"
     ]
    },
    {
     "data": {
      "application/vnd.jupyter.widget-view+json": {
       "model_id": "3beb03ea82be4325b817f960f8ce5cba",
       "version_major": 2,
       "version_minor": 0
      },
      "text/plain": [
       "  0%|          | 0/230000.0 [00:00<?, ?it/s]"
      ]
     },
     "metadata": {},
     "output_type": "display_data"
    },
    {
     "name": "stdout",
     "output_type": "stream",
     "text": [
      "{'fdr': 0.07692307692307693, 'tpr': 0.3333333333333333, 'fpr': 0.006493506493506494, 'shd': 24, 'pred_size': 13, 'h1_dim': 10, 'lambda1': 0.005, 'lambda2': 0.005, 'lr': 0.01}\n"
     ]
    },
    {
     "data": {
      "application/vnd.jupyter.widget-view+json": {
       "model_id": "69753365c5d64b6eba42c94aed8a5edf",
       "version_major": 2,
       "version_minor": 0
      },
      "text/plain": [
       "  0%|          | 0/230000.0 [00:00<?, ?it/s]"
      ]
     },
     "metadata": {},
     "output_type": "display_data"
    },
    {
     "name": "stdout",
     "output_type": "stream",
     "text": [
      "{'fdr': 0.0, 'tpr': 0.4473684210526316, 'fpr': 0.0, 'shd': 21, 'pred_size': 17, 'h1_dim': 10, 'lambda1': 0.005, 'lambda2': 0.005, 'lr': 0.02}\n"
     ]
    },
    {
     "data": {
      "application/vnd.jupyter.widget-view+json": {
       "model_id": "7db09dccfe924a77b133c01c6d1c3d64",
       "version_major": 2,
       "version_minor": 0
      },
      "text/plain": [
       "  0%|          | 0/230000.0 [00:00<?, ?it/s]"
      ]
     },
     "metadata": {},
     "output_type": "display_data"
    },
    {
     "name": "stdout",
     "output_type": "stream",
     "text": [
      "{'fdr': 0.0, 'tpr': 0.5365853658536586, 'fpr': 0.0, 'shd': 19, 'pred_size': 22, 'h1_dim': 10, 'lambda1': 0.005, 'lambda2': 0.01, 'lr': 0.005}\n"
     ]
    },
    {
     "data": {
      "application/vnd.jupyter.widget-view+json": {
       "model_id": "a01e0cb8449e4b96800db8b286c34753",
       "version_major": 2,
       "version_minor": 0
      },
      "text/plain": [
       "  0%|          | 0/230000.0 [00:00<?, ?it/s]"
      ]
     },
     "metadata": {},
     "output_type": "display_data"
    },
    {
     "name": "stdout",
     "output_type": "stream",
     "text": [
      "{'fdr': 0.0, 'tpr': 0.5625, 'fpr': 0.0, 'shd': 14, 'pred_size': 18, 'h1_dim': 10, 'lambda1': 0.005, 'lambda2': 0.01, 'lr': 0.01}\n"
     ]
    },
    {
     "data": {
      "application/vnd.jupyter.widget-view+json": {
       "model_id": "2bc27e7a328b4f4fa64e94e700c01280",
       "version_major": 2,
       "version_minor": 0
      },
      "text/plain": [
       "  0%|          | 0/230000.0 [00:00<?, ?it/s]"
      ]
     },
     "metadata": {},
     "output_type": "display_data"
    },
    {
     "name": "stdout",
     "output_type": "stream",
     "text": [
      "{'fdr': 0.043478260869565216, 'tpr': 0.7096774193548387, 'fpr': 0.006289308176100629, 'shd': 10, 'pred_size': 23, 'h1_dim': 10, 'lambda1': 0.005, 'lambda2': 0.01, 'lr': 0.02}\n"
     ]
    },
    {
     "data": {
      "application/vnd.jupyter.widget-view+json": {
       "model_id": "ea3637932b9343f2899d84eef173f5cf",
       "version_major": 2,
       "version_minor": 0
      },
      "text/plain": [
       "  0%|          | 0/230000.0 [00:00<?, ?it/s]"
      ]
     },
     "metadata": {},
     "output_type": "display_data"
    },
    {
     "name": "stdout",
     "output_type": "stream",
     "text": [
      "{'fdr': 0.15, 'tpr': 0.7083333333333334, 'fpr': 0.018072289156626505, 'shd': 9, 'pred_size': 20, 'h1_dim': 10, 'lambda1': 0.005, 'lambda2': 0.03, 'lr': 0.005}\n"
     ]
    },
    {
     "data": {
      "application/vnd.jupyter.widget-view+json": {
       "model_id": "4a0d7474e2ea44f4b480a81b51a4af0d",
       "version_major": 2,
       "version_minor": 0
      },
      "text/plain": [
       "  0%|          | 0/230000.0 [00:00<?, ?it/s]"
      ]
     },
     "metadata": {},
     "output_type": "display_data"
    },
    {
     "name": "stdout",
     "output_type": "stream",
     "text": [
      "{'fdr': 0.2857142857142857, 'tpr': 0.5357142857142857, 'fpr': 0.037037037037037035, 'shd': 19, 'pred_size': 21, 'h1_dim': 10, 'lambda1': 0.005, 'lambda2': 0.03, 'lr': 0.01}\n"
     ]
    },
    {
     "data": {
      "application/vnd.jupyter.widget-view+json": {
       "model_id": "eee01c7f109b48dbb6d83fb2f9c644d1",
       "version_major": 2,
       "version_minor": 0
      },
      "text/plain": [
       "  0%|          | 0/230000.0 [00:00<?, ?it/s]"
      ]
     },
     "metadata": {},
     "output_type": "display_data"
    },
    {
     "name": "stdout",
     "output_type": "stream",
     "text": [
      "{'fdr': 0.23529411764705882, 'tpr': 0.4642857142857143, 'fpr': 0.024691358024691357, 'shd': 17, 'pred_size': 17, 'h1_dim': 10, 'lambda1': 0.005, 'lambda2': 0.03, 'lr': 0.02}\n"
     ]
    },
    {
     "data": {
      "application/vnd.jupyter.widget-view+json": {
       "model_id": "d69da8aaaffe4e38a2a08a976040893a",
       "version_major": 2,
       "version_minor": 0
      },
      "text/plain": [
       "  0%|          | 0/230000.0 [00:00<?, ?it/s]"
      ]
     },
     "metadata": {},
     "output_type": "display_data"
    },
    {
     "name": "stdout",
     "output_type": "stream",
     "text": [
      "{'fdr': 0.17391304347826086, 'tpr': 0.7037037037037037, 'fpr': 0.024539877300613498, 'shd': 12, 'pred_size': 23, 'h1_dim': 10, 'lambda1': 0.005, 'lambda2': 0.05, 'lr': 0.005}\n"
     ]
    },
    {
     "data": {
      "application/vnd.jupyter.widget-view+json": {
       "model_id": "b6669fe38d5d40f88037c5c09c3a7670",
       "version_major": 2,
       "version_minor": 0
      },
      "text/plain": [
       "  0%|          | 0/230000.0 [00:00<?, ?it/s]"
      ]
     },
     "metadata": {},
     "output_type": "display_data"
    },
    {
     "name": "stdout",
     "output_type": "stream",
     "text": [
      "{'fdr': 0.42105263157894735, 'tpr': 0.6111111111111112, 'fpr': 0.046511627906976744, 'shd': 14, 'pred_size': 19, 'h1_dim': 10, 'lambda1': 0.005, 'lambda2': 0.05, 'lr': 0.01}\n"
     ]
    },
    {
     "data": {
      "application/vnd.jupyter.widget-view+json": {
       "model_id": "b5d9491fa47846c49b395e967a948f27",
       "version_major": 2,
       "version_minor": 0
      },
      "text/plain": [
       "  0%|          | 0/230000.0 [00:00<?, ?it/s]"
      ]
     },
     "metadata": {},
     "output_type": "display_data"
    },
    {
     "name": "stdout",
     "output_type": "stream",
     "text": [
      "{'fdr': 0.2777777777777778, 'tpr': 0.5, 'fpr': 0.03048780487804878, 'shd': 17, 'pred_size': 18, 'h1_dim': 10, 'lambda1': 0.005, 'lambda2': 0.05, 'lr': 0.02}\n"
     ]
    },
    {
     "data": {
      "application/vnd.jupyter.widget-view+json": {
       "model_id": "396849f120bd435196aa6fddae4db6d8",
       "version_major": 2,
       "version_minor": 0
      },
      "text/plain": [
       "  0%|          | 0/230000.0 [00:00<?, ?it/s]"
      ]
     },
     "metadata": {},
     "output_type": "display_data"
    },
    {
     "name": "stdout",
     "output_type": "stream",
     "text": [
      "{'fdr': 0.0, 'tpr': 0.6896551724137931, 'fpr': 0.0, 'shd': 9, 'pred_size': 20, 'h1_dim': 10, 'lambda1': 0.01, 'lambda2': 0.005, 'lr': 0.005}\n"
     ]
    },
    {
     "data": {
      "application/vnd.jupyter.widget-view+json": {
       "model_id": "bf8b7fcc3ede419397c89b2ab08b6389",
       "version_major": 2,
       "version_minor": 0
      },
      "text/plain": [
       "  0%|          | 0/230000.0 [00:00<?, ?it/s]"
      ]
     },
     "metadata": {},
     "output_type": "display_data"
    },
    {
     "name": "stdout",
     "output_type": "stream",
     "text": [
      "{'fdr': 0.06666666666666667, 'tpr': 0.8235294117647058, 'fpr': 0.005780346820809248, 'shd': 3, 'pred_size': 15, 'h1_dim': 10, 'lambda1': 0.01, 'lambda2': 0.005, 'lr': 0.01}\n"
     ]
    },
    {
     "data": {
      "application/vnd.jupyter.widget-view+json": {
       "model_id": "6a9ecab894574d98a55f23e6fa132a12",
       "version_major": 2,
       "version_minor": 0
      },
      "text/plain": [
       "  0%|          | 0/230000.0 [00:00<?, ?it/s]"
      ]
     },
     "metadata": {},
     "output_type": "display_data"
    },
    {
     "name": "stdout",
     "output_type": "stream",
     "text": [
      "{'fdr': 0.0, 'tpr': 0.6296296296296297, 'fpr': 0.0, 'shd': 10, 'pred_size': 17, 'h1_dim': 10, 'lambda1': 0.01, 'lambda2': 0.005, 'lr': 0.02}\n"
     ]
    },
    {
     "data": {
      "application/vnd.jupyter.widget-view+json": {
       "model_id": "c7d05100a07b4774b5c493adef717f85",
       "version_major": 2,
       "version_minor": 0
      },
      "text/plain": [
       "  0%|          | 0/230000.0 [00:00<?, ?it/s]"
      ]
     },
     "metadata": {},
     "output_type": "display_data"
    },
    {
     "name": "stdout",
     "output_type": "stream",
     "text": [
      "{'fdr': 0.09090909090909091, 'tpr': 0.7407407407407407, 'fpr': 0.012269938650306749, 'shd': 8, 'pred_size': 22, 'h1_dim': 10, 'lambda1': 0.01, 'lambda2': 0.01, 'lr': 0.005}\n"
     ]
    },
    {
     "data": {
      "application/vnd.jupyter.widget-view+json": {
       "model_id": "2ed8aaa0ec3f4f65bddf92d8fc3fb3af",
       "version_major": 2,
       "version_minor": 0
      },
      "text/plain": [
       "  0%|          | 0/230000.0 [00:00<?, ?it/s]"
      ]
     },
     "metadata": {},
     "output_type": "display_data"
    },
    {
     "name": "stdout",
     "output_type": "stream",
     "text": [
      "{'fdr': 0.0, 'tpr': 0.875, 'fpr': 0.0, 'shd': 3, 'pred_size': 21, 'h1_dim': 10, 'lambda1': 0.01, 'lambda2': 0.01, 'lr': 0.01}\n"
     ]
    },
    {
     "data": {
      "application/vnd.jupyter.widget-view+json": {
       "model_id": "e05d43695ce044e29c71d7c6fb7f14c9",
       "version_major": 2,
       "version_minor": 0
      },
      "text/plain": [
       "  0%|          | 0/230000.0 [00:00<?, ?it/s]"
      ]
     },
     "metadata": {},
     "output_type": "display_data"
    },
    {
     "name": "stdout",
     "output_type": "stream",
     "text": [
      "{'fdr': 0.14285714285714285, 'tpr': 0.6206896551724138, 'fpr': 0.018633540372670808, 'shd': 14, 'pred_size': 21, 'h1_dim': 10, 'lambda1': 0.01, 'lambda2': 0.01, 'lr': 0.02}\n"
     ]
    },
    {
     "data": {
      "application/vnd.jupyter.widget-view+json": {
       "model_id": "b52e6f3509894fe192ace3bdc91aa12b",
       "version_major": 2,
       "version_minor": 0
      },
      "text/plain": [
       "  0%|          | 0/230000.0 [00:00<?, ?it/s]"
      ]
     },
     "metadata": {},
     "output_type": "display_data"
    },
    {
     "name": "stdout",
     "output_type": "stream",
     "text": [
      "{'fdr': 0.1111111111111111, 'tpr': 0.7619047619047619, 'fpr': 0.011834319526627219, 'shd': 7, 'pred_size': 18, 'h1_dim': 10, 'lambda1': 0.01, 'lambda2': 0.03, 'lr': 0.005}\n"
     ]
    },
    {
     "data": {
      "application/vnd.jupyter.widget-view+json": {
       "model_id": "cf5ee90bdc22462186ee0f51a2e68a0b",
       "version_major": 2,
       "version_minor": 0
      },
      "text/plain": [
       "  0%|          | 0/230000.0 [00:00<?, ?it/s]"
      ]
     },
     "metadata": {},
     "output_type": "display_data"
    },
    {
     "name": "stdout",
     "output_type": "stream",
     "text": [
      "{'fdr': 0.375, 'tpr': 0.5555555555555556, 'fpr': 0.03488372093023256, 'shd': 13, 'pred_size': 16, 'h1_dim': 10, 'lambda1': 0.01, 'lambda2': 0.03, 'lr': 0.01}\n"
     ]
    },
    {
     "data": {
      "application/vnd.jupyter.widget-view+json": {
       "model_id": "987f8e118d964552a81501103f70e7e3",
       "version_major": 2,
       "version_minor": 0
      },
      "text/plain": [
       "  0%|          | 0/230000.0 [00:00<?, ?it/s]"
      ]
     },
     "metadata": {},
     "output_type": "display_data"
    },
    {
     "name": "stdout",
     "output_type": "stream",
     "text": [
      "{'fdr': 0.1875, 'tpr': 0.7222222222222222, 'fpr': 0.01744186046511628, 'shd': 8, 'pred_size': 16, 'h1_dim': 10, 'lambda1': 0.01, 'lambda2': 0.03, 'lr': 0.02}\n"
     ]
    },
    {
     "data": {
      "application/vnd.jupyter.widget-view+json": {
       "model_id": "dc2d38f6a85c42aba4011c254af26b76",
       "version_major": 2,
       "version_minor": 0
      },
      "text/plain": [
       "  0%|          | 0/230000.0 [00:00<?, ?it/s]"
      ]
     },
     "metadata": {},
     "output_type": "display_data"
    },
    {
     "name": "stdout",
     "output_type": "stream",
     "text": [
      "{'fdr': 0.35, 'tpr': 0.65, 'fpr': 0.041176470588235294, 'shd': 13, 'pred_size': 20, 'h1_dim': 10, 'lambda1': 0.01, 'lambda2': 0.05, 'lr': 0.005}\n"
     ]
    },
    {
     "data": {
      "application/vnd.jupyter.widget-view+json": {
       "model_id": "dee1c759aefd444a892a5984f1b631aa",
       "version_major": 2,
       "version_minor": 0
      },
      "text/plain": [
       "  0%|          | 0/230000.0 [00:00<?, ?it/s]"
      ]
     },
     "metadata": {},
     "output_type": "display_data"
    },
    {
     "name": "stdout",
     "output_type": "stream",
     "text": [
      "{'fdr': 0.5789473684210527, 'tpr': 0.4, 'fpr': 0.06470588235294118, 'shd': 20, 'pred_size': 19, 'h1_dim': 10, 'lambda1': 0.01, 'lambda2': 0.05, 'lr': 0.01}\n"
     ]
    },
    {
     "data": {
      "application/vnd.jupyter.widget-view+json": {
       "model_id": "69501e08ff3d4fb6947f83a1add72dc2",
       "version_major": 2,
       "version_minor": 0
      },
      "text/plain": [
       "  0%|          | 0/230000.0 [00:00<?, ?it/s]"
      ]
     },
     "metadata": {},
     "output_type": "display_data"
    },
    {
     "name": "stdout",
     "output_type": "stream",
     "text": [
      "{'fdr': 0.2222222222222222, 'tpr': 0.8235294117647058, 'fpr': 0.023121387283236993, 'shd': 7, 'pred_size': 18, 'h1_dim': 10, 'lambda1': 0.01, 'lambda2': 0.05, 'lr': 0.02}\n"
     ]
    },
    {
     "data": {
      "application/vnd.jupyter.widget-view+json": {
       "model_id": "29d9b6e9084143cda34ba99bc019b11c",
       "version_major": 2,
       "version_minor": 0
      },
      "text/plain": [
       "  0%|          | 0/230000.0 [00:00<?, ?it/s]"
      ]
     },
     "metadata": {},
     "output_type": "display_data"
    },
    {
     "name": "stdout",
     "output_type": "stream",
     "text": [
      "{'fdr': 0.1111111111111111, 'tpr': 0.7619047619047619, 'fpr': 0.011834319526627219, 'shd': 5, 'pred_size': 18, 'h1_dim': 10, 'lambda1': 0.02, 'lambda2': 0.005, 'lr': 0.005}\n"
     ]
    },
    {
     "data": {
      "application/vnd.jupyter.widget-view+json": {
       "model_id": "ebe7afb87b8c48969aac7fa7e6b017f2",
       "version_major": 2,
       "version_minor": 0
      },
      "text/plain": [
       "  0%|          | 0/230000.0 [00:00<?, ?it/s]"
      ]
     },
     "metadata": {},
     "output_type": "display_data"
    },
    {
     "name": "stdout",
     "output_type": "stream",
     "text": [
      "{'fdr': 0.4375, 'tpr': 0.8181818181818182, 'fpr': 0.03910614525139665, 'shd': 9, 'pred_size': 16, 'h1_dim': 10, 'lambda1': 0.02, 'lambda2': 0.005, 'lr': 0.01}\n"
     ]
    },
    {
     "data": {
      "application/vnd.jupyter.widget-view+json": {
       "model_id": "beec0e1ea4da4559ba499da33804632b",
       "version_major": 2,
       "version_minor": 0
      },
      "text/plain": [
       "  0%|          | 0/230000.0 [00:00<?, ?it/s]"
      ]
     },
     "metadata": {},
     "output_type": "display_data"
    },
    {
     "name": "stdout",
     "output_type": "stream",
     "text": [
      "{'fdr': 0.05263157894736842, 'tpr': 0.9473684210526315, 'fpr': 0.005847953216374269, 'shd': 2, 'pred_size': 19, 'h1_dim': 10, 'lambda1': 0.02, 'lambda2': 0.005, 'lr': 0.02}\n"
     ]
    },
    {
     "data": {
      "application/vnd.jupyter.widget-view+json": {
       "model_id": "73cd3463323e447385edce5eccdd9882",
       "version_major": 2,
       "version_minor": 0
      },
      "text/plain": [
       "  0%|          | 0/230000.0 [00:00<?, ?it/s]"
      ]
     },
     "metadata": {},
     "output_type": "display_data"
    },
    {
     "name": "stdout",
     "output_type": "stream",
     "text": [
      "{'fdr': 0.058823529411764705, 'tpr': 0.9411764705882353, 'fpr': 0.005780346820809248, 'shd': 2, 'pred_size': 17, 'h1_dim': 10, 'lambda1': 0.02, 'lambda2': 0.01, 'lr': 0.005}\n"
     ]
    },
    {
     "data": {
      "application/vnd.jupyter.widget-view+json": {
       "model_id": "f4433c15803348feb41964deade09551",
       "version_major": 2,
       "version_minor": 0
      },
      "text/plain": [
       "  0%|          | 0/230000.0 [00:00<?, ?it/s]"
      ]
     },
     "metadata": {},
     "output_type": "display_data"
    },
    {
     "name": "stdout",
     "output_type": "stream",
     "text": [
      "{'fdr': 0.09523809523809523, 'tpr': 0.8636363636363636, 'fpr': 0.011904761904761904, 'shd': 4, 'pred_size': 21, 'h1_dim': 10, 'lambda1': 0.02, 'lambda2': 0.01, 'lr': 0.01}\n"
     ]
    },
    {
     "data": {
      "application/vnd.jupyter.widget-view+json": {
       "model_id": "ad435cd5ca8843859eb8940a5698ff13",
       "version_major": 2,
       "version_minor": 0
      },
      "text/plain": [
       "  0%|          | 0/230000.0 [00:00<?, ?it/s]"
      ]
     },
     "metadata": {},
     "output_type": "display_data"
    },
    {
     "name": "stdout",
     "output_type": "stream",
     "text": [
      "{'fdr': 0.06666666666666667, 'tpr': 0.7777777777777778, 'fpr': 0.005813953488372093, 'shd': 5, 'pred_size': 15, 'h1_dim': 10, 'lambda1': 0.02, 'lambda2': 0.01, 'lr': 0.02}\n"
     ]
    },
    {
     "data": {
      "application/vnd.jupyter.widget-view+json": {
       "model_id": "86145b4403cf4afaa095a33d2e00b10a",
       "version_major": 2,
       "version_minor": 0
      },
      "text/plain": [
       "  0%|          | 0/230000.0 [00:00<?, ?it/s]"
      ]
     },
     "metadata": {},
     "output_type": "display_data"
    },
    {
     "name": "stdout",
     "output_type": "stream",
     "text": [
      "{'fdr': 0.21052631578947367, 'tpr': 0.8333333333333334, 'fpr': 0.023255813953488372, 'shd': 7, 'pred_size': 19, 'h1_dim': 10, 'lambda1': 0.02, 'lambda2': 0.03, 'lr': 0.005}\n"
     ]
    },
    {
     "data": {
      "application/vnd.jupyter.widget-view+json": {
       "model_id": "e6c3bee3e5124f0ca0cc0befbc085e4c",
       "version_major": 2,
       "version_minor": 0
      },
      "text/plain": [
       "  0%|          | 0/230000.0 [00:00<?, ?it/s]"
      ]
     },
     "metadata": {},
     "output_type": "display_data"
    },
    {
     "name": "stdout",
     "output_type": "stream",
     "text": [
      "{'fdr': 0.34782608695652173, 'tpr': 0.7142857142857143, 'fpr': 0.047337278106508875, 'shd': 13, 'pred_size': 23, 'h1_dim': 10, 'lambda1': 0.02, 'lambda2': 0.03, 'lr': 0.01}\n"
     ]
    },
    {
     "data": {
      "application/vnd.jupyter.widget-view+json": {
       "model_id": "b7958ddc84de4551a132cf95d63ad115",
       "version_major": 2,
       "version_minor": 0
      },
      "text/plain": [
       "  0%|          | 0/230000.0 [00:00<?, ?it/s]"
      ]
     },
     "metadata": {},
     "output_type": "display_data"
    },
    {
     "name": "stdout",
     "output_type": "stream",
     "text": [
      "{'fdr': 0.3125, 'tpr': 0.55, 'fpr': 0.029411764705882353, 'shd': 11, 'pred_size': 16, 'h1_dim': 10, 'lambda1': 0.02, 'lambda2': 0.03, 'lr': 0.02}\n"
     ]
    },
    {
     "data": {
      "application/vnd.jupyter.widget-view+json": {
       "model_id": "8668c6e22abc4cb9900287788b70a833",
       "version_major": 2,
       "version_minor": 0
      },
      "text/plain": [
       "  0%|          | 0/230000.0 [00:00<?, ?it/s]"
      ]
     },
     "metadata": {},
     "output_type": "display_data"
    },
    {
     "name": "stdout",
     "output_type": "stream",
     "text": [
      "{'fdr': 0.6470588235294118, 'tpr': 0.5454545454545454, 'fpr': 0.061452513966480445, 'shd': 16, 'pred_size': 17, 'h1_dim': 10, 'lambda1': 0.02, 'lambda2': 0.05, 'lr': 0.005}\n"
     ]
    },
    {
     "data": {
      "application/vnd.jupyter.widget-view+json": {
       "model_id": "abd0e049b9994dafbdfe3b346dbb7d65",
       "version_major": 2,
       "version_minor": 0
      },
      "text/plain": [
       "  0%|          | 0/230000.0 [00:00<?, ?it/s]"
      ]
     },
     "metadata": {},
     "output_type": "display_data"
    },
    {
     "name": "stdout",
     "output_type": "stream",
     "text": [
      "{'fdr': 0.4, 'tpr': 0.6, 'fpr': 0.03428571428571429, 'shd': 12, 'pred_size': 15, 'h1_dim': 10, 'lambda1': 0.02, 'lambda2': 0.05, 'lr': 0.01}\n"
     ]
    },
    {
     "data": {
      "application/vnd.jupyter.widget-view+json": {
       "model_id": "df87b4ff73594c68b7393448b1b336f1",
       "version_major": 2,
       "version_minor": 0
      },
      "text/plain": [
       "  0%|          | 0/230000.0 [00:00<?, ?it/s]"
      ]
     },
     "metadata": {},
     "output_type": "display_data"
    },
    {
     "name": "stdout",
     "output_type": "stream",
     "text": [
      "{'fdr': 0.6521739130434783, 'tpr': 0.6153846153846154, 'fpr': 0.0847457627118644, 'shd': 18, 'pred_size': 23, 'h1_dim': 10, 'lambda1': 0.02, 'lambda2': 0.05, 'lr': 0.02}\n"
     ]
    },
    {
     "data": {
      "application/vnd.jupyter.widget-view+json": {
       "model_id": "e4a10f818b02494a92020d362940986e",
       "version_major": 2,
       "version_minor": 0
      },
      "text/plain": [
       "  0%|          | 0/230000.0 [00:00<?, ?it/s]"
      ]
     },
     "metadata": {},
     "output_type": "display_data"
    },
    {
     "name": "stdout",
     "output_type": "stream",
     "text": [
      "{'fdr': 0.21739130434782608, 'tpr': 1.0, 'fpr': 0.029069767441860465, 'shd': 5, 'pred_size': 23, 'h1_dim': 10, 'lambda1': 0.05, 'lambda2': 0.005, 'lr': 0.005}\n"
     ]
    },
    {
     "data": {
      "application/vnd.jupyter.widget-view+json": {
       "model_id": "a3afaba4f8044fe381e7f680041199d9",
       "version_major": 2,
       "version_minor": 0
      },
      "text/plain": [
       "  0%|          | 0/230000.0 [00:00<?, ?it/s]"
      ]
     },
     "metadata": {},
     "output_type": "display_data"
    },
    {
     "name": "stdout",
     "output_type": "stream",
     "text": [
      "{'fdr': 0.3125, 'tpr': 1.0, 'fpr': 0.027932960893854747, 'shd': 5, 'pred_size': 16, 'h1_dim': 10, 'lambda1': 0.05, 'lambda2': 0.005, 'lr': 0.01}\n"
     ]
    },
    {
     "data": {
      "application/vnd.jupyter.widget-view+json": {
       "model_id": "3efdee48b5c042ddbaf5ffdabcf2e16f",
       "version_major": 2,
       "version_minor": 0
      },
      "text/plain": [
       "  0%|          | 0/230000.0 [00:00<?, ?it/s]"
      ]
     },
     "metadata": {},
     "output_type": "display_data"
    },
    {
     "name": "stdout",
     "output_type": "stream",
     "text": [
      "{'fdr': 0.25, 'tpr': 0.9375, 'fpr': 0.028735632183908046, 'shd': 6, 'pred_size': 20, 'h1_dim': 10, 'lambda1': 0.05, 'lambda2': 0.005, 'lr': 0.02}\n"
     ]
    },
    {
     "data": {
      "application/vnd.jupyter.widget-view+json": {
       "model_id": "afbe37ed0ae84968ba8a57ab43e09f01",
       "version_major": 2,
       "version_minor": 0
      },
      "text/plain": [
       "  0%|          | 0/230000.0 [00:00<?, ?it/s]"
      ]
     },
     "metadata": {},
     "output_type": "display_data"
    },
    {
     "name": "stdout",
     "output_type": "stream",
     "text": [
      "{'fdr': 0.3, 'tpr': 0.9333333333333333, 'fpr': 0.03428571428571429, 'shd': 7, 'pred_size': 20, 'h1_dim': 10, 'lambda1': 0.05, 'lambda2': 0.01, 'lr': 0.005}\n"
     ]
    },
    {
     "data": {
      "application/vnd.jupyter.widget-view+json": {
       "model_id": "9d334f6b96334409bb9d070025048173",
       "version_major": 2,
       "version_minor": 0
      },
      "text/plain": [
       "  0%|          | 0/230000.0 [00:00<?, ?it/s]"
      ]
     },
     "metadata": {},
     "output_type": "display_data"
    },
    {
     "name": "stdout",
     "output_type": "stream",
     "text": [
      "{'fdr': 0.5294117647058824, 'tpr': 0.8888888888888888, 'fpr': 0.049723756906077346, 'shd': 9, 'pred_size': 17, 'h1_dim': 10, 'lambda1': 0.05, 'lambda2': 0.01, 'lr': 0.01}\n"
     ]
    },
    {
     "data": {
      "application/vnd.jupyter.widget-view+json": {
       "model_id": "a2ee4163a15d481a854b149d86819336",
       "version_major": 2,
       "version_minor": 0
      },
      "text/plain": [
       "  0%|          | 0/230000.0 [00:00<?, ?it/s]"
      ]
     },
     "metadata": {},
     "output_type": "display_data"
    },
    {
     "name": "stdout",
     "output_type": "stream",
     "text": [
      "{'fdr': 0.4444444444444444, 'tpr': 0.7692307692307693, 'fpr': 0.04519774011299435, 'shd': 11, 'pred_size': 18, 'h1_dim': 10, 'lambda1': 0.05, 'lambda2': 0.01, 'lr': 0.02}\n"
     ]
    },
    {
     "data": {
      "application/vnd.jupyter.widget-view+json": {
       "model_id": "de43471b23c341efa6458f9f11cbd4ac",
       "version_major": 2,
       "version_minor": 0
      },
      "text/plain": [
       "  0%|          | 0/230000.0 [00:00<?, ?it/s]"
      ]
     },
     "metadata": {},
     "output_type": "display_data"
    },
    {
     "name": "stdout",
     "output_type": "stream",
     "text": [
      "{'fdr': 0.47058823529411764, 'tpr': 0.8181818181818182, 'fpr': 0.0446927374301676, 'shd': 10, 'pred_size': 17, 'h1_dim': 10, 'lambda1': 0.05, 'lambda2': 0.03, 'lr': 0.005}\n"
     ]
    },
    {
     "data": {
      "application/vnd.jupyter.widget-view+json": {
       "model_id": "3ec2adb2e5fe440e8762134d97b79c53",
       "version_major": 2,
       "version_minor": 0
      },
      "text/plain": [
       "  0%|          | 0/230000.0 [00:00<?, ?it/s]"
      ]
     },
     "metadata": {},
     "output_type": "display_data"
    },
    {
     "name": "stdout",
     "output_type": "stream",
     "text": [
      "{'fdr': 0.8, 'tpr': 0.5, 'fpr': 0.06521739130434782, 'shd': 14, 'pred_size': 15, 'h1_dim': 10, 'lambda1': 0.05, 'lambda2': 0.03, 'lr': 0.01}\n"
     ]
    },
    {
     "data": {
      "application/vnd.jupyter.widget-view+json": {
       "model_id": "87f4891462034874b743cfa868998c50",
       "version_major": 2,
       "version_minor": 0
      },
      "text/plain": [
       "  0%|          | 0/230000.0 [00:00<?, ?it/s]"
      ]
     },
     "metadata": {},
     "output_type": "display_data"
    },
    {
     "name": "stdout",
     "output_type": "stream",
     "text": [
      "{'fdr': 0.6875, 'tpr': 0.5555555555555556, 'fpr': 0.06077348066298342, 'shd': 14, 'pred_size': 16, 'h1_dim': 10, 'lambda1': 0.05, 'lambda2': 0.03, 'lr': 0.02}\n"
     ]
    },
    {
     "data": {
      "application/vnd.jupyter.widget-view+json": {
       "model_id": "8d255a4450194dac8bc36f4f5856053c",
       "version_major": 2,
       "version_minor": 0
      },
      "text/plain": [
       "  0%|          | 0/230000.0 [00:00<?, ?it/s]"
      ]
     },
     "metadata": {},
     "output_type": "display_data"
    },
    {
     "name": "stdout",
     "output_type": "stream",
     "text": [
      "{'fdr': 0.5555555555555556, 'tpr': 0.5714285714285714, 'fpr': 0.056818181818181816, 'shd': 15, 'pred_size': 18, 'h1_dim': 10, 'lambda1': 0.05, 'lambda2': 0.05, 'lr': 0.005}\n"
     ]
    },
    {
     "data": {
      "application/vnd.jupyter.widget-view+json": {
       "model_id": "b8b87a60cc324190b2f35edba86c2e42",
       "version_major": 2,
       "version_minor": 0
      },
      "text/plain": [
       "  0%|          | 0/230000.0 [00:00<?, ?it/s]"
      ]
     },
     "metadata": {},
     "output_type": "display_data"
    },
    {
     "name": "stdout",
     "output_type": "stream",
     "text": [
      "{'fdr': 0.9411764705882353, 'tpr': 0.2, 'fpr': 0.08648648648648649, 'shd': 19, 'pred_size': 17, 'h1_dim': 10, 'lambda1': 0.05, 'lambda2': 0.05, 'lr': 0.01}\n"
     ]
    },
    {
     "data": {
      "application/vnd.jupyter.widget-view+json": {
       "model_id": "1e06a4f0dc464b43bbf5ef8aee0eaaad",
       "version_major": 2,
       "version_minor": 0
      },
      "text/plain": [
       "  0%|          | 0/230000.0 [00:00<?, ?it/s]"
      ]
     },
     "metadata": {},
     "output_type": "display_data"
    },
    {
     "name": "stdout",
     "output_type": "stream",
     "text": [
      "{'fdr': 0.8636363636363636, 'tpr': 0.3, 'fpr': 0.10555555555555556, 'shd': 23, 'pred_size': 22, 'h1_dim': 10, 'lambda1': 0.05, 'lambda2': 0.05, 'lr': 0.02}\n"
     ]
    },
    {
     "data": {
      "application/vnd.jupyter.widget-view+json": {
       "model_id": "22e4d20eae0b4daf8d53618305e858ff",
       "version_major": 2,
       "version_minor": 0
      },
      "text/plain": [
       "  0%|          | 0/230000.0 [00:00<?, ?it/s]"
      ]
     },
     "metadata": {},
     "output_type": "display_data"
    },
    {
     "name": "stdout",
     "output_type": "stream",
     "text": [
      "{'fdr': 0.2777777777777778, 'tpr': 1.0, 'fpr': 0.02824858757062147, 'shd': 5, 'pred_size': 18, 'h1_dim': 10, 'lambda1': 0.1, 'lambda2': 0.005, 'lr': 0.005}\n"
     ]
    },
    {
     "data": {
      "application/vnd.jupyter.widget-view+json": {
       "model_id": "9fb7cfd3051e4fe2a5cb952028b6c33c",
       "version_major": 2,
       "version_minor": 0
      },
      "text/plain": [
       "  0%|          | 0/230000.0 [00:00<?, ?it/s]"
      ]
     },
     "metadata": {},
     "output_type": "display_data"
    },
    {
     "name": "stdout",
     "output_type": "stream",
     "text": [
      "{'fdr': 0.6875, 'tpr': 0.8333333333333334, 'fpr': 0.059782608695652176, 'shd': 11, 'pred_size': 16, 'h1_dim': 10, 'lambda1': 0.1, 'lambda2': 0.005, 'lr': 0.01}\n"
     ]
    },
    {
     "data": {
      "application/vnd.jupyter.widget-view+json": {
       "model_id": "6b295ef52e4d4b67b86dc5769cc032ac",
       "version_major": 2,
       "version_minor": 0
      },
      "text/plain": [
       "  0%|          | 0/230000.0 [00:00<?, ?it/s]"
      ]
     },
     "metadata": {},
     "output_type": "display_data"
    },
    {
     "name": "stdout",
     "output_type": "stream",
     "text": [
      "{'fdr': 0.18181818181818182, 'tpr': 1.0, 'fpr': 0.023255813953488372, 'shd': 4, 'pred_size': 22, 'h1_dim': 10, 'lambda1': 0.1, 'lambda2': 0.005, 'lr': 0.02}\n"
     ]
    },
    {
     "data": {
      "application/vnd.jupyter.widget-view+json": {
       "model_id": "4f5f8a2f5a3a43dc894d2597a5c062b9",
       "version_major": 2,
       "version_minor": 0
      },
      "text/plain": [
       "  0%|          | 0/230000.0 [00:00<?, ?it/s]"
      ]
     },
     "metadata": {},
     "output_type": "display_data"
    },
    {
     "name": "stdout",
     "output_type": "stream",
     "text": [
      "{'fdr': 0.5, 'tpr': 0.875, 'fpr': 0.038461538461538464, 'shd': 7, 'pred_size': 14, 'h1_dim': 10, 'lambda1': 0.1, 'lambda2': 0.01, 'lr': 0.005}\n"
     ]
    },
    {
     "data": {
      "application/vnd.jupyter.widget-view+json": {
       "model_id": "4ae4775fc237460ba33bdc4e9c0024aa",
       "version_major": 2,
       "version_minor": 0
      },
      "text/plain": [
       "  0%|          | 0/230000.0 [00:00<?, ?it/s]"
      ]
     },
     "metadata": {},
     "output_type": "display_data"
    },
    {
     "name": "stdout",
     "output_type": "stream",
     "text": [
      "{'fdr': 0.6470588235294118, 'tpr': 1.0, 'fpr': 0.059782608695652176, 'shd': 11, 'pred_size': 17, 'h1_dim': 10, 'lambda1': 0.1, 'lambda2': 0.01, 'lr': 0.01}\n"
     ]
    },
    {
     "data": {
      "application/vnd.jupyter.widget-view+json": {
       "model_id": "d8e37e67ebf84b5a824f778c72b9effe",
       "version_major": 2,
       "version_minor": 0
      },
      "text/plain": [
       "  0%|          | 0/230000.0 [00:00<?, ?it/s]"
      ]
     },
     "metadata": {},
     "output_type": "display_data"
    },
    {
     "name": "stdout",
     "output_type": "stream",
     "text": [
      "{'fdr': 0.5263157894736842, 'tpr': 0.9, 'fpr': 0.05555555555555555, 'shd': 10, 'pred_size': 19, 'h1_dim': 10, 'lambda1': 0.1, 'lambda2': 0.01, 'lr': 0.02}\n"
     ]
    },
    {
     "data": {
      "application/vnd.jupyter.widget-view+json": {
       "model_id": "191b556c7b8a48539b46264033c23ecf",
       "version_major": 2,
       "version_minor": 0
      },
      "text/plain": [
       "  0%|          | 0/230000.0 [00:00<?, ?it/s]"
      ]
     },
     "metadata": {},
     "output_type": "display_data"
    },
    {
     "name": "stdout",
     "output_type": "stream",
     "text": [
      "{'fdr': 0.375, 'tpr': 0.8333333333333334, 'fpr': 0.033707865168539325, 'shd': 8, 'pred_size': 16, 'h1_dim': 10, 'lambda1': 0.1, 'lambda2': 0.03, 'lr': 0.005}\n"
     ]
    },
    {
     "data": {
      "application/vnd.jupyter.widget-view+json": {
       "model_id": "804323d2ac4f4dfb850157de1ff0f68b",
       "version_major": 2,
       "version_minor": 0
      },
      "text/plain": [
       "  0%|          | 0/230000.0 [00:00<?, ?it/s]"
      ]
     },
     "metadata": {},
     "output_type": "display_data"
    },
    {
     "name": "stdout",
     "output_type": "stream",
     "text": [
      "{'fdr': 1.0, 'tpr': 0.0, 'fpr': 0.11290322580645161, 'shd': 22, 'pred_size': 21, 'h1_dim': 10, 'lambda1': 0.1, 'lambda2': 0.03, 'lr': 0.01}\n"
     ]
    },
    {
     "data": {
      "application/vnd.jupyter.widget-view+json": {
       "model_id": "05384a9edad849a8890d397cbbad56d7",
       "version_major": 2,
       "version_minor": 0
      },
      "text/plain": [
       "  0%|          | 0/230000.0 [00:00<?, ?it/s]"
      ]
     },
     "metadata": {},
     "output_type": "display_data"
    },
    {
     "name": "stdout",
     "output_type": "stream",
     "text": [
      "{'fdr': 1.0, 'tpr': 0.0, 'fpr': 0.0851063829787234, 'shd': 16, 'pred_size': 16, 'h1_dim': 10, 'lambda1': 0.1, 'lambda2': 0.03, 'lr': 0.02}\n"
     ]
    },
    {
     "data": {
      "application/vnd.jupyter.widget-view+json": {
       "model_id": "f00127eb33fe4999ba3e297209e17bd0",
       "version_major": 2,
       "version_minor": 0
      },
      "text/plain": [
       "  0%|          | 0/230000.0 [00:00<?, ?it/s]"
      ]
     },
     "metadata": {},
     "output_type": "display_data"
    },
    {
     "name": "stdout",
     "output_type": "stream",
     "text": [
      "{'fdr': 0.8125, 'tpr': 0.6, 'fpr': 0.07027027027027027, 'shd': 14, 'pred_size': 16, 'h1_dim': 10, 'lambda1': 0.1, 'lambda2': 0.05, 'lr': 0.005}\n"
     ]
    },
    {
     "data": {
      "application/vnd.jupyter.widget-view+json": {
       "model_id": "16987463549a42589d050726f25cb008",
       "version_major": 2,
       "version_minor": 0
      },
      "text/plain": [
       "  0%|          | 0/230000.0 [00:00<?, ?it/s]"
      ]
     },
     "metadata": {},
     "output_type": "display_data"
    },
    {
     "name": "stdout",
     "output_type": "stream",
     "text": [
      "{'fdr': 0.9130434782608695, 'tpr': 0.4, 'fpr': 0.11351351351351352, 'shd': 23, 'pred_size': 23, 'h1_dim': 10, 'lambda1': 0.1, 'lambda2': 0.05, 'lr': 0.01}\n"
     ]
    },
    {
     "data": {
      "application/vnd.jupyter.widget-view+json": {
       "model_id": "25d2f9cc2cc246bca47fab2f9c54fb4d",
       "version_major": 2,
       "version_minor": 0
      },
      "text/plain": [
       "  0%|          | 0/230000.0 [00:00<?, ?it/s]"
      ]
     },
     "metadata": {},
     "output_type": "display_data"
    },
    {
     "name": "stdout",
     "output_type": "stream",
     "text": [
      "{'fdr': 1.0, 'tpr': 0.0, 'fpr': 0.11764705882352941, 'shd': 24, 'pred_size': 22, 'h1_dim': 10, 'lambda1': 0.1, 'lambda2': 0.05, 'lr': 0.02}\n"
     ]
    },
    {
     "data": {
      "application/vnd.jupyter.widget-view+json": {
       "model_id": "3f9681160c6f4695ad282e2d7c66fcc4",
       "version_major": 2,
       "version_minor": 0
      },
      "text/plain": [
       "  0%|          | 0/230000.0 [00:00<?, ?it/s]"
      ]
     },
     "metadata": {},
     "output_type": "display_data"
    },
    {
     "name": "stdout",
     "output_type": "stream",
     "text": [
      "{'fdr': 0.0, 'tpr': 0.4222222222222222, 'fpr': 0.0, 'shd': 26, 'pred_size': 19, 'h1_dim': 20, 'lambda1': 0.005, 'lambda2': 0.005, 'lr': 0.005}\n"
     ]
    },
    {
     "data": {
      "application/vnd.jupyter.widget-view+json": {
       "model_id": "1bbb3e1a1f4949dead96c0bca1dc7f26",
       "version_major": 2,
       "version_minor": 0
      },
      "text/plain": [
       "  0%|          | 0/230000.0 [00:00<?, ?it/s]"
      ]
     },
     "metadata": {},
     "output_type": "display_data"
    },
    {
     "name": "stdout",
     "output_type": "stream",
     "text": [
      "{'fdr': 0.2, 'tpr': 0.3404255319148936, 'fpr': 0.027972027972027972, 'shd': 31, 'pred_size': 20, 'h1_dim': 20, 'lambda1': 0.005, 'lambda2': 0.005, 'lr': 0.01}\n"
     ]
    },
    {
     "data": {
      "application/vnd.jupyter.widget-view+json": {
       "model_id": "66a6ee31d988400993cff7e91c06e6b3",
       "version_major": 2,
       "version_minor": 0
      },
      "text/plain": [
       "  0%|          | 0/230000.0 [00:00<?, ?it/s]"
      ]
     },
     "metadata": {},
     "output_type": "display_data"
    },
    {
     "name": "stdout",
     "output_type": "stream",
     "text": [
      "{'fdr': 0.047619047619047616, 'tpr': 0.46511627906976744, 'fpr': 0.006802721088435374, 'shd': 23, 'pred_size': 21, 'h1_dim': 20, 'lambda1': 0.005, 'lambda2': 0.005, 'lr': 0.02}\n"
     ]
    },
    {
     "data": {
      "application/vnd.jupyter.widget-view+json": {
       "model_id": "88d9950dc86a4ab4ac32301aeab2ba30",
       "version_major": 2,
       "version_minor": 0
      },
      "text/plain": [
       "  0%|          | 0/230000.0 [00:00<?, ?it/s]"
      ]
     },
     "metadata": {},
     "output_type": "display_data"
    },
    {
     "name": "stdout",
     "output_type": "stream",
     "text": [
      "{'fdr': 0.0, 'tpr': 0.6571428571428571, 'fpr': 0.0, 'shd': 12, 'pred_size': 23, 'h1_dim': 20, 'lambda1': 0.005, 'lambda2': 0.01, 'lr': 0.005}\n"
     ]
    },
    {
     "data": {
      "application/vnd.jupyter.widget-view+json": {
       "model_id": "1f5da891160c41ccaf15fcd312de0f25",
       "version_major": 2,
       "version_minor": 0
      },
      "text/plain": [
       "  0%|          | 0/230000.0 [00:00<?, ?it/s]"
      ]
     },
     "metadata": {},
     "output_type": "display_data"
    },
    {
     "name": "stdout",
     "output_type": "stream",
     "text": [
      "{'fdr': 0.041666666666666664, 'tpr': 0.5111111111111111, 'fpr': 0.006896551724137931, 'shd': 22, 'pred_size': 24, 'h1_dim': 20, 'lambda1': 0.005, 'lambda2': 0.01, 'lr': 0.01}\n"
     ]
    },
    {
     "data": {
      "application/vnd.jupyter.widget-view+json": {
       "model_id": "1be0a83e995c4a3fa547aea16bd4af48",
       "version_major": 2,
       "version_minor": 0
      },
      "text/plain": [
       "  0%|          | 0/230000.0 [00:00<?, ?it/s]"
      ]
     },
     "metadata": {},
     "output_type": "display_data"
    },
    {
     "name": "stdout",
     "output_type": "stream",
     "text": [
      "{'fdr': 0.23529411764705882, 'tpr': 0.40625, 'fpr': 0.02531645569620253, 'shd': 22, 'pred_size': 17, 'h1_dim': 20, 'lambda1': 0.005, 'lambda2': 0.01, 'lr': 0.02}\n"
     ]
    },
    {
     "data": {
      "application/vnd.jupyter.widget-view+json": {
       "model_id": "a049e9f3ca144fad8c14a8985f30cfb1",
       "version_major": 2,
       "version_minor": 0
      },
      "text/plain": [
       "  0%|          | 0/230000.0 [00:00<?, ?it/s]"
      ]
     },
     "metadata": {},
     "output_type": "display_data"
    },
    {
     "name": "stdout",
     "output_type": "stream",
     "text": [
      "{'fdr': 0.15789473684210525, 'tpr': 0.6153846153846154, 'fpr': 0.018292682926829267, 'shd': 13, 'pred_size': 19, 'h1_dim': 20, 'lambda1': 0.005, 'lambda2': 0.03, 'lr': 0.005}\n"
     ]
    },
    {
     "data": {
      "application/vnd.jupyter.widget-view+json": {
       "model_id": "fecac12df014431d96320bbda2ebd807",
       "version_major": 2,
       "version_minor": 0
      },
      "text/plain": [
       "  0%|          | 0/230000.0 [00:00<?, ?it/s]"
      ]
     },
     "metadata": {},
     "output_type": "display_data"
    },
    {
     "name": "stdout",
     "output_type": "stream",
     "text": [
      "{'fdr': 0.25, 'tpr': 0.5555555555555556, 'fpr': 0.03067484662576687, 'shd': 15, 'pred_size': 20, 'h1_dim': 20, 'lambda1': 0.005, 'lambda2': 0.03, 'lr': 0.01}\n"
     ]
    },
    {
     "data": {
      "application/vnd.jupyter.widget-view+json": {
       "model_id": "c14893deacba4fff91d09726a285040d",
       "version_major": 2,
       "version_minor": 0
      },
      "text/plain": [
       "  0%|          | 0/230000.0 [00:00<?, ?it/s]"
      ]
     },
     "metadata": {},
     "output_type": "display_data"
    },
    {
     "name": "stdout",
     "output_type": "stream",
     "text": [
      "{'fdr': 0.35, 'tpr': 0.7222222222222222, 'fpr': 0.040697674418604654, 'shd': 10, 'pred_size': 20, 'h1_dim': 20, 'lambda1': 0.005, 'lambda2': 0.03, 'lr': 0.02}\n"
     ]
    },
    {
     "data": {
      "application/vnd.jupyter.widget-view+json": {
       "model_id": "d83eb7c23dbc4597baf479a30881c0c0",
       "version_major": 2,
       "version_minor": 0
      },
      "text/plain": [
       "  0%|          | 0/230000.0 [00:00<?, ?it/s]"
      ]
     },
     "metadata": {},
     "output_type": "display_data"
    },
    {
     "name": "stdout",
     "output_type": "stream",
     "text": [
      "{'fdr': 0.2777777777777778, 'tpr': 0.5909090909090909, 'fpr': 0.02976190476190476, 'shd': 13, 'pred_size': 18, 'h1_dim': 20, 'lambda1': 0.005, 'lambda2': 0.05, 'lr': 0.005}\n"
     ]
    },
    {
     "data": {
      "application/vnd.jupyter.widget-view+json": {
       "model_id": "5436c95f5eef46c98662163407e0a098",
       "version_major": 2,
       "version_minor": 0
      },
      "text/plain": [
       "  0%|          | 0/230000.0 [00:00<?, ?it/s]"
      ]
     },
     "metadata": {},
     "output_type": "display_data"
    },
    {
     "name": "stdout",
     "output_type": "stream",
     "text": [
      "{'fdr': 0.3, 'tpr': 0.4666666666666667, 'fpr': 0.0375, 'shd': 20, 'pred_size': 20, 'h1_dim': 20, 'lambda1': 0.005, 'lambda2': 0.05, 'lr': 0.01}\n"
     ]
    },
    {
     "data": {
      "application/vnd.jupyter.widget-view+json": {
       "model_id": "c3c97b8ddcba4dae9bc2c1d26d529a6c",
       "version_major": 2,
       "version_minor": 0
      },
      "text/plain": [
       "  0%|          | 0/230000.0 [00:00<?, ?it/s]"
      ]
     },
     "metadata": {},
     "output_type": "display_data"
    },
    {
     "name": "stdout",
     "output_type": "stream",
     "text": [
      "{'fdr': 0.125, 'tpr': 0.7241379310344828, 'fpr': 0.018633540372670808, 'shd': 11, 'pred_size': 24, 'h1_dim': 20, 'lambda1': 0.005, 'lambda2': 0.05, 'lr': 0.02}\n"
     ]
    },
    {
     "data": {
      "application/vnd.jupyter.widget-view+json": {
       "model_id": "eccb6091c97f48208f4a4106062d34dd",
       "version_major": 2,
       "version_minor": 0
      },
      "text/plain": [
       "  0%|          | 0/230000.0 [00:00<?, ?it/s]"
      ]
     },
     "metadata": {},
     "output_type": "display_data"
    },
    {
     "name": "stdout",
     "output_type": "stream",
     "text": [
      "{'fdr': 0.05555555555555555, 'tpr': 0.6538461538461539, 'fpr': 0.006097560975609756, 'shd': 10, 'pred_size': 18, 'h1_dim': 20, 'lambda1': 0.01, 'lambda2': 0.005, 'lr': 0.005}\n"
     ]
    },
    {
     "data": {
      "application/vnd.jupyter.widget-view+json": {
       "model_id": "59efe31e7b824cfa8d77ea1f4c764d80",
       "version_major": 2,
       "version_minor": 0
      },
      "text/plain": [
       "  0%|          | 0/230000.0 [00:00<?, ?it/s]"
      ]
     },
     "metadata": {},
     "output_type": "display_data"
    },
    {
     "name": "stdout",
     "output_type": "stream",
     "text": [
      "{'fdr': 0.05263157894736842, 'tpr': 0.6923076923076923, 'fpr': 0.006097560975609756, 'shd': 9, 'pred_size': 19, 'h1_dim': 20, 'lambda1': 0.01, 'lambda2': 0.005, 'lr': 0.01}\n"
     ]
    },
    {
     "data": {
      "application/vnd.jupyter.widget-view+json": {
       "model_id": "7ccfc68b8ee44c34bfef965186c75f92",
       "version_major": 2,
       "version_minor": 0
      },
      "text/plain": [
       "  0%|          | 0/230000.0 [00:00<?, ?it/s]"
      ]
     },
     "metadata": {},
     "output_type": "display_data"
    },
    {
     "name": "stdout",
     "output_type": "stream",
     "text": [
      "{'fdr': 0.0625, 'tpr': 0.75, 'fpr': 0.0058823529411764705, 'shd': 6, 'pred_size': 16, 'h1_dim': 20, 'lambda1': 0.01, 'lambda2': 0.005, 'lr': 0.02}\n"
     ]
    },
    {
     "data": {
      "application/vnd.jupyter.widget-view+json": {
       "model_id": "0babe803ae3c422d982fe1842d5609cd",
       "version_major": 2,
       "version_minor": 0
      },
      "text/plain": [
       "  0%|          | 0/230000.0 [00:00<?, ?it/s]"
      ]
     },
     "metadata": {},
     "output_type": "display_data"
    },
    {
     "name": "stdout",
     "output_type": "stream",
     "text": [
      "{'fdr': 0.45, 'tpr': 0.7333333333333333, 'fpr': 0.05142857142857143, 'shd': 13, 'pred_size': 20, 'h1_dim': 20, 'lambda1': 0.01, 'lambda2': 0.01, 'lr': 0.005}\n"
     ]
    },
    {
     "data": {
      "application/vnd.jupyter.widget-view+json": {
       "model_id": "7834e3f865b645e7a7b2da65f9e5ed26",
       "version_major": 2,
       "version_minor": 0
      },
      "text/plain": [
       "  0%|          | 0/230000.0 [00:00<?, ?it/s]"
      ]
     },
     "metadata": {},
     "output_type": "display_data"
    },
    {
     "name": "stdout",
     "output_type": "stream",
     "text": [
      "{'fdr': 0.08695652173913043, 'tpr': 0.7241379310344828, 'fpr': 0.012422360248447204, 'shd': 10, 'pred_size': 23, 'h1_dim': 20, 'lambda1': 0.01, 'lambda2': 0.01, 'lr': 0.01}\n"
     ]
    },
    {
     "data": {
      "application/vnd.jupyter.widget-view+json": {
       "model_id": "e9db2da761ec45468af48f4b3c048d8c",
       "version_major": 2,
       "version_minor": 0
      },
      "text/plain": [
       "  0%|          | 0/230000.0 [00:00<?, ?it/s]"
      ]
     },
     "metadata": {},
     "output_type": "display_data"
    },
    {
     "name": "stdout",
     "output_type": "stream",
     "text": [
      "{'fdr': 0.18181818181818182, 'tpr': 0.8571428571428571, 'fpr': 0.023668639053254437, 'shd': 7, 'pred_size': 22, 'h1_dim': 20, 'lambda1': 0.01, 'lambda2': 0.01, 'lr': 0.02}\n"
     ]
    },
    {
     "data": {
      "application/vnd.jupyter.widget-view+json": {
       "model_id": "0c74dadc07c843f88b70a343f9f61241",
       "version_major": 2,
       "version_minor": 0
      },
      "text/plain": [
       "  0%|          | 0/230000.0 [00:00<?, ?it/s]"
      ]
     },
     "metadata": {},
     "output_type": "display_data"
    },
    {
     "name": "stdout",
     "output_type": "stream",
     "text": [
      "{'fdr': 0.22727272727272727, 'tpr': 0.8947368421052632, 'fpr': 0.029239766081871343, 'shd': 7, 'pred_size': 22, 'h1_dim': 20, 'lambda1': 0.01, 'lambda2': 0.03, 'lr': 0.005}\n"
     ]
    },
    {
     "data": {
      "application/vnd.jupyter.widget-view+json": {
       "model_id": "e255467102064dcbb430578984599f87",
       "version_major": 2,
       "version_minor": 0
      },
      "text/plain": [
       "  0%|          | 0/230000.0 [00:00<?, ?it/s]"
      ]
     },
     "metadata": {},
     "output_type": "display_data"
    },
    {
     "name": "stdout",
     "output_type": "stream",
     "text": [
      "{'fdr': 0.25, 'tpr': 0.7142857142857143, 'fpr': 0.029585798816568046, 'shd': 10, 'pred_size': 20, 'h1_dim': 20, 'lambda1': 0.01, 'lambda2': 0.03, 'lr': 0.01}\n"
     ]
    },
    {
     "data": {
      "application/vnd.jupyter.widget-view+json": {
       "model_id": "2d6ed5ad1dfc4c588407b1cefaa014b7",
       "version_major": 2,
       "version_minor": 0
      },
      "text/plain": [
       "  0%|          | 0/230000.0 [00:00<?, ?it/s]"
      ]
     },
     "metadata": {},
     "output_type": "display_data"
    },
    {
     "name": "stdout",
     "output_type": "stream",
     "text": [
      "{'fdr': 0.391304347826087, 'tpr': 0.8235294117647058, 'fpr': 0.05202312138728324, 'shd': 12, 'pred_size': 23, 'h1_dim': 20, 'lambda1': 0.01, 'lambda2': 0.03, 'lr': 0.02}\n"
     ]
    },
    {
     "data": {
      "application/vnd.jupyter.widget-view+json": {
       "model_id": "5e9825b0ee62473aae053692bf3cf31b",
       "version_major": 2,
       "version_minor": 0
      },
      "text/plain": [
       "  0%|          | 0/230000.0 [00:00<?, ?it/s]"
      ]
     },
     "metadata": {},
     "output_type": "display_data"
    },
    {
     "name": "stdout",
     "output_type": "stream",
     "text": [
      "{'fdr': 0.375, 'tpr': 0.47619047619047616, 'fpr': 0.03550295857988166, 'shd': 14, 'pred_size': 16, 'h1_dim': 20, 'lambda1': 0.01, 'lambda2': 0.05, 'lr': 0.005}\n"
     ]
    },
    {
     "data": {
      "application/vnd.jupyter.widget-view+json": {
       "model_id": "a55cc3ce2f914bb9bc6869a170e938a7",
       "version_major": 2,
       "version_minor": 0
      },
      "text/plain": [
       "  0%|          | 0/230000.0 [00:00<?, ?it/s]"
      ]
     },
     "metadata": {},
     "output_type": "display_data"
    },
    {
     "name": "stdout",
     "output_type": "stream",
     "text": [
      "{'fdr': 0.42105263157894735, 'tpr': 0.5789473684210527, 'fpr': 0.04678362573099415, 'shd': 14, 'pred_size': 19, 'h1_dim': 20, 'lambda1': 0.01, 'lambda2': 0.05, 'lr': 0.01}\n"
     ]
    },
    {
     "data": {
      "application/vnd.jupyter.widget-view+json": {
       "model_id": "93c13309a4c740d1a5b87bd2babaa00d",
       "version_major": 2,
       "version_minor": 0
      },
      "text/plain": [
       "  0%|          | 0/230000.0 [00:00<?, ?it/s]"
      ]
     },
     "metadata": {},
     "output_type": "display_data"
    },
    {
     "name": "stdout",
     "output_type": "stream",
     "text": [
      "{'fdr': 0.36363636363636365, 'tpr': 0.5384615384615384, 'fpr': 0.04878048780487805, 'shd': 18, 'pred_size': 22, 'h1_dim': 20, 'lambda1': 0.01, 'lambda2': 0.05, 'lr': 0.02}\n"
     ]
    },
    {
     "data": {
      "application/vnd.jupyter.widget-view+json": {
       "model_id": "cb55f533a5984b9baca913e492008be6",
       "version_major": 2,
       "version_minor": 0
      },
      "text/plain": [
       "  0%|          | 0/230000.0 [00:00<?, ?it/s]"
      ]
     },
     "metadata": {},
     "output_type": "display_data"
    },
    {
     "name": "stdout",
     "output_type": "stream",
     "text": [
      "{'fdr': 0.0, 'tpr': 0.8928571428571429, 'fpr': 0.0, 'shd': 3, 'pred_size': 25, 'h1_dim': 20, 'lambda1': 0.02, 'lambda2': 0.005, 'lr': 0.005}\n"
     ]
    },
    {
     "data": {
      "application/vnd.jupyter.widget-view+json": {
       "model_id": "31b641478f5a430bb33255c2ec9233b5",
       "version_major": 2,
       "version_minor": 0
      },
      "text/plain": [
       "  0%|          | 0/230000.0 [00:00<?, ?it/s]"
      ]
     },
     "metadata": {},
     "output_type": "display_data"
    },
    {
     "name": "stdout",
     "output_type": "stream",
     "text": [
      "{'fdr': 0.047619047619047616, 'tpr': 0.9523809523809523, 'fpr': 0.005917159763313609, 'shd': 2, 'pred_size': 21, 'h1_dim': 20, 'lambda1': 0.02, 'lambda2': 0.005, 'lr': 0.01}\n"
     ]
    },
    {
     "data": {
      "application/vnd.jupyter.widget-view+json": {
       "model_id": "d6626a46ba844f88b4c7b9d2a7a572ff",
       "version_major": 2,
       "version_minor": 0
      },
      "text/plain": [
       "  0%|          | 0/230000.0 [00:00<?, ?it/s]"
      ]
     },
     "metadata": {},
     "output_type": "display_data"
    },
    {
     "name": "stdout",
     "output_type": "stream",
     "text": [
      "{'fdr': 0.0, 'tpr': 0.8260869565217391, 'fpr': 0.0, 'shd': 4, 'pred_size': 19, 'h1_dim': 20, 'lambda1': 0.02, 'lambda2': 0.005, 'lr': 0.02}\n"
     ]
    },
    {
     "data": {
      "application/vnd.jupyter.widget-view+json": {
       "model_id": "1e4d9d23ebc24700bf9a31f17c861270",
       "version_major": 2,
       "version_minor": 0
      },
      "text/plain": [
       "  0%|          | 0/230000.0 [00:00<?, ?it/s]"
      ]
     },
     "metadata": {},
     "output_type": "display_data"
    },
    {
     "name": "stdout",
     "output_type": "stream",
     "text": [
      "{'fdr': 0.22727272727272727, 'tpr': 0.8947368421052632, 'fpr': 0.029239766081871343, 'shd': 7, 'pred_size': 22, 'h1_dim': 20, 'lambda1': 0.02, 'lambda2': 0.01, 'lr': 0.005}\n"
     ]
    },
    {
     "data": {
      "application/vnd.jupyter.widget-view+json": {
       "model_id": "5b9e84750a7b40cd8145974dfd1cd99d",
       "version_major": 2,
       "version_minor": 0
      },
      "text/plain": [
       "  0%|          | 0/230000.0 [00:00<?, ?it/s]"
      ]
     },
     "metadata": {},
     "output_type": "display_data"
    },
    {
     "name": "stdout",
     "output_type": "stream",
     "text": [
      "{'fdr': 0.1, 'tpr': 0.8571428571428571, 'fpr': 0.011834319526627219, 'shd': 5, 'pred_size': 20, 'h1_dim': 20, 'lambda1': 0.02, 'lambda2': 0.01, 'lr': 0.01}\n"
     ]
    },
    {
     "data": {
      "application/vnd.jupyter.widget-view+json": {
       "model_id": "42afad1cfb644d6592061b78bbdba3e4",
       "version_major": 2,
       "version_minor": 0
      },
      "text/plain": [
       "  0%|          | 0/230000.0 [00:00<?, ?it/s]"
      ]
     },
     "metadata": {},
     "output_type": "display_data"
    },
    {
     "name": "stdout",
     "output_type": "stream",
     "text": [
      "{'fdr': 0.2222222222222222, 'tpr': 0.9333333333333333, 'fpr': 0.022857142857142857, 'shd': 5, 'pred_size': 18, 'h1_dim': 20, 'lambda1': 0.02, 'lambda2': 0.01, 'lr': 0.02}\n"
     ]
    },
    {
     "data": {
      "application/vnd.jupyter.widget-view+json": {
       "model_id": "74a074d25476422ea5aff3325d814607",
       "version_major": 2,
       "version_minor": 0
      },
      "text/plain": [
       "  0%|          | 0/230000.0 [00:00<?, ?it/s]"
      ]
     },
     "metadata": {},
     "output_type": "display_data"
    },
    {
     "name": "stdout",
     "output_type": "stream",
     "text": [
      "{'fdr': 0.47368421052631576, 'tpr': 0.9090909090909091, 'fpr': 0.05027932960893855, 'shd': 10, 'pred_size': 19, 'h1_dim': 20, 'lambda1': 0.02, 'lambda2': 0.03, 'lr': 0.005}\n"
     ]
    },
    {
     "data": {
      "application/vnd.jupyter.widget-view+json": {
       "model_id": "d96ef6ba94d746688c7fc7eb6aa3d3d3",
       "version_major": 2,
       "version_minor": 0
      },
      "text/plain": [
       "  0%|          | 0/230000.0 [00:00<?, ?it/s]"
      ]
     },
     "metadata": {},
     "output_type": "display_data"
    },
    {
     "name": "stdout",
     "output_type": "stream",
     "text": [
      "{'fdr': 0.5454545454545454, 'tpr': 0.6666666666666666, 'fpr': 0.06857142857142857, 'shd': 17, 'pred_size': 22, 'h1_dim': 20, 'lambda1': 0.02, 'lambda2': 0.03, 'lr': 0.01}\n"
     ]
    },
    {
     "data": {
      "application/vnd.jupyter.widget-view+json": {
       "model_id": "bc2af2df230041679ea9f6be34d216a7",
       "version_major": 2,
       "version_minor": 0
      },
      "text/plain": [
       "  0%|          | 0/230000.0 [00:00<?, ?it/s]"
      ]
     },
     "metadata": {},
     "output_type": "display_data"
    },
    {
     "name": "stdout",
     "output_type": "stream",
     "text": [
      "{'fdr': 0.35, 'tpr': 0.7647058823529411, 'fpr': 0.04046242774566474, 'shd': 10, 'pred_size': 20, 'h1_dim': 20, 'lambda1': 0.02, 'lambda2': 0.03, 'lr': 0.02}\n"
     ]
    },
    {
     "data": {
      "application/vnd.jupyter.widget-view+json": {
       "model_id": "a8de69d218e340ccb7a720f7a72ac2de",
       "version_major": 2,
       "version_minor": 0
      },
      "text/plain": [
       "  0%|          | 0/230000.0 [00:00<?, ?it/s]"
      ]
     },
     "metadata": {},
     "output_type": "display_data"
    },
    {
     "name": "stdout",
     "output_type": "stream",
     "text": [
      "{'fdr': 0.2857142857142857, 'tpr': 0.7894736842105263, 'fpr': 0.03508771929824561, 'shd': 10, 'pred_size': 21, 'h1_dim': 20, 'lambda1': 0.02, 'lambda2': 0.05, 'lr': 0.005}\n"
     ]
    },
    {
     "data": {
      "application/vnd.jupyter.widget-view+json": {
       "model_id": "4c7f12486d084836bb7703f177557ff2",
       "version_major": 2,
       "version_minor": 0
      },
      "text/plain": [
       "  0%|          | 0/230000.0 [00:00<?, ?it/s]"
      ]
     },
     "metadata": {},
     "output_type": "display_data"
    },
    {
     "name": "stdout",
     "output_type": "stream",
     "text": [
      "{'fdr': 0.5652173913043478, 'tpr': 0.9090909090909091, 'fpr': 0.07262569832402235, 'shd': 13, 'pred_size': 23, 'h1_dim': 20, 'lambda1': 0.02, 'lambda2': 0.05, 'lr': 0.01}\n"
     ]
    },
    {
     "data": {
      "application/vnd.jupyter.widget-view+json": {
       "model_id": "dc790ac1333c440980c0ce875cf05735",
       "version_major": 2,
       "version_minor": 0
      },
      "text/plain": [
       "  0%|          | 0/230000.0 [00:00<?, ?it/s]"
      ]
     },
     "metadata": {},
     "output_type": "display_data"
    },
    {
     "name": "stdout",
     "output_type": "stream",
     "text": [
      "{'fdr': 0.7058823529411765, 'tpr': 0.5555555555555556, 'fpr': 0.06629834254143646, 'shd': 13, 'pred_size': 17, 'h1_dim': 20, 'lambda1': 0.02, 'lambda2': 0.05, 'lr': 0.02}\n"
     ]
    },
    {
     "data": {
      "application/vnd.jupyter.widget-view+json": {
       "model_id": "a856040f3b264ccb936de3029f027f04",
       "version_major": 2,
       "version_minor": 0
      },
      "text/plain": [
       "  0%|          | 0/230000.0 [00:00<?, ?it/s]"
      ]
     },
     "metadata": {},
     "output_type": "display_data"
    },
    {
     "name": "stdout",
     "output_type": "stream",
     "text": [
      "{'fdr': 0.4, 'tpr': 1.0, 'fpr': 0.03314917127071823, 'shd': 6, 'pred_size': 15, 'h1_dim': 20, 'lambda1': 0.05, 'lambda2': 0.005, 'lr': 0.005}\n"
     ]
    },
    {
     "data": {
      "application/vnd.jupyter.widget-view+json": {
       "model_id": "acce69a8011b4aa2b43e7716d63fae97",
       "version_major": 2,
       "version_minor": 0
      },
      "text/plain": [
       "  0%|          | 0/230000.0 [00:00<?, ?it/s]"
      ]
     },
     "metadata": {},
     "output_type": "display_data"
    },
    {
     "name": "stdout",
     "output_type": "stream",
     "text": [
      "{'fdr': 0.14285714285714285, 'tpr': 0.9, 'fpr': 0.01764705882352941, 'shd': 4, 'pred_size': 21, 'h1_dim': 20, 'lambda1': 0.05, 'lambda2': 0.005, 'lr': 0.01}\n"
     ]
    },
    {
     "data": {
      "application/vnd.jupyter.widget-view+json": {
       "model_id": "da6cbae056da45dcafcd5961848416ae",
       "version_major": 2,
       "version_minor": 0
      },
      "text/plain": [
       "  0%|          | 0/230000.0 [00:00<?, ?it/s]"
      ]
     },
     "metadata": {},
     "output_type": "display_data"
    },
    {
     "name": "stdout",
     "output_type": "stream",
     "text": [
      "{'fdr': 0.48, 'tpr': 0.8125, 'fpr': 0.06896551724137931, 'shd': 14, 'pred_size': 25, 'h1_dim': 20, 'lambda1': 0.05, 'lambda2': 0.005, 'lr': 0.02}\n"
     ]
    },
    {
     "data": {
      "application/vnd.jupyter.widget-view+json": {
       "model_id": "cf850c1c3fd74c9bba2b727149c4f626",
       "version_major": 2,
       "version_minor": 0
      },
      "text/plain": [
       "  0%|          | 0/230000.0 [00:00<?, ?it/s]"
      ]
     },
     "metadata": {},
     "output_type": "display_data"
    },
    {
     "name": "stdout",
     "output_type": "stream",
     "text": [
      "{'fdr': 0.3333333333333333, 'tpr': 1.0, 'fpr': 0.033707865168539325, 'shd': 6, 'pred_size': 18, 'h1_dim': 20, 'lambda1': 0.05, 'lambda2': 0.01, 'lr': 0.005}\n"
     ]
    },
    {
     "data": {
      "application/vnd.jupyter.widget-view+json": {
       "model_id": "2d9fe9c72fc9445ab1e320aee3b97597",
       "version_major": 2,
       "version_minor": 0
      },
      "text/plain": [
       "  0%|          | 0/230000.0 [00:00<?, ?it/s]"
      ]
     },
     "metadata": {},
     "output_type": "display_data"
    },
    {
     "name": "stdout",
     "output_type": "stream",
     "text": [
      "{'fdr': 0.391304347826087, 'tpr': 0.875, 'fpr': 0.05172413793103448, 'shd': 10, 'pred_size': 23, 'h1_dim': 20, 'lambda1': 0.05, 'lambda2': 0.01, 'lr': 0.01}\n"
     ]
    },
    {
     "data": {
      "application/vnd.jupyter.widget-view+json": {
       "model_id": "3c31216404ce4711899600c48f7e4ade",
       "version_major": 2,
       "version_minor": 0
      },
      "text/plain": [
       "  0%|          | 0/230000.0 [00:00<?, ?it/s]"
      ]
     },
     "metadata": {},
     "output_type": "display_data"
    },
    {
     "name": "stdout",
     "output_type": "stream",
     "text": [
      "{'fdr': 0.55, 'tpr': 0.5625, 'fpr': 0.06321839080459771, 'shd': 15, 'pred_size': 20, 'h1_dim': 20, 'lambda1': 0.05, 'lambda2': 0.01, 'lr': 0.02}\n"
     ]
    },
    {
     "data": {
      "application/vnd.jupyter.widget-view+json": {
       "model_id": "a4a3f87df56e4c59a39646cbd0f604b0",
       "version_major": 2,
       "version_minor": 0
      },
      "text/plain": [
       "  0%|          | 0/230000.0 [00:00<?, ?it/s]"
      ]
     },
     "metadata": {},
     "output_type": "display_data"
    },
    {
     "name": "stdout",
     "output_type": "stream",
     "text": [
      "{'fdr': 0.8260869565217391, 'tpr': 0.8, 'fpr': 0.10270270270270271, 'shd': 19, 'pred_size': 23, 'h1_dim': 20, 'lambda1': 0.05, 'lambda2': 0.03, 'lr': 0.005}\n"
     ]
    },
    {
     "data": {
      "application/vnd.jupyter.widget-view+json": {
       "model_id": "c20ddf7c326d42f6a014f9be85d5d14b",
       "version_major": 2,
       "version_minor": 0
      },
      "text/plain": [
       "  0%|          | 0/230000.0 [00:00<?, ?it/s]"
      ]
     },
     "metadata": {},
     "output_type": "display_data"
    },
    {
     "name": "stdout",
     "output_type": "stream",
     "text": [
      "{'fdr': 0.7142857142857143, 'tpr': 0.5714285714285714, 'fpr': 0.0546448087431694, 'shd': 13, 'pred_size': 14, 'h1_dim': 20, 'lambda1': 0.05, 'lambda2': 0.03, 'lr': 0.01}\n"
     ]
    },
    {
     "data": {
      "application/vnd.jupyter.widget-view+json": {
       "model_id": "5eb1fc1b7d2448e2960b0c47f8612e39",
       "version_major": 2,
       "version_minor": 0
      },
      "text/plain": [
       "  0%|          | 0/230000.0 [00:00<?, ?it/s]"
      ]
     },
     "metadata": {},
     "output_type": "display_data"
    },
    {
     "name": "stdout",
     "output_type": "stream",
     "text": [
      "{'fdr': 0.7142857142857143, 'tpr': 0.6, 'fpr': 0.08333333333333333, 'shd': 17, 'pred_size': 21, 'h1_dim': 20, 'lambda1': 0.05, 'lambda2': 0.03, 'lr': 0.02}\n"
     ]
    },
    {
     "data": {
      "application/vnd.jupyter.widget-view+json": {
       "model_id": "0a5d0b17f6894fcaa29773b322d70a96",
       "version_major": 2,
       "version_minor": 0
      },
      "text/plain": [
       "  0%|          | 0/230000.0 [00:00<?, ?it/s]"
      ]
     },
     "metadata": {},
     "output_type": "display_data"
    },
    {
     "name": "stdout",
     "output_type": "stream",
     "text": [
      "{'fdr': 0.95, 'tpr': 0.25, 'fpr': 0.10215053763440861, 'shd': 21, 'pred_size': 20, 'h1_dim': 20, 'lambda1': 0.05, 'lambda2': 0.05, 'lr': 0.005}\n"
     ]
    },
    {
     "data": {
      "application/vnd.jupyter.widget-view+json": {
       "model_id": "03a8007a7eff4307ae0dcc73840e4879",
       "version_major": 2,
       "version_minor": 0
      },
      "text/plain": [
       "  0%|          | 0/230000.0 [00:00<?, ?it/s]"
      ]
     },
     "metadata": {},
     "output_type": "display_data"
    },
    {
     "name": "stdout",
     "output_type": "stream",
     "text": [
      "{'fdr': 0.9130434782608695, 'tpr': 0.6666666666666666, 'fpr': 0.11229946524064172, 'shd': 22, 'pred_size': 23, 'h1_dim': 20, 'lambda1': 0.05, 'lambda2': 0.05, 'lr': 0.01}\n"
     ]
    },
    {
     "data": {
      "application/vnd.jupyter.widget-view+json": {
       "model_id": "e993a024d15e495eb37a6b7c882f4c92",
       "version_major": 2,
       "version_minor": 0
      },
      "text/plain": [
       "  0%|          | 0/230000.0 [00:00<?, ?it/s]"
      ]
     },
     "metadata": {},
     "output_type": "display_data"
    },
    {
     "name": "stdout",
     "output_type": "stream",
     "text": [
      "{'fdr': 0.75, 'tpr': 0.5, 'fpr': 0.06593406593406594, 'shd': 15, 'pred_size': 16, 'h1_dim': 20, 'lambda1': 0.05, 'lambda2': 0.05, 'lr': 0.02}\n"
     ]
    },
    {
     "data": {
      "application/vnd.jupyter.widget-view+json": {
       "model_id": "a6bdc560c5d24fa7b65cf23104210f2e",
       "version_major": 2,
       "version_minor": 0
      },
      "text/plain": [
       "  0%|          | 0/230000.0 [00:00<?, ?it/s]"
      ]
     },
     "metadata": {},
     "output_type": "display_data"
    },
    {
     "name": "stdout",
     "output_type": "stream",
     "text": [
      "{'fdr': 0.8695652173913043, 'tpr': 0.6, 'fpr': 0.10810810810810811, 'shd': 20, 'pred_size': 23, 'h1_dim': 20, 'lambda1': 0.1, 'lambda2': 0.005, 'lr': 0.005}\n"
     ]
    },
    {
     "data": {
      "application/vnd.jupyter.widget-view+json": {
       "model_id": "be91f89f403948d69e68b36962a4ea6e",
       "version_major": 2,
       "version_minor": 0
      },
      "text/plain": [
       "  0%|          | 0/230000.0 [00:00<?, ?it/s]"
      ]
     },
     "metadata": {},
     "output_type": "display_data"
    },
    {
     "name": "stdout",
     "output_type": "stream",
     "text": [
      "{'fdr': 0.4117647058823529, 'tpr': 1.0, 'fpr': 0.03888888888888889, 'shd': 7, 'pred_size': 17, 'h1_dim': 20, 'lambda1': 0.1, 'lambda2': 0.005, 'lr': 0.01}\n"
     ]
    },
    {
     "data": {
      "application/vnd.jupyter.widget-view+json": {
       "model_id": "b49ed37939c24cd6b6b745d1b9f722ca",
       "version_major": 2,
       "version_minor": 0
      },
      "text/plain": [
       "  0%|          | 0/230000.0 [00:00<?, ?it/s]"
      ]
     },
     "metadata": {},
     "output_type": "display_data"
    },
    {
     "name": "stdout",
     "output_type": "stream",
     "text": [
      "{'fdr': 0.8125, 'tpr': 0.6, 'fpr': 0.07027027027027027, 'shd': 13, 'pred_size': 16, 'h1_dim': 20, 'lambda1': 0.1, 'lambda2': 0.005, 'lr': 0.02}\n"
     ]
    },
    {
     "data": {
      "application/vnd.jupyter.widget-view+json": {
       "model_id": "387529cffedd490caad204e23fc59c09",
       "version_major": 2,
       "version_minor": 0
      },
      "text/plain": [
       "  0%|          | 0/230000.0 [00:00<?, ?it/s]"
      ]
     },
     "metadata": {},
     "output_type": "display_data"
    },
    {
     "name": "stdout",
     "output_type": "stream",
     "text": [
      "{'fdr': 0.8823529411764706, 'tpr': 0.5, 'fpr': 0.08064516129032258, 'shd': 16, 'pred_size': 17, 'h1_dim': 20, 'lambda1': 0.1, 'lambda2': 0.01, 'lr': 0.005}\n"
     ]
    },
    {
     "data": {
      "application/vnd.jupyter.widget-view+json": {
       "model_id": "902a32a3fc7d4c47bcf2af75b1356f01",
       "version_major": 2,
       "version_minor": 0
      },
      "text/plain": [
       "  0%|          | 0/230000.0 [00:00<?, ?it/s]"
      ]
     },
     "metadata": {},
     "output_type": "display_data"
    },
    {
     "name": "stdout",
     "output_type": "stream",
     "text": [
      "{'fdr': 0.5833333333333334, 'tpr': 0.7142857142857143, 'fpr': 0.03825136612021858, 'shd': 8, 'pred_size': 12, 'h1_dim': 20, 'lambda1': 0.1, 'lambda2': 0.01, 'lr': 0.01}\n"
     ]
    },
    {
     "data": {
      "application/vnd.jupyter.widget-view+json": {
       "model_id": "6a70002e80584d539e86df667d8d620c",
       "version_major": 2,
       "version_minor": 0
      },
      "text/plain": [
       "  0%|          | 0/230000.0 [00:00<?, ?it/s]"
      ]
     },
     "metadata": {},
     "output_type": "display_data"
    },
    {
     "name": "stdout",
     "output_type": "stream",
     "text": [
      "{'fdr': 0.47058823529411764, 'tpr': 0.8181818181818182, 'fpr': 0.0446927374301676, 'shd': 8, 'pred_size': 17, 'h1_dim': 20, 'lambda1': 0.1, 'lambda2': 0.01, 'lr': 0.02}\n"
     ]
    },
    {
     "data": {
      "application/vnd.jupyter.widget-view+json": {
       "model_id": "e89cb561b08d4709917c60c03b8eec5b",
       "version_major": 2,
       "version_minor": 0
      },
      "text/plain": [
       "  0%|          | 0/230000.0 [00:00<?, ?it/s]"
      ]
     },
     "metadata": {},
     "output_type": "display_data"
    },
    {
     "name": "stdout",
     "output_type": "stream",
     "text": [
      "{'fdr': 0.9130434782608695, 'tpr': 1.0, 'fpr': 0.11170212765957446, 'shd': 21, 'pred_size': 23, 'h1_dim': 20, 'lambda1': 0.1, 'lambda2': 0.03, 'lr': 0.005}\n"
     ]
    },
    {
     "data": {
      "application/vnd.jupyter.widget-view+json": {
       "model_id": "277d1cc84ac94c62a6ec661b7bad04fc",
       "version_major": 2,
       "version_minor": 0
      },
      "text/plain": [
       "  0%|          | 0/230000.0 [00:00<?, ?it/s]"
      ]
     },
     "metadata": {},
     "output_type": "display_data"
    },
    {
     "name": "stdout",
     "output_type": "stream",
     "text": [
      "{'fdr': 0.9411764705882353, 'tpr': 1.0, 'fpr': 0.08465608465608465, 'shd': 16, 'pred_size': 17, 'h1_dim': 20, 'lambda1': 0.1, 'lambda2': 0.03, 'lr': 0.01}\n"
     ]
    },
    {
     "data": {
      "application/vnd.jupyter.widget-view+json": {
       "model_id": "304e129ae7a945b6a293375b8968d4e1",
       "version_major": 2,
       "version_minor": 0
      },
      "text/plain": [
       "  0%|          | 0/230000.0 [00:00<?, ?it/s]"
      ]
     },
     "metadata": {},
     "output_type": "display_data"
    },
    {
     "name": "stdout",
     "output_type": "stream",
     "text": [
      "{'fdr': 0.8666666666666667, 'tpr': 1.0, 'fpr': 0.06914893617021277, 'shd': 13, 'pred_size': 15, 'h1_dim': 20, 'lambda1': 0.1, 'lambda2': 0.03, 'lr': 0.02}\n"
     ]
    },
    {
     "data": {
      "application/vnd.jupyter.widget-view+json": {
       "model_id": "ea1334a999d74d92af5faac14421c49d",
       "version_major": 2,
       "version_minor": 0
      },
      "text/plain": [
       "  0%|          | 0/230000.0 [00:00<?, ?it/s]"
      ]
     },
     "metadata": {},
     "output_type": "display_data"
    },
    {
     "name": "stdout",
     "output_type": "stream",
     "text": [
      "{'fdr': 0.875, 'tpr': 0.6666666666666666, 'fpr': 0.0748663101604278, 'shd': 15, 'pred_size': 16, 'h1_dim': 20, 'lambda1': 0.1, 'lambda2': 0.05, 'lr': 0.005}\n"
     ]
    },
    {
     "data": {
      "application/vnd.jupyter.widget-view+json": {
       "model_id": "f890764fc8414d57946979705c18619d",
       "version_major": 2,
       "version_minor": 0
      },
      "text/plain": [
       "  0%|          | 0/230000.0 [00:00<?, ?it/s]"
      ]
     },
     "metadata": {},
     "output_type": "display_data"
    },
    {
     "name": "stdout",
     "output_type": "stream",
     "text": [
      "{'fdr': 0.8888888888888888, 'tpr': 0.5, 'fpr': 0.08602150537634409, 'shd': 18, 'pred_size': 18, 'h1_dim': 20, 'lambda1': 0.1, 'lambda2': 0.05, 'lr': 0.01}\n"
     ]
    },
    {
     "data": {
      "application/vnd.jupyter.widget-view+json": {
       "model_id": "129ea394537c4210bbc95a75e51f983c",
       "version_major": 2,
       "version_minor": 0
      },
      "text/plain": [
       "  0%|          | 0/230000.0 [00:00<?, ?it/s]"
      ]
     },
     "metadata": {},
     "output_type": "display_data"
    },
    {
     "name": "stdout",
     "output_type": "stream",
     "text": [
      "{'fdr': 0.8888888888888888, 'tpr': 0.4, 'fpr': 0.08648648648648649, 'shd': 18, 'pred_size': 18, 'h1_dim': 20, 'lambda1': 0.1, 'lambda2': 0.05, 'lr': 0.02}\n"
     ]
    },
    {
     "data": {
      "application/vnd.jupyter.widget-view+json": {
       "model_id": "8ae23febd99d4139ab388727c3a129ef",
       "version_major": 2,
       "version_minor": 0
      },
      "text/plain": [
       "  0%|          | 0/230000.0 [00:00<?, ?it/s]"
      ]
     },
     "metadata": {},
     "output_type": "display_data"
    },
    {
     "name": "stdout",
     "output_type": "stream",
     "text": [
      "{'fdr': 0.2777777777777778, 'tpr': 0.26, 'fpr': 0.03571428571428571, 'shd': 39, 'pred_size': 18, 'h1_dim': 50, 'lambda1': 0.005, 'lambda2': 0.005, 'lr': 0.005}\n"
     ]
    },
    {
     "data": {
      "application/vnd.jupyter.widget-view+json": {
       "model_id": "e919a9de12fe4e3ba8f76c56d7890cc2",
       "version_major": 2,
       "version_minor": 0
      },
      "text/plain": [
       "  0%|          | 0/230000.0 [00:00<?, ?it/s]"
      ]
     },
     "metadata": {},
     "output_type": "display_data"
    },
    {
     "name": "stdout",
     "output_type": "stream",
     "text": [
      "{'fdr': 0.0, 'tpr': 0.5208333333333334, 'fpr': 0.0, 'shd': 23, 'pred_size': 25, 'h1_dim': 50, 'lambda1': 0.005, 'lambda2': 0.005, 'lr': 0.01}\n"
     ]
    },
    {
     "data": {
      "application/vnd.jupyter.widget-view+json": {
       "model_id": "d09d08f935d8440994c4a48e070caa30",
       "version_major": 2,
       "version_minor": 0
      },
      "text/plain": [
       "  0%|          | 0/230000.0 [00:00<?, ?it/s]"
      ]
     },
     "metadata": {},
     "output_type": "display_data"
    },
    {
     "name": "stdout",
     "output_type": "stream",
     "text": [
      "{'fdr': 0.125, 'tpr': 0.4666666666666667, 'fpr': 0.0125, 'shd': 17, 'pred_size': 16, 'h1_dim': 50, 'lambda1': 0.005, 'lambda2': 0.005, 'lr': 0.02}\n"
     ]
    },
    {
     "data": {
      "application/vnd.jupyter.widget-view+json": {
       "model_id": "eec33bb487614922a129f6d0b65d97c8",
       "version_major": 2,
       "version_minor": 0
      },
      "text/plain": [
       "  0%|          | 0/230000.0 [00:00<?, ?it/s]"
      ]
     },
     "metadata": {},
     "output_type": "display_data"
    },
    {
     "name": "stdout",
     "output_type": "stream",
     "text": [
      "{'fdr': 0.10526315789473684, 'tpr': 0.53125, 'fpr': 0.012658227848101266, 'shd': 17, 'pred_size': 19, 'h1_dim': 50, 'lambda1': 0.005, 'lambda2': 0.01, 'lr': 0.005}\n"
     ]
    },
    {
     "data": {
      "application/vnd.jupyter.widget-view+json": {
       "model_id": "246354552c234820bdc4223a135892d1",
       "version_major": 2,
       "version_minor": 0
      },
      "text/plain": [
       "  0%|          | 0/230000.0 [00:00<?, ?it/s]"
      ]
     },
     "metadata": {},
     "output_type": "display_data"
    },
    {
     "name": "stdout",
     "output_type": "stream",
     "text": [
      "{'fdr': 0.0, 'tpr': 0.5454545454545454, 'fpr': 0.0, 'shd': 15, 'pred_size': 18, 'h1_dim': 50, 'lambda1': 0.005, 'lambda2': 0.01, 'lr': 0.01}\n"
     ]
    },
    {
     "data": {
      "application/vnd.jupyter.widget-view+json": {
       "model_id": "abc343ad38ee46d9a776c521189d4fe2",
       "version_major": 2,
       "version_minor": 0
      },
      "text/plain": [
       "  0%|          | 0/230000.0 [00:00<?, ?it/s]"
      ]
     },
     "metadata": {},
     "output_type": "display_data"
    },
    {
     "name": "stdout",
     "output_type": "stream",
     "text": [
      "{'fdr': 0.2222222222222222, 'tpr': 0.4375, 'fpr': 0.02531645569620253, 'shd': 21, 'pred_size': 18, 'h1_dim': 50, 'lambda1': 0.005, 'lambda2': 0.01, 'lr': 0.02}\n"
     ]
    },
    {
     "data": {
      "application/vnd.jupyter.widget-view+json": {
       "model_id": "3276489d90fb46d786de2bd8df524fba",
       "version_major": 2,
       "version_minor": 0
      },
      "text/plain": [
       "  0%|          | 0/230000.0 [00:00<?, ?it/s]"
      ]
     },
     "metadata": {},
     "output_type": "display_data"
    },
    {
     "name": "stdout",
     "output_type": "stream",
     "text": [
      "{'fdr': 0.2, 'tpr': 0.5, 'fpr': 0.02531645569620253, 'shd': 18, 'pred_size': 20, 'h1_dim': 50, 'lambda1': 0.005, 'lambda2': 0.03, 'lr': 0.005}\n"
     ]
    },
    {
     "data": {
      "application/vnd.jupyter.widget-view+json": {
       "model_id": "e5603a8d7b7f464587a4f4d30f8460ff",
       "version_major": 2,
       "version_minor": 0
      },
      "text/plain": [
       "  0%|          | 0/230000.0 [00:00<?, ?it/s]"
      ]
     },
     "metadata": {},
     "output_type": "display_data"
    },
    {
     "name": "stdout",
     "output_type": "stream",
     "text": [
      "{'fdr': 0.045454545454545456, 'tpr': 0.9130434782608695, 'fpr': 0.005988023952095809, 'shd': 3, 'pred_size': 22, 'h1_dim': 50, 'lambda1': 0.005, 'lambda2': 0.03, 'lr': 0.01}\n"
     ]
    },
    {
     "data": {
      "application/vnd.jupyter.widget-view+json": {
       "model_id": "8ce047fad5e64fdaaa860f09b2e1fe0d",
       "version_major": 2,
       "version_minor": 0
      },
      "text/plain": [
       "  0%|          | 0/230000.0 [00:00<?, ?it/s]"
      ]
     },
     "metadata": {},
     "output_type": "display_data"
    },
    {
     "name": "stdout",
     "output_type": "stream",
     "text": [
      "{'fdr': 0.0, 'tpr': 0.75, 'fpr': 0.0, 'shd': 6, 'pred_size': 18, 'h1_dim': 50, 'lambda1': 0.005, 'lambda2': 0.03, 'lr': 0.02}\n"
     ]
    },
    {
     "data": {
      "application/vnd.jupyter.widget-view+json": {
       "model_id": "c8661d7b07ec4112aee578cb5258c96a",
       "version_major": 2,
       "version_minor": 0
      },
      "text/plain": [
       "  0%|          | 0/230000.0 [00:00<?, ?it/s]"
      ]
     },
     "metadata": {},
     "output_type": "display_data"
    },
    {
     "name": "stdout",
     "output_type": "stream",
     "text": [
      "{'fdr': 0.3333333333333333, 'tpr': 0.7692307692307693, 'fpr': 0.02824858757062147, 'shd': 7, 'pred_size': 15, 'h1_dim': 50, 'lambda1': 0.005, 'lambda2': 0.05, 'lr': 0.005}\n"
     ]
    },
    {
     "data": {
      "application/vnd.jupyter.widget-view+json": {
       "model_id": "2a2381a89e544512a540de97135307e3",
       "version_major": 2,
       "version_minor": 0
      },
      "text/plain": [
       "  0%|          | 0/230000.0 [00:00<?, ?it/s]"
      ]
     },
     "metadata": {},
     "output_type": "display_data"
    },
    {
     "name": "stdout",
     "output_type": "stream",
     "text": [
      "{'fdr': 0.35294117647058826, 'tpr': 0.39285714285714285, 'fpr': 0.037037037037037035, 'shd': 21, 'pred_size': 17, 'h1_dim': 50, 'lambda1': 0.005, 'lambda2': 0.05, 'lr': 0.01}\n"
     ]
    },
    {
     "data": {
      "application/vnd.jupyter.widget-view+json": {
       "model_id": "8b94a8cdd9e243e5a9c0f98f7078e4a9",
       "version_major": 2,
       "version_minor": 0
      },
      "text/plain": [
       "  0%|          | 0/230000.0 [00:00<?, ?it/s]"
      ]
     },
     "metadata": {},
     "output_type": "display_data"
    },
    {
     "name": "stdout",
     "output_type": "stream",
     "text": [
      "{'fdr': 0.1875, 'tpr': 0.6842105263157895, 'fpr': 0.017543859649122806, 'shd': 9, 'pred_size': 16, 'h1_dim': 50, 'lambda1': 0.005, 'lambda2': 0.05, 'lr': 0.02}\n"
     ]
    },
    {
     "data": {
      "application/vnd.jupyter.widget-view+json": {
       "model_id": "0fde8821f9d643c092c17a98c3ee4927",
       "version_major": 2,
       "version_minor": 0
      },
      "text/plain": [
       "  0%|          | 0/230000.0 [00:00<?, ?it/s]"
      ]
     },
     "metadata": {},
     "output_type": "display_data"
    },
    {
     "name": "stdout",
     "output_type": "stream",
     "text": [
      "{'fdr': 0.0, 'tpr': 0.8260869565217391, 'fpr': 0.0, 'shd': 4, 'pred_size': 19, 'h1_dim': 50, 'lambda1': 0.01, 'lambda2': 0.005, 'lr': 0.005}\n"
     ]
    },
    {
     "data": {
      "application/vnd.jupyter.widget-view+json": {
       "model_id": "2a4820339d494cacb5aeacab2751808e",
       "version_major": 2,
       "version_minor": 0
      },
      "text/plain": [
       "  0%|          | 0/230000.0 [00:00<?, ?it/s]"
      ]
     },
     "metadata": {},
     "output_type": "display_data"
    },
    {
     "name": "stdout",
     "output_type": "stream",
     "text": [
      "{'fdr': 0.45454545454545453, 'tpr': 0.5714285714285714, 'fpr': 0.05917159763313609, 'shd': 16, 'pred_size': 22, 'h1_dim': 50, 'lambda1': 0.01, 'lambda2': 0.005, 'lr': 0.01}\n"
     ]
    },
    {
     "data": {
      "application/vnd.jupyter.widget-view+json": {
       "model_id": "198a305513d64dbda3195dea630a3ba1",
       "version_major": 2,
       "version_minor": 0
      },
      "text/plain": [
       "  0%|          | 0/230000.0 [00:00<?, ?it/s]"
      ]
     },
     "metadata": {},
     "output_type": "display_data"
    },
    {
     "name": "stdout",
     "output_type": "stream",
     "text": [
      "{'fdr': 0.2, 'tpr': 0.631578947368421, 'fpr': 0.017543859649122806, 'shd': 9, 'pred_size': 15, 'h1_dim': 50, 'lambda1': 0.01, 'lambda2': 0.005, 'lr': 0.02}\n"
     ]
    },
    {
     "data": {
      "application/vnd.jupyter.widget-view+json": {
       "model_id": "f67f9a149b7044f7920880ada08f972c",
       "version_major": 2,
       "version_minor": 0
      },
      "text/plain": [
       "  0%|          | 0/230000.0 [00:00<?, ?it/s]"
      ]
     },
     "metadata": {},
     "output_type": "display_data"
    },
    {
     "name": "stdout",
     "output_type": "stream",
     "text": [
      "{'fdr': 0.0, 'tpr': 0.7916666666666666, 'fpr': 0.0, 'shd': 5, 'pred_size': 19, 'h1_dim': 50, 'lambda1': 0.01, 'lambda2': 0.01, 'lr': 0.005}\n"
     ]
    },
    {
     "data": {
      "application/vnd.jupyter.widget-view+json": {
       "model_id": "12d456ae5e384b7a93bd8166263cefe9",
       "version_major": 2,
       "version_minor": 0
      },
      "text/plain": [
       "  0%|          | 0/230000.0 [00:00<?, ?it/s]"
      ]
     },
     "metadata": {},
     "output_type": "display_data"
    },
    {
     "name": "stdout",
     "output_type": "stream",
     "text": [
      "{'fdr': 0.1111111111111111, 'tpr': 0.8421052631578947, 'fpr': 0.011695906432748537, 'shd': 5, 'pred_size': 18, 'h1_dim': 50, 'lambda1': 0.01, 'lambda2': 0.01, 'lr': 0.01}\n"
     ]
    },
    {
     "data": {
      "application/vnd.jupyter.widget-view+json": {
       "model_id": "2c900d0ce583493d87797832169c4973",
       "version_major": 2,
       "version_minor": 0
      },
      "text/plain": [
       "  0%|          | 0/230000.0 [00:00<?, ?it/s]"
      ]
     },
     "metadata": {},
     "output_type": "display_data"
    },
    {
     "name": "stdout",
     "output_type": "stream",
     "text": [
      "{'fdr': 0.06666666666666667, 'tpr': 0.7777777777777778, 'fpr': 0.005813953488372093, 'shd': 5, 'pred_size': 15, 'h1_dim': 50, 'lambda1': 0.01, 'lambda2': 0.01, 'lr': 0.02}\n"
     ]
    },
    {
     "data": {
      "application/vnd.jupyter.widget-view+json": {
       "model_id": "f289c947f18a44509b973378e461074d",
       "version_major": 2,
       "version_minor": 0
      },
      "text/plain": [
       "  0%|          | 0/230000.0 [00:00<?, ?it/s]"
      ]
     },
     "metadata": {},
     "output_type": "display_data"
    },
    {
     "name": "stdout",
     "output_type": "stream",
     "text": [
      "{'fdr': 0.3333333333333333, 'tpr': 0.5714285714285714, 'fpr': 0.03550295857988166, 'shd': 12, 'pred_size': 18, 'h1_dim': 50, 'lambda1': 0.01, 'lambda2': 0.03, 'lr': 0.005}\n"
     ]
    },
    {
     "data": {
      "application/vnd.jupyter.widget-view+json": {
       "model_id": "4a30bd35a8dd4f0ab5dba521443df8a6",
       "version_major": 2,
       "version_minor": 0
      },
      "text/plain": [
       "  0%|          | 0/230000.0 [00:00<?, ?it/s]"
      ]
     },
     "metadata": {},
     "output_type": "display_data"
    },
    {
     "name": "stdout",
     "output_type": "stream",
     "text": [
      "{'fdr': 0.43478260869565216, 'tpr': 0.6842105263157895, 'fpr': 0.05847953216374269, 'shd': 15, 'pred_size': 23, 'h1_dim': 50, 'lambda1': 0.01, 'lambda2': 0.03, 'lr': 0.01}\n"
     ]
    },
    {
     "data": {
      "application/vnd.jupyter.widget-view+json": {
       "model_id": "e9e4cb77d5a643bebd6e4f66a57838c9",
       "version_major": 2,
       "version_minor": 0
      },
      "text/plain": [
       "  0%|          | 0/230000.0 [00:00<?, ?it/s]"
      ]
     },
     "metadata": {},
     "output_type": "display_data"
    },
    {
     "name": "stdout",
     "output_type": "stream",
     "text": [
      "{'fdr': 0.35, 'tpr': 0.6842105263157895, 'fpr': 0.04093567251461988, 'shd': 11, 'pred_size': 20, 'h1_dim': 50, 'lambda1': 0.01, 'lambda2': 0.03, 'lr': 0.02}\n"
     ]
    },
    {
     "data": {
      "application/vnd.jupyter.widget-view+json": {
       "model_id": "22b0d196f1c84787b57df3658bad7def",
       "version_major": 2,
       "version_minor": 0
      },
      "text/plain": [
       "  0%|          | 0/230000.0 [00:00<?, ?it/s]"
      ]
     },
     "metadata": {},
     "output_type": "display_data"
    },
    {
     "name": "stdout",
     "output_type": "stream",
     "text": [
      "{'fdr': 0.5454545454545454, 'tpr': 0.8333333333333334, 'fpr': 0.06741573033707865, 'shd': 13, 'pred_size': 22, 'h1_dim': 50, 'lambda1': 0.01, 'lambda2': 0.05, 'lr': 0.005}\n"
     ]
    },
    {
     "data": {
      "application/vnd.jupyter.widget-view+json": {
       "model_id": "590aafa3fe1447ba80ed46809e75e6f2",
       "version_major": 2,
       "version_minor": 0
      },
      "text/plain": [
       "  0%|          | 0/230000.0 [00:00<?, ?it/s]"
      ]
     },
     "metadata": {},
     "output_type": "display_data"
    },
    {
     "name": "stdout",
     "output_type": "stream",
     "text": [
      "{'fdr': 0.2631578947368421, 'tpr': 0.7777777777777778, 'fpr': 0.029069767441860465, 'shd': 8, 'pred_size': 19, 'h1_dim': 50, 'lambda1': 0.01, 'lambda2': 0.05, 'lr': 0.01}\n"
     ]
    },
    {
     "data": {
      "application/vnd.jupyter.widget-view+json": {
       "model_id": "fa8669f7a5d2430aa4116495879b85cc",
       "version_major": 2,
       "version_minor": 0
      },
      "text/plain": [
       "  0%|          | 0/230000.0 [00:00<?, ?it/s]"
      ]
     },
     "metadata": {},
     "output_type": "display_data"
    },
    {
     "name": "stdout",
     "output_type": "stream",
     "text": [
      "{'fdr': 0.7333333333333333, 'tpr': 0.4, 'fpr': 0.06111111111111111, 'shd': 13, 'pred_size': 15, 'h1_dim': 50, 'lambda1': 0.01, 'lambda2': 0.05, 'lr': 0.02}\n"
     ]
    },
    {
     "data": {
      "application/vnd.jupyter.widget-view+json": {
       "model_id": "e67c5cffb69548ff81502ddc145063a8",
       "version_major": 2,
       "version_minor": 0
      },
      "text/plain": [
       "  0%|          | 0/230000.0 [00:00<?, ?it/s]"
      ]
     },
     "metadata": {},
     "output_type": "display_data"
    },
    {
     "name": "stdout",
     "output_type": "stream",
     "text": [
      "{'fdr': 0.04, 'tpr': 0.9230769230769231, 'fpr': 0.006097560975609756, 'shd': 3, 'pred_size': 25, 'h1_dim': 50, 'lambda1': 0.02, 'lambda2': 0.005, 'lr': 0.005}\n"
     ]
    },
    {
     "data": {
      "application/vnd.jupyter.widget-view+json": {
       "model_id": "d3494fba5819498e8a941313a3f389ed",
       "version_major": 2,
       "version_minor": 0
      },
      "text/plain": [
       "  0%|          | 0/230000.0 [00:00<?, ?it/s]"
      ]
     },
     "metadata": {},
     "output_type": "display_data"
    },
    {
     "name": "stdout",
     "output_type": "stream",
     "text": [
      "{'fdr': 0.5625, 'tpr': 0.5833333333333334, 'fpr': 0.05056179775280899, 'shd': 11, 'pred_size': 16, 'h1_dim': 50, 'lambda1': 0.02, 'lambda2': 0.005, 'lr': 0.01}\n"
     ]
    },
    {
     "data": {
      "application/vnd.jupyter.widget-view+json": {
       "model_id": "18a1027dbe19438b9ea57e9486394ce2",
       "version_major": 2,
       "version_minor": 0
      },
      "text/plain": [
       "  0%|          | 0/230000.0 [00:00<?, ?it/s]"
      ]
     },
     "metadata": {},
     "output_type": "display_data"
    },
    {
     "name": "stdout",
     "output_type": "stream",
     "text": [
      "{'fdr': 0.25, 'tpr': 0.8181818181818182, 'fpr': 0.03571428571428571, 'shd': 8, 'pred_size': 24, 'h1_dim': 50, 'lambda1': 0.02, 'lambda2': 0.005, 'lr': 0.02}\n"
     ]
    },
    {
     "data": {
      "application/vnd.jupyter.widget-view+json": {
       "model_id": "61bea785e5c64f99859c6233f559ddc1",
       "version_major": 2,
       "version_minor": 0
      },
      "text/plain": [
       "  0%|          | 0/230000.0 [00:00<?, ?it/s]"
      ]
     },
     "metadata": {},
     "output_type": "display_data"
    },
    {
     "name": "stdout",
     "output_type": "stream",
     "text": [
      "{'fdr': 0.05555555555555555, 'tpr': 0.8095238095238095, 'fpr': 0.005917159763313609, 'shd': 5, 'pred_size': 18, 'h1_dim': 50, 'lambda1': 0.02, 'lambda2': 0.01, 'lr': 0.005}\n"
     ]
    },
    {
     "data": {
      "application/vnd.jupyter.widget-view+json": {
       "model_id": "0a98162c9550425b9342bcd1ec309e4a",
       "version_major": 2,
       "version_minor": 0
      },
      "text/plain": [
       "  0%|          | 0/230000.0 [00:00<?, ?it/s]"
      ]
     },
     "metadata": {},
     "output_type": "display_data"
    },
    {
     "name": "stdout",
     "output_type": "stream",
     "text": [
      "{'fdr': 0.4117647058823529, 'tpr': 0.5882352941176471, 'fpr': 0.04046242774566474, 'shd': 11, 'pred_size': 17, 'h1_dim': 50, 'lambda1': 0.02, 'lambda2': 0.01, 'lr': 0.01}\n"
     ]
    },
    {
     "data": {
      "application/vnd.jupyter.widget-view+json": {
       "model_id": "d9b529ee94624556981c3202ad2ba557",
       "version_major": 2,
       "version_minor": 0
      },
      "text/plain": [
       "  0%|          | 0/230000.0 [00:00<?, ?it/s]"
      ]
     },
     "metadata": {},
     "output_type": "display_data"
    },
    {
     "name": "stdout",
     "output_type": "stream",
     "text": [
      "{'fdr': 0.17647058823529413, 'tpr': 0.7368421052631579, 'fpr': 0.017543859649122806, 'shd': 6, 'pred_size': 17, 'h1_dim': 50, 'lambda1': 0.02, 'lambda2': 0.01, 'lr': 0.02}\n"
     ]
    },
    {
     "data": {
      "application/vnd.jupyter.widget-view+json": {
       "model_id": "bb007c84391b404fa8dec028d4bb600b",
       "version_major": 2,
       "version_minor": 0
      },
      "text/plain": [
       "  0%|          | 0/230000.0 [00:00<?, ?it/s]"
      ]
     },
     "metadata": {},
     "output_type": "display_data"
    },
    {
     "name": "stdout",
     "output_type": "stream",
     "text": [
      "{'fdr': 0.38095238095238093, 'tpr': 0.8666666666666667, 'fpr': 0.045714285714285714, 'shd': 9, 'pred_size': 21, 'h1_dim': 50, 'lambda1': 0.02, 'lambda2': 0.03, 'lr': 0.005}\n"
     ]
    },
    {
     "data": {
      "application/vnd.jupyter.widget-view+json": {
       "model_id": "0f7e72774cce492498e82156d06ba686",
       "version_major": 2,
       "version_minor": 0
      },
      "text/plain": [
       "  0%|          | 0/230000.0 [00:00<?, ?it/s]"
      ]
     },
     "metadata": {},
     "output_type": "display_data"
    },
    {
     "name": "stdout",
     "output_type": "stream",
     "text": [
      "{'fdr': 0.3333333333333333, 'tpr': 0.9333333333333333, 'fpr': 0.04, 'shd': 8, 'pred_size': 21, 'h1_dim': 50, 'lambda1': 0.02, 'lambda2': 0.03, 'lr': 0.01}\n"
     ]
    },
    {
     "data": {
      "application/vnd.jupyter.widget-view+json": {
       "model_id": "80827697431b4cf8a968eb09350fdd94",
       "version_major": 2,
       "version_minor": 0
      },
      "text/plain": [
       "  0%|          | 0/230000.0 [00:00<?, ?it/s]"
      ]
     },
     "metadata": {},
     "output_type": "display_data"
    },
    {
     "name": "stdout",
     "output_type": "stream",
     "text": [
      "{'fdr': 0.7333333333333333, 'tpr': 0.3076923076923077, 'fpr': 0.062146892655367235, 'shd': 16, 'pred_size': 15, 'h1_dim': 50, 'lambda1': 0.02, 'lambda2': 0.03, 'lr': 0.02}\n"
     ]
    },
    {
     "data": {
      "application/vnd.jupyter.widget-view+json": {
       "model_id": "a6cb9d349d1348828662cef38a230d9c",
       "version_major": 2,
       "version_minor": 0
      },
      "text/plain": [
       "  0%|          | 0/230000.0 [00:00<?, ?it/s]"
      ]
     },
     "metadata": {},
     "output_type": "display_data"
    },
    {
     "name": "stdout",
     "output_type": "stream",
     "text": [
      "{'fdr': 0.4444444444444444, 'tpr': 0.8333333333333334, 'fpr': 0.0449438202247191, 'shd': 10, 'pred_size': 18, 'h1_dim': 50, 'lambda1': 0.02, 'lambda2': 0.05, 'lr': 0.005}\n"
     ]
    },
    {
     "data": {
      "application/vnd.jupyter.widget-view+json": {
       "model_id": "492d49827f204732a2983f7b90b3f82a",
       "version_major": 2,
       "version_minor": 0
      },
      "text/plain": [
       "  0%|          | 0/230000.0 [00:00<?, ?it/s]"
      ]
     },
     "metadata": {},
     "output_type": "display_data"
    },
    {
     "name": "stdout",
     "output_type": "stream",
     "text": [
      "{'fdr': 0.5882352941176471, 'tpr': 0.7777777777777778, 'fpr': 0.055248618784530384, 'shd': 11, 'pred_size': 17, 'h1_dim': 50, 'lambda1': 0.02, 'lambda2': 0.05, 'lr': 0.01}\n"
     ]
    },
    {
     "data": {
      "application/vnd.jupyter.widget-view+json": {
       "model_id": "5228001d14d64a5f89ead74b25cf80a4",
       "version_major": 2,
       "version_minor": 0
      },
      "text/plain": [
       "  0%|          | 0/230000.0 [00:00<?, ?it/s]"
      ]
     },
     "metadata": {},
     "output_type": "display_data"
    },
    {
     "name": "stdout",
     "output_type": "stream",
     "text": [
      "{'fdr': 0.9583333333333334, 'tpr': 0.3333333333333333, 'fpr': 0.12299465240641712, 'shd': 24, 'pred_size': 24, 'h1_dim': 50, 'lambda1': 0.02, 'lambda2': 0.05, 'lr': 0.02}\n"
     ]
    },
    {
     "data": {
      "application/vnd.jupyter.widget-view+json": {
       "model_id": "a3aa147881734c0fa25553f80d22477e",
       "version_major": 2,
       "version_minor": 0
      },
      "text/plain": [
       "  0%|          | 0/230000.0 [00:00<?, ?it/s]"
      ]
     },
     "metadata": {},
     "output_type": "display_data"
    },
    {
     "name": "stdout",
     "output_type": "stream",
     "text": [
      "{'fdr': 0.3333333333333333, 'tpr': 1.0, 'fpr': 0.033707865168539325, 'shd': 6, 'pred_size': 18, 'h1_dim': 50, 'lambda1': 0.05, 'lambda2': 0.005, 'lr': 0.005}\n"
     ]
    },
    {
     "data": {
      "application/vnd.jupyter.widget-view+json": {
       "model_id": "d23c191248c94bf5876755f9fa0f8111",
       "version_major": 2,
       "version_minor": 0
      },
      "text/plain": [
       "  0%|          | 0/230000.0 [00:00<?, ?it/s]"
      ]
     },
     "metadata": {},
     "output_type": "display_data"
    },
    {
     "name": "stdout",
     "output_type": "stream",
     "text": [
      "{'fdr': 0.2222222222222222, 'tpr': 0.7777777777777778, 'fpr': 0.023255813953488372, 'shd': 7, 'pred_size': 18, 'h1_dim': 50, 'lambda1': 0.05, 'lambda2': 0.005, 'lr': 0.01}\n"
     ]
    },
    {
     "data": {
      "application/vnd.jupyter.widget-view+json": {
       "model_id": "aea7ee7aa7b045689119883d23c761a1",
       "version_major": 2,
       "version_minor": 0
      },
      "text/plain": [
       "  0%|          | 0/230000.0 [00:00<?, ?it/s]"
      ]
     },
     "metadata": {},
     "output_type": "display_data"
    },
    {
     "name": "stdout",
     "output_type": "stream",
     "text": [
      "{'fdr': 0.22727272727272727, 'tpr': 0.85, 'fpr': 0.029411764705882353, 'shd': 7, 'pred_size': 22, 'h1_dim': 50, 'lambda1': 0.05, 'lambda2': 0.005, 'lr': 0.02}\n"
     ]
    },
    {
     "data": {
      "application/vnd.jupyter.widget-view+json": {
       "model_id": "241e0609178549409703f22bfd2c6f96",
       "version_major": 2,
       "version_minor": 0
      },
      "text/plain": [
       "  0%|          | 0/230000.0 [00:00<?, ?it/s]"
      ]
     },
     "metadata": {},
     "output_type": "display_data"
    },
    {
     "name": "stdout",
     "output_type": "stream",
     "text": [
      "{'fdr': 0.125, 'tpr': 1.0, 'fpr': 0.011363636363636364, 'shd': 2, 'pred_size': 16, 'h1_dim': 50, 'lambda1': 0.05, 'lambda2': 0.01, 'lr': 0.005}\n"
     ]
    },
    {
     "data": {
      "application/vnd.jupyter.widget-view+json": {
       "model_id": "d6cefa6ac85c4c5085eb81f4ffb2d9ce",
       "version_major": 2,
       "version_minor": 0
      },
      "text/plain": [
       "  0%|          | 0/230000.0 [00:00<?, ?it/s]"
      ]
     },
     "metadata": {},
     "output_type": "display_data"
    },
    {
     "name": "stdout",
     "output_type": "stream",
     "text": [
      "{'fdr': 0.8461538461538461, 'tpr': 0.6666666666666666, 'fpr': 0.058823529411764705, 'shd': 11, 'pred_size': 13, 'h1_dim': 50, 'lambda1': 0.05, 'lambda2': 0.01, 'lr': 0.01}\n"
     ]
    },
    {
     "data": {
      "application/vnd.jupyter.widget-view+json": {
       "model_id": "a95804f11e0d416fb03f450d329b0a64",
       "version_major": 2,
       "version_minor": 0
      },
      "text/plain": [
       "  0%|          | 0/230000.0 [00:00<?, ?it/s]"
      ]
     },
     "metadata": {},
     "output_type": "display_data"
    },
    {
     "name": "stdout",
     "output_type": "stream",
     "text": [
      "{'fdr': 0.2857142857142857, 'tpr': 0.9375, 'fpr': 0.034482758620689655, 'shd': 6, 'pred_size': 21, 'h1_dim': 50, 'lambda1': 0.05, 'lambda2': 0.01, 'lr': 0.02}\n"
     ]
    },
    {
     "data": {
      "application/vnd.jupyter.widget-view+json": {
       "model_id": "05c33f0af44143288c1aed740654f94f",
       "version_major": 2,
       "version_minor": 0
      },
      "text/plain": [
       "  0%|          | 0/230000.0 [00:00<?, ?it/s]"
      ]
     },
     "metadata": {},
     "output_type": "display_data"
    },
    {
     "name": "stdout",
     "output_type": "stream",
     "text": [
      "{'fdr': 0.72, 'tpr': 0.6363636363636364, 'fpr': 0.1005586592178771, 'shd': 20, 'pred_size': 25, 'h1_dim': 50, 'lambda1': 0.05, 'lambda2': 0.03, 'lr': 0.005}\n"
     ]
    },
    {
     "data": {
      "application/vnd.jupyter.widget-view+json": {
       "model_id": "6c7bea449ed742b4bf34d8c0cbaf5c1c",
       "version_major": 2,
       "version_minor": 0
      },
      "text/plain": [
       "  0%|          | 0/230000.0 [00:00<?, ?it/s]"
      ]
     },
     "metadata": {},
     "output_type": "display_data"
    },
    {
     "name": "stdout",
     "output_type": "stream",
     "text": [
      "{'fdr': 0.8235294117647058, 'tpr': 0.75, 'fpr': 0.07526881720430108, 'shd': 14, 'pred_size': 17, 'h1_dim': 50, 'lambda1': 0.05, 'lambda2': 0.03, 'lr': 0.01}\n"
     ]
    },
    {
     "data": {
      "application/vnd.jupyter.widget-view+json": {
       "model_id": "dec8725f9232476bb287258edfce6257",
       "version_major": 2,
       "version_minor": 0
      },
      "text/plain": [
       "  0%|          | 0/230000.0 [00:00<?, ?it/s]"
      ]
     },
     "metadata": {},
     "output_type": "display_data"
    },
    {
     "name": "stdout",
     "output_type": "stream",
     "text": [
      "{'fdr': 0.7142857142857143, 'tpr': 0.75, 'fpr': 0.08241758241758242, 'shd': 16, 'pred_size': 21, 'h1_dim': 50, 'lambda1': 0.05, 'lambda2': 0.03, 'lr': 0.02}\n"
     ]
    },
    {
     "data": {
      "application/vnd.jupyter.widget-view+json": {
       "model_id": "bb8bd9b1096b4cd9bc985a07d792abb0",
       "version_major": 2,
       "version_minor": 0
      },
      "text/plain": [
       "  0%|          | 0/230000.0 [00:00<?, ?it/s]"
      ]
     },
     "metadata": {},
     "output_type": "display_data"
    },
    {
     "name": "stdout",
     "output_type": "stream",
     "text": [
      "{'fdr': 0.9565217391304348, 'tpr': 0.5, 'fpr': 0.11702127659574468, 'shd': 22, 'pred_size': 23, 'h1_dim': 50, 'lambda1': 0.05, 'lambda2': 0.05, 'lr': 0.005}\n"
     ]
    },
    {
     "data": {
      "application/vnd.jupyter.widget-view+json": {
       "model_id": "8b496897b59e40939e308bb0c4341665",
       "version_major": 2,
       "version_minor": 0
      },
      "text/plain": [
       "  0%|          | 0/230000.0 [00:00<?, ?it/s]"
      ]
     },
     "metadata": {},
     "output_type": "display_data"
    },
    {
     "name": "stdout",
     "output_type": "stream",
     "text": [
      "{'fdr': 0.8, 'tpr': 0.75, 'fpr': 0.06451612903225806, 'shd': 13, 'pred_size': 15, 'h1_dim': 50, 'lambda1': 0.05, 'lambda2': 0.05, 'lr': 0.01}\n"
     ]
    },
    {
     "data": {
      "application/vnd.jupyter.widget-view+json": {
       "model_id": "b51d9f0811874234aa36a0b65c81dd8e",
       "version_major": 2,
       "version_minor": 0
      },
      "text/plain": [
       "  0%|          | 0/230000.0 [00:00<?, ?it/s]"
      ]
     },
     "metadata": {},
     "output_type": "display_data"
    },
    {
     "name": "stdout",
     "output_type": "stream",
     "text": [
      "{'fdr': 0.8125, 'tpr': 0.75, 'fpr': 0.06989247311827956, 'shd': 13, 'pred_size': 16, 'h1_dim': 50, 'lambda1': 0.05, 'lambda2': 0.05, 'lr': 0.02}\n"
     ]
    },
    {
     "data": {
      "application/vnd.jupyter.widget-view+json": {
       "model_id": "32be3293031d4113a468cc8a0e05374a",
       "version_major": 2,
       "version_minor": 0
      },
      "text/plain": [
       "  0%|          | 0/230000.0 [00:00<?, ?it/s]"
      ]
     },
     "metadata": {},
     "output_type": "display_data"
    },
    {
     "name": "stdout",
     "output_type": "stream",
     "text": [
      "{'fdr': 0.2631578947368421, 'tpr': 0.9333333333333333, 'fpr': 0.02857142857142857, 'shd': 6, 'pred_size': 19, 'h1_dim': 50, 'lambda1': 0.1, 'lambda2': 0.005, 'lr': 0.005}\n"
     ]
    },
    {
     "data": {
      "application/vnd.jupyter.widget-view+json": {
       "model_id": "2dee6c51cb5e40458de153c68782ad16",
       "version_major": 2,
       "version_minor": 0
      },
      "text/plain": [
       "  0%|          | 0/230000.0 [00:00<?, ?it/s]"
      ]
     },
     "metadata": {},
     "output_type": "display_data"
    },
    {
     "name": "stdout",
     "output_type": "stream",
     "text": [
      "{'fdr': 0.35, 'tpr': 1.0, 'fpr': 0.03954802259887006, 'shd': 7, 'pred_size': 20, 'h1_dim': 50, 'lambda1': 0.1, 'lambda2': 0.005, 'lr': 0.01}\n"
     ]
    },
    {
     "data": {
      "application/vnd.jupyter.widget-view+json": {
       "model_id": "cb4f9d85286d47a18815274429032533",
       "version_major": 2,
       "version_minor": 0
      },
      "text/plain": [
       "  0%|          | 0/230000.0 [00:00<?, ?it/s]"
      ]
     },
     "metadata": {},
     "output_type": "display_data"
    },
    {
     "name": "stdout",
     "output_type": "stream",
     "text": [
      "{'fdr': 0.5, 'tpr': 1.0, 'fpr': 0.049723756906077346, 'shd': 9, 'pred_size': 18, 'h1_dim': 50, 'lambda1': 0.1, 'lambda2': 0.005, 'lr': 0.02}\n"
     ]
    },
    {
     "data": {
      "application/vnd.jupyter.widget-view+json": {
       "model_id": "5c100a641617434599a372c232bf8784",
       "version_major": 2,
       "version_minor": 0
      },
      "text/plain": [
       "  0%|          | 0/230000.0 [00:00<?, ?it/s]"
      ]
     },
     "metadata": {},
     "output_type": "display_data"
    },
    {
     "name": "stdout",
     "output_type": "stream",
     "text": [
      "{'fdr': 1.0, 'tpr': 0.0, 'fpr': 0.11052631578947368, 'shd': 21, 'pred_size': 21, 'h1_dim': 50, 'lambda1': 0.1, 'lambda2': 0.01, 'lr': 0.005}\n"
     ]
    },
    {
     "data": {
      "application/vnd.jupyter.widget-view+json": {
       "model_id": "e53dd6689b174073b98dbf16d7197691",
       "version_major": 2,
       "version_minor": 0
      },
      "text/plain": [
       "  0%|          | 0/230000.0 [00:00<?, ?it/s]"
      ]
     },
     "metadata": {},
     "output_type": "display_data"
    },
    {
     "name": "stdout",
     "output_type": "stream",
     "text": [
      "{'fdr': 0.9545454545454546, 'tpr': 0.5, 'fpr': 0.11170212765957446, 'shd': 21, 'pred_size': 22, 'h1_dim': 50, 'lambda1': 0.1, 'lambda2': 0.01, 'lr': 0.01}\n"
     ]
    },
    {
     "data": {
      "application/vnd.jupyter.widget-view+json": {
       "model_id": "a4139ebd6629479e9404f5ea63be09ce",
       "version_major": 2,
       "version_minor": 0
      },
      "text/plain": [
       "  0%|          | 0/230000.0 [00:00<?, ?it/s]"
      ]
     },
     "metadata": {},
     "output_type": "display_data"
    },
    {
     "name": "stdout",
     "output_type": "stream",
     "text": [
      "{'fdr': 0.631578947368421, 'tpr': 0.875, 'fpr': 0.06593406593406594, 'shd': 13, 'pred_size': 19, 'h1_dim': 50, 'lambda1': 0.1, 'lambda2': 0.01, 'lr': 0.02}\n"
     ]
    },
    {
     "data": {
      "application/vnd.jupyter.widget-view+json": {
       "model_id": "ac3bef06d392456ab5949fc6bd7a4175",
       "version_major": 2,
       "version_minor": 0
      },
      "text/plain": [
       "  0%|          | 0/230000.0 [00:00<?, ?it/s]"
      ]
     },
     "metadata": {},
     "output_type": "display_data"
    },
    {
     "name": "stdout",
     "output_type": "stream",
     "text": [
      "{'fdr': 0.9166666666666666, 'tpr': 1.0, 'fpr': 0.11702127659574468, 'shd': 22, 'pred_size': 24, 'h1_dim': 50, 'lambda1': 0.1, 'lambda2': 0.03, 'lr': 0.005}\n"
     ]
    },
    {
     "data": {
      "application/vnd.jupyter.widget-view+json": {
       "model_id": "5469933ccc994b42b40233c8759a4735",
       "version_major": 2,
       "version_minor": 0
      },
      "text/plain": [
       "  0%|          | 0/230000.0 [00:00<?, ?it/s]"
      ]
     },
     "metadata": {},
     "output_type": "display_data"
    },
    {
     "name": "stdout",
     "output_type": "stream",
     "text": [
      "{'fdr': 0.8461538461538461, 'tpr': 0.6666666666666666, 'fpr': 0.058823529411764705, 'shd': 12, 'pred_size': 13, 'h1_dim': 50, 'lambda1': 0.1, 'lambda2': 0.03, 'lr': 0.01}\n"
     ]
    },
    {
     "data": {
      "application/vnd.jupyter.widget-view+json": {
       "model_id": "cf6376d26253421b9485a3b3197eee9f",
       "version_major": 2,
       "version_minor": 0
      },
      "text/plain": [
       "  0%|          | 0/230000.0 [00:00<?, ?it/s]"
      ]
     },
     "metadata": {},
     "output_type": "display_data"
    },
    {
     "name": "stdout",
     "output_type": "stream",
     "text": [
      "{'fdr': 1.0, 'tpr': 0.0, 'fpr': 0.12234042553191489, 'shd': 23, 'pred_size': 23, 'h1_dim': 50, 'lambda1': 0.1, 'lambda2': 0.03, 'lr': 0.02}\n"
     ]
    },
    {
     "data": {
      "application/vnd.jupyter.widget-view+json": {
       "model_id": "b33755f5357f4f96ac462b4d7e4e24cb",
       "version_major": 2,
       "version_minor": 0
      },
      "text/plain": [
       "  0%|          | 0/230000.0 [00:00<?, ?it/s]"
      ]
     },
     "metadata": {},
     "output_type": "display_data"
    },
    {
     "name": "stdout",
     "output_type": "stream",
     "text": [
      "{'fdr': 0.8571428571428571, 'tpr': 0.6666666666666666, 'fpr': 0.06417112299465241, 'shd': 13, 'pred_size': 14, 'h1_dim': 50, 'lambda1': 0.1, 'lambda2': 0.05, 'lr': 0.005}\n"
     ]
    },
    {
     "data": {
      "application/vnd.jupyter.widget-view+json": {
       "model_id": "3c1245af85fd4dabbcbf77cd34745297",
       "version_major": 2,
       "version_minor": 0
      },
      "text/plain": [
       "  0%|          | 0/230000.0 [00:00<?, ?it/s]"
      ]
     },
     "metadata": {},
     "output_type": "display_data"
    },
    {
     "name": "stdout",
     "output_type": "stream",
     "text": [
      "{'fdr': 0.9565217391304348, 'tpr': 0.5, 'fpr': 0.11702127659574468, 'shd': 22, 'pred_size': 23, 'h1_dim': 50, 'lambda1': 0.1, 'lambda2': 0.05, 'lr': 0.01}\n"
     ]
    },
    {
     "data": {
      "application/vnd.jupyter.widget-view+json": {
       "model_id": "8d41fb8fb8024585a487fc4a7850cda8",
       "version_major": 2,
       "version_minor": 0
      },
      "text/plain": [
       "  0%|          | 0/230000.0 [00:00<?, ?it/s]"
      ]
     },
     "metadata": {},
     "output_type": "display_data"
    },
    {
     "name": "stdout",
     "output_type": "stream",
     "text": [
      "{'fdr': 1.0, 'tpr': 0.0, 'fpr': 0.08421052631578947, 'shd': 16, 'pred_size': 16, 'h1_dim': 50, 'lambda1': 0.1, 'lambda2': 0.05, 'lr': 0.02}\n"
     ]
    }
   ],
   "source": [
    "perform_grid_search(grid, model_func=dagma, output_dir='dagmanl_01.jsonl')"
   ]
  },
  {
   "cell_type": "code",
   "execution_count": null,
   "metadata": {},
   "outputs": [],
   "source": []
  }
 ],
 "metadata": {
  "kernelspec": {
   "display_name": "base",
   "language": "python",
   "name": "python3"
  },
  "language_info": {
   "codemirror_mode": {
    "name": "ipython",
    "version": 3
   },
   "file_extension": ".py",
   "mimetype": "text/x-python",
   "name": "python",
   "nbconvert_exporter": "python",
   "pygments_lexer": "ipython3",
   "version": "3.11.7"
  }
 },
 "nbformat": 4,
 "nbformat_minor": 2
}
