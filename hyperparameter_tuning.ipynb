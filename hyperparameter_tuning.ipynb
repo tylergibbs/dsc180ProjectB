{
 "cells": [
  {
   "cell_type": "code",
   "execution_count": 2,
   "metadata": {},
   "outputs": [],
   "source": [
    "from dagma_nl import nonlinear_dagma\n",
    "from dagma_nl.generate_data import SyntheticDataset\n",
    "\n"
   ]
  },
  {
   "cell_type": "code",
   "execution_count": null,
   "metadata": {},
   "outputs": [],
   "source": []
  },
  {
   "cell_type": "code",
   "execution_count": null,
   "metadata": {},
   "outputs": [],
   "source": [
    "    \n",
    "def dagma(h1_dim, lambda1, lambda2, lr):\n",
    "    # these vars are fixed\n",
    "    n, d, p = 1000, 5, 3\n",
    "    dag_obj = SyntheticDataset(n, d, p, B_scale=1.0, graph_type='ER', degree=2, A_scale=1.0, noise_type='EV', mlp=True)\n",
    "\n",
    "    A_true = dag_obj.A\n",
    "    X = dag_obj.X\n",
    "    Y = dag_obj.Y\n",
    "\n",
    "    # we manipulate these\n",
    "    # h1_dim = 30\n",
    "    # lambda1=0.01\n",
    "    # lambda2=0.03\n",
    "    # lr=0.02\n",
    "\n",
    "    eq_model = nonlinear_dagma.DagmaMLP(dims=[(p+1) * d, h1_dim, 1], out_dims=d, bias=True)\n",
    "    model = nonlinear_dagma.DagmaNonlinear(eq_model)\n",
    "    adj = eq_model.fc1_to_adj()\n",
    "    W_est = model.fit(X, Y, lambda1=lambda1, lambda2=lambda2, lr=lr, w_threshold=0)\n",
    "    return W_est, A_true\n"
   ]
  },
  {
   "cell_type": "code",
   "execution_count": 10,
   "metadata": {},
   "outputs": [],
   "source": [
    "import testing_utils\n",
    "import numpy as np\n",
    "import jsonlines"
   ]
  },
  {
   "cell_type": "code",
   "execution_count": 8,
   "metadata": {},
   "outputs": [],
   "source": [
    "def postprocess_A(A_est,  A_true, graph_thres=0.1):\n",
    "   # convert est to dag:\n",
    "    d = A_est.shape[1]\n",
    "    p = int(A_est.shape[0] / d) - 1\n",
    "    A_dag = np.hstack([A_est, np.zeros(((p+ 1) * d, p * d))]) \n",
    "    A_true_dag = np.hstack([A_true, np.zeros(((p+ 1) * d, p * d))]) \n",
    "    # threshold \n",
    "    A_dag = testing_utils.postprocess(A_dag, graph_thres)\n",
    "    return A_dag, A_true_dag\n",
    "\n"
   ]
  },
  {
   "cell_type": "code",
   "execution_count": 11,
   "metadata": {},
   "outputs": [],
   "source": [
    "def save_metrics(A_est, A_true, param_dict, output_dir):\n",
    "    metric_dict = testing_utils.count_accuracy(A_est != 0, A_true != 0)\n",
    "    metric_dict |= param_dict\n",
    "    with jsonlines.open(output_dir, mode='a') as f:\n",
    "        f.write(metric_dict)\n",
    "    return metric_dict\n",
    "\n",
    "\n"
   ]
  },
  {
   "cell_type": "code",
   "execution_count": 12,
   "metadata": {},
   "outputs": [],
   "source": [
    "def dagma_grid(h1_dim_list, lambda1_list, lambda2_list, lr_list):\n",
    "    out_list = []\n",
    "    for h1_dim in h1_dim_list:\n",
    "        for lambda1 in lambda1_list:\n",
    "            for lambda2 in lambda2_list:\n",
    "                for lr in lr_list:\n",
    "                    out_list.append({\n",
    "                        'h1_dim': h1_dim,\n",
    "                        'lambda1': lambda1,\n",
    "                        'lambda2': lambda2,\n",
    "                        'lr': lr\n",
    "                    })\n",
    "    return out_list\n"
   ]
  },
  {
   "cell_type": "code",
   "execution_count": 13,
   "metadata": {},
   "outputs": [],
   "source": [
    "def perform_grid_search(grid, model_func, output_dir):\n",
    "    # we have the grid already, now we just iterate thru it\n",
    "    for g in grid:\n",
    "        # get estimantes and true dag\n",
    "        A_est, A_true = model_func(**g)\n",
    "        # post process\n",
    "        A_est, A_true = postprocess_A(A_est, A_true)\n",
    "        # save metrics\n",
    "        metrics = save_metrics(A_est, A_true, param_dict=g, output_dir=output_dir)\n",
    "        print(metrics)\n",
    "    \n"
   ]
  },
  {
   "cell_type": "code",
   "execution_count": 18,
   "metadata": {},
   "outputs": [
    {
     "data": {
      "text/plain": [
       "180"
      ]
     },
     "execution_count": 18,
     "metadata": {},
     "output_type": "execute_result"
    }
   ],
   "source": [
    "grid = dagma_grid(\n",
    "    h1_dim_list=[10, 20, 50],\n",
    "    lambda1_list=[0.005, 0.01, 0.02, 0.05, 0.1],\n",
    "    lambda2_list=[0.005, 0.01, 0.03, 0.05],\n",
    "    lr_list=[0.005, 0.01, 0.02]\n",
    ")\n",
    "len(grid)"
   ]
  },
  {
   "cell_type": "code",
   "execution_count": 17,
   "metadata": {},
   "outputs": [
    {
     "data": {
      "text/plain": [
       "180"
      ]
     },
     "execution_count": 17,
     "metadata": {},
     "output_type": "execute_result"
    }
   ],
   "source": [
    "perform_grid_search()"
   ]
  },
  {
   "cell_type": "code",
   "execution_count": null,
   "metadata": {},
   "outputs": [],
   "source": [
    "with jsonlines.open('test.jsonl', mode='a') as f:\n",
    "    f.write({'hello': 'hi'})"
   ]
  }
 ],
 "metadata": {
  "kernelspec": {
   "display_name": "base",
   "language": "python",
   "name": "python3"
  },
  "language_info": {
   "codemirror_mode": {
    "name": "ipython",
    "version": 3
   },
   "file_extension": ".py",
   "mimetype": "text/x-python",
   "name": "python",
   "nbconvert_exporter": "python",
   "pygments_lexer": "ipython3",
   "version": "3.11.7"
  }
 },
 "nbformat": 4,
 "nbformat_minor": 2
}
