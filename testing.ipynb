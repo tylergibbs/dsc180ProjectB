{
 "cells": [
  {
   "cell_type": "code",
   "execution_count": 1,
   "id": "774bdbc9",
   "metadata": {},
   "outputs": [],
   "source": [
    "import numpy as np\n",
    "import scipy.linalg as sla\n",
    "import numpy.linalg as la\n",
    "from scipy.special import expit as sigmoid\n",
    "import scipy as sc\n",
    "from statsmodels.tsa.api import VAR"
   ]
  },
  {
   "cell_type": "code",
   "execution_count": 2,
   "id": "feb9671c",
   "metadata": {},
   "outputs": [],
   "source": [
    "varables = 3\n",
    "observations = 1400\n",
    "window = 2\n",
    "#to use later \n",
    "times = 5"
   ]
  },
  {
   "cell_type": "code",
   "execution_count": 3,
   "id": "c8098bdc",
   "metadata": {},
   "outputs": [],
   "source": [
    "def qDag(w):\n",
    "    return np.trace(sc.linalg.expm(np.multiply(w,w))) - w.shape[0]\n",
    "def get_r(off):\n",
    "    return lambda n: np.random.rand(n)+off"
   ]
  },
  {
   "cell_type": "code",
   "execution_count": 4,
   "id": "68046d53",
   "metadata": {},
   "outputs": [],
   "source": [
    "dagY = sc.sparse.random(varables, varables*window, density=0.15, data_rvs=get_r(.5)).A\n",
    "\n",
    "dagX = np.eye(varables, varables)\n",
    "while qDag(dagX) != 0:\n",
    "    dagX = sc.sparse.random(varables, varables, density=0.25, data_rvs=get_r(.5)).A\n",
    "    np.fill_diagonal(dagX, 0)"
   ]
  },
  {
   "cell_type": "code",
   "execution_count": 5,
   "id": "8936b0b3",
   "metadata": {},
   "outputs": [
    {
     "name": "stdout",
     "output_type": "stream",
     "text": [
      "0.0\n",
      "[[0.         0.89071694 0.        ]\n",
      " [0.         0.         0.        ]\n",
      " [0.         0.         0.        ]]\n",
      "[[0.         0.         0.         0.         0.         0.        ]\n",
      " [0.88865483 0.         0.         0.         1.00851057 0.        ]\n",
      " [0.         0.         0.         0.         0.         0.89025537]]\n"
     ]
    }
   ],
   "source": [
    "print(qDag(dagX))\n",
    "print(dagX)\n",
    "print(dagY)"
   ]
  },
  {
   "cell_type": "code",
   "execution_count": 6,
   "id": "5b49c5ca",
   "metadata": {},
   "outputs": [
    {
     "name": "stdout",
     "output_type": "stream",
     "text": [
      "(3, 6)\n",
      "(6, 1400)\n"
     ]
    }
   ],
   "source": [
    "def rand(n):\n",
    "    return 2*(np.random.rand(n)-.5)\n",
    "\n",
    "Y_pre = rand(observations*varables*window).reshape(varables*window, observations)\n",
    "print(dagY.shape)\n",
    "print(Y_pre.shape)"
   ]
  },
  {
   "cell_type": "code",
   "execution_count": 7,
   "id": "96a8769f",
   "metadata": {},
   "outputs": [],
   "source": [
    "#X = XW + YA + Z\n",
    "\n",
    "def randFlat(X):\n",
    "    return rand(X.shape[0]*X.shape[1]).reshape(*X.shape)\n",
    "\n",
    "def onesFlat(X):\n",
    "    return np.ones(X.shape[0]*X.shape[1]).reshape(*X.shape)\n",
    "\n",
    "def update(preY, preX, dagY, dagX, rand):\n",
    "    Xy = np.matmul(dagY, preY)\n",
    "    Xr = rand(preX)\n",
    "    Xx = np.matmul(dagX, Xr)\n",
    "    X = Xr + Xx + Xy\n",
    "    \n",
    "    return X\n",
    "\n",
    "def step(preY, dagY, dagX, window, var, rand):\n",
    "    preX = preY[:var]\n",
    "    preY = preY[:window*var]\n",
    "    return update(preY, preX, dagY, dagX, rand)\n",
    "\n",
    "def makeSynthData(preY, times, obs, var, pad, rand=rand):\n",
    "    window = preY.shape[0]//var\n",
    "    \n",
    "    for i in range(pad+window):\n",
    "        newX = step(preY, dagY, dagX, window, var, rand)\n",
    "        preY = np.append(newX, preY, axis=0)\n",
    "\n",
    "    Y = preY[:window*var]\n",
    "\n",
    "    for i in range(times - window):\n",
    "        newX = step(Y, dagY, dagX, window, var, rand)\n",
    "        Y = np.append(newX, Y, axis=0)\n",
    "        \n",
    "    return Y\n",
    "    \n",
    "\n",
    "\n",
    "\n",
    "#later\n",
    "#W = np.random.rand(varables*observations).reshape(varables,observations)"
   ]
  },
  {
   "cell_type": "code",
   "execution_count": 8,
   "id": "c37c00ea",
   "metadata": {},
   "outputs": [],
   "source": [
    "Y_pre = np.ones(observations*varables*window).reshape(varables*window, observations)\n",
    "XY = makeSynthData(Y_pre, times, observations, varables, 0, randFlat)\n"
   ]
  },
  {
   "cell_type": "code",
   "execution_count": 9,
   "id": "6e3d3fd0",
   "metadata": {},
   "outputs": [],
   "source": [
    "Y=XY[varables:window*varables+varables]\n",
    "X=XY[:varables]"
   ]
  },
  {
   "cell_type": "code",
   "execution_count": 10,
   "id": "52a8abae",
   "metadata": {},
   "outputs": [
    {
     "data": {
      "text/plain": [
       "array([[-0.34372468, -0.40113629, -0.22635544, ..., -0.66093134,\n",
       "        -0.68677279,  0.12527215],\n",
       "       [ 2.19619853,  2.42958787,  4.28345266, ...,  0.9245504 ,\n",
       "        -0.56482533,  3.43890356],\n",
       "       [ 0.88942179, -0.01945154,  0.38407955, ...,  0.24296432,\n",
       "         0.42007838, -1.18955797],\n",
       "       ...,\n",
       "       [ 0.26495205,  0.37398413, -0.74142983, ..., -1.75008585,\n",
       "         0.05731122,  0.91811098],\n",
       "       [ 2.50706468,  1.2014802 ,  2.11233118, ...,  1.04057935,\n",
       "         1.37772098,  2.71198897],\n",
       "       [ 0.22775684,  1.85787558,  0.40766613, ...,  1.09041763,\n",
       "         1.22146991, -0.04033202]])"
      ]
     },
     "execution_count": 10,
     "metadata": {},
     "output_type": "execute_result"
    }
   ],
   "source": [
    "XY"
   ]
  },
  {
   "cell_type": "code",
   "execution_count": null,
   "id": "cf5792cc",
   "metadata": {},
   "outputs": [],
   "source": []
  },
  {
   "cell_type": "code",
   "execution_count": 11,
   "id": "d7ce8010",
   "metadata": {},
   "outputs": [],
   "source": [
    "C_init = np.random.rand(varables*varables*window + varables*varables)"
   ]
  },
  {
   "cell_type": "code",
   "execution_count": 12,
   "id": "44781fe1",
   "metadata": {},
   "outputs": [],
   "source": [
    "def f_DYNOTEARS(X, Y, lA, lB):\n",
    "    def aux(C):\n",
    "        a = C[:varables*window*varables].reshape(varables, varables*window)\n",
    "        w = C[varables*window*varables:].reshape(varables, varables)\n",
    "    \n",
    "        loss = np.square(\n",
    "                np.linalg.norm(\n",
    "                    np.matmul(np.eye(varables, varables) - w, X)\n",
    "                    - np.matmul(a, Y)\n",
    "                    , \"fro\"\n",
    "                )\n",
    "            )/np.prod(X.shape)\n",
    "        #print(loss)\n",
    "        return loss + lB*np.linalg.norm(w.flatten(), 1) + lA*np.linalg.norm(a.flatten(), 1) \n",
    "    return aux"
   ]
  },
  {
   "cell_type": "code",
   "execution_count": null,
   "id": "d43788c0",
   "metadata": {},
   "outputs": [],
   "source": []
  },
  {
   "cell_type": "code",
   "execution_count": 13,
   "id": "d51e60d7",
   "metadata": {},
   "outputs": [],
   "source": [
    "def constr_DYNOTEARS(C):\n",
    "    w = C[varables*window*varables:].reshape(varables, varables)\n",
    "    return qDag(w)\n",
    "\n",
    "cons = {'type':'eq', 'fun': constr_DYNOTEARS}\n",
    "\n",
    "C = sc.optimize.minimize(f_DYNOTEARS(X,Y,.1,.1) , C_init, constraints=cons).x"
   ]
  },
  {
   "cell_type": "code",
   "execution_count": 14,
   "id": "cdc2a7dc",
   "metadata": {},
   "outputs": [],
   "source": [
    "A = C[:varables*window*varables].reshape(varables, varables*window)\n",
    "W = C[varables*window*varables:].reshape(varables, varables)\n",
    "np.fill_diagonal(W, 0)"
   ]
  },
  {
   "cell_type": "code",
   "execution_count": 15,
   "id": "d2b3c3dd",
   "metadata": {},
   "outputs": [
    {
     "data": {
      "text/plain": [
       "array([[-0. ,  0. ,  0. , -0. ,  0. ,  0. ],\n",
       "       [ 0.7,  0. ,  0. , -0. ,  1. ,  0. ],\n",
       "       [ 0. ,  0. , -0. , -0. ,  0. ,  0.8]])"
      ]
     },
     "execution_count": 15,
     "metadata": {},
     "output_type": "execute_result"
    }
   ],
   "source": [
    "A.round(1)"
   ]
  },
  {
   "cell_type": "code",
   "execution_count": 16,
   "id": "ea57f251",
   "metadata": {},
   "outputs": [
    {
     "data": {
      "text/plain": [
       "array([[0. , 0. , 0. , 0. , 0. , 0. ],\n",
       "       [0.9, 0. , 0. , 0. , 1. , 0. ],\n",
       "       [0. , 0. , 0. , 0. , 0. , 0.9]])"
      ]
     },
     "execution_count": 16,
     "metadata": {},
     "output_type": "execute_result"
    }
   ],
   "source": [
    "dagY.round(1)"
   ]
  },
  {
   "cell_type": "code",
   "execution_count": null,
   "id": "594ad8b1",
   "metadata": {},
   "outputs": [],
   "source": []
  },
  {
   "cell_type": "code",
   "execution_count": 17,
   "id": "8a6ac974",
   "metadata": {},
   "outputs": [
    {
     "data": {
      "text/plain": [
       "array([[0. , 0. , 0. ],\n",
       "       [0.2, 0. , 0. ],\n",
       "       [0. , 0. , 0. ]])"
      ]
     },
     "execution_count": 17,
     "metadata": {},
     "output_type": "execute_result"
    }
   ],
   "source": [
    "W.round(1)"
   ]
  },
  {
   "cell_type": "code",
   "execution_count": 18,
   "id": "88a056d8",
   "metadata": {},
   "outputs": [
    {
     "data": {
      "text/plain": [
       "array([[0. , 0.9, 0. ],\n",
       "       [0. , 0. , 0. ],\n",
       "       [0. , 0. , 0. ]])"
      ]
     },
     "execution_count": 18,
     "metadata": {},
     "output_type": "execute_result"
    }
   ],
   "source": [
    "dagX.round(1)"
   ]
  },
  {
   "cell_type": "code",
   "execution_count": 19,
   "id": "6c0464d8",
   "metadata": {},
   "outputs": [
    {
     "data": {
      "text/plain": [
       "array([[0. , 0. , 0. ],\n",
       "       [0.9, 0. , 0. ],\n",
       "       [0. , 0. , 0. ]])"
      ]
     },
     "execution_count": 19,
     "metadata": {},
     "output_type": "execute_result"
    }
   ],
   "source": [
    "dagX.T.round(1)"
   ]
  },
  {
   "cell_type": "code",
   "execution_count": null,
   "id": "8205f840",
   "metadata": {},
   "outputs": [],
   "source": []
  },
  {
   "cell_type": "code",
   "execution_count": null,
   "id": "584b525d",
   "metadata": {},
   "outputs": [],
   "source": []
  },
  {
   "cell_type": "code",
   "execution_count": 20,
   "id": "e2837d43",
   "metadata": {},
   "outputs": [],
   "source": [
    "def H1ldet(W):\n",
    "    det = np.linalg.det(np.eye(W.shape[0]) - np.multiply(W,W))\n",
    "    if (det <= 0):\n",
    "        print(det)\n",
    "    return -np.log(det)\n",
    "\n",
    "def constr_DAGMA(C):\n",
    "    w = C[varables*window*varables:].reshape(varables, varables)\n",
    "    return H1ldet(w)\n",
    "\n",
    "A_init = np.random.rand(varables*varables*window)\n",
    "\n",
    "W_init = np.random.rand(varables*varables).reshape(varables, varables)\n",
    "np.fill_diagonal(W_init, 0)\n",
    "while H1ldet(W_init) is np.nan:\n",
    "    W_init = np.random.rand(varables*varables).reshape(varables, varables)\n",
    "    np.fill_diagonal(W, 0)\n",
    "\n",
    "C_init = np.append(A_init, W_init.reshape(varables*varables), axis = 0)\n",
    "\n",
    "cons = {'type':'eq', 'fun': constr_DAGMA}\n",
    "\n",
    "#C = sc.optimize.minimize(f_DYNOTEARS(X,Y,.01,.1) , C_init, constraints=cons).x"
   ]
  },
  {
   "cell_type": "code",
   "execution_count": 21,
   "id": "59fbb9e9",
   "metadata": {},
   "outputs": [],
   "source": [
    "A = C[:varables*window*varables].reshape(varables, varables*window)\n",
    "W = C[varables*window*varables:].reshape(varables, varables)\n",
    "np.fill_diagonal(W, 0)"
   ]
  },
  {
   "cell_type": "code",
   "execution_count": 22,
   "id": "5bb074e9",
   "metadata": {},
   "outputs": [
    {
     "data": {
      "text/plain": [
       "array([[0., 0., 0., 0., 0., 0.],\n",
       "       [1., 0., 0., 0., 1., 0.],\n",
       "       [0., 0., 0., 0., 0., 1.]])"
      ]
     },
     "execution_count": 22,
     "metadata": {},
     "output_type": "execute_result"
    }
   ],
   "source": [
    "A[A<.3] = 0\n",
    "A.round()"
   ]
  },
  {
   "cell_type": "code",
   "execution_count": 23,
   "id": "763c8223",
   "metadata": {},
   "outputs": [
    {
     "data": {
      "text/plain": [
       "array([[0., 0., 0., 0., 0., 0.],\n",
       "       [1., 0., 0., 0., 1., 0.],\n",
       "       [0., 0., 0., 0., 0., 1.]])"
      ]
     },
     "execution_count": 23,
     "metadata": {},
     "output_type": "execute_result"
    }
   ],
   "source": [
    "dagY.round()"
   ]
  },
  {
   "cell_type": "code",
   "execution_count": 24,
   "id": "1e2c5f90",
   "metadata": {},
   "outputs": [
    {
     "data": {
      "text/plain": [
       "array([[0. , 0. , 0. ],\n",
       "       [0.2, 0. , 0. ],\n",
       "       [0. , 0. , 0. ]])"
      ]
     },
     "execution_count": 24,
     "metadata": {},
     "output_type": "execute_result"
    }
   ],
   "source": [
    "W.round(1)"
   ]
  },
  {
   "cell_type": "code",
   "execution_count": 25,
   "id": "5d4c16a2",
   "metadata": {},
   "outputs": [
    {
     "data": {
      "text/plain": [
       "array([[0. , 0.9, 0. ],\n",
       "       [0. , 0. , 0. ],\n",
       "       [0. , 0. , 0. ]])"
      ]
     },
     "execution_count": 25,
     "metadata": {},
     "output_type": "execute_result"
    }
   ],
   "source": [
    "dagX.round(1)"
   ]
  },
  {
   "cell_type": "code",
   "execution_count": 26,
   "id": "dc442035",
   "metadata": {},
   "outputs": [
    {
     "data": {
      "text/plain": [
       "array([[0. , 0. , 0. ],\n",
       "       [0.9, 0. , 0. ],\n",
       "       [0. , 0. , 0. ]])"
      ]
     },
     "execution_count": 26,
     "metadata": {},
     "output_type": "execute_result"
    }
   ],
   "source": [
    "dagX.T.round(1)"
   ]
  },
  {
   "cell_type": "code",
   "execution_count": 27,
   "id": "5cbb2eff",
   "metadata": {},
   "outputs": [
    {
     "name": "stdout",
     "output_type": "stream",
     "text": [
      "-7.040788595097462\n"
     ]
    },
    {
     "name": "stderr",
     "output_type": "stream",
     "text": [
      "/var/folders/z_/p0tz320d6j13q0rkv_f35brm0000gn/T/ipykernel_19124/3164180601.py:5: RuntimeWarning: invalid value encountered in log\n",
      "  return -np.log(det)\n"
     ]
    },
    {
     "data": {
      "text/plain": [
       "nan"
      ]
     },
     "execution_count": 27,
     "metadata": {},
     "output_type": "execute_result"
    }
   ],
   "source": [
    "C_init = np.random.rand(varables*varables*window + varables*varables)\n",
    "H1ldet(C_init.T)"
   ]
  },
  {
   "cell_type": "code",
   "execution_count": 28,
   "id": "6d8e5149",
   "metadata": {},
   "outputs": [],
   "source": [
    "def metrics(A,dagY, W, dagX):\n",
    "    A = np.absolute(A) > 0.3\n",
    "    dagY = np.absolute(dagY) > .5\n",
    "    W = np.absolute(W) > 0.3\n",
    "    dagX = np.absolute(dagX) > .5\n",
    "    \n",
    "    preWrong = A != dagY\n",
    "    wWrong = W != dagX\n",
    "    #assumes cant be both wrong and inv\n",
    "    wInverse = W.T & dagX\n",
    "    \n",
    "    if ((W + W.T)==2).any():\n",
    "        print(W)\n",
    "        print(W.T)\n",
    "        raise \"error\"\n",
    "    \n",
    "    #print(A)\n",
    "    #print(dagY)\n",
    "    #print(W)\n",
    "    #print(dagX)\n",
    "    #print()\n",
    "    #print(preWrong)\n",
    "    #print(wWrong)\n",
    "    #print(wInverse)\n",
    "    \n",
    "    return {\n",
    "        \"preWrong\": sum(sum(preWrong)),\n",
    "        \"wWrong\": sum(sum(wWrong)),\n",
    "        \"wInverse\": sum(sum(wInverse))\n",
    "    }\n",
    "    "
   ]
  },
  {
   "cell_type": "code",
   "execution_count": 29,
   "id": "411a7222",
   "metadata": {},
   "outputs": [
    {
     "data": {
      "text/plain": [
       "{'preWrong': 0, 'wWrong': 1, 'wInverse': 0}"
      ]
     },
     "execution_count": 29,
     "metadata": {},
     "output_type": "execute_result"
    }
   ],
   "source": [
    "metrics(A,dagY, W, dagX)"
   ]
  },
  {
   "cell_type": "code",
   "execution_count": 30,
   "id": "e5099541",
   "metadata": {},
   "outputs": [
    {
     "data": {
      "text/plain": [
       "array([[0., 0., 0., 0., 0., 0.],\n",
       "       [1., 0., 0., 0., 1., 0.],\n",
       "       [0., 0., 0., 0., 0., 1.]])"
      ]
     },
     "execution_count": 30,
     "metadata": {},
     "output_type": "execute_result"
    }
   ],
   "source": [
    "A.round()"
   ]
  },
  {
   "cell_type": "code",
   "execution_count": 31,
   "id": "6008d893",
   "metadata": {},
   "outputs": [
    {
     "data": {
      "text/plain": [
       "array([[0., 0., 0., 0., 0., 0.],\n",
       "       [1., 0., 0., 0., 1., 0.],\n",
       "       [0., 0., 0., 0., 0., 1.]])"
      ]
     },
     "execution_count": 31,
     "metadata": {},
     "output_type": "execute_result"
    }
   ],
   "source": [
    "dagY.round()"
   ]
  },
  {
   "cell_type": "code",
   "execution_count": 32,
   "id": "185576b4",
   "metadata": {},
   "outputs": [
    {
     "data": {
      "text/plain": [
       "array([[-0.3, -0.4, -0.2, ..., -0.7, -0.7,  0.1],\n",
       "       [ 2.3,  2.5,  4.3, ...,  1.1, -0.4,  3.4],\n",
       "       [ 0.9, -0. ,  0.4, ...,  0.2,  0.4, -1.2]])"
      ]
     },
     "execution_count": 32,
     "metadata": {},
     "output_type": "execute_result"
    }
   ],
   "source": [
    "np.matmul(np.eye(varables, varables) - W, X).round(1)"
   ]
  },
  {
   "cell_type": "code",
   "execution_count": 33,
   "id": "c5d24c56",
   "metadata": {},
   "outputs": [],
   "source": [
    "def transformTimeData(data, window, times):\n",
    "    variables = data.shape[0]//times\n",
    "    print(data.shape[0]/times)\n",
    "    \n",
    "    snapshots = times - window - 1\n",
    "    \n",
    "    ret = []\n",
    "    \n",
    "    for i in range(snapshots):\n",
    "        slic = data[i*variables:i*variables+(window+1)*variables]\n",
    "        ret.append( slic)\n",
    "    \n",
    "    return np.hstack(ret)\n",
    "    \n",
    "    "
   ]
  },
  {
   "cell_type": "code",
   "execution_count": 34,
   "id": "297592a9",
   "metadata": {},
   "outputs": [
    {
     "name": "stdout",
     "output_type": "stream",
     "text": [
      "3.0\n"
     ]
    }
   ],
   "source": [
    "XY_stack = transformTimeData(XY, window, times)"
   ]
  },
  {
   "cell_type": "code",
   "execution_count": 35,
   "id": "7aa8d3a0",
   "metadata": {},
   "outputs": [],
   "source": [
    "Y_stack=XY_stack[varables:window*varables+varables]\n",
    "X_stack=XY_stack[:varables]\n"
   ]
  },
  {
   "cell_type": "code",
   "execution_count": null,
   "id": "c1ae4a1f",
   "metadata": {},
   "outputs": [],
   "source": []
  },
  {
   "cell_type": "code",
   "execution_count": 36,
   "id": "63458618",
   "metadata": {},
   "outputs": [
    {
     "name": "stdout",
     "output_type": "stream",
     "text": [
      "(15, 1400)\n",
      "(9, 2800)\n",
      "(6, 2800)\n",
      "(3, 2800)\n"
     ]
    }
   ],
   "source": [
    "print(XY.shape)\n",
    "print(XY_stack.shape)\n",
    "print(Y_stack.shape)\n",
    "print(X_stack.shape)"
   ]
  },
  {
   "cell_type": "code",
   "execution_count": 37,
   "id": "13fc0776",
   "metadata": {},
   "outputs": [
    {
     "data": {
      "text/plain": [
       "(15, 1400)"
      ]
     },
     "execution_count": 37,
     "metadata": {},
     "output_type": "execute_result"
    }
   ],
   "source": [
    "XY.shape"
   ]
  },
  {
   "cell_type": "code",
   "execution_count": 38,
   "id": "d8c79f42",
   "metadata": {},
   "outputs": [
    {
     "data": {
      "text/plain": [
       "array([[-0.34372468, -0.40113629, -0.22635544, ..., -0.1861515 ,\n",
       "        -0.67512727,  0.75099588],\n",
       "       [ 2.19619853,  2.42958787,  4.28345266, ..., -1.25204623,\n",
       "         0.85430509,  1.46265011],\n",
       "       [ 0.88942179, -0.01945154,  0.38407955, ...,  0.92345613,\n",
       "         1.29140859,  1.86370553],\n",
       "       ...,\n",
       "       [-1.07596974,  0.74463185,  1.15278123, ..., -0.71351337,\n",
       "        -1.09013413, -0.92316426],\n",
       "       [ 2.82273775,  1.87635302,  3.30889025, ..., -0.81495132,\n",
       "         0.81669791,  1.4320431 ],\n",
       "       [ 0.46669791,  0.88589757, -0.22659974, ...,  0.52057461,\n",
       "         0.54160716,  1.1469347 ]])"
      ]
     },
     "execution_count": 38,
     "metadata": {},
     "output_type": "execute_result"
    }
   ],
   "source": [
    "XY_stack"
   ]
  },
  {
   "cell_type": "code",
   "execution_count": 39,
   "id": "535f9162",
   "metadata": {},
   "outputs": [
    {
     "data": {
      "text/plain": [
       "array([[-0.34372468, -0.40113629, -0.22635544, ..., -0.1861515 ,\n",
       "        -0.67512727,  0.75099588],\n",
       "       [ 2.19619853,  2.42958787,  4.28345266, ..., -1.25204623,\n",
       "         0.85430509,  1.46265011],\n",
       "       [ 0.88942179, -0.01945154,  0.38407955, ...,  0.92345613,\n",
       "         1.29140859,  1.86370553]])"
      ]
     },
     "execution_count": 39,
     "metadata": {},
     "output_type": "execute_result"
    }
   ],
   "source": [
    "X_stack"
   ]
  },
  {
   "cell_type": "code",
   "execution_count": 40,
   "id": "1d21c92b",
   "metadata": {},
   "outputs": [
    {
     "data": {
      "text/plain": [
       "array([[ 0.04735874,  0.04764766,  0.15486903, ...,  0.51906431,\n",
       "         0.62995604,  0.02235007],\n",
       "       [ 1.95258704,  3.13947579,  1.31961228, ...,  0.93492239,\n",
       "         1.02517199,  2.31976387],\n",
       "       [-0.39825605,  0.9069102 ,  0.75125138, ...,  0.22892889,\n",
       "         1.34718742, -0.42919074],\n",
       "       [-1.07596974,  0.74463185,  1.15278123, ..., -0.71351337,\n",
       "        -1.09013413, -0.92316426],\n",
       "       [ 2.82273775,  1.87635302,  3.30889025, ..., -0.81495132,\n",
       "         0.81669791,  1.4320431 ],\n",
       "       [ 0.46669791,  0.88589757, -0.22659974, ...,  0.52057461,\n",
       "         0.54160716,  1.1469347 ]])"
      ]
     },
     "execution_count": 40,
     "metadata": {},
     "output_type": "execute_result"
    }
   ],
   "source": [
    "Y_stack"
   ]
  },
  {
   "cell_type": "code",
   "execution_count": 41,
   "id": "d5ba5735",
   "metadata": {},
   "outputs": [],
   "source": [
    "cons = {'type':'eq', 'fun': constr_DYNOTEARS}\n",
    "C = sc.optimize.minimize(f_DYNOTEARS(X_stack,Y_stack,.01,.1) , C_init, constraints=cons).x"
   ]
  },
  {
   "cell_type": "code",
   "execution_count": 42,
   "id": "30e566a6",
   "metadata": {},
   "outputs": [],
   "source": [
    "A = C[:varables*window*varables].reshape(varables, varables*window)\n",
    "W = C[varables*window*varables:].reshape(varables, varables)\n",
    "np.fill_diagonal(W, 0)"
   ]
  },
  {
   "cell_type": "code",
   "execution_count": 43,
   "id": "d9a4d5e4",
   "metadata": {},
   "outputs": [
    {
     "data": {
      "text/plain": [
       "array([[0.3, 0. , 0. , 0. , 0.3, 0. ],\n",
       "       [0.9, 0. , 0. , 0. , 1. , 0. ],\n",
       "       [0. , 0. , 0. , 0. , 0. , 0.9]])"
      ]
     },
     "execution_count": 43,
     "metadata": {},
     "output_type": "execute_result"
    }
   ],
   "source": [
    "abs(A.round(1))"
   ]
  },
  {
   "cell_type": "code",
   "execution_count": 44,
   "id": "9f99eaa4",
   "metadata": {},
   "outputs": [
    {
     "data": {
      "text/plain": [
       "array([[0. , 0. , 0. , 0. , 0. , 0. ],\n",
       "       [0.9, 0. , 0. , 0. , 1. , 0. ],\n",
       "       [0. , 0. , 0. , 0. , 0. , 0.9]])"
      ]
     },
     "execution_count": 44,
     "metadata": {},
     "output_type": "execute_result"
    }
   ],
   "source": [
    "dagY.round(1)"
   ]
  },
  {
   "cell_type": "code",
   "execution_count": 45,
   "id": "b885c5f9",
   "metadata": {},
   "outputs": [
    {
     "data": {
      "text/plain": [
       "array([[ 0.  ,  0.33, -0.  ],\n",
       "       [ 0.  ,  0.  ,  0.  ],\n",
       "       [-0.  ,  0.  ,  0.  ]])"
      ]
     },
     "execution_count": 45,
     "metadata": {},
     "output_type": "execute_result"
    }
   ],
   "source": [
    "W.round(2)"
   ]
  },
  {
   "cell_type": "code",
   "execution_count": 46,
   "id": "a3e653c8",
   "metadata": {},
   "outputs": [
    {
     "data": {
      "text/plain": [
       "array([[0. , 0.9, 0. ],\n",
       "       [0. , 0. , 0. ],\n",
       "       [0. , 0. , 0. ]])"
      ]
     },
     "execution_count": 46,
     "metadata": {},
     "output_type": "execute_result"
    }
   ],
   "source": [
    "dagX.round(1)"
   ]
  },
  {
   "cell_type": "code",
   "execution_count": 47,
   "id": "f44b888f",
   "metadata": {},
   "outputs": [
    {
     "data": {
      "text/plain": [
       "array([[0. , 0. , 0. ],\n",
       "       [0.9, 0. , 0. ],\n",
       "       [0. , 0. , 0. ]])"
      ]
     },
     "execution_count": 47,
     "metadata": {},
     "output_type": "execute_result"
    }
   ],
   "source": [
    "dagX.T.round(1)"
   ]
  },
  {
   "cell_type": "code",
   "execution_count": 48,
   "id": "4beade06",
   "metadata": {},
   "outputs": [
    {
     "name": "stdout",
     "output_type": "stream",
     "text": [
      "(2, 3, 3)\n",
      "(5, 3, 1400)\n"
     ]
    }
   ],
   "source": [
    "#tensor representation for timeseries\n",
    "dagYtesnor = np.transpose(np.array([dagY[:,i*varables:(i+1)*varables] for i in range(window)]),(0,2,1))\n",
    "\n",
    "dagXtesnor = dagX\n",
    "print(dagYtesnor.round().shape)\n",
    "\n",
    "XYtesnor = XY.reshape(times, varables, observations)\n",
    "print(XYtesnor.shape)"
   ]
  },
  {
   "cell_type": "code",
   "execution_count": 49,
   "id": "a3e8cd6f",
   "metadata": {},
   "outputs": [
    {
     "data": {
      "text/plain": [
       "array([[-0.34372468, -0.40113629, -0.22635544, ..., -0.1861515 ,\n",
       "        -0.67512727,  0.75099588],\n",
       "       [ 2.19619853,  2.42958787,  4.28345266, ..., -1.25204623,\n",
       "         0.85430509,  1.46265011],\n",
       "       [ 0.88942179, -0.01945154,  0.38407955, ...,  0.92345613,\n",
       "         1.29140859,  1.86370553],\n",
       "       ...,\n",
       "       [-1.07596974,  0.74463185,  1.15278123, ..., -0.71351337,\n",
       "        -1.09013413, -0.92316426],\n",
       "       [ 2.82273775,  1.87635302,  3.30889025, ..., -0.81495132,\n",
       "         0.81669791,  1.4320431 ],\n",
       "       [ 0.46669791,  0.88589757, -0.22659974, ...,  0.52057461,\n",
       "         0.54160716,  1.1469347 ]])"
      ]
     },
     "execution_count": 49,
     "metadata": {},
     "output_type": "execute_result"
    }
   ],
   "source": [
    "XY_stack"
   ]
  },
  {
   "cell_type": "code",
   "execution_count": 50,
   "id": "5a10e7b5",
   "metadata": {},
   "outputs": [],
   "source": [
    "Y_stack=XY_stack[varables:window*varables+varables]\n",
    "X_stack=XY_stack[:varables]"
   ]
  },
  {
   "cell_type": "code",
   "execution_count": 51,
   "id": "cea6341d",
   "metadata": {},
   "outputs": [
    {
     "data": {
      "text/plain": [
       "array([[ 0.04735874,  0.04764766,  0.15486903, ...,  0.51906431,\n",
       "         0.62995604,  0.02235007],\n",
       "       [ 1.95258704,  3.13947579,  1.31961228, ...,  0.93492239,\n",
       "         1.02517199,  2.31976387],\n",
       "       [-0.39825605,  0.9069102 ,  0.75125138, ...,  0.22892889,\n",
       "         1.34718742, -0.42919074],\n",
       "       [-1.07596974,  0.74463185,  1.15278123, ..., -0.71351337,\n",
       "        -1.09013413, -0.92316426],\n",
       "       [ 2.82273775,  1.87635302,  3.30889025, ..., -0.81495132,\n",
       "         0.81669791,  1.4320431 ],\n",
       "       [ 0.46669791,  0.88589757, -0.22659974, ...,  0.52057461,\n",
       "         0.54160716,  1.1469347 ]])"
      ]
     },
     "execution_count": 51,
     "metadata": {},
     "output_type": "execute_result"
    }
   ],
   "source": [
    "Y_stack"
   ]
  },
  {
   "cell_type": "code",
   "execution_count": 52,
   "id": "49d577b7",
   "metadata": {},
   "outputs": [
    {
     "data": {
      "text/plain": [
       "array([[-0.34372468, -0.40113629, -0.22635544, ..., -0.1861515 ,\n",
       "        -0.67512727,  0.75099588],\n",
       "       [ 2.19619853,  2.42958787,  4.28345266, ..., -1.25204623,\n",
       "         0.85430509,  1.46265011],\n",
       "       [ 0.88942179, -0.01945154,  0.38407955, ...,  0.92345613,\n",
       "         1.29140859,  1.86370553]])"
      ]
     },
     "execution_count": 52,
     "metadata": {},
     "output_type": "execute_result"
    }
   ],
   "source": [
    "X_stack"
   ]
  },
  {
   "cell_type": "code",
   "execution_count": null,
   "id": "68e83eea",
   "metadata": {},
   "outputs": [],
   "source": []
  },
  {
   "cell_type": "code",
   "execution_count": null,
   "id": "8a568235",
   "metadata": {},
   "outputs": [],
   "source": []
  },
  {
   "cell_type": "code",
   "execution_count": 53,
   "id": "9d7183c1",
   "metadata": {},
   "outputs": [],
   "source": [
    "def diff(X, w, a):\n",
    "    X_check = X[:X.shape[0]-a.shape[0]]\n",
    "    \n",
    "    Xw = np.matmul(w, X_check)\n",
    "    #print(a.shape)\n",
    "    #print(X.shape[0]-window+1)\n",
    "    Xa = np.array([np.tensordot(a, X[i:i+window], axes=((0,1),(0,1)))\n",
    "                    for i in range(1, X.shape[0]-window+1)])\n",
    "    #print(X_check.shape)\n",
    "    #print(Xw.shape)\n",
    "    #print(Xa.shape)\n",
    "    \n",
    "    return X_check - Xw - Xa\n",
    "\n",
    "def f_DYNOTEARS_TENSOR(X, lA, lB):\n",
    "    def aux(C):\n",
    "        a = C[:varables*window*varables].reshape(window, varables, varables)\n",
    "        w = C[varables*window*varables:].reshape(varables, varables)\n",
    "    \n",
    "        loss = np.square(diff(X, w, a)).sum().sum().sum()/np.prod(X.shape)\n",
    "        #print(loss)\n",
    "        return loss + lB*np.linalg.norm(w.flatten(), 1) + lA*np.linalg.norm(a.flatten(), 1) \n",
    "    return aux\n",
    "\n",
    "def ll(X, Y, w, a):\n",
    "    return np.square(\n",
    "                np.linalg.norm(\n",
    "                    np.matmul(np.eye(varables, varables) - w, X)\n",
    "                    - np.matmul(a, Y)\n",
    "                    , \"fro\"\n",
    "                )\n",
    "            )/np.prod(X.shape)"
   ]
  },
  {
   "cell_type": "code",
   "execution_count": 54,
   "id": "003f69eb",
   "metadata": {},
   "outputs": [],
   "source": [
    "Y_stack=XY_stack[varables:window*varables+varables]\n",
    "X_stack=XY_stack[:varables]"
   ]
  },
  {
   "cell_type": "code",
   "execution_count": 55,
   "id": "25ce5ce8",
   "metadata": {},
   "outputs": [],
   "source": [
    "def constr_DYNOTEARS(C):\n",
    "    w = C[varables*window*varables:].reshape(varables, varables)\n",
    "    return qDag(w)\n",
    "\n",
    "cons = {'type':'eq', 'fun': constr_DYNOTEARS}\n",
    "\n",
    "C = sc.optimize.minimize(f_DYNOTEARS_TENSOR(XYtesnor,.05,.05) , C_init, constraints=cons).x"
   ]
  },
  {
   "cell_type": "code",
   "execution_count": 56,
   "id": "4dfb217a",
   "metadata": {},
   "outputs": [
    {
     "name": "stdout",
     "output_type": "stream",
     "text": [
      "1.3303816179645873\n",
      "0.8390758387672083\n",
      "0.23629601371727035\n"
     ]
    }
   ],
   "source": [
    "A = C[:varables*window*varables].reshape(window, varables, varables)\n",
    "W = C[varables*window*varables:].reshape(varables, varables)\n",
    "print(ll(X_stack, Y_stack, dagX, dagY))\n",
    "\n",
    "#print(ll(XYtesnor, W, A))\n",
    "\n",
    "print(np.square(diff(XYtesnor, dagX, dagYtesnor)).sum().sum().sum()/np.prod(XYtesnor.shape))\n",
    "\n",
    "print(np.square(diff(XYtesnor, W, A)).sum().sum().sum()/np.prod(XYtesnor.shape))"
   ]
  },
  {
   "cell_type": "code",
   "execution_count": null,
   "id": "68b46a18",
   "metadata": {},
   "outputs": [],
   "source": []
  },
  {
   "cell_type": "code",
   "execution_count": 57,
   "id": "3ba65610",
   "metadata": {},
   "outputs": [
    {
     "data": {
      "text/plain": [
       "(2, 3, 3)"
      ]
     },
     "execution_count": 57,
     "metadata": {},
     "output_type": "execute_result"
    }
   ],
   "source": [
    "A.shape"
   ]
  },
  {
   "cell_type": "code",
   "execution_count": 58,
   "id": "8304ae96",
   "metadata": {},
   "outputs": [
    {
     "data": {
      "text/plain": [
       "(3, 3)"
      ]
     },
     "execution_count": 58,
     "metadata": {},
     "output_type": "execute_result"
    }
   ],
   "source": [
    "W.shape"
   ]
  },
  {
   "cell_type": "code",
   "execution_count": 59,
   "id": "871c2cba",
   "metadata": {},
   "outputs": [
    {
     "data": {
      "text/plain": [
       "array([[[ 0. ,  0.7,  0. ],\n",
       "        [-0. ,  0. ,  0. ],\n",
       "        [-0. ,  0. , -0. ]],\n",
       "\n",
       "       [[-0. , -0. ,  0. ],\n",
       "        [ 0. ,  1. ,  0. ],\n",
       "        [-0. ,  0. ,  0.8]]])"
      ]
     },
     "execution_count": 59,
     "metadata": {},
     "output_type": "execute_result"
    }
   ],
   "source": [
    "A.round(1)"
   ]
  },
  {
   "cell_type": "code",
   "execution_count": 60,
   "id": "9ef5d618",
   "metadata": {},
   "outputs": [
    {
     "data": {
      "text/plain": [
       "array([[[0. , 0.9, 0. ],\n",
       "        [0. , 0. , 0. ],\n",
       "        [0. , 0. , 0. ]],\n",
       "\n",
       "       [[0. , 0. , 0. ],\n",
       "        [0. , 1. , 0. ],\n",
       "        [0. , 0. , 0.9]]])"
      ]
     },
     "execution_count": 60,
     "metadata": {},
     "output_type": "execute_result"
    }
   ],
   "source": [
    "dagYtesnor.round(1)"
   ]
  },
  {
   "cell_type": "code",
   "execution_count": 61,
   "id": "96c216d3",
   "metadata": {},
   "outputs": [
    {
     "data": {
      "text/plain": [
       "array([[[ 0.,  0.,  0., ..., -0., -1.,  1.],\n",
       "        [ 2.,  3.,  1., ..., -1.,  1.,  1.],\n",
       "        [-0.,  1.,  1., ...,  1.,  1.,  2.]],\n",
       "\n",
       "       [[-1.,  1.,  1., ...,  1.,  1.,  0.],\n",
       "        [ 3.,  2.,  3., ...,  1.,  1.,  2.],\n",
       "        [ 0.,  1., -0., ...,  0.,  1., -0.]]])"
      ]
     },
     "execution_count": 61,
     "metadata": {},
     "output_type": "execute_result"
    }
   ],
   "source": [
    "XYtesnor[1:1+window].round()"
   ]
  },
  {
   "cell_type": "code",
   "execution_count": 62,
   "id": "eb047f24",
   "metadata": {},
   "outputs": [
    {
     "data": {
      "text/plain": [
       "array([[[0. , 0.9, 0. ],\n",
       "        [0. , 0. , 0. ],\n",
       "        [0. , 0. , 0. ]],\n",
       "\n",
       "       [[0. , 0. , 0. ],\n",
       "        [0. , 1. , 0. ],\n",
       "        [0. , 0. , 0.9]]])"
      ]
     },
     "execution_count": 62,
     "metadata": {},
     "output_type": "execute_result"
    }
   ],
   "source": [
    "dagYtesnor.round(1)"
   ]
  },
  {
   "cell_type": "code",
   "execution_count": 63,
   "id": "22176826",
   "metadata": {},
   "outputs": [
    {
     "data": {
      "text/plain": [
       "array([[ 0. , -0. ,  0. , ...,  0. , -0. ,  0. ],\n",
       "       [ 2.8,  1.9,  3.3, ...,  0.8,  0.5,  2.8],\n",
       "       [ 0.4,  0.7, -0.2, ...,  0.2,  1.1, -0.3]])"
      ]
     },
     "execution_count": 63,
     "metadata": {},
     "output_type": "execute_result"
    }
   ],
   "source": [
    "np.tensordot(A, XYtesnor[1:1+window], axes=((0,1),(0,1))).round(1)"
   ]
  },
  {
   "cell_type": "code",
   "execution_count": 64,
   "id": "2e16721a",
   "metadata": {},
   "outputs": [
    {
     "data": {
      "text/plain": [
       "array([[[ 0.,  0.,  0., ..., -0., -1.,  1.],\n",
       "        [ 2.,  3.,  1., ..., -1.,  1.,  1.],\n",
       "        [-0.,  1.,  1., ...,  1.,  1.,  2.]],\n",
       "\n",
       "       [[-1.,  1.,  1., ...,  1.,  1.,  0.],\n",
       "        [ 3.,  2.,  3., ...,  1.,  1.,  2.],\n",
       "        [ 0.,  1., -0., ...,  0.,  1., -0.]]])"
      ]
     },
     "execution_count": 64,
     "metadata": {},
     "output_type": "execute_result"
    }
   ],
   "source": [
    "XYtesnor[0].round()\n",
    "XYtesnor[1:1+window].round()"
   ]
  },
  {
   "cell_type": "code",
   "execution_count": 65,
   "id": "a37c2ee8",
   "metadata": {},
   "outputs": [],
   "source": [
    "#np.array([dagY[:,i*varables:(i+1)*varables] for i in range(window)]).round(1)"
   ]
  },
  {
   "cell_type": "code",
   "execution_count": 66,
   "id": "18df70e1",
   "metadata": {},
   "outputs": [
    {
     "data": {
      "text/plain": [
       "array([[0. , 0. , 0. , 0. , 0. , 0. ],\n",
       "       [0.9, 0. , 0. , 0. , 1. , 0. ],\n",
       "       [0. , 0. , 0. , 0. , 0. , 0.9]])"
      ]
     },
     "execution_count": 66,
     "metadata": {},
     "output_type": "execute_result"
    }
   ],
   "source": [
    "dagY.round(1)"
   ]
  },
  {
   "cell_type": "code",
   "execution_count": 67,
   "id": "681979f1",
   "metadata": {},
   "outputs": [
    {
     "data": {
      "text/plain": [
       "array([[ 0.,  0.,  0., ...,  1.,  1.,  0.],\n",
       "       [ 2.,  3.,  1., ...,  1.,  1.,  2.],\n",
       "       [-0.,  1.,  1., ...,  0.,  1., -0.],\n",
       "       [-1.,  1.,  1., ..., -1., -1., -1.],\n",
       "       [ 3.,  2.,  3., ..., -1.,  1.,  1.],\n",
       "       [ 0.,  1., -0., ...,  1.,  1.,  1.]])"
      ]
     },
     "execution_count": 67,
     "metadata": {},
     "output_type": "execute_result"
    }
   ],
   "source": [
    "Y_stack.round()"
   ]
  },
  {
   "cell_type": "code",
   "execution_count": 68,
   "id": "e274db17",
   "metadata": {},
   "outputs": [
    {
     "data": {
      "text/plain": [
       "array([[ 0.,  0.,  0., ...,  0.,  0.,  0.],\n",
       "       [ 3.,  2.,  3., ..., -0.,  1.,  1.],\n",
       "       [ 0.,  1., -0., ...,  0.,  0.,  1.]])"
      ]
     },
     "execution_count": 68,
     "metadata": {},
     "output_type": "execute_result"
    }
   ],
   "source": [
    "np.matmul(dagY, Y_stack).round()"
   ]
  },
  {
   "cell_type": "code",
   "execution_count": 69,
   "id": "b1c6d540",
   "metadata": {},
   "outputs": [
    {
     "data": {
      "text/plain": [
       "array([[-0., -0., -0., ..., -0., -1.,  1.],\n",
       "       [ 2.,  2.,  4., ..., -1.,  1.,  1.],\n",
       "       [ 1., -0.,  0., ...,  1.,  1.,  2.]])"
      ]
     },
     "execution_count": 69,
     "metadata": {},
     "output_type": "execute_result"
    }
   ],
   "source": [
    "X_stack.round()"
   ]
  },
  {
   "cell_type": "code",
   "execution_count": 70,
   "id": "b5c8c01a",
   "metadata": {},
   "outputs": [
    {
     "data": {
      "text/plain": [
       "array([[0. , 0.9, 0. ],\n",
       "       [0. , 0. , 0. ],\n",
       "       [0. , 0. , 0. ]])"
      ]
     },
     "execution_count": 70,
     "metadata": {},
     "output_type": "execute_result"
    }
   ],
   "source": [
    "dagX.round(1)"
   ]
  },
  {
   "cell_type": "code",
   "execution_count": 71,
   "id": "0d5008c3",
   "metadata": {},
   "outputs": [
    {
     "data": {
      "text/plain": [
       "array([[ 0. ,  0. ,  0. ],\n",
       "       [ 0.3,  0. ,  0. ],\n",
       "       [-0. ,  0. ,  0. ]])"
      ]
     },
     "execution_count": 71,
     "metadata": {},
     "output_type": "execute_result"
    }
   ],
   "source": [
    "W.round(1)"
   ]
  },
  {
   "cell_type": "code",
   "execution_count": null,
   "id": "a1b4ac95",
   "metadata": {},
   "outputs": [],
   "source": []
  },
  {
   "cell_type": "code",
   "execution_count": 90,
   "id": "17164b66",
   "metadata": {},
   "outputs": [
    {
     "name": "stdout",
     "output_type": "stream",
     "text": [
      "2\n",
      "0.0\n",
      "1.1\n",
      "1\n",
      "6.0\n"
     ]
    }
   ],
   "source": [
    "def get_sparse(X):\n",
    "    ret = []\n",
    "    for i in range(len(X)):\n",
    "        for j in range(len(X[i])):\n",
    "            val = X[i,j]\n",
    "            if not np.isnan(val):\n",
    "                print(val)\n",
    "                ret.append((i, j, val))\n",
    "    return ret\n",
    "\n",
    "constraint_matrix_X = np.array(\n",
    "[\n",
    "    [np.nan, np.nan, np.nan],\n",
    "    [np.nan, np.nan, np.nan],\n",
    "    [0, 1.1, np.nan],\n",
    "])\n",
    "X_set = np.logical_not(np.isnan(constraint_matrix_X)).sum().sum()\n",
    "print(X_set)\n",
    "X_sparce = get_sparse(constraint_matrix_X)\n",
    "\n",
    "            \n",
    "constraint_matrix_Y = np.array(\n",
    "[\n",
    "    [np.nan, np.nan, np.nan, np.nan, np.nan, np.nan],\n",
    "    [np.nan, np.nan, np.nan, 6, np.nan, np.nan],\n",
    "    [np.nan, np.nan, np.nan, np.nan, np.nan, np.nan]\n",
    "])\n",
    "Y_set = np.logical_not(np.isnan(constraint_matrix_Y)).sum().sum()\n",
    "print(Y_set)\n",
    "Y_sparce = get_sparse(constraint_matrix_Y)\n",
    "\n",
    "\n",
    "#C_init = np.random.rand(varables*varables*window + varables*varables)\n",
    "#not create no C_init with XYset less variables and instread enforce in loss func\n",
    "#to avoid unnessasary copying"
   ]
  },
  {
   "cell_type": "code",
   "execution_count": 91,
   "id": "5a8e8752",
   "metadata": {},
   "outputs": [],
   "source": [
    "def enforce_cons(X, cons):\n",
    "    for (i, j, val) in cons:\n",
    "        X[i][j] = val\n",
    "\n",
    "def f_DYNOTEARS_CONSTRAINT(X, Y, lA, lB, X_cons, Y_cons):\n",
    "    def aux(C):\n",
    "        w = C[varables*window*varables:].reshape(varables, varables)\n",
    "        enforce_cons(w, X_cons)\n",
    "        a = C[:varables*window*varables].reshape(varables, varables*window)\n",
    "        enforce_cons(a, Y_cons)\n",
    "    \n",
    "        loss = np.square(\n",
    "                np.linalg.norm(\n",
    "                    np.matmul(np.eye(varables, varables) - w, X)\n",
    "                    - np.matmul(a, Y)\n",
    "                    , \"fro\"\n",
    "                )\n",
    "            )/np.prod(X.shape)\n",
    "        #print(loss)\n",
    "        return loss + lB*np.linalg.norm(w.flatten(), 1) + lA*np.linalg.norm(a.flatten(), 1) \n",
    "    return aux"
   ]
  },
  {
   "cell_type": "code",
   "execution_count": 92,
   "id": "9a06e65e",
   "metadata": {},
   "outputs": [],
   "source": [
    "def constr_DYNOTEARS(C):\n",
    "    w = C[varables*window*varables:].reshape(varables, varables)\n",
    "    return qDag(w)\n",
    "\n",
    "cons = {'type':'eq', 'fun': constr_DYNOTEARS}\n",
    "\n",
    "C = sc.optimize.minimize(f_DYNOTEARS_CONSTRAINT(X,Y,.1,.1,X_sparce, Y_sparce) , C_init, constraints=cons).x"
   ]
  },
  {
   "cell_type": "code",
   "execution_count": 93,
   "id": "fb313476",
   "metadata": {},
   "outputs": [],
   "source": [
    "\n",
    "W = C[varables*window*varables:].reshape(varables, varables)\n",
    "enforce_cons(W, X_sparce)\n",
    "A = C[:varables*window*varables].reshape(varables, varables*window)\n",
    "enforce_cons(A, Y_sparce)\n",
    "np.fill_diagonal(W, 0)"
   ]
  },
  {
   "cell_type": "code",
   "execution_count": 97,
   "id": "ec2a76d9",
   "metadata": {},
   "outputs": [
    {
     "data": {
      "text/plain": [
       "array([[ 0. , -0. , -0. ,  0. ,  0. ,  0. ],\n",
       "       [ 1.7, -1.9,  0.5,  6. ,  1.5,  0.3],\n",
       "       [-0.7, -0. , -0. ,  0. , -1. ,  0.6]])"
      ]
     },
     "execution_count": 97,
     "metadata": {},
     "output_type": "execute_result"
    }
   ],
   "source": [
    "enforce_cons(A, Y_sparce)\n",
    "A.round(1)"
   ]
  },
  {
   "cell_type": "code",
   "execution_count": 98,
   "id": "b0ea5ca1",
   "metadata": {},
   "outputs": [
    {
     "data": {
      "text/plain": [
       "array([[0. , 0. , 0. , 0. , 0. , 0. ],\n",
       "       [0.9, 0. , 0. , 0. , 1. , 0. ],\n",
       "       [0. , 0. , 0. , 0. , 0. , 0.9]])"
      ]
     },
     "execution_count": 98,
     "metadata": {},
     "output_type": "execute_result"
    }
   ],
   "source": [
    "dagY.round(1)"
   ]
  },
  {
   "cell_type": "code",
   "execution_count": 99,
   "id": "50247469",
   "metadata": {},
   "outputs": [
    {
     "data": {
      "text/plain": [
       "array([[0. , 0. , 0. ],\n",
       "       [0.3, 0. , 0. ],\n",
       "       [0. , 1.1, 0. ]])"
      ]
     },
     "execution_count": 99,
     "metadata": {},
     "output_type": "execute_result"
    }
   ],
   "source": [
    "W.round(1)"
   ]
  },
  {
   "cell_type": "code",
   "execution_count": 100,
   "id": "60fcd4af",
   "metadata": {},
   "outputs": [
    {
     "data": {
      "text/plain": [
       "array([[0. , 0.9, 0. ],\n",
       "       [0. , 0. , 0. ],\n",
       "       [0. , 0. , 0. ]])"
      ]
     },
     "execution_count": 100,
     "metadata": {},
     "output_type": "execute_result"
    }
   ],
   "source": [
    "dagX.round(1)"
   ]
  },
  {
   "cell_type": "code",
   "execution_count": null,
   "id": "23a86c60",
   "metadata": {},
   "outputs": [],
   "source": []
  },
  {
   "cell_type": "code",
   "execution_count": null,
   "id": "4ceaea9f",
   "metadata": {},
   "outputs": [],
   "source": []
  },
  {
   "cell_type": "code",
   "execution_count": null,
   "id": "1e485cd7",
   "metadata": {},
   "outputs": [],
   "source": []
  },
  {
   "cell_type": "code",
   "execution_count": null,
   "id": "5451c5c2",
   "metadata": {},
   "outputs": [],
   "source": []
  },
  {
   "cell_type": "code",
   "execution_count": null,
   "id": "0ea6c3d0",
   "metadata": {},
   "outputs": [],
   "source": []
  }
 ],
 "metadata": {
  "kernelspec": {
   "display_name": "Python 3 (ipykernel)",
   "language": "python",
   "name": "python3"
  },
  "language_info": {
   "codemirror_mode": {
    "name": "ipython",
    "version": 3
   },
   "file_extension": ".py",
   "mimetype": "text/x-python",
   "name": "python",
   "nbconvert_exporter": "python",
   "pygments_lexer": "ipython3",
   "version": "3.11.1"
  }
 },
 "nbformat": 4,
 "nbformat_minor": 5
}
