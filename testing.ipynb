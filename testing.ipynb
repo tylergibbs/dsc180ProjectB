{
 "cells": [
  {
   "cell_type": "code",
   "execution_count": 1,
   "id": "774bdbc9",
   "metadata": {},
   "outputs": [],
   "source": [
    "import numpy as np\n",
    "import scipy.linalg as sla\n",
    "import numpy.linalg as la\n",
    "from scipy.special import expit as sigmoid\n",
    "import scipy as sc\n",
    "from statsmodels.tsa.api import VAR"
   ]
  },
  {
   "cell_type": "code",
   "execution_count": 2,
   "id": "feb9671c",
   "metadata": {},
   "outputs": [],
   "source": [
    "varables = 3\n",
    "observations = 1400\n",
    "window = 2\n",
    "#to use later \n",
    "times = 5"
   ]
  },
  {
   "cell_type": "code",
   "execution_count": 3,
   "id": "c8098bdc",
   "metadata": {},
   "outputs": [],
   "source": [
    "def qDag(w):\n",
    "    return np.trace(sc.linalg.expm(np.multiply(w,w))) - w.shape[0]\n",
    "def get_r(off):\n",
    "    return lambda n: np.random.rand(n)+off"
   ]
  },
  {
   "cell_type": "code",
   "execution_count": 4,
   "id": "68046d53",
   "metadata": {},
   "outputs": [],
   "source": [
    "dagY = sc.sparse.random(varables, varables*window, density=0.15, data_rvs=get_r(.5)).A\n",
    "\n",
    "dagX = np.eye(varables, varables)\n",
    "while qDag(dagX) != 0:\n",
    "    dagX = sc.sparse.random(varables, varables, density=0.25, data_rvs=get_r(.5)).A\n",
    "    np.fill_diagonal(dagX, 0)"
   ]
  },
  {
   "cell_type": "code",
   "execution_count": 5,
   "id": "8936b0b3",
   "metadata": {},
   "outputs": [
    {
     "name": "stdout",
     "output_type": "stream",
     "text": [
      "0.0\n",
      "[[0. 0. 0.]\n",
      " [0. 0. 0.]\n",
      " [0. 0. 0.]]\n",
      "[[0.         0.         0.         0.         1.30085601 0.        ]\n",
      " [0.         0.         0.         0.         1.17672539 0.        ]\n",
      " [0.         0.         0.         0.         0.         1.3019802 ]]\n"
     ]
    }
   ],
   "source": [
    "print(qDag(dagX))\n",
    "print(dagX)\n",
    "print(dagY)"
   ]
  },
  {
   "cell_type": "code",
   "execution_count": 6,
   "id": "5b49c5ca",
   "metadata": {},
   "outputs": [
    {
     "name": "stdout",
     "output_type": "stream",
     "text": [
      "(3, 6)\n",
      "(6, 1400)\n"
     ]
    }
   ],
   "source": [
    "def rand(n):\n",
    "    return 2*(np.random.rand(n)-.5)\n",
    "\n",
    "Y_pre = rand(observations*varables*window).reshape(varables*window, observations)\n",
    "print(dagY.shape)\n",
    "print(Y_pre.shape)"
   ]
  },
  {
   "cell_type": "code",
   "execution_count": 7,
   "id": "96a8769f",
   "metadata": {},
   "outputs": [],
   "source": [
    "#X = XW + YA + Z\n",
    "\n",
    "def randFlat(X):\n",
    "    return rand(X.shape[0]*X.shape[1]).reshape(*X.shape)\n",
    "\n",
    "def onesFlat(X):\n",
    "    return np.ones(X.shape[0]*X.shape[1]).reshape(*X.shape)\n",
    "\n",
    "def update(preY, preX, dagY, dagX, rand):\n",
    "    Xy = np.matmul(dagY, preY)\n",
    "    Xr = rand(preX)\n",
    "    Xx = np.matmul(dagX, Xr)\n",
    "    X = Xr + Xx + Xy\n",
    "    \n",
    "    return X\n",
    "\n",
    "def step(preY, dagY, dagX, window, var, rand):\n",
    "    preX = preY[:var]\n",
    "    preY = preY[:window*var]\n",
    "    return update(preY, preX, dagY, dagX, rand)\n",
    "\n",
    "def makeSynthData(preY, times, obs, var, pad, rand=rand):\n",
    "    window = preY.shape[0]//var\n",
    "    \n",
    "    for i in range(pad+window):\n",
    "        newX = step(preY, dagY, dagX, window, var, rand)\n",
    "        preY = np.append(newX, preY, axis=0)\n",
    "\n",
    "    Y = preY[:window*var]\n",
    "\n",
    "    for i in range(times - window):\n",
    "        newX = step(Y, dagY, dagX, window, var, rand)\n",
    "        Y = np.append(newX, Y, axis=0)\n",
    "        \n",
    "    return Y\n",
    "    \n",
    "\n",
    "\n",
    "\n",
    "#later\n",
    "#W = np.random.rand(varables*observations).reshape(varables,observations)"
   ]
  },
  {
   "cell_type": "code",
   "execution_count": 8,
   "id": "c37c00ea",
   "metadata": {},
   "outputs": [],
   "source": [
    "Y_pre = np.ones(observations*varables*window).reshape(varables*window, observations)\n",
    "XY = makeSynthData(Y_pre, times, observations, varables, 0, randFlat)\n",
    "Y=XY[varables:window*varables+varables]\n",
    "X=XY[:varables]"
   ]
  },
  {
   "cell_type": "code",
   "execution_count": null,
   "id": "6e3d3fd0",
   "metadata": {},
   "outputs": [],
   "source": []
  },
  {
   "cell_type": "code",
   "execution_count": 9,
   "id": "8aa9edd0",
   "metadata": {},
   "outputs": [
    {
     "data": {
      "text/plain": [
       "array([[ 1.17935877,  2.92260449,  0.79206399, ...,  0.34848473,\n",
       "         0.65044804,  0.55829036],\n",
       "       [ 0.8892889 ,  3.35678895, -0.48036689, ...,  0.96851937,\n",
       "         0.75684426,  0.60911529],\n",
       "       [ 1.50159501,  0.75895606,  2.5779033 , ...,  2.66987767,\n",
       "         1.60855055,  3.9544985 ],\n",
       "       ...,\n",
       "       [ 1.10650573,  1.63036964,  0.38819942, ...,  0.55721546,\n",
       "         1.55229641,  0.35480269],\n",
       "       [ 0.62718825,  1.89699343,  0.76533771, ...,  1.50440386,\n",
       "         0.7033205 ,  0.32746225],\n",
       "       [ 0.71724142,  1.33014029,  0.76061045, ...,  1.33302255,\n",
       "         0.36581781,  1.96092579]])"
      ]
     },
     "execution_count": 9,
     "metadata": {},
     "output_type": "execute_result"
    }
   ],
   "source": [
    "XY"
   ]
  },
  {
   "cell_type": "code",
   "execution_count": null,
   "id": "cf5792cc",
   "metadata": {},
   "outputs": [],
   "source": []
  },
  {
   "cell_type": "code",
   "execution_count": 10,
   "id": "d7ce8010",
   "metadata": {},
   "outputs": [],
   "source": [
    "C_init = np.random.rand(varables*varables*window + varables*varables)"
   ]
  },
  {
   "cell_type": "code",
   "execution_count": 11,
   "id": "44781fe1",
   "metadata": {},
   "outputs": [],
   "source": [
    "def f_DYNOTEARS(X, Y, lA, lB):\n",
    "    def aux(C):\n",
    "        a = C[:varables*window*varables].reshape(varables, varables*window)\n",
    "        w = C[varables*window*varables:].reshape(varables, varables)\n",
    "    \n",
    "        loss = np.square(\n",
    "                np.linalg.norm(\n",
    "                    np.matmul(np.eye(varables, varables) - w, X)\n",
    "                    - np.matmul(a, Y)\n",
    "                    , \"fro\"\n",
    "                )\n",
    "            )/np.prod(X.shape)\n",
    "        #print(loss)\n",
    "        return loss + lB*np.linalg.norm(w.flatten(), 1) + lA*np.linalg.norm(a.flatten(), 1) \n",
    "    return aux"
   ]
  },
  {
   "cell_type": "code",
   "execution_count": null,
   "id": "d43788c0",
   "metadata": {},
   "outputs": [],
   "source": []
  },
  {
   "cell_type": "code",
   "execution_count": 12,
   "id": "d51e60d7",
   "metadata": {},
   "outputs": [],
   "source": [
    "def constr_DYNOTEARS(C):\n",
    "    w = C[varables*window*varables:].reshape(varables, varables)\n",
    "    return qDag(w)\n",
    "\n",
    "cons = {'type':'eq', 'fun': constr_DYNOTEARS}\n",
    "\n",
    "C = sc.optimize.minimize(f_DYNOTEARS(X,Y,.1,.1) , C_init, constraints=cons).x"
   ]
  },
  {
   "cell_type": "code",
   "execution_count": 13,
   "id": "cdc2a7dc",
   "metadata": {},
   "outputs": [],
   "source": [
    "A = C[:varables*window*varables].reshape(varables, varables*window)\n",
    "W = C[varables*window*varables:].reshape(varables, varables)\n",
    "np.fill_diagonal(W, 0)"
   ]
  },
  {
   "cell_type": "code",
   "execution_count": 14,
   "id": "d2b3c3dd",
   "metadata": {},
   "outputs": [
    {
     "data": {
      "text/plain": [
       "array([[ 0. , -0. ,  0. ,  0. ,  1.2,  0. ],\n",
       "       [ 0. ,  0. ,  0. ,  0. ,  0.9, -0. ],\n",
       "       [-0. ,  0. ,  0. ,  0. ,  0. ,  1.3]])"
      ]
     },
     "execution_count": 14,
     "metadata": {},
     "output_type": "execute_result"
    }
   ],
   "source": [
    "A.round(1)"
   ]
  },
  {
   "cell_type": "code",
   "execution_count": 15,
   "id": "ea57f251",
   "metadata": {},
   "outputs": [
    {
     "data": {
      "text/plain": [
       "array([[0. , 0. , 0. , 0. , 1.3, 0. ],\n",
       "       [0. , 0. , 0. , 0. , 1.2, 0. ],\n",
       "       [0. , 0. , 0. , 0. , 0. , 1.3]])"
      ]
     },
     "execution_count": 15,
     "metadata": {},
     "output_type": "execute_result"
    }
   ],
   "source": [
    "dagY.round(1)"
   ]
  },
  {
   "cell_type": "code",
   "execution_count": null,
   "id": "594ad8b1",
   "metadata": {},
   "outputs": [],
   "source": []
  },
  {
   "cell_type": "code",
   "execution_count": 16,
   "id": "8a6ac974",
   "metadata": {},
   "outputs": [
    {
     "data": {
      "text/plain": [
       "array([[0. , 0. , 0. ],\n",
       "       [0.1, 0. , 0. ],\n",
       "       [0. , 0. , 0. ]])"
      ]
     },
     "execution_count": 16,
     "metadata": {},
     "output_type": "execute_result"
    }
   ],
   "source": [
    "W.round(1)"
   ]
  },
  {
   "cell_type": "code",
   "execution_count": 17,
   "id": "88a056d8",
   "metadata": {},
   "outputs": [
    {
     "data": {
      "text/plain": [
       "array([[0., 0., 0.],\n",
       "       [0., 0., 0.],\n",
       "       [0., 0., 0.]])"
      ]
     },
     "execution_count": 17,
     "metadata": {},
     "output_type": "execute_result"
    }
   ],
   "source": [
    "dagX.round(1)"
   ]
  },
  {
   "cell_type": "code",
   "execution_count": 18,
   "id": "6c0464d8",
   "metadata": {},
   "outputs": [
    {
     "data": {
      "text/plain": [
       "array([[0., 0., 0.],\n",
       "       [0., 0., 0.],\n",
       "       [0., 0., 0.]])"
      ]
     },
     "execution_count": 18,
     "metadata": {},
     "output_type": "execute_result"
    }
   ],
   "source": [
    "dagX.T.round(1)"
   ]
  },
  {
   "cell_type": "code",
   "execution_count": null,
   "id": "8205f840",
   "metadata": {},
   "outputs": [],
   "source": []
  },
  {
   "cell_type": "code",
   "execution_count": null,
   "id": "584b525d",
   "metadata": {},
   "outputs": [],
   "source": []
  },
  {
   "cell_type": "code",
   "execution_count": 19,
   "id": "e2837d43",
   "metadata": {},
   "outputs": [],
   "source": [
    "def H1ldet(W):\n",
    "    det = np.linalg.det(np.eye(W.shape[0]) - np.multiply(W,W))\n",
    "    if (det <= 0):\n",
    "        print(det)\n",
    "    return -np.log(det)\n",
    "\n",
    "def constr_DAGMA(C):\n",
    "    w = C[varables*window*varables:].reshape(varables, varables)\n",
    "    return H1ldet(w)\n",
    "\n",
    "A_init = np.random.rand(varables*varables*window)\n",
    "\n",
    "W_init = np.random.rand(varables*varables).reshape(varables, varables)\n",
    "np.fill_diagonal(W_init, 0)\n",
    "while H1ldet(W_init) is np.nan:\n",
    "    W_init = np.random.rand(varables*varables).reshape(varables, varables)\n",
    "    np.fill_diagonal(W, 0)\n",
    "\n",
    "C_init = np.append(A_init, W_init.reshape(varables*varables), axis = 0)\n",
    "\n",
    "cons = {'type':'eq', 'fun': constr_DAGMA}\n",
    "\n",
    "#C = sc.optimize.minimize(f_DYNOTEARS(X,Y,.01,.1) , C_init, constraints=cons).x"
   ]
  },
  {
   "cell_type": "code",
   "execution_count": 20,
   "id": "59fbb9e9",
   "metadata": {},
   "outputs": [],
   "source": [
    "A = C[:varables*window*varables].reshape(varables, varables*window)\n",
    "W = C[varables*window*varables:].reshape(varables, varables)\n",
    "np.fill_diagonal(W, 0)"
   ]
  },
  {
   "cell_type": "code",
   "execution_count": 21,
   "id": "5bb074e9",
   "metadata": {},
   "outputs": [
    {
     "data": {
      "text/plain": [
       "array([[0., 0., 0., 0., 1., 0.],\n",
       "       [0., 0., 0., 0., 1., 0.],\n",
       "       [0., 0., 0., 0., 0., 1.]])"
      ]
     },
     "execution_count": 21,
     "metadata": {},
     "output_type": "execute_result"
    }
   ],
   "source": [
    "A[A<.3] = 0\n",
    "A.round()"
   ]
  },
  {
   "cell_type": "code",
   "execution_count": 22,
   "id": "763c8223",
   "metadata": {},
   "outputs": [
    {
     "data": {
      "text/plain": [
       "array([[0., 0., 0., 0., 1., 0.],\n",
       "       [0., 0., 0., 0., 1., 0.],\n",
       "       [0., 0., 0., 0., 0., 1.]])"
      ]
     },
     "execution_count": 22,
     "metadata": {},
     "output_type": "execute_result"
    }
   ],
   "source": [
    "dagY.round()"
   ]
  },
  {
   "cell_type": "code",
   "execution_count": 23,
   "id": "1e2c5f90",
   "metadata": {},
   "outputs": [
    {
     "data": {
      "text/plain": [
       "array([[0. , 0. , 0. ],\n",
       "       [0.1, 0. , 0. ],\n",
       "       [0. , 0. , 0. ]])"
      ]
     },
     "execution_count": 23,
     "metadata": {},
     "output_type": "execute_result"
    }
   ],
   "source": [
    "W.round(1)"
   ]
  },
  {
   "cell_type": "code",
   "execution_count": 24,
   "id": "5d4c16a2",
   "metadata": {},
   "outputs": [
    {
     "data": {
      "text/plain": [
       "array([[0., 0., 0.],\n",
       "       [0., 0., 0.],\n",
       "       [0., 0., 0.]])"
      ]
     },
     "execution_count": 24,
     "metadata": {},
     "output_type": "execute_result"
    }
   ],
   "source": [
    "dagX.round(1)"
   ]
  },
  {
   "cell_type": "code",
   "execution_count": 25,
   "id": "dc442035",
   "metadata": {},
   "outputs": [
    {
     "data": {
      "text/plain": [
       "array([[0., 0., 0.],\n",
       "       [0., 0., 0.],\n",
       "       [0., 0., 0.]])"
      ]
     },
     "execution_count": 25,
     "metadata": {},
     "output_type": "execute_result"
    }
   ],
   "source": [
    "dagX.T.round(1)"
   ]
  },
  {
   "cell_type": "code",
   "execution_count": 26,
   "id": "5cbb2eff",
   "metadata": {},
   "outputs": [
    {
     "name": "stdout",
     "output_type": "stream",
     "text": [
      "-11.879904709149997\n"
     ]
    },
    {
     "name": "stderr",
     "output_type": "stream",
     "text": [
      "/var/folders/z_/p0tz320d6j13q0rkv_f35brm0000gn/T/ipykernel_5998/3164180601.py:5: RuntimeWarning: invalid value encountered in log\n",
      "  return -np.log(det)\n"
     ]
    },
    {
     "data": {
      "text/plain": [
       "nan"
      ]
     },
     "execution_count": 26,
     "metadata": {},
     "output_type": "execute_result"
    }
   ],
   "source": [
    "C_init = np.random.rand(varables*varables*window + varables*varables)\n",
    "H1ldet(C_init.T)"
   ]
  },
  {
   "cell_type": "code",
   "execution_count": 27,
   "id": "6d8e5149",
   "metadata": {},
   "outputs": [],
   "source": [
    "def metrics(A,dagY, W, dagX):\n",
    "    A = np.absolute(A) > 0.3\n",
    "    dagY = np.absolute(dagY) > .5\n",
    "    W = np.absolute(W) > 0.3\n",
    "    dagX = np.absolute(dagX) > .5\n",
    "    \n",
    "    preWrong = A != dagY\n",
    "    wWrong = W != dagX\n",
    "    #assumes cant be both wrong and inv\n",
    "    wInverse = W.T & dagX\n",
    "    \n",
    "    if ((W + W.T)==2).any():\n",
    "        print(W)\n",
    "        print(W.T)\n",
    "        raise \"error\"\n",
    "    \n",
    "    #print(A)\n",
    "    #print(dagY)\n",
    "    #print(W)\n",
    "    #print(dagX)\n",
    "    #print()\n",
    "    #print(preWrong)\n",
    "    #print(wWrong)\n",
    "    #print(wInverse)\n",
    "    \n",
    "    return {\n",
    "        \"preWrong\": sum(sum(preWrong)),\n",
    "        \"wWrong\": sum(sum(wWrong)),\n",
    "        \"wInverse\": sum(sum(wInverse))\n",
    "    }\n",
    "    "
   ]
  },
  {
   "cell_type": "code",
   "execution_count": 28,
   "id": "411a7222",
   "metadata": {},
   "outputs": [
    {
     "data": {
      "text/plain": [
       "{'preWrong': 0, 'wWrong': 0, 'wInverse': 0}"
      ]
     },
     "execution_count": 28,
     "metadata": {},
     "output_type": "execute_result"
    }
   ],
   "source": [
    "metrics(A,dagY, W, dagX)"
   ]
  },
  {
   "cell_type": "code",
   "execution_count": 29,
   "id": "e5099541",
   "metadata": {},
   "outputs": [
    {
     "data": {
      "text/plain": [
       "array([[0., 0., 0., 0., 1., 0.],\n",
       "       [0., 0., 0., 0., 1., 0.],\n",
       "       [0., 0., 0., 0., 0., 1.]])"
      ]
     },
     "execution_count": 29,
     "metadata": {},
     "output_type": "execute_result"
    }
   ],
   "source": [
    "A.round()"
   ]
  },
  {
   "cell_type": "code",
   "execution_count": 30,
   "id": "6008d893",
   "metadata": {},
   "outputs": [
    {
     "data": {
      "text/plain": [
       "array([[0., 0., 0., 0., 1., 0.],\n",
       "       [0., 0., 0., 0., 1., 0.],\n",
       "       [0., 0., 0., 0., 0., 1.]])"
      ]
     },
     "execution_count": 30,
     "metadata": {},
     "output_type": "execute_result"
    }
   ],
   "source": [
    "dagY.round()"
   ]
  },
  {
   "cell_type": "code",
   "execution_count": 31,
   "id": "185576b4",
   "metadata": {},
   "outputs": [
    {
     "data": {
      "text/plain": [
       "array([[ 1.2,  2.9,  0.8, ...,  0.3,  0.6,  0.5],\n",
       "       [ 0.7,  3. , -0.6, ...,  0.9,  0.7,  0.5],\n",
       "       [ 1.5,  0.8,  2.6, ...,  2.7,  1.6,  4. ]])"
      ]
     },
     "execution_count": 31,
     "metadata": {},
     "output_type": "execute_result"
    }
   ],
   "source": [
    "np.matmul(np.eye(varables, varables) - W, X).round(1)"
   ]
  },
  {
   "cell_type": "code",
   "execution_count": 32,
   "id": "c5d24c56",
   "metadata": {},
   "outputs": [],
   "source": [
    "def transformTimeData(data, window, times):\n",
    "    variables = data.shape[0]//times\n",
    "    print(data.shape[0]/times)\n",
    "    \n",
    "    snapshots = times - window - 1\n",
    "    \n",
    "    ret = []\n",
    "    \n",
    "    for i in range(snapshots):\n",
    "        slic = data[i*variables:i*variables+(window+1)*variables]\n",
    "        ret.append( slic)\n",
    "    \n",
    "    return np.hstack(ret)\n",
    "    \n",
    "    "
   ]
  },
  {
   "cell_type": "code",
   "execution_count": 33,
   "id": "297592a9",
   "metadata": {},
   "outputs": [
    {
     "name": "stdout",
     "output_type": "stream",
     "text": [
      "3.0\n"
     ]
    }
   ],
   "source": [
    "XY_stack = transformTimeData(XY, window, times)"
   ]
  },
  {
   "cell_type": "code",
   "execution_count": 34,
   "id": "7aa8d3a0",
   "metadata": {},
   "outputs": [],
   "source": [
    "Y_stack=XY_stack[varables:window*varables+varables]\n",
    "X_stack=XY_stack[:varables]\n"
   ]
  },
  {
   "cell_type": "code",
   "execution_count": null,
   "id": "95f5c45a",
   "metadata": {},
   "outputs": [],
   "source": []
  },
  {
   "cell_type": "code",
   "execution_count": 35,
   "id": "4aba7a13",
   "metadata": {},
   "outputs": [
    {
     "name": "stdout",
     "output_type": "stream",
     "text": [
      "(15, 1400)\n",
      "(9, 2800)\n",
      "(6, 2800)\n",
      "(3, 2800)\n"
     ]
    }
   ],
   "source": [
    "print(XY.shape)\n",
    "print(XY_stack.shape)\n",
    "print(Y_stack.shape)\n",
    "print(X_stack.shape)"
   ]
  },
  {
   "cell_type": "code",
   "execution_count": 36,
   "id": "fe0b0acc",
   "metadata": {},
   "outputs": [
    {
     "data": {
      "text/plain": [
       "(15, 1400)"
      ]
     },
     "execution_count": 36,
     "metadata": {},
     "output_type": "execute_result"
    }
   ],
   "source": [
    "XY.shape"
   ]
  },
  {
   "cell_type": "code",
   "execution_count": 37,
   "id": "2409311d",
   "metadata": {},
   "outputs": [
    {
     "data": {
      "text/plain": [
       "array([[ 1.17935877,  2.92260449,  0.79206399, ...,  2.18443312,\n",
       "         1.14069776,  1.99290645],\n",
       "       [ 0.8892889 ,  3.35678895, -0.48036689, ...,  1.38448885,\n",
       "         1.78689043,  1.41263155],\n",
       "       [ 1.50159501,  0.75895606,  2.5779033 , ...,  1.97829766,\n",
       "         1.98111648,  2.10515377],\n",
       "       ...,\n",
       "       [ 1.03292439,  1.68034946,  0.00883593, ...,  0.47336915,\n",
       "         1.9493571 ,  2.27210968],\n",
       "       [ 0.74110933,  2.66631522,  0.16881287, ...,  1.7604751 ,\n",
       "         1.64227296,  1.21854964],\n",
       "       [ 0.38815249,  1.04807568,  1.83133307, ...,  1.47358585,\n",
       "         1.89823389,  2.28869475]])"
      ]
     },
     "execution_count": 37,
     "metadata": {},
     "output_type": "execute_result"
    }
   ],
   "source": [
    "XY_stack"
   ]
  },
  {
   "cell_type": "code",
   "execution_count": 38,
   "id": "6ba5afc0",
   "metadata": {},
   "outputs": [
    {
     "data": {
      "text/plain": [
       "array([[ 1.17935877,  2.92260449,  0.79206399, ...,  2.18443312,\n",
       "         1.14069776,  1.99290645],\n",
       "       [ 0.8892889 ,  3.35678895, -0.48036689, ...,  1.38448885,\n",
       "         1.78689043,  1.41263155],\n",
       "       [ 1.50159501,  0.75895606,  2.5779033 , ...,  1.97829766,\n",
       "         1.98111648,  2.10515377]])"
      ]
     },
     "execution_count": 38,
     "metadata": {},
     "output_type": "execute_result"
    }
   ],
   "source": [
    "X_stack"
   ]
  },
  {
   "cell_type": "code",
   "execution_count": 39,
   "id": "0f67e7ef",
   "metadata": {},
   "outputs": [
    {
     "data": {
      "text/plain": [
       "array([[ 1.85306541,  2.22578273,  1.22880035, ...,  2.04796991,\n",
       "         0.82643243, -0.23647527],\n",
       "       [ 1.59259503,  3.06315904,  0.0063249 , ...,  1.01596128,\n",
       "         0.24294599,  0.68515417],\n",
       "       [ 2.77422852,  0.37128611,  0.20332439, ...,  2.61747433,\n",
       "         1.42626989,  2.48060886],\n",
       "       [ 1.03292439,  1.68034946,  0.00883593, ...,  0.47336915,\n",
       "         1.9493571 ,  2.27210968],\n",
       "       [ 0.74110933,  2.66631522,  0.16881287, ...,  1.7604751 ,\n",
       "         1.64227296,  1.21854964],\n",
       "       [ 0.38815249,  1.04807568,  1.83133307, ...,  1.47358585,\n",
       "         1.89823389,  2.28869475]])"
      ]
     },
     "execution_count": 39,
     "metadata": {},
     "output_type": "execute_result"
    }
   ],
   "source": [
    "Y_stack"
   ]
  },
  {
   "cell_type": "code",
   "execution_count": 40,
   "id": "d5ba5735",
   "metadata": {},
   "outputs": [],
   "source": [
    "cons = {'type':'eq', 'fun': constr_DYNOTEARS}\n",
    "C = sc.optimize.minimize(f_DYNOTEARS(X_stack,Y_stack,.01,.1) , C_init, constraints=cons).x"
   ]
  },
  {
   "cell_type": "code",
   "execution_count": 41,
   "id": "58d4114d",
   "metadata": {},
   "outputs": [],
   "source": [
    "A = C[:varables*window*varables].reshape(varables, varables*window)\n",
    "W = C[varables*window*varables:].reshape(varables, varables)\n",
    "np.fill_diagonal(W, 0)"
   ]
  },
  {
   "cell_type": "code",
   "execution_count": 42,
   "id": "d9a4d5e4",
   "metadata": {},
   "outputs": [
    {
     "data": {
      "text/plain": [
       "array([[0. , 0. , 0. , 0. , 1.3, 0. ],\n",
       "       [0. , 0. , 0. , 0. , 1.2, 0. ],\n",
       "       [0. , 0. , 0. , 0. , 0. , 1.3]])"
      ]
     },
     "execution_count": 42,
     "metadata": {},
     "output_type": "execute_result"
    }
   ],
   "source": [
    "abs(A.round(1))"
   ]
  },
  {
   "cell_type": "code",
   "execution_count": 43,
   "id": "9f99eaa4",
   "metadata": {},
   "outputs": [
    {
     "data": {
      "text/plain": [
       "array([[0. , 0. , 0. , 0. , 1.3, 0. ],\n",
       "       [0. , 0. , 0. , 0. , 1.2, 0. ],\n",
       "       [0. , 0. , 0. , 0. , 0. , 1.3]])"
      ]
     },
     "execution_count": 43,
     "metadata": {},
     "output_type": "execute_result"
    }
   ],
   "source": [
    "dagY.round(1)"
   ]
  },
  {
   "cell_type": "code",
   "execution_count": 44,
   "id": "b885c5f9",
   "metadata": {},
   "outputs": [
    {
     "data": {
      "text/plain": [
       "array([[ 0.,  0., -0.],\n",
       "       [-0.,  0., -0.],\n",
       "       [ 0.,  0.,  0.]])"
      ]
     },
     "execution_count": 44,
     "metadata": {},
     "output_type": "execute_result"
    }
   ],
   "source": [
    "W.round(2)"
   ]
  },
  {
   "cell_type": "code",
   "execution_count": 45,
   "id": "8389668a",
   "metadata": {},
   "outputs": [
    {
     "data": {
      "text/plain": [
       "array([[0., 0., 0.],\n",
       "       [0., 0., 0.],\n",
       "       [0., 0., 0.]])"
      ]
     },
     "execution_count": 45,
     "metadata": {},
     "output_type": "execute_result"
    }
   ],
   "source": [
    "dagX.round(1)"
   ]
  },
  {
   "cell_type": "code",
   "execution_count": 46,
   "id": "a0fa2466",
   "metadata": {},
   "outputs": [
    {
     "data": {
      "text/plain": [
       "array([[0., 0., 0.],\n",
       "       [0., 0., 0.],\n",
       "       [0., 0., 0.]])"
      ]
     },
     "execution_count": 46,
     "metadata": {},
     "output_type": "execute_result"
    }
   ],
   "source": [
    "dagX.T.round(1)"
   ]
  },
  {
   "cell_type": "code",
   "execution_count": 89,
   "id": "4beade06",
   "metadata": {},
   "outputs": [
    {
     "name": "stdout",
     "output_type": "stream",
     "text": [
      "(3, 3, 3)\n",
      "(5, 3, 1000)\n"
     ]
    }
   ],
   "source": [
    "#tensor representation for timeseries\n",
    "dagYtesnor = np.transpose(np.array([dagY[:,i*varables:(i+1)*varables] for i in range(window)]),(0,2,1))\n",
    "\n",
    "dagXtesnor = dagX\n",
    "print(dagYtesnor.round().shape)\n",
    "\n",
    "XYtesnor = XY.reshape(times, varables, observations)\n",
    "print(XYtesnor.shape)"
   ]
  },
  {
   "cell_type": "code",
   "execution_count": 96,
   "id": "b14b51d3",
   "metadata": {},
   "outputs": [
    {
     "data": {
      "text/plain": [
       "array([[[ 2.83500155,  4.20864923,  0.42673679, ...,  2.46287197,\n",
       "          2.9860356 ,  3.30613402],\n",
       "        [ 2.75849403,  8.81301775,  3.57803976, ...,  5.55809189,\n",
       "          7.63826809,  8.64164758],\n",
       "        [ 0.85999844,  2.75991344,  0.9639159 , ...,  1.20194524,\n",
       "          2.23853415,  2.76316412]],\n",
       "\n",
       "       [[ 0.38218448,  3.14961631,  2.6886667 , ...,  2.62572707,\n",
       "          3.26591988,  4.45719049],\n",
       "        [ 3.68976684,  8.31865416,  6.62324037, ...,  6.51463553,\n",
       "          6.5383516 ,  5.01291413],\n",
       "        [ 0.9784015 ,  2.35396331,  1.9027565 , ...,  1.75081257,\n",
       "          1.97042291,  1.67288918]],\n",
       "\n",
       "       [[ 1.19289768,  4.07220971,  3.08801754, ...,  3.83001853,\n",
       "          2.16994063,  1.3538501 ],\n",
       "        [ 2.96825265,  5.55042407,  1.7040868 , ...,  5.35436684,\n",
       "          3.58454102,  2.20002415],\n",
       "        [ 1.02323495,  2.06963608,  0.20600265, ...,  2.06390986,\n",
       "          0.97640408,  0.74006252]],\n",
       "\n",
       "       [[ 2.06103529,  1.56038318, -0.79048064, ...,  1.52507037,\n",
       "          1.96490064,  0.38014785],\n",
       "        [ 1.54483764,  4.00736404,  1.96469735, ...,  5.7487646 ,\n",
       "          3.37943031,  4.16554039],\n",
       "        [ 0.5809597 ,  1.33301891,  0.32099801, ...,  2.20751563,\n",
       "          1.42555893,  1.48288665]],\n",
       "\n",
       "       [[-0.34501874,  2.0993673 ,  1.10717453, ...,  1.97264966,\n",
       "          1.52271318,  2.01855854],\n",
       "        [ 1.75953088,  3.23472843,  3.39184166, ...,  3.27247628,\n",
       "          3.73409344,  2.89941241],\n",
       "        [ 0.44297904,  1.70041776,  1.55385091, ...,  1.18032598,\n",
       "          1.31506505,  1.24818192]]])"
      ]
     },
     "execution_count": 96,
     "metadata": {},
     "output_type": "execute_result"
    }
   ],
   "source": [
    "XYtesnor"
   ]
  },
  {
   "cell_type": "code",
   "execution_count": 98,
   "id": "22bbbd0b",
   "metadata": {},
   "outputs": [
    {
     "data": {
      "text/plain": [
       "array([[ 2.83500155,  4.20864923,  0.42673679, ...,  2.46287197,\n",
       "         2.9860356 ,  3.30613402],\n",
       "       [ 2.75849403,  8.81301775,  3.57803976, ...,  5.55809189,\n",
       "         7.63826809,  8.64164758],\n",
       "       [ 0.85999844,  2.75991344,  0.9639159 , ...,  1.20194524,\n",
       "         2.23853415,  2.76316412],\n",
       "       ...,\n",
       "       [-0.34501874,  2.0993673 ,  1.10717453, ...,  1.97264966,\n",
       "         1.52271318,  2.01855854],\n",
       "       [ 1.75953088,  3.23472843,  3.39184166, ...,  3.27247628,\n",
       "         3.73409344,  2.89941241],\n",
       "       [ 0.44297904,  1.70041776,  1.55385091, ...,  1.18032598,\n",
       "         1.31506505,  1.24818192]])"
      ]
     },
     "execution_count": 98,
     "metadata": {},
     "output_type": "execute_result"
    }
   ],
   "source": [
    "XY.reshape(times*varables, observations)"
   ]
  },
  {
   "cell_type": "code",
   "execution_count": 49,
   "id": "0ed62afe",
   "metadata": {},
   "outputs": [],
   "source": [
    "Y_stack=XY_stack[varables:window*varables+varables]\n",
    "X_stack=XY_stack[:varables]"
   ]
  },
  {
   "cell_type": "code",
   "execution_count": 50,
   "id": "f283eb5a",
   "metadata": {},
   "outputs": [
    {
     "data": {
      "text/plain": [
       "array([[ 1.85306541,  2.22578273,  1.22880035, ...,  2.04796991,\n",
       "         0.82643243, -0.23647527],\n",
       "       [ 1.59259503,  3.06315904,  0.0063249 , ...,  1.01596128,\n",
       "         0.24294599,  0.68515417],\n",
       "       [ 2.77422852,  0.37128611,  0.20332439, ...,  2.61747433,\n",
       "         1.42626989,  2.48060886],\n",
       "       [ 1.03292439,  1.68034946,  0.00883593, ...,  0.47336915,\n",
       "         1.9493571 ,  2.27210968],\n",
       "       [ 0.74110933,  2.66631522,  0.16881287, ...,  1.7604751 ,\n",
       "         1.64227296,  1.21854964],\n",
       "       [ 0.38815249,  1.04807568,  1.83133307, ...,  1.47358585,\n",
       "         1.89823389,  2.28869475]])"
      ]
     },
     "execution_count": 50,
     "metadata": {},
     "output_type": "execute_result"
    }
   ],
   "source": [
    "Y_stack"
   ]
  },
  {
   "cell_type": "code",
   "execution_count": 51,
   "id": "ee37580d",
   "metadata": {},
   "outputs": [
    {
     "data": {
      "text/plain": [
       "array([[ 1.17935877,  2.92260449,  0.79206399, ...,  2.18443312,\n",
       "         1.14069776,  1.99290645],\n",
       "       [ 0.8892889 ,  3.35678895, -0.48036689, ...,  1.38448885,\n",
       "         1.78689043,  1.41263155],\n",
       "       [ 1.50159501,  0.75895606,  2.5779033 , ...,  1.97829766,\n",
       "         1.98111648,  2.10515377]])"
      ]
     },
     "execution_count": 51,
     "metadata": {},
     "output_type": "execute_result"
    }
   ],
   "source": [
    "X_stack"
   ]
  },
  {
   "cell_type": "code",
   "execution_count": null,
   "id": "6f9e2970",
   "metadata": {},
   "outputs": [],
   "source": []
  },
  {
   "cell_type": "code",
   "execution_count": null,
   "id": "5e66c75a",
   "metadata": {},
   "outputs": [],
   "source": []
  },
  {
   "cell_type": "code",
   "execution_count": 52,
   "id": "be8d9d2e",
   "metadata": {},
   "outputs": [],
   "source": [
    "def diff(X, w, a):\n",
    "    X_check = X[:X.shape[0]-a.shape[0]]\n",
    "    \n",
    "    Xw = np.matmul(w, X_check)\n",
    "    #print(a.shape)\n",
    "    #print(X.shape[0]-window+1)\n",
    "    Xa = np.array([np.tensordot(a, X[i:i+window], axes=((0,1),(0,1)))\n",
    "                    for i in range(1, X.shape[0]-window+1)])\n",
    "    #print(X_check.shape)\n",
    "    #print(Xw.shape)\n",
    "    #print(Xa.shape)\n",
    "    \n",
    "    return X_check - Xw - Xa\n",
    "\n",
    "def f_DYNOTEARS_TENSOR(X, lA, lB):\n",
    "    def aux(C):\n",
    "        a = C[:varables*window*varables].reshape(window, varables, varables)\n",
    "        w = C[varables*window*varables:].reshape(varables, varables)\n",
    "    \n",
    "        loss = np.square(diff(X, w, a)).sum().sum().sum()/np.prod(X.shape)\n",
    "        #print(loss)\n",
    "        return loss + lB*np.linalg.norm(w.flatten(), 1) + lA*np.linalg.norm(a.flatten(), 1) \n",
    "    return aux\n",
    "\n",
    "def ll(X, Y, w, a):\n",
    "    return np.square(\n",
    "                np.linalg.norm(\n",
    "                    np.matmul(np.eye(varables, varables) - w, X)\n",
    "                    - np.matmul(a, Y)\n",
    "                    , \"fro\"\n",
    "                )\n",
    "            )/np.prod(X.shape)"
   ]
  },
  {
   "cell_type": "code",
   "execution_count": 53,
   "id": "7ff2c93d",
   "metadata": {},
   "outputs": [],
   "source": [
    "Y_stack=XY_stack[varables:window*varables+varables]\n",
    "X_stack=XY_stack[:varables]"
   ]
  },
  {
   "cell_type": "code",
   "execution_count": 54,
   "id": "cc69092a",
   "metadata": {},
   "outputs": [],
   "source": [
    "def constr_DYNOTEARS(C):\n",
    "    w = C[varables*window*varables:].reshape(varables, varables)\n",
    "    return qDag(w)\n",
    "\n",
    "cons = {'type':'eq', 'fun': constr_DYNOTEARS}\n",
    "\n",
    "C = sc.optimize.minimize(f_DYNOTEARS_TENSOR(XYtesnor,.05,.05) , C_init, constraints=cons).x"
   ]
  },
  {
   "cell_type": "code",
   "execution_count": 55,
   "id": "46a152f9",
   "metadata": {},
   "outputs": [
    {
     "name": "stdout",
     "output_type": "stream",
     "text": [
      "0.33105701969066226\n",
      "0.19925244009939694\n",
      "0.20427725021889526\n"
     ]
    }
   ],
   "source": [
    "A = C[:varables*window*varables].reshape(window, varables, varables)\n",
    "W = C[varables*window*varables:].reshape(varables, varables)\n",
    "print(ll(X_stack, Y_stack, dagX, dagY))\n",
    "\n",
    "#print(ll(XYtesnor, W, A))\n",
    "\n",
    "print(np.square(diff(XYtesnor, dagX, dagYtesnor)).sum().sum().sum()/np.prod(XYtesnor.shape))\n",
    "\n",
    "print(np.square(diff(XYtesnor, W, A)).sum().sum().sum()/np.prod(XYtesnor.shape))"
   ]
  },
  {
   "cell_type": "code",
   "execution_count": null,
   "id": "266945a6",
   "metadata": {},
   "outputs": [],
   "source": []
  },
  {
   "cell_type": "code",
   "execution_count": 56,
   "id": "03d972ae",
   "metadata": {},
   "outputs": [
    {
     "data": {
      "text/plain": [
       "(2, 3, 3)"
      ]
     },
     "execution_count": 56,
     "metadata": {},
     "output_type": "execute_result"
    }
   ],
   "source": [
    "A.shape"
   ]
  },
  {
   "cell_type": "code",
   "execution_count": 57,
   "id": "2c9857be",
   "metadata": {},
   "outputs": [
    {
     "data": {
      "text/plain": [
       "(3, 3)"
      ]
     },
     "execution_count": 57,
     "metadata": {},
     "output_type": "execute_result"
    }
   ],
   "source": [
    "W.shape"
   ]
  },
  {
   "cell_type": "code",
   "execution_count": 58,
   "id": "6d5af3fe",
   "metadata": {},
   "outputs": [
    {
     "data": {
      "text/plain": [
       "array([[[ 0. ,  0. ,  0. ],\n",
       "        [ 0. ,  0. , -0. ],\n",
       "        [ 0. ,  0. ,  0. ]],\n",
       "\n",
       "       [[ 0. ,  0. ,  0. ],\n",
       "        [ 1.2,  1. ,  0. ],\n",
       "        [ 0. ,  0. ,  1.3]]])"
      ]
     },
     "execution_count": 58,
     "metadata": {},
     "output_type": "execute_result"
    }
   ],
   "source": [
    "A.round(1)"
   ]
  },
  {
   "cell_type": "code",
   "execution_count": 59,
   "id": "5d7de013",
   "metadata": {},
   "outputs": [
    {
     "data": {
      "text/plain": [
       "array([[[0. , 0. , 0. ],\n",
       "        [0. , 0. , 0. ],\n",
       "        [0. , 0. , 0. ]],\n",
       "\n",
       "       [[0. , 0. , 0. ],\n",
       "        [1.3, 1.2, 0. ],\n",
       "        [0. , 0. , 1.3]]])"
      ]
     },
     "execution_count": 59,
     "metadata": {},
     "output_type": "execute_result"
    }
   ],
   "source": [
    "dagYtesnor.round(1)"
   ]
  },
  {
   "cell_type": "code",
   "execution_count": 60,
   "id": "6240b0ca",
   "metadata": {},
   "outputs": [
    {
     "data": {
      "text/plain": [
       "array([[[ 2.,  2.,  1., ...,  2.,  1.,  2.],\n",
       "        [ 2.,  3.,  0., ...,  1.,  2.,  1.],\n",
       "        [ 3.,  0.,  0., ...,  2.,  2.,  2.]],\n",
       "\n",
       "       [[ 1.,  2.,  0., ...,  2.,  1., -0.],\n",
       "        [ 1.,  3.,  0., ...,  1.,  0.,  1.],\n",
       "        [ 0.,  1.,  2., ...,  3.,  1.,  2.]]])"
      ]
     },
     "execution_count": 60,
     "metadata": {},
     "output_type": "execute_result"
    }
   ],
   "source": [
    "XYtesnor[1:1+window].round()"
   ]
  },
  {
   "cell_type": "code",
   "execution_count": 61,
   "id": "f201a659",
   "metadata": {},
   "outputs": [
    {
     "data": {
      "text/plain": [
       "array([[[0. , 0. , 0. ],\n",
       "        [0. , 0. , 0. ],\n",
       "        [0. , 0. , 0. ]],\n",
       "\n",
       "       [[0. , 0. , 0. ],\n",
       "        [1.3, 1.2, 0. ],\n",
       "        [0. , 0. , 1.3]]])"
      ]
     },
     "execution_count": 61,
     "metadata": {},
     "output_type": "execute_result"
    }
   ],
   "source": [
    "dagYtesnor.round(1)"
   ]
  },
  {
   "cell_type": "code",
   "execution_count": 62,
   "id": "63b73a94",
   "metadata": {},
   "outputs": [
    {
     "data": {
      "text/plain": [
       "array([[0.9, 3.3, 0.2, ..., 1.3, 0.3, 0.8],\n",
       "       [0.7, 2.6, 0.2, ..., 1. , 0.2, 0.7],\n",
       "       [0.5, 1.3, 2.3, ..., 3.3, 1.8, 3.1]])"
      ]
     },
     "execution_count": 62,
     "metadata": {},
     "output_type": "execute_result"
    }
   ],
   "source": [
    "np.tensordot(A, XYtesnor[1:1+window], axes=((0,1),(0,1))).round(1)"
   ]
  },
  {
   "cell_type": "code",
   "execution_count": 63,
   "id": "db3e9586",
   "metadata": {},
   "outputs": [
    {
     "data": {
      "text/plain": [
       "array([[[ 2.,  2.,  1., ...,  2.,  1.,  2.],\n",
       "        [ 2.,  3.,  0., ...,  1.,  2.,  1.],\n",
       "        [ 3.,  0.,  0., ...,  2.,  2.,  2.]],\n",
       "\n",
       "       [[ 1.,  2.,  0., ...,  2.,  1., -0.],\n",
       "        [ 1.,  3.,  0., ...,  1.,  0.,  1.],\n",
       "        [ 0.,  1.,  2., ...,  3.,  1.,  2.]]])"
      ]
     },
     "execution_count": 63,
     "metadata": {},
     "output_type": "execute_result"
    }
   ],
   "source": [
    "XYtesnor[0].round()\n",
    "XYtesnor[1:1+window].round()"
   ]
  },
  {
   "cell_type": "code",
   "execution_count": 64,
   "id": "1e334673",
   "metadata": {},
   "outputs": [],
   "source": [
    "#np.array([dagY[:,i*varables:(i+1)*varables] for i in range(window)]).round(1)"
   ]
  },
  {
   "cell_type": "code",
   "execution_count": 65,
   "id": "8efbe467",
   "metadata": {},
   "outputs": [
    {
     "data": {
      "text/plain": [
       "array([[0. , 0. , 0. , 0. , 1.3, 0. ],\n",
       "       [0. , 0. , 0. , 0. , 1.2, 0. ],\n",
       "       [0. , 0. , 0. , 0. , 0. , 1.3]])"
      ]
     },
     "execution_count": 65,
     "metadata": {},
     "output_type": "execute_result"
    }
   ],
   "source": [
    "dagY.round(1)"
   ]
  },
  {
   "cell_type": "code",
   "execution_count": 66,
   "id": "f149fb86",
   "metadata": {},
   "outputs": [
    {
     "data": {
      "text/plain": [
       "array([[ 2.,  2.,  1., ...,  2.,  1., -0.],\n",
       "       [ 2.,  3.,  0., ...,  1.,  0.,  1.],\n",
       "       [ 3.,  0.,  0., ...,  3.,  1.,  2.],\n",
       "       [ 1.,  2.,  0., ...,  0.,  2.,  2.],\n",
       "       [ 1.,  3.,  0., ...,  2.,  2.,  1.],\n",
       "       [ 0.,  1.,  2., ...,  1.,  2.,  2.]])"
      ]
     },
     "execution_count": 66,
     "metadata": {},
     "output_type": "execute_result"
    }
   ],
   "source": [
    "Y_stack.round()"
   ]
  },
  {
   "cell_type": "code",
   "execution_count": 67,
   "id": "b57c348a",
   "metadata": {},
   "outputs": [
    {
     "data": {
      "text/plain": [
       "array([[1., 3., 0., ..., 2., 2., 2.],\n",
       "       [1., 3., 0., ..., 2., 2., 1.],\n",
       "       [1., 1., 2., ..., 2., 2., 3.]])"
      ]
     },
     "execution_count": 67,
     "metadata": {},
     "output_type": "execute_result"
    }
   ],
   "source": [
    "np.matmul(dagY, Y_stack).round()"
   ]
  },
  {
   "cell_type": "code",
   "execution_count": 68,
   "id": "f0709f7e",
   "metadata": {},
   "outputs": [
    {
     "data": {
      "text/plain": [
       "array([[ 1.,  3.,  1., ...,  2.,  1.,  2.],\n",
       "       [ 1.,  3., -0., ...,  1.,  2.,  1.],\n",
       "       [ 2.,  1.,  3., ...,  2.,  2.,  2.]])"
      ]
     },
     "execution_count": 68,
     "metadata": {},
     "output_type": "execute_result"
    }
   ],
   "source": [
    "X_stack.round()"
   ]
  },
  {
   "cell_type": "code",
   "execution_count": 69,
   "id": "b067c578",
   "metadata": {},
   "outputs": [
    {
     "data": {
      "text/plain": [
       "array([[0., 0., 0.],\n",
       "       [0., 0., 0.],\n",
       "       [0., 0., 0.]])"
      ]
     },
     "execution_count": 69,
     "metadata": {},
     "output_type": "execute_result"
    }
   ],
   "source": [
    "dagX.round(1)"
   ]
  },
  {
   "cell_type": "code",
   "execution_count": 70,
   "id": "64e35a30",
   "metadata": {},
   "outputs": [
    {
     "data": {
      "text/plain": [
       "array([[0. , 0. , 0. ],\n",
       "       [0.1, 0. , 0. ],\n",
       "       [0. , 0. , 0. ]])"
      ]
     },
     "execution_count": 70,
     "metadata": {},
     "output_type": "execute_result"
    }
   ],
   "source": [
    "W.round(1)"
   ]
  },
  {
   "cell_type": "code",
   "execution_count": null,
   "id": "0615ea9e",
   "metadata": {},
   "outputs": [],
   "source": []
  },
  {
   "cell_type": "code",
   "execution_count": 71,
   "id": "c338405e",
   "metadata": {},
   "outputs": [
    {
     "name": "stdout",
     "output_type": "stream",
     "text": [
      "2\n",
      "0.0\n",
      "1.1\n",
      "1\n",
      "6.0\n"
     ]
    }
   ],
   "source": [
    "def get_sparse(X):\n",
    "    ret = []\n",
    "    for i in range(len(X)):\n",
    "        for j in range(len(X[i])):\n",
    "            val = X[i,j]\n",
    "            if not np.isnan(val):\n",
    "                print(val)\n",
    "                ret.append((i, j, val))\n",
    "    return ret\n",
    "\n",
    "constraint_matrix_X = np.array(\n",
    "[\n",
    "    [np.nan, np.nan, np.nan],\n",
    "    [np.nan, np.nan, np.nan],\n",
    "    [0, 1.1, np.nan],\n",
    "])\n",
    "X_set = np.logical_not(np.isnan(constraint_matrix_X)).sum().sum()\n",
    "print(X_set)\n",
    "X_sparce = get_sparse(constraint_matrix_X)\n",
    "\n",
    "            \n",
    "constraint_matrix_Y = np.array(\n",
    "[\n",
    "    [np.nan, np.nan, np.nan, np.nan, np.nan, np.nan],\n",
    "    [np.nan, np.nan, np.nan, 6, np.nan, np.nan],\n",
    "    [np.nan, np.nan, np.nan, np.nan, np.nan, np.nan]\n",
    "])\n",
    "Y_set = np.logical_not(np.isnan(constraint_matrix_Y)).sum().sum()\n",
    "print(Y_set)\n",
    "Y_sparce = get_sparse(constraint_matrix_Y)\n",
    "\n",
    "\n",
    "#C_init = np.random.rand(varables*varables*window + varables*varables)\n",
    "#not create no C_init with XYset less variables and instread enforce in loss func\n",
    "#to avoid unnessasary copying"
   ]
  },
  {
   "cell_type": "code",
   "execution_count": 72,
   "id": "8777d2ec",
   "metadata": {},
   "outputs": [],
   "source": [
    "def enforce_cons(X, cons):\n",
    "    for (i, j, val) in cons:\n",
    "        X[i][j] = val\n",
    "\n",
    "def f_DYNOTEARS_CONSTRAINT(X, Y, lA, lB, X_cons, Y_cons):\n",
    "    def aux(C):\n",
    "        w = C[varables*window*varables:].reshape(varables, varables)\n",
    "        enforce_cons(w, X_cons)\n",
    "        a = C[:varables*window*varables].reshape(varables, varables*window)\n",
    "        enforce_cons(a, Y_cons)\n",
    "    \n",
    "        loss = np.square(\n",
    "                np.linalg.norm(\n",
    "                    np.matmul(np.eye(varables, varables) - w, X)\n",
    "                    - np.matmul(a, Y)\n",
    "                    , \"fro\"\n",
    "                )\n",
    "            )/np.prod(X.shape)\n",
    "        #print(loss)\n",
    "        return loss + lB*np.linalg.norm(w.flatten(), 1) + lA*np.linalg.norm(a.flatten(), 1) \n",
    "    return aux"
   ]
  },
  {
   "cell_type": "code",
   "execution_count": 73,
   "id": "800bb1bf",
   "metadata": {},
   "outputs": [],
   "source": [
    "def constr_DYNOTEARS(C):\n",
    "    w = C[varables*window*varables:].reshape(varables, varables)\n",
    "    return qDag(w)\n",
    "\n",
    "cons = {'type':'eq', 'fun': constr_DYNOTEARS}\n",
    "\n",
    "C = sc.optimize.minimize(f_DYNOTEARS_CONSTRAINT(X,Y,.1,.1,X_sparce, Y_sparce) , C_init, constraints=cons).x"
   ]
  },
  {
   "cell_type": "code",
   "execution_count": 74,
   "id": "ec7c2627",
   "metadata": {},
   "outputs": [],
   "source": [
    "\n",
    "W = C[varables*window*varables:].reshape(varables, varables)\n",
    "enforce_cons(W, X_sparce)\n",
    "A = C[:varables*window*varables].reshape(varables, varables*window)\n",
    "enforce_cons(A, Y_sparce)\n",
    "np.fill_diagonal(W, 0)"
   ]
  },
  {
   "cell_type": "code",
   "execution_count": 75,
   "id": "8857c237",
   "metadata": {},
   "outputs": [
    {
     "data": {
      "text/plain": [
       "array([[ 0. ,  0. ,  0. ,  0. ,  1.2,  0. ],\n",
       "       [-0.4, -0.3, -0.4,  6. , -3.3, -0.4],\n",
       "       [ 0. ,  0. ,  0. , -0. , -1.1,  1.1]])"
      ]
     },
     "execution_count": 75,
     "metadata": {},
     "output_type": "execute_result"
    }
   ],
   "source": [
    "enforce_cons(A, Y_sparce)\n",
    "A.round(1)"
   ]
  },
  {
   "cell_type": "code",
   "execution_count": 76,
   "id": "0ac77615",
   "metadata": {},
   "outputs": [
    {
     "data": {
      "text/plain": [
       "array([[0. , 0. , 0. , 0. , 1.3, 0. ],\n",
       "       [0. , 0. , 0. , 0. , 1.2, 0. ],\n",
       "       [0. , 0. , 0. , 0. , 0. , 1.3]])"
      ]
     },
     "execution_count": 76,
     "metadata": {},
     "output_type": "execute_result"
    }
   ],
   "source": [
    "dagY.round(1)"
   ]
  },
  {
   "cell_type": "code",
   "execution_count": 77,
   "id": "bb763f04",
   "metadata": {},
   "outputs": [
    {
     "data": {
      "text/plain": [
       "array([[ 0. ,  0.1,  0. ],\n",
       "       [-0. ,  0. ,  0. ],\n",
       "       [ 0. ,  1.1,  0. ]])"
      ]
     },
     "execution_count": 77,
     "metadata": {},
     "output_type": "execute_result"
    }
   ],
   "source": [
    "W.round(1)"
   ]
  },
  {
   "cell_type": "code",
   "execution_count": 78,
   "id": "3791be97",
   "metadata": {},
   "outputs": [
    {
     "data": {
      "text/plain": [
       "array([[0., 0., 0.],\n",
       "       [0., 0., 0.],\n",
       "       [0., 0., 0.]])"
      ]
     },
     "execution_count": 78,
     "metadata": {},
     "output_type": "execute_result"
    }
   ],
   "source": [
    "dagX.round(1)"
   ]
  },
  {
   "cell_type": "code",
   "execution_count": 79,
   "id": "c154d75e",
   "metadata": {},
   "outputs": [],
   "source": [
    "#testing confounded in Y\n",
    "\n",
    "varables = 3\n",
    "observations = 1000\n",
    "window = 3\n",
    "#to use later \n",
    "times = 5\n",
    "C_init = np.random.rand(varables*varables*window + varables*varables)"
   ]
  },
  {
   "cell_type": "code",
   "execution_count": 80,
   "id": "b61c6aa6",
   "metadata": {},
   "outputs": [],
   "source": [
    "dagY = sc.sparse.random(varables, varables*window, density=0.15, data_rvs=get_r(.5)).A\n",
    "\n",
    "dagX = np.eye(varables, varables)\n",
    "    while qDag(dagX) != 0:\n",
    "    dagX = sc.sparse.random(varables, varables, density=0.25, data_rvs=get_r(.5)).A\n",
    "    np.fill_diagonal(dagX, 0)"
   ]
  },
  {
   "cell_type": "code",
   "execution_count": 81,
   "id": "03b196ad",
   "metadata": {},
   "outputs": [],
   "source": [
    "for i in range(len(dagY)):\n",
    "    dagY[i][i] = .2"
   ]
  },
  {
   "cell_type": "code",
   "execution_count": 82,
   "id": "cc31f3ca",
   "metadata": {},
   "outputs": [],
   "source": [
    "Y_pre = np.ones(observations*varables*window).reshape(varables*window, observations)\n",
    "XY = makeSynthData(Y_pre, times, observations, varables, 0, randFlat)\n",
    "Y=XY[varables:window*varables+varables]\n",
    "X=XY[:varables]"
   ]
  },
  {
   "cell_type": "code",
   "execution_count": 83,
   "id": "ff7df05e",
   "metadata": {},
   "outputs": [],
   "source": [
    "def f_DYNOTEARS(X, Y, lA, lB):\n",
    "    def aux(C):\n",
    "        a = C[:varables*window*varables].reshape(varables, varables*window)\n",
    "        w = C[varables*window*varables:].reshape(varables, varables)\n",
    "    \n",
    "        loss = np.square(\n",
    "                np.linalg.norm(\n",
    "                    np.matmul(np.eye(varables, varables) - w, X)\n",
    "                    - np.matmul(a, Y)\n",
    "                    , \"fro\"\n",
    "                )\n",
    "            )/np.prod(X.shape)\n",
    "        #print(loss)\n",
    "        return loss + lB*np.linalg.norm(w.flatten(), 1) + lA*np.linalg.norm(a.flatten(), 1) \n",
    "    return aux"
   ]
  },
  {
   "cell_type": "code",
   "execution_count": 84,
   "id": "dc46980d",
   "metadata": {},
   "outputs": [
    {
     "name": "stderr",
     "output_type": "stream",
     "text": [
      "/Library/Frameworks/Python.framework/Versions/3.11/lib/python3.11/site-packages/scipy/linalg/_matfuncs.py:378: RuntimeWarning: overflow encountered in matmul\n",
      "  eAw = eAw @ eAw\n"
     ]
    }
   ],
   "source": [
    "cons = {'type':'eq', 'fun': constr_DYNOTEARS}\n",
    "\n",
    "C = sc.optimize.minimize(f_DYNOTEARS(X,Y,.1,.1) , C_init, constraints=cons).x\n",
    "A = C[:varables*window*varables].reshape(varables, varables*window)\n",
    "W = C[varables*window*varables:].reshape(varables, varables)\n"
   ]
  },
  {
   "cell_type": "code",
   "execution_count": 85,
   "id": "ac749e8e",
   "metadata": {},
   "outputs": [
    {
     "data": {
      "text/plain": [
       "array([[ 0. , -0. ,  0.6],\n",
       "       [ 0. ,  0. ,  0. ],\n",
       "       [ 0. ,  0.3,  0. ]])"
      ]
     },
     "execution_count": 85,
     "metadata": {},
     "output_type": "execute_result"
    }
   ],
   "source": [
    "W.round(1)"
   ]
  },
  {
   "cell_type": "code",
   "execution_count": 86,
   "id": "b3b7c6f5",
   "metadata": {},
   "outputs": [
    {
     "data": {
      "text/plain": [
       "array([[0. , 0. , 1.4],\n",
       "       [0. , 0. , 1.4],\n",
       "       [0. , 0. , 0. ]])"
      ]
     },
     "execution_count": 86,
     "metadata": {},
     "output_type": "execute_result"
    }
   ],
   "source": [
    "dagX.round(1)"
   ]
  },
  {
   "cell_type": "code",
   "execution_count": 87,
   "id": "2eba4a30",
   "metadata": {},
   "outputs": [
    {
     "data": {
      "text/plain": [
       "array([[-0. , -0. , -0. , -0. ,  0.5,  0. , -0. ,  0. ,  0. ],\n",
       "       [ 1.4,  0.2,  0. ,  0. ,  0. , -0. ,  0. ,  0.2,  0.3],\n",
       "       [ 0. , -0. ,  0. ,  0. , -0. ,  0. , -0. , -0. , -0. ]])"
      ]
     },
     "execution_count": 87,
     "metadata": {},
     "output_type": "execute_result"
    }
   ],
   "source": [
    "A.round(1)"
   ]
  },
  {
   "cell_type": "code",
   "execution_count": 88,
   "id": "c525d635",
   "metadata": {},
   "outputs": [
    {
     "data": {
      "text/plain": [
       "array([[0.2, 0. , 0. , 0. , 0.6, 0. , 0. , 0. , 0. ],\n",
       "       [1.4, 0.2, 0. , 0. , 0. , 0. , 0. , 0. , 0.9],\n",
       "       [0.5, 0. , 0.2, 0. , 0. , 0. , 0. , 0. , 0. ]])"
      ]
     },
     "execution_count": 88,
     "metadata": {},
     "output_type": "execute_result"
    }
   ],
   "source": [
    "dagY.round(1)"
   ]
  },
  {
   "cell_type": "code",
   "execution_count": null,
   "id": "8fcf3a9b",
   "metadata": {},
   "outputs": [],
   "source": []
  },
  {
   "cell_type": "code",
   "execution_count": null,
   "id": "3604bfa8",
   "metadata": {},
   "outputs": [],
   "source": []
  }
 ],
 "metadata": {
  "kernelspec": {
   "display_name": "Python 3 (ipykernel)",
   "language": "python",
   "name": "python3"
  },
  "language_info": {
   "codemirror_mode": {
    "name": "ipython",
    "version": 3
   },
   "file_extension": ".py",
   "mimetype": "text/x-python",
   "name": "python",
   "nbconvert_exporter": "python",
   "pygments_lexer": "ipython3",
   "version": "3.11.1"
  }
 },
 "nbformat": 4,
 "nbformat_minor": 5
}
