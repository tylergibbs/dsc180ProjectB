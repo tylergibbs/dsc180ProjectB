{
 "cells": [
  {
   "cell_type": "code",
   "execution_count": 1,
   "id": "774bdbc9",
   "metadata": {},
   "outputs": [],
   "source": [
    "import numpy as np\n",
    "import scipy.linalg as sla\n",
    "import numpy.linalg as la\n",
    "from scipy.special import expit as sigmoid\n",
    "import scipy as sc\n",
    "from statsmodels.tsa.api import VAR"
   ]
  },
  {
   "cell_type": "code",
   "execution_count": 2,
   "id": "feb9671c",
   "metadata": {},
   "outputs": [],
   "source": [
    "varables = 3\n",
    "observations = 1400\n",
    "window = 2\n",
    "#to use later \n",
    "times = 5"
   ]
  },
  {
   "cell_type": "code",
   "execution_count": 3,
   "id": "c8098bdc",
   "metadata": {},
   "outputs": [],
   "source": [
    "def qDag(w):\n",
    "    return np.trace(sc.linalg.expm(np.multiply(w,w))) - w.shape[0]\n",
    "def get_r(off):\n",
    "    return lambda n: np.random.rand(n)+off"
   ]
  },
  {
   "cell_type": "code",
   "execution_count": 4,
   "id": "68046d53",
   "metadata": {},
   "outputs": [],
   "source": [
    "dagY = sc.sparse.random(varables, varables*window, density=0.15, data_rvs=get_r(.5)).A\n",
    "\n",
    "dagX = np.eye(varables, varables)\n",
    "while qDag(dagX) != 0:\n",
    "    dagX = sc.sparse.random(varables, varables, density=0.25, data_rvs=get_r(.5)).A\n",
    "    np.fill_diagonal(dagX, 0)"
   ]
  },
  {
   "cell_type": "code",
   "execution_count": 5,
   "id": "8936b0b3",
   "metadata": {},
   "outputs": [
    {
     "name": "stdout",
     "output_type": "stream",
     "text": [
      "0.0\n",
      "[[0.         0.78169833 0.74042495]\n",
      " [0.         0.         0.        ]\n",
      " [0.         0.         0.        ]]\n",
      "[[0.         0.         0.         0.         1.37394212 0.        ]\n",
      " [0.         0.         0.         0.         0.         0.        ]\n",
      " [0.66403981 0.         0.         0.         0.         0.59730823]]\n"
     ]
    }
   ],
   "source": [
    "print(qDag(dagX))\n",
    "print(dagX)\n",
    "print(dagY)"
   ]
  },
  {
   "cell_type": "code",
   "execution_count": 6,
   "id": "5b49c5ca",
   "metadata": {},
   "outputs": [
    {
     "name": "stdout",
     "output_type": "stream",
     "text": [
      "(3, 6)\n",
      "(6, 1400)\n"
     ]
    }
   ],
   "source": [
    "def rand(n):\n",
    "    return 2*(np.random.rand(n)-.5)\n",
    "\n",
    "Y_pre = rand(observations*varables*window).reshape(varables*window, observations)\n",
    "print(dagY.shape)\n",
    "print(Y_pre.shape)"
   ]
  },
  {
   "cell_type": "code",
   "execution_count": 7,
   "id": "96a8769f",
   "metadata": {},
   "outputs": [],
   "source": [
    "#X = XW + YA + Z\n",
    "\n",
    "def randFlat(X):\n",
    "    return rand(X.shape[0]*X.shape[1]).reshape(*X.shape)\n",
    "\n",
    "def onesFlat(X):\n",
    "    return np.ones(X.shape[0]*X.shape[1]).reshape(*X.shape)\n",
    "\n",
    "def update(preY, preX, dagY, dagX, rand):\n",
    "    Xy = np.matmul(dagY, preY)\n",
    "    Xr = rand(preX)\n",
    "    Xx = np.matmul(dagX, Xr)\n",
    "    X = Xr + Xx + Xy\n",
    "    \n",
    "    return X\n",
    "\n",
    "def step(preY, dagY, dagX, window, var, rand):\n",
    "    preX = preY[:var]\n",
    "    preY = preY[:window*var]\n",
    "    return update(preY, preX, dagY, dagX, rand)\n",
    "\n",
    "def makeSynthData(preY, times, obs, var, pad, rand=rand):\n",
    "    window = preY.shape[0]//var\n",
    "    \n",
    "    for i in range(pad+window):\n",
    "        newX = step(preY, dagY, dagX, window, var, rand)\n",
    "        preY = np.append(newX, preY, axis=0)\n",
    "\n",
    "    Y = preY[:window*var]\n",
    "\n",
    "    for i in range(times - window):\n",
    "        newX = step(Y, dagY, dagX, window, var, rand)\n",
    "        Y = np.append(newX, Y, axis=0)\n",
    "        \n",
    "    return Y\n",
    "    \n",
    "\n",
    "\n",
    "\n",
    "#later\n",
    "#W = np.random.rand(varables*observations).reshape(varables,observations)"
   ]
  },
  {
   "cell_type": "code",
   "execution_count": 8,
   "id": "c37c00ea",
   "metadata": {},
   "outputs": [],
   "source": [
    "Y_pre = np.ones(observations*varables*window).reshape(varables*window, observations)\n",
    "XY = makeSynthData(Y_pre, times, observations, varables, 0, randFlat)\n",
    "Y=XY[varables:window*varables+varables]\n",
    "X=XY[:varables]"
   ]
  },
  {
   "cell_type": "code",
   "execution_count": null,
   "id": "6e3d3fd0",
   "metadata": {},
   "outputs": [],
   "source": []
  },
  {
   "cell_type": "code",
   "execution_count": 9,
   "id": "8aa9edd0",
   "metadata": {},
   "outputs": [
    {
     "data": {
      "text/plain": [
       "array([[-1.46905689, -0.23326422, -0.42714062, ...,  0.43946092,\n",
       "        -1.20710198,  0.52168248],\n",
       "       [ 0.06666353,  0.01504767,  0.5146201 , ...,  0.51459303,\n",
       "        -0.08464904,  0.77914589],\n",
       "       [ 0.42266355,  2.24891201,  1.58188714, ...,  2.36977383,\n",
       "        -1.53556536,  1.20497474],\n",
       "       ...,\n",
       "       [ 1.48536423,  1.30949363,  1.85830257, ...,  3.01998084,\n",
       "         2.12062303,  2.64484354],\n",
       "       [ 0.75312325, -0.99685789, -0.10862971, ...,  0.56686016,\n",
       "         0.21782882,  0.38265453],\n",
       "       [ 1.94580828,  1.14664359,  1.74432331, ...,  2.12668207,\n",
       "         1.23591904,  2.06676015]])"
      ]
     },
     "execution_count": 9,
     "metadata": {},
     "output_type": "execute_result"
    }
   ],
   "source": [
    "XY"
   ]
  },
  {
   "cell_type": "code",
   "execution_count": null,
   "id": "cf5792cc",
   "metadata": {},
   "outputs": [],
   "source": []
  },
  {
   "cell_type": "code",
   "execution_count": 10,
   "id": "d7ce8010",
   "metadata": {},
   "outputs": [],
   "source": [
    "C_init = np.random.rand(varables*varables*window + varables*varables)"
   ]
  },
  {
   "cell_type": "code",
   "execution_count": 11,
   "id": "44781fe1",
   "metadata": {},
   "outputs": [],
   "source": [
    "def f_DYNOTEARS(X, Y, lA, lB):\n",
    "    def aux(C):\n",
    "        a = C[:varables*window*varables].reshape(varables, varables*window)\n",
    "        w = C[varables*window*varables:].reshape(varables, varables)\n",
    "    \n",
    "        loss = np.square(\n",
    "                np.linalg.norm(\n",
    "                    np.matmul(np.eye(varables, varables) - w, X)\n",
    "                    - np.matmul(a, Y)\n",
    "                    , \"fro\"\n",
    "                )\n",
    "            )/np.prod(X.shape)\n",
    "        #print(loss)\n",
    "        return loss + lB*np.linalg.norm(w.flatten(), 1) + lA*np.linalg.norm(a.flatten(), 1) \n",
    "    return aux"
   ]
  },
  {
   "cell_type": "code",
   "execution_count": null,
   "id": "d43788c0",
   "metadata": {},
   "outputs": [],
   "source": []
  },
  {
   "cell_type": "code",
   "execution_count": 12,
   "id": "d51e60d7",
   "metadata": {},
   "outputs": [],
   "source": [
    "def constr_DYNOTEARS(C):\n",
    "    w = C[varables*window*varables:].reshape(varables, varables)\n",
    "    return qDag(w)\n",
    "\n",
    "cons = {'type':'eq', 'fun': constr_DYNOTEARS}\n",
    "\n",
    "C = sc.optimize.minimize(f_DYNOTEARS(X,Y,.1,.1) , C_init, constraints=cons).x"
   ]
  },
  {
   "cell_type": "code",
   "execution_count": 13,
   "id": "cdc2a7dc",
   "metadata": {},
   "outputs": [],
   "source": [
    "A = C[:varables*window*varables].reshape(varables, varables*window)\n",
    "W = C[varables*window*varables:].reshape(varables, varables)\n",
    "np.fill_diagonal(W, 0)"
   ]
  },
  {
   "cell_type": "code",
   "execution_count": 14,
   "id": "d2b3c3dd",
   "metadata": {},
   "outputs": [
    {
     "data": {
      "text/plain": [
       "array([[-0. , -0. ,  0. ,  0. ,  0.9,  0. ],\n",
       "       [-0. ,  0. ,  0. ,  0. ,  0. ,  0. ],\n",
       "       [ 0.6,  0. , -0. , -0. ,  0. ,  0.6]])"
      ]
     },
     "execution_count": 14,
     "metadata": {},
     "output_type": "execute_result"
    }
   ],
   "source": [
    "A.round(1)"
   ]
  },
  {
   "cell_type": "code",
   "execution_count": 15,
   "id": "ea57f251",
   "metadata": {},
   "outputs": [
    {
     "data": {
      "text/plain": [
       "array([[0. , 0. , 0. , 0. , 1.4, 0. ],\n",
       "       [0. , 0. , 0. , 0. , 0. , 0. ],\n",
       "       [0.7, 0. , 0. , 0. , 0. , 0.6]])"
      ]
     },
     "execution_count": 15,
     "metadata": {},
     "output_type": "execute_result"
    }
   ],
   "source": [
    "dagY.round(1)"
   ]
  },
  {
   "cell_type": "code",
   "execution_count": null,
   "id": "594ad8b1",
   "metadata": {},
   "outputs": [],
   "source": []
  },
  {
   "cell_type": "code",
   "execution_count": 16,
   "id": "8a6ac974",
   "metadata": {},
   "outputs": [
    {
     "data": {
      "text/plain": [
       "array([[0. , 0.3, 0. ],\n",
       "       [0. , 0. , 0. ],\n",
       "       [0.1, 0. , 0. ]])"
      ]
     },
     "execution_count": 16,
     "metadata": {},
     "output_type": "execute_result"
    }
   ],
   "source": [
    "W.round(1)"
   ]
  },
  {
   "cell_type": "code",
   "execution_count": 17,
   "id": "88a056d8",
   "metadata": {},
   "outputs": [
    {
     "data": {
      "text/plain": [
       "array([[0. , 0.8, 0.7],\n",
       "       [0. , 0. , 0. ],\n",
       "       [0. , 0. , 0. ]])"
      ]
     },
     "execution_count": 17,
     "metadata": {},
     "output_type": "execute_result"
    }
   ],
   "source": [
    "dagX.round(1)"
   ]
  },
  {
   "cell_type": "code",
   "execution_count": 18,
   "id": "6c0464d8",
   "metadata": {},
   "outputs": [
    {
     "data": {
      "text/plain": [
       "array([[0. , 0. , 0. ],\n",
       "       [0.8, 0. , 0. ],\n",
       "       [0.7, 0. , 0. ]])"
      ]
     },
     "execution_count": 18,
     "metadata": {},
     "output_type": "execute_result"
    }
   ],
   "source": [
    "dagX.T.round(1)"
   ]
  },
  {
   "cell_type": "code",
   "execution_count": null,
   "id": "8205f840",
   "metadata": {},
   "outputs": [],
   "source": []
  },
  {
   "cell_type": "code",
   "execution_count": null,
   "id": "584b525d",
   "metadata": {},
   "outputs": [],
   "source": []
  },
  {
   "cell_type": "code",
   "execution_count": 19,
   "id": "e2837d43",
   "metadata": {},
   "outputs": [],
   "source": [
    "def H1ldet(W):\n",
    "    det = np.linalg.det(np.eye(W.shape[0]) - np.multiply(W,W))\n",
    "    if (det <= 0):\n",
    "        print(det)\n",
    "    return -np.log(det)\n",
    "\n",
    "def constr_DAGMA(C):\n",
    "    w = C[varables*window*varables:].reshape(varables, varables)\n",
    "    return H1ldet(w)\n",
    "\n",
    "A_init = np.random.rand(varables*varables*window)\n",
    "\n",
    "W_init = np.random.rand(varables*varables).reshape(varables, varables)\n",
    "np.fill_diagonal(W_init, 0)\n",
    "while H1ldet(W_init) is np.nan:\n",
    "    W_init = np.random.rand(varables*varables).reshape(varables, varables)\n",
    "    np.fill_diagonal(W, 0)\n",
    "\n",
    "C_init = np.append(A_init, W_init.reshape(varables*varables), axis = 0)\n",
    "\n",
    "cons = {'type':'eq', 'fun': constr_DAGMA}\n",
    "\n",
    "#C = sc.optimize.minimize(f_DYNOTEARS(X,Y,.01,.1) , C_init, constraints=cons).x"
   ]
  },
  {
   "cell_type": "code",
   "execution_count": 20,
   "id": "59fbb9e9",
   "metadata": {},
   "outputs": [],
   "source": [
    "A = C[:varables*window*varables].reshape(varables, varables*window)\n",
    "W = C[varables*window*varables:].reshape(varables, varables)\n",
    "np.fill_diagonal(W, 0)"
   ]
  },
  {
   "cell_type": "code",
   "execution_count": 21,
   "id": "5bb074e9",
   "metadata": {},
   "outputs": [
    {
     "data": {
      "text/plain": [
       "array([[0., 0., 0., 0., 1., 0.],\n",
       "       [0., 0., 0., 0., 0., 0.],\n",
       "       [1., 0., 0., 0., 0., 1.]])"
      ]
     },
     "execution_count": 21,
     "metadata": {},
     "output_type": "execute_result"
    }
   ],
   "source": [
    "A[A<.3] = 0\n",
    "A.round()"
   ]
  },
  {
   "cell_type": "code",
   "execution_count": 22,
   "id": "763c8223",
   "metadata": {},
   "outputs": [
    {
     "data": {
      "text/plain": [
       "array([[0., 0., 0., 0., 1., 0.],\n",
       "       [0., 0., 0., 0., 0., 0.],\n",
       "       [1., 0., 0., 0., 0., 1.]])"
      ]
     },
     "execution_count": 22,
     "metadata": {},
     "output_type": "execute_result"
    }
   ],
   "source": [
    "dagY.round()"
   ]
  },
  {
   "cell_type": "code",
   "execution_count": 23,
   "id": "1e2c5f90",
   "metadata": {},
   "outputs": [
    {
     "data": {
      "text/plain": [
       "array([[0. , 0.3, 0. ],\n",
       "       [0. , 0. , 0. ],\n",
       "       [0.1, 0. , 0. ]])"
      ]
     },
     "execution_count": 23,
     "metadata": {},
     "output_type": "execute_result"
    }
   ],
   "source": [
    "W.round(1)"
   ]
  },
  {
   "cell_type": "code",
   "execution_count": 24,
   "id": "5d4c16a2",
   "metadata": {},
   "outputs": [
    {
     "data": {
      "text/plain": [
       "array([[0. , 0.8, 0.7],\n",
       "       [0. , 0. , 0. ],\n",
       "       [0. , 0. , 0. ]])"
      ]
     },
     "execution_count": 24,
     "metadata": {},
     "output_type": "execute_result"
    }
   ],
   "source": [
    "dagX.round(1)"
   ]
  },
  {
   "cell_type": "code",
   "execution_count": 25,
   "id": "dc442035",
   "metadata": {},
   "outputs": [
    {
     "data": {
      "text/plain": [
       "array([[0. , 0. , 0. ],\n",
       "       [0.8, 0. , 0. ],\n",
       "       [0.7, 0. , 0. ]])"
      ]
     },
     "execution_count": 25,
     "metadata": {},
     "output_type": "execute_result"
    }
   ],
   "source": [
    "dagX.T.round(1)"
   ]
  },
  {
   "cell_type": "code",
   "execution_count": 26,
   "id": "5cbb2eff",
   "metadata": {},
   "outputs": [
    {
     "name": "stdout",
     "output_type": "stream",
     "text": [
      "-6.717066883840092\n"
     ]
    },
    {
     "name": "stderr",
     "output_type": "stream",
     "text": [
      "/var/folders/z_/p0tz320d6j13q0rkv_f35brm0000gn/T/ipykernel_32912/3164180601.py:5: RuntimeWarning: invalid value encountered in log\n",
      "  return -np.log(det)\n"
     ]
    },
    {
     "data": {
      "text/plain": [
       "nan"
      ]
     },
     "execution_count": 26,
     "metadata": {},
     "output_type": "execute_result"
    }
   ],
   "source": [
    "C_init = np.random.rand(varables*varables*window + varables*varables)\n",
    "H1ldet(C_init.T)"
   ]
  },
  {
   "cell_type": "code",
   "execution_count": 27,
   "id": "6d8e5149",
   "metadata": {},
   "outputs": [],
   "source": [
    "def metrics(A,dagY, W, dagX):\n",
    "    A = np.absolute(A) > 0.3\n",
    "    dagY = np.absolute(dagY) > .5\n",
    "    W = np.absolute(W) > 0.3\n",
    "    dagX = np.absolute(dagX) > .5\n",
    "    \n",
    "    preWrong = A != dagY\n",
    "    wWrong = W != dagX\n",
    "    #assumes cant be both wrong and inv\n",
    "    wInverse = W.T & dagX\n",
    "    \n",
    "    if ((W + W.T)==2).any():\n",
    "        print(W)\n",
    "        print(W.T)\n",
    "        raise \"error\"\n",
    "    \n",
    "    #print(A)\n",
    "    #print(dagY)\n",
    "    #print(W)\n",
    "    #print(dagX)\n",
    "    #print()\n",
    "    #print(preWrong)\n",
    "    #print(wWrong)\n",
    "    #print(wInverse)\n",
    "    \n",
    "    return {\n",
    "        \"preWrong\": sum(sum(preWrong)),\n",
    "        \"wWrong\": sum(sum(wWrong)),\n",
    "        \"wInverse\": sum(sum(wInverse))\n",
    "    }\n",
    "    "
   ]
  },
  {
   "cell_type": "code",
   "execution_count": 28,
   "id": "411a7222",
   "metadata": {},
   "outputs": [
    {
     "data": {
      "text/plain": [
       "{'preWrong': 0, 'wWrong': 1, 'wInverse': 0}"
      ]
     },
     "execution_count": 28,
     "metadata": {},
     "output_type": "execute_result"
    }
   ],
   "source": [
    "metrics(A,dagY, W, dagX)"
   ]
  },
  {
   "cell_type": "code",
   "execution_count": 29,
   "id": "e5099541",
   "metadata": {},
   "outputs": [
    {
     "data": {
      "text/plain": [
       "array([[0., 0., 0., 0., 1., 0.],\n",
       "       [0., 0., 0., 0., 0., 0.],\n",
       "       [1., 0., 0., 0., 0., 1.]])"
      ]
     },
     "execution_count": 29,
     "metadata": {},
     "output_type": "execute_result"
    }
   ],
   "source": [
    "A.round()"
   ]
  },
  {
   "cell_type": "code",
   "execution_count": 30,
   "id": "6008d893",
   "metadata": {},
   "outputs": [
    {
     "data": {
      "text/plain": [
       "array([[0., 0., 0., 0., 1., 0.],\n",
       "       [0., 0., 0., 0., 0., 0.],\n",
       "       [1., 0., 0., 0., 0., 1.]])"
      ]
     },
     "execution_count": 30,
     "metadata": {},
     "output_type": "execute_result"
    }
   ],
   "source": [
    "dagY.round()"
   ]
  },
  {
   "cell_type": "code",
   "execution_count": 31,
   "id": "185576b4",
   "metadata": {},
   "outputs": [
    {
     "data": {
      "text/plain": [
       "array([[-1.5, -0.2, -0.6, ...,  0.3, -1.2,  0.3],\n",
       "       [ 0.1,  0. ,  0.5, ...,  0.5, -0.1,  0.8],\n",
       "       [ 0.5,  2.3,  1.6, ...,  2.3, -1.5,  1.2]])"
      ]
     },
     "execution_count": 31,
     "metadata": {},
     "output_type": "execute_result"
    }
   ],
   "source": [
    "np.matmul(np.eye(varables, varables) - W, X).round(1)"
   ]
  },
  {
   "cell_type": "code",
   "execution_count": 32,
   "id": "c5d24c56",
   "metadata": {},
   "outputs": [],
   "source": [
    "def transformTimeData(data, window, times):\n",
    "    variables = data.shape[0]//times\n",
    "    print(data.shape[0]/times)\n",
    "    \n",
    "    snapshots = times - window - 1\n",
    "    \n",
    "    ret = []\n",
    "    \n",
    "    for i in range(snapshots):\n",
    "        slic = data[i*variables:i*variables+(window+1)*variables]\n",
    "        ret.append( slic)\n",
    "    \n",
    "    return np.hstack(ret)\n",
    "    \n",
    "    "
   ]
  },
  {
   "cell_type": "code",
   "execution_count": 33,
   "id": "297592a9",
   "metadata": {},
   "outputs": [
    {
     "name": "stdout",
     "output_type": "stream",
     "text": [
      "3.0\n"
     ]
    }
   ],
   "source": [
    "XY_stack = transformTimeData(XY, window, times)"
   ]
  },
  {
   "cell_type": "code",
   "execution_count": 34,
   "id": "7aa8d3a0",
   "metadata": {},
   "outputs": [],
   "source": [
    "Y_stack=XY_stack[varables:window*varables+varables]\n",
    "X_stack=XY_stack[:varables]\n"
   ]
  },
  {
   "cell_type": "code",
   "execution_count": null,
   "id": "95f5c45a",
   "metadata": {},
   "outputs": [],
   "source": []
  },
  {
   "cell_type": "code",
   "execution_count": 35,
   "id": "4aba7a13",
   "metadata": {},
   "outputs": [
    {
     "name": "stdout",
     "output_type": "stream",
     "text": [
      "(15, 1400)\n",
      "(9, 2800)\n",
      "(6, 2800)\n",
      "(3, 2800)\n"
     ]
    }
   ],
   "source": [
    "print(XY.shape)\n",
    "print(XY_stack.shape)\n",
    "print(Y_stack.shape)\n",
    "print(X_stack.shape)"
   ]
  },
  {
   "cell_type": "code",
   "execution_count": 36,
   "id": "fe0b0acc",
   "metadata": {},
   "outputs": [
    {
     "data": {
      "text/plain": [
       "(15, 1400)"
      ]
     },
     "execution_count": 36,
     "metadata": {},
     "output_type": "execute_result"
    }
   ],
   "source": [
    "XY.shape"
   ]
  },
  {
   "cell_type": "code",
   "execution_count": 37,
   "id": "2409311d",
   "metadata": {},
   "outputs": [
    {
     "data": {
      "text/plain": [
       "array([[-1.46905689, -0.23326422, -0.42714062, ..., -0.4554368 ,\n",
       "        -1.74059085, -0.45611304],\n",
       "       [ 0.06666353,  0.01504767,  0.5146201 , ..., -0.17363273,\n",
       "         0.6041638 ,  0.00400992],\n",
       "       [ 0.42266355,  2.24891201,  1.58188714, ...,  3.60374725,\n",
       "        -0.65012046,  1.17709002],\n",
       "       ...,\n",
       "       [-0.08852105, -0.52721938,  0.55847251, ...,  2.11521433,\n",
       "         0.96789088,  0.37005571],\n",
       "       [-0.56495309, -0.72715954, -0.46436555, ..., -0.27017328,\n",
       "        -0.72825716, -0.89380375],\n",
       "       [ 0.847856  ,  2.10872291,  2.19837723, ...,  3.18275944,\n",
       "         1.70916549,  1.75910895]])"
      ]
     },
     "execution_count": 37,
     "metadata": {},
     "output_type": "execute_result"
    }
   ],
   "source": [
    "XY_stack"
   ]
  },
  {
   "cell_type": "code",
   "execution_count": 38,
   "id": "6ba5afc0",
   "metadata": {},
   "outputs": [
    {
     "data": {
      "text/plain": [
       "array([[-1.46905689, -0.23326422, -0.42714062, ..., -0.4554368 ,\n",
       "        -1.74059085, -0.45611304],\n",
       "       [ 0.06666353,  0.01504767,  0.5146201 , ..., -0.17363273,\n",
       "         0.6041638 ,  0.00400992],\n",
       "       [ 0.42266355,  2.24891201,  1.58188714, ...,  3.60374725,\n",
       "        -0.65012046,  1.17709002]])"
      ]
     },
     "execution_count": 38,
     "metadata": {},
     "output_type": "execute_result"
    }
   ],
   "source": [
    "X_stack"
   ]
  },
  {
   "cell_type": "code",
   "execution_count": 39,
   "id": "0f67e7ef",
   "metadata": {},
   "outputs": [
    {
     "data": {
      "text/plain": [
       "array([[-0.47407867,  0.14961213,  0.46389201, ...,  2.05333973,\n",
       "        -1.64873227, -1.14649429],\n",
       "       [ 0.10304418, -0.07680757, -0.75650586, ..., -0.232362  ,\n",
       "        -0.78115275, -0.62952893],\n",
       "       [ 0.14501786, -0.11849988,  2.40090616, ...,  3.5142154 ,\n",
       "         0.42476764,  1.20182644],\n",
       "       [-0.08852105, -0.52721938,  0.55847251, ...,  2.11521433,\n",
       "         0.96789088,  0.37005571],\n",
       "       [-0.56495309, -0.72715954, -0.46436555, ..., -0.27017328,\n",
       "        -0.72825716, -0.89380375],\n",
       "       [ 0.847856  ,  2.10872291,  2.19837723, ...,  3.18275944,\n",
       "         1.70916549,  1.75910895]])"
      ]
     },
     "execution_count": 39,
     "metadata": {},
     "output_type": "execute_result"
    }
   ],
   "source": [
    "Y_stack"
   ]
  },
  {
   "cell_type": "code",
   "execution_count": 40,
   "id": "d5ba5735",
   "metadata": {},
   "outputs": [],
   "source": [
    "cons = {'type':'eq', 'fun': constr_DYNOTEARS}\n",
    "C = sc.optimize.minimize(f_DYNOTEARS(X_stack,Y_stack,.01,.1) , C_init, constraints=cons).x"
   ]
  },
  {
   "cell_type": "code",
   "execution_count": 41,
   "id": "58d4114d",
   "metadata": {},
   "outputs": [],
   "source": [
    "A = C[:varables*window*varables].reshape(varables, varables*window)\n",
    "W = C[varables*window*varables:].reshape(varables, varables)\n",
    "np.fill_diagonal(W, 0)"
   ]
  },
  {
   "cell_type": "code",
   "execution_count": 42,
   "id": "d9a4d5e4",
   "metadata": {},
   "outputs": [
    {
     "data": {
      "text/plain": [
       "array([[0.1, 0. , 0. , 0. , 1.3, 0.1],\n",
       "       [0. , 0. , 0. , 0. , 0. , 0. ],\n",
       "       [0.6, 0. , 0. , 0. , 0. , 0.6]])"
      ]
     },
     "execution_count": 42,
     "metadata": {},
     "output_type": "execute_result"
    }
   ],
   "source": [
    "abs(A.round(1))"
   ]
  },
  {
   "cell_type": "code",
   "execution_count": 43,
   "id": "9f99eaa4",
   "metadata": {},
   "outputs": [
    {
     "data": {
      "text/plain": [
       "array([[0. , 0. , 0. , 0. , 1.4, 0. ],\n",
       "       [0. , 0. , 0. , 0. , 0. , 0. ],\n",
       "       [0.7, 0. , 0. , 0. , 0. , 0.6]])"
      ]
     },
     "execution_count": 43,
     "metadata": {},
     "output_type": "execute_result"
    }
   ],
   "source": [
    "dagY.round(1)"
   ]
  },
  {
   "cell_type": "code",
   "execution_count": 44,
   "id": "b885c5f9",
   "metadata": {},
   "outputs": [
    {
     "data": {
      "text/plain": [
       "array([[ 0.  ,  0.35,  0.2 ],\n",
       "       [ 0.  ,  0.  ,  0.  ],\n",
       "       [ 0.  , -0.  ,  0.  ]])"
      ]
     },
     "execution_count": 44,
     "metadata": {},
     "output_type": "execute_result"
    }
   ],
   "source": [
    "W.round(2)"
   ]
  },
  {
   "cell_type": "code",
   "execution_count": 45,
   "id": "8389668a",
   "metadata": {},
   "outputs": [
    {
     "data": {
      "text/plain": [
       "array([[0. , 0.8, 0.7],\n",
       "       [0. , 0. , 0. ],\n",
       "       [0. , 0. , 0. ]])"
      ]
     },
     "execution_count": 45,
     "metadata": {},
     "output_type": "execute_result"
    }
   ],
   "source": [
    "dagX.round(1)"
   ]
  },
  {
   "cell_type": "code",
   "execution_count": 46,
   "id": "a0fa2466",
   "metadata": {},
   "outputs": [
    {
     "data": {
      "text/plain": [
       "array([[0. , 0. , 0. ],\n",
       "       [0.8, 0. , 0. ],\n",
       "       [0.7, 0. , 0. ]])"
      ]
     },
     "execution_count": 46,
     "metadata": {},
     "output_type": "execute_result"
    }
   ],
   "source": [
    "dagX.T.round(1)"
   ]
  },
  {
   "cell_type": "code",
   "execution_count": 47,
   "id": "4beade06",
   "metadata": {},
   "outputs": [
    {
     "name": "stdout",
     "output_type": "stream",
     "text": [
      "(2, 3, 3)\n",
      "(5, 3, 1400)\n"
     ]
    }
   ],
   "source": [
    "#tensor representation for timeseries\n",
    "dagYtesnor = np.transpose(np.array([dagY[:,i*varables:(i+1)*varables] for i in range(window)]),(0,2,1))\n",
    "\n",
    "dagXtesnor = dagX\n",
    "print(dagYtesnor.round().shape)\n",
    "\n",
    "XYtesnor = XY.reshape(times, varables, observations)\n",
    "print(XYtesnor.shape)"
   ]
  },
  {
   "cell_type": "code",
   "execution_count": 48,
   "id": "b14b51d3",
   "metadata": {},
   "outputs": [
    {
     "data": {
      "text/plain": [
       "array([[[-1.46905689, -0.23326422, -0.42714062, ...,  0.43946092,\n",
       "         -1.20710198,  0.52168248],\n",
       "        [ 0.06666353,  0.01504767,  0.5146201 , ...,  0.51459303,\n",
       "         -0.08464904,  0.77914589],\n",
       "        [ 0.42266355,  2.24891201,  1.58188714, ...,  2.36977383,\n",
       "         -1.53556536,  1.20497474]],\n",
       "\n",
       "       [[-0.47407867,  0.14961213,  0.46389201, ..., -0.4554368 ,\n",
       "         -1.74059085, -0.45611304],\n",
       "        [ 0.10304418, -0.07680757, -0.75650586, ..., -0.17363273,\n",
       "          0.6041638 ,  0.00400992],\n",
       "        [ 0.14501786, -0.11849988,  2.40090616, ...,  3.60374725,\n",
       "         -0.65012046,  1.17709002]],\n",
       "\n",
       "       [[-0.08852105, -0.52721938,  0.55847251, ...,  2.05333973,\n",
       "         -1.64873227, -1.14649429],\n",
       "        [-0.56495309, -0.72715954, -0.46436555, ..., -0.232362  ,\n",
       "         -0.78115275, -0.62952893],\n",
       "        [ 0.847856  ,  2.10872291,  2.19837723, ...,  3.5142154 ,\n",
       "          0.42476764,  1.20182644]],\n",
       "\n",
       "       [[ 0.6933287 ,  0.68755409,  1.35519416, ...,  2.11521433,\n",
       "          0.96789088,  0.37005571],\n",
       "        [-0.11992414, -0.16249486,  0.07925016, ..., -0.27017328,\n",
       "         -0.72825716, -0.89380375],\n",
       "        [ 0.87068373,  1.25992798,  1.88595859, ...,  3.18275944,\n",
       "          1.70916549,  1.75910895]],\n",
       "\n",
       "       [[ 1.48536423,  1.30949363,  1.85830257, ...,  3.01998084,\n",
       "          2.12062303,  2.64484354],\n",
       "        [ 0.75312325, -0.99685789, -0.10862971, ...,  0.56686016,\n",
       "          0.21782882,  0.38265453],\n",
       "        [ 1.94580828,  1.14664359,  1.74432331, ...,  2.12668207,\n",
       "          1.23591904,  2.06676015]]])"
      ]
     },
     "execution_count": 48,
     "metadata": {},
     "output_type": "execute_result"
    }
   ],
   "source": [
    "XYtesnor"
   ]
  },
  {
   "cell_type": "code",
   "execution_count": 49,
   "id": "22bbbd0b",
   "metadata": {},
   "outputs": [
    {
     "data": {
      "text/plain": [
       "array([[-1.46905689, -0.23326422, -0.42714062, ...,  0.43946092,\n",
       "        -1.20710198,  0.52168248],\n",
       "       [ 0.06666353,  0.01504767,  0.5146201 , ...,  0.51459303,\n",
       "        -0.08464904,  0.77914589],\n",
       "       [ 0.42266355,  2.24891201,  1.58188714, ...,  2.36977383,\n",
       "        -1.53556536,  1.20497474],\n",
       "       ...,\n",
       "       [ 1.48536423,  1.30949363,  1.85830257, ...,  3.01998084,\n",
       "         2.12062303,  2.64484354],\n",
       "       [ 0.75312325, -0.99685789, -0.10862971, ...,  0.56686016,\n",
       "         0.21782882,  0.38265453],\n",
       "       [ 1.94580828,  1.14664359,  1.74432331, ...,  2.12668207,\n",
       "         1.23591904,  2.06676015]])"
      ]
     },
     "execution_count": 49,
     "metadata": {},
     "output_type": "execute_result"
    }
   ],
   "source": [
    "XY.reshape(times*varables, observations)"
   ]
  },
  {
   "cell_type": "code",
   "execution_count": 50,
   "id": "0ed62afe",
   "metadata": {},
   "outputs": [],
   "source": [
    "Y_stack=XY_stack[varables:window*varables+varables]\n",
    "X_stack=XY_stack[:varables]"
   ]
  },
  {
   "cell_type": "code",
   "execution_count": 51,
   "id": "f283eb5a",
   "metadata": {},
   "outputs": [
    {
     "data": {
      "text/plain": [
       "array([[-0.47407867,  0.14961213,  0.46389201, ...,  2.05333973,\n",
       "        -1.64873227, -1.14649429],\n",
       "       [ 0.10304418, -0.07680757, -0.75650586, ..., -0.232362  ,\n",
       "        -0.78115275, -0.62952893],\n",
       "       [ 0.14501786, -0.11849988,  2.40090616, ...,  3.5142154 ,\n",
       "         0.42476764,  1.20182644],\n",
       "       [-0.08852105, -0.52721938,  0.55847251, ...,  2.11521433,\n",
       "         0.96789088,  0.37005571],\n",
       "       [-0.56495309, -0.72715954, -0.46436555, ..., -0.27017328,\n",
       "        -0.72825716, -0.89380375],\n",
       "       [ 0.847856  ,  2.10872291,  2.19837723, ...,  3.18275944,\n",
       "         1.70916549,  1.75910895]])"
      ]
     },
     "execution_count": 51,
     "metadata": {},
     "output_type": "execute_result"
    }
   ],
   "source": [
    "Y_stack"
   ]
  },
  {
   "cell_type": "code",
   "execution_count": 52,
   "id": "ee37580d",
   "metadata": {},
   "outputs": [
    {
     "data": {
      "text/plain": [
       "array([[-1.46905689, -0.23326422, -0.42714062, ..., -0.4554368 ,\n",
       "        -1.74059085, -0.45611304],\n",
       "       [ 0.06666353,  0.01504767,  0.5146201 , ..., -0.17363273,\n",
       "         0.6041638 ,  0.00400992],\n",
       "       [ 0.42266355,  2.24891201,  1.58188714, ...,  3.60374725,\n",
       "        -0.65012046,  1.17709002]])"
      ]
     },
     "execution_count": 52,
     "metadata": {},
     "output_type": "execute_result"
    }
   ],
   "source": [
    "X_stack"
   ]
  },
  {
   "cell_type": "code",
   "execution_count": null,
   "id": "6f9e2970",
   "metadata": {},
   "outputs": [],
   "source": []
  },
  {
   "cell_type": "code",
   "execution_count": null,
   "id": "5e66c75a",
   "metadata": {},
   "outputs": [],
   "source": []
  },
  {
   "cell_type": "code",
   "execution_count": 53,
   "id": "be8d9d2e",
   "metadata": {},
   "outputs": [],
   "source": [
    "def diff(X, w, a):\n",
    "    X_check = X[:X.shape[0]-a.shape[0]]\n",
    "    \n",
    "    Xw = np.matmul(w, X_check)\n",
    "    #print(a.shape)\n",
    "    #print(X.shape[0]-window+1)\n",
    "    Xa = np.array([np.tensordot(a, X[i:i+window], axes=((0,1),(0,1)))\n",
    "                    for i in range(1, X.shape[0]-window+1)])\n",
    "    #print(X_check.shape)\n",
    "    #print(Xw.shape)\n",
    "    #print(Xa.shape)\n",
    "    \n",
    "    return X_check - Xw - Xa\n",
    "\n",
    "def f_DYNOTEARS_TENSOR(X, lA, lB):\n",
    "    def aux(C):\n",
    "        a = C[:varables*window*varables].reshape(window, varables, varables)\n",
    "        w = C[varables*window*varables:].reshape(varables, varables)\n",
    "    \n",
    "        loss = np.square(diff(X, w, a)).sum().sum().sum()/np.prod(X.shape)\n",
    "        #print(loss)\n",
    "        return loss + lB*np.linalg.norm(w.flatten(), 1) + lA*np.linalg.norm(a.flatten(), 1) \n",
    "    return aux\n",
    "\n",
    "def ll(X, Y, w, a):\n",
    "    return np.square(\n",
    "                np.linalg.norm(\n",
    "                    np.matmul(np.eye(varables, varables) - w, X)\n",
    "                    - np.matmul(a, Y)\n",
    "                    , \"fro\"\n",
    "                )\n",
    "            )/np.prod(X.shape)"
   ]
  },
  {
   "cell_type": "code",
   "execution_count": 54,
   "id": "7ff2c93d",
   "metadata": {},
   "outputs": [],
   "source": [
    "Y_stack=XY_stack[varables:window*varables+varables]\n",
    "X_stack=XY_stack[:varables]"
   ]
  },
  {
   "cell_type": "code",
   "execution_count": 55,
   "id": "cc69092a",
   "metadata": {},
   "outputs": [],
   "source": [
    "def constr_DYNOTEARS(C):\n",
    "    w = C[varables*window*varables:].reshape(varables, varables)\n",
    "    return qDag(w)\n",
    "\n",
    "cons = {'type':'eq', 'fun': constr_DYNOTEARS}\n",
    "\n",
    "C = sc.optimize.minimize(f_DYNOTEARS_TENSOR(XYtesnor,.05,.05) , C_init, constraints=cons).x"
   ]
  },
  {
   "cell_type": "code",
   "execution_count": 56,
   "id": "46a152f9",
   "metadata": {},
   "outputs": [
    {
     "name": "stdout",
     "output_type": "stream",
     "text": [
      "0.7148535086622156\n",
      "0.479309614204831\n",
      "0.25197513628493445\n"
     ]
    }
   ],
   "source": [
    "A = C[:varables*window*varables].reshape(window, varables, varables)\n",
    "W = C[varables*window*varables:].reshape(varables, varables)\n",
    "print(ll(X_stack, Y_stack, dagX, dagY))\n",
    "\n",
    "#print(ll(XYtesnor, W, A))\n",
    "\n",
    "print(np.square(diff(XYtesnor, dagX, dagYtesnor)).sum().sum().sum()/np.prod(XYtesnor.shape))\n",
    "\n",
    "print(np.square(diff(XYtesnor, W, A)).sum().sum().sum()/np.prod(XYtesnor.shape))"
   ]
  },
  {
   "cell_type": "code",
   "execution_count": 64,
   "id": "266945a6",
   "metadata": {},
   "outputs": [
    {
     "data": {
      "text/plain": [
       "array([[ 0. ,  0.4,  0. ],\n",
       "       [ 0. ,  0. , -0. ],\n",
       "       [ 0.1,  0. ,  0. ]])"
      ]
     },
     "execution_count": 64,
     "metadata": {},
     "output_type": "execute_result"
    }
   ],
   "source": [
    "W.round(1)"
   ]
  },
  {
   "cell_type": "code",
   "execution_count": 66,
   "id": "03d972ae",
   "metadata": {},
   "outputs": [
    {
     "data": {
      "text/plain": [
       "array([[0. , 0.8, 0.7],\n",
       "       [0. , 0. , 0. ],\n",
       "       [0. , 0. , 0. ]])"
      ]
     },
     "execution_count": 66,
     "metadata": {},
     "output_type": "execute_result"
    }
   ],
   "source": [
    "dagXtesnor.round(1)"
   ]
  },
  {
   "cell_type": "code",
   "execution_count": 58,
   "id": "2c9857be",
   "metadata": {},
   "outputs": [
    {
     "data": {
      "text/plain": [
       "(3, 3)"
      ]
     },
     "execution_count": 58,
     "metadata": {},
     "output_type": "execute_result"
    }
   ],
   "source": []
  },
  {
   "cell_type": "code",
   "execution_count": 59,
   "id": "6d5af3fe",
   "metadata": {},
   "outputs": [
    {
     "data": {
      "text/plain": [
       "array([[[-0. , -0. ,  0.6],\n",
       "        [-0. , -0. ,  0. ],\n",
       "        [ 0. ,  0. ,  0. ]],\n",
       "\n",
       "       [[ 0. ,  0. , -0. ],\n",
       "        [ 1. , -0. ,  0. ],\n",
       "        [-0. , -0. ,  0.6]]])"
      ]
     },
     "execution_count": 59,
     "metadata": {},
     "output_type": "execute_result"
    }
   ],
   "source": [
    "A.round(1)"
   ]
  },
  {
   "cell_type": "code",
   "execution_count": 60,
   "id": "5d7de013",
   "metadata": {},
   "outputs": [
    {
     "data": {
      "text/plain": [
       "array([[[0. , 0. , 0.7],\n",
       "        [0. , 0. , 0. ],\n",
       "        [0. , 0. , 0. ]],\n",
       "\n",
       "       [[0. , 0. , 0. ],\n",
       "        [1.4, 0. , 0. ],\n",
       "        [0. , 0. , 0.6]]])"
      ]
     },
     "execution_count": 60,
     "metadata": {},
     "output_type": "execute_result"
    }
   ],
   "source": [
    "dagYtesnor.round(1)"
   ]
  },
  {
   "cell_type": "code",
   "execution_count": 61,
   "id": "6240b0ca",
   "metadata": {},
   "outputs": [
    {
     "data": {
      "text/plain": [
       "array([[[-0.,  0.,  0., ..., -0., -2., -0.],\n",
       "        [ 0., -0., -1., ..., -0.,  1.,  0.],\n",
       "        [ 0., -0.,  2., ...,  4., -1.,  1.]],\n",
       "\n",
       "       [[-0., -1.,  1., ...,  2., -2., -1.],\n",
       "        [-1., -1., -0., ..., -0., -1., -1.],\n",
       "        [ 1.,  2.,  2., ...,  4.,  0.,  1.]]])"
      ]
     },
     "execution_count": 61,
     "metadata": {},
     "output_type": "execute_result"
    }
   ],
   "source": [
    "XYtesnor[1:1+window].round()"
   ]
  },
  {
   "cell_type": "code",
   "execution_count": 62,
   "id": "f201a659",
   "metadata": {},
   "outputs": [
    {
     "data": {
      "text/plain": [
       "array([[[0. , 0. , 0.7],\n",
       "        [0. , 0. , 0. ],\n",
       "        [0. , 0. , 0. ]],\n",
       "\n",
       "       [[0. , 0. , 0. ],\n",
       "        [1.4, 0. , 0. ],\n",
       "        [0. , 0. , 0.6]]])"
      ]
     },
     "execution_count": 62,
     "metadata": {},
     "output_type": "execute_result"
    }
   ],
   "source": [
    "dagYtesnor.round(1)"
   ]
  },
  {
   "cell_type": "code",
   "execution_count": 63,
   "id": "63b73a94",
   "metadata": {},
   "outputs": [
    {
     "data": {
      "text/plain": [
       "array([[-0.6, -0.7, -0.5, ..., -0.2, -0.8, -0.6],\n",
       "       [ 0. , -0. ,  0. , ...,  0. , -0. , -0. ],\n",
       "       [ 0.2,  1.3,  1.5, ...,  1.7, -0.8,  0.4]])"
      ]
     },
     "execution_count": 63,
     "metadata": {},
     "output_type": "execute_result"
    }
   ],
   "source": [
    "np.tensordot(A, XYtesnor[1:1+window], axes=((0,1),(0,1))).round(1)"
   ]
  },
  {
   "cell_type": "code",
   "execution_count": 63,
   "id": "db3e9586",
   "metadata": {},
   "outputs": [
    {
     "data": {
      "text/plain": [
       "array([[[ 2.,  2.,  1., ...,  2.,  1.,  2.],\n",
       "        [ 2.,  3.,  0., ...,  1.,  2.,  1.],\n",
       "        [ 3.,  0.,  0., ...,  2.,  2.,  2.]],\n",
       "\n",
       "       [[ 1.,  2.,  0., ...,  2.,  1., -0.],\n",
       "        [ 1.,  3.,  0., ...,  1.,  0.,  1.],\n",
       "        [ 0.,  1.,  2., ...,  3.,  1.,  2.]]])"
      ]
     },
     "execution_count": 63,
     "metadata": {},
     "output_type": "execute_result"
    }
   ],
   "source": [
    "XYtesnor[0].round()\n",
    "XYtesnor[1:1+window].round()"
   ]
  },
  {
   "cell_type": "code",
   "execution_count": 64,
   "id": "1e334673",
   "metadata": {},
   "outputs": [],
   "source": [
    "#np.array([dagY[:,i*varables:(i+1)*varables] for i in range(window)]).round(1)"
   ]
  },
  {
   "cell_type": "code",
   "execution_count": 65,
   "id": "8efbe467",
   "metadata": {},
   "outputs": [
    {
     "data": {
      "text/plain": [
       "array([[0. , 0. , 0. , 0. , 1.3, 0. ],\n",
       "       [0. , 0. , 0. , 0. , 1.2, 0. ],\n",
       "       [0. , 0. , 0. , 0. , 0. , 1.3]])"
      ]
     },
     "execution_count": 65,
     "metadata": {},
     "output_type": "execute_result"
    }
   ],
   "source": [
    "dagY.round(1)"
   ]
  },
  {
   "cell_type": "code",
   "execution_count": 66,
   "id": "f149fb86",
   "metadata": {},
   "outputs": [
    {
     "data": {
      "text/plain": [
       "array([[ 2.,  2.,  1., ...,  2.,  1., -0.],\n",
       "       [ 2.,  3.,  0., ...,  1.,  0.,  1.],\n",
       "       [ 3.,  0.,  0., ...,  3.,  1.,  2.],\n",
       "       [ 1.,  2.,  0., ...,  0.,  2.,  2.],\n",
       "       [ 1.,  3.,  0., ...,  2.,  2.,  1.],\n",
       "       [ 0.,  1.,  2., ...,  1.,  2.,  2.]])"
      ]
     },
     "execution_count": 66,
     "metadata": {},
     "output_type": "execute_result"
    }
   ],
   "source": [
    "Y_stack.round()"
   ]
  },
  {
   "cell_type": "code",
   "execution_count": 67,
   "id": "b57c348a",
   "metadata": {},
   "outputs": [
    {
     "data": {
      "text/plain": [
       "array([[1., 3., 0., ..., 2., 2., 2.],\n",
       "       [1., 3., 0., ..., 2., 2., 1.],\n",
       "       [1., 1., 2., ..., 2., 2., 3.]])"
      ]
     },
     "execution_count": 67,
     "metadata": {},
     "output_type": "execute_result"
    }
   ],
   "source": [
    "np.matmul(dagY, Y_stack).round()"
   ]
  },
  {
   "cell_type": "code",
   "execution_count": 68,
   "id": "f0709f7e",
   "metadata": {},
   "outputs": [
    {
     "data": {
      "text/plain": [
       "array([[ 1.,  3.,  1., ...,  2.,  1.,  2.],\n",
       "       [ 1.,  3., -0., ...,  1.,  2.,  1.],\n",
       "       [ 2.,  1.,  3., ...,  2.,  2.,  2.]])"
      ]
     },
     "execution_count": 68,
     "metadata": {},
     "output_type": "execute_result"
    }
   ],
   "source": [
    "X_stack.round()"
   ]
  },
  {
   "cell_type": "code",
   "execution_count": 69,
   "id": "b067c578",
   "metadata": {},
   "outputs": [
    {
     "data": {
      "text/plain": [
       "array([[0., 0., 0.],\n",
       "       [0., 0., 0.],\n",
       "       [0., 0., 0.]])"
      ]
     },
     "execution_count": 69,
     "metadata": {},
     "output_type": "execute_result"
    }
   ],
   "source": [
    "dagX.round(1)"
   ]
  },
  {
   "cell_type": "code",
   "execution_count": 70,
   "id": "64e35a30",
   "metadata": {},
   "outputs": [
    {
     "data": {
      "text/plain": [
       "array([[0. , 0. , 0. ],\n",
       "       [0.1, 0. , 0. ],\n",
       "       [0. , 0. , 0. ]])"
      ]
     },
     "execution_count": 70,
     "metadata": {},
     "output_type": "execute_result"
    }
   ],
   "source": [
    "W.round(1)"
   ]
  },
  {
   "cell_type": "code",
   "execution_count": null,
   "id": "0615ea9e",
   "metadata": {},
   "outputs": [],
   "source": []
  },
  {
   "cell_type": "code",
   "execution_count": 71,
   "id": "c338405e",
   "metadata": {},
   "outputs": [
    {
     "name": "stdout",
     "output_type": "stream",
     "text": [
      "2\n",
      "0.0\n",
      "1.1\n",
      "1\n",
      "6.0\n"
     ]
    }
   ],
   "source": [
    "def get_sparse(X):\n",
    "    ret = []\n",
    "    for i in range(len(X)):\n",
    "        for j in range(len(X[i])):\n",
    "            val = X[i,j]\n",
    "            if not np.isnan(val):\n",
    "                print(val)\n",
    "                ret.append((i, j, val))\n",
    "    return ret\n",
    "\n",
    "constraint_matrix_X = np.array(\n",
    "[\n",
    "    [np.nan, np.nan, np.nan],\n",
    "    [np.nan, np.nan, np.nan],\n",
    "    [0, 1.1, np.nan],\n",
    "])\n",
    "X_set = np.logical_not(np.isnan(constraint_matrix_X)).sum().sum()\n",
    "print(X_set)\n",
    "X_sparce = get_sparse(constraint_matrix_X)\n",
    "\n",
    "            \n",
    "constraint_matrix_Y = np.array(\n",
    "[\n",
    "    [np.nan, np.nan, np.nan, np.nan, np.nan, np.nan],\n",
    "    [np.nan, np.nan, np.nan, 6, np.nan, np.nan],\n",
    "    [np.nan, np.nan, np.nan, np.nan, np.nan, np.nan]\n",
    "])\n",
    "Y_set = np.logical_not(np.isnan(constraint_matrix_Y)).sum().sum()\n",
    "print(Y_set)\n",
    "Y_sparce = get_sparse(constraint_matrix_Y)\n",
    "\n",
    "\n",
    "#C_init = np.random.rand(varables*varables*window + varables*varables)\n",
    "#not create no C_init with XYset less variables and instread enforce in loss func\n",
    "#to avoid unnessasary copying"
   ]
  },
  {
   "cell_type": "code",
   "execution_count": 72,
   "id": "8777d2ec",
   "metadata": {},
   "outputs": [],
   "source": [
    "def enforce_cons(X, cons):\n",
    "    for (i, j, val) in cons:\n",
    "        X[i][j] = val\n",
    "\n",
    "def f_DYNOTEARS_CONSTRAINT(X, Y, lA, lB, X_cons, Y_cons):\n",
    "    def aux(C):\n",
    "        w = C[varables*window*varables:].reshape(varables, varables)\n",
    "        enforce_cons(w, X_cons)\n",
    "        a = C[:varables*window*varables].reshape(varables, varables*window)\n",
    "        enforce_cons(a, Y_cons)\n",
    "    \n",
    "        loss = np.square(\n",
    "                np.linalg.norm(\n",
    "                    np.matmul(np.eye(varables, varables) - w, X)\n",
    "                    - np.matmul(a, Y)\n",
    "                    , \"fro\"\n",
    "                )\n",
    "            )/np.prod(X.shape)\n",
    "        #print(loss)\n",
    "        return loss + lB*np.linalg.norm(w.flatten(), 1) + lA*np.linalg.norm(a.flatten(), 1) \n",
    "    return aux"
   ]
  },
  {
   "cell_type": "code",
   "execution_count": 73,
   "id": "800bb1bf",
   "metadata": {},
   "outputs": [],
   "source": [
    "def constr_DYNOTEARS(C):\n",
    "    w = C[varables*window*varables:].reshape(varables, varables)\n",
    "    return qDag(w)\n",
    "\n",
    "cons = {'type':'eq', 'fun': constr_DYNOTEARS}\n",
    "\n",
    "C = sc.optimize.minimize(f_DYNOTEARS_CONSTRAINT(X,Y,.1,.1,X_sparce, Y_sparce) , C_init, constraints=cons).x"
   ]
  },
  {
   "cell_type": "code",
   "execution_count": 74,
   "id": "ec7c2627",
   "metadata": {},
   "outputs": [],
   "source": [
    "\n",
    "W = C[varables*window*varables:].reshape(varables, varables)\n",
    "enforce_cons(W, X_sparce)\n",
    "A = C[:varables*window*varables].reshape(varables, varables*window)\n",
    "enforce_cons(A, Y_sparce)\n",
    "np.fill_diagonal(W, 0)"
   ]
  },
  {
   "cell_type": "code",
   "execution_count": 75,
   "id": "8857c237",
   "metadata": {},
   "outputs": [
    {
     "data": {
      "text/plain": [
       "array([[ 0. ,  0. ,  0. ,  0. ,  1.2,  0. ],\n",
       "       [-0.4, -0.3, -0.4,  6. , -3.3, -0.4],\n",
       "       [ 0. ,  0. ,  0. , -0. , -1.1,  1.1]])"
      ]
     },
     "execution_count": 75,
     "metadata": {},
     "output_type": "execute_result"
    }
   ],
   "source": [
    "enforce_cons(A, Y_sparce)\n",
    "A.round(1)"
   ]
  },
  {
   "cell_type": "code",
   "execution_count": 76,
   "id": "0ac77615",
   "metadata": {},
   "outputs": [
    {
     "data": {
      "text/plain": [
       "array([[0. , 0. , 0. , 0. , 1.3, 0. ],\n",
       "       [0. , 0. , 0. , 0. , 1.2, 0. ],\n",
       "       [0. , 0. , 0. , 0. , 0. , 1.3]])"
      ]
     },
     "execution_count": 76,
     "metadata": {},
     "output_type": "execute_result"
    }
   ],
   "source": [
    "dagY.round(1)"
   ]
  },
  {
   "cell_type": "code",
   "execution_count": 77,
   "id": "bb763f04",
   "metadata": {},
   "outputs": [
    {
     "data": {
      "text/plain": [
       "array([[ 0. ,  0.1,  0. ],\n",
       "       [-0. ,  0. ,  0. ],\n",
       "       [ 0. ,  1.1,  0. ]])"
      ]
     },
     "execution_count": 77,
     "metadata": {},
     "output_type": "execute_result"
    }
   ],
   "source": [
    "W.round(1)"
   ]
  },
  {
   "cell_type": "code",
   "execution_count": 78,
   "id": "3791be97",
   "metadata": {},
   "outputs": [
    {
     "data": {
      "text/plain": [
       "array([[0., 0., 0.],\n",
       "       [0., 0., 0.],\n",
       "       [0., 0., 0.]])"
      ]
     },
     "execution_count": 78,
     "metadata": {},
     "output_type": "execute_result"
    }
   ],
   "source": [
    "dagX.round(1)"
   ]
  },
  {
   "cell_type": "code",
   "execution_count": 79,
   "id": "c154d75e",
   "metadata": {},
   "outputs": [],
   "source": [
    "#testing confounded in Y\n",
    "\n",
    "varables = 3\n",
    "observations = 1000\n",
    "window = 3\n",
    "#to use later \n",
    "times = 5\n",
    "C_init = np.random.rand(varables*varables*window + varables*varables)"
   ]
  },
  {
   "cell_type": "code",
   "execution_count": 80,
   "id": "b61c6aa6",
   "metadata": {},
   "outputs": [],
   "source": [
    "dagY = sc.sparse.random(varables, varables*window, density=0.15, data_rvs=get_r(.5)).A\n",
    "\n",
    "dagX = np.eye(varables, varables)\n",
    "    while qDag(dagX) != 0:\n",
    "    dagX = sc.sparse.random(varables, varables, density=0.25, data_rvs=get_r(.5)).A\n",
    "    np.fill_diagonal(dagX, 0)"
   ]
  },
  {
   "cell_type": "code",
   "execution_count": 81,
   "id": "03b196ad",
   "metadata": {},
   "outputs": [],
   "source": [
    "for i in range(len(dagY)):\n",
    "    dagY[i][i] = .2"
   ]
  },
  {
   "cell_type": "code",
   "execution_count": 82,
   "id": "cc31f3ca",
   "metadata": {},
   "outputs": [],
   "source": [
    "Y_pre = np.ones(observations*varables*window).reshape(varables*window, observations)\n",
    "XY = makeSynthData(Y_pre, times, observations, varables, 0, randFlat)\n",
    "Y=XY[varables:window*varables+varables]\n",
    "X=XY[:varables]"
   ]
  },
  {
   "cell_type": "code",
   "execution_count": 83,
   "id": "ff7df05e",
   "metadata": {},
   "outputs": [],
   "source": [
    "def f_DYNOTEARS(X, Y, lA, lB):\n",
    "    def aux(C):\n",
    "        a = C[:varables*window*varables].reshape(varables, varables*window)\n",
    "        w = C[varables*window*varables:].reshape(varables, varables)\n",
    "    \n",
    "        loss = np.square(\n",
    "                np.linalg.norm(\n",
    "                    np.matmul(np.eye(varables, varables) - w, X)\n",
    "                    - np.matmul(a, Y)\n",
    "                    , \"fro\"\n",
    "                )\n",
    "            )/np.prod(X.shape)\n",
    "        #print(loss)\n",
    "        return loss + lB*np.linalg.norm(w.flatten(), 1) + lA*np.linalg.norm(a.flatten(), 1) \n",
    "    return aux"
   ]
  },
  {
   "cell_type": "code",
   "execution_count": 84,
   "id": "dc46980d",
   "metadata": {},
   "outputs": [
    {
     "name": "stderr",
     "output_type": "stream",
     "text": [
      "/Library/Frameworks/Python.framework/Versions/3.11/lib/python3.11/site-packages/scipy/linalg/_matfuncs.py:378: RuntimeWarning: overflow encountered in matmul\n",
      "  eAw = eAw @ eAw\n"
     ]
    }
   ],
   "source": [
    "cons = {'type':'eq', 'fun': constr_DYNOTEARS}\n",
    "\n",
    "C = sc.optimize.minimize(f_DYNOTEARS(X,Y,.1,.1) , C_init, constraints=cons).x\n",
    "A = C[:varables*window*varables].reshape(varables, varables*window)\n",
    "W = C[varables*window*varables:].reshape(varables, varables)\n"
   ]
  },
  {
   "cell_type": "code",
   "execution_count": 85,
   "id": "ac749e8e",
   "metadata": {},
   "outputs": [
    {
     "data": {
      "text/plain": [
       "array([[ 0. , -0. ,  0.6],\n",
       "       [ 0. ,  0. ,  0. ],\n",
       "       [ 0. ,  0.3,  0. ]])"
      ]
     },
     "execution_count": 85,
     "metadata": {},
     "output_type": "execute_result"
    }
   ],
   "source": [
    "W.round(1)"
   ]
  },
  {
   "cell_type": "code",
   "execution_count": 86,
   "id": "b3b7c6f5",
   "metadata": {},
   "outputs": [
    {
     "data": {
      "text/plain": [
       "array([[0. , 0. , 1.4],\n",
       "       [0. , 0. , 1.4],\n",
       "       [0. , 0. , 0. ]])"
      ]
     },
     "execution_count": 86,
     "metadata": {},
     "output_type": "execute_result"
    }
   ],
   "source": [
    "dagX.round(1)"
   ]
  },
  {
   "cell_type": "code",
   "execution_count": 87,
   "id": "2eba4a30",
   "metadata": {},
   "outputs": [
    {
     "data": {
      "text/plain": [
       "array([[-0. , -0. , -0. , -0. ,  0.5,  0. , -0. ,  0. ,  0. ],\n",
       "       [ 1.4,  0.2,  0. ,  0. ,  0. , -0. ,  0. ,  0.2,  0.3],\n",
       "       [ 0. , -0. ,  0. ,  0. , -0. ,  0. , -0. , -0. , -0. ]])"
      ]
     },
     "execution_count": 87,
     "metadata": {},
     "output_type": "execute_result"
    }
   ],
   "source": [
    "A.round(1)"
   ]
  },
  {
   "cell_type": "code",
   "execution_count": 88,
   "id": "c525d635",
   "metadata": {},
   "outputs": [
    {
     "data": {
      "text/plain": [
       "array([[0.2, 0. , 0. , 0. , 0.6, 0. , 0. , 0. , 0. ],\n",
       "       [1.4, 0.2, 0. , 0. , 0. , 0. , 0. , 0. , 0.9],\n",
       "       [0.5, 0. , 0.2, 0. , 0. , 0. , 0. , 0. , 0. ]])"
      ]
     },
     "execution_count": 88,
     "metadata": {},
     "output_type": "execute_result"
    }
   ],
   "source": [
    "dagY.round(1)"
   ]
  },
  {
   "cell_type": "code",
   "execution_count": null,
   "id": "8fcf3a9b",
   "metadata": {},
   "outputs": [],
   "source": []
  },
  {
   "cell_type": "code",
   "execution_count": null,
   "id": "3604bfa8",
   "metadata": {},
   "outputs": [],
   "source": []
  }
 ],
 "metadata": {
  "kernelspec": {
   "display_name": "Python 3 (ipykernel)",
   "language": "python",
   "name": "python3"
  },
  "language_info": {
   "codemirror_mode": {
    "name": "ipython",
    "version": 3
   },
   "file_extension": ".py",
   "mimetype": "text/x-python",
   "name": "python",
   "nbconvert_exporter": "python",
   "pygments_lexer": "ipython3",
   "version": "3.11.1"
  }
 },
 "nbformat": 4,
 "nbformat_minor": 5
}
