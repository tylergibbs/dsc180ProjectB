{
 "cells": [
  {
   "cell_type": "code",
   "execution_count": 1,
   "id": "774bdbc9",
   "metadata": {},
   "outputs": [],
   "source": [
    "import numpy as np\n",
    "import scipy.linalg as sla\n",
    "import numpy.linalg as la\n",
    "from scipy.special import expit as sigmoid\n",
    "import scipy as sc\n",
    "from statsmodels.tsa.api import VAR"
   ]
  },
  {
   "cell_type": "code",
   "execution_count": 2,
   "id": "feb9671c",
   "metadata": {},
   "outputs": [],
   "source": [
    "varables = 4\n",
    "observations = 1000\n",
    "window = 5\n",
    "varTime = varables*window\n",
    "#to use later \n",
    "times = 10"
   ]
  },
  {
   "cell_type": "code",
   "execution_count": 3,
   "id": "1d98003b",
   "metadata": {},
   "outputs": [],
   "source": [
    "def qDag(w):\n",
    "    return np.trace(sc.linalg.expm(np.multiply(w,w))) - w.shape[0]\n",
    "def get_r(off):\n",
    "    return lambda n: np.random.rand(n)+off"
   ]
  },
  {
   "cell_type": "code",
   "execution_count": 4,
   "id": "68046d53",
   "metadata": {},
   "outputs": [],
   "source": [
    "dagY = sc.sparse.random(varables, varables*window, density=0.15, data_rvs=get_r(2)).A\n",
    "\n",
    "dagX = np.eye(varables, varables)\n",
    "while qDag(dagX) != 0:\n",
    "    dagX = sc.sparse.random(varables, varables, density=0.45, data_rvs=get_r(2)).A\n",
    "    np.fill_diagonal(dagX, 0)"
   ]
  },
  {
   "cell_type": "code",
   "execution_count": 5,
   "id": "fa2e46b7",
   "metadata": {},
   "outputs": [
    {
     "name": "stdout",
     "output_type": "stream",
     "text": [
      "0.0\n"
     ]
    },
    {
     "data": {
      "text/plain": [
       "array([[0.        , 0.        , 0.        , 0.        ],\n",
       "       [0.        , 0.        , 2.26162701, 2.38027911],\n",
       "       [0.        , 0.        , 0.        , 0.        ],\n",
       "       [0.        , 0.        , 2.35197219, 0.        ]])"
      ]
     },
     "execution_count": 5,
     "metadata": {},
     "output_type": "execute_result"
    }
   ],
   "source": [
    "print(qDag(dagX))\n",
    "dagX"
   ]
  },
  {
   "cell_type": "code",
   "execution_count": 6,
   "id": "5b49c5ca",
   "metadata": {},
   "outputs": [
    {
     "name": "stdout",
     "output_type": "stream",
     "text": [
      "(4, 20)\n",
      "(20, 1000)\n"
     ]
    }
   ],
   "source": [
    "def rand(n):\n",
    "    return 2*(np.random.rand(n)-.5)\n",
    "\n",
    "Y_pre = rand(observations*varables*window).reshape(varables*window, observations)\n",
    "print(dagY.shape)\n",
    "print(Y_pre.shape)"
   ]
  },
  {
   "cell_type": "code",
   "execution_count": 7,
   "id": "96a8769f",
   "metadata": {},
   "outputs": [],
   "source": [
    "#X = XW + YA + Z\n",
    "\n",
    "def randFlat(X):\n",
    "    return rand(X.shape[0]*X.shape[1]).reshape(*X.shape)\n",
    "\n",
    "def update(preY, preX, dagY, dagX, rand):\n",
    "    Xy = np.matmul(dagY, preY)\n",
    "    Xr = rand(preX)\n",
    "    Xx = np.matmul(dagX, Xr)\n",
    "    X = Xr + Xx + Xy\n",
    "    \n",
    "    return X\n",
    "\n",
    "def step(preY, dagY, dagX, window, var, rand):\n",
    "    preX = preY[:var]\n",
    "    preY = preY[:window*var]\n",
    "    return update(preY, preX, dagY, dagX, rand)\n",
    "\n",
    "def makeSynthData(preY, times, obs, var, pad, rand=rand):\n",
    "    window = preY.shape[0]//var\n",
    "    \n",
    "    #for i in range(pad+window):\n",
    "     #   newX = step(preY, dagY, dagX, window, var, rand)\n",
    "      #  preY = np.append(newX, preY, axis=0)\n",
    "        \n",
    "    Y = Y_pre[:window*var]\n",
    "\n",
    "    for i in range(times - window):\n",
    "        newX = step(Y, dagY, dagX, window, var, rand)\n",
    "        Y = np.append(newX, Y, axis=0)\n",
    "        \n",
    "    return Y\n",
    "    \n",
    "\n",
    "\n",
    "\n",
    "#later\n",
    "#W = np.random.rand(varables*observations).reshape(varables,observations)"
   ]
  },
  {
   "cell_type": "code",
   "execution_count": 8,
   "id": "c37c00ea",
   "metadata": {},
   "outputs": [],
   "source": [
    "XY = makeSynthData(Y_pre, 6, observations, varables, 0, randFlat)\n"
   ]
  },
  {
   "cell_type": "code",
   "execution_count": 9,
   "id": "6e3d3fd0",
   "metadata": {},
   "outputs": [],
   "source": [
    "Y=XY[varables:window*varables+varables]\n",
    "X=XY[:varables]"
   ]
  },
  {
   "cell_type": "code",
   "execution_count": 10,
   "id": "cf5792cc",
   "metadata": {},
   "outputs": [
    {
     "data": {
      "text/plain": [
       "(4, 1000)"
      ]
     },
     "execution_count": 10,
     "metadata": {},
     "output_type": "execute_result"
    }
   ],
   "source": [
    "X.shape"
   ]
  },
  {
   "cell_type": "code",
   "execution_count": 11,
   "id": "d7ce8010",
   "metadata": {},
   "outputs": [],
   "source": [
    "C_init = np.random.rand(varables*varables*window + varables*varables)"
   ]
  },
  {
   "cell_type": "code",
   "execution_count": 12,
   "id": "44781fe1",
   "metadata": {},
   "outputs": [],
   "source": [
    "def f_DYNOTEARS(X, Y, lA, lB):\n",
    "    def aux(C):\n",
    "        a = C[:varables*window*varables].reshape(varables, varables*window)\n",
    "        w = C[varables*window*varables:].reshape(varables, varables)\n",
    "    \n",
    "        loss = np.square(\n",
    "                np.linalg.norm(\n",
    "                    np.matmul(np.eye(varables, varables) - w, X)\n",
    "                    - np.matmul(a, Y)\n",
    "                    , \"fro\"\n",
    "                )\n",
    "            )/X.shape[1]\n",
    "        #print()\n",
    "        #print(loss)\n",
    "        #print(np.square(np.linalg.norm(X)))\n",
    "        #print(np.square(np.linalg.norm(X - np.matmul(w, X))))\n",
    "        #print(np.square(np.linalg.norm(X - np.matmul(a, Y))))\n",
    "        #print(np.linalg.norm(w.flatten(), 1))\n",
    "        #print(np.linalg.norm(a.flatten(), 1))\n",
    "    \n",
    "        return loss + lB*np.linalg.norm(w.flatten(), 1) + lA*np.linalg.norm(a.flatten(), 1) \n",
    "    return aux"
   ]
  },
  {
   "cell_type": "code",
   "execution_count": null,
   "id": "734e71a0",
   "metadata": {},
   "outputs": [],
   "source": []
  },
  {
   "cell_type": "code",
   "execution_count": 13,
   "id": "d51e60d7",
   "metadata": {},
   "outputs": [],
   "source": [
    "def constr_DYNOTEARS(C):\n",
    "    w = C[varables*window*varables:].reshape(varables, varables)\n",
    "    return qDag(w)\n",
    "\n",
    "cons = {'type':'eq', 'fun': constr_DYNOTEARS}\n",
    "\n",
    "C = sc.optimize.minimize(f_DYNOTEARS(X,Y,.01,.1) , C_init, constraints=cons).x"
   ]
  },
  {
   "cell_type": "code",
   "execution_count": 14,
   "id": "cdc2a7dc",
   "metadata": {},
   "outputs": [],
   "source": [
    "A = C[:varables*window*varables].reshape(varables, varables*window)\n",
    "W = C[varables*window*varables:].reshape(varables, varables)\n",
    "np.fill_diagonal(W, 0)"
   ]
  },
  {
   "cell_type": "code",
   "execution_count": 15,
   "id": "d2b3c3dd",
   "metadata": {},
   "outputs": [
    {
     "data": {
      "text/plain": [
       "array([[0., 2., 0., 0., 0., 0., 0., 3., 0., 0., 0., 0., 0., 0., 0., 0.,\n",
       "        0., 0., 0., 2.],\n",
       "       [0., 1., 1., 0., 0., 0., 0., 2., 1., 0., 0., 1., 0., 0., 0., 0.,\n",
       "        0., 0., 0., 1.],\n",
       "       [0., 3., 3., 0., 0., 0., 0., 0., 2., 2., 0., 2., 0., 0., 0., 0.,\n",
       "        0., 0., 0., 3.],\n",
       "       [0., 0., 0., 0., 0., 0., 0., 0., 0., 0., 0., 0., 3., 0., 0., 0.,\n",
       "        3., 0., 0., 0.]])"
      ]
     },
     "execution_count": 15,
     "metadata": {},
     "output_type": "execute_result"
    }
   ],
   "source": [
    "A[A<.3] = 0\n",
    "A.round()"
   ]
  },
  {
   "cell_type": "code",
   "execution_count": 16,
   "id": "ea57f251",
   "metadata": {},
   "outputs": [
    {
     "data": {
      "text/plain": [
       "array([[0., 2., 0., 0., 0., 0., 0., 3., 0., 0., 0., 0., 0., 0., 0., 0.,\n",
       "        0., 0., 0., 2.],\n",
       "       [0., 0., 0., 0., 0., 0., 0., 2., 0., 0., 0., 0., 0., 0., 0., 0.,\n",
       "        0., 0., 0., 0.],\n",
       "       [0., 3., 3., 0., 0., 0., 0., 0., 2., 2., 0., 2., 0., 0., 0., 0.,\n",
       "        0., 0., 0., 3.],\n",
       "       [0., 0., 0., 0., 0., 0., 0., 0., 0., 0., 0., 0., 3., 0., 0., 0.,\n",
       "        3., 0., 0., 0.]])"
      ]
     },
     "execution_count": 16,
     "metadata": {},
     "output_type": "execute_result"
    }
   ],
   "source": [
    "dagY.round()"
   ]
  },
  {
   "cell_type": "code",
   "execution_count": null,
   "id": "bdc0bf71",
   "metadata": {},
   "outputs": [],
   "source": []
  },
  {
   "cell_type": "code",
   "execution_count": 17,
   "id": "8a6ac974",
   "metadata": {},
   "outputs": [
    {
     "data": {
      "text/plain": [
       "array([[ 0. ,  0. ,  0. , -0. ],\n",
       "       [ 0. ,  0. , -0.2,  1.2],\n",
       "       [-0. ,  0. ,  0. ,  0. ],\n",
       "       [ 0. ,  0. ,  2. ,  0. ]])"
      ]
     },
     "execution_count": 17,
     "metadata": {},
     "output_type": "execute_result"
    }
   ],
   "source": [
    "W.round(1)"
   ]
  },
  {
   "cell_type": "code",
   "execution_count": 18,
   "id": "88a056d8",
   "metadata": {},
   "outputs": [
    {
     "data": {
      "text/plain": [
       "array([[0. , 0. , 0. , 0. ],\n",
       "       [0. , 0. , 2.3, 2.4],\n",
       "       [0. , 0. , 0. , 0. ],\n",
       "       [0. , 0. , 2.4, 0. ]])"
      ]
     },
     "execution_count": 18,
     "metadata": {},
     "output_type": "execute_result"
    }
   ],
   "source": [
    "dagX.round(1)"
   ]
  },
  {
   "cell_type": "code",
   "execution_count": 19,
   "id": "6c0464d8",
   "metadata": {},
   "outputs": [
    {
     "data": {
      "text/plain": [
       "array([[0. , 0. , 0. , 0. ],\n",
       "       [0. , 0. , 0. , 0. ],\n",
       "       [0. , 2.3, 0. , 2.4],\n",
       "       [0. , 2.4, 0. , 0. ]])"
      ]
     },
     "execution_count": 19,
     "metadata": {},
     "output_type": "execute_result"
    }
   ],
   "source": [
    "dagX.T.round(1)"
   ]
  },
  {
   "cell_type": "code",
   "execution_count": null,
   "id": "8205f840",
   "metadata": {},
   "outputs": [],
   "source": []
  },
  {
   "cell_type": "code",
   "execution_count": null,
   "id": "32ce59c2",
   "metadata": {},
   "outputs": [],
   "source": []
  },
  {
   "cell_type": "code",
   "execution_count": 40,
   "id": "47066c65",
   "metadata": {},
   "outputs": [
    {
     "name": "stdout",
     "output_type": "stream",
     "text": [
      "-52262324.70803839\n",
      "-1.1517328713312862\n",
      "-5505127.120653363\n",
      "-0.0027023861038550706\n",
      "-5.835858683559525e+17\n",
      "-5982204785.973656\n",
      "-35.73119606058\n",
      "-527.540113059798\n",
      "-52630818.82163241\n",
      "-0.032226508306203945\n",
      "-18.461243780152547\n",
      "-76.9355377099625\n",
      "-4.03146807149412\n",
      "-1.434695478566765\n",
      "-0.5369413652753453\n",
      "-1.9364993831293325\n"
     ]
    },
    {
     "name": "stderr",
     "output_type": "stream",
     "text": [
      "/var/folders/z_/p0tz320d6j13q0rkv_f35brm0000gn/T/ipykernel_5806/3174799670.py:5: RuntimeWarning: invalid value encountered in log\n",
      "  return -np.log(det)\n"
     ]
    }
   ],
   "source": [
    "def H1ldet(W):\n",
    "    det = np.linalg.det(np.eye(W.shape[0]) - np.multiply(W,W))\n",
    "    if (det <= 0):\n",
    "        print(det)\n",
    "    return -np.log(det)\n",
    "\n",
    "def constr_DAGMA(C):\n",
    "    w = C[varables*window*varables:].reshape(varables, varables)\n",
    "    return H1ldet(w)\n",
    "\n",
    "A_init = np.random.rand(varables*varables*window)\n",
    "\n",
    "W_init = np.random.rand(varables*varables).reshape(varables, varables)\n",
    "np.fill_diagonal(W_init, 0)\n",
    "while H1ldet(W_init) is np.nan:\n",
    "    W_init = np.random.rand(varables*varables).reshape(varables, varables)\n",
    "    np.fill_diagonal(W, 0)\n",
    "\n",
    "C_init = np.append(A_init, W_init.reshape(varables*varables), axis = 0)\n",
    "\n",
    "cons = {'type':'eq', 'fun': constr_DAGMA}\n",
    "\n",
    "C = sc.optimize.minimize(f_DYNOTEARS(X,Y,.01,.1) , C_init, constraints=cons).x"
   ]
  },
  {
   "cell_type": "code",
   "execution_count": 41,
   "id": "e6fb0bc7",
   "metadata": {},
   "outputs": [],
   "source": [
    "A = C[:varables*window*varables].reshape(varables, varables*window)\n",
    "W = C[varables*window*varables:].reshape(varables, varables)\n",
    "np.fill_diagonal(W, 0)"
   ]
  },
  {
   "cell_type": "code",
   "execution_count": 42,
   "id": "d663c72c",
   "metadata": {},
   "outputs": [
    {
     "data": {
      "text/plain": [
       "array([[0., 2., 0., 0., 0., 0., 0., 3., 0., 0., 0., 0., 0., 0., 0., 0.,\n",
       "        0., 0., 0., 2.],\n",
       "       [0., 1., 1., 0., 0., 0., 0., 2., 1., 0., 0., 1., 0., 0., 0., 0.,\n",
       "        0., 0., 0., 1.],\n",
       "       [0., 3., 3., 0., 0., 0., 0., 0., 2., 2., 0., 2., 0., 0., 0., 0.,\n",
       "        0., 0., 0., 3.],\n",
       "       [0., 0., 0., 0., 0., 0., 0., 0., 0., 0., 0., 0., 3., 0., 0., 0.,\n",
       "        3., 0., 0., 0.]])"
      ]
     },
     "execution_count": 42,
     "metadata": {},
     "output_type": "execute_result"
    }
   ],
   "source": [
    "A[A<.3] = 0\n",
    "A.round()"
   ]
  },
  {
   "cell_type": "code",
   "execution_count": 43,
   "id": "2fb32784",
   "metadata": {},
   "outputs": [
    {
     "data": {
      "text/plain": [
       "array([[[3., 0., 0., 0., 0.],\n",
       "        [0., 0., 0., 0., 0.],\n",
       "        [0., 0., 0., 0., 0.],\n",
       "        [0., 0., 0., 0., 3.]],\n",
       "\n",
       "       [[3., 3., 2., 0., 0.],\n",
       "        [0., 0., 0., 0., 0.],\n",
       "        [0., 2., 0., 0., 0.],\n",
       "        [2., 0., 0., 3., 0.]],\n",
       "\n",
       "       [[0., 0., 0., 0., 0.],\n",
       "        [2., 2., 0., 0., 0.],\n",
       "        [0., 2., 0., 2., 0.],\n",
       "        [0., 3., 0., 2., 3.]],\n",
       "\n",
       "       [[0., 2., 0., 0., 3.],\n",
       "        [0., 0., 0., 2., 0.],\n",
       "        [3., 0., 0., 0., 0.],\n",
       "        [0., 0., 0., 3., 0.]]])"
      ]
     },
     "execution_count": 43,
     "metadata": {},
     "output_type": "execute_result"
    }
   ],
   "source": [
    "dagY.round()"
   ]
  },
  {
   "cell_type": "code",
   "execution_count": 44,
   "id": "238c0e70",
   "metadata": {},
   "outputs": [
    {
     "data": {
      "text/plain": [
       "array([[ 0. ,  0. ,  0. , -0. ],\n",
       "       [ 0. ,  0. , -0.2,  1.2],\n",
       "       [ 0. ,  0. ,  0. ,  0. ],\n",
       "       [-0. ,  0. ,  2. ,  0. ]])"
      ]
     },
     "execution_count": 44,
     "metadata": {},
     "output_type": "execute_result"
    }
   ],
   "source": [
    "W.round(1)"
   ]
  },
  {
   "cell_type": "code",
   "execution_count": 25,
   "id": "1ffcf071",
   "metadata": {},
   "outputs": [
    {
     "data": {
      "text/plain": [
       "array([[0. , 0. , 0. , 0. ],\n",
       "       [0. , 0. , 2.3, 2.4],\n",
       "       [0. , 0. , 0. , 0. ],\n",
       "       [0. , 0. , 2.4, 0. ]])"
      ]
     },
     "execution_count": 25,
     "metadata": {},
     "output_type": "execute_result"
    }
   ],
   "source": [
    "dagX.round(1)"
   ]
  },
  {
   "cell_type": "code",
   "execution_count": 26,
   "id": "beff712f",
   "metadata": {},
   "outputs": [
    {
     "data": {
      "text/plain": [
       "array([[0. , 0. , 0. , 0. ],\n",
       "       [0. , 0. , 0. , 0. ],\n",
       "       [0. , 2.3, 0. , 2.4],\n",
       "       [0. , 2.4, 0. , 0. ]])"
      ]
     },
     "execution_count": 26,
     "metadata": {},
     "output_type": "execute_result"
    }
   ],
   "source": [
    "dagX.T.round(1)"
   ]
  },
  {
   "cell_type": "code",
   "execution_count": 27,
   "id": "9d65c305",
   "metadata": {},
   "outputs": [
    {
     "name": "stdout",
     "output_type": "stream",
     "text": [
      "-34.420498789207095\n"
     ]
    },
    {
     "name": "stderr",
     "output_type": "stream",
     "text": [
      "/var/folders/z_/p0tz320d6j13q0rkv_f35brm0000gn/T/ipykernel_5806/726157458.py:5: RuntimeWarning: invalid value encountered in log\n",
      "  return -np.log(det)\n"
     ]
    },
    {
     "data": {
      "text/plain": [
       "nan"
      ]
     },
     "execution_count": 27,
     "metadata": {},
     "output_type": "execute_result"
    }
   ],
   "source": [
    "C_init = np.random.rand(varables*varables*window + varables*varables)\n",
    "H1ldet(C_init.T)"
   ]
  },
  {
   "cell_type": "code",
   "execution_count": 28,
   "id": "6d8e5149",
   "metadata": {},
   "outputs": [],
   "source": [
    "def metrics(A,dagY, W, dagX):\n",
    "    A = np.absolute(A) > 0.3\n",
    "    dagY = np.absolute(dagY) > .5\n",
    "    W = np.absolute(W) > 0.3\n",
    "    dagX = np.absolute(dagX) > .5\n",
    "    \n",
    "    preWrong = A != dagY\n",
    "    wWrong = W != dagX\n",
    "    #assumes cant be both wrong and inv\n",
    "    wInverse = W.T & dagX\n",
    "    \n",
    "    if ((W + W.T)==2).any():\n",
    "        print(W)\n",
    "        print(W.T)\n",
    "        raise \"error\"\n",
    "    \n",
    "    #print(A)\n",
    "    #print(dagY)\n",
    "    #print(W)\n",
    "    #print(dagX)\n",
    "    #print()\n",
    "    #print(preWrong)\n",
    "    #print(wWrong)\n",
    "    #print(wInverse)\n",
    "    \n",
    "    return {\n",
    "        \"preWrong\": sum(sum(preWrong)),\n",
    "        \"wWrong\": sum(sum(wWrong)),\n",
    "        \"wInverse\": sum(sum(wInverse))\n",
    "    }\n",
    "    "
   ]
  },
  {
   "cell_type": "code",
   "execution_count": 29,
   "id": "411a7222",
   "metadata": {},
   "outputs": [
    {
     "data": {
      "text/plain": [
       "{'preWrong': 10, 'wWrong': 2, 'wInverse': 0}"
      ]
     },
     "execution_count": 29,
     "metadata": {},
     "output_type": "execute_result"
    }
   ],
   "source": [
    "metrics(A,dagY, W, dagX)"
   ]
  },
  {
   "cell_type": "code",
   "execution_count": 30,
   "id": "e5099541",
   "metadata": {},
   "outputs": [
    {
     "data": {
      "text/plain": [
       "array([[0., 1., 0., 0., 0., 0., 0., 1., 0., 0., 0., 0., 0., 0., 0., 0.,\n",
       "        0., 0., 0., 1.],\n",
       "       [0., 0., 0., 0., 0., 0., 0., 0., 0., 0., 0., 0., 1., 0., 0., 0.,\n",
       "        1., 0., 0., 0.],\n",
       "       [0., 0., 0., 0., 0., 0., 0., 1., 0., 0., 0., 0., 0., 0., 0., 0.,\n",
       "        0., 0., 0., 0.],\n",
       "       [0., 0., 0., 0., 0., 0., 0., 0., 0., 0., 0., 0., 1., 0., 0., 0.,\n",
       "        1., 0., 0., 0.]])"
      ]
     },
     "execution_count": 30,
     "metadata": {},
     "output_type": "execute_result"
    }
   ],
   "source": [
    "A.round()"
   ]
  },
  {
   "cell_type": "code",
   "execution_count": 31,
   "id": "6008d893",
   "metadata": {},
   "outputs": [
    {
     "data": {
      "text/plain": [
       "array([[0., 2., 0., 0., 0., 0., 0., 3., 0., 0., 0., 0., 0., 0., 0., 0.,\n",
       "        0., 0., 0., 2.],\n",
       "       [0., 0., 0., 0., 0., 0., 0., 2., 0., 0., 0., 0., 0., 0., 0., 0.,\n",
       "        0., 0., 0., 0.],\n",
       "       [0., 3., 3., 0., 0., 0., 0., 0., 2., 2., 0., 2., 0., 0., 0., 0.,\n",
       "        0., 0., 0., 3.],\n",
       "       [0., 0., 0., 0., 0., 0., 0., 0., 0., 0., 0., 0., 3., 0., 0., 0.,\n",
       "        3., 0., 0., 0.]])"
      ]
     },
     "execution_count": 31,
     "metadata": {},
     "output_type": "execute_result"
    }
   ],
   "source": [
    "dagY.round()"
   ]
  },
  {
   "cell_type": "code",
   "execution_count": 32,
   "id": "185576b4",
   "metadata": {},
   "outputs": [
    {
     "data": {
      "text/plain": [
       "array([[ 2.4, -3.1, -2.6, ...,  0.8,  1.8, -0.2],\n",
       "       [ 3.4, -1.6, -0.8, ...,  2.8, -2.2, -1.1],\n",
       "       [ 2.7,  2.9, -2.4, ...,  4. ,  0.4,  0.8],\n",
       "       [ 2.7,  1.1, -0.5, ...,  3.5,  0. , -2.2]])"
      ]
     },
     "execution_count": 32,
     "metadata": {},
     "output_type": "execute_result"
    }
   ],
   "source": [
    "np.matmul(np.eye(varables, varables) - W, X).round(1)"
   ]
  },
  {
   "cell_type": "code",
   "execution_count": 33,
   "id": "c5d24c56",
   "metadata": {},
   "outputs": [],
   "source": [
    "#tensor representation for timeseries"
   ]
  },
  {
   "cell_type": "code",
   "execution_count": 34,
   "id": "297592a9",
   "metadata": {},
   "outputs": [],
   "source": [
    "dagY = sc.sparse.random(varables, varables*window, density=0.25, data_rvs=get_r(2)).A.reshape(varables, varables, window)\n",
    "\n",
    "dagX = np.eye(varables, varables)\n",
    "while qDag(dagX) != 0:\n",
    "    dagX = sc.sparse.random(varables, varables, density=0.25, data_rvs=get_r(2)).A\n",
    "    np.fill_diagonal(dagX, 0)"
   ]
  },
  {
   "cell_type": "code",
   "execution_count": 35,
   "id": "7aa8d3a0",
   "metadata": {},
   "outputs": [
    {
     "data": {
      "text/plain": [
       "(4, 4, 5)"
      ]
     },
     "execution_count": 35,
     "metadata": {},
     "output_type": "execute_result"
    }
   ],
   "source": [
    "dagY.round().shape"
   ]
  },
  {
   "cell_type": "code",
   "execution_count": 36,
   "id": "d5ba5735",
   "metadata": {},
   "outputs": [],
   "source": [
    "#tensor representation "
   ]
  },
  {
   "cell_type": "code",
   "execution_count": null,
   "id": "53e5357f",
   "metadata": {},
   "outputs": [],
   "source": []
  },
  {
   "cell_type": "code",
   "execution_count": null,
   "id": "e3ab30f4",
   "metadata": {},
   "outputs": [],
   "source": []
  },
  {
   "cell_type": "code",
   "execution_count": null,
   "id": "b698a91c",
   "metadata": {},
   "outputs": [],
   "source": []
  },
  {
   "cell_type": "code",
   "execution_count": null,
   "id": "f3df585a",
   "metadata": {},
   "outputs": [],
   "source": []
  }
 ],
 "metadata": {
  "kernelspec": {
   "display_name": "Python 3 (ipykernel)",
   "language": "python",
   "name": "python3"
  },
  "language_info": {
   "codemirror_mode": {
    "name": "ipython",
    "version": 3
   },
   "file_extension": ".py",
   "mimetype": "text/x-python",
   "name": "python",
   "nbconvert_exporter": "python",
   "pygments_lexer": "ipython3",
   "version": "3.11.1"
  }
 },
 "nbformat": 4,
 "nbformat_minor": 5
}
