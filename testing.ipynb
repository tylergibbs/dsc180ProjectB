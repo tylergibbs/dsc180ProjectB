{
 "cells": [
  {
   "cell_type": "code",
   "execution_count": 1,
   "id": "774bdbc9",
   "metadata": {},
   "outputs": [],
   "source": [
    "import numpy as np\n",
    "import scipy.linalg as sla\n",
    "import numpy.linalg as la\n",
    "from scipy.special import expit as sigmoid\n",
    "import scipy as sc\n",
    "from statsmodels.tsa.api import VAR"
   ]
  },
  {
   "cell_type": "code",
   "execution_count": 2,
   "id": "feb9671c",
   "metadata": {},
   "outputs": [],
   "source": [
    "varables = 3\n",
    "observations = 1400\n",
    "window = 2\n",
    "#to use later \n",
    "times = 5"
   ]
  },
  {
   "cell_type": "code",
   "execution_count": 3,
   "id": "c8098bdc",
   "metadata": {},
   "outputs": [],
   "source": [
    "def qDag(w):\n",
    "    return np.trace(sc.linalg.expm(np.multiply(w,w))) - w.shape[0]\n",
    "def get_r(off):\n",
    "    return lambda n: np.random.rand(n)+off"
   ]
  },
  {
   "cell_type": "code",
   "execution_count": 4,
   "id": "68046d53",
   "metadata": {},
   "outputs": [],
   "source": [
    "dagY = sc.sparse.random(varables, varables*window, density=0.15, data_rvs=get_r(.5)).A\n",
    "\n",
    "dagX = np.eye(varables, varables)\n",
    "while qDag(dagX) != 0:\n",
    "    dagX = sc.sparse.random(varables, varables, density=0.25, data_rvs=get_r(.5)).A\n",
    "    np.fill_diagonal(dagX, 0)"
   ]
  },
  {
   "cell_type": "code",
   "execution_count": 5,
   "id": "8936b0b3",
   "metadata": {},
   "outputs": [
    {
     "name": "stdout",
     "output_type": "stream",
     "text": [
      "0.0\n",
      "[[0.         0.         0.60279788]\n",
      " [0.         0.         0.        ]\n",
      " [0.         1.09403295 0.        ]]\n",
      "[[0.         0.         0.         0.         0.         0.        ]\n",
      " [0.         0.         0.         0.63979639 0.         1.07154646]\n",
      " [0.         0.         0.         0.         1.48169739 0.        ]]\n"
     ]
    }
   ],
   "source": [
    "print(qDag(dagX))\n",
    "print(dagX)\n",
    "print(dagY)"
   ]
  },
  {
   "cell_type": "code",
   "execution_count": 6,
   "id": "5b49c5ca",
   "metadata": {},
   "outputs": [
    {
     "name": "stdout",
     "output_type": "stream",
     "text": [
      "(3, 6)\n",
      "(6, 1400)\n"
     ]
    }
   ],
   "source": [
    "def rand(n):\n",
    "    return 2*(np.random.rand(n)-.5)\n",
    "\n",
    "Y_pre = rand(observations*varables*window).reshape(varables*window, observations)\n",
    "print(dagY.shape)\n",
    "print(Y_pre.shape)"
   ]
  },
  {
   "cell_type": "code",
   "execution_count": 7,
   "id": "96a8769f",
   "metadata": {},
   "outputs": [],
   "source": [
    "#X = XW + YA + Z\n",
    "\n",
    "def randFlat(X):\n",
    "    return rand(X.shape[0]*X.shape[1]).reshape(*X.shape)\n",
    "\n",
    "def onesFlat(X):\n",
    "    return np.ones(X.shape[0]*X.shape[1]).reshape(*X.shape)\n",
    "\n",
    "def update(preY, preX, dagY, dagX, rand):\n",
    "    Xy = np.matmul(dagY, preY)\n",
    "    Xr = rand(preX)\n",
    "    Xx = np.matmul(dagX, Xr)\n",
    "    X = Xr + Xx + Xy\n",
    "    \n",
    "    return X\n",
    "\n",
    "def step(preY, dagY, dagX, window, var, rand):\n",
    "    preX = preY[:var]\n",
    "    preY = preY[:window*var]\n",
    "    return update(preY, preX, dagY, dagX, rand)\n",
    "\n",
    "def makeSynthData(preY, times, obs, var, pad, rand=rand):\n",
    "    window = preY.shape[0]//var\n",
    "    \n",
    "    for i in range(pad+window):\n",
    "        newX = step(preY, dagY, dagX, window, var, rand)\n",
    "        preY = np.append(newX, preY, axis=0)\n",
    "\n",
    "    Y = preY[:window*var]\n",
    "\n",
    "    for i in range(times - window):\n",
    "        newX = step(Y, dagY, dagX, window, var, rand)\n",
    "        Y = np.append(newX, Y, axis=0)\n",
    "        \n",
    "    return Y\n",
    "    \n",
    "\n",
    "\n",
    "\n",
    "#later\n",
    "#W = np.random.rand(varables*observations).reshape(varables,observations)"
   ]
  },
  {
   "cell_type": "code",
   "execution_count": 8,
   "id": "c37c00ea",
   "metadata": {},
   "outputs": [],
   "source": [
    "Y_pre = np.ones(observations*varables*window).reshape(varables*window, observations)\n",
    "XY = makeSynthData(Y_pre, times, observations, varables, 0, randFlat)\n"
   ]
  },
  {
   "cell_type": "code",
   "execution_count": 9,
   "id": "6e3d3fd0",
   "metadata": {},
   "outputs": [],
   "source": [
    "Y=XY[varables:window*varables+varables]\n",
    "X=XY[:varables]"
   ]
  },
  {
   "cell_type": "code",
   "execution_count": 10,
   "id": "15e7d0ba",
   "metadata": {},
   "outputs": [
    {
     "data": {
      "text/plain": [
       "array([[ 0.84451187, -1.07956641, -0.59938871, ..., -0.03042771,\n",
       "        -0.11486132, -0.55207551],\n",
       "       [ 3.10682466,  2.4738767 ,  5.84112258, ...,  5.92889012,\n",
       "         2.89329739,  4.82253118],\n",
       "       [ 3.90240578,  0.96240296,  1.57326366, ...,  4.45089193,\n",
       "         3.87003019,  2.19973137],\n",
       "       ...,\n",
       "       [ 0.19557798,  0.52662838,  0.00739046, ...,  0.92649488,\n",
       "         0.55386699,  0.38903255],\n",
       "       [ 2.34018761,  1.70668865,  2.52804347, ...,  2.25652068,\n",
       "         2.71011964,  1.79740467],\n",
       "       [ 2.0146649 ,  0.81424269,  1.44679534, ...,  2.50126002,\n",
       "         3.18556485,  1.32630718]])"
      ]
     },
     "execution_count": 10,
     "metadata": {},
     "output_type": "execute_result"
    }
   ],
   "source": [
    "XY"
   ]
  },
  {
   "cell_type": "code",
   "execution_count": null,
   "id": "cf5792cc",
   "metadata": {},
   "outputs": [],
   "source": []
  },
  {
   "cell_type": "code",
   "execution_count": 11,
   "id": "d7ce8010",
   "metadata": {},
   "outputs": [],
   "source": [
    "C_init = np.random.rand(varables*varables*window + varables*varables)"
   ]
  },
  {
   "cell_type": "code",
   "execution_count": 12,
   "id": "44781fe1",
   "metadata": {},
   "outputs": [],
   "source": [
    "def f_DYNOTEARS(X, Y, lA, lB):\n",
    "    def aux(C):\n",
    "        a = C[:varables*window*varables].reshape(varables, varables*window)\n",
    "        w = C[varables*window*varables:].reshape(varables, varables)\n",
    "    \n",
    "        loss = np.square(\n",
    "                np.linalg.norm(\n",
    "                    np.matmul(np.eye(varables, varables) - w, X)\n",
    "                    - np.matmul(a, Y)\n",
    "                    , \"fro\"\n",
    "                )\n",
    "            )/np.prod(X.shape)\n",
    "        #print(loss)\n",
    "        return loss + lB*np.linalg.norm(w.flatten(), 1) + lA*np.linalg.norm(a.flatten(), 1) \n",
    "    return aux"
   ]
  },
  {
   "cell_type": "code",
   "execution_count": null,
   "id": "d43788c0",
   "metadata": {},
   "outputs": [],
   "source": []
  },
  {
   "cell_type": "code",
   "execution_count": 13,
   "id": "d51e60d7",
   "metadata": {},
   "outputs": [],
   "source": [
    "def constr_DYNOTEARS(C):\n",
    "    w = C[varables*window*varables:].reshape(varables, varables)\n",
    "    return qDag(w)\n",
    "\n",
    "cons = {'type':'eq', 'fun': constr_DYNOTEARS}\n",
    "\n",
    "C = sc.optimize.minimize(f_DYNOTEARS(X,Y,.001,.1) , C_init, constraints=cons).x"
   ]
  },
  {
   "cell_type": "code",
   "execution_count": 14,
   "id": "cdc2a7dc",
   "metadata": {},
   "outputs": [],
   "source": [
    "A = C[:varables*window*varables].reshape(varables, varables*window)\n",
    "W = C[varables*window*varables:].reshape(varables, varables)\n",
    "np.fill_diagonal(W, 0)"
   ]
  },
  {
   "cell_type": "code",
   "execution_count": 15,
   "id": "d2b3c3dd",
   "metadata": {},
   "outputs": [
    {
     "data": {
      "text/plain": [
       "array([[-0. ,  0. , -0. ,  0. , -0. , -0. ],\n",
       "       [ 0. ,  0. , -0. ,  0.6, -0. ,  1.1],\n",
       "       [ 0. ,  0. , -0. , -0.5,  1.4, -0.7]])"
      ]
     },
     "execution_count": 15,
     "metadata": {},
     "output_type": "execute_result"
    }
   ],
   "source": [
    "A.round(1)"
   ]
  },
  {
   "cell_type": "code",
   "execution_count": 16,
   "id": "ea57f251",
   "metadata": {},
   "outputs": [
    {
     "data": {
      "text/plain": [
       "array([[0. , 0. , 0. , 0. , 0. , 0. ],\n",
       "       [0. , 0. , 0. , 0.6, 0. , 1.1],\n",
       "       [0. , 0. , 0. , 0. , 1.5, 0. ]])"
      ]
     },
     "execution_count": 16,
     "metadata": {},
     "output_type": "execute_result"
    }
   ],
   "source": [
    "dagY.round(1)"
   ]
  },
  {
   "cell_type": "code",
   "execution_count": null,
   "id": "594ad8b1",
   "metadata": {},
   "outputs": [],
   "source": []
  },
  {
   "cell_type": "code",
   "execution_count": 17,
   "id": "8a6ac974",
   "metadata": {},
   "outputs": [
    {
     "data": {
      "text/plain": [
       "array([[ 0. ,  0. ,  0. ],\n",
       "       [-0. ,  0. ,  0. ],\n",
       "       [ 0.1,  0.7,  0. ]])"
      ]
     },
     "execution_count": 17,
     "metadata": {},
     "output_type": "execute_result"
    }
   ],
   "source": [
    "W.round(1)"
   ]
  },
  {
   "cell_type": "code",
   "execution_count": 18,
   "id": "88a056d8",
   "metadata": {},
   "outputs": [
    {
     "data": {
      "text/plain": [
       "array([[0. , 0. , 0.6],\n",
       "       [0. , 0. , 0. ],\n",
       "       [0. , 1.1, 0. ]])"
      ]
     },
     "execution_count": 18,
     "metadata": {},
     "output_type": "execute_result"
    }
   ],
   "source": [
    "dagX.round(1)"
   ]
  },
  {
   "cell_type": "code",
   "execution_count": 19,
   "id": "6c0464d8",
   "metadata": {},
   "outputs": [
    {
     "data": {
      "text/plain": [
       "array([[0. , 0. , 0. ],\n",
       "       [0. , 0. , 1.1],\n",
       "       [0.6, 0. , 0. ]])"
      ]
     },
     "execution_count": 19,
     "metadata": {},
     "output_type": "execute_result"
    }
   ],
   "source": [
    "dagX.T.round(1)"
   ]
  },
  {
   "cell_type": "code",
   "execution_count": null,
   "id": "8205f840",
   "metadata": {},
   "outputs": [],
   "source": []
  },
  {
   "cell_type": "code",
   "execution_count": null,
   "id": "584b525d",
   "metadata": {},
   "outputs": [],
   "source": []
  },
  {
   "cell_type": "code",
   "execution_count": 20,
   "id": "e2837d43",
   "metadata": {},
   "outputs": [],
   "source": [
    "def H1ldet(W):\n",
    "    det = np.linalg.det(np.eye(W.shape[0]) - np.multiply(W,W))\n",
    "    if (det <= 0):\n",
    "        print(det)\n",
    "    return -np.log(det)\n",
    "\n",
    "def constr_DAGMA(C):\n",
    "    w = C[varables*window*varables:].reshape(varables, varables)\n",
    "    return H1ldet(w)\n",
    "\n",
    "A_init = np.random.rand(varables*varables*window)\n",
    "\n",
    "W_init = np.random.rand(varables*varables).reshape(varables, varables)\n",
    "np.fill_diagonal(W_init, 0)\n",
    "while H1ldet(W_init) is np.nan:\n",
    "    W_init = np.random.rand(varables*varables).reshape(varables, varables)\n",
    "    np.fill_diagonal(W, 0)\n",
    "\n",
    "C_init = np.append(A_init, W_init.reshape(varables*varables), axis = 0)\n",
    "\n",
    "cons = {'type':'eq', 'fun': constr_DAGMA}\n",
    "\n",
    "#C = sc.optimize.minimize(f_DYNOTEARS(X,Y,.01,.1) , C_init, constraints=cons).x"
   ]
  },
  {
   "cell_type": "code",
   "execution_count": 21,
   "id": "59fbb9e9",
   "metadata": {},
   "outputs": [],
   "source": [
    "A = C[:varables*window*varables].reshape(varables, varables*window)\n",
    "W = C[varables*window*varables:].reshape(varables, varables)\n",
    "np.fill_diagonal(W, 0)"
   ]
  },
  {
   "cell_type": "code",
   "execution_count": 22,
   "id": "5bb074e9",
   "metadata": {},
   "outputs": [
    {
     "data": {
      "text/plain": [
       "array([[0., 0., 0., 0., 0., 0.],\n",
       "       [0., 0., 0., 1., 0., 1.],\n",
       "       [0., 0., 0., 0., 1., 0.]])"
      ]
     },
     "execution_count": 22,
     "metadata": {},
     "output_type": "execute_result"
    }
   ],
   "source": [
    "A[A<.3] = 0\n",
    "A.round()"
   ]
  },
  {
   "cell_type": "code",
   "execution_count": 23,
   "id": "763c8223",
   "metadata": {},
   "outputs": [
    {
     "data": {
      "text/plain": [
       "array([[0., 0., 0., 0., 0., 0.],\n",
       "       [0., 0., 0., 1., 0., 1.],\n",
       "       [0., 0., 0., 0., 1., 0.]])"
      ]
     },
     "execution_count": 23,
     "metadata": {},
     "output_type": "execute_result"
    }
   ],
   "source": [
    "dagY.round()"
   ]
  },
  {
   "cell_type": "code",
   "execution_count": 24,
   "id": "1e2c5f90",
   "metadata": {},
   "outputs": [
    {
     "data": {
      "text/plain": [
       "array([[ 0. ,  0. ,  0. ],\n",
       "       [-0. ,  0. ,  0. ],\n",
       "       [ 0.1,  0.7,  0. ]])"
      ]
     },
     "execution_count": 24,
     "metadata": {},
     "output_type": "execute_result"
    }
   ],
   "source": [
    "W.round(1)"
   ]
  },
  {
   "cell_type": "code",
   "execution_count": 25,
   "id": "5d4c16a2",
   "metadata": {},
   "outputs": [
    {
     "data": {
      "text/plain": [
       "array([[0. , 0. , 0.6],\n",
       "       [0. , 0. , 0. ],\n",
       "       [0. , 1.1, 0. ]])"
      ]
     },
     "execution_count": 25,
     "metadata": {},
     "output_type": "execute_result"
    }
   ],
   "source": [
    "dagX.round(1)"
   ]
  },
  {
   "cell_type": "code",
   "execution_count": 26,
   "id": "dc442035",
   "metadata": {},
   "outputs": [
    {
     "data": {
      "text/plain": [
       "array([[0. , 0. , 0. ],\n",
       "       [0. , 0. , 1.1],\n",
       "       [0.6, 0. , 0. ]])"
      ]
     },
     "execution_count": 26,
     "metadata": {},
     "output_type": "execute_result"
    }
   ],
   "source": [
    "dagX.T.round(1)"
   ]
  },
  {
   "cell_type": "code",
   "execution_count": 27,
   "id": "5cbb2eff",
   "metadata": {},
   "outputs": [
    {
     "name": "stdout",
     "output_type": "stream",
     "text": [
      "-7.684705686937305\n"
     ]
    },
    {
     "name": "stderr",
     "output_type": "stream",
     "text": [
      "/var/folders/z_/p0tz320d6j13q0rkv_f35brm0000gn/T/ipykernel_18744/3164180601.py:5: RuntimeWarning: invalid value encountered in log\n",
      "  return -np.log(det)\n"
     ]
    },
    {
     "data": {
      "text/plain": [
       "nan"
      ]
     },
     "execution_count": 27,
     "metadata": {},
     "output_type": "execute_result"
    }
   ],
   "source": [
    "C_init = np.random.rand(varables*varables*window + varables*varables)\n",
    "H1ldet(C_init.T)"
   ]
  },
  {
   "cell_type": "code",
   "execution_count": 28,
   "id": "6d8e5149",
   "metadata": {},
   "outputs": [],
   "source": [
    "def metrics(A,dagY, W, dagX):\n",
    "    A = np.absolute(A) > 0.3\n",
    "    dagY = np.absolute(dagY) > .5\n",
    "    W = np.absolute(W) > 0.3\n",
    "    dagX = np.absolute(dagX) > .5\n",
    "    \n",
    "    preWrong = A != dagY\n",
    "    wWrong = W != dagX\n",
    "    #assumes cant be both wrong and inv\n",
    "    wInverse = W.T & dagX\n",
    "    \n",
    "    if ((W + W.T)==2).any():\n",
    "        print(W)\n",
    "        print(W.T)\n",
    "        raise \"error\"\n",
    "    \n",
    "    #print(A)\n",
    "    #print(dagY)\n",
    "    #print(W)\n",
    "    #print(dagX)\n",
    "    #print()\n",
    "    #print(preWrong)\n",
    "    #print(wWrong)\n",
    "    #print(wInverse)\n",
    "    \n",
    "    return {\n",
    "        \"preWrong\": sum(sum(preWrong)),\n",
    "        \"wWrong\": sum(sum(wWrong)),\n",
    "        \"wInverse\": sum(sum(wInverse))\n",
    "    }\n",
    "    "
   ]
  },
  {
   "cell_type": "code",
   "execution_count": 29,
   "id": "411a7222",
   "metadata": {},
   "outputs": [
    {
     "data": {
      "text/plain": [
       "{'preWrong': 0, 'wWrong': 1, 'wInverse': 0}"
      ]
     },
     "execution_count": 29,
     "metadata": {},
     "output_type": "execute_result"
    }
   ],
   "source": [
    "metrics(A,dagY, W, dagX)"
   ]
  },
  {
   "cell_type": "code",
   "execution_count": 30,
   "id": "e5099541",
   "metadata": {},
   "outputs": [
    {
     "data": {
      "text/plain": [
       "array([[0., 0., 0., 0., 0., 0.],\n",
       "       [0., 0., 0., 1., 0., 1.],\n",
       "       [0., 0., 0., 0., 1., 0.]])"
      ]
     },
     "execution_count": 30,
     "metadata": {},
     "output_type": "execute_result"
    }
   ],
   "source": [
    "A.round()"
   ]
  },
  {
   "cell_type": "code",
   "execution_count": 31,
   "id": "6008d893",
   "metadata": {},
   "outputs": [
    {
     "data": {
      "text/plain": [
       "array([[0., 0., 0., 0., 0., 0.],\n",
       "       [0., 0., 0., 1., 0., 1.],\n",
       "       [0., 0., 0., 0., 1., 0.]])"
      ]
     },
     "execution_count": 31,
     "metadata": {},
     "output_type": "execute_result"
    }
   ],
   "source": [
    "dagY.round()"
   ]
  },
  {
   "cell_type": "code",
   "execution_count": 32,
   "id": "185576b4",
   "metadata": {},
   "outputs": [
    {
     "data": {
      "text/plain": [
       "array([[ 0.8, -1.1, -0.6, ..., -0. , -0.1, -0.6],\n",
       "       [ 3.1,  2.5,  5.8, ...,  5.9,  2.9,  4.8],\n",
       "       [ 1.7, -0.6, -2.3, ...,  0.5,  1.9, -1. ]])"
      ]
     },
     "execution_count": 32,
     "metadata": {},
     "output_type": "execute_result"
    }
   ],
   "source": [
    "np.matmul(np.eye(varables, varables) - W, X).round(1)"
   ]
  },
  {
   "cell_type": "code",
   "execution_count": 33,
   "id": "c5d24c56",
   "metadata": {},
   "outputs": [],
   "source": [
    "def transformTimeData(data, window, times):\n",
    "    variables = data.shape[0]//times\n",
    "    print(data.shape[0]/times)\n",
    "    \n",
    "    snapshots = times - window - 1\n",
    "    \n",
    "    ret = []\n",
    "    \n",
    "    for i in range(snapshots):\n",
    "        slic = data[i*variables:i*variables+(window+1)*variables]\n",
    "        ret.append( slic)\n",
    "    \n",
    "    return np.hstack(ret)\n",
    "    \n",
    "    "
   ]
  },
  {
   "cell_type": "code",
   "execution_count": 34,
   "id": "297592a9",
   "metadata": {},
   "outputs": [
    {
     "name": "stdout",
     "output_type": "stream",
     "text": [
      "3.0\n"
     ]
    }
   ],
   "source": [
    "XY_stack = transformTimeData(XY, window, times)"
   ]
  },
  {
   "cell_type": "code",
   "execution_count": 35,
   "id": "7aa8d3a0",
   "metadata": {},
   "outputs": [],
   "source": [
    "Y_stack=XY_stack[varables:window*varables+varables]\n",
    "X_stack=XY_stack[:varables]\n"
   ]
  },
  {
   "cell_type": "code",
   "execution_count": null,
   "id": "a3949abe",
   "metadata": {},
   "outputs": [],
   "source": []
  },
  {
   "cell_type": "code",
   "execution_count": 36,
   "id": "cd1524ad",
   "metadata": {},
   "outputs": [
    {
     "name": "stdout",
     "output_type": "stream",
     "text": [
      "(15, 1400)\n",
      "(9, 2800)\n",
      "(6, 2800)\n",
      "(3, 2800)\n"
     ]
    }
   ],
   "source": [
    "print(XY.shape)\n",
    "print(XY_stack.shape)\n",
    "print(Y_stack.shape)\n",
    "print(X_stack.shape)"
   ]
  },
  {
   "cell_type": "code",
   "execution_count": 37,
   "id": "7ffc558a",
   "metadata": {},
   "outputs": [
    {
     "data": {
      "text/plain": [
       "(15, 1400)"
      ]
     },
     "execution_count": 37,
     "metadata": {},
     "output_type": "execute_result"
    }
   ],
   "source": [
    "XY.shape"
   ]
  },
  {
   "cell_type": "code",
   "execution_count": 38,
   "id": "029bde1a",
   "metadata": {},
   "outputs": [
    {
     "data": {
      "text/plain": [
       "array([[ 0.84451187, -1.07956641, -0.59938871, ...,  0.44023687,\n",
       "         0.22243026,  0.52355365],\n",
       "       [ 3.10682466,  2.4738767 ,  5.84112258, ...,  0.41082145,\n",
       "         0.80628532,  0.10845134],\n",
       "       [ 3.90240578,  0.96240296,  1.57326366, ...,  2.35784659,\n",
       "         2.90278807,  1.70489404],\n",
       "       ...,\n",
       "       [-0.80792361, -0.29018851,  1.33792527, ..., -0.26114815,\n",
       "        -1.16527905, -0.07501112],\n",
       "       [ 2.77903565,  1.15421834,  0.66760176, ...,  1.46296122,\n",
       "         2.4517169 ,  1.48250227],\n",
       "       [ 3.63267786,  2.81572036,  3.75929592, ...,  0.30860306,\n",
       "         1.67148319,  0.29349959]])"
      ]
     },
     "execution_count": 38,
     "metadata": {},
     "output_type": "execute_result"
    }
   ],
   "source": [
    "XY_stack"
   ]
  },
  {
   "cell_type": "code",
   "execution_count": 39,
   "id": "11ad0ffa",
   "metadata": {},
   "outputs": [
    {
     "data": {
      "text/plain": [
       "array([[ 0.84451187, -1.07956641, -0.59938871, ...,  0.44023687,\n",
       "         0.22243026,  0.52355365],\n",
       "       [ 3.10682466,  2.4738767 ,  5.84112258, ...,  0.41082145,\n",
       "         0.80628532,  0.10845134],\n",
       "       [ 3.90240578,  0.96240296,  1.57326366, ...,  2.35784659,\n",
       "         2.90278807,  1.70489404]])"
      ]
     },
     "execution_count": 39,
     "metadata": {},
     "output_type": "execute_result"
    }
   ],
   "source": [
    "X_stack"
   ]
  },
  {
   "cell_type": "code",
   "execution_count": 40,
   "id": "afb2fd06",
   "metadata": {},
   "outputs": [
    {
     "data": {
      "text/plain": [
       "array([[-0.15641718, -0.07613062, -0.55656899, ...,  1.52782078,\n",
       "        -0.23897312,  1.12553678],\n",
       "       [ 4.31152743,  1.39225503, -0.6106612 , ...,  2.93902861,\n",
       "         3.27889274,  1.60016699],\n",
       "       [ 4.70204967,  3.41669166,  0.99215385, ...,  3.88350732,\n",
       "         3.67027602,  3.52401136],\n",
       "       [-0.80792361, -0.29018851,  1.33792527, ..., -0.26114815,\n",
       "        -1.16527905, -0.07501112],\n",
       "       [ 2.77903565,  1.15421834,  0.66760176, ...,  1.46296122,\n",
       "         2.4517169 ,  1.48250227],\n",
       "       [ 3.63267786,  2.81572036,  3.75929592, ...,  0.30860306,\n",
       "         1.67148319,  0.29349959]])"
      ]
     },
     "execution_count": 40,
     "metadata": {},
     "output_type": "execute_result"
    }
   ],
   "source": [
    "Y_stack"
   ]
  },
  {
   "cell_type": "code",
   "execution_count": 41,
   "id": "d5ba5735",
   "metadata": {},
   "outputs": [],
   "source": [
    "cons = {'type':'eq', 'fun': constr_DYNOTEARS}\n",
    "C = sc.optimize.minimize(f_DYNOTEARS(X_stack,Y_stack,.01,.1) , C_init, constraints=cons).x"
   ]
  },
  {
   "cell_type": "code",
   "execution_count": 42,
   "id": "dd13d39a",
   "metadata": {},
   "outputs": [],
   "source": [
    "A = C[:varables*window*varables].reshape(varables, varables*window)\n",
    "W = C[varables*window*varables:].reshape(varables, varables)\n",
    "np.fill_diagonal(W, 0)"
   ]
  },
  {
   "cell_type": "code",
   "execution_count": 43,
   "id": "d9a4d5e4",
   "metadata": {},
   "outputs": [
    {
     "data": {
      "text/plain": [
       "array([[0. , 0. , 0. , 0. , 0. , 0. ],\n",
       "       [0. , 0. , 0. , 0.6, 0. , 1.1],\n",
       "       [0. , 0. , 0. , 0.4, 1.4, 0.6]])"
      ]
     },
     "execution_count": 43,
     "metadata": {},
     "output_type": "execute_result"
    }
   ],
   "source": [
    "abs(A.round(1))"
   ]
  },
  {
   "cell_type": "code",
   "execution_count": 44,
   "id": "9f99eaa4",
   "metadata": {},
   "outputs": [
    {
     "data": {
      "text/plain": [
       "array([[0. , 0. , 0. , 0. , 0. , 0. ],\n",
       "       [0. , 0. , 0. , 0.6, 0. , 1.1],\n",
       "       [0. , 0. , 0. , 0. , 1.5, 0. ]])"
      ]
     },
     "execution_count": 44,
     "metadata": {},
     "output_type": "execute_result"
    }
   ],
   "source": [
    "dagY.round(1)"
   ]
  },
  {
   "cell_type": "code",
   "execution_count": 45,
   "id": "b885c5f9",
   "metadata": {},
   "outputs": [
    {
     "data": {
      "text/plain": [
       "array([[ 0.  , -0.  ,  0.  ],\n",
       "       [-0.  ,  0.  ,  0.  ],\n",
       "       [ 0.08,  0.6 ,  0.  ]])"
      ]
     },
     "execution_count": 45,
     "metadata": {},
     "output_type": "execute_result"
    }
   ],
   "source": [
    "W.round(2)"
   ]
  },
  {
   "cell_type": "code",
   "execution_count": 46,
   "id": "bbef099a",
   "metadata": {},
   "outputs": [
    {
     "data": {
      "text/plain": [
       "array([[0. , 0. , 0.6],\n",
       "       [0. , 0. , 0. ],\n",
       "       [0. , 1.1, 0. ]])"
      ]
     },
     "execution_count": 46,
     "metadata": {},
     "output_type": "execute_result"
    }
   ],
   "source": [
    "dagX.round(1)"
   ]
  },
  {
   "cell_type": "code",
   "execution_count": 47,
   "id": "52de58df",
   "metadata": {},
   "outputs": [
    {
     "data": {
      "text/plain": [
       "array([[0. , 0. , 0. ],\n",
       "       [0. , 0. , 1.1],\n",
       "       [0.6, 0. , 0. ]])"
      ]
     },
     "execution_count": 47,
     "metadata": {},
     "output_type": "execute_result"
    }
   ],
   "source": [
    "dagX.T.round(1)"
   ]
  },
  {
   "cell_type": "code",
   "execution_count": 48,
   "id": "4beade06",
   "metadata": {},
   "outputs": [
    {
     "name": "stdout",
     "output_type": "stream",
     "text": [
      "(2, 3, 3)\n",
      "(5, 3, 1400)\n"
     ]
    }
   ],
   "source": [
    "#tensor representation for timeseries\n",
    "dagYtesnor = np.transpose(np.array([dagY[:,i*varables:(i+1)*varables] for i in range(window)]),(0,2,1))\n",
    "\n",
    "dagXtesnor = dagX\n",
    "print(dagYtesnor.round().shape)\n",
    "\n",
    "XYtesnor = XY.reshape(times, varables, observations)\n",
    "print(XYtesnor.shape)"
   ]
  },
  {
   "cell_type": "code",
   "execution_count": 49,
   "id": "495cfe5a",
   "metadata": {},
   "outputs": [
    {
     "data": {
      "text/plain": [
       "array([[ 0.84451187, -1.07956641, -0.59938871, ...,  0.44023687,\n",
       "         0.22243026,  0.52355365],\n",
       "       [ 3.10682466,  2.4738767 ,  5.84112258, ...,  0.41082145,\n",
       "         0.80628532,  0.10845134],\n",
       "       [ 3.90240578,  0.96240296,  1.57326366, ...,  2.35784659,\n",
       "         2.90278807,  1.70489404],\n",
       "       ...,\n",
       "       [-0.80792361, -0.29018851,  1.33792527, ..., -0.26114815,\n",
       "        -1.16527905, -0.07501112],\n",
       "       [ 2.77903565,  1.15421834,  0.66760176, ...,  1.46296122,\n",
       "         2.4517169 ,  1.48250227],\n",
       "       [ 3.63267786,  2.81572036,  3.75929592, ...,  0.30860306,\n",
       "         1.67148319,  0.29349959]])"
      ]
     },
     "execution_count": 49,
     "metadata": {},
     "output_type": "execute_result"
    }
   ],
   "source": [
    "XY_stack"
   ]
  },
  {
   "cell_type": "code",
   "execution_count": 50,
   "id": "cfc23406",
   "metadata": {},
   "outputs": [],
   "source": [
    "Y_stack=XY_stack[varables:window*varables+varables]\n",
    "X_stack=XY_stack[:varables]"
   ]
  },
  {
   "cell_type": "code",
   "execution_count": 51,
   "id": "d458ff37",
   "metadata": {},
   "outputs": [
    {
     "data": {
      "text/plain": [
       "array([[-0.15641718, -0.07613062, -0.55656899, ...,  1.52782078,\n",
       "        -0.23897312,  1.12553678],\n",
       "       [ 4.31152743,  1.39225503, -0.6106612 , ...,  2.93902861,\n",
       "         3.27889274,  1.60016699],\n",
       "       [ 4.70204967,  3.41669166,  0.99215385, ...,  3.88350732,\n",
       "         3.67027602,  3.52401136],\n",
       "       [-0.80792361, -0.29018851,  1.33792527, ..., -0.26114815,\n",
       "        -1.16527905, -0.07501112],\n",
       "       [ 2.77903565,  1.15421834,  0.66760176, ...,  1.46296122,\n",
       "         2.4517169 ,  1.48250227],\n",
       "       [ 3.63267786,  2.81572036,  3.75929592, ...,  0.30860306,\n",
       "         1.67148319,  0.29349959]])"
      ]
     },
     "execution_count": 51,
     "metadata": {},
     "output_type": "execute_result"
    }
   ],
   "source": [
    "Y_stack"
   ]
  },
  {
   "cell_type": "code",
   "execution_count": 52,
   "id": "acd2e0e4",
   "metadata": {},
   "outputs": [
    {
     "data": {
      "text/plain": [
       "array([[ 0.84451187, -1.07956641, -0.59938871, ...,  0.44023687,\n",
       "         0.22243026,  0.52355365],\n",
       "       [ 3.10682466,  2.4738767 ,  5.84112258, ...,  0.41082145,\n",
       "         0.80628532,  0.10845134],\n",
       "       [ 3.90240578,  0.96240296,  1.57326366, ...,  2.35784659,\n",
       "         2.90278807,  1.70489404]])"
      ]
     },
     "execution_count": 52,
     "metadata": {},
     "output_type": "execute_result"
    }
   ],
   "source": [
    "X_stack"
   ]
  },
  {
   "cell_type": "code",
   "execution_count": null,
   "id": "64f784cc",
   "metadata": {},
   "outputs": [],
   "source": []
  },
  {
   "cell_type": "code",
   "execution_count": null,
   "id": "ae7b96f7",
   "metadata": {},
   "outputs": [],
   "source": []
  },
  {
   "cell_type": "code",
   "execution_count": 53,
   "id": "ce93c88d",
   "metadata": {},
   "outputs": [],
   "source": [
    "def diff(X, w, a):\n",
    "    X_check = X[:X.shape[0]-a.shape[0]]\n",
    "    \n",
    "    Xw = np.matmul(w, X_check)\n",
    "    #print(a.shape)\n",
    "    #print(X.shape[0]-window+1)\n",
    "    Xa = np.array([np.tensordot(a, X[i:i+window], axes=((0,1),(0,1)))\n",
    "                    for i in range(1, X.shape[0]-window+1)])\n",
    "    #print(X_check.shape)\n",
    "    #print(Xw.shape)\n",
    "    #print(Xa.shape)\n",
    "    \n",
    "    return X_check - Xw - Xa\n",
    "\n",
    "def f_DYNOTEARS_TENSOR(X, lA, lB):\n",
    "    def aux(C):\n",
    "        a = C[:varables*window*varables].reshape(window, varables, varables)\n",
    "        w = C[varables*window*varables:].reshape(varables, varables)\n",
    "    \n",
    "        loss = np.square(diff(X, w, a)).sum().sum().sum()/np.prod(X.shape)\n",
    "        #print(loss)\n",
    "        return loss + lB*np.linalg.norm(w.flatten(), 1) + lA*np.linalg.norm(a.flatten(), 1) \n",
    "    return aux\n",
    "\n",
    "def ll(X, Y, w, a):\n",
    "    return np.square(\n",
    "                np.linalg.norm(\n",
    "                    np.matmul(np.eye(varables, varables) - w, X)\n",
    "                    - np.matmul(a, Y)\n",
    "                    , \"fro\"\n",
    "                )\n",
    "            )/np.prod(X.shape)"
   ]
  },
  {
   "cell_type": "code",
   "execution_count": 54,
   "id": "af9054ef",
   "metadata": {},
   "outputs": [],
   "source": [
    "Y_stack=XY_stack[varables:window*varables+varables]\n",
    "X_stack=XY_stack[:varables]"
   ]
  },
  {
   "cell_type": "code",
   "execution_count": 55,
   "id": "22a5ee09",
   "metadata": {},
   "outputs": [],
   "source": [
    "def constr_DYNOTEARS(C):\n",
    "    w = C[varables*window*varables:].reshape(varables, varables)\n",
    "    return qDag(w)\n",
    "\n",
    "cons = {'type':'eq', 'fun': constr_DYNOTEARS}\n",
    "\n",
    "C = sc.optimize.minimize(f_DYNOTEARS_TENSOR(XYtesnor,.05,.05) , C_init, constraints=cons).x"
   ]
  },
  {
   "cell_type": "code",
   "execution_count": 56,
   "id": "13054c3e",
   "metadata": {},
   "outputs": [
    {
     "name": "stdout",
     "output_type": "stream",
     "text": [
      "3.989690517440081\n",
      "2.134650880793359\n",
      "0.28736252797425266\n"
     ]
    }
   ],
   "source": [
    "A = C[:varables*window*varables].reshape(window, varables, varables)\n",
    "W = C[varables*window*varables:].reshape(varables, varables)\n",
    "print(ll(X_stack, Y_stack, dagX, dagY))\n",
    "\n",
    "#print(ll(XYtesnor, W, A))\n",
    "\n",
    "print(np.square(diff(XYtesnor, dagX, dagYtesnor)).sum().sum().sum()/np.prod(XYtesnor.shape))\n",
    "\n",
    "print(np.square(diff(XYtesnor, W, A)).sum().sum().sum()/np.prod(XYtesnor.shape))"
   ]
  },
  {
   "cell_type": "code",
   "execution_count": null,
   "id": "3f1dff71",
   "metadata": {},
   "outputs": [],
   "source": []
  },
  {
   "cell_type": "code",
   "execution_count": 57,
   "id": "da8d55cb",
   "metadata": {},
   "outputs": [
    {
     "data": {
      "text/plain": [
       "(2, 3, 3)"
      ]
     },
     "execution_count": 57,
     "metadata": {},
     "output_type": "execute_result"
    }
   ],
   "source": [
    "A.shape"
   ]
  },
  {
   "cell_type": "code",
   "execution_count": 58,
   "id": "ce4f951d",
   "metadata": {},
   "outputs": [
    {
     "data": {
      "text/plain": [
       "(3, 3)"
      ]
     },
     "execution_count": 58,
     "metadata": {},
     "output_type": "execute_result"
    }
   ],
   "source": [
    "W.shape"
   ]
  },
  {
   "cell_type": "code",
   "execution_count": 59,
   "id": "56fe2f8e",
   "metadata": {},
   "outputs": [
    {
     "data": {
      "text/plain": [
       "array([[[-0. , -0. ,  0. ],\n",
       "        [-0. ,  0. ,  0. ],\n",
       "        [ 0. ,  0. ,  0. ]],\n",
       "\n",
       "       [[ 0. ,  0.4, -0. ],\n",
       "        [-0. , -0. ,  1.2],\n",
       "        [-0. ,  1.1, -0. ]]])"
      ]
     },
     "execution_count": 59,
     "metadata": {},
     "output_type": "execute_result"
    }
   ],
   "source": [
    "A.round(1)"
   ]
  },
  {
   "cell_type": "code",
   "execution_count": 60,
   "id": "e89d8597",
   "metadata": {},
   "outputs": [
    {
     "data": {
      "text/plain": [
       "array([[[0. , 0. , 0. ],\n",
       "        [0. , 0. , 0. ],\n",
       "        [0. , 0. , 0. ]],\n",
       "\n",
       "       [[0. , 0.6, 0. ],\n",
       "        [0. , 0. , 1.5],\n",
       "        [0. , 1.1, 0. ]]])"
      ]
     },
     "execution_count": 60,
     "metadata": {},
     "output_type": "execute_result"
    }
   ],
   "source": [
    "dagYtesnor.round(1)"
   ]
  },
  {
   "cell_type": "code",
   "execution_count": 61,
   "id": "d4b00f67",
   "metadata": {},
   "outputs": [
    {
     "data": {
      "text/plain": [
       "array([[[-0., -0., -1., ...,  0.,  0.,  1.],\n",
       "        [ 4.,  1., -1., ...,  0.,  1.,  0.],\n",
       "        [ 5.,  3.,  1., ...,  2.,  3.,  2.]],\n",
       "\n",
       "       [[-1., -0.,  1., ...,  2., -0.,  1.],\n",
       "        [ 3.,  1.,  1., ...,  3.,  3.,  2.],\n",
       "        [ 4.,  3.,  4., ...,  4.,  4.,  4.]]])"
      ]
     },
     "execution_count": 61,
     "metadata": {},
     "output_type": "execute_result"
    }
   ],
   "source": [
    "XYtesnor[1:1+window].round()"
   ]
  },
  {
   "cell_type": "code",
   "execution_count": 62,
   "id": "3ff20209",
   "metadata": {},
   "outputs": [
    {
     "data": {
      "text/plain": [
       "array([[[0. , 0. , 0. ],\n",
       "        [0. , 0. , 0. ],\n",
       "        [0. , 0. , 0. ]],\n",
       "\n",
       "       [[0. , 0.6, 0. ],\n",
       "        [0. , 0. , 1.5],\n",
       "        [0. , 1.1, 0. ]]])"
      ]
     },
     "execution_count": 62,
     "metadata": {},
     "output_type": "execute_result"
    }
   ],
   "source": [
    "dagYtesnor.round(1)"
   ]
  },
  {
   "cell_type": "code",
   "execution_count": 63,
   "id": "eb82fffc",
   "metadata": {},
   "outputs": [
    {
     "data": {
      "text/plain": [
       "array([[-0. , -0. , -0. , ..., -0. , -0. , -0. ],\n",
       "       [ 3.5,  2.9,  4.5, ...,  4.7,  3.8,  4.1],\n",
       "       [ 3.4,  1.4,  0.8, ...,  3.6,  4. ,  2. ]])"
      ]
     },
     "execution_count": 63,
     "metadata": {},
     "output_type": "execute_result"
    }
   ],
   "source": [
    "np.tensordot(A, XYtesnor[1:1+window], axes=((0,1),(0,1))).round(1)"
   ]
  },
  {
   "cell_type": "code",
   "execution_count": 64,
   "id": "31d011ab",
   "metadata": {},
   "outputs": [
    {
     "data": {
      "text/plain": [
       "array([[[-0., -0., -1., ...,  0.,  0.,  1.],\n",
       "        [ 4.,  1., -1., ...,  0.,  1.,  0.],\n",
       "        [ 5.,  3.,  1., ...,  2.,  3.,  2.]],\n",
       "\n",
       "       [[-1., -0.,  1., ...,  2., -0.,  1.],\n",
       "        [ 3.,  1.,  1., ...,  3.,  3.,  2.],\n",
       "        [ 4.,  3.,  4., ...,  4.,  4.,  4.]]])"
      ]
     },
     "execution_count": 64,
     "metadata": {},
     "output_type": "execute_result"
    }
   ],
   "source": [
    "XYtesnor[0].round()\n",
    "XYtesnor[1:1+window].round()"
   ]
  },
  {
   "cell_type": "code",
   "execution_count": 65,
   "id": "b388cfb6",
   "metadata": {},
   "outputs": [],
   "source": [
    "#np.array([dagY[:,i*varables:(i+1)*varables] for i in range(window)]).round(1)"
   ]
  },
  {
   "cell_type": "code",
   "execution_count": 66,
   "id": "7ac6c001",
   "metadata": {},
   "outputs": [
    {
     "data": {
      "text/plain": [
       "array([[0. , 0. , 0. , 0. , 0. , 0. ],\n",
       "       [0. , 0. , 0. , 0.6, 0. , 1.1],\n",
       "       [0. , 0. , 0. , 0. , 1.5, 0. ]])"
      ]
     },
     "execution_count": 66,
     "metadata": {},
     "output_type": "execute_result"
    }
   ],
   "source": [
    "dagY.round(1)"
   ]
  },
  {
   "cell_type": "code",
   "execution_count": 67,
   "id": "9084aa6d",
   "metadata": {},
   "outputs": [
    {
     "data": {
      "text/plain": [
       "array([[-0., -0., -1., ...,  2., -0.,  1.],\n",
       "       [ 4.,  1., -1., ...,  3.,  3.,  2.],\n",
       "       [ 5.,  3.,  1., ...,  4.,  4.,  4.],\n",
       "       [-1., -0.,  1., ..., -0., -1., -0.],\n",
       "       [ 3.,  1.,  1., ...,  1.,  2.,  1.],\n",
       "       [ 4.,  3.,  4., ...,  0.,  2.,  0.]])"
      ]
     },
     "execution_count": 67,
     "metadata": {},
     "output_type": "execute_result"
    }
   ],
   "source": [
    "Y_stack.round()"
   ]
  },
  {
   "cell_type": "code",
   "execution_count": 68,
   "id": "f7f53bc4",
   "metadata": {},
   "outputs": [
    {
     "data": {
      "text/plain": [
       "array([[0., 0., 0., ..., 0., 0., 0.],\n",
       "       [3., 3., 5., ..., 0., 1., 0.],\n",
       "       [4., 2., 1., ..., 2., 4., 2.]])"
      ]
     },
     "execution_count": 68,
     "metadata": {},
     "output_type": "execute_result"
    }
   ],
   "source": [
    "np.matmul(dagY, Y_stack).round()"
   ]
  },
  {
   "cell_type": "code",
   "execution_count": 69,
   "id": "7b0eaf1d",
   "metadata": {},
   "outputs": [
    {
     "data": {
      "text/plain": [
       "array([[ 1., -1., -1., ...,  0.,  0.,  1.],\n",
       "       [ 3.,  2.,  6., ...,  0.,  1.,  0.],\n",
       "       [ 4.,  1.,  2., ...,  2.,  3.,  2.]])"
      ]
     },
     "execution_count": 69,
     "metadata": {},
     "output_type": "execute_result"
    }
   ],
   "source": [
    "X_stack.round()"
   ]
  },
  {
   "cell_type": "code",
   "execution_count": 70,
   "id": "51b690b2",
   "metadata": {},
   "outputs": [
    {
     "data": {
      "text/plain": [
       "array([[0. , 0. , 0.6],\n",
       "       [0. , 0. , 0. ],\n",
       "       [0. , 1.1, 0. ]])"
      ]
     },
     "execution_count": 70,
     "metadata": {},
     "output_type": "execute_result"
    }
   ],
   "source": [
    "dagX.round(1)"
   ]
  },
  {
   "cell_type": "code",
   "execution_count": 71,
   "id": "aaeca277",
   "metadata": {},
   "outputs": [
    {
     "data": {
      "text/plain": [
       "array([[ 0. , -0. ,  0. ],\n",
       "       [ 0. ,  0. ,  0. ],\n",
       "       [ 0.2,  0.2,  0. ]])"
      ]
     },
     "execution_count": 71,
     "metadata": {},
     "output_type": "execute_result"
    }
   ],
   "source": [
    "W.round(1)"
   ]
  },
  {
   "cell_type": "code",
   "execution_count": null,
   "id": "d62cf61f",
   "metadata": {},
   "outputs": [],
   "source": []
  },
  {
   "cell_type": "code",
   "execution_count": null,
   "id": "d884df4f",
   "metadata": {},
   "outputs": [],
   "source": []
  },
  {
   "cell_type": "code",
   "execution_count": null,
   "id": "90acce7e",
   "metadata": {},
   "outputs": [],
   "source": []
  },
  {
   "cell_type": "code",
   "execution_count": null,
   "id": "c835b5a8",
   "metadata": {},
   "outputs": [],
   "source": []
  },
  {
   "cell_type": "code",
   "execution_count": null,
   "id": "e2d3d520",
   "metadata": {},
   "outputs": [],
   "source": []
  },
  {
   "cell_type": "code",
   "execution_count": null,
   "id": "7c901c7c",
   "metadata": {},
   "outputs": [],
   "source": []
  },
  {
   "cell_type": "code",
   "execution_count": null,
   "id": "7f3bc915",
   "metadata": {},
   "outputs": [],
   "source": []
  },
  {
   "cell_type": "code",
   "execution_count": null,
   "id": "9f4a771a",
   "metadata": {},
   "outputs": [],
   "source": []
  }
 ],
 "metadata": {
  "kernelspec": {
   "display_name": "Python 3 (ipykernel)",
   "language": "python",
   "name": "python3"
  },
  "language_info": {
   "codemirror_mode": {
    "name": "ipython",
    "version": 3
   },
   "file_extension": ".py",
   "mimetype": "text/x-python",
   "name": "python",
   "nbconvert_exporter": "python",
   "pygments_lexer": "ipython3",
   "version": "3.11.1"
  }
 },
 "nbformat": 4,
 "nbformat_minor": 5
}
