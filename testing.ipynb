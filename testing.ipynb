{
 "cells": [
  {
   "cell_type": "code",
   "execution_count": 1,
   "id": "774bdbc9",
   "metadata": {},
   "outputs": [],
   "source": [
    "import numpy as np\n",
    "import scipy.linalg as sla\n",
    "import numpy.linalg as la\n",
    "from scipy.special import expit as sigmoid\n",
    "import scipy as sc\n"
   ]
  },
  {
   "cell_type": "code",
   "execution_count": 2,
   "id": "feb9671c",
   "metadata": {},
   "outputs": [],
   "source": [
    "varables = 3\n",
    "observations = 20\n",
    "window = 5\n",
    "varTime = varables*window\n",
    "\n",
    "#to use later \n",
    "#times = 10\n",
    "#splObs = observations*(times-window)"
   ]
  },
  {
   "cell_type": "code",
   "execution_count": 3,
   "id": "68046d53",
   "metadata": {},
   "outputs": [],
   "source": [
    "dag = sc.sparse.random(varables*window, varables, density=0.15).A"
   ]
  },
  {
   "cell_type": "code",
   "execution_count": 4,
   "id": "5b49c5ca",
   "metadata": {},
   "outputs": [
    {
     "data": {
      "text/plain": [
       "array([[0.26, 0.  , 0.  ],\n",
       "       [0.  , 0.  , 0.  ],\n",
       "       [0.  , 0.  , 0.  ],\n",
       "       [0.  , 0.87, 0.  ],\n",
       "       [0.94, 0.  , 0.  ],\n",
       "       [0.  , 0.  , 0.  ],\n",
       "       [0.  , 0.  , 0.  ],\n",
       "       [0.  , 0.  , 0.21],\n",
       "       [0.  , 0.  , 0.  ],\n",
       "       [0.  , 0.  , 0.  ],\n",
       "       [0.  , 0.  , 0.  ],\n",
       "       [0.  , 0.79, 0.  ],\n",
       "       [0.09, 0.53, 0.  ],\n",
       "       [0.  , 0.  , 0.  ],\n",
       "       [0.  , 0.  , 0.  ]])"
      ]
     },
     "execution_count": 4,
     "metadata": {},
     "output_type": "execute_result"
    }
   ],
   "source": [
    "dag.round(2)"
   ]
  },
  {
   "cell_type": "code",
   "execution_count": 5,
   "id": "96a8769f",
   "metadata": {},
   "outputs": [],
   "source": [
    "A_init = np.random.rand(varables*varables*window).reshape(varables*window, varables)\n",
    "\n",
    "#later\n",
    "#W = np.random.rand(varables*observations).reshape(varables,observations)"
   ]
  },
  {
   "cell_type": "code",
   "execution_count": 6,
   "id": "c37c00ea",
   "metadata": {},
   "outputs": [],
   "source": [
    "Y = np.random.rand(observations*varables*window).reshape(observations, varables*window)\n"
   ]
  },
  {
   "cell_type": "code",
   "execution_count": 13,
   "id": "6e3d3fd0",
   "metadata": {},
   "outputs": [],
   "source": [
    "#X = XW + YA + Z\n",
    "\n",
    "X_firm = np.matmul(Y, dag) \n",
    "\n",
    "X_rand = X_firm + np.random.normal(0, X_firm.std()/6, X_firm.shape)"
   ]
  },
  {
   "cell_type": "code",
   "execution_count": null,
   "id": "cf5792cc",
   "metadata": {},
   "outputs": [],
   "source": []
  },
  {
   "cell_type": "code",
   "execution_count": null,
   "id": "d7ce8010",
   "metadata": {},
   "outputs": [],
   "source": []
  },
  {
   "cell_type": "code",
   "execution_count": 8,
   "id": "44781fe1",
   "metadata": {},
   "outputs": [],
   "source": [
    "def f(X):\n",
    "    def aux(A):\n",
    "        a = A.reshape(varables*window, varables)\n",
    "    \n",
    "        xp = np.matmul(Y, a)\n",
    "    \n",
    "        dif = (X - xp)\n",
    "    \n",
    "        return (dif * dif).sum()\n",
    "    return aux"
   ]
  },
  {
   "cell_type": "code",
   "execution_count": 9,
   "id": "d51e60d7",
   "metadata": {},
   "outputs": [
    {
     "name": "stderr",
     "output_type": "stream",
     "text": [
      "/var/folders/z_/p0tz320d6j13q0rkv_f35brm0000gn/T/ipykernel_7810/1142828865.py:1: DeprecationWarning: Use of `minimize` with `x0.ndim != 1` is deprecated. Currently, singleton dimensions will be removed from `x0`, but an error will be raised in SciPy 1.11.0.\n",
      "  A = sc.optimize.minimize(f(X_firm) , A_init).x.reshape(varables*window, varables)\n"
     ]
    }
   ],
   "source": [
    "A = sc.optimize.minimize(f(X_firm) , A_init).x.reshape(varables*window, varables)"
   ]
  },
  {
   "cell_type": "code",
   "execution_count": 10,
   "id": "cdc2a7dc",
   "metadata": {},
   "outputs": [
    {
     "data": {
      "text/plain": [
       "array([[-0., -0.,  0.],\n",
       "       [ 0.,  0.,  0.],\n",
       "       [ 0., -0.,  0.],\n",
       "       [-0., -0.,  0.],\n",
       "       [-0., -0., -0.],\n",
       "       [-0.,  0., -0.],\n",
       "       [ 0.,  0., -0.],\n",
       "       [ 0.,  0., -0.],\n",
       "       [ 0.,  0.,  0.],\n",
       "       [-0., -0.,  0.],\n",
       "       [ 0.,  0.,  0.],\n",
       "       [ 0., -0., -0.],\n",
       "       [ 0.,  0.,  0.],\n",
       "       [-0.,  0., -0.],\n",
       "       [ 0.,  0., -0.]])"
      ]
     },
     "execution_count": 10,
     "metadata": {},
     "output_type": "execute_result"
    }
   ],
   "source": [
    "(A-dag).round(2)"
   ]
  },
  {
   "cell_type": "code",
   "execution_count": 14,
   "id": "d2b3c3dd",
   "metadata": {},
   "outputs": [
    {
     "name": "stderr",
     "output_type": "stream",
     "text": [
      "/var/folders/z_/p0tz320d6j13q0rkv_f35brm0000gn/T/ipykernel_7810/732214466.py:1: DeprecationWarning: Use of `minimize` with `x0.ndim != 1` is deprecated. Currently, singleton dimensions will be removed from `x0`, but an error will be raised in SciPy 1.11.0.\n",
      "  A = sc.optimize.minimize(f(X_rand) , A_init).x.reshape(varables*window, varables)\n"
     ]
    }
   ],
   "source": [
    "A = sc.optimize.minimize(f(X_rand) , A_init).x.reshape(varables*window, varables)"
   ]
  },
  {
   "cell_type": "code",
   "execution_count": null,
   "id": "ea57f251",
   "metadata": {},
   "outputs": [],
   "source": []
  },
  {
   "cell_type": "code",
   "execution_count": 16,
   "id": "6c0464d8",
   "metadata": {},
   "outputs": [
    {
     "data": {
      "text/plain": [
       "array([[ 0.3, -0. , -0.1],\n",
       "       [ 0. ,  0.3,  0. ],\n",
       "       [-0. , -0.3,  0. ],\n",
       "       [-0.2,  0.9,  0.1],\n",
       "       [ 0.9, -0.1,  0. ],\n",
       "       [-0.1,  0.2,  0. ],\n",
       "       [ 0.1, -0. ,  0.1],\n",
       "       [ 0.1,  0.1,  0.2],\n",
       "       [ 0. ,  0.1,  0. ],\n",
       "       [-0. , -0.1,  0. ],\n",
       "       [ 0. ,  0.1,  0. ],\n",
       "       [-0.1,  0.7, -0.1],\n",
       "       [ 0.1,  0.3, -0.1],\n",
       "       [ 0.1, -0. , -0. ],\n",
       "       [ 0.1,  0. ,  0.1]])"
      ]
     },
     "execution_count": 16,
     "metadata": {},
     "output_type": "execute_result"
    }
   ],
   "source": [
    "A.round(1)"
   ]
  },
  {
   "cell_type": "code",
   "execution_count": 17,
   "id": "8205f840",
   "metadata": {},
   "outputs": [
    {
     "data": {
      "text/plain": [
       "array([[0.3, 0. , 0. ],\n",
       "       [0. , 0. , 0. ],\n",
       "       [0. , 0. , 0. ],\n",
       "       [0. , 0.9, 0. ],\n",
       "       [0.9, 0. , 0. ],\n",
       "       [0. , 0. , 0. ],\n",
       "       [0. , 0. , 0. ],\n",
       "       [0. , 0. , 0.2],\n",
       "       [0. , 0. , 0. ],\n",
       "       [0. , 0. , 0. ],\n",
       "       [0. , 0. , 0. ],\n",
       "       [0. , 0.8, 0. ],\n",
       "       [0.1, 0.5, 0. ],\n",
       "       [0. , 0. , 0. ],\n",
       "       [0. , 0. , 0. ]])"
      ]
     },
     "execution_count": 17,
     "metadata": {},
     "output_type": "execute_result"
    }
   ],
   "source": [
    "dag.round(1)"
   ]
  },
  {
   "cell_type": "code",
   "execution_count": null,
   "id": "6d8e5149",
   "metadata": {},
   "outputs": [],
   "source": []
  }
 ],
 "metadata": {
  "kernelspec": {
   "display_name": "Python 3 (ipykernel)",
   "language": "python",
   "name": "python3"
  },
  "language_info": {
   "codemirror_mode": {
    "name": "ipython",
    "version": 3
   },
   "file_extension": ".py",
   "mimetype": "text/x-python",
   "name": "python",
   "nbconvert_exporter": "python",
   "pygments_lexer": "ipython3",
   "version": "3.11.1"
  }
 },
 "nbformat": 4,
 "nbformat_minor": 5
}
