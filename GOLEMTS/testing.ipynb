{
 "cells": [
  {
   "cell_type": "code",
   "execution_count": 1,
   "metadata": {},
   "outputs": [],
   "source": [
    "import numpy as np\n",
    "import matplotlib.pyplot as plt"
   ]
  },
  {
   "cell_type": "code",
   "execution_count": null,
   "metadata": {},
   "outputs": [],
   "source": []
  },
  {
   "cell_type": "code",
   "execution_count": null,
   "metadata": {},
   "outputs": [],
   "source": []
  },
  {
   "cell_type": "code",
   "execution_count": null,
   "metadata": {},
   "outputs": [],
   "source": []
  },
  {
   "cell_type": "code",
   "execution_count": 2,
   "metadata": {},
   "outputs": [],
   "source": [
    "from model import GolemTS\n",
    "from generate_data import SyntheticDataset"
   ]
  },
  {
   "cell_type": "code",
   "execution_count": 11,
   "metadata": {},
   "outputs": [],
   "source": [
    "import torch\n",
    "device = torch.device(\"cuda:0\" if torch.cuda.is_available() else \"cpu\")\n"
   ]
  },
  {
   "cell_type": "code",
   "execution_count": 18,
   "metadata": {},
   "outputs": [
    {
     "data": {
      "text/plain": [
       "device(type='cuda', index=0)"
      ]
     },
     "execution_count": 18,
     "metadata": {},
     "output_type": "execute_result"
    }
   ],
   "source": [
    "device"
   ]
  },
  {
   "cell_type": "code",
   "execution_count": 15,
   "metadata": {},
   "outputs": [],
   "source": [
    "d = 100\n",
    "p = 1\n",
    "n = 1000\n",
    "\n",
    "A_init = np.random.randn((p+1) *d, d)\n",
    "dag_obj = SyntheticDataset(n=n, d=d, p=p, B_scale=1.0, graph_type='ER', degree=2, A_scale=1.0, noise_type='NV')\n",
    "model = GolemTS(n=n, d=d, p=p, Y=dag_obj.Y, lambda_1=1.5e-2, lambda_2=5.0, A_init=None, ev=False, lr=3e-3, lambda_3=2.0, device=device)"
   ]
  },
  {
   "cell_type": "code",
   "execution_count": 16,
   "metadata": {},
   "outputs": [],
   "source": [
    "model = model.to(device)"
   ]
  },
  {
   "cell_type": "code",
   "execution_count": 19,
   "metadata": {
    "scrolled": true
   },
   "outputs": [
    {
     "name": "stdout",
     "output_type": "stream",
     "text": [
      "likelihood: 585.6237182617188\n",
      "Score: 614.6190185546875\n",
      "likelihood: 585.6263427734375\n",
      "Score: 609.7194213867188\n",
      "likelihood: 585.6145629882812\n",
      "Score: 610.2582397460938\n",
      "likelihood: 585.5970458984375\n",
      "Score: 613.355712890625\n",
      "likelihood: 585.6082153320312\n",
      "Score: 609.2590942382812\n",
      "likelihood: 585.598388671875\n",
      "Score: 609.88037109375\n",
      "likelihood: 585.58984375\n",
      "Score: 612.5086059570312\n",
      "likelihood: 585.6053466796875\n",
      "Score: 608.9736328125\n",
      "likelihood: 585.615234375\n",
      "Score: 609.49658203125\n",
      "likelihood: 585.6016235351562\n",
      "Score: 611.9779052734375\n",
      "likelihood: 585.5851440429688\n",
      "Score: 608.7960815429688\n",
      "likelihood: 585.5885620117188\n",
      "Score: 609.2799072265625\n",
      "likelihood: 585.580322265625\n",
      "Score: 611.5451049804688\n",
      "likelihood: 585.604736328125\n",
      "Score: 608.6680908203125\n",
      "likelihood: 585.6049194335938\n",
      "Score: 609.2330322265625\n",
      "likelihood: 585.5849609375\n",
      "Score: 611.23486328125\n",
      "likelihood: 585.6051635742188\n",
      "Score: 608.4627075195312\n",
      "likelihood: 585.5795288085938\n",
      "Score: 609.0487060546875\n",
      "likelihood: 585.5863037109375\n",
      "Score: 610.88525390625\n",
      "likelihood: 585.576416015625\n",
      "Score: 608.4581909179688\n",
      "likelihood: 585.2115478515625\n",
      "Score: 608.789306640625\n",
      "likelihood: 584.5402221679688\n",
      "Score: 610.3673706054688\n",
      "likelihood: 584.5156860351562\n",
      "Score: 608.1544799804688\n",
      "likelihood: 584.4945678710938\n",
      "Score: 608.4100952148438\n",
      "likelihood: 584.5097045898438\n",
      "Score: 610.2181396484375\n",
      "likelihood: 584.5046997070312\n",
      "Score: 608.3583984375\n",
      "likelihood: 584.50048828125\n",
      "Score: 608.5233154296875\n",
      "likelihood: 584.50732421875\n",
      "Score: 609.93310546875\n",
      "likelihood: 584.5047607421875\n",
      "Score: 608.0841064453125\n",
      "likelihood: 584.4957885742188\n",
      "Score: 608.4005737304688\n",
      "likelihood: 584.4901123046875\n",
      "Score: 609.7487182617188\n",
      "likelihood: 584.4933471679688\n",
      "Score: 607.919189453125\n",
      "likelihood: 584.5013427734375\n",
      "Score: 608.27734375\n",
      "likelihood: 584.4981689453125\n",
      "Score: 609.51171875\n",
      "likelihood: 584.495361328125\n",
      "Score: 607.989013671875\n",
      "likelihood: 584.503173828125\n",
      "Score: 608.1104125976562\n",
      "likelihood: 584.4878540039062\n",
      "Score: 609.4281616210938\n",
      "likelihood: 584.5062255859375\n",
      "Score: 607.9290771484375\n",
      "likelihood: 584.494873046875\n",
      "Score: 608.1109008789062\n",
      "likelihood: 584.4952392578125\n",
      "Score: 609.1448974609375\n",
      "likelihood: 584.4945068359375\n",
      "Score: 607.8551025390625\n",
      "likelihood: 584.5012817382812\n",
      "Score: 607.9977416992188\n",
      "likelihood: 584.5301513671875\n",
      "Score: 609.0802001953125\n",
      "likelihood: 584.5009155273438\n",
      "Score: 607.6737060546875\n",
      "likelihood: 584.5026245117188\n",
      "Score: 607.9632568359375\n",
      "likelihood: 584.50244140625\n",
      "Score: 609.0015869140625\n",
      "likelihood: 584.5008544921875\n",
      "Score: 607.69873046875\n",
      "likelihood: 584.5034790039062\n",
      "Score: 607.9341430664062\n",
      "likelihood: 584.5032348632812\n",
      "Score: 608.712646484375\n",
      "likelihood: 584.4810180664062\n",
      "Score: 607.5440063476562\n",
      "likelihood: 584.510498046875\n",
      "Score: 607.9088134765625\n",
      "likelihood: 584.486083984375\n",
      "Score: 608.6845092773438\n",
      "likelihood: 584.4998168945312\n",
      "Score: 607.718017578125\n",
      "likelihood: 584.5070190429688\n",
      "Score: 607.7985229492188\n",
      "likelihood: 584.485107421875\n",
      "Score: 608.4915161132812\n",
      "likelihood: 584.5020751953125\n",
      "Score: 607.6812133789062\n",
      "likelihood: 584.4925537109375\n",
      "Score: 607.7105102539062\n",
      "likelihood: 584.5011596679688\n",
      "Score: 608.4793090820312\n",
      "likelihood: 584.5114135742188\n",
      "Score: 607.4674072265625\n",
      "likelihood: 584.5111694335938\n",
      "Score: 607.7479248046875\n",
      "likelihood: 584.49951171875\n",
      "Score: 608.3546142578125\n",
      "likelihood: 584.4989624023438\n",
      "Score: 607.502197265625\n",
      "likelihood: 584.4918823242188\n",
      "Score: 607.8095703125\n",
      "likelihood: 584.501708984375\n",
      "Score: 608.275390625\n",
      "likelihood: 584.4886474609375\n",
      "Score: 607.4971313476562\n",
      "likelihood: 584.5023193359375\n",
      "Score: 607.541015625\n",
      "likelihood: 584.4857177734375\n",
      "Score: 608.2471313476562\n"
     ]
    },
    {
     "ename": "KeyboardInterrupt",
     "evalue": "",
     "output_type": "error",
     "traceback": [
      "\u001b[1;31m---------------------------------------------------------------------------\u001b[0m",
      "\u001b[1;31mKeyboardInterrupt\u001b[0m                         Traceback (most recent call last)",
      "Cell \u001b[1;32mIn[19], line 1\u001b[0m\n\u001b[1;32m----> 1\u001b[0m get_ipython()\u001b[38;5;241m.\u001b[39mrun_cell_magic(\u001b[38;5;124m'\u001b[39m\u001b[38;5;124mtimeit\u001b[39m\u001b[38;5;124m'\u001b[39m, \u001b[38;5;124m'\u001b[39m\u001b[38;5;124m-n 1 -r 1\u001b[39m\u001b[38;5;124m'\u001b[39m, \u001b[38;5;124m'\u001b[39m\u001b[38;5;124mimport trainer\u001b[39m\u001b[38;5;130;01m\\n\u001b[39;00m\u001b[38;5;124mlikes, evs = trainer.train(model, dag_obj.Y, epochs=50_000, warmup_epochs=20_000, log=True, device=device, es_tol=4e-5)\u001b[39m\u001b[38;5;130;01m\\n\u001b[39;00m\u001b[38;5;124m'\u001b[39m)\n",
      "File \u001b[1;32m~\\anaconda3\\Lib\\site-packages\\IPython\\core\\interactiveshell.py:2517\u001b[0m, in \u001b[0;36mInteractiveShell.run_cell_magic\u001b[1;34m(self, magic_name, line, cell)\u001b[0m\n\u001b[0;32m   2515\u001b[0m \u001b[38;5;28;01mwith\u001b[39;00m \u001b[38;5;28mself\u001b[39m\u001b[38;5;241m.\u001b[39mbuiltin_trap:\n\u001b[0;32m   2516\u001b[0m     args \u001b[38;5;241m=\u001b[39m (magic_arg_s, cell)\n\u001b[1;32m-> 2517\u001b[0m     result \u001b[38;5;241m=\u001b[39m fn(\u001b[38;5;241m*\u001b[39margs, \u001b[38;5;241m*\u001b[39m\u001b[38;5;241m*\u001b[39mkwargs)\n\u001b[0;32m   2519\u001b[0m \u001b[38;5;66;03m# The code below prevents the output from being displayed\u001b[39;00m\n\u001b[0;32m   2520\u001b[0m \u001b[38;5;66;03m# when using magics with decorator @output_can_be_silenced\u001b[39;00m\n\u001b[0;32m   2521\u001b[0m \u001b[38;5;66;03m# when the last Python token in the expression is a ';'.\u001b[39;00m\n\u001b[0;32m   2522\u001b[0m \u001b[38;5;28;01mif\u001b[39;00m \u001b[38;5;28mgetattr\u001b[39m(fn, magic\u001b[38;5;241m.\u001b[39mMAGIC_OUTPUT_CAN_BE_SILENCED, \u001b[38;5;28;01mFalse\u001b[39;00m):\n",
      "File \u001b[1;32m~\\anaconda3\\Lib\\site-packages\\IPython\\core\\magics\\execution.py:1189\u001b[0m, in \u001b[0;36mExecutionMagics.timeit\u001b[1;34m(self, line, cell, local_ns)\u001b[0m\n\u001b[0;32m   1186\u001b[0m         \u001b[38;5;28;01mif\u001b[39;00m time_number \u001b[38;5;241m>\u001b[39m\u001b[38;5;241m=\u001b[39m \u001b[38;5;241m0.2\u001b[39m:\n\u001b[0;32m   1187\u001b[0m             \u001b[38;5;28;01mbreak\u001b[39;00m\n\u001b[1;32m-> 1189\u001b[0m all_runs \u001b[38;5;241m=\u001b[39m timer\u001b[38;5;241m.\u001b[39mrepeat(repeat, number)\n\u001b[0;32m   1190\u001b[0m best \u001b[38;5;241m=\u001b[39m \u001b[38;5;28mmin\u001b[39m(all_runs) \u001b[38;5;241m/\u001b[39m number\n\u001b[0;32m   1191\u001b[0m worst \u001b[38;5;241m=\u001b[39m \u001b[38;5;28mmax\u001b[39m(all_runs) \u001b[38;5;241m/\u001b[39m number\n",
      "File \u001b[1;32m~\\anaconda3\\Lib\\timeit.py:208\u001b[0m, in \u001b[0;36mTimer.repeat\u001b[1;34m(self, repeat, number)\u001b[0m\n\u001b[0;32m    206\u001b[0m r \u001b[38;5;241m=\u001b[39m []\n\u001b[0;32m    207\u001b[0m \u001b[38;5;28;01mfor\u001b[39;00m i \u001b[38;5;129;01min\u001b[39;00m \u001b[38;5;28mrange\u001b[39m(repeat):\n\u001b[1;32m--> 208\u001b[0m     t \u001b[38;5;241m=\u001b[39m \u001b[38;5;28mself\u001b[39m\u001b[38;5;241m.\u001b[39mtimeit(number)\n\u001b[0;32m    209\u001b[0m     r\u001b[38;5;241m.\u001b[39mappend(t)\n\u001b[0;32m    210\u001b[0m \u001b[38;5;28;01mreturn\u001b[39;00m r\n",
      "File \u001b[1;32m~\\anaconda3\\Lib\\site-packages\\IPython\\core\\magics\\execution.py:173\u001b[0m, in \u001b[0;36mTimer.timeit\u001b[1;34m(self, number)\u001b[0m\n\u001b[0;32m    171\u001b[0m gc\u001b[38;5;241m.\u001b[39mdisable()\n\u001b[0;32m    172\u001b[0m \u001b[38;5;28;01mtry\u001b[39;00m:\n\u001b[1;32m--> 173\u001b[0m     timing \u001b[38;5;241m=\u001b[39m \u001b[38;5;28mself\u001b[39m\u001b[38;5;241m.\u001b[39minner(it, \u001b[38;5;28mself\u001b[39m\u001b[38;5;241m.\u001b[39mtimer)\n\u001b[0;32m    174\u001b[0m \u001b[38;5;28;01mfinally\u001b[39;00m:\n\u001b[0;32m    175\u001b[0m     \u001b[38;5;28;01mif\u001b[39;00m gcold:\n",
      "File \u001b[1;32m<magic-timeit>:2\u001b[0m, in \u001b[0;36minner\u001b[1;34m(_it, _timer)\u001b[0m\n",
      "File \u001b[1;32m~\\Documents\\Github\\dsc180ProjectB\\GOLEMTS\\trainer.py:22\u001b[0m, in \u001b[0;36mtrain\u001b[1;34m(model, Y, device, epochs, log, warmup_epochs, center_data, es, es_tol)\u001b[0m\n\u001b[0;32m     19\u001b[0m \u001b[38;5;28;01mif\u001b[39;00m i \u001b[38;5;241m>\u001b[39m \u001b[38;5;241m0\u001b[39m \u001b[38;5;129;01mand\u001b[39;00m i \u001b[38;5;241m==\u001b[39m warmup_epochs:\n\u001b[0;32m     20\u001b[0m     model\u001b[38;5;241m.\u001b[39mev \u001b[38;5;241m=\u001b[39m \u001b[38;5;28;01mFalse\u001b[39;00m\n\u001b[1;32m---> 22\u001b[0m score, likelihood, ev_res \u001b[38;5;241m=\u001b[39m train_step(model, Y,epoch\u001b[38;5;241m=\u001b[39mi)\n\u001b[0;32m     23\u001b[0m \u001b[38;5;28;01mif\u001b[39;00m i \u001b[38;5;241m%\u001b[39m \u001b[38;5;241m100\u001b[39m \u001b[38;5;241m==\u001b[39m \u001b[38;5;241m0\u001b[39m:\n\u001b[0;32m     24\u001b[0m     \u001b[38;5;66;03m# print(score)\u001b[39;00m\n\u001b[0;32m     25\u001b[0m     \u001b[38;5;28;01mif\u001b[39;00m log:\n",
      "File \u001b[1;32m~\\Documents\\Github\\dsc180ProjectB\\GOLEMTS\\trainer.py:56\u001b[0m, in \u001b[0;36mtrain_step\u001b[1;34m(model, Y, epoch)\u001b[0m\n\u001b[0;32m     53\u001b[0m \u001b[38;5;28;01mdef\u001b[39;00m \u001b[38;5;21mtrain_step\u001b[39m(model , Y, epoch):\n\u001b[0;32m     54\u001b[0m     model\u001b[38;5;241m.\u001b[39mtrain_op\u001b[38;5;241m.\u001b[39mzero_grad()\n\u001b[1;32m---> 56\u001b[0m     score, likelihood, ev_res  \u001b[38;5;241m=\u001b[39m model\u001b[38;5;241m.\u001b[39mrun(Y)\n\u001b[0;32m     57\u001b[0m     score\u001b[38;5;241m.\u001b[39mbackward()\n\u001b[0;32m     58\u001b[0m     model\u001b[38;5;241m.\u001b[39mtrain_op\u001b[38;5;241m.\u001b[39mstep()\n",
      "File \u001b[1;32m~\\Documents\\Github\\dsc180ProjectB\\GOLEMTS\\model.py:103\u001b[0m, in \u001b[0;36mGolemTS.run\u001b[1;34m(self, Y)\u001b[0m\n\u001b[0;32m    101\u001b[0m \u001b[38;5;28mself\u001b[39m\u001b[38;5;241m.\u001b[39mL1_penalty_E \u001b[38;5;241m=\u001b[39m \u001b[38;5;28mself\u001b[39m\u001b[38;5;241m.\u001b[39m_compute_L1_penalty_E()\n\u001b[0;32m    102\u001b[0m \u001b[38;5;28mself\u001b[39m\u001b[38;5;241m.\u001b[39mL1_penalty_A \u001b[38;5;241m=\u001b[39m \u001b[38;5;28mself\u001b[39m\u001b[38;5;241m.\u001b[39m_compute_L1_penalty_A()\n\u001b[1;32m--> 103\u001b[0m \u001b[38;5;28mself\u001b[39m\u001b[38;5;241m.\u001b[39mh \u001b[38;5;241m=\u001b[39m \u001b[38;5;28mself\u001b[39m\u001b[38;5;241m.\u001b[39m_compute_h()\n\u001b[0;32m    104\u001b[0m \u001b[38;5;28mself\u001b[39m\u001b[38;5;241m.\u001b[39mscore \u001b[38;5;241m=\u001b[39m \u001b[38;5;28mself\u001b[39m\u001b[38;5;241m.\u001b[39mlikelihood \u001b[38;5;241m+\u001b[39m \u001b[38;5;28mself\u001b[39m\u001b[38;5;241m.\u001b[39mlambda_1 \u001b[38;5;241m*\u001b[39m \u001b[38;5;28mself\u001b[39m\u001b[38;5;241m.\u001b[39mL1_penalty_A \u001b[38;5;241m+\u001b[39m \u001b[38;5;28mself\u001b[39m\u001b[38;5;241m.\u001b[39mlambda_2 \u001b[38;5;241m*\u001b[39m \u001b[38;5;28mself\u001b[39m\u001b[38;5;241m.\u001b[39mh \u001b[38;5;241m+\u001b[39m \u001b[38;5;28mself\u001b[39m\u001b[38;5;241m.\u001b[39mlambda_3 \u001b[38;5;241m*\u001b[39m \u001b[38;5;28mself\u001b[39m\u001b[38;5;241m.\u001b[39mL1_penalty_E\n\u001b[0;32m    105\u001b[0m \u001b[38;5;28;01mreturn\u001b[39;00m \u001b[38;5;28mself\u001b[39m\u001b[38;5;241m.\u001b[39mscore, \u001b[38;5;28mself\u001b[39m\u001b[38;5;241m.\u001b[39mlikelihood, \u001b[38;5;28mself\u001b[39m\u001b[38;5;241m.\u001b[39mev_res\n",
      "File \u001b[1;32m~\\Documents\\Github\\dsc180ProjectB\\GOLEMTS\\model.py:177\u001b[0m, in \u001b[0;36mGolemTS._compute_h\u001b[1;34m(self)\u001b[0m\n\u001b[0;32m    171\u001b[0m \u001b[38;5;28;01mdef\u001b[39;00m \u001b[38;5;21m_compute_h\u001b[39m(\u001b[38;5;28mself\u001b[39m):\n\u001b[0;32m    172\u001b[0m \u001b[38;5;250m    \u001b[39m\u001b[38;5;124;03m\"\"\"Compute DAG penalty.\u001b[39;00m\n\u001b[0;32m    173\u001b[0m \n\u001b[0;32m    174\u001b[0m \u001b[38;5;124;03m    Returns:\u001b[39;00m\n\u001b[0;32m    175\u001b[0m \u001b[38;5;124;03m        tf.Tensor: DAG penalty term (scalar-valued).\u001b[39;00m\n\u001b[0;32m    176\u001b[0m \u001b[38;5;124;03m    \"\"\"\u001b[39;00m\n\u001b[1;32m--> 177\u001b[0m     \u001b[38;5;28;01mreturn\u001b[39;00m torch\u001b[38;5;241m.\u001b[39mtrace(torch\u001b[38;5;241m.\u001b[39mlinalg\u001b[38;5;241m.\u001b[39mmatrix_exp(\u001b[38;5;28mself\u001b[39m\u001b[38;5;241m.\u001b[39mget_W() \u001b[38;5;241m*\u001b[39m \u001b[38;5;28mself\u001b[39m\u001b[38;5;241m.\u001b[39mget_W())) \u001b[38;5;241m-\u001b[39m \u001b[38;5;28mself\u001b[39m\u001b[38;5;241m.\u001b[39md\n",
      "\u001b[1;31mKeyboardInterrupt\u001b[0m: "
     ]
    }
   ],
   "source": [
    "%%timeit -n 1 -r 1\n",
    "import trainer\n",
    "likes, evs = trainer.train(model, dag_obj.Y, epochs=50_000, warmup_epochs=20_000, log=True, device=device, es_tol=4e-5)"
   ]
  },
  {
   "cell_type": "code",
   "execution_count": null,
   "metadata": {},
   "outputs": [],
   "source": []
  },
  {
   "cell_type": "code",
   "execution_count": null,
   "metadata": {},
   "outputs": [],
   "source": []
  },
  {
   "cell_type": "code",
   "execution_count": null,
   "metadata": {},
   "outputs": [],
   "source": []
  },
  {
   "cell_type": "code",
   "execution_count": 14,
   "metadata": {},
   "outputs": [],
   "source": [
    "from model_cpu import GolemTS as GolemTS_cpu\n",
    "from generate_data import SyntheticDataset"
   ]
  },
  {
   "cell_type": "code",
   "execution_count": null,
   "metadata": {},
   "outputs": [],
   "source": []
  },
  {
   "cell_type": "code",
   "execution_count": 15,
   "metadata": {},
   "outputs": [],
   "source": [
    "d = 10\n",
    "p = 1\n",
    "n = 1000\n",
    "\n",
    "dag_obj = SyntheticDataset(n=n, d=d, p=p, B_scale=1.0, graph_type='ER', degree=2, A_scale=1.0, noise_type='NV')\n",
    "model = GolemTS_cpu(n=n, d=d, p=p, Y=dag_obj.Y, lambda_1=1.5e-2, lambda_2=5.0, A_init=None, ev=False, lr=3e-3, lambda_3=2.0)"
   ]
  },
  {
   "cell_type": "code",
   "execution_count": null,
   "metadata": {},
   "outputs": [],
   "source": []
  },
  {
   "cell_type": "code",
   "execution_count": null,
   "metadata": {},
   "outputs": [],
   "source": []
  },
  {
   "cell_type": "code",
   "execution_count": 16,
   "metadata": {
    "scrolled": true
   },
   "outputs": [
    {
     "name": "stdout",
     "output_type": "stream",
     "text": [
      "likelihood: 60.01976776123047\n",
      "Score: 60.01976776123047\n",
      "nan\n"
     ]
    },
    {
     "name": "stderr",
     "output_type": "stream",
     "text": [
      "/home/vpotloff/private/dsc180ProjectB/GOLEMTS/trainer_cpu.py:25: RuntimeWarning: invalid value encountered in scalar divide\n",
      "  print((score.detach().numpy() - scores[-1]) / scores[-1])\n",
      "/home/vpotloff/private/dsc180ProjectB/GOLEMTS/trainer_cpu.py:26: RuntimeWarning: invalid value encountered in scalar divide\n",
      "  if es and np.abs(score.detach().numpy() - scores[-1]) / scores[-1] < es_tol:\n"
     ]
    },
    {
     "ename": "KeyboardInterrupt",
     "evalue": "",
     "output_type": "error",
     "traceback": [
      "\u001b[0;31m---------------------------------------------------------------------------\u001b[0m",
      "\u001b[0;31mKeyboardInterrupt\u001b[0m                         Traceback (most recent call last)",
      "\u001b[0;32m/tmp/ipykernel_19617/952631699.py\u001b[0m in \u001b[0;36m<module>\u001b[0;34m\u001b[0m\n\u001b[1;32m      1\u001b[0m \u001b[0;31m# %%timeit -n 1 -r 1\u001b[0m\u001b[0;34m\u001b[0m\u001b[0;34m\u001b[0m\u001b[0;34m\u001b[0m\u001b[0m\n\u001b[1;32m      2\u001b[0m \u001b[0;32mimport\u001b[0m \u001b[0mtrainer_cpu\u001b[0m\u001b[0;34m\u001b[0m\u001b[0;34m\u001b[0m\u001b[0m\n\u001b[0;32m----> 3\u001b[0;31m \u001b[0mlikes\u001b[0m\u001b[0;34m,\u001b[0m \u001b[0mevs\u001b[0m \u001b[0;34m=\u001b[0m \u001b[0mtrainer_cpu\u001b[0m\u001b[0;34m.\u001b[0m\u001b[0mtrain\u001b[0m\u001b[0;34m(\u001b[0m\u001b[0mmodel\u001b[0m\u001b[0;34m,\u001b[0m \u001b[0mdag_obj\u001b[0m\u001b[0;34m.\u001b[0m\u001b[0mY\u001b[0m\u001b[0;34m,\u001b[0m \u001b[0mepochs\u001b[0m\u001b[0;34m=\u001b[0m\u001b[0;36m50_000\u001b[0m\u001b[0;34m,\u001b[0m \u001b[0mwarmup_epochs\u001b[0m\u001b[0;34m=\u001b[0m\u001b[0;36m20_000\u001b[0m\u001b[0;34m,\u001b[0m \u001b[0mlog\u001b[0m\u001b[0;34m=\u001b[0m\u001b[0;32mTrue\u001b[0m\u001b[0;34m)\u001b[0m\u001b[0;34m\u001b[0m\u001b[0;34m\u001b[0m\u001b[0m\n\u001b[0m",
      "\u001b[0;32m~/private/dsc180ProjectB/GOLEMTS/trainer_cpu.py\u001b[0m in \u001b[0;36mtrain\u001b[0;34m(model, Y, epochs, log, warmup_epochs, center_data, es, es_tol)\u001b[0m\n\u001b[1;32m     16\u001b[0m             \u001b[0mmodel\u001b[0m\u001b[0;34m.\u001b[0m\u001b[0mev\u001b[0m \u001b[0;34m=\u001b[0m \u001b[0;32mFalse\u001b[0m\u001b[0;34m\u001b[0m\u001b[0;34m\u001b[0m\u001b[0m\n\u001b[1;32m     17\u001b[0m \u001b[0;34m\u001b[0m\u001b[0m\n\u001b[0;32m---> 18\u001b[0;31m         \u001b[0mscore\u001b[0m\u001b[0;34m,\u001b[0m \u001b[0mlikelihood\u001b[0m\u001b[0;34m,\u001b[0m \u001b[0mev_res\u001b[0m \u001b[0;34m=\u001b[0m \u001b[0mtrain_step\u001b[0m\u001b[0;34m(\u001b[0m\u001b[0mmodel\u001b[0m\u001b[0;34m,\u001b[0m \u001b[0mY\u001b[0m\u001b[0;34m,\u001b[0m\u001b[0mepoch\u001b[0m\u001b[0;34m=\u001b[0m\u001b[0mi\u001b[0m\u001b[0;34m)\u001b[0m\u001b[0;34m\u001b[0m\u001b[0;34m\u001b[0m\u001b[0m\n\u001b[0m\u001b[1;32m     19\u001b[0m         \u001b[0;32mif\u001b[0m \u001b[0mi\u001b[0m \u001b[0;34m%\u001b[0m \u001b[0;36m100\u001b[0m \u001b[0;34m==\u001b[0m \u001b[0;36m0\u001b[0m\u001b[0;34m:\u001b[0m\u001b[0;34m\u001b[0m\u001b[0;34m\u001b[0m\u001b[0m\n\u001b[1;32m     20\u001b[0m             \u001b[0;31m# print(score)\u001b[0m\u001b[0;34m\u001b[0m\u001b[0;34m\u001b[0m\u001b[0;34m\u001b[0m\u001b[0m\n",
      "\u001b[0;32m~/private/dsc180ProjectB/GOLEMTS/trainer_cpu.py\u001b[0m in \u001b[0;36mtrain_step\u001b[0;34m(model, Y, epoch)\u001b[0m\n\u001b[1;32m     51\u001b[0m \u001b[0;34m\u001b[0m\u001b[0m\n\u001b[1;32m     52\u001b[0m     \u001b[0mscore\u001b[0m\u001b[0;34m,\u001b[0m \u001b[0mlikelihood\u001b[0m\u001b[0;34m,\u001b[0m \u001b[0mev_res\u001b[0m  \u001b[0;34m=\u001b[0m \u001b[0mmodel\u001b[0m\u001b[0;34m.\u001b[0m\u001b[0mrun\u001b[0m\u001b[0;34m(\u001b[0m\u001b[0mY\u001b[0m\u001b[0;34m)\u001b[0m\u001b[0;34m\u001b[0m\u001b[0;34m\u001b[0m\u001b[0m\n\u001b[0;32m---> 53\u001b[0;31m     \u001b[0mscore\u001b[0m\u001b[0;34m.\u001b[0m\u001b[0mbackward\u001b[0m\u001b[0;34m(\u001b[0m\u001b[0;34m)\u001b[0m\u001b[0;34m\u001b[0m\u001b[0;34m\u001b[0m\u001b[0m\n\u001b[0m\u001b[1;32m     54\u001b[0m     \u001b[0mmodel\u001b[0m\u001b[0;34m.\u001b[0m\u001b[0mtrain_op\u001b[0m\u001b[0;34m.\u001b[0m\u001b[0mstep\u001b[0m\u001b[0;34m(\u001b[0m\u001b[0;34m)\u001b[0m\u001b[0;34m\u001b[0m\u001b[0;34m\u001b[0m\u001b[0m\n\u001b[1;32m     55\u001b[0m \u001b[0;34m\u001b[0m\u001b[0m\n",
      "\u001b[0;32m~/.local/lib/python3.9/site-packages/torch/_tensor.py\u001b[0m in \u001b[0;36mbackward\u001b[0;34m(self, gradient, retain_graph, create_graph, inputs)\u001b[0m\n\u001b[1;32m    490\u001b[0m                 \u001b[0minputs\u001b[0m\u001b[0;34m=\u001b[0m\u001b[0minputs\u001b[0m\u001b[0;34m,\u001b[0m\u001b[0;34m\u001b[0m\u001b[0;34m\u001b[0m\u001b[0m\n\u001b[1;32m    491\u001b[0m             )\n\u001b[0;32m--> 492\u001b[0;31m         torch.autograd.backward(\n\u001b[0m\u001b[1;32m    493\u001b[0m             \u001b[0mself\u001b[0m\u001b[0;34m,\u001b[0m \u001b[0mgradient\u001b[0m\u001b[0;34m,\u001b[0m \u001b[0mretain_graph\u001b[0m\u001b[0;34m,\u001b[0m \u001b[0mcreate_graph\u001b[0m\u001b[0;34m,\u001b[0m \u001b[0minputs\u001b[0m\u001b[0;34m=\u001b[0m\u001b[0minputs\u001b[0m\u001b[0;34m\u001b[0m\u001b[0;34m\u001b[0m\u001b[0m\n\u001b[1;32m    494\u001b[0m         )\n",
      "\u001b[0;32m~/.local/lib/python3.9/site-packages/torch/autograd/__init__.py\u001b[0m in \u001b[0;36mbackward\u001b[0;34m(tensors, grad_tensors, retain_graph, create_graph, grad_variables, inputs)\u001b[0m\n\u001b[1;32m    249\u001b[0m     \u001b[0;31m# some Python versions print out the first line of a multi-line function\u001b[0m\u001b[0;34m\u001b[0m\u001b[0;34m\u001b[0m\u001b[0;34m\u001b[0m\u001b[0m\n\u001b[1;32m    250\u001b[0m     \u001b[0;31m# calls in the traceback and some print out the last line\u001b[0m\u001b[0;34m\u001b[0m\u001b[0;34m\u001b[0m\u001b[0;34m\u001b[0m\u001b[0m\n\u001b[0;32m--> 251\u001b[0;31m     Variable._execution_engine.run_backward(  # Calls into the C++ engine to run the backward pass\n\u001b[0m\u001b[1;32m    252\u001b[0m         \u001b[0mtensors\u001b[0m\u001b[0;34m,\u001b[0m\u001b[0;34m\u001b[0m\u001b[0;34m\u001b[0m\u001b[0m\n\u001b[1;32m    253\u001b[0m         \u001b[0mgrad_tensors_\u001b[0m\u001b[0;34m,\u001b[0m\u001b[0;34m\u001b[0m\u001b[0;34m\u001b[0m\u001b[0m\n",
      "\u001b[0;31mKeyboardInterrupt\u001b[0m: "
     ]
    }
   ],
   "source": [
    "# %%timeit -n 1 -r 1\n",
    "import trainer_cpu\n",
    "likes, evs = trainer_cpu.train(model, dag_obj.Y, epochs=50_000, warmup_epochs=20_000, log=True)"
   ]
  },
  {
   "cell_type": "code",
   "execution_count": null,
   "metadata": {},
   "outputs": [],
   "source": [
    "plt.plot(evs)"
   ]
  },
  {
   "cell_type": "code",
   "execution_count": 8,
   "metadata": {},
   "outputs": [
    {
     "data": {
      "text/plain": [
       "[<matplotlib.lines.Line2D at 0x7f7a1a106cd0>]"
      ]
     },
     "execution_count": 8,
     "metadata": {},
     "output_type": "execute_result"
    },
    {
     "data": {
      "image/png": "[encoded data removed]",
      "text/plain": [
       "<Figure size 432x288 with 1 Axes>"
      ]
     },
     "metadata": {
      "needs_background": "light"
     },
     "output_type": "display_data"
    }
   ],
   "source": [
    "plt.plot(likes)"
   ]
  },
  {
   "cell_type": "code",
   "execution_count": 9,
   "metadata": {},
   "outputs": [
    {
     "data": {
      "text/plain": [
       "<matplotlib.image.AxesImage at 0x7f7a1a0d6940>"
      ]
     },
     "execution_count": 9,
     "metadata": {},
     "output_type": "execute_result"
    },
    {
     "data": {
      "image/png": "[encoded data removed]",
      "text/plain": [
       "<Figure size 432x288 with 1 Axes>"
      ]
     },
     "metadata": {
      "needs_background": "light"
     },
     "output_type": "display_data"
    }
   ],
   "source": [
    "plt.imshow(dag_obj.A)"
   ]
  },
  {
   "cell_type": "code",
   "execution_count": 10,
   "metadata": {},
   "outputs": [
    {
     "data": {
      "text/plain": [
       "Parameter containing:\n",
       "tensor([[-4.5648e-04,  1.9009e+00,  6.3166e-03, -2.8820e-01, -1.1569e-03,\n",
       "         -3.8173e-01,  1.0149e-01, -9.4786e-05, -9.0875e-05,  1.5926e+00,\n",
       "          9.4582e-04, -2.5788e-04,  2.2632e-04,  3.5531e-04, -1.7945e-04,\n",
       "          2.8386e-04, -3.5493e-04, -5.4775e-04, -7.9934e-05, -7.9855e-04],\n",
       "        [-1.1009e-04,  3.8002e-03,  1.3304e-04, -3.1726e-02, -3.4841e-02,\n",
       "         -4.3203e-02,  1.1942e-02,  1.1496e-03,  3.3884e-05,  1.4077e-02,\n",
       "          1.9358e-04, -5.5175e-04,  1.4297e-04, -5.0423e-04, -2.8422e-04,\n",
       "          3.2523e-04, -4.7859e-04,  3.1236e-04,  3.7704e-04, -3.5630e-05],\n",
       "        [ 5.4623e-05,  7.3315e-01, -5.6658e-03, -1.0144e-03, -1.3820e-04,\n",
       "         -1.6164e+00, -3.3538e-04,  1.5962e-01, -9.0492e-02,  2.2568e-04,\n",
       "         -3.1097e-04, -4.6002e-04, -4.6431e-04, -3.4715e-04, -1.9004e-04,\n",
       "         -2.8186e-04, -1.8879e-04,  2.0693e-04, -8.5380e-04,  3.7061e-04],\n",
       "        [ 6.9320e-05, -1.0570e-04,  3.9369e-02, -1.4211e-03,  2.7836e-04,\n",
       "          1.9228e-02, -2.3108e-04, -1.8311e-04,  2.7094e-04,  1.2062e-02,\n",
       "          7.6581e-05,  3.7500e-04, -3.9306e-04, -1.4328e-04, -5.5465e-04,\n",
       "          5.6146e-04,  3.0106e-04,  7.4459e-04, -1.0981e-04, -4.0082e-04],\n",
       "        [ 1.0761e-03, -2.2939e-04,  2.7836e-04,  8.2605e-03,  2.2143e-02,\n",
       "         -8.3638e-01,  2.0294e-02, -6.7167e-05,  1.7170e-04,  1.6544e-02,\n",
       "         -1.5673e-03,  2.5037e-04,  3.1562e-04, -3.6538e-04, -1.8985e-04,\n",
       "         -1.5024e-04, -2.3951e-04, -4.2292e-04, -1.4736e-04,  8.6824e-04],\n",
       "        [-2.9146e-02,  5.6295e-04,  3.2571e-03,  8.6383e-04, -2.7130e-02,\n",
       "          1.9772e-02, -7.0692e-03, -4.6249e-04,  1.3055e+00, -5.1385e-04,\n",
       "         -1.0299e-04, -4.2280e-04,  2.9000e-04, -1.9250e-04,  4.3218e-05,\n",
       "          2.4205e-04,  6.1298e-04,  1.4898e-04, -3.8501e-04,  1.0876e-03],\n",
       "        [-1.6296e-04,  3.3359e-02,  9.8081e-04,  1.0113e-02,  1.6776e-04,\n",
       "         -7.4515e-05,  6.6950e-04,  2.9052e-02, -1.0540e+00,  8.7400e-03,\n",
       "          2.2807e-04,  7.1604e-04,  6.6830e-04, -7.1977e-04, -7.5829e-04,\n",
       "          1.0227e-03, -8.8972e-04,  9.7575e-05,  3.2464e-05, -7.1596e-04],\n",
       "        [ 1.0238e-03, -2.9234e-03, -4.0334e-04,  2.9448e-04,  1.4669e+00,\n",
       "         -5.9025e-01,  3.1764e-03, -4.3177e-04, -5.3701e-03,  8.3584e-04,\n",
       "         -1.3349e-03,  6.4519e-05,  1.5578e-03,  3.1016e-04,  4.7143e-04,\n",
       "         -9.6111e-04, -9.1988e-04, -5.3497e-04,  6.3933e-04,  3.8115e-04],\n",
       "        [-1.2013e-02,  1.3958e-02,  4.1845e-03,  5.3942e-03, -3.3044e-02,\n",
       "          1.3388e-02, -1.8210e-03, -4.5385e-03,  1.5751e-06, -1.6803e-02,\n",
       "         -1.1393e-04,  4.8373e-04, -3.8058e-04,  7.5764e-04,  5.6366e-04,\n",
       "         -4.3850e-04,  3.6715e-01,  1.1217e-05, -1.1946e-07,  1.0117e-03],\n",
       "        [ 4.1792e-04,  7.3299e-01,  2.9780e-03,  9.2539e-01, -7.6771e-04,\n",
       "         -6.7147e-04,  1.0678e+00,  2.7939e-04, -1.1318e-02,  9.5245e-03,\n",
       "         -4.3479e-04, -6.4176e-04,  4.3582e-04,  3.7439e-04,  2.6315e-04,\n",
       "         -3.5093e-04, -9.2234e-05,  2.7197e-04, -1.1844e-04, -2.5033e-04],\n",
       "        [-1.2472e-02,  2.6183e-02, -1.1219e-04,  1.2343e-02, -2.4829e-02,\n",
       "          4.3664e-01, -6.4404e-04,  4.2293e-01,  1.4854e-03,  2.3185e-04,\n",
       "         -1.0353e-03,  3.4832e-04, -6.5901e-05,  2.2233e-04, -1.5635e-04,\n",
       "          2.3014e-05,  5.0463e-04, -6.9216e-05,  2.2336e-04, -1.9580e-04],\n",
       "        [ 2.6962e-03,  4.0140e-01,  3.7103e-03,  4.2582e-01, -8.5039e-03,\n",
       "         -3.1555e-02, -4.8188e-02,  2.7919e-02,  3.5599e-04, -1.7502e-02,\n",
       "          8.2488e-06, -1.5963e-04,  2.7897e-04, -1.6305e-04,  2.5703e-04,\n",
       "         -2.4686e-04,  8.5559e-04,  5.4548e-05, -2.3980e-04, -5.7828e-04],\n",
       "        [ 3.4413e-02,  9.0882e-03, -3.1450e-01, -1.8290e-02,  4.4235e-04,\n",
       "         -3.7076e-01, -6.8571e-05, -3.1112e-01, -2.6230e-02,  6.3834e-02,\n",
       "         -2.8501e-04,  3.8500e-05, -5.8101e-04,  1.4536e-04,  5.0649e-04,\n",
       "         -9.6940e-04,  2.3103e-04,  8.8157e-05,  8.1121e-04,  8.0674e-05],\n",
       "        [-5.7404e-02,  4.8407e-04,  4.4512e-01,  1.3217e-04,  2.9263e-01,\n",
       "          5.4969e-04,  3.4751e-04, -5.7752e-01, -3.6027e-01,  4.0425e-04,\n",
       "         -5.4463e-04, -1.9211e-04, -3.8568e-04, -4.4909e-04,  2.7526e-05,\n",
       "         -2.9250e-06, -8.4538e-04,  5.2922e-04,  1.9971e-04,  2.1406e-04],\n",
       "        [-5.5812e-02, -4.1536e-04, -3.5828e-02,  5.3193e-02,  1.3816e-02,\n",
       "         -2.0038e-04,  6.6744e-02,  1.3331e-04,  3.8362e-01,  5.2838e-03,\n",
       "         -1.5730e-04,  8.1916e-05, -2.9424e-04,  2.3693e-04, -1.9752e-07,\n",
       "         -2.0683e-04, -3.4066e-04, -1.2849e-04, -2.9282e-04, -4.2932e-06],\n",
       "        [-2.9017e-01, -4.0890e-04, -2.7904e-04, -3.3649e-01,  3.2103e-01,\n",
       "         -1.0399e-02,  5.7148e-04,  2.8665e-04,  4.2363e-01,  4.5768e-02,\n",
       "         -2.2761e-04, -5.3015e-04,  3.5569e-06,  6.0106e-04,  8.1941e-04,\n",
       "         -6.6628e-05,  2.6993e-04,  1.2391e-04, -5.5212e-05,  2.7862e-04],\n",
       "        [ 3.0156e-01,  4.3481e-04,  7.4751e-01, -4.5100e-01,  4.1942e-01,\n",
       "         -1.8430e-01,  4.0606e-01,  7.8640e-01, -9.3153e-02,  4.9882e-02,\n",
       "         -4.8428e-04, -1.2615e-04, -1.2622e-04,  3.8234e-04,  2.9176e-04,\n",
       "          2.4451e-04,  6.9466e-04,  4.4921e-04, -1.0933e-03, -5.3009e-04],\n",
       "        [-2.0259e-03,  7.6932e-04, -3.3072e-01,  1.2355e-02, -4.8933e-01,\n",
       "         -3.3731e-01,  4.0736e-01,  5.2325e-01,  4.6603e-01, -8.7023e-04,\n",
       "         -4.1037e-05,  2.2443e-04,  1.9211e-04,  5.5600e-04, -1.8286e-04,\n",
       "          3.5062e-04,  4.1952e-04, -1.2906e-04, -4.1203e-04, -1.4300e-04],\n",
       "        [ 8.3177e-03, -4.3458e-01, -4.4862e-01, -1.2844e-03,  1.3767e-02,\n",
       "         -3.1996e-01,  5.6281e-03,  1.0269e-01, -3.0904e-02,  2.3589e-02,\n",
       "          2.0200e-05,  1.7210e-04,  1.3222e-04, -3.0978e-05, -3.8358e-06,\n",
       "         -4.8831e-04,  3.2585e-04,  7.1189e-04,  2.5249e-04,  1.0498e-04],\n",
       "        [-2.9998e-04,  5.6909e-03, -5.4317e-03,  8.6232e-03,  4.5004e-01,\n",
       "         -9.4756e-04,  2.9776e-01, -4.8940e-03, -4.6169e-02, -4.6385e-02,\n",
       "         -6.2591e-05,  3.2633e-04, -1.7805e-04,  2.2219e-04,  2.2720e-04,\n",
       "          2.9407e-04, -3.4892e-04, -3.8147e-04, -6.0747e-04, -3.0089e-04]],\n",
       "       device='cuda:0', requires_grad=True)"
      ]
     },
     "execution_count": 10,
     "metadata": {},
     "output_type": "execute_result"
    }
   ],
   "source": [
    "model.B"
   ]
  },
  {
   "cell_type": "code",
   "execution_count": 13,
   "metadata": {},
   "outputs": [
    {
     "data": {
      "text/plain": [
       "<matplotlib.image.AxesImage at 0x7f7a1a03ee80>"
      ]
     },
     "execution_count": 13,
     "metadata": {},
     "output_type": "execute_result"
    },
    {
     "data": {
      "image/png": "[encoded data removed]",
      "text/plain": [
       "<Figure size 432x288 with 1 Axes>"
      ]
     },
     "metadata": {
      "needs_background": "light"
     },
     "output_type": "display_data"
    }
   ],
   "source": [
    "plt.imshow(model.B.cpu().detach().numpy())"
   ]
  },
  {
   "cell_type": "code",
   "execution_count": 24,
   "metadata": {},
   "outputs": [],
   "source": [
    "model_B = model.B.detach().numpy()\n",
    "model_B[np.abs(model_B) < 0.3] = 0"
   ]
  },
  {
   "cell_type": "code",
   "execution_count": 25,
   "metadata": {},
   "outputs": [],
   "source": [
    "import testing_utils"
   ]
  },
  {
   "cell_type": "code",
   "execution_count": 26,
   "metadata": {},
   "outputs": [],
   "source": [
    "model_B = testing_utils.postprocess(model_B)"
   ]
  },
  {
   "cell_type": "code",
   "execution_count": 27,
   "metadata": {},
   "outputs": [
    {
     "data": {
      "text/plain": [
       "<matplotlib.image.AxesImage at 0x177c7a5d0>"
      ]
     },
     "execution_count": 27,
     "metadata": {},
     "output_type": "execute_result"
    },
    {
     "data": {
      "image/png": "[encoded data removed]",
      "text/plain": [
       "<Figure size 640x480 with 1 Axes>"
      ]
     },
     "metadata": {},
     "output_type": "display_data"
    }
   ],
   "source": [
    "plt.imshow(testing_utils.postprocess(model_B) - model_B)"
   ]
  },
  {
   "cell_type": "code",
   "execution_count": 28,
   "metadata": {},
   "outputs": [
    {
     "data": {
      "text/plain": [
       "<matplotlib.image.AxesImage at 0x177d6b010>"
      ]
     },
     "execution_count": 28,
     "metadata": {},
     "output_type": "execute_result"
    },
    {
     "data": {
      "image/png": "[encoded data removed]",
      "text/plain": [
       "<Figure size 640x480 with 1 Axes>"
      ]
     },
     "metadata": {},
     "output_type": "display_data"
    }
   ],
   "source": [
    "plt.imshow(model_B)"
   ]
  },
  {
   "cell_type": "code",
   "execution_count": 29,
   "metadata": {},
   "outputs": [
    {
     "data": {
      "text/plain": [
       "array([0., 0., 0., 0., 0., 0., 0., 0., 0., 0., 0., 0., 0., 0., 0., 0., 0.,\n",
       "       0., 0., 0.], dtype=float32)"
      ]
     },
     "execution_count": 29,
     "metadata": {},
     "output_type": "execute_result"
    }
   ],
   "source": [
    "np.diag(model_B)"
   ]
  },
  {
   "cell_type": "code",
   "execution_count": 30,
   "metadata": {},
   "outputs": [
    {
     "data": {
      "text/plain": [
       "<matplotlib.image.AxesImage at 0x177df1c10>"
      ]
     },
     "execution_count": 30,
     "metadata": {},
     "output_type": "execute_result"
    },
    {
     "data": {
      "image/png": "[encoded data removed]",
      "text/plain": [
       "<Figure size 640x480 with 1 Axes>"
      ]
     },
     "metadata": {},
     "output_type": "display_data"
    }
   ],
   "source": [
    "model_A = model_B[:, :d]\n",
    "plt.imshow(model_A)"
   ]
  },
  {
   "cell_type": "code",
   "execution_count": 31,
   "metadata": {},
   "outputs": [
    {
     "data": {
      "text/plain": [
       "<matplotlib.image.AxesImage at 0x177e52e90>"
      ]
     },
     "execution_count": 31,
     "metadata": {},
     "output_type": "execute_result"
    },
    {
     "data": {
      "image/png": "[encoded data removed]",
      "text/plain": [
       "<Figure size 640x480 with 1 Axes>"
      ]
     },
     "metadata": {},
     "output_type": "display_data"
    }
   ],
   "source": [
    "plt.imshow(dag_obj.A)"
   ]
  },
  {
   "cell_type": "code",
   "execution_count": 32,
   "metadata": {},
   "outputs": [
    {
     "data": {
      "text/plain": [
       "<matplotlib.image.AxesImage at 0x177ecb9d0>"
      ]
     },
     "execution_count": 32,
     "metadata": {},
     "output_type": "execute_result"
    },
    {
     "data": {
      "image/png": "[encoded data removed]",
      "text/plain": [
       "<Figure size 640x480 with 1 Axes>"
      ]
     },
     "metadata": {},
     "output_type": "display_data"
    }
   ],
   "source": [
    "plt.imshow(((dag_obj.A != 0).astype(int) == (model_A !=0 ).astype(int))**2)"
   ]
  },
  {
   "cell_type": "code",
   "execution_count": 33,
   "metadata": {},
   "outputs": [
    {
     "data": {
      "text/plain": [
       "array([[0, 1, 0, 1, 0, 1, 0, 0, 0, 1],\n",
       "       [0, 0, 0, 0, 0, 0, 0, 0, 0, 0],\n",
       "       [0, 1, 0, 0, 0, 1, 0, 0, 0, 0],\n",
       "       [0, 0, 0, 0, 0, 0, 0, 0, 0, 0],\n",
       "       [0, 0, 0, 0, 0, 1, 0, 0, 0, 0],\n",
       "       [0, 0, 0, 0, 0, 0, 0, 0, 1, 0],\n",
       "       [0, 0, 0, 0, 0, 0, 0, 0, 1, 0],\n",
       "       [0, 0, 0, 0, 1, 1, 0, 0, 0, 0],\n",
       "       [0, 0, 0, 0, 0, 0, 0, 0, 0, 0],\n",
       "       [0, 1, 0, 1, 0, 0, 1, 0, 0, 0],\n",
       "       [0, 0, 0, 0, 0, 0, 0, 1, 0, 0],\n",
       "       [0, 0, 0, 1, 0, 0, 0, 0, 0, 0],\n",
       "       [0, 0, 0, 1, 0, 0, 0, 1, 0, 0],\n",
       "       [1, 0, 0, 0, 0, 1, 1, 0, 0, 0],\n",
       "       [0, 0, 0, 0, 1, 0, 0, 0, 0, 0],\n",
       "       [0, 0, 0, 0, 0, 0, 0, 0, 0, 0],\n",
       "       [0, 1, 0, 0, 0, 1, 1, 0, 0, 0],\n",
       "       [0, 0, 0, 0, 0, 0, 0, 0, 1, 0],\n",
       "       [0, 0, 0, 1, 1, 0, 0, 0, 0, 1],\n",
       "       [1, 0, 0, 1, 0, 1, 0, 0, 0, 0]])"
      ]
     },
     "execution_count": 33,
     "metadata": {},
     "output_type": "execute_result"
    }
   ],
   "source": [
    "(dag_obj.A != 0).astype(int)"
   ]
  },
  {
   "cell_type": "code",
   "execution_count": null,
   "metadata": {},
   "outputs": [],
   "source": []
  },
  {
   "cell_type": "code",
   "execution_count": null,
   "metadata": {},
   "outputs": [],
   "source": []
  },
  {
   "cell_type": "code",
   "execution_count": null,
   "metadata": {},
   "outputs": [],
   "source": []
  },
  {
   "cell_type": "code",
   "execution_count": null,
   "metadata": {},
   "outputs": [],
   "source": []
  },
  {
   "cell_type": "code",
   "execution_count": null,
   "metadata": {},
   "outputs": [],
   "source": []
  }
 ],
 "metadata": {
  "kernelspec": {
   "display_name": "Python 3 (ipykernel)",
   "language": "python",
   "name": "python3"
  },
  "language_info": {
   "codemirror_mode": {
    "name": "ipython",
    "version": 3
   },
   "file_extension": ".py",
   "mimetype": "text/x-python",
   "name": "python",
   "nbconvert_exporter": "python",
   "pygments_lexer": "ipython3",
   "version": "3.11.7"
  }
 },
 "nbformat": 4,
 "nbformat_minor": 4
}
