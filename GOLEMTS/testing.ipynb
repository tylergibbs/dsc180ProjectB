{
 "cells": [
  {
   "cell_type": "code",
   "execution_count": 141,
   "metadata": {},
   "outputs": [
    {
     "name": "stdout",
     "output_type": "stream",
     "text": [
      "The autoreload extension is already loaded. To reload it, use:\n",
      "  %reload_ext autoreload\n"
     ]
    }
   ],
   "source": [
    "%load_ext autoreload"
   ]
  },
  {
   "cell_type": "code",
   "execution_count": 142,
   "metadata": {},
   "outputs": [],
   "source": [
    "%autoreload 2"
   ]
  },
  {
   "cell_type": "code",
   "execution_count": 1,
   "metadata": {},
   "outputs": [],
   "source": [
    "import numpy as np\n",
    "import matplotlib.pyplot as plt"
   ]
  },
  {
   "cell_type": "code",
   "execution_count": 2,
   "metadata": {},
   "outputs": [],
   "source": [
    "from generate_data import SyntheticDataset"
   ]
  },
  {
   "cell_type": "code",
   "execution_count": 3,
   "metadata": {},
   "outputs": [],
   "source": [
    "from model import GolemTS\n",
    "from generate_data import SyntheticDataset\n",
    "import numpy as np\n"
   ]
  },
  {
   "cell_type": "code",
   "execution_count": 4,
   "metadata": {},
   "outputs": [],
   "source": [
    "import torch"
   ]
  },
  {
   "cell_type": "code",
   "execution_count": 5,
   "metadata": {},
   "outputs": [],
   "source": [
    "A_init = np.random.randn(20, 5)\n",
    "dag_obj = SyntheticDataset(1000, 5, 3, B_scale=1.0, graph_type='ER', degree=2, A_scale=1.0, noise_type='EV')\n",
    "model = GolemTS(n=1000, d=5, p=3, Y=dag_obj.Y, lambda_1=2e-3, lambda_2=5.0, A_init=A_init, ev=True)"
   ]
  },
  {
   "cell_type": "code",
   "execution_count": null,
   "metadata": {},
   "outputs": [],
   "source": []
  },
  {
   "cell_type": "code",
   "execution_count": 6,
   "metadata": {},
   "outputs": [],
   "source": [
    "import trainer"
   ]
  },
  {
   "cell_type": "code",
   "execution_count": 7,
   "metadata": {},
   "outputs": [
    {
     "name": "stdout",
     "output_type": "stream",
     "text": [
      "tensor(137.3740, grad_fn=<AddBackward0>)\n",
      "tensor(95.2532, grad_fn=<SubBackward0>)\n",
      "tensor(8.3933, grad_fn=<SubBackward0>)\n",
      "tensor(115.6052, grad_fn=<AddBackward0>)\n",
      "tensor(94.7337, grad_fn=<SubBackward0>)\n",
      "tensor(4.1465, grad_fn=<SubBackward0>)\n",
      "tensor(106.4058, grad_fn=<AddBackward0>)\n",
      "tensor(94.2092, grad_fn=<SubBackward0>)\n",
      "tensor(2.4142, grad_fn=<SubBackward0>)\n",
      "tensor(101.4326, grad_fn=<AddBackward0>)\n",
      "tensor(93.6578, grad_fn=<SubBackward0>)\n",
      "tensor(1.5323, grad_fn=<SubBackward0>)\n",
      "tensor(98.2501, grad_fn=<AddBackward0>)\n",
      "tensor(93.0451, grad_fn=<SubBackward0>)\n",
      "tensor(1.0203, grad_fn=<SubBackward0>)\n",
      "tensor(95.8172, grad_fn=<AddBackward0>)\n",
      "tensor(92.2261, grad_fn=<SubBackward0>)\n",
      "tensor(0.6990, grad_fn=<SubBackward0>)\n",
      "tensor(93.5102, grad_fn=<AddBackward0>)\n",
      "tensor(90.9121, grad_fn=<SubBackward0>)\n",
      "tensor(0.5020, grad_fn=<SubBackward0>)\n",
      "tensor(91.8569, grad_fn=<AddBackward0>)\n",
      "tensor(89.7474, grad_fn=<SubBackward0>)\n",
      "tensor(0.4061, grad_fn=<SubBackward0>)\n",
      "tensor(91.3044, grad_fn=<AddBackward0>)\n",
      "tensor(89.3796, grad_fn=<SubBackward0>)\n",
      "tensor(0.3698, grad_fn=<SubBackward0>)\n",
      "tensor(90.6461, grad_fn=<AddBackward0>)\n",
      "tensor(89.1062, grad_fn=<SubBackward0>)\n",
      "tensor(0.2930, grad_fn=<SubBackward0>)\n",
      "tensor(89.6793, grad_fn=<AddBackward0>)\n",
      "tensor(88.3003, grad_fn=<SubBackward0>)\n",
      "tensor(0.2610, grad_fn=<SubBackward0>)\n",
      "tensor(89.5723, grad_fn=<AddBackward0>)\n",
      "tensor(88.3000, grad_fn=<SubBackward0>)\n",
      "tensor(0.2397, grad_fn=<SubBackward0>)\n",
      "tensor(90.1387, grad_fn=<AddBackward0>)\n",
      "tensor(89.1655, grad_fn=<SubBackward0>)\n",
      "tensor(0.1800, grad_fn=<SubBackward0>)\n",
      "tensor(89.8602, grad_fn=<AddBackward0>)\n",
      "tensor(88.9314, grad_fn=<SubBackward0>)\n",
      "tensor(0.1711, grad_fn=<SubBackward0>)\n",
      "tensor(89.7985, grad_fn=<AddBackward0>)\n",
      "tensor(88.8917, grad_fn=<SubBackward0>)\n",
      "tensor(0.1668, grad_fn=<SubBackward0>)\n",
      "tensor(89.5044, grad_fn=<AddBackward0>)\n",
      "tensor(88.6007, grad_fn=<SubBackward0>)\n",
      "tensor(0.1662, grad_fn=<SubBackward0>)\n",
      "tensor(89.1861, grad_fn=<AddBackward0>)\n",
      "tensor(88.2561, grad_fn=<SubBackward0>)\n",
      "tensor(0.1714, grad_fn=<SubBackward0>)\n",
      "tensor(89.0928, grad_fn=<AddBackward0>)\n",
      "tensor(88.0802, grad_fn=<SubBackward0>)\n",
      "tensor(0.1880, grad_fn=<SubBackward0>)\n",
      "tensor(90.0431, grad_fn=<AddBackward0>)\n",
      "tensor(89.1103, grad_fn=<SubBackward0>)\n",
      "tensor(0.1720, grad_fn=<SubBackward0>)\n",
      "tensor(89.6450, grad_fn=<AddBackward0>)\n",
      "tensor(88.7811, grad_fn=<SubBackward0>)\n",
      "tensor(0.1583, grad_fn=<SubBackward0>)\n",
      "tensor(89.0408, grad_fn=<AddBackward0>)\n",
      "tensor(88.2081, grad_fn=<SubBackward0>)\n",
      "tensor(0.1521, grad_fn=<SubBackward0>)\n",
      "tensor(88.7600, grad_fn=<AddBackward0>)\n",
      "tensor(87.9603, grad_fn=<SubBackward0>)\n",
      "tensor(0.1455, grad_fn=<SubBackward0>)\n",
      "tensor(89.9035, grad_fn=<AddBackward0>)\n",
      "tensor(89.2780, grad_fn=<SubBackward0>)\n",
      "tensor(0.1108, grad_fn=<SubBackward0>)\n",
      "tensor(89.8488, grad_fn=<AddBackward0>)\n",
      "tensor(89.2318, grad_fn=<SubBackward0>)\n",
      "tensor(0.1091, grad_fn=<SubBackward0>)\n",
      "tensor(89.7711, grad_fn=<AddBackward0>)\n",
      "tensor(89.1595, grad_fn=<SubBackward0>)\n",
      "tensor(0.1081, grad_fn=<SubBackward0>)\n",
      "tensor(89.7416, grad_fn=<AddBackward0>)\n",
      "tensor(89.1347, grad_fn=<SubBackward0>)\n",
      "tensor(0.1071, grad_fn=<SubBackward0>)\n",
      "tensor(89.6334, grad_fn=<AddBackward0>)\n",
      "tensor(89.0302, grad_fn=<SubBackward0>)\n",
      "tensor(0.1064, grad_fn=<SubBackward0>)\n",
      "tensor(89.5641, grad_fn=<AddBackward0>)\n",
      "tensor(88.9630, grad_fn=<SubBackward0>)\n",
      "tensor(0.1060, grad_fn=<SubBackward0>)\n",
      "tensor(89.5458, grad_fn=<AddBackward0>)\n",
      "tensor(88.9455, grad_fn=<SubBackward0>)\n",
      "tensor(0.1058, grad_fn=<SubBackward0>)\n",
      "tensor(89.4955, grad_fn=<AddBackward0>)\n",
      "tensor(88.8951, grad_fn=<SubBackward0>)\n",
      "tensor(0.1059, grad_fn=<SubBackward0>)\n",
      "tensor(89.4528, grad_fn=<AddBackward0>)\n",
      "tensor(88.8506, grad_fn=<SubBackward0>)\n",
      "tensor(0.1063, grad_fn=<SubBackward0>)\n",
      "tensor(89.3370, grad_fn=<AddBackward0>)\n",
      "tensor(88.7310, grad_fn=<SubBackward0>)\n",
      "tensor(0.1070, grad_fn=<SubBackward0>)\n",
      "tensor(89.3102, grad_fn=<AddBackward0>)\n",
      "tensor(88.6995, grad_fn=<SubBackward0>)\n",
      "tensor(0.1080, grad_fn=<SubBackward0>)\n",
      "tensor(89.1823, grad_fn=<AddBackward0>)\n",
      "tensor(88.5645, grad_fn=<SubBackward0>)\n",
      "tensor(0.1094, grad_fn=<SubBackward0>)\n",
      "tensor(89.1460, grad_fn=<AddBackward0>)\n",
      "tensor(88.5136, grad_fn=<SubBackward0>)\n",
      "tensor(0.1123, grad_fn=<SubBackward0>)\n",
      "tensor(88.8274, grad_fn=<AddBackward0>)\n",
      "tensor(88.1752, grad_fn=<SubBackward0>)\n",
      "tensor(0.1163, grad_fn=<SubBackward0>)\n",
      "tensor(89.0677, grad_fn=<AddBackward0>)\n",
      "tensor(88.3881, grad_fn=<SubBackward0>)\n",
      "tensor(0.1218, grad_fn=<SubBackward0>)\n",
      "tensor(nan, grad_fn=<AddBackward0>)\n",
      "tensor(nan, grad_fn=<SubBackward0>)\n",
      "tensor(0.1326, grad_fn=<SubBackward0>)\n",
      "tensor(89.2096, grad_fn=<AddBackward0>)\n",
      "tensor(88.4560, grad_fn=<SubBackward0>)\n",
      "tensor(0.1366, grad_fn=<SubBackward0>)\n",
      "tensor(89.7729, grad_fn=<AddBackward0>)\n",
      "tensor(89.1726, grad_fn=<SubBackward0>)\n",
      "tensor(0.1060, grad_fn=<SubBackward0>)\n",
      "tensor(90.0237, grad_fn=<AddBackward0>)\n",
      "tensor(89.4729, grad_fn=<SubBackward0>)\n",
      "tensor(0.0962, grad_fn=<SubBackward0>)\n",
      "tensor(89.9602, grad_fn=<AddBackward0>)\n",
      "tensor(89.4170, grad_fn=<SubBackward0>)\n",
      "tensor(0.0946, grad_fn=<SubBackward0>)\n",
      "tensor(89.9228, grad_fn=<AddBackward0>)\n",
      "tensor(89.3869, grad_fn=<SubBackward0>)\n",
      "tensor(0.0932, grad_fn=<SubBackward0>)\n",
      "tensor(89.8564, grad_fn=<AddBackward0>)\n",
      "tensor(89.3274, grad_fn=<SubBackward0>)\n",
      "tensor(0.0918, grad_fn=<SubBackward0>)\n",
      "tensor(89.7991, grad_fn=<AddBackward0>)\n",
      "tensor(89.2762, grad_fn=<SubBackward0>)\n",
      "tensor(0.0906, grad_fn=<SubBackward0>)\n",
      "tensor(89.7132, grad_fn=<AddBackward0>)\n",
      "tensor(89.1949, grad_fn=<SubBackward0>)\n",
      "tensor(0.0897, grad_fn=<SubBackward0>)\n",
      "tensor(89.6295, grad_fn=<AddBackward0>)\n",
      "tensor(89.1145, grad_fn=<SubBackward0>)\n",
      "tensor(0.0891, grad_fn=<SubBackward0>)\n",
      "tensor(89.5988, grad_fn=<AddBackward0>)\n",
      "tensor(89.0844, grad_fn=<SubBackward0>)\n",
      "tensor(0.0890, grad_fn=<SubBackward0>)\n",
      "tensor(89.5074, grad_fn=<AddBackward0>)\n",
      "tensor(88.9901, grad_fn=<SubBackward0>)\n",
      "tensor(0.0896, grad_fn=<SubBackward0>)\n",
      "tensor(89.4335, grad_fn=<AddBackward0>)\n",
      "tensor(88.9191, grad_fn=<SubBackward0>)\n",
      "tensor(0.0890, grad_fn=<SubBackward0>)\n",
      "tensor(89.3212, grad_fn=<AddBackward0>)\n",
      "tensor(88.7982, grad_fn=<SubBackward0>)\n",
      "tensor(0.0907, grad_fn=<SubBackward0>)\n",
      "tensor(89.2500, grad_fn=<AddBackward0>)\n",
      "tensor(88.7148, grad_fn=<SubBackward0>)\n",
      "tensor(0.0932, grad_fn=<SubBackward0>)\n",
      "tensor(88.9558, grad_fn=<AddBackward0>)\n",
      "tensor(88.3986, grad_fn=<SubBackward0>)\n",
      "tensor(0.0976, grad_fn=<SubBackward0>)\n",
      "tensor(88.5765, grad_fn=<AddBackward0>)\n",
      "tensor(87.9929, grad_fn=<SubBackward0>)\n",
      "tensor(0.1028, grad_fn=<SubBackward0>)\n",
      "tensor(88.3996, grad_fn=<AddBackward0>)\n",
      "tensor(87.7326, grad_fn=<SubBackward0>)\n",
      "tensor(0.1195, grad_fn=<SubBackward0>)\n",
      "tensor(89.9832, grad_fn=<AddBackward0>)\n",
      "tensor(88.9284, grad_fn=<SubBackward0>)\n",
      "tensor(0.1969, grad_fn=<SubBackward0>)\n",
      "tensor(89.7080, grad_fn=<AddBackward0>)\n",
      "tensor(88.7148, grad_fn=<SubBackward0>)\n",
      "tensor(0.1847, grad_fn=<SubBackward0>)\n",
      "tensor(89.5566, grad_fn=<AddBackward0>)\n",
      "tensor(88.6260, grad_fn=<SubBackward0>)\n",
      "tensor(0.1721, grad_fn=<SubBackward0>)\n",
      "tensor(89.1155, grad_fn=<AddBackward0>)\n",
      "tensor(88.2453, grad_fn=<SubBackward0>)\n",
      "tensor(0.1601, grad_fn=<SubBackward0>)\n",
      "tensor(88.5891, grad_fn=<AddBackward0>)\n",
      "tensor(87.7828, grad_fn=<SubBackward0>)\n",
      "tensor(0.1474, grad_fn=<SubBackward0>)\n",
      "tensor(88.9124, grad_fn=<AddBackward0>)\n",
      "tensor(88.3917, grad_fn=<SubBackward0>)\n",
      "tensor(0.0904, grad_fn=<SubBackward0>)\n",
      "tensor(88.7423, grad_fn=<AddBackward0>)\n",
      "tensor(88.2397, grad_fn=<SubBackward0>)\n",
      "tensor(0.0868, grad_fn=<SubBackward0>)\n",
      "tensor(88.4235, grad_fn=<AddBackward0>)\n",
      "tensor(87.8791, grad_fn=<SubBackward0>)\n",
      "tensor(0.0952, grad_fn=<SubBackward0>)\n",
      "tensor(88.3182, grad_fn=<AddBackward0>)\n",
      "tensor(87.7100, grad_fn=<SubBackward0>)\n",
      "tensor(0.1079, grad_fn=<SubBackward0>)\n",
      "tensor(88.9803, grad_fn=<AddBackward0>)\n",
      "tensor(88.4511, grad_fn=<SubBackward0>)\n",
      "tensor(0.0922, grad_fn=<SubBackward0>)\n",
      "tensor(88.2736, grad_fn=<AddBackward0>)\n",
      "tensor(87.6962, grad_fn=<SubBackward0>)\n",
      "tensor(0.1018, grad_fn=<SubBackward0>)\n",
      "tensor(88.5568, grad_fn=<AddBackward0>)\n",
      "tensor(87.9970, grad_fn=<SubBackward0>)\n",
      "tensor(0.0984, grad_fn=<SubBackward0>)\n",
      "tensor(88.6236, grad_fn=<AddBackward0>)\n",
      "tensor(88.0664, grad_fn=<SubBackward0>)\n",
      "tensor(0.0978, grad_fn=<SubBackward0>)\n",
      "tensor(88.8015, grad_fn=<AddBackward0>)\n",
      "tensor(88.1946, grad_fn=<SubBackward0>)\n",
      "tensor(0.1078, grad_fn=<SubBackward0>)\n",
      "tensor(88.5776, grad_fn=<AddBackward0>)\n",
      "tensor(87.9523, grad_fn=<SubBackward0>)\n",
      "tensor(0.1115, grad_fn=<SubBackward0>)\n",
      "tensor(88.5821, grad_fn=<AddBackward0>)\n",
      "tensor(87.9906, grad_fn=<SubBackward0>)\n",
      "tensor(0.1047, grad_fn=<SubBackward0>)\n",
      "tensor(88.1426, grad_fn=<AddBackward0>)\n",
      "tensor(87.5491, grad_fn=<SubBackward0>)\n",
      "tensor(0.1051, grad_fn=<SubBackward0>)\n",
      "tensor(88.5395, grad_fn=<AddBackward0>)\n",
      "tensor(88.0178, grad_fn=<SubBackward0>)\n",
      "tensor(0.0908, grad_fn=<SubBackward0>)\n",
      "tensor(88.0796, grad_fn=<AddBackward0>)\n",
      "tensor(87.5368, grad_fn=<SubBackward0>)\n",
      "tensor(0.0951, grad_fn=<SubBackward0>)\n",
      "tensor(88.9726, grad_fn=<AddBackward0>)\n",
      "tensor(88.1761, grad_fn=<SubBackward0>)\n",
      "tensor(0.1457, grad_fn=<SubBackward0>)\n",
      "tensor(88.4006, grad_fn=<AddBackward0>)\n",
      "tensor(87.7486, grad_fn=<SubBackward0>)\n",
      "tensor(0.1169, grad_fn=<SubBackward0>)\n",
      "tensor(88.9256, grad_fn=<AddBackward0>)\n",
      "tensor(88.2381, grad_fn=<SubBackward0>)\n",
      "tensor(0.1240, grad_fn=<SubBackward0>)\n",
      "tensor(88.6101, grad_fn=<AddBackward0>)\n",
      "tensor(87.9528, grad_fn=<SubBackward0>)\n",
      "tensor(0.1180, grad_fn=<SubBackward0>)\n",
      "tensor(88.8878, grad_fn=<AddBackward0>)\n",
      "tensor(88.2616, grad_fn=<SubBackward0>)\n",
      "tensor(0.1118, grad_fn=<SubBackward0>)\n",
      "tensor(89.5897, grad_fn=<AddBackward0>)\n",
      "tensor(89.0552, grad_fn=<SubBackward0>)\n",
      "tensor(0.0935, grad_fn=<SubBackward0>)\n",
      "tensor(89.0157, grad_fn=<AddBackward0>)\n",
      "tensor(88.6065, grad_fn=<SubBackward0>)\n",
      "tensor(0.0685, grad_fn=<SubBackward0>)\n",
      "tensor(88.8479, grad_fn=<AddBackward0>)\n",
      "tensor(88.4258, grad_fn=<SubBackward0>)\n",
      "tensor(0.0711, grad_fn=<SubBackward0>)\n",
      "tensor(88.7310, grad_fn=<AddBackward0>)\n",
      "tensor(88.2845, grad_fn=<SubBackward0>)\n",
      "tensor(0.0760, grad_fn=<SubBackward0>)\n",
      "tensor(88.1789, grad_fn=<AddBackward0>)\n",
      "tensor(87.6908, grad_fn=<SubBackward0>)\n",
      "tensor(0.0843, grad_fn=<SubBackward0>)\n",
      "tensor(88.1563, grad_fn=<AddBackward0>)\n",
      "tensor(87.6396, grad_fn=<SubBackward0>)\n",
      "tensor(0.0901, grad_fn=<SubBackward0>)\n",
      "tensor(89.1257, grad_fn=<AddBackward0>)\n",
      "tensor(88.6227, grad_fn=<SubBackward0>)\n",
      "tensor(0.0873, grad_fn=<SubBackward0>)\n",
      "tensor(88.8198, grad_fn=<AddBackward0>)\n",
      "tensor(88.3173, grad_fn=<SubBackward0>)\n",
      "tensor(0.0872, grad_fn=<SubBackward0>)\n",
      "tensor(88.9586, grad_fn=<AddBackward0>)\n",
      "tensor(88.4496, grad_fn=<SubBackward0>)\n",
      "tensor(0.0885, grad_fn=<SubBackward0>)\n",
      "tensor(88.3815, grad_fn=<AddBackward0>)\n",
      "tensor(87.9174, grad_fn=<SubBackward0>)\n",
      "tensor(0.0796, grad_fn=<SubBackward0>)\n",
      "tensor(88.7991, grad_fn=<AddBackward0>)\n",
      "tensor(88.2889, grad_fn=<SubBackward0>)\n",
      "tensor(0.0888, grad_fn=<SubBackward0>)\n",
      "tensor(88.3473, grad_fn=<AddBackward0>)\n",
      "tensor(87.8809, grad_fn=<SubBackward0>)\n",
      "tensor(0.0801, grad_fn=<SubBackward0>)\n",
      "tensor(87.8455, grad_fn=<AddBackward0>)\n",
      "tensor(87.3294, grad_fn=<SubBackward0>)\n",
      "tensor(0.0900, grad_fn=<SubBackward0>)\n",
      "tensor(88.7617, grad_fn=<AddBackward0>)\n",
      "tensor(88.2132, grad_fn=<SubBackward0>)\n",
      "tensor(0.0965, grad_fn=<SubBackward0>)\n",
      "tensor(88.6072, grad_fn=<AddBackward0>)\n",
      "tensor(87.9467, grad_fn=<SubBackward0>)\n",
      "tensor(0.1189, grad_fn=<SubBackward0>)\n",
      "tensor(88.9233, grad_fn=<AddBackward0>)\n",
      "tensor(88.2691, grad_fn=<SubBackward0>)\n",
      "tensor(0.1176, grad_fn=<SubBackward0>)\n",
      "tensor(88.4248, grad_fn=<AddBackward0>)\n",
      "tensor(87.7247, grad_fn=<SubBackward0>)\n",
      "tensor(0.1268, grad_fn=<SubBackward0>)\n",
      "tensor(89.1112, grad_fn=<AddBackward0>)\n",
      "tensor(88.4748, grad_fn=<SubBackward0>)\n",
      "tensor(0.1141, grad_fn=<SubBackward0>)\n",
      "tensor(88.1067, grad_fn=<AddBackward0>)\n",
      "tensor(87.4173, grad_fn=<SubBackward0>)\n",
      "tensor(0.1247, grad_fn=<SubBackward0>)\n",
      "tensor(88.8847, grad_fn=<AddBackward0>)\n",
      "tensor(88.2998, grad_fn=<SubBackward0>)\n",
      "tensor(0.1038, grad_fn=<SubBackward0>)\n",
      "tensor(89.1388, grad_fn=<AddBackward0>)\n",
      "tensor(88.3418, grad_fn=<SubBackward0>)\n",
      "tensor(0.1462, grad_fn=<SubBackward0>)\n"
     ]
    }
   ],
   "source": [
    "trainer.train(model, dag_obj.Y, epochs=10_000)"
   ]
  },
  {
   "cell_type": "code",
   "execution_count": 8,
   "metadata": {},
   "outputs": [
    {
     "data": {
      "text/plain": [
       "Parameter containing:\n",
       "tensor([[ 0.1071,  0.0606,  0.0973, -0.2008, -0.1257],\n",
       "        [-0.0724,  0.0643, -1.4717, -0.3087, -1.6555],\n",
       "        [-0.1471, -0.0182,  0.0075,  0.0221, -1.0027],\n",
       "        [-0.1910, -0.3370, -1.0403,  0.0621,  0.0989],\n",
       "        [-1.1903, -0.0235, -0.1312,  0.1174,  0.1412],\n",
       "        [ 0.1815,  0.4502, -0.0861,  0.8624, -1.1012],\n",
       "        [ 0.3080, -0.1995,  0.2783, -0.0060,  0.3220],\n",
       "        [ 0.2760, -0.6264, -0.0409, -0.7400,  0.7946],\n",
       "        [-0.1765,  0.0915, -0.1089,  0.0561, -0.2180],\n",
       "        [-0.1839,  0.1217, -0.3097,  0.3022, -0.7916],\n",
       "        [ 0.7072, -0.4456,  0.0601, -0.1718,  0.3602],\n",
       "        [ 0.0738, -0.0746,  0.0759, -0.1161,  0.2431],\n",
       "        [ 0.0370,  0.0326,  0.0897,  0.0141,  0.0783],\n",
       "        [ 1.3747, -0.7202,  0.4382, -0.3791,  1.1823],\n",
       "        [-0.4914, -0.0384, -0.0811, -0.1801, -0.0523],\n",
       "        [ 0.0030, -0.2046,  0.0086, -0.0751, -0.0145],\n",
       "        [-1.1626,  0.3885, -0.2445, -0.1740, -0.2423],\n",
       "        [ 0.6621, -0.6583, -0.0149, -0.3565,  0.4001],\n",
       "        [-0.1517,  0.1185,  0.1678, -0.0163,  0.2085],\n",
       "        [-0.8540,  0.5648, -0.2012,  0.3704, -0.7990]], requires_grad=True)"
      ]
     },
     "execution_count": 8,
     "metadata": {},
     "output_type": "execute_result"
    }
   ],
   "source": [
    "model.A"
   ]
  },
  {
   "cell_type": "code",
   "execution_count": 9,
   "metadata": {},
   "outputs": [
    {
     "data": {
      "text/plain": [
       "array([[ 0.        ,  0.        ,  0.        ,  0.        ,  0.        ],\n",
       "       [ 0.81744217,  0.        , -0.74806149,  0.        ,  0.70891452],\n",
       "       [ 0.        ,  0.        ,  0.        ,  0.        ,  0.        ],\n",
       "       [-0.68278624,  0.        ,  0.57493019,  0.        ,  0.        ],\n",
       "       [-1.85247975,  0.        ,  1.30384461, -1.32815971,  0.        ],\n",
       "       [ 0.        ,  0.        ,  0.        ,  0.        ,  0.        ],\n",
       "       [ 0.        ,  0.        ,  0.        ,  0.        ,  0.        ],\n",
       "       [ 0.        ,  0.        ,  0.        ,  0.3167246 ,  0.        ],\n",
       "       [ 0.        ,  0.        ,  0.        ,  0.        ,  0.        ],\n",
       "       [ 0.        ,  0.        ,  0.        ,  0.        ,  0.        ],\n",
       "       [ 0.        ,  0.        ,  0.        ,  0.        ,  0.        ],\n",
       "       [ 0.        ,  0.        ,  0.        ,  0.        , -0.35398558],\n",
       "       [ 0.        ,  0.        ,  0.        ,  0.        ,  0.        ],\n",
       "       [ 0.        ,  0.        ,  0.        ,  0.        ,  0.        ],\n",
       "       [ 0.        ,  0.        ,  0.        ,  0.        ,  0.        ],\n",
       "       [ 0.        ,  0.47860424,  0.        ,  0.        ,  0.        ],\n",
       "       [ 0.        ,  0.        ,  0.        ,  0.        ,  0.        ],\n",
       "       [ 0.        ,  0.        ,  0.        ,  0.        ,  0.        ],\n",
       "       [ 0.        ,  0.        ,  0.        ,  0.        ,  0.        ],\n",
       "       [ 0.        ,  0.37129274,  0.        ,  0.        ,  0.        ]])"
      ]
     },
     "execution_count": 9,
     "metadata": {},
     "output_type": "execute_result"
    }
   ],
   "source": [
    "dag_obj.A"
   ]
  },
  {
   "cell_type": "code",
   "execution_count": 10,
   "metadata": {},
   "outputs": [
    {
     "data": {
      "text/plain": [
       "<matplotlib.image.AxesImage at 0x16ab9fd90>"
      ]
     },
     "execution_count": 10,
     "metadata": {},
     "output_type": "execute_result"
    },
    {
     "data": {
      "image/png": "[encoded data removed]",
      "text/plain": [
       "<Figure size 640x480 with 1 Axes>"
      ]
     },
     "metadata": {},
     "output_type": "display_data"
    }
   ],
   "source": [
    "plt.imshow(A_init)"
   ]
  },
  {
   "cell_type": "code",
   "execution_count": 11,
   "metadata": {},
   "outputs": [
    {
     "data": {
      "text/plain": [
       "<matplotlib.image.AxesImage at 0x16b4f7250>"
      ]
     },
     "execution_count": 11,
     "metadata": {},
     "output_type": "execute_result"
    },
    {
     "data": {
      "image/png": "[encoded data removed]",
      "text/plain": [
       "<Figure size 640x480 with 1 Axes>"
      ]
     },
     "metadata": {},
     "output_type": "display_data"
    }
   ],
   "source": [
    "plt.imshow(dag_obj.A)"
   ]
  },
  {
   "cell_type": "code",
   "execution_count": 12,
   "metadata": {},
   "outputs": [
    {
     "data": {
      "text/plain": [
       "<matplotlib.image.AxesImage at 0x16b55b9d0>"
      ]
     },
     "execution_count": 12,
     "metadata": {},
     "output_type": "execute_result"
    },
    {
     "data": {
      "image/png": "[encoded data removed]",
      "text/plain": [
       "<Figure size 640x480 with 1 Axes>"
      ]
     },
     "metadata": {},
     "output_type": "display_data"
    }
   ],
   "source": [
    "plt.imshow(model.A.detach().numpy())"
   ]
  },
  {
   "cell_type": "code",
   "execution_count": 13,
   "metadata": {},
   "outputs": [
    {
     "data": {
      "text/plain": [
       "<matplotlib.image.AxesImage at 0x1686d5390>"
      ]
     },
     "execution_count": 13,
     "metadata": {},
     "output_type": "execute_result"
    },
    {
     "data": {
      "image/png": "[encoded data removed]",
      "text/plain": [
       "<Figure size 640x480 with 1 Axes>"
      ]
     },
     "metadata": {},
     "output_type": "display_data"
    }
   ],
   "source": [
    "plt.imshow((model.A.detach().numpy() - dag_obj.A)**2)"
   ]
  },
  {
   "cell_type": "code",
   "execution_count": 11,
   "metadata": {},
   "outputs": [
    {
     "data": {
      "text/plain": [
       "Parameter containing:\n",
       "tensor([[ 9.3583e-03,  2.5606e-01,  8.0136e-01,  8.6461e-01, -8.1033e-01],\n",
       "        [ 2.5313e-02,  5.5689e-04, -1.4680e+00,  1.2072e+00,  1.3941e-01],\n",
       "        [-2.4044e-03, -1.5610e-04, -7.4495e-05,  1.3498e-02, -1.2908e-01],\n",
       "        [-2.3347e-02,  1.0141e-01,  2.1718e-01,  1.9074e-02, -4.0222e-01],\n",
       "        [-4.6154e-03,  9.5777e-04,  1.3736e-01,  1.5085e-03, -6.4178e-04],\n",
       "        [-1.9533e-01, -2.2515e-01,  7.4104e-03, -6.0462e+00,  1.0449e-01],\n",
       "        [ 3.1536e-04, -9.0698e-01,  1.7973e-01,  7.1254e+00, -1.8126e-01],\n",
       "        [-1.5110e+00,  2.0743e-04,  1.2258e-01,  1.5761e-01,  1.1539e+00],\n",
       "        [-2.4521e-04, -1.4386e-04,  1.6396e-01, -2.2943e-04, -1.0076e-01],\n",
       "        [ 3.1126e-02, -8.7704e-01,  1.3951e-02,  4.8585e+00, -1.3651e-01],\n",
       "        [-6.9312e-01, -3.3728e-01,  5.4073e-02,  7.4855e+00,  1.6957e-01],\n",
       "        [ 2.3312e+00, -2.6674e+00,  1.2223e-02,  6.1847e+00, -6.2010e-01],\n",
       "        [-5.6409e+00,  3.1081e+00,  5.6358e-03,  5.1738e+00, -2.3226e+00],\n",
       "        [ 1.8554e-01,  6.3513e-01,  5.5085e-03, -6.4061e+00,  2.6732e-01],\n",
       "        [ 1.6991e+00,  4.5704e+00, -8.6591e-05,  4.9024e+00,  3.9751e+00],\n",
       "        [ 6.8487e+00,  3.1997e+00,  5.6683e-02, -5.5986e-01, -3.9394e+00],\n",
       "        [ 2.0067e+00,  1.9612e-02,  1.8729e-02,  3.8116e+00,  1.9178e+00],\n",
       "        [-3.0974e-05, -1.5235e-01, -2.2478e-02, -6.6833e+00,  1.9941e-01],\n",
       "        [-4.0742e-02, -2.8620e-02, -2.2114e-02,  2.3998e+00, -4.2933e-01],\n",
       "        [-4.1680e-01,  6.2918e-04, -6.8339e-04, -6.2178e+00,  6.1253e-01]],\n",
       "       requires_grad=True)"
      ]
     },
     "execution_count": 11,
     "metadata": {},
     "output_type": "execute_result"
    }
   ],
   "source": [
    "model.A"
   ]
  },
  {
   "cell_type": "code",
   "execution_count": 42,
   "metadata": {},
   "outputs": [],
   "source": [
    "def _compute_likelihood(Y, A):\n",
    "    with torch.no_grad():\n",
    "        I = np.eye(20)\n",
    "        ep = 1e-4\n",
    "        Binv = model.U - A\n",
    "        B = torch.pinverse(Binv)\n",
    "            # print(self.A)\n",
    "            # print(Binv)\n",
    "            # print(self.Y @ Binv)\n",
    "        omega = torch.diag(torch.diag((Y @ Binv).T @ (Y @ Binv))) / 1000\n",
    "        print(omega)\n",
    "            # print((self.Y @ Binv).T @ (self.Y @ Binv))\n",
    "        print(torch.det(B.T @ omega @ B + ep * I))\n",
    "        print(B.T @ omega @ B)\n",
    "        print(np.linalg.eig((B.T @ omega @ B).detach().numpy())[0])\n",
    "        return 0.5 * torch.logdet(B.T @ omega @ B + ep * I)"
   ]
  },
  {
   "cell_type": "code",
   "execution_count": 43,
   "metadata": {},
   "outputs": [
    {
     "name": "stdout",
     "output_type": "stream",
     "text": [
      "tensor([[1.5353, 0.0000, 0.0000, 0.0000, 0.0000],\n",
      "        [0.0000, 1.4617, 0.0000, 0.0000, 0.0000],\n",
      "        [0.0000, 0.0000, 1.4798, 0.0000, 0.0000],\n",
      "        [0.0000, 0.0000, 0.0000, 1.5511, 0.0000],\n",
      "        [0.0000, 0.0000, 0.0000, 0.0000, 1.4973]])\n",
      "tensor(1.6221e-60, dtype=torch.float64)\n",
      "tensor([[ 1.3719,  0.2361,  0.0493, -0.1240,  0.0066,  0.0000,  0.3726, -0.4985,\n",
      "          0.0000,  0.0000,  0.0000,  0.0000, -0.4956,  0.0000,  0.0000,  0.0000,\n",
      "         -0.4782,  0.0000,  0.0000,  0.3625],\n",
      "        [ 0.2361,  1.4617, -0.4642, -0.4829,  0.6955,  0.0000,  0.3288,  0.3913,\n",
      "          0.0000,  0.0000,  0.0000,  0.0000, -0.4373,  0.0000,  0.0000,  0.0000,\n",
      "          0.3753,  0.0000,  0.0000,  0.3199],\n",
      "        [ 0.0493, -0.4642,  1.5454,  0.1855, -0.1382,  0.0000, -0.3754,  0.1831,\n",
      "          0.0000,  0.0000,  0.0000,  0.0000,  0.4994,  0.0000,  0.0000,  0.0000,\n",
      "          0.1756,  0.0000,  0.0000, -0.3653],\n",
      "        [-0.1240, -0.4829,  0.1855,  0.8953, -0.4898,  0.0000, -0.3922, -0.6627,\n",
      "          0.0000,  0.0000,  0.0000,  0.0000,  0.5216,  0.0000,  0.0000,  0.0000,\n",
      "         -0.6358,  0.0000,  0.0000, -0.3816],\n",
      "        [ 0.0066,  0.6955, -0.1382, -0.4898,  0.6139,  0.0000,  0.2071,  0.5367,\n",
      "          0.0000,  0.0000,  0.0000,  0.0000, -0.2754,  0.0000,  0.0000,  0.0000,\n",
      "          0.5149,  0.0000,  0.0000,  0.2015],\n",
      "        [ 0.0000,  0.0000,  0.0000,  0.0000,  0.0000,  0.0000,  0.0000,  0.0000,\n",
      "          0.0000,  0.0000,  0.0000,  0.0000,  0.0000,  0.0000,  0.0000,  0.0000,\n",
      "          0.0000,  0.0000,  0.0000,  0.0000],\n",
      "        [ 0.3726,  0.3288, -0.3754, -0.3922,  0.2071,  0.0000,  0.3112,  0.0783,\n",
      "          0.0000,  0.0000,  0.0000,  0.0000, -0.4140,  0.0000,  0.0000,  0.0000,\n",
      "          0.0752,  0.0000,  0.0000,  0.3028],\n",
      "        [-0.4985,  0.3913,  0.1831, -0.6627,  0.5367,  0.0000,  0.0783,  0.9011,\n",
      "          0.0000,  0.0000,  0.0000,  0.0000, -0.1042,  0.0000,  0.0000,  0.0000,\n",
      "          0.8645,  0.0000,  0.0000,  0.0762],\n",
      "        [ 0.0000,  0.0000,  0.0000,  0.0000,  0.0000,  0.0000,  0.0000,  0.0000,\n",
      "          0.0000,  0.0000,  0.0000,  0.0000,  0.0000,  0.0000,  0.0000,  0.0000,\n",
      "          0.0000,  0.0000,  0.0000,  0.0000],\n",
      "        [ 0.0000,  0.0000,  0.0000,  0.0000,  0.0000,  0.0000,  0.0000,  0.0000,\n",
      "          0.0000,  0.0000,  0.0000,  0.0000,  0.0000,  0.0000,  0.0000,  0.0000,\n",
      "          0.0000,  0.0000,  0.0000,  0.0000],\n",
      "        [ 0.0000,  0.0000,  0.0000,  0.0000,  0.0000,  0.0000,  0.0000,  0.0000,\n",
      "          0.0000,  0.0000,  0.0000,  0.0000,  0.0000,  0.0000,  0.0000,  0.0000,\n",
      "          0.0000,  0.0000,  0.0000,  0.0000],\n",
      "        [ 0.0000,  0.0000,  0.0000,  0.0000,  0.0000,  0.0000,  0.0000,  0.0000,\n",
      "          0.0000,  0.0000,  0.0000,  0.0000,  0.0000,  0.0000,  0.0000,  0.0000,\n",
      "          0.0000,  0.0000,  0.0000,  0.0000],\n",
      "        [-0.4956, -0.4373,  0.4994,  0.5216, -0.2754,  0.0000, -0.4140, -0.1042,\n",
      "          0.0000,  0.0000,  0.0000,  0.0000,  0.5507,  0.0000,  0.0000,  0.0000,\n",
      "         -0.1000,  0.0000,  0.0000, -0.4028],\n",
      "        [ 0.0000,  0.0000,  0.0000,  0.0000,  0.0000,  0.0000,  0.0000,  0.0000,\n",
      "          0.0000,  0.0000,  0.0000,  0.0000,  0.0000,  0.0000,  0.0000,  0.0000,\n",
      "          0.0000,  0.0000,  0.0000,  0.0000],\n",
      "        [ 0.0000,  0.0000,  0.0000,  0.0000,  0.0000,  0.0000,  0.0000,  0.0000,\n",
      "          0.0000,  0.0000,  0.0000,  0.0000,  0.0000,  0.0000,  0.0000,  0.0000,\n",
      "          0.0000,  0.0000,  0.0000,  0.0000],\n",
      "        [ 0.0000,  0.0000,  0.0000,  0.0000,  0.0000,  0.0000,  0.0000,  0.0000,\n",
      "          0.0000,  0.0000,  0.0000,  0.0000,  0.0000,  0.0000,  0.0000,  0.0000,\n",
      "          0.0000,  0.0000,  0.0000,  0.0000],\n",
      "        [-0.4782,  0.3753,  0.1756, -0.6358,  0.5149,  0.0000,  0.0752,  0.8645,\n",
      "          0.0000,  0.0000,  0.0000,  0.0000, -0.1000,  0.0000,  0.0000,  0.0000,\n",
      "          0.8293,  0.0000,  0.0000,  0.0731],\n",
      "        [ 0.0000,  0.0000,  0.0000,  0.0000,  0.0000,  0.0000,  0.0000,  0.0000,\n",
      "          0.0000,  0.0000,  0.0000,  0.0000,  0.0000,  0.0000,  0.0000,  0.0000,\n",
      "          0.0000,  0.0000,  0.0000,  0.0000],\n",
      "        [ 0.0000,  0.0000,  0.0000,  0.0000,  0.0000,  0.0000,  0.0000,  0.0000,\n",
      "          0.0000,  0.0000,  0.0000,  0.0000,  0.0000,  0.0000,  0.0000,  0.0000,\n",
      "          0.0000,  0.0000,  0.0000,  0.0000],\n",
      "        [ 0.3625,  0.3199, -0.3653, -0.3816,  0.2015,  0.0000,  0.3028,  0.0762,\n",
      "          0.0000,  0.0000,  0.0000,  0.0000, -0.4028,  0.0000,  0.0000,  0.0000,\n",
      "          0.0731,  0.0000,  0.0000,  0.2946]])\n",
      "[ 3.7151182e+00+0.000000e+00j  2.5761335e+00+0.000000e+00j\n",
      "  1.4834515e+00+0.000000e+00j  8.6915296e-01+0.000000e+00j\n",
      "  1.3132164e-01+0.000000e+00j  2.5742331e-08+0.000000e+00j\n",
      "  1.8380808e-08+0.000000e+00j -1.0327398e-08+7.930431e-09j\n",
      " -1.0327398e-08-7.930431e-09j -2.8225381e-08+0.000000e+00j\n",
      "  0.0000000e+00+0.000000e+00j  0.0000000e+00+0.000000e+00j\n",
      "  0.0000000e+00+0.000000e+00j  0.0000000e+00+0.000000e+00j\n",
      "  0.0000000e+00+0.000000e+00j  0.0000000e+00+0.000000e+00j\n",
      "  0.0000000e+00+0.000000e+00j  0.0000000e+00+0.000000e+00j\n",
      "  0.0000000e+00+0.000000e+00j  0.0000000e+00+0.000000e+00j]\n"
     ]
    },
    {
     "data": {
      "text/plain": [
       "tensor(-68.8357, dtype=torch.float64)"
      ]
     },
     "execution_count": 43,
     "metadata": {},
     "output_type": "execute_result"
    }
   ],
   "source": [
    "_compute_likelihood(torch.tensor(dag_obj.Y, dtype=torch.float32), torch.tensor(dag_obj.A, dtype=torch.float32))\n",
    "\n",
    "\n"
   ]
  },
  {
   "cell_type": "code",
   "execution_count": 44,
   "metadata": {},
   "outputs": [
    {
     "name": "stdout",
     "output_type": "stream",
     "text": [
      "tensor([[12.5450,  0.0000,  0.0000,  0.0000,  0.0000],\n",
      "        [ 0.0000,  0.5571,  0.0000,  0.0000,  0.0000],\n",
      "        [ 0.0000,  0.0000,  5.4536,  0.0000,  0.0000],\n",
      "        [ 0.0000,  0.0000,  0.0000, 32.2550,  0.0000],\n",
      "        [ 0.0000,  0.0000,  0.0000,  0.0000,  0.4577]])\n",
      "tensor(1.5302e-61, dtype=torch.float64)\n",
      "tensor([[ 1.8100e-01,  1.3996e-03,  1.3297e-01, -6.8358e-03,  4.7284e-02,\n",
      "          7.6218e-02,  8.2772e-02, -9.3383e-02,  2.0226e-01,  1.7082e-01,\n",
      "          6.1558e-02,  5.9235e-02, -1.3204e-01, -9.7062e-02,  5.5634e-02,\n",
      "          7.5472e-02, -7.0946e-02,  8.8355e-02,  1.0942e-01,  3.1893e-02],\n",
      "        [ 1.3996e-03,  4.3892e-01,  7.0722e-02,  1.6990e-01,  7.7348e-02,\n",
      "         -8.4432e-02, -1.9509e-01, -1.0817e-02,  6.2801e-02,  2.9548e-02,\n",
      "          1.3516e-01, -1.4971e-01,  5.8771e-02, -1.4901e-01,  8.1229e-02,\n",
      "          1.3340e-01, -8.7994e-02,  6.9470e-02, -1.0914e-01, -7.1016e-03],\n",
      "        [ 1.3297e-01,  7.0722e-02,  2.7373e-01, -2.2049e-02,  2.5455e-02,\n",
      "          8.3317e-02, -3.3813e-02,  8.8352e-02,  2.8284e-01,  1.7237e-01,\n",
      "          9.6899e-03,  1.1043e-01,  8.6560e-03, -9.4180e-02,  4.9947e-02,\n",
      "          3.6641e-02,  1.5014e-01,  6.3319e-02,  1.7182e-01, -1.2889e-01],\n",
      "        [-6.8358e-03,  1.6990e-01, -2.2049e-02,  1.2754e-01,  7.1674e-02,\n",
      "         -3.1472e-02, -8.1461e-02, -1.0268e-01, -4.4843e-02,  5.4833e-03,\n",
      "          1.3464e-02, -4.4496e-02,  6.7058e-02, -2.1504e-02,  1.9588e-02,\n",
      "          2.0266e-02, -1.1150e-01,  2.3381e-02, -2.4920e-02, -3.9239e-02],\n",
      "        [ 4.7284e-02,  7.7348e-02,  2.5455e-02,  7.1674e-02,  1.1914e-01,\n",
      "         -1.9859e-02, -4.9607e-02,  2.2087e-02,  5.9731e-02,  2.6415e-02,\n",
      "          6.2272e-02, -4.5918e-02, -9.9012e-03, -6.9217e-02,  3.4744e-02,\n",
      "          5.9516e-02, -7.5632e-03,  2.9170e-02, -3.2795e-02,  1.4608e-02],\n",
      "        [ 7.6218e-02, -8.4432e-02,  8.3317e-02, -3.1472e-02, -1.9859e-02,\n",
      "          7.9070e-02,  6.6414e-02, -7.4472e-02,  7.8710e-02,  9.4390e-02,\n",
      "         -5.7559e-02,  1.1597e-01, -1.2207e-02,  1.9415e-02, -3.2885e-03,\n",
      "         -3.6474e-02, -2.6702e-03,  2.2381e-02,  1.4360e-01, -6.8630e-02],\n",
      "        [ 8.2772e-02, -1.9509e-01, -3.3813e-02, -8.1461e-02, -4.9607e-02,\n",
      "          6.6414e-02,  1.7219e-01, -1.3221e-01,  1.1588e-02,  5.7684e-02,\n",
      "         -1.6587e-02,  6.9867e-02, -1.3828e-01,  2.9680e-02, -1.1699e-02,\n",
      "         -1.4266e-02, -1.0315e-01,  1.8352e-02,  7.0033e-02,  8.3319e-02],\n",
      "        [-9.3383e-02, -1.0817e-02,  8.8352e-02, -1.0268e-01,  2.2087e-02,\n",
      "         -7.4472e-02, -1.3221e-01,  4.8667e-01,  1.0970e-01, -1.1322e-01,\n",
      "          7.3994e-02, -8.8419e-02,  3.9222e-02, -6.4075e-02,  3.9921e-03,\n",
      "          4.2998e-02,  4.0729e-01, -6.4815e-02, -1.3473e-01,  1.4119e-02],\n",
      "        [ 2.0226e-01,  6.2801e-02,  2.8284e-01, -4.4843e-02,  5.9731e-02,\n",
      "          7.8710e-02,  1.1588e-02,  1.0970e-01,  3.6220e-01,  2.0527e-01,\n",
      "          1.0294e-01,  6.2152e-02, -1.1487e-01, -1.6981e-01,  8.3925e-02,\n",
      "          1.1675e-01,  1.2332e-01,  9.7910e-02,  1.2455e-01, -1.2716e-02],\n",
      "        [ 1.7082e-01,  2.9548e-02,  1.7237e-01,  5.4833e-03,  2.6415e-02,\n",
      "          9.4390e-02,  5.7684e-02, -1.1322e-01,  2.0527e-01,  1.8884e-01,\n",
      "          1.5478e-02,  1.0311e-01, -7.0163e-02, -7.4300e-02,  4.8134e-02,\n",
      "          4.1883e-02, -5.4145e-02,  8.6042e-02,  1.6603e-01, -4.7845e-02],\n",
      "        [ 6.1558e-02,  1.3516e-01,  9.6899e-03,  1.3464e-02,  6.2272e-02,\n",
      "         -5.7559e-02, -1.6587e-02,  7.3994e-02,  1.0294e-01,  1.5478e-02,\n",
      "          1.8348e-01, -1.4638e-01, -1.4664e-01, -1.4990e-01,  6.8050e-02,\n",
      "          1.5682e-01, -3.8615e-02,  5.4320e-02, -1.4576e-01,  1.7919e-01],\n",
      "        [ 5.9235e-02, -1.4971e-01,  1.1043e-01, -4.4496e-02, -4.5918e-02,\n",
      "          1.1597e-01,  6.9867e-02, -8.8419e-02,  6.2152e-02,  1.0311e-01,\n",
      "         -1.4638e-01,  2.0003e-01,  6.1035e-02,  8.2583e-02, -3.1957e-02,\n",
      "         -1.0992e-01,  4.4656e-02,  3.4822e-04,  2.3259e-01, -1.7078e-01],\n",
      "        [-1.3204e-01,  5.8771e-02,  8.6560e-03,  6.7058e-02, -9.9012e-03,\n",
      "         -1.2207e-02, -1.3828e-01,  3.9222e-02, -1.1487e-01, -7.0163e-02,\n",
      "         -1.4664e-01,  6.1035e-02,  2.5265e-01,  1.0867e-01, -5.0529e-02,\n",
      "         -1.2584e-01,  1.1010e-01, -6.4728e-02,  5.9147e-02, -2.2709e-01],\n",
      "        [-9.7062e-02, -1.4901e-01, -9.4180e-02, -2.1504e-02, -6.9217e-02,\n",
      "          1.9415e-02,  2.9680e-02, -6.4075e-02, -1.6981e-01, -7.4300e-02,\n",
      "         -1.4990e-01,  8.2583e-02,  1.0867e-01,  1.5257e-01, -7.3456e-02,\n",
      "         -1.3918e-01,  4.1921e-03, -6.9255e-02,  5.8053e-02, -9.5800e-02],\n",
      "        [ 5.5634e-02,  8.1229e-02,  4.9947e-02,  1.9588e-02,  3.4744e-02,\n",
      "         -3.2885e-03, -1.1699e-02,  3.9921e-03,  8.3925e-02,  4.8134e-02,\n",
      "          6.8050e-02, -3.1957e-02, -5.0529e-02, -7.3456e-02,  3.7336e-02,\n",
      "          6.5936e-02, -2.2115e-02,  3.9666e-02, -1.4685e-02,  3.8041e-02],\n",
      "        [ 7.5472e-02,  1.3340e-01,  3.6641e-02,  2.0266e-02,  5.9516e-02,\n",
      "         -3.6474e-02, -1.4266e-02,  4.2998e-02,  1.1675e-01,  4.1883e-02,\n",
      "          1.5682e-01, -1.0992e-01, -1.2584e-01, -1.3918e-01,  6.5936e-02,\n",
      "          1.3913e-01, -4.2793e-02,  5.9823e-02, -9.8211e-02,  1.3703e-01],\n",
      "        [-7.0946e-02, -8.7994e-02,  1.5014e-01, -1.1150e-01, -7.5632e-03,\n",
      "         -2.6701e-03, -1.0315e-01,  4.0729e-01,  1.2332e-01, -5.4145e-02,\n",
      "         -3.8615e-02,  4.4656e-02,  1.1010e-01,  4.1921e-03, -2.2115e-02,\n",
      "         -4.2793e-02,  4.2235e-01, -6.9226e-02,  2.0850e-02, -1.2174e-01],\n",
      "        [ 8.8355e-02,  6.9470e-02,  6.3319e-02,  2.3381e-02,  2.9170e-02,\n",
      "          2.2381e-02,  1.8352e-02, -6.4815e-02,  9.7910e-02,  8.6042e-02,\n",
      "          5.4320e-02,  3.4822e-04, -6.4728e-02, -6.9255e-02,  3.9666e-02,\n",
      "          5.9823e-02, -6.9226e-02,  5.5502e-02,  3.0137e-02,  2.7047e-02],\n",
      "        [ 1.0942e-01, -1.0914e-01,  1.7182e-01, -2.4920e-02, -3.2795e-02,\n",
      "          1.4360e-01,  7.0033e-02, -1.3473e-01,  1.2455e-01,  1.6603e-01,\n",
      "         -1.4576e-01,  2.3259e-01,  5.9147e-02,  5.8053e-02, -1.4685e-02,\n",
      "         -9.8211e-02,  2.0850e-02,  3.0137e-02,  2.8976e-01, -2.0505e-01],\n",
      "        [ 3.1893e-02, -7.1016e-03, -1.2889e-01, -3.9239e-02,  1.4608e-02,\n",
      "         -6.8630e-02,  8.3319e-02,  1.4119e-02, -1.2716e-02, -4.7845e-02,\n",
      "          1.7919e-01, -1.7078e-01, -2.2709e-01, -9.5800e-02,  3.8041e-02,\n",
      "          1.3703e-01, -1.2174e-01,  2.7047e-02, -2.0505e-01,  2.9242e-01]])\n",
      "[ 1.27980900e+00+0.0000000e+00j  1.22769070e+00+0.0000000e+00j\n",
      "  1.08840692e+00+0.0000000e+00j  7.37397790e-01+0.0000000e+00j\n",
      "  1.21210769e-01+0.0000000e+00j  3.27728742e-08+0.0000000e+00j\n",
      " -2.64699747e-08+0.0000000e+00j -2.29141257e-08+0.0000000e+00j\n",
      "  1.27136275e-08+0.0000000e+00j  8.81334561e-09+5.1601674e-09j\n",
      "  8.81334561e-09-5.1601674e-09j -8.77060291e-09+7.1960540e-09j\n",
      " -8.77060291e-09-7.1960540e-09j  3.55082141e-09+5.2778240e-09j\n",
      "  3.55082141e-09-5.2778240e-09j -7.52025553e-09+0.0000000e+00j\n",
      "  2.67154476e-09+0.0000000e+00j -4.16476187e-09+0.0000000e+00j\n",
      " -9.66020153e-10+3.3327046e-09j -9.66020153e-10-3.3327046e-09j]\n"
     ]
    },
    {
     "data": {
      "text/plain": [
       "tensor(-70.0161, dtype=torch.float64)"
      ]
     },
     "execution_count": 44,
     "metadata": {},
     "output_type": "execute_result"
    }
   ],
   "source": [
    "_compute_likelihood(torch.tensor(dag_obj.Y, dtype=torch.float32), model.A)\n"
   ]
  },
  {
   "cell_type": "code",
   "execution_count": null,
   "metadata": {},
   "outputs": [],
   "source": []
  },
  {
   "cell_type": "code",
   "execution_count": 20,
   "metadata": {},
   "outputs": [
    {
     "data": {
      "text/plain": [
       "Parameter containing:\n",
       "tensor([[-6.7983e-04,  4.7921e-01, -2.6376e-01,  ..., -4.9392e-01,\n",
       "         -1.9254e+00, -4.7832e-04],\n",
       "        [-1.3927e-03,  7.5130e-04, -7.2145e-01,  ...,  1.6937e+00,\n",
       "          1.1800e+00,  9.8079e-03],\n",
       "        [ 1.5770e+00,  3.2433e-01,  1.9912e-04,  ..., -2.5342e+00,\n",
       "         -5.4728e-01,  7.4730e-01],\n",
       "        ...,\n",
       "        [-5.0863e-01,  1.5533e+00, -9.3559e-01,  ..., -4.8247e-01,\n",
       "          1.9320e-01, -1.5155e-01],\n",
       "        [ 1.5120e-01,  3.7256e-01,  3.1464e-01,  ..., -2.8972e-01,\n",
       "          9.3236e-02,  1.7088e+00],\n",
       "        [ 6.5742e-01,  8.2346e-02,  1.6055e-01,  ...,  4.0668e-01,\n",
       "         -5.9718e-01,  2.0148e+00]], requires_grad=True)"
      ]
     },
     "execution_count": 20,
     "metadata": {},
     "output_type": "execute_result"
    }
   ],
   "source": [
    "model.A"
   ]
  },
  {
   "cell_type": "code",
   "execution_count": 25,
   "metadata": {},
   "outputs": [
    {
     "data": {
      "text/plain": [
       "array([[-6.79826306e-04,  4.79212493e-01, -2.63758361e-01, ...,\n",
       "        -4.93924856e-01, -1.92541766e+00, -4.78318747e-04],\n",
       "       [-1.39268942e-03,  7.51298910e-04, -7.21449792e-01, ...,\n",
       "         1.69374144e+00, -5.51100727e-01,  9.80791729e-03],\n",
       "       [ 1.57697403e+00,  3.24333429e-01,  1.99115428e-04, ...,\n",
       "        -2.53417015e+00,  3.78803345e-01, -1.05911934e+00],\n",
       "       ...,\n",
       "       [-5.08634031e-01,  1.55329883e+00, -9.35586751e-01, ...,\n",
       "        -4.82470393e-01,  1.93203062e-01, -1.51545763e-01],\n",
       "       [ 1.51200384e-01,  3.72558057e-01,  3.14641416e-01, ...,\n",
       "        -2.89724261e-01,  9.32363272e-02,  1.70876610e+00],\n",
       "       [ 6.57421172e-01,  8.23455229e-02,  1.60553500e-01, ...,\n",
       "         4.06680346e-01, -5.97177625e-01,  2.01480770e+00]])"
      ]
     },
     "execution_count": 25,
     "metadata": {},
     "output_type": "execute_result"
    }
   ],
   "source": [
    "model.A.detach().numpy()  - dag_obj.A"
   ]
  },
  {
   "cell_type": "code",
   "execution_count": 23,
   "metadata": {},
   "outputs": [
    {
     "data": {
      "text/plain": [
       "array([[-6.7982631e-04,  4.7921249e-01, -2.6375836e-01, ...,\n",
       "        -4.9392486e-01, -1.9254177e+00, -4.7831875e-04],\n",
       "       [-1.3926894e-03,  7.5129891e-04, -7.2144979e-01, ...,\n",
       "         1.6937414e+00,  1.1800190e+00,  9.8079173e-03],\n",
       "       [ 1.5769740e+00,  3.2433343e-01,  1.9911543e-04, ...,\n",
       "        -2.5341702e+00, -5.4727811e-01,  7.4729908e-01],\n",
       "       ...,\n",
       "       [-5.0863403e-01,  1.5532988e+00, -9.3558675e-01, ...,\n",
       "        -4.8247039e-01,  1.9320306e-01, -1.5154576e-01],\n",
       "       [ 1.5120038e-01,  3.7255806e-01,  3.1464142e-01, ...,\n",
       "        -2.8972426e-01,  9.3236327e-02,  1.7087661e+00],\n",
       "       [ 6.5742117e-01,  8.2345523e-02,  1.6055350e-01, ...,\n",
       "         4.0668035e-01, -5.9717762e-01,  2.0148077e+00]], dtype=float32)"
      ]
     },
     "execution_count": 23,
     "metadata": {},
     "output_type": "execute_result"
    }
   ],
   "source": [
    "model.A.detach().numpy()"
   ]
  },
  {
   "cell_type": "code",
   "execution_count": null,
   "metadata": {},
   "outputs": [],
   "source": []
  }
 ],
 "metadata": {
  "kernelspec": {
   "display_name": "base",
   "language": "python",
   "name": "python3"
  },
  "language_info": {
   "codemirror_mode": {
    "name": "ipython",
    "version": 3
   },
   "file_extension": ".py",
   "mimetype": "text/x-python",
   "name": "python",
   "nbconvert_exporter": "python",
   "pygments_lexer": "ipython3",
   "version": "3.11.7"
  }
 },
 "nbformat": 4,
 "nbformat_minor": 2
}
