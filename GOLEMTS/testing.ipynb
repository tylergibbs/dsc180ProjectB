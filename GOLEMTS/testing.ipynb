{
 "cells": [
  {
   "cell_type": "code",
   "execution_count": 141,
   "metadata": {},
   "outputs": [
    {
     "name": "stdout",
     "output_type": "stream",
     "text": [
      "The autoreload extension is already loaded. To reload it, use:\n",
      "  %reload_ext autoreload\n"
     ]
    }
   ],
   "source": [
    "%load_ext autoreload"
   ]
  },
  {
   "cell_type": "code",
   "execution_count": 142,
   "metadata": {},
   "outputs": [],
   "source": [
    "%autoreload 2"
   ]
  },
  {
   "cell_type": "code",
   "execution_count": 37,
   "metadata": {},
   "outputs": [],
   "source": [
    "import numpy as np\n",
    "import matplotlib.pyplot as plt"
   ]
  },
  {
   "cell_type": "code",
   "execution_count": 40,
   "metadata": {},
   "outputs": [],
   "source": [
    "n = 100\n",
    "p = 3\n",
    "d = 4"
   ]
  },
  {
   "cell_type": "code",
   "execution_count": 41,
   "metadata": {},
   "outputs": [],
   "source": [
    "Y = np.random.randn(100, p*d)\n",
    "U = np.vstack([np.eye(d), np.zeros((d*(p-1), d))])\n",
    "A = np.random.randn(p*d, d)"
   ]
  },
  {
   "cell_type": "code",
   "execution_count": 15,
   "metadata": {},
   "outputs": [],
   "source": [
    "yua = Y @ (U - A)\n"
   ]
  },
  {
   "cell_type": "code",
   "execution_count": 16,
   "metadata": {},
   "outputs": [],
   "source": [
    "omega = yua.T @ yua"
   ]
  },
  {
   "cell_type": "code",
   "execution_count": 17,
   "metadata": {},
   "outputs": [
    {
     "data": {
      "text/plain": [
       "array([[ 547.27961267,  107.06572309,  -30.29688541, -157.19627782],\n",
       "       [ 107.06572309,  861.10751614,  131.7436413 , -408.36970491],\n",
       "       [ -30.29688541,  131.7436413 ,  645.64698351, -456.84238439],\n",
       "       [-157.19627782, -408.36970491, -456.84238439, 1399.94609188]])"
      ]
     },
     "execution_count": 17,
     "metadata": {},
     "output_type": "execute_result"
    }
   ],
   "source": [
    "omega"
   ]
  },
  {
   "cell_type": "code",
   "execution_count": 20,
   "metadata": {},
   "outputs": [],
   "source": [
    "X = Y[:, :d]"
   ]
  },
  {
   "cell_type": "code",
   "execution_count": 21,
   "metadata": {},
   "outputs": [
    {
     "data": {
      "text/plain": [
       "(100, 4)"
      ]
     },
     "execution_count": 21,
     "metadata": {},
     "output_type": "execute_result"
    }
   ],
   "source": [
    "X.shape"
   ]
  },
  {
   "cell_type": "code",
   "execution_count": 19,
   "metadata": {},
   "outputs": [
    {
     "data": {
      "text/plain": [
       "4.912800332092723"
      ]
     },
     "execution_count": 19,
     "metadata": {},
     "output_type": "execute_result"
    }
   ],
   "source": [
    "np.dot(Y[0], A[:, 0])"
   ]
  },
  {
   "cell_type": "code",
   "execution_count": 23,
   "metadata": {},
   "outputs": [
    {
     "data": {
      "text/plain": [
       "111.37849290928726"
      ]
     },
     "execution_count": 23,
     "metadata": {},
     "output_type": "execute_result"
    }
   ],
   "source": [
    "sum((X[0] - np.dot(Y[0], A[:, 0]))**2)"
   ]
  },
  {
   "cell_type": "code",
   "execution_count": 29,
   "metadata": {},
   "outputs": [
    {
     "data": {
      "text/plain": [
       "array([ 547.27961267,  861.10751614,  645.64698351, 1399.94609188])"
      ]
     },
     "execution_count": 29,
     "metadata": {},
     "output_type": "execute_result"
    }
   ],
   "source": [
    "np.sum((X - np.dot(Y, A))**2, axis=0)"
   ]
  },
  {
   "cell_type": "code",
   "execution_count": 31,
   "metadata": {},
   "outputs": [
    {
     "data": {
      "text/plain": [
       "array([[ 547.27961267,    0.        ,    0.        ,    0.        ],\n",
       "       [   0.        ,  861.10751614,    0.        ,    0.        ],\n",
       "       [   0.        ,    0.        ,  645.64698351,    0.        ],\n",
       "       [   0.        ,    0.        ,    0.        , 1399.94609188]])"
      ]
     },
     "execution_count": 31,
     "metadata": {},
     "output_type": "execute_result"
    }
   ],
   "source": [
    "np.diag(np.diag(omega))"
   ]
  },
  {
   "cell_type": "code",
   "execution_count": 1,
   "metadata": {},
   "outputs": [],
   "source": [
    "from generate_data import SyntheticDataset"
   ]
  },
  {
   "cell_type": "code",
   "execution_count": 47,
   "metadata": {},
   "outputs": [
    {
     "data": {
      "text/plain": [
       "(20, 20)"
      ]
     },
     "execution_count": 47,
     "metadata": {},
     "output_type": "execute_result"
    }
   ],
   "source": [
    "SyntheticDataset(1000, 20, 3, B_scale=1.0, graph_type='ER', degree=4).B"
   ]
  },
  {
   "cell_type": "code",
   "execution_count": 64,
   "metadata": {},
   "outputs": [],
   "source": [
    "dag = SyntheticDataset.simulate_random_dag(20, 1.0, 'ER', np.random.RandomState(1))"
   ]
  },
  {
   "cell_type": "code",
   "execution_count": 66,
   "metadata": {},
   "outputs": [],
   "source": [
    "dag_obj = SyntheticDataset(1000, 20, 3, B_scale=1.0, graph_type='ER', degree=4)"
   ]
  },
  {
   "cell_type": "code",
   "execution_count": 65,
   "metadata": {},
   "outputs": [
    {
     "data": {
      "text/plain": [
       "<matplotlib.image.AxesImage at 0x1379004d0>"
      ]
     },
     "execution_count": 65,
     "metadata": {},
     "output_type": "execute_result"
    },
    {
     "data": {
      "image/png": "[encoded data removed]",
      "text/plain": [
       "<Figure size 640x480 with 1 Axes>"
      ]
     },
     "metadata": {},
     "output_type": "display_data"
    }
   ],
   "source": [
    "plt.imshow(dag)"
   ]
  },
  {
   "cell_type": "code",
   "execution_count": 61,
   "metadata": {},
   "outputs": [],
   "source": [
    "Agr = np.random.choice([0, 1], (20, 20), p=[0.9, 0.1])"
   ]
  },
  {
   "cell_type": "code",
   "execution_count": 62,
   "metadata": {},
   "outputs": [
    {
     "data": {
      "text/plain": [
       "<matplotlib.image.AxesImage at 0x13786bad0>"
      ]
     },
     "execution_count": 62,
     "metadata": {},
     "output_type": "execute_result"
    },
    {
     "data": {
      "image/png": "[encoded data removed]",
      "text/plain": [
       "<Figure size 640x480 with 1 Axes>"
      ]
     },
     "metadata": {},
     "output_type": "display_data"
    }
   ],
   "source": [
    "plt.imshow(Agr)"
   ]
  },
  {
   "cell_type": "code",
   "execution_count": 69,
   "metadata": {},
   "outputs": [],
   "source": [
    "A_weighted = dag_obj.simulate_weight(Agr, dag_obj.B_ranges)"
   ]
  },
  {
   "cell_type": "code",
   "execution_count": 70,
   "metadata": {},
   "outputs": [
    {
     "data": {
      "text/plain": [
       "<matplotlib.image.AxesImage at 0x1379984d0>"
      ]
     },
     "execution_count": 70,
     "metadata": {},
     "output_type": "execute_result"
    },
    {
     "data": {
      "image/png": "[encoded data removed]",
      "text/plain": [
       "<Figure size 640x480 with 1 Axes>"
      ]
     },
     "metadata": {},
     "output_type": "display_data"
    }
   ],
   "source": [
    "plt.imshow(A_weighted)"
   ]
  },
  {
   "cell_type": "code",
   "execution_count": 39,
   "metadata": {},
   "outputs": [],
   "source": [
    "dag_obj = SyntheticDataset(100, 20, 3, B_scale=1.0, graph_type='ER', degree=4)"
   ]
  },
  {
   "cell_type": "code",
   "execution_count": 40,
   "metadata": {},
   "outputs": [
    {
     "data": {
      "text/plain": [
       "<matplotlib.image.AxesImage at 0x14fb6fa10>"
      ]
     },
     "execution_count": 40,
     "metadata": {},
     "output_type": "execute_result"
    },
    {
     "data": {
      "image/png": "[encoded data removed]",
      "text/plain": [
       "<Figure size 640x480 with 1 Axes>"
      ]
     },
     "metadata": {},
     "output_type": "display_data"
    }
   ],
   "source": [
    "plt.imshow(dag_obj.Y)"
   ]
  },
  {
   "cell_type": "code",
   "execution_count": 43,
   "metadata": {},
   "outputs": [
    {
     "data": {
      "text/plain": [
       "array([[ 1.25122764, -0.25510068, -0.69387618, ...,  1.17560485,\n",
       "        -1.01743574,  1.11578773],\n",
       "       [ 1.67844688,  0.48945001, -0.52363219, ..., -0.61875452,\n",
       "        -0.15054433,  0.81306297],\n",
       "       [-0.01030102, -1.27945499,  1.24731469, ..., -1.8948671 ,\n",
       "         0.46811644,  0.14869739],\n",
       "       ...,\n",
       "       [-0.90281635, -0.81668961,  0.25473451, ...,  0.22113765,\n",
       "        -1.3985035 ,  2.49100614],\n",
       "       [ 0.46335339, -1.21142369, -0.66265513, ..., -3.09847692,\n",
       "         0.46353309, -0.38737852],\n",
       "       [-1.5489854 , -0.18879306,  0.31585775, ...,  0.86246833,\n",
       "        -1.05190981, -2.02356629]])"
      ]
     },
     "execution_count": 43,
     "metadata": {},
     "output_type": "execute_result"
    }
   ],
   "source": [
    "dag_obj.Y[:, :40]"
   ]
  },
  {
   "cell_type": "code",
   "execution_count": 42,
   "metadata": {},
   "outputs": [
    {
     "data": {
      "text/plain": [
       "array([[ 6.79037029e-03, -1.26799699e-02,  1.08214289e-02, ...,\n",
       "        -3.14058959e-04, -8.93991091e-06, -2.20464278e-04],\n",
       "       [-5.02255251e-03,  9.06269499e-03,  7.88546325e-03, ...,\n",
       "         1.09671773e-04,  9.63980276e-07, -3.65919387e-04],\n",
       "       [ 9.39625446e-03,  1.98666861e-02,  1.44213650e-03, ...,\n",
       "         2.32906621e-04, -1.17829193e-04,  2.41631800e-04],\n",
       "       ...,\n",
       "       [ 3.73408527e-02, -1.15468601e-02,  2.41589374e-02, ...,\n",
       "        -4.84596010e-04,  6.57896380e-05,  1.19274076e-04],\n",
       "       [ 4.08735032e-03,  3.51006627e-02, -3.75697725e-03, ...,\n",
       "         3.87709020e-04, -2.92067774e-05,  5.60293266e-04],\n",
       "       [-8.11695670e-03, -1.20872208e-02, -1.96254881e-02, ...,\n",
       "        -1.31226786e-04,  1.01273359e-04,  1.56484946e-04]])"
      ]
     },
     "execution_count": 42,
     "metadata": {},
     "output_type": "execute_result"
    }
   ],
   "source": [
    "dag_obj.Y[:, 40:]"
   ]
  },
  {
   "cell_type": "code",
   "execution_count": 33,
   "metadata": {},
   "outputs": [
    {
     "data": {
      "text/plain": [
       "(80, 20)"
      ]
     },
     "execution_count": 33,
     "metadata": {},
     "output_type": "execute_result"
    }
   ],
   "source": [
    "dag_obj.A.shape"
   ]
  },
  {
   "cell_type": "code",
   "execution_count": 34,
   "metadata": {},
   "outputs": [
    {
     "data": {
      "text/plain": [
       "(1000, 80)"
      ]
     },
     "execution_count": 34,
     "metadata": {},
     "output_type": "execute_result"
    }
   ],
   "source": [
    "dag_obj.Y.shape"
   ]
  },
  {
   "cell_type": "code",
   "execution_count": 125,
   "metadata": {},
   "outputs": [],
   "source": [
    "X = dag_obj.Y[:, :20]"
   ]
  },
  {
   "cell_type": "code",
   "execution_count": 126,
   "metadata": {},
   "outputs": [
    {
     "data": {
      "text/plain": [
       "(1000, 20)"
      ]
     },
     "execution_count": 126,
     "metadata": {},
     "output_type": "execute_result"
    }
   ],
   "source": [
    "X.shape"
   ]
  },
  {
   "cell_type": "code",
   "execution_count": 127,
   "metadata": {},
   "outputs": [],
   "source": [
    "ya = dag_obj.Y @ dag_obj.A"
   ]
  },
  {
   "cell_type": "code",
   "execution_count": 128,
   "metadata": {},
   "outputs": [
    {
     "data": {
      "text/plain": [
       "array([[ 0.63607818, -0.71831966,  0.54140666, ..., -0.10939976,\n",
       "         0.26265005, -1.19908123],\n",
       "       [ 1.0657144 , -0.44314814,  2.10813192, ...,  1.43284261,\n",
       "         0.63762381, -1.37304542],\n",
       "       [ 0.71167312, -0.37788095,  1.6884842 , ...,  0.90432895,\n",
       "         2.69002712, -1.40670132],\n",
       "       ...,\n",
       "       [ 0.42273825, -2.07631473, -0.14471028, ..., -0.70752807,\n",
       "        -0.60143071,  1.24300849],\n",
       "       [-0.61926274, -1.59834052, -0.71460924, ...,  0.2573599 ,\n",
       "        -0.97295073, -0.82520457],\n",
       "       [-1.28899776,  0.45239361, -0.28536544, ...,  0.28830151,\n",
       "         1.35627647,  1.77010341]])"
      ]
     },
     "execution_count": 128,
     "metadata": {},
     "output_type": "execute_result"
    }
   ],
   "source": [
    "X - ya"
   ]
  },
  {
   "cell_type": "code",
   "execution_count": 129,
   "metadata": {},
   "outputs": [
    {
     "data": {
      "text/plain": [
       "<matplotlib.image.AxesImage at 0x140294990>"
      ]
     },
     "execution_count": 129,
     "metadata": {},
     "output_type": "execute_result"
    },
    {
     "data": {
      "image/png": "[encoded data removed]",
      "text/plain": [
       "<Figure size 640x480 with 1 Axes>"
      ]
     },
     "metadata": {},
     "output_type": "display_data"
    }
   ],
   "source": [
    "plt.imshow(X[:20])"
   ]
  },
  {
   "cell_type": "code",
   "execution_count": 130,
   "metadata": {},
   "outputs": [
    {
     "data": {
      "text/plain": [
       "<matplotlib.image.AxesImage at 0x14031a1d0>"
      ]
     },
     "execution_count": 130,
     "metadata": {},
     "output_type": "execute_result"
    },
    {
     "data": {
      "image/png": "[encoded data removed]",
      "text/plain": [
       "<Figure size 640x480 with 1 Axes>"
      ]
     },
     "metadata": {},
     "output_type": "display_data"
    }
   ],
   "source": [
    "plt.imshow(ya[:20])"
   ]
  },
  {
   "cell_type": "code",
   "execution_count": 131,
   "metadata": {},
   "outputs": [
    {
     "data": {
      "text/plain": [
       "array([[ 0.25884891, -0.18706631,  0.4183066 , ...,  0.0524844 ,\n",
       "         0.35264609, -0.33994285],\n",
       "       [ 1.06946304, -0.29832263,  1.3166436 , ..., -0.97128967,\n",
       "        -0.31925155,  0.49981402],\n",
       "       [ 0.5408536 , -0.13608824,  1.30903632, ..., -0.22326409,\n",
       "         0.66877065, -0.10150143],\n",
       "       ...,\n",
       "       [ 0.51723236, -1.12663592, -0.16202764, ...,  0.20244977,\n",
       "        -0.02532765, -0.60028007],\n",
       "       [-0.9672922 , -0.89141631, -0.19340441, ...,  0.85957822,\n",
       "        -0.15999445, -1.03885665],\n",
       "       [-0.43036657,  0.20937063, -0.20227716, ..., -1.08788947,\n",
       "         0.21533625,  0.55641469]])"
      ]
     },
     "execution_count": 131,
     "metadata": {},
     "output_type": "execute_result"
    }
   ],
   "source": [
    "ya + dag_obj.Z"
   ]
  },
  {
   "cell_type": "code",
   "execution_count": 132,
   "metadata": {},
   "outputs": [
    {
     "data": {
      "text/plain": [
       "array([[ 0.25884891, -0.18706631,  0.4183066 , ...,  0.0524844 ,\n",
       "         0.35264609, -0.33994285],\n",
       "       [ 1.06946304, -0.29832263,  1.3166436 , ..., -0.97128967,\n",
       "        -0.31925155,  0.49981402],\n",
       "       [ 0.5408536 , -0.13608824,  1.30903632, ..., -0.22326409,\n",
       "         0.66877065, -0.10150143],\n",
       "       ...,\n",
       "       [ 0.51723236, -1.12663592, -0.16202764, ...,  0.20244977,\n",
       "        -0.02532765, -0.60028007],\n",
       "       [-0.9672922 , -0.89141631, -0.19340441, ...,  0.85957822,\n",
       "        -0.15999445, -1.03885665],\n",
       "       [-0.43036657,  0.20937063, -0.20227716, ..., -1.08788947,\n",
       "         0.21533625,  0.55641469]])"
      ]
     },
     "execution_count": 132,
     "metadata": {},
     "output_type": "execute_result"
    }
   ],
   "source": [
    "dag_obj.X"
   ]
  },
  {
   "cell_type": "code",
   "execution_count": 134,
   "metadata": {},
   "outputs": [
    {
     "data": {
      "text/plain": [
       "array([ 0.0037074 , -0.03470875,  0.00148079, -0.003235  , -0.00847463,\n",
       "       -0.04186581,  0.04924077, -0.02083693,  0.00561222, -0.01031412,\n",
       "        0.00845566, -0.01746424,  0.02126485, -0.02488406, -0.01117705,\n",
       "        0.00264126, -0.00870244,  0.00354643,  0.00380279, -0.00375492])"
      ]
     },
     "execution_count": 134,
     "metadata": {},
     "output_type": "execute_result"
    }
   ],
   "source": [
    "np.mean(dag_obj.X, axis=0)"
   ]
  },
  {
   "cell_type": "code",
   "execution_count": 1,
   "metadata": {},
   "outputs": [],
   "source": [
    "from model import GolemTS\n",
    "from generate_data import SyntheticDataset\n",
    "import numpy as np\n"
   ]
  },
  {
   "cell_type": "code",
   "execution_count": 2,
   "metadata": {},
   "outputs": [],
   "source": [
    "import torch"
   ]
  },
  {
   "cell_type": "code",
   "execution_count": 22,
   "metadata": {},
   "outputs": [],
   "source": [
    "A_init = np.random.randn(20, 5)\n",
    "dag_obj = SyntheticDataset(1000, 5, 3, B_scale=1.0, graph_type='ER', degree=4)\n",
    "model = GolemTS(n=1000, d=5, p=3, Y=dag_obj.Y, lambda_1=0.0, lambda_2=0.0, A_init=A_init)"
   ]
  },
  {
   "cell_type": "code",
   "execution_count": null,
   "metadata": {},
   "outputs": [],
   "source": []
  },
  {
   "cell_type": "code",
   "execution_count": 23,
   "metadata": {},
   "outputs": [],
   "source": [
    "import trainer"
   ]
  },
  {
   "cell_type": "code",
   "execution_count": 24,
   "metadata": {},
   "outputs": [
    {
     "name": "stdout",
     "output_type": "stream",
     "text": [
      "tensor(-125.8777, grad_fn=<AddBackward0>)\n",
      "tensor(-125.8777, grad_fn=<MulBackward0>)\n",
      "tensor(592.0764, grad_fn=<SubBackward0>)\n",
      "tensor(nan, grad_fn=<AddBackward0>)\n",
      "tensor(nan, grad_fn=<MulBackward0>)\n",
      "tensor(718.9775, grad_fn=<SubBackward0>)\n",
      "tensor(nan, grad_fn=<AddBackward0>)\n",
      "tensor(nan, grad_fn=<MulBackward0>)\n",
      "tensor(879.8771, grad_fn=<SubBackward0>)\n",
      "tensor(nan, grad_fn=<AddBackward0>)\n",
      "tensor(nan, grad_fn=<MulBackward0>)\n",
      "tensor(953.5291, grad_fn=<SubBackward0>)\n",
      "tensor(nan, grad_fn=<AddBackward0>)\n",
      "tensor(nan, grad_fn=<MulBackward0>)\n",
      "tensor(967.8713, grad_fn=<SubBackward0>)\n",
      "tensor(nan, grad_fn=<AddBackward0>)\n",
      "tensor(nan, grad_fn=<MulBackward0>)\n",
      "tensor(949.4634, grad_fn=<SubBackward0>)\n",
      "tensor(nan, grad_fn=<AddBackward0>)\n",
      "tensor(nan, grad_fn=<MulBackward0>)\n",
      "tensor(932.2145, grad_fn=<SubBackward0>)\n",
      "tensor(nan, grad_fn=<AddBackward0>)\n",
      "tensor(nan, grad_fn=<MulBackward0>)\n",
      "tensor(932.5903, grad_fn=<SubBackward0>)\n",
      "tensor(nan, grad_fn=<AddBackward0>)\n",
      "tensor(nan, grad_fn=<MulBackward0>)\n",
      "tensor(1098.8147, grad_fn=<SubBackward0>)\n",
      "tensor(-127.8087, grad_fn=<AddBackward0>)\n",
      "tensor(-127.8087, grad_fn=<MulBackward0>)\n",
      "tensor(1189.9136, grad_fn=<SubBackward0>)\n"
     ]
    }
   ],
   "source": [
    "trainer.train(model, dag_obj.Y, epochs=1000)"
   ]
  },
  {
   "cell_type": "code",
   "execution_count": 25,
   "metadata": {},
   "outputs": [
    {
     "data": {
      "text/plain": [
       "array([[-1.12016721e+00, -1.33455207e+00,  9.31025946e-01,\n",
       "        -4.96300773e-01, -5.89419795e-01],\n",
       "       [ 1.04206586e+00,  1.10245802e+00,  1.81851615e+00,\n",
       "         1.75983710e+00,  1.74679230e-01],\n",
       "       [-9.44467161e-01, -9.21457239e-01, -1.61979621e+00,\n",
       "         1.63595033e+00,  4.15802894e-01],\n",
       "       [ 1.45089847e+00, -3.47150891e-01,  1.63889130e+00,\n",
       "         1.00302095e+00,  1.67494771e+00],\n",
       "       [ 1.10308861e+00, -2.83077781e+00,  8.93592636e-01,\n",
       "        -2.88073680e-01, -4.64719939e-01],\n",
       "       [-2.52948100e-01,  6.54412814e-01, -1.17127395e+00,\n",
       "        -7.54755298e-01,  4.49522079e-02],\n",
       "       [-1.30748590e+00, -2.86321930e-01, -3.01274200e-02,\n",
       "         6.16575000e-01, -5.39770080e-01],\n",
       "       [ 2.65959442e-01,  1.06998640e+00, -1.16404408e+00,\n",
       "         1.34309901e+00,  9.96014477e-01],\n",
       "       [-5.45916928e-01, -9.81855628e-01,  8.08093945e-01,\n",
       "        -2.27612241e+00,  4.40154341e-01],\n",
       "       [ 1.64728892e-01, -3.10583849e-01,  9.96782649e-02,\n",
       "         1.61086800e+00, -9.28698311e-02],\n",
       "       [ 6.04734394e-01, -1.10494954e+00,  1.80432370e+00,\n",
       "         2.60911349e-01,  1.44868660e+00],\n",
       "       [-4.34668581e-01, -1.86232455e-01,  6.56938144e-01,\n",
       "         8.77202380e-02, -1.64264062e-01],\n",
       "       [ 1.79213621e+00,  6.83789504e-01, -1.35387734e+00,\n",
       "         9.80653530e-01, -3.39859103e-01],\n",
       "       [ 5.04503868e-01,  9.21050259e-01,  4.73327368e-01,\n",
       "        -7.22375771e-01, -4.97281540e-01],\n",
       "       [-7.47234035e-01, -6.06003548e-01, -2.10903469e-03,\n",
       "         1.21317184e+00, -4.61014152e-01],\n",
       "       [-1.35726102e+00, -3.19144274e-01,  5.85844297e-01,\n",
       "         1.29743106e+00,  6.38879826e-01],\n",
       "       [-1.22378059e-01,  1.53702137e+00, -1.95136577e-01,\n",
       "         1.49650792e+00, -8.17685840e-01],\n",
       "       [ 6.69518221e-01,  1.57584505e+00, -5.32077938e-01,\n",
       "         1.68413852e-01, -3.97674404e-01],\n",
       "       [-2.66557605e-01, -4.12766050e-02,  1.55407030e-01,\n",
       "        -8.29053912e-01,  1.44386882e+00],\n",
       "       [-1.00294304e+00, -8.59160712e-01,  6.27810653e-01,\n",
       "         2.46805479e-01, -1.00102772e+00]])"
      ]
     },
     "execution_count": 25,
     "metadata": {},
     "output_type": "execute_result"
    }
   ],
   "source": [
    "A_init"
   ]
  },
  {
   "cell_type": "code",
   "execution_count": 28,
   "metadata": {},
   "outputs": [
    {
     "data": {
      "text/plain": [
       "(20, 5)"
      ]
     },
     "execution_count": 28,
     "metadata": {},
     "output_type": "execute_result"
    }
   ],
   "source": [
    "dag_obj.A.shape"
   ]
  },
  {
   "cell_type": "code",
   "execution_count": 29,
   "metadata": {},
   "outputs": [
    {
     "data": {
      "text/plain": [
       "torch.Size([20, 5])"
      ]
     },
     "execution_count": 29,
     "metadata": {},
     "output_type": "execute_result"
    }
   ],
   "source": [
    "model.A.shape"
   ]
  },
  {
   "cell_type": "code",
   "execution_count": 9,
   "metadata": {},
   "outputs": [],
   "source": [
    "def _compute_likelihood(Y, A):\n",
    "\n",
    "    Binv = model.U - A\n",
    "    B = torch.pinverse(Binv)\n",
    "        # print(self.A)\n",
    "        # print(Binv)\n",
    "        # print(self.Y @ Binv)\n",
    "    omega = torch.diag(torch.diag((Y @ Binv).T @ (Y @ Binv))) / 1000\n",
    "    print(omega)\n",
    "        # print((self.Y @ Binv).T @ (self.Y @ Binv))\n",
    "    print(torch.det(B.T @ omega @ B))\n",
    "    print(B.T @ omega @ B)\n",
    "    print(np.linalg.eig((B.T @ omega @ B).detach().numpy())[0])\n",
    "    return 0.5 * torch.logdet(B.T @ omega @ B)"
   ]
  },
  {
   "cell_type": "code",
   "execution_count": 30,
   "metadata": {},
   "outputs": [
    {
     "name": "stdout",
     "output_type": "stream",
     "text": [
      "tensor([[1.4335, 0.0000, 0.0000, 0.0000, 0.0000],\n",
      "        [0.0000, 1.8797, 0.0000, 0.0000, 0.0000],\n",
      "        [0.0000, 0.0000, 1.2795, 0.0000, 0.0000],\n",
      "        [0.0000, 0.0000, 0.0000, 1.1491, 0.0000],\n",
      "        [0.0000, 0.0000, 0.0000, 0.0000, 1.4564]])\n",
      "tensor(-0.)\n",
      "tensor([[ 8.6805e-01,  1.0524e+00, -6.4645e-01,  9.1205e-01,  1.9298e-01,\n",
      "          2.9694e-02,  0.0000e+00,  0.0000e+00,  0.0000e+00,  0.0000e+00,\n",
      "          0.0000e+00, -3.3484e-04,  0.0000e+00,  2.6149e-04,  0.0000e+00,\n",
      "         -1.4682e-06,  0.0000e+00,  0.0000e+00,  0.0000e+00,  0.0000e+00],\n",
      "        [ 1.0524e+00,  1.8256e+00, -1.4396e+00,  2.2702e+00,  4.9488e-01,\n",
      "         -1.8139e+00,  0.0000e+00,  0.0000e+00,  0.0000e+00,  0.0000e+00,\n",
      "          0.0000e+00, -8.3347e-04,  0.0000e+00,  1.0037e-03,  0.0000e+00,\n",
      "         -4.5836e-06,  0.0000e+00,  0.0000e+00,  0.0000e+00,  0.0000e+00],\n",
      "        [-6.4645e-01, -1.4396e+00,  1.9051e+00, -3.1863e+00, -8.0574e-01,\n",
      "          4.2356e+00,  0.0000e+00,  0.0000e+00,  0.0000e+00,  0.0000e+00,\n",
      "          0.0000e+00,  1.1698e-03,  0.0000e+00, -1.6731e-03,  0.0000e+00,\n",
      "          7.1786e-06,  0.0000e+00,  0.0000e+00,  0.0000e+00,  0.0000e+00],\n",
      "        [ 9.1205e-01,  2.2702e+00, -3.1863e+00,  7.2056e+00,  2.2542e+00,\n",
      "         -1.1228e+01,  0.0000e+00,  0.0000e+00,  0.0000e+00,  0.0000e+00,\n",
      "          0.0000e+00, -2.6454e-03,  0.0000e+00,  3.9586e-03,  0.0000e+00,\n",
      "         -1.6903e-05,  0.0000e+00,  0.0000e+00,  0.0000e+00,  0.0000e+00],\n",
      "        [ 1.9298e-01,  4.9488e-01, -8.0574e-01,  2.2542e+00,  1.0066e+00,\n",
      "         -3.8678e+00,  0.0000e+00,  0.0000e+00,  0.0000e+00,  0.0000e+00,\n",
      "          0.0000e+00, -8.2758e-04,  0.0000e+00,  1.2678e-03,  0.0000e+00,\n",
      "         -5.5118e-06,  0.0000e+00,  0.0000e+00,  0.0000e+00,  0.0000e+00],\n",
      "        [ 2.9694e-02, -1.8139e+00,  4.2356e+00, -1.1228e+01, -3.8678e+00,\n",
      "          2.0537e+01,  0.0000e+00,  0.0000e+00,  0.0000e+00,  0.0000e+00,\n",
      "          0.0000e+00,  4.1222e-03,  0.0000e+00, -6.6303e-03,  0.0000e+00,\n",
      "          2.7719e-05,  0.0000e+00,  0.0000e+00,  0.0000e+00,  0.0000e+00],\n",
      "        [ 0.0000e+00,  0.0000e+00,  0.0000e+00,  0.0000e+00,  0.0000e+00,\n",
      "          0.0000e+00,  0.0000e+00,  0.0000e+00,  0.0000e+00,  0.0000e+00,\n",
      "          0.0000e+00,  0.0000e+00,  0.0000e+00,  0.0000e+00,  0.0000e+00,\n",
      "          0.0000e+00,  0.0000e+00,  0.0000e+00,  0.0000e+00,  0.0000e+00],\n",
      "        [ 0.0000e+00,  0.0000e+00,  0.0000e+00,  0.0000e+00,  0.0000e+00,\n",
      "          0.0000e+00,  0.0000e+00,  0.0000e+00,  0.0000e+00,  0.0000e+00,\n",
      "          0.0000e+00,  0.0000e+00,  0.0000e+00,  0.0000e+00,  0.0000e+00,\n",
      "          0.0000e+00,  0.0000e+00,  0.0000e+00,  0.0000e+00,  0.0000e+00],\n",
      "        [ 0.0000e+00,  0.0000e+00,  0.0000e+00,  0.0000e+00,  0.0000e+00,\n",
      "          0.0000e+00,  0.0000e+00,  0.0000e+00,  0.0000e+00,  0.0000e+00,\n",
      "          0.0000e+00,  0.0000e+00,  0.0000e+00,  0.0000e+00,  0.0000e+00,\n",
      "          0.0000e+00,  0.0000e+00,  0.0000e+00,  0.0000e+00,  0.0000e+00],\n",
      "        [ 0.0000e+00,  0.0000e+00,  0.0000e+00,  0.0000e+00,  0.0000e+00,\n",
      "          0.0000e+00,  0.0000e+00,  0.0000e+00,  0.0000e+00,  0.0000e+00,\n",
      "          0.0000e+00,  0.0000e+00,  0.0000e+00,  0.0000e+00,  0.0000e+00,\n",
      "          0.0000e+00,  0.0000e+00,  0.0000e+00,  0.0000e+00,  0.0000e+00],\n",
      "        [ 0.0000e+00,  0.0000e+00,  0.0000e+00,  0.0000e+00,  0.0000e+00,\n",
      "          0.0000e+00,  0.0000e+00,  0.0000e+00,  0.0000e+00,  0.0000e+00,\n",
      "          0.0000e+00,  0.0000e+00,  0.0000e+00,  0.0000e+00,  0.0000e+00,\n",
      "          0.0000e+00,  0.0000e+00,  0.0000e+00,  0.0000e+00,  0.0000e+00],\n",
      "        [-3.3484e-04, -8.3347e-04,  1.1698e-03, -2.6454e-03, -8.2758e-04,\n",
      "          4.1222e-03,  0.0000e+00,  0.0000e+00,  0.0000e+00,  0.0000e+00,\n",
      "          0.0000e+00,  9.7123e-07,  0.0000e+00, -1.4533e-06,  0.0000e+00,\n",
      "          6.2055e-09,  0.0000e+00,  0.0000e+00,  0.0000e+00,  0.0000e+00],\n",
      "        [ 0.0000e+00,  0.0000e+00,  0.0000e+00,  0.0000e+00,  0.0000e+00,\n",
      "          0.0000e+00,  0.0000e+00,  0.0000e+00,  0.0000e+00,  0.0000e+00,\n",
      "          0.0000e+00,  0.0000e+00,  0.0000e+00,  0.0000e+00,  0.0000e+00,\n",
      "          0.0000e+00,  0.0000e+00,  0.0000e+00,  0.0000e+00,  0.0000e+00],\n",
      "        [ 2.6149e-04,  1.0037e-03, -1.6731e-03,  3.9586e-03,  1.2678e-03,\n",
      "         -6.6303e-03,  0.0000e+00,  0.0000e+00,  0.0000e+00,  0.0000e+00,\n",
      "          0.0000e+00, -1.4533e-06,  0.0000e+00,  2.2510e-06,  0.0000e+00,\n",
      "         -9.4995e-09,  0.0000e+00,  0.0000e+00,  0.0000e+00,  0.0000e+00],\n",
      "        [ 0.0000e+00,  0.0000e+00,  0.0000e+00,  0.0000e+00,  0.0000e+00,\n",
      "          0.0000e+00,  0.0000e+00,  0.0000e+00,  0.0000e+00,  0.0000e+00,\n",
      "          0.0000e+00,  0.0000e+00,  0.0000e+00,  0.0000e+00,  0.0000e+00,\n",
      "          0.0000e+00,  0.0000e+00,  0.0000e+00,  0.0000e+00,  0.0000e+00],\n",
      "        [-1.4682e-06, -4.5836e-06,  7.1786e-06, -1.6903e-05, -5.5118e-06,\n",
      "          2.7719e-05,  0.0000e+00,  0.0000e+00,  0.0000e+00,  0.0000e+00,\n",
      "          0.0000e+00,  6.2055e-09,  0.0000e+00, -9.4995e-09,  0.0000e+00,\n",
      "          4.0317e-11,  0.0000e+00,  0.0000e+00,  0.0000e+00,  0.0000e+00],\n",
      "        [ 0.0000e+00,  0.0000e+00,  0.0000e+00,  0.0000e+00,  0.0000e+00,\n",
      "          0.0000e+00,  0.0000e+00,  0.0000e+00,  0.0000e+00,  0.0000e+00,\n",
      "          0.0000e+00,  0.0000e+00,  0.0000e+00,  0.0000e+00,  0.0000e+00,\n",
      "          0.0000e+00,  0.0000e+00,  0.0000e+00,  0.0000e+00,  0.0000e+00],\n",
      "        [ 0.0000e+00,  0.0000e+00,  0.0000e+00,  0.0000e+00,  0.0000e+00,\n",
      "          0.0000e+00,  0.0000e+00,  0.0000e+00,  0.0000e+00,  0.0000e+00,\n",
      "          0.0000e+00,  0.0000e+00,  0.0000e+00,  0.0000e+00,  0.0000e+00,\n",
      "          0.0000e+00,  0.0000e+00,  0.0000e+00,  0.0000e+00,  0.0000e+00],\n",
      "        [ 0.0000e+00,  0.0000e+00,  0.0000e+00,  0.0000e+00,  0.0000e+00,\n",
      "          0.0000e+00,  0.0000e+00,  0.0000e+00,  0.0000e+00,  0.0000e+00,\n",
      "          0.0000e+00,  0.0000e+00,  0.0000e+00,  0.0000e+00,  0.0000e+00,\n",
      "          0.0000e+00,  0.0000e+00,  0.0000e+00,  0.0000e+00,  0.0000e+00],\n",
      "        [ 0.0000e+00,  0.0000e+00,  0.0000e+00,  0.0000e+00,  0.0000e+00,\n",
      "          0.0000e+00,  0.0000e+00,  0.0000e+00,  0.0000e+00,  0.0000e+00,\n",
      "          0.0000e+00,  0.0000e+00,  0.0000e+00,  0.0000e+00,  0.0000e+00,\n",
      "          0.0000e+00,  0.0000e+00,  0.0000e+00,  0.0000e+00,  0.0000e+00]])\n",
      "[ 2.9078390e+01  3.5597427e+00  4.3100652e-01  1.1415231e-01\n",
      "  1.6498016e-01  1.4475140e-07  1.0210860e-13 -7.5525989e-15\n",
      "  5.9357753e-17  0.0000000e+00  0.0000000e+00  0.0000000e+00\n",
      "  0.0000000e+00  0.0000000e+00  0.0000000e+00  0.0000000e+00\n",
      "  0.0000000e+00  0.0000000e+00  0.0000000e+00  0.0000000e+00]\n"
     ]
    },
    {
     "data": {
      "text/plain": [
       "tensor(-inf)"
      ]
     },
     "execution_count": 30,
     "metadata": {},
     "output_type": "execute_result"
    }
   ],
   "source": [
    "_compute_likelihood(torch.tensor(dag_obj.Y, dtype=torch.float32), torch.tensor(dag_obj.A, dtype=torch.float32))\n",
    "\n",
    "\n"
   ]
  },
  {
   "cell_type": "code",
   "execution_count": 31,
   "metadata": {},
   "outputs": [
    {
     "name": "stdout",
     "output_type": "stream",
     "text": [
      "tensor([[ 73.7022,   0.0000,   0.0000,   0.0000,   0.0000],\n",
      "        [  0.0000,  16.8019,   0.0000,   0.0000,   0.0000],\n",
      "        [  0.0000,   0.0000, 220.5424,   0.0000,   0.0000],\n",
      "        [  0.0000,   0.0000,   0.0000,   2.0102,   0.0000],\n",
      "        [  0.0000,   0.0000,   0.0000,   0.0000,   0.8720]],\n",
      "       grad_fn=<DivBackward0>)\n",
      "tensor(-0., grad_fn=<LinalgDetBackward0>)\n",
      "tensor([[ 1.1304e+00,  8.8353e-01, -1.5081e+00,  1.2405e+00, -1.0563e+00,\n",
      "         -1.5370e+00, -8.3895e-02, -9.3028e-01, -2.3388e-01, -8.4222e-02,\n",
      "          8.8063e-01,  3.9595e-01, -1.7628e+00,  1.2131e-01,  1.0661e-01,\n",
      "          6.7263e-01,  9.7405e-01,  2.5982e-02,  1.5525e-02,  1.3029e+00],\n",
      "        [ 8.8353e-01,  1.4316e+00, -1.9322e+00,  1.8736e+00, -3.1826e-01,\n",
      "         -1.6793e+00, -4.1788e-01, -7.8116e-01, -3.5803e-01,  2.7303e-02,\n",
      "          1.1573e+00,  2.9767e-01, -1.0469e+00,  3.9312e-01, -1.3363e-01,\n",
      "          1.2174e-01,  9.0534e-01,  3.7083e-01, -1.8135e-01,  1.0285e+00],\n",
      "        [-1.5081e+00, -1.9322e+00,  3.1379e+00, -2.7922e+00,  1.1635e+00,\n",
      "          2.6694e+00,  5.8694e-01,  1.3088e+00,  6.1678e-01,  7.0376e-02,\n",
      "         -1.6313e+00, -5.0634e-01,  2.0444e+00, -5.7748e-01,  1.6185e-01,\n",
      "         -3.9581e-01, -1.6694e+00, -5.8803e-01,  2.0332e-01, -1.8033e+00],\n",
      "        [ 1.2405e+00,  1.8736e+00, -2.7922e+00,  2.6055e+00, -7.1092e-01,\n",
      "         -2.3496e+00, -5.9477e-01, -1.0953e+00, -5.3773e-01, -1.4417e-02,\n",
      "          1.5363e+00,  4.1586e-01, -1.5587e+00,  5.6450e-01, -2.0080e-01,\n",
      "          1.9587e-01,  1.3726e+00,  5.6932e-01, -2.2523e-01,  1.4733e+00],\n",
      "        [-1.0563e+00, -3.1826e-01,  1.1635e+00, -7.1092e-01,  1.7114e+00,\n",
      "          1.2366e+00, -9.8358e-02,  8.1302e-01,  2.4079e-01,  1.7778e-01,\n",
      "         -4.9793e-01, -3.8070e-01,  1.9671e+00,  1.6486e-02, -1.9526e-01,\n",
      "         -9.1621e-01, -1.0493e+00,  5.6857e-02, -1.4687e-01, -1.2745e+00],\n",
      "        [-1.5370e+00, -1.6793e+00,  2.6694e+00, -2.3496e+00,  1.2366e+00,\n",
      "          2.4520e+00,  3.8008e-01,  1.2995e+00,  4.8754e-01,  7.2473e-02,\n",
      "         -1.4922e+00, -5.2845e-01,  2.2042e+00, -3.9725e-01,  2.3630e-02,\n",
      "         -6.3270e-01, -1.5130e+00, -3.3717e-01,  1.1240e-01, -1.8026e+00],\n",
      "        [-8.3895e-02, -4.1788e-01,  5.8694e-01, -5.9477e-01, -9.8358e-02,\n",
      "          3.8008e-01,  2.1579e-01,  1.0335e-01,  1.3159e-01, -1.9033e-02,\n",
      "         -2.8349e-01, -1.9679e-02, -2.4063e-02, -1.8855e-01,  1.2465e-01,\n",
      "          1.8136e-01, -2.0048e-01, -2.2879e-01,  9.9150e-02, -1.1524e-01],\n",
      "        [-9.3028e-01, -7.8116e-01,  1.3088e+00, -1.0953e+00,  8.1302e-01,\n",
      "          1.2995e+00,  1.0335e-01,  7.7517e-01,  1.9958e-01,  6.5885e-02,\n",
      "         -7.5829e-01, -3.2326e-01,  1.4174e+00, -1.2716e-01, -6.6740e-02,\n",
      "         -5.0826e-01, -8.0634e-01, -5.0724e-02,  3.7224e-03, -1.0706e+00],\n",
      "        [-2.3388e-01, -3.5803e-01,  6.1678e-01, -5.3773e-01,  2.4079e-01,\n",
      "          4.8754e-01,  1.3159e-01,  1.9958e-01,  1.6120e-01,  8.0071e-03,\n",
      "         -2.7702e-01, -7.6708e-02,  3.0681e-01, -1.3268e-01,  5.2278e-02,\n",
      "         -3.0218e-02, -3.4581e-01, -1.6870e-01,  5.8455e-02, -3.0114e-01],\n",
      "        [-8.4222e-02,  2.7303e-02,  7.0376e-02, -1.4417e-02,  1.7778e-01,\n",
      "          7.2473e-02, -1.9033e-02,  6.5885e-02,  8.0071e-03,  2.7436e-02,\n",
      "         -7.4771e-03, -2.9853e-02,  1.7857e-01,  1.1829e-02, -2.1486e-02,\n",
      "         -8.6654e-02, -8.1183e-02,  1.6314e-02, -2.5002e-02, -1.0201e-01],\n",
      "        [ 8.8063e-01,  1.1573e+00, -1.6313e+00,  1.5363e+00, -4.9793e-01,\n",
      "         -1.4922e+00, -2.8349e-01, -7.5829e-01, -2.7702e-01, -7.4771e-03,\n",
      "          9.9507e-01,  3.0363e-01, -1.1748e+00,  2.7608e-01, -5.2029e-02,\n",
      "          2.8121e-01,  8.3105e-01,  2.2465e-01, -9.7356e-02,  1.0166e+00],\n",
      "        [ 3.9595e-01,  2.9767e-01, -5.0634e-01,  4.1586e-01, -3.8070e-01,\n",
      "         -5.2845e-01, -1.9679e-02, -3.2326e-01, -7.6708e-02, -2.9853e-02,\n",
      "          3.0363e-01,  1.3993e-01, -6.2716e-01,  3.4050e-02,  4.3224e-02,\n",
      "          2.4946e-01,  3.3528e-01, -2.2327e-03,  1.1843e-02,  4.5558e-01],\n",
      "        [-1.7628e+00, -1.0469e+00,  2.0444e+00, -1.5587e+00,  1.9671e+00,\n",
      "          2.2042e+00, -2.4063e-02,  1.4174e+00,  3.0681e-01,  1.7857e-01,\n",
      "         -1.1748e+00, -6.2716e-01,  2.9346e+00, -6.0804e-02, -2.5800e-01,\n",
      "         -1.2565e+00, -1.4931e+00,  1.0099e-01, -1.2452e-01, -2.0386e+00],\n",
      "        [ 1.2131e-01,  3.9312e-01, -5.7748e-01,  5.6450e-01,  1.6486e-02,\n",
      "         -3.9725e-01, -1.8855e-01, -1.2716e-01, -1.3268e-01,  1.1829e-02,\n",
      "          2.7608e-01,  3.4050e-02, -6.0804e-02,  1.6874e-01, -1.0245e-01,\n",
      "         -1.2335e-01,  2.2847e-01,  2.0488e-01, -8.6091e-02,  1.5977e-01],\n",
      "        [ 1.0661e-01, -1.3363e-01,  1.6185e-01, -2.0080e-01, -1.9526e-01,\n",
      "          2.3630e-02,  1.2465e-01, -6.6740e-02,  5.2278e-02, -2.1486e-02,\n",
      "         -5.2029e-02,  4.3224e-02, -2.5800e-01, -1.0245e-01,  9.4459e-02,\n",
      "          2.0645e-01,  5.1071e-03, -1.4311e-01,  6.2478e-02,  1.0946e-01],\n",
      "        [ 6.7263e-01,  1.2174e-01, -3.9581e-01,  1.9587e-01, -9.1621e-01,\n",
      "         -6.3270e-01,  1.8136e-01, -5.0826e-01, -3.0218e-02, -8.6654e-02,\n",
      "          2.8121e-01,  2.4946e-01, -1.2565e+00, -1.2335e-01,  2.0645e-01,\n",
      "          6.8003e-01,  4.7384e-01, -2.2203e-01,  1.3336e-01,  7.6548e-01],\n",
      "        [ 9.7405e-01,  9.0534e-01, -1.6694e+00,  1.3726e+00, -1.0493e+00,\n",
      "         -1.5130e+00, -2.0048e-01, -8.0634e-01, -3.4581e-01, -8.1183e-02,\n",
      "          8.3105e-01,  3.3528e-01, -1.4931e+00,  2.2847e-01,  5.1071e-03,\n",
      "          4.7384e-01,  1.0456e+00,  2.2460e-01, -4.3680e-02,  1.1712e+00],\n",
      "        [ 2.5982e-02,  3.7083e-01, -5.8803e-01,  5.6932e-01,  5.6857e-02,\n",
      "         -3.3717e-01, -2.2879e-01, -5.0724e-02, -1.6870e-01,  1.6314e-02,\n",
      "          2.2465e-01, -2.2327e-03,  1.0099e-01,  2.0488e-01, -1.4311e-01,\n",
      "         -2.2203e-01,  2.2460e-01,  2.7965e-01, -1.1169e-01,  6.8347e-02],\n",
      "        [ 1.5525e-02, -1.8135e-01,  2.0332e-01, -2.2523e-01, -1.4687e-01,\n",
      "          1.1240e-01,  9.9150e-02,  3.7224e-03,  5.8455e-02, -2.5002e-02,\n",
      "         -9.7356e-02,  1.1843e-02, -1.2452e-01, -8.6091e-02,  6.2478e-02,\n",
      "          1.3336e-01, -4.3680e-02, -1.1169e-01,  6.5156e-02,  1.0588e-02],\n",
      "        [ 1.3029e+00,  1.0285e+00, -1.8033e+00,  1.4733e+00, -1.2745e+00,\n",
      "         -1.8026e+00, -1.1524e-01, -1.0706e+00, -3.0114e-01, -1.0201e-01,\n",
      "          1.0166e+00,  4.5558e-01, -2.0386e+00,  1.5977e-01,  1.0946e-01,\n",
      "          7.6548e-01,  1.1712e+00,  6.8347e-02,  1.0588e-02,  1.5142e+00]],\n",
      "       grad_fn=<MmBackward0>)\n",
      "[ 1.68842411e+01+0.0000000e+00j  3.87500000e+00+0.0000000e+00j\n",
      "  6.69897079e-01+0.0000000e+00j  7.86194131e-02+0.0000000e+00j\n",
      "  5.80054745e-02+0.0000000e+00j  2.99149264e-07+0.0000000e+00j\n",
      "  2.22380336e-07+0.0000000e+00j -1.12874055e-07+3.9676674e-08j\n",
      " -1.12874055e-07-3.9676674e-08j -1.46208174e-08+5.9491235e-08j\n",
      " -1.46208174e-08-5.9491235e-08j  6.16219609e-08+8.4252854e-09j\n",
      "  6.16219609e-08-8.4252854e-09j -2.55351615e-08+9.0155678e-09j\n",
      " -2.55351615e-08-9.0155678e-09j -8.82716567e-09+0.0000000e+00j\n",
      "  1.02227657e-08+5.4586016e-09j  1.02227657e-08-5.4586016e-09j\n",
      "  1.97563264e-08+0.0000000e+00j  2.80378920e-08+0.0000000e+00j]\n"
     ]
    },
    {
     "data": {
      "text/plain": [
       "tensor(nan, grad_fn=<MulBackward0>)"
      ]
     },
     "execution_count": 31,
     "metadata": {},
     "output_type": "execute_result"
    }
   ],
   "source": [
    "_compute_likelihood(torch.tensor(dag_obj.Y, dtype=torch.float32), model.A)\n"
   ]
  },
  {
   "cell_type": "code",
   "execution_count": null,
   "metadata": {},
   "outputs": [],
   "source": []
  },
  {
   "cell_type": "code",
   "execution_count": 20,
   "metadata": {},
   "outputs": [
    {
     "data": {
      "text/plain": [
       "Parameter containing:\n",
       "tensor([[-6.7983e-04,  4.7921e-01, -2.6376e-01,  ..., -4.9392e-01,\n",
       "         -1.9254e+00, -4.7832e-04],\n",
       "        [-1.3927e-03,  7.5130e-04, -7.2145e-01,  ...,  1.6937e+00,\n",
       "          1.1800e+00,  9.8079e-03],\n",
       "        [ 1.5770e+00,  3.2433e-01,  1.9912e-04,  ..., -2.5342e+00,\n",
       "         -5.4728e-01,  7.4730e-01],\n",
       "        ...,\n",
       "        [-5.0863e-01,  1.5533e+00, -9.3559e-01,  ..., -4.8247e-01,\n",
       "          1.9320e-01, -1.5155e-01],\n",
       "        [ 1.5120e-01,  3.7256e-01,  3.1464e-01,  ..., -2.8972e-01,\n",
       "          9.3236e-02,  1.7088e+00],\n",
       "        [ 6.5742e-01,  8.2346e-02,  1.6055e-01,  ...,  4.0668e-01,\n",
       "         -5.9718e-01,  2.0148e+00]], requires_grad=True)"
      ]
     },
     "execution_count": 20,
     "metadata": {},
     "output_type": "execute_result"
    }
   ],
   "source": [
    "model.A"
   ]
  },
  {
   "cell_type": "code",
   "execution_count": 25,
   "metadata": {},
   "outputs": [
    {
     "data": {
      "text/plain": [
       "array([[-6.79826306e-04,  4.79212493e-01, -2.63758361e-01, ...,\n",
       "        -4.93924856e-01, -1.92541766e+00, -4.78318747e-04],\n",
       "       [-1.39268942e-03,  7.51298910e-04, -7.21449792e-01, ...,\n",
       "         1.69374144e+00, -5.51100727e-01,  9.80791729e-03],\n",
       "       [ 1.57697403e+00,  3.24333429e-01,  1.99115428e-04, ...,\n",
       "        -2.53417015e+00,  3.78803345e-01, -1.05911934e+00],\n",
       "       ...,\n",
       "       [-5.08634031e-01,  1.55329883e+00, -9.35586751e-01, ...,\n",
       "        -4.82470393e-01,  1.93203062e-01, -1.51545763e-01],\n",
       "       [ 1.51200384e-01,  3.72558057e-01,  3.14641416e-01, ...,\n",
       "        -2.89724261e-01,  9.32363272e-02,  1.70876610e+00],\n",
       "       [ 6.57421172e-01,  8.23455229e-02,  1.60553500e-01, ...,\n",
       "         4.06680346e-01, -5.97177625e-01,  2.01480770e+00]])"
      ]
     },
     "execution_count": 25,
     "metadata": {},
     "output_type": "execute_result"
    }
   ],
   "source": [
    "model.A.detach().numpy()  - dag_obj.A"
   ]
  },
  {
   "cell_type": "code",
   "execution_count": 23,
   "metadata": {},
   "outputs": [
    {
     "data": {
      "text/plain": [
       "array([[-6.7982631e-04,  4.7921249e-01, -2.6375836e-01, ...,\n",
       "        -4.9392486e-01, -1.9254177e+00, -4.7831875e-04],\n",
       "       [-1.3926894e-03,  7.5129891e-04, -7.2144979e-01, ...,\n",
       "         1.6937414e+00,  1.1800190e+00,  9.8079173e-03],\n",
       "       [ 1.5769740e+00,  3.2433343e-01,  1.9911543e-04, ...,\n",
       "        -2.5341702e+00, -5.4727811e-01,  7.4729908e-01],\n",
       "       ...,\n",
       "       [-5.0863403e-01,  1.5532988e+00, -9.3558675e-01, ...,\n",
       "        -4.8247039e-01,  1.9320306e-01, -1.5154576e-01],\n",
       "       [ 1.5120038e-01,  3.7255806e-01,  3.1464142e-01, ...,\n",
       "        -2.8972426e-01,  9.3236327e-02,  1.7087661e+00],\n",
       "       [ 6.5742117e-01,  8.2345523e-02,  1.6055350e-01, ...,\n",
       "         4.0668035e-01, -5.9717762e-01,  2.0148077e+00]], dtype=float32)"
      ]
     },
     "execution_count": 23,
     "metadata": {},
     "output_type": "execute_result"
    }
   ],
   "source": [
    "model.A.detach().numpy()"
   ]
  },
  {
   "cell_type": "code",
   "execution_count": null,
   "metadata": {},
   "outputs": [],
   "source": []
  }
 ],
 "metadata": {
  "kernelspec": {
   "display_name": "base",
   "language": "python",
   "name": "python3"
  },
  "language_info": {
   "codemirror_mode": {
    "name": "ipython",
    "version": 3
   },
   "file_extension": ".py",
   "mimetype": "text/x-python",
   "name": "python",
   "nbconvert_exporter": "python",
   "pygments_lexer": "ipython3",
   "version": "3.11.7"
  }
 },
 "nbformat": 4,
 "nbformat_minor": 2
}
