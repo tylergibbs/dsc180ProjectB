{
 "cells": [
  {
   "cell_type": "code",
   "execution_count": 141,
   "metadata": {},
   "outputs": [
    {
     "name": "stdout",
     "output_type": "stream",
     "text": [
      "The autoreload extension is already loaded. To reload it, use:\n",
      "  %reload_ext autoreload\n"
     ]
    }
   ],
   "source": [
    "%load_ext autoreload"
   ]
  },
  {
   "cell_type": "code",
   "execution_count": 142,
   "metadata": {},
   "outputs": [],
   "source": [
    "%autoreload 2"
   ]
  },
  {
   "cell_type": "code",
   "execution_count": 1,
   "metadata": {},
   "outputs": [],
   "source": [
    "import numpy as np\n",
    "import matplotlib.pyplot as plt"
   ]
  },
  {
   "cell_type": "code",
   "execution_count": 2,
   "metadata": {},
   "outputs": [],
   "source": [
    "from generate_data import SyntheticDataset"
   ]
  },
  {
   "cell_type": "code",
   "execution_count": 3,
   "metadata": {},
   "outputs": [],
   "source": [
    "from model import GolemTS\n",
    "from generate_data import SyntheticDataset\n",
    "import numpy as np\n"
   ]
  },
  {
   "cell_type": "code",
   "execution_count": 4,
   "metadata": {},
   "outputs": [],
   "source": [
    "import torch"
   ]
  },
  {
   "cell_type": "code",
   "execution_count": 5,
   "metadata": {},
   "outputs": [],
   "source": [
    "A_init = np.random.randn(4, 2)\n",
    "dag_obj = SyntheticDataset(1000, 2, 1, B_scale=1.0, graph_type='ER', degree=2, A_scale=1.0, noise_type='NV')\n",
    "model = GolemTS(n=1000, d=2, p=1, Y=dag_obj.Y, lambda_1=2e-2, lambda_2=2.0, A_init=dag_obj.A, ev=False, lr=6e-3)"
   ]
  },
  {
   "cell_type": "code",
   "execution_count": 6,
   "metadata": {},
   "outputs": [],
   "source": [
    "#model.ev = False#"
   ]
  },
  {
   "cell_type": "code",
   "execution_count": 27,
   "metadata": {},
   "outputs": [
    {
     "data": {
      "text/plain": [
       "<matplotlib.image.AxesImage at 0x1677860d0>"
      ]
     },
     "execution_count": 27,
     "metadata": {},
     "output_type": "execute_result"
    },
    {
     "data": {
      "image/png": "[encoded data removed]",
      "text/plain": [
       "<Figure size 640x480 with 1 Axes>"
      ]
     },
     "metadata": {},
     "output_type": "display_data"
    }
   ],
   "source": [
    "plt.imshow(dag_obj.A)"
   ]
  },
  {
   "cell_type": "code",
   "execution_count": 7,
   "metadata": {},
   "outputs": [],
   "source": [
    "import trainer"
   ]
  },
  {
   "cell_type": "code",
   "execution_count": 8,
   "metadata": {},
   "outputs": [
    {
     "name": "stdout",
     "output_type": "stream",
     "text": [
      "likelihood: -15.88505744934082\n",
      "tensor([[-0.8882,  0.3173],\n",
      "        [ 0.6945, -0.2415],\n",
      "        [-1.1891,  0.5612],\n",
      "        [ 0.9445, -0.3336]])\n",
      "likelihood: -16.073081970214844\n",
      "tensor([[ 0.6576, -0.2910],\n",
      "        [-1.0854,  0.5732],\n",
      "        [ 0.2626, -0.1629],\n",
      "        [ 0.3326, -0.1146]])\n",
      "likelihood: -16.052114486694336\n",
      "tensor([[ 0.3234, -0.0521],\n",
      "        [-0.3386,  0.1626],\n",
      "        [ 0.1955, -0.0957],\n",
      "        [ 0.4787, -0.1565]])\n",
      "likelihood: -16.284683227539062\n",
      "tensor([[-0.1391,  0.1575],\n",
      "        [ 0.3675, -0.1866],\n",
      "        [-0.6765,  0.2954],\n",
      "        [ 0.1856, -0.0064]])\n",
      "likelihood: -16.18739128112793\n",
      "tensor([[ 0.0191,  0.0862],\n",
      "        [-0.0341, -0.0722],\n",
      "        [-0.3138,  0.1190],\n",
      "        [ 0.2170, -0.0853]])\n",
      "likelihood: -16.362415313720703\n",
      "tensor([[ 0.0881, -0.0048],\n",
      "        [ 0.1234,  0.0190],\n",
      "        [-0.1988,  0.1179],\n",
      "        [-0.0029,  0.0408]])\n",
      "likelihood: -16.65298843383789\n",
      "tensor([[ 0.0949,  0.0790],\n",
      "        [-0.2117, -0.0663],\n",
      "        [-0.2867,  0.1214],\n",
      "        [ 0.0423,  0.0205]])\n",
      "likelihood: -16.31569480895996\n",
      "tensor([[-0.3581,  0.1961],\n",
      "        [ 0.7115, -0.3490],\n",
      "        [-0.3793,  0.2170],\n",
      "        [ 0.1738, -0.0616]])\n",
      "likelihood: -16.49027442932129\n",
      "tensor([[-0.1507,  0.1009],\n",
      "        [ 0.3569, -0.1850],\n",
      "        [-0.3492,  0.1823],\n",
      "        [-0.0707,  0.1225]])\n",
      "likelihood: -16.2501163482666\n",
      "tensor([[ 0.0437,  0.0302],\n",
      "        [-0.0052, -0.0300],\n",
      "        [-0.0672,  0.0107],\n",
      "        [ 0.0576,  0.0315]])\n",
      "likelihood: -16.7486572265625\n",
      "tensor([[ 0.0683,  0.0176],\n",
      "        [ 0.0008, -0.0169],\n",
      "        [-0.0677,  0.0387],\n",
      "        [-0.0639,  0.0569]])\n",
      "likelihood: -16.43035888671875\n",
      "tensor([[ 0.0893, -0.0104],\n",
      "        [-0.0638,  0.0325],\n",
      "        [-0.0316, -0.0393],\n",
      "        [-0.0298,  0.0766]])\n",
      "likelihood: -16.39651107788086\n",
      "tensor([[-0.0347,  0.0142],\n",
      "        [ 0.0696, -0.0248],\n",
      "        [-0.0923, -0.0290],\n",
      "        [ 0.1057,  0.0129]])\n",
      "likelihood: -16.24059295654297\n",
      "tensor([[ 0.0318, -0.0280],\n",
      "        [-0.0007,  0.0189],\n",
      "        [ 0.0042, -0.0236],\n",
      "        [-0.0299,  0.1020]])\n",
      "likelihood: -16.685840606689453\n",
      "tensor([[ 0.0045,  0.0008],\n",
      "        [ 0.0273, -0.0059],\n",
      "        [-0.0415,  0.0077],\n",
      "        [-0.1060,  0.0672]])\n",
      "likelihood: -16.54996681213379\n",
      "tensor([[ 0.1936, -0.1140],\n",
      "        [-0.2755,  0.2339],\n",
      "        [ 0.2608, -0.1494],\n",
      "        [ 0.1790, -0.0191]])\n",
      "likelihood: -16.37673568725586\n",
      "tensor([[ 0.0378, -0.0462],\n",
      "        [ 0.0465,  0.1162],\n",
      "        [ 0.0626, -0.0336],\n",
      "        [ 0.1059, -0.0268]])\n",
      "likelihood: -16.381126403808594\n",
      "tensor([[ 0.0944, -0.0218],\n",
      "        [-0.1490,  0.0839],\n",
      "        [ 0.1050, -0.1280],\n",
      "        [ 0.1431,  0.0033]])\n",
      "likelihood: -16.517667770385742\n",
      "tensor([[ 0.3000, -0.1940],\n",
      "        [-0.4798,  0.2833],\n",
      "        [ 0.3105, -0.2116],\n",
      "        [ 0.0573,  0.0387]])\n",
      "likelihood: -16.352018356323242\n",
      "tensor([[ 0.1183, -0.0077],\n",
      "        [-0.0160, -0.0839],\n",
      "        [ 0.0739, -0.0515],\n",
      "        [-0.0689,  0.0244]])\n",
      "likelihood: -16.334823608398438\n",
      "tensor([[-0.1187,  0.0798],\n",
      "        [ 0.1548, -0.0991],\n",
      "        [ 0.0028,  0.0540],\n",
      "        [ 0.1110, -0.1040]])\n",
      "likelihood: -16.49944305419922\n",
      "tensor([[ 0.2744, -0.1658],\n",
      "        [-0.4648,  0.2943],\n",
      "        [ 0.3059, -0.1211],\n",
      "        [-0.0072,  0.0099]])\n",
      "likelihood: -16.488216400146484\n",
      "tensor([[-0.0278, -0.0008],\n",
      "        [ 0.0328, -0.0325],\n",
      "        [-0.0619,  0.0159],\n",
      "        [-0.0083, -0.0220]])\n",
      "likelihood: -16.270591735839844\n",
      "tensor([[-0.1204,  0.0452],\n",
      "        [ 0.2003, -0.1113],\n",
      "        [-0.1492,  0.0558],\n",
      "        [-0.0408,  0.0994]])\n",
      "likelihood: -16.581331253051758\n",
      "tensor([[-0.2040,  0.1188],\n",
      "        [ 0.3664, -0.2422],\n",
      "        [-0.1650,  0.0383],\n",
      "        [ 0.0647,  0.0045]])\n",
      "likelihood: -16.302276611328125\n",
      "tensor([[-0.1486,  0.0679],\n",
      "        [ 0.3026, -0.1794],\n",
      "        [-0.1013,  0.0784],\n",
      "        [ 0.0113, -0.0244]])\n",
      "likelihood: -16.395952224731445\n",
      "tensor([[-0.0178, -0.0092],\n",
      "        [-0.0103,  0.0773],\n",
      "        [-0.0311,  0.0317],\n",
      "        [ 0.0352, -0.0117]])\n",
      "likelihood: -16.655963897705078\n",
      "tensor([[ 0.1976, -0.1319],\n",
      "        [-0.4419,  0.3250],\n",
      "        [ 0.0079, -0.0393],\n",
      "        [-0.0333,  0.0347]])\n",
      "likelihood: -16.53964614868164\n",
      "tensor([[ 0.1979, -0.0912],\n",
      "        [-0.2097,  0.1565],\n",
      "        [ 0.1373, -0.0495],\n",
      "        [-0.0391,  0.0877]])\n",
      "likelihood: -16.3478946685791\n",
      "tensor([[ 0.0226, -0.0396],\n",
      "        [-0.0841,  0.0241],\n",
      "        [ 0.2417, -0.1709],\n",
      "        [ 0.1779, -0.0720]])\n",
      "likelihood: -16.394149780273438\n",
      "tensor([[ 0.0161,  0.0097],\n",
      "        [-0.1466,  0.0361],\n",
      "        [-0.1864,  0.1131],\n",
      "        [-0.1393,  0.0835]])\n",
      "likelihood: -16.462894439697266\n",
      "tensor([[ 0.1051, -0.0727],\n",
      "        [-0.1940,  0.1243],\n",
      "        [-0.0798,  0.0619],\n",
      "        [-0.1136,  0.1260]])\n",
      "likelihood: -16.47582244873047\n",
      "tensor([[-0.1739,  0.0816],\n",
      "        [ 0.2391, -0.1131],\n",
      "        [-0.1616,  0.0929],\n",
      "        [ 0.0300,  0.0082]])\n",
      "likelihood: -16.475624084472656\n",
      "tensor([[-0.1031,  0.0227],\n",
      "        [ 0.2475, -0.0813],\n",
      "        [ 0.0792, -0.0642],\n",
      "        [ 0.0816, -0.0451]])\n",
      "likelihood: -16.422607421875\n",
      "tensor([[ 0.0017,  0.0296],\n",
      "        [ 0.0562, -0.0656],\n",
      "        [ 0.0759, -0.0112],\n",
      "        [ 0.0203, -0.0180]])\n",
      "likelihood: -16.36249351501465\n",
      "tensor([[-0.0694,  0.0671],\n",
      "        [ 0.1121, -0.0764],\n",
      "        [ 0.0406,  0.0408],\n",
      "        [ 0.0385,  0.0047]])\n",
      "likelihood: -16.451160430908203\n",
      "tensor([[ 0.0728, -0.0056],\n",
      "        [-0.0995,  0.0648],\n",
      "        [ 0.0326,  0.0196],\n",
      "        [-0.0323,  0.0532]])\n",
      "likelihood: -16.423635482788086\n",
      "tensor([[ 0.0672, -0.0406],\n",
      "        [-0.1631,  0.1296],\n",
      "        [-0.0075, -0.0085],\n",
      "        [-0.0084,  0.0585]])\n",
      "likelihood: -16.408912658691406\n",
      "tensor([[-0.0019,  0.0049],\n",
      "        [ 0.0094, -0.0087],\n",
      "        [ 0.0250, -0.0034],\n",
      "        [ 0.0052, -0.0096]])\n",
      "likelihood: -16.453792572021484\n",
      "tensor([[ 0.0305, -0.0385],\n",
      "        [-0.0540,  0.0266],\n",
      "        [ 0.0389, -0.0423],\n",
      "        [-0.0050,  0.0400]])\n",
      "likelihood: -16.458770751953125\n",
      "tensor([[ 0.0779, -0.0492],\n",
      "        [-0.1238,  0.1129],\n",
      "        [ 0.0025,  0.0026],\n",
      "        [-0.0243,  0.0345]])\n",
      "likelihood: -16.423805236816406\n",
      "tensor([[ 0.0103,  0.0060],\n",
      "        [-0.0058, -0.0024],\n",
      "        [ 0.0167,  0.0166],\n",
      "        [ 0.0168,  0.0209]])\n",
      "likelihood: -16.482791900634766\n",
      "tensor([[ 0.0143,  0.0085],\n",
      "        [-0.0240, -0.0300],\n",
      "        [ 0.0367, -0.0105],\n",
      "        [ 0.0153, -0.0212]])\n",
      "likelihood: -16.514707565307617\n",
      "tensor([[ 0.0509, -0.0332],\n",
      "        [-0.1085,  0.0349],\n",
      "        [ 0.0457, -0.0438],\n",
      "        [ 0.0023, -0.0062]])\n",
      "likelihood: -16.502323150634766\n",
      "tensor([[-1.2050e-02, -5.6203e-05],\n",
      "        [-5.5459e-02,  5.2442e-02],\n",
      "        [-2.6962e-03,  1.0610e-03],\n",
      "        [ 2.6848e-02, -1.7553e-02]])\n",
      "likelihood: -16.517616271972656\n",
      "tensor([[ 0.0398, -0.0175],\n",
      "        [-0.0628,  0.0577],\n",
      "        [ 0.0211, -0.0241],\n",
      "        [-0.0113, -0.0252]])\n",
      "likelihood: -16.492298126220703\n",
      "tensor([[-2.0858e-02, -1.8137e-05],\n",
      "        [ 5.5470e-02, -6.0560e-02],\n",
      "        [ 3.8819e-02, -3.8375e-02],\n",
      "        [ 2.3489e-02,  8.2346e-03]])\n",
      "likelihood: -16.50575065612793\n",
      "tensor([[ 0.0739, -0.0223],\n",
      "        [-0.1199,  0.0733],\n",
      "        [-0.0006,  0.0202],\n",
      "        [-0.0234,  0.0269]])\n",
      "likelihood: -16.456180572509766\n",
      "tensor([[-0.0442, -0.0089],\n",
      "        [ 0.0766,  0.0484],\n",
      "        [-0.0773,  0.0406],\n",
      "        [ 0.0211, -0.0151]])\n",
      "likelihood: -16.46390151977539\n",
      "tensor([[ 0.0108,  0.0006],\n",
      "        [-0.0568,  0.0181],\n",
      "        [-0.0772,  0.0149],\n",
      "        [ 0.0050,  0.0050]])\n",
      "likelihood: -16.528779983520508\n",
      "tensor([[ 0.0190, -0.0087],\n",
      "        [-0.0612,  0.0526],\n",
      "        [-0.0557,  0.0616],\n",
      "        [ 0.0033, -0.0012]])\n",
      "likelihood: -16.539764404296875\n",
      "tensor([[-0.0164, -0.0161],\n",
      "        [ 0.1131,  0.0090],\n",
      "        [ 0.0713, -0.0480],\n",
      "        [-0.0101, -0.0260]])\n",
      "likelihood: -16.559125900268555\n",
      "tensor([[ 0.0542, -0.0307],\n",
      "        [-0.0685,  0.0485],\n",
      "        [-0.0457,  0.0026],\n",
      "        [-0.0198,  0.0317]])\n",
      "likelihood: -16.512752532958984\n",
      "tensor([[ 0.0158, -0.0046],\n",
      "        [-0.0060, -0.0342],\n",
      "        [ 0.0448, -0.0526],\n",
      "        [-0.0047,  0.0007]])\n",
      "likelihood: -16.5186710357666\n",
      "tensor([[ 0.0035,  0.0212],\n",
      "        [ 0.0178, -0.0245],\n",
      "        [-0.0230, -0.0049],\n",
      "        [ 0.0041, -0.0100]])\n",
      "likelihood: -16.448566436767578\n",
      "tensor([[-0.0249,  0.0317],\n",
      "        [ 0.0244, -0.0476],\n",
      "        [-0.0137,  0.0234],\n",
      "        [ 0.0119,  0.0171]])\n",
      "likelihood: -16.49114990234375\n",
      "tensor([[-0.0505,  0.0119],\n",
      "        [ 0.0471,  0.0291],\n",
      "        [-0.1378,  0.0543],\n",
      "        [ 0.0213, -0.0011]])\n",
      "likelihood: -16.5229549407959\n",
      "tensor([[ 0.0661, -0.0499],\n",
      "        [-0.1562,  0.1309],\n",
      "        [-0.0489,  0.0233],\n",
      "        [-0.0273,  0.0697]])\n",
      "likelihood: -16.53099822998047\n",
      "tensor([[ 0.0152, -0.0484],\n",
      "        [-0.1107,  0.1104],\n",
      "        [-0.0303,  0.0146],\n",
      "        [-0.0138,  0.0145]])\n",
      "likelihood: -16.479982376098633\n",
      "tensor([[-0.0131,  0.0241],\n",
      "        [ 0.0614, -0.0240],\n",
      "        [ 0.0523, -0.0159],\n",
      "        [ 0.0094, -0.0545]])\n",
      "likelihood: -16.44391632080078\n",
      "tensor([[-0.0538,  0.0193],\n",
      "        [ 0.0098, -0.0603],\n",
      "        [-0.0140,  0.0271],\n",
      "        [ 0.0246, -0.0112]])\n",
      "likelihood: -16.54517364501953\n",
      "tensor([[-0.0601,  0.0245],\n",
      "        [ 0.1602, -0.0697],\n",
      "        [ 0.0037,  0.0013],\n",
      "        [ 0.0258,  0.0180]])\n",
      "likelihood: -16.497730255126953\n",
      "tensor([[-0.0214,  0.0149],\n",
      "        [ 0.0506, -0.0546],\n",
      "        [ 0.0368, -0.0399],\n",
      "        [ 0.0031, -0.0071]])\n",
      "likelihood: -16.476119995117188\n",
      "tensor([[-0.0024, -0.0452],\n",
      "        [-0.0570,  0.0330],\n",
      "        [-0.0823,  0.0070],\n",
      "        [-0.0052,  0.0588]])\n",
      "likelihood: -16.510074615478516\n",
      "tensor([[-0.0600,  0.0204],\n",
      "        [ 0.1372, -0.0429],\n",
      "        [ 0.0068, -0.0180],\n",
      "        [ 0.0258, -0.0256]])\n",
      "likelihood: -16.46857452392578\n",
      "tensor([[ 0.0115, -0.0230],\n",
      "        [-0.0806, -0.0103],\n",
      "        [ 0.0355, -0.0088],\n",
      "        [-0.0094,  0.0360]])\n",
      "likelihood: -16.469276428222656\n",
      "tensor([[ 2.5026e-02, -2.7308e-02],\n",
      "        [-1.2746e-01,  6.6957e-02],\n",
      "        [-2.7699e-03, -6.6073e-03],\n",
      "        [-3.6288e-05,  3.0934e-02]])\n",
      "likelihood: -16.503398895263672\n",
      "tensor([[ 4.2435e-05, -2.3691e-02],\n",
      "        [ 3.2732e-02,  1.0006e-01],\n",
      "        [-1.3850e-02,  4.1981e-02],\n",
      "        [ 5.2700e-03,  8.4275e-03]])\n",
      "likelihood: -16.512588500976562\n",
      "tensor([[-0.0120,  0.0140],\n",
      "        [ 0.0189, -0.0707],\n",
      "        [ 0.0144, -0.0151],\n",
      "        [-0.0127, -0.0120]])\n",
      "likelihood: -16.466466903686523\n",
      "tensor([[-0.0364,  0.0290],\n",
      "        [ 0.0623, -0.0628],\n",
      "        [ 0.0027,  0.0251],\n",
      "        [ 0.0126, -0.0216]])\n",
      "likelihood: -16.456951141357422\n",
      "tensor([[ 0.0043,  0.0256],\n",
      "        [-0.0028, -0.0358],\n",
      "        [ 0.0075, -0.0117],\n",
      "        [-0.0077, -0.0183]])\n",
      "likelihood: -16.499940872192383\n",
      "tensor([[-0.0308,  0.0399],\n",
      "        [-0.0294, -0.0329],\n",
      "        [ 0.0271,  0.0247],\n",
      "        [ 0.0132, -0.0388]])\n",
      "likelihood: -16.53710174560547\n",
      "tensor([[ 0.0417, -0.0223],\n",
      "        [-0.1460,  0.0696],\n",
      "        [-0.0530,  0.0294],\n",
      "        [-0.0286,  0.0509]])\n",
      "likelihood: -16.507118225097656\n",
      "tensor([[-0.0771,  0.0135],\n",
      "        [ 0.0702, -0.0319],\n",
      "        [-0.0055,  0.0363],\n",
      "        [ 0.0057, -0.0140]])\n",
      "likelihood: -16.5628662109375\n",
      "tensor([[ 0.0619, -0.0297],\n",
      "        [-0.1496,  0.0916],\n",
      "        [-0.0379,  0.0361],\n",
      "        [-0.0267,  0.0481]])\n",
      "likelihood: -16.52242088317871\n",
      "tensor([[-0.0578,  0.0199],\n",
      "        [ 0.0741, -0.0950],\n",
      "        [ 0.0198, -0.0289],\n",
      "        [ 0.0158,  0.0078]])\n",
      "likelihood: -16.468032836914062\n",
      "tensor([[ 0.0199, -0.0171],\n",
      "        [-0.0051, -0.0269],\n",
      "        [ 0.0732, -0.0490],\n",
      "        [-0.0193,  0.0191]])\n",
      "likelihood: -16.535907745361328\n",
      "tensor([[ 0.0329, -0.0096],\n",
      "        [-0.1331,  0.0497],\n",
      "        [-0.0333,  0.0275],\n",
      "        [-0.0214, -0.0041]])\n",
      "likelihood: -16.542484283447266\n",
      "tensor([[ 0.0098,  0.0043],\n",
      "        [ 0.0559,  0.0017],\n",
      "        [ 0.0897, -0.0101],\n",
      "        [-0.0040, -0.0449]])\n",
      "likelihood: -16.471576690673828\n",
      "tensor([[-0.0286, -0.0019],\n",
      "        [-0.0068, -0.0066],\n",
      "        [-0.0370, -0.0036],\n",
      "        [ 0.0144, -0.0184]])\n",
      "likelihood: -16.535219192504883\n",
      "tensor([[ 0.0112,  0.0097],\n",
      "        [-0.0009, -0.0139],\n",
      "        [-0.0429, -0.0138],\n",
      "        [-0.0028, -0.0282]])\n",
      "likelihood: -16.483844757080078\n",
      "tensor([[-0.0392,  0.0018],\n",
      "        [ 0.1055, -0.0150],\n",
      "        [-0.0110,  0.0008],\n",
      "        [ 0.0132,  0.0163]])\n",
      "likelihood: -16.474777221679688\n",
      "tensor([[-0.0829,  0.0258],\n",
      "        [ 0.0736, -0.0733],\n",
      "        [-0.0009,  0.0342],\n",
      "        [ 0.0191, -0.0044]])\n",
      "likelihood: -16.487485885620117\n",
      "tensor([[-0.0052, -0.0222],\n",
      "        [ 0.0083,  0.0662],\n",
      "        [-0.0366,  0.0360],\n",
      "        [-0.0033,  0.0210]])\n",
      "likelihood: -16.474411010742188\n",
      "tensor([[-0.0944,  0.0582],\n",
      "        [ 0.1220, -0.0304],\n",
      "        [-0.0957,  0.0441],\n",
      "        [ 0.0318, -0.0675]])\n",
      "likelihood: -16.430681228637695\n",
      "tensor([[-0.0370,  0.0069],\n",
      "        [ 0.0589, -0.0535],\n",
      "        [-0.0092, -0.0432],\n",
      "        [ 0.0079, -0.0123]])\n",
      "likelihood: -16.490631103515625\n",
      "tensor([[-0.0336,  0.0027],\n",
      "        [ 0.0688, -0.0601],\n",
      "        [ 0.0010,  0.0004],\n",
      "        [ 0.0156, -0.0222]])\n",
      "likelihood: -16.56662940979004\n",
      "tensor([[ 0.0354, -0.0293],\n",
      "        [ 0.0759,  0.0049],\n",
      "        [ 0.0523, -0.0083],\n",
      "        [-0.0002, -0.0011]])\n",
      "likelihood: -16.47330093383789\n",
      "tensor([[ 0.0016,  0.0069],\n",
      "        [-0.0017, -0.0018],\n",
      "        [-0.0336, -0.0395],\n",
      "        [ 0.0167,  0.0065]])\n",
      "likelihood: -16.518726348876953\n",
      "tensor([[ 0.0153,  0.0119],\n",
      "        [-0.0367,  0.0523],\n",
      "        [-0.0170, -0.0116],\n",
      "        [ 0.0241, -0.0258]])\n",
      "likelihood: -16.481792449951172\n",
      "tensor([[-0.0466,  0.0406],\n",
      "        [ 0.0696, -0.0456],\n",
      "        [ 0.0336, -0.0100],\n",
      "        [ 0.0170, -0.0344]])\n",
      "likelihood: -16.471538543701172\n",
      "tensor([[-0.0035,  0.0030],\n",
      "        [ 0.0843, -0.0335],\n",
      "        [ 0.0393, -0.0269],\n",
      "        [ 0.0058, -0.0010]])\n",
      "likelihood: -16.53759002685547\n",
      "tensor([[-0.0317, -0.0067],\n",
      "        [ 0.1239, -0.0069],\n",
      "        [ 0.0216, -0.0087],\n",
      "        [ 0.0022, -0.0158]])\n",
      "likelihood: -16.540172576904297\n",
      "tensor([[ 0.0210,  0.0216],\n",
      "        [-0.0229, -0.0258],\n",
      "        [ 0.0045,  0.0065],\n",
      "        [-0.0191,  0.0153]])\n",
      "likelihood: -16.483272552490234\n",
      "tensor([[-0.0598,  0.0139],\n",
      "        [-0.0664,  0.0061],\n",
      "        [-0.0533,  0.0636],\n",
      "        [ 0.0006, -0.0199]])\n",
      "likelihood: -16.549964904785156\n",
      "tensor([[ 0.1039, -0.0268],\n",
      "        [-0.1256,  0.0521],\n",
      "        [ 0.0472, -0.0173],\n",
      "        [-0.0422,  0.0099]])\n",
      "likelihood: -16.459693908691406\n",
      "tensor([[-0.0290, -0.0118],\n",
      "        [ 0.0350,  0.0370],\n",
      "        [-0.0531,  0.0349],\n",
      "        [ 0.0035,  0.0192]])\n",
      "likelihood: -16.55811882019043\n",
      "tensor([[ 0.0376, -0.0177],\n",
      "        [-0.0899,  0.0219],\n",
      "        [-0.0033, -0.0132],\n",
      "        [-0.0249,  0.0331]])\n",
      "likelihood: -16.509265899658203\n",
      "tensor([[ 0.0287, -0.0106],\n",
      "        [-0.0462,  0.0408],\n",
      "        [ 0.0445, -0.0277],\n",
      "        [-0.0142, -0.0220]])\n",
      "likelihood: -16.490026473999023\n",
      "tensor([[-0.0505,  0.0155],\n",
      "        [ 0.1350, -0.0261],\n",
      "        [-0.0442, -0.0056],\n",
      "        [ 0.0040, -0.0056]])\n",
      "likelihood: -16.570226669311523\n",
      "tensor([[ 0.0660, -0.0484],\n",
      "        [-0.0217,  0.0588],\n",
      "        [ 0.0723, -0.0484],\n",
      "        [-0.0366,  0.0369]])\n",
      "likelihood: -16.48607063293457\n",
      "tensor([[-0.0174, -0.0119],\n",
      "        [-0.0222,  0.0243],\n",
      "        [-0.0106,  0.0087],\n",
      "        [-0.0070,  0.0011]])\n",
      "likelihood: -16.489294052124023\n",
      "tensor([[ 0.0112, -0.0303],\n",
      "        [ 0.0552,  0.0582],\n",
      "        [ 0.0407, -0.0270],\n",
      "        [-0.0025,  0.0056]])\n",
      "likelihood: -16.485267639160156\n",
      "tensor([[ 0.0282, -0.0028],\n",
      "        [-0.0671, -0.0374],\n",
      "        [ 0.0320, -0.0422],\n",
      "        [-0.0107, -0.0115]])\n",
      "likelihood: -16.480459213256836\n",
      "tensor([[ 0.0245,  0.0268],\n",
      "        [ 0.0055, -0.0705],\n",
      "        [ 0.0421,  0.0110],\n",
      "        [-0.0102, -0.0069]])\n",
      "likelihood: -16.496707916259766\n",
      "tensor([[ 0.0807, -0.0285],\n",
      "        [-0.2715,  0.1120],\n",
      "        [-0.0318,  0.0360],\n",
      "        [-0.0287,  0.0455]])\n",
      "likelihood: -16.490402221679688\n",
      "tensor([[-0.0337,  0.0130],\n",
      "        [-0.0498,  0.0308],\n",
      "        [-0.0530,  0.0313],\n",
      "        [ 0.0266, -0.0132]])\n",
      "likelihood: -16.495594024658203\n",
      "tensor([[ 0.0374, -0.0628],\n",
      "        [ 0.0176,  0.0273],\n",
      "        [ 0.0416, -0.0478],\n",
      "        [-0.0155,  0.0666]])\n",
      "likelihood: -16.437599182128906\n",
      "tensor([[-0.0392,  0.0225],\n",
      "        [ 0.0621, -0.0132],\n",
      "        [-0.0711,  0.0578],\n",
      "        [ 0.0255, -0.0044]])\n",
      "likelihood: -16.467191696166992\n",
      "tensor([[-0.0326,  0.0060],\n",
      "        [ 0.0388,  0.0087],\n",
      "        [-0.0011,  0.0109],\n",
      "        [-0.0027, -0.0153]])\n",
      "likelihood: -16.537811279296875\n",
      "tensor([[ 0.0266, -0.0276],\n",
      "        [ 0.0354, -0.1214],\n",
      "        [ 0.0724, -0.0593],\n",
      "        [-0.0220,  0.0292]])\n",
      "likelihood: -16.474016189575195\n",
      "tensor([[ 0.0703, -0.0254],\n",
      "        [ 0.0115,  0.0570],\n",
      "        [ 0.0402,  0.0084],\n",
      "        [-0.0251,  0.0788]])\n",
      "likelihood: -16.569061279296875\n",
      "tensor([[ 0.0138, -0.0281],\n",
      "        [-0.0311,  0.0763],\n",
      "        [ 0.0164,  0.0276],\n",
      "        [-0.0135, -0.0129]])\n",
      "likelihood: -16.552574157714844\n",
      "tensor([[-0.0345,  0.0378],\n",
      "        [ 0.0412, -0.0708],\n",
      "        [ 0.0268, -0.0203],\n",
      "        [ 0.0365, -0.0513]])\n",
      "likelihood: -16.516265869140625\n",
      "tensor([[ 0.0051,  0.0074],\n",
      "        [ 0.0163, -0.0525],\n",
      "        [ 0.0244, -0.0233],\n",
      "        [-0.0120,  0.0245]])\n",
      "likelihood: -16.43611717224121\n",
      "tensor([[-0.0051, -0.0253],\n",
      "        [ 0.0286, -0.0270],\n",
      "        [ 0.0518, -0.0140],\n",
      "        [-0.0010,  0.0075]])\n",
      "likelihood: -16.504968643188477\n",
      "tensor([[-0.0707,  0.0245],\n",
      "        [ 0.0894, -0.0805],\n",
      "        [-0.0491,  0.0353],\n",
      "        [ 0.0356,  0.0042]])\n",
      "likelihood: -16.576459884643555\n",
      "tensor([[ 0.0929, -0.0697],\n",
      "        [-0.1501,  0.1256],\n",
      "        [-0.0210,  0.0597],\n",
      "        [-0.0427,  0.0781]])\n",
      "likelihood: -16.433149337768555\n",
      "tensor([[-0.0220,  0.0076],\n",
      "        [ 0.0471,  0.0378],\n",
      "        [-0.0809,  0.0424],\n",
      "        [ 0.0104, -0.0008]])\n",
      "likelihood: -16.524341583251953\n",
      "tensor([[ 0.0360, -0.0139],\n",
      "        [-0.1139,  0.0233],\n",
      "        [ 0.0417, -0.0119],\n",
      "        [-0.0043,  0.0144]])\n",
      "likelihood: -16.50071907043457\n",
      "tensor([[ 0.0572, -0.0464],\n",
      "        [-0.0949,  0.0809],\n",
      "        [-0.0044,  0.0079],\n",
      "        [-0.0184,  0.0285]])\n",
      "likelihood: -16.493675231933594\n",
      "tensor([[ 0.0632, -0.0642],\n",
      "        [-0.0776,  0.0966],\n",
      "        [ 0.0266, -0.0420],\n",
      "        [-0.0123,  0.0706]])\n",
      "likelihood: -16.49123764038086\n",
      "tensor([[ 0.0285, -0.0187],\n",
      "        [-0.0746,  0.0503],\n",
      "        [-0.0372,  0.0053],\n",
      "        [ 0.0056,  0.0092]])\n",
      "likelihood: -16.485885620117188\n",
      "tensor([[-0.0621, -0.0007],\n",
      "        [ 0.0392,  0.0448],\n",
      "        [-0.0891,  0.0603],\n",
      "        [ 0.0197,  0.0430]])\n",
      "likelihood: -16.526660919189453\n",
      "tensor([[ 0.0679, -0.0464],\n",
      "        [ 0.0923,  0.0961],\n",
      "        [ 0.0339, -0.0180],\n",
      "        [-0.0259,  0.0385]])\n",
      "likelihood: -16.49775505065918\n",
      "tensor([[ 0.0321,  0.0050],\n",
      "        [-0.1258,  0.0111],\n",
      "        [-0.0376,  0.0039],\n",
      "        [-0.0015,  0.0154]])\n",
      "likelihood: -16.51434898376465\n",
      "tensor([[ 0.0441,  0.0112],\n",
      "        [-0.1220, -0.0551],\n",
      "        [ 0.0459, -0.0245],\n",
      "        [-0.0223, -0.0088]])\n",
      "likelihood: -16.551054000854492\n",
      "tensor([[ 0.0750, -0.0495],\n",
      "        [-0.1682,  0.1179],\n",
      "        [ 0.0319, -0.0114],\n",
      "        [-0.0278, -0.0125]])\n",
      "likelihood: -16.551692962646484\n",
      "tensor([[ 0.0624, -0.0304],\n",
      "        [-0.0262,  0.0341],\n",
      "        [ 0.0763, -0.0387],\n",
      "        [-0.0066,  0.0055]])\n",
      "likelihood: -16.50870132446289\n",
      "tensor([[ 0.0686, -0.0280],\n",
      "        [-0.0782,  0.0587],\n",
      "        [ 0.0785, -0.0300],\n",
      "        [-0.0241,  0.0027]])\n",
      "likelihood: -16.512313842773438\n",
      "tensor([[-0.0090,  0.0337],\n",
      "        [ 0.0507,  0.0004],\n",
      "        [-0.0663,  0.0482],\n",
      "        [ 0.0191, -0.0652]])\n",
      "likelihood: -16.522066116333008\n",
      "tensor([[-0.0573, -0.0085],\n",
      "        [-0.0013, -0.0161],\n",
      "        [-0.0487,  0.0199],\n",
      "        [ 0.0155,  0.0321]])\n",
      "likelihood: -16.47149085998535\n",
      "tensor([[ 0.0048,  0.0178],\n",
      "        [-0.0516, -0.0425],\n",
      "        [-0.0105,  0.0358],\n",
      "        [ 0.0036,  0.0059]])\n",
      "likelihood: -16.465749740600586\n",
      "tensor([[ 0.0203, -0.0020],\n",
      "        [ 0.0415,  0.0890],\n",
      "        [-0.0253,  0.0329],\n",
      "        [ 0.0076,  0.0019]])\n",
      "likelihood: -16.552841186523438\n",
      "tensor([[ 0.0138, -0.0388],\n",
      "        [-0.0704,  0.0994],\n",
      "        [-0.0241,  0.0132],\n",
      "        [ 0.0059, -0.0109]])\n",
      "likelihood: -16.481365203857422\n",
      "tensor([[ 0.0204,  0.0007],\n",
      "        [-0.1035,  0.0620],\n",
      "        [-0.0969,  0.0878],\n",
      "        [-0.0171,  0.0086]])\n",
      "likelihood: -16.48102378845215\n",
      "tensor([[-0.0169,  0.0067],\n",
      "        [ 0.0731, -0.0512],\n",
      "        [ 0.0835, -0.0421],\n",
      "        [ 0.0054, -0.0022]])\n",
      "likelihood: -16.543298721313477\n",
      "tensor([[-0.0096,  0.0006],\n",
      "        [ 0.1175, -0.0162],\n",
      "        [-0.0105,  0.0179],\n",
      "        [ 0.0033, -0.0234]])\n",
      "likelihood: -16.514812469482422\n",
      "tensor([[ 0.0245, -0.0303],\n",
      "        [-0.1065,  0.0497],\n",
      "        [-0.0508,  0.0216],\n",
      "        [-0.0256,  0.0157]])\n",
      "likelihood: -16.52256965637207\n",
      "tensor([[-0.0584,  0.0140],\n",
      "        [ 0.1470, -0.0457],\n",
      "        [-0.0179, -0.0161],\n",
      "        [ 0.0281, -0.0347]])\n",
      "likelihood: -16.536901473999023\n",
      "tensor([[ 0.0309, -0.0343],\n",
      "        [-0.0960,  0.0275],\n",
      "        [ 0.0277, -0.0319],\n",
      "        [-0.0040,  0.0346]])\n",
      "likelihood: -16.452678680419922\n",
      "tensor([[-0.0491,  0.0038],\n",
      "        [ 0.1116, -0.0386],\n",
      "        [-0.0614, -0.0295],\n",
      "        [ 0.0280,  0.0010]])\n",
      "likelihood: -16.532913208007812\n",
      "tensor([[-0.0428,  0.0356],\n",
      "        [ 0.0595, -0.0273],\n",
      "        [-0.0814,  0.0457],\n",
      "        [ 0.0208,  0.0063]])\n",
      "likelihood: -16.472570419311523\n",
      "tensor([[ 0.0467, -0.0381],\n",
      "        [-0.0910,  0.0886],\n",
      "        [ 0.0462, -0.0086],\n",
      "        [-0.0162,  0.0464]])\n",
      "likelihood: -16.47539710998535\n",
      "tensor([[ 0.0778, -0.0472],\n",
      "        [-0.0199,  0.0645],\n",
      "        [ 0.0676, -0.0084],\n",
      "        [-0.0409,  0.0406]])\n",
      "likelihood: -16.478534698486328\n",
      "tensor([[-0.0391, -0.0199],\n",
      "        [ 0.0035, -0.0222],\n",
      "        [ 0.0322, -0.0176],\n",
      "        [-0.0209,  0.0306]])\n",
      "likelihood: -16.510982513427734\n",
      "tensor([[ 0.0299, -0.0198],\n",
      "        [-0.0463,  0.0860],\n",
      "        [ 0.0111, -0.0040],\n",
      "        [-0.0008,  0.0043]])\n",
      "likelihood: -16.52393341064453\n",
      "tensor([[-0.0424,  0.0307],\n",
      "        [ 0.1175, -0.0308],\n",
      "        [-0.0558,  0.0161],\n",
      "        [ 0.0289, -0.0321]])\n",
      "likelihood: -16.532875061035156\n",
      "tensor([[ 0.0185,  0.0116],\n",
      "        [-0.0641, -0.0202],\n",
      "        [ 0.0283,  0.0088],\n",
      "        [-0.0072,  0.0277]])\n",
      "likelihood: -16.50789451599121\n",
      "tensor([[-0.0850,  0.0500],\n",
      "        [ 0.1754, -0.1289],\n",
      "        [-0.0121,  0.0177],\n",
      "        [ 0.0235, -0.0141]])\n",
      "likelihood: -16.546308517456055\n",
      "tensor([[ 0.0677, -0.0378],\n",
      "        [-0.0419,  0.0776],\n",
      "        [ 0.0231,  0.0204],\n",
      "        [-0.0104,  0.0117]])\n",
      "likelihood: -16.51604652404785\n",
      "tensor([[ 0.0421, -0.0451],\n",
      "        [-0.0598,  0.0473],\n",
      "        [ 0.0430, -0.0603],\n",
      "        [-0.0214,  0.0467]])\n",
      "likelihood: -16.539417266845703\n",
      "tensor([[ 1.2500e-02, -2.9243e-02],\n",
      "        [ 2.1262e-02,  1.2413e-02],\n",
      "        [ 6.9027e-02, -3.4768e-02],\n",
      "        [ 6.2834e-05,  2.3993e-02]])\n",
      "likelihood: -16.47209930419922\n",
      "tensor([[ 0.0839, -0.0205],\n",
      "        [-0.0893,  0.0727],\n",
      "        [ 0.0011,  0.0370],\n",
      "        [-0.0033,  0.0394]])\n",
      "likelihood: -16.492717742919922\n",
      "tensor([[-0.0230,  0.0169],\n",
      "        [ 0.0406, -0.0039],\n",
      "        [-0.0402,  0.0585],\n",
      "        [-0.0012, -0.0021]])\n",
      "likelihood: -16.491504669189453\n",
      "tensor([[ 0.0082, -0.0099],\n",
      "        [-0.0789,  0.0875],\n",
      "        [-0.1050,  0.0429],\n",
      "        [-0.0053,  0.0219]])\n",
      "likelihood: -16.58769416809082\n",
      "tensor([[ 0.0098, -0.0200],\n",
      "        [-0.0723,  0.0005],\n",
      "        [ 0.0021,  0.0171],\n",
      "        [-0.0193,  0.0251]])\n",
      "likelihood: -16.461973190307617\n",
      "tensor([[-0.0409,  0.0398],\n",
      "        [ 0.0895, -0.0781],\n",
      "        [-0.0194,  0.0024],\n",
      "        [ 0.0138, -0.0446]])\n",
      "likelihood: -16.542362213134766\n",
      "tensor([[ 0.0262, -0.0031],\n",
      "        [ 0.0471,  0.0079],\n",
      "        [ 0.0236, -0.0521],\n",
      "        [-0.0010, -0.0137]])\n",
      "likelihood: -16.484743118286133\n",
      "tensor([[ 2.0843e-02, -1.6278e-02],\n",
      "        [ 3.2611e-05,  4.9206e-02],\n",
      "        [-2.2572e-02,  3.2193e-02],\n",
      "        [-1.7618e-02,  5.0363e-03]])\n",
      "likelihood: -16.510038375854492\n",
      "tensor([[ 0.0411, -0.0205],\n",
      "        [-0.0592,  0.0914],\n",
      "        [-0.0123,  0.0505],\n",
      "        [ 0.0079,  0.0247]])\n",
      "likelihood: -16.50585174560547\n",
      "tensor([[-0.0756,  0.0444],\n",
      "        [ 0.1090, -0.0496],\n",
      "        [-0.0493,  0.0467],\n",
      "        [ 0.0232, -0.0331]])\n",
      "likelihood: -16.538925170898438\n",
      "tensor([[ 0.0291, -0.0050],\n",
      "        [-0.0480,  0.0367],\n",
      "        [ 0.0083,  0.0274],\n",
      "        [-0.0124,  0.0190]])\n",
      "likelihood: -16.54117774963379\n",
      "tensor([[-0.0330,  0.0386],\n",
      "        [ 0.0949, -0.0425],\n",
      "        [ 0.0120, -0.0048],\n",
      "        [ 0.0129,  0.0067]])\n",
      "likelihood: -16.452444076538086\n",
      "tensor([[-0.0320,  0.0068],\n",
      "        [ 0.0763, -0.0265],\n",
      "        [ 0.0139, -0.0309],\n",
      "        [ 0.0225, -0.0090]])\n",
      "likelihood: -16.41109848022461\n",
      "tensor([[-0.0318, -0.0040],\n",
      "        [ 0.0806,  0.0110],\n",
      "        [-0.0383,  0.0251],\n",
      "        [ 0.0172,  0.0017]])\n",
      "likelihood: -16.511432647705078\n",
      "tensor([[-0.0351,  0.0270],\n",
      "        [ 0.0250, -0.0315],\n",
      "        [ 0.0462, -0.0447],\n",
      "        [ 0.0239, -0.0552]])\n",
      "likelihood: -16.45606231689453\n",
      "tensor([[-0.0168, -0.0060],\n",
      "        [-0.0188, -0.0435],\n",
      "        [-0.0666, -0.0273],\n",
      "        [ 0.0043,  0.0110]])\n",
      "likelihood: -16.485605239868164\n",
      "tensor([[ 0.0032,  0.0203],\n",
      "        [ 0.1104, -0.0390],\n",
      "        [ 0.0005,  0.0455],\n",
      "        [ 0.0003, -0.0039]])\n",
      "likelihood: -16.458330154418945\n",
      "tensor([[-0.0225, -0.0112],\n",
      "        [ 0.1312, -0.0558],\n",
      "        [ 0.0301, -0.0629],\n",
      "        [ 0.0121,  0.0135]])\n",
      "likelihood: -16.46938705444336\n",
      "tensor([[-0.0660,  0.0121],\n",
      "        [ 0.1246, -0.0411],\n",
      "        [ 0.0335,  0.0190],\n",
      "        [ 0.0248,  0.0173]])\n",
      "likelihood: -16.51844024658203\n",
      "tensor([[-0.0233,  0.0012],\n",
      "        [ 0.0599, -0.0212],\n",
      "        [-0.0100, -0.0304],\n",
      "        [-0.0003,  0.0223]])\n",
      "likelihood: -16.56219482421875\n",
      "tensor([[-0.0011,  0.0179],\n",
      "        [-0.0012, -0.0445],\n",
      "        [ 0.0662, -0.0296],\n",
      "        [-0.0066, -0.0237]])\n",
      "likelihood: -16.505212783813477\n",
      "tensor([[-0.0669,  0.0137],\n",
      "        [ 0.1324, -0.0484],\n",
      "        [-0.0129,  0.0161],\n",
      "        [ 0.0150, -0.0061]])\n",
      "likelihood: -16.455810546875\n",
      "tensor([[-0.0072,  0.0199],\n",
      "        [-0.0239, -0.0240],\n",
      "        [ 0.0081,  0.0494],\n",
      "        [ 0.0093, -0.0014]])\n",
      "likelihood: -16.525197982788086\n",
      "tensor([[ 0.0574, -0.0182],\n",
      "        [-0.1433,  0.0356],\n",
      "        [-0.0010, -0.0053],\n",
      "        [-0.0289, -0.0068]])\n",
      "likelihood: -16.441444396972656\n",
      "tensor([[ 0.0427, -0.0259],\n",
      "        [-0.0737,  0.0641],\n",
      "        [-0.0146, -0.0005],\n",
      "        [-0.0054,  0.0579]])\n",
      "likelihood: -16.54046058654785\n",
      "tensor([[ 0.0735, -0.0895],\n",
      "        [-0.1287,  0.1577],\n",
      "        [-0.0217,  0.0111],\n",
      "        [-0.0229,  0.0745]])\n",
      "likelihood: -16.518835067749023\n",
      "tensor([[ 0.0295, -0.0146],\n",
      "        [-0.0274,  0.0620],\n",
      "        [-0.0351,  0.0205],\n",
      "        [-0.0234,  0.0394]])\n",
      "likelihood: -16.543407440185547\n",
      "tensor([[-0.0455,  0.0260],\n",
      "        [ 0.0325, -0.0944],\n",
      "        [ 0.0186, -0.0347],\n",
      "        [ 0.0290, -0.0329]])\n",
      "likelihood: -16.484600067138672\n",
      "tensor([[ 0.0445, -0.0010],\n",
      "        [-0.0010, -0.0246],\n",
      "        [ 0.0631, -0.0502],\n",
      "        [-0.0171, -0.0066]])\n",
      "likelihood: -16.506664276123047\n",
      "tensor([[-0.0601,  0.0126],\n",
      "        [ 0.0804, -0.0295],\n",
      "        [-0.0212,  0.0090],\n",
      "        [ 0.0189, -0.0066]])\n",
      "likelihood: -16.559309005737305\n",
      "tensor([[ 0.0973, -0.0318],\n",
      "        [-0.0668,  0.0829],\n",
      "        [ 0.0330, -0.0186],\n",
      "        [-0.0203,  0.0534]])\n",
      "likelihood: -16.562244415283203\n",
      "tensor([[ 0.0846, -0.0847],\n",
      "        [-0.0734,  0.0903],\n",
      "        [ 0.1054, -0.0379],\n",
      "        [-0.0419,  0.0186]])\n",
      "likelihood: -16.542675018310547\n",
      "tensor([[ 0.0475, -0.0548],\n",
      "        [-0.0628,  0.1459],\n",
      "        [-0.0500,  0.0607],\n",
      "        [-0.0080,  0.0214]])\n",
      "likelihood: -16.568525314331055\n",
      "tensor([[ 0.0925, -0.0301],\n",
      "        [-0.2176,  0.0287],\n",
      "        [ 0.0522, -0.0119],\n",
      "        [-0.0422,  0.0203]])\n",
      "likelihood: -16.436676025390625\n",
      "tensor([[ 0.0153, -0.0329],\n",
      "        [-0.0646,  0.0579],\n",
      "        [-0.0356, -0.0033],\n",
      "        [-0.0061,  0.0160]])\n",
      "likelihood: -16.534395217895508\n",
      "tensor([[-0.0132, -0.0037],\n",
      "        [ 0.0023,  0.0037],\n",
      "        [-0.1094,  0.0300],\n",
      "        [ 0.0092,  0.0153]])\n",
      "likelihood: -16.530807495117188\n",
      "tensor([[ 0.0858, -0.0200],\n",
      "        [-0.1762,  0.0595],\n",
      "        [-0.0282,  0.0227],\n",
      "        [-0.0357,  0.0460]])\n",
      "likelihood: -16.539230346679688\n",
      "tensor([[ 0.1022, -0.0201],\n",
      "        [-0.1083,  0.0106],\n",
      "        [ 0.1375, -0.0470],\n",
      "        [-0.0182, -0.0133]])\n",
      "likelihood: -16.52295684814453\n",
      "tensor([[ 0.0016, -0.0035],\n",
      "        [ 0.0095, -0.0415],\n",
      "        [ 0.0386, -0.0243],\n",
      "        [-0.0042,  0.0252]])\n",
      "likelihood: -16.46673583984375\n",
      "tensor([[-0.1549,  0.0519],\n",
      "        [ 0.2144, -0.1014],\n",
      "        [-0.0872,  0.0780],\n",
      "        [ 0.0389, -0.0083]])\n",
      "likelihood: -16.531776428222656\n",
      "tensor([[ 0.0502, -0.0417],\n",
      "        [-0.0169,  0.0526],\n",
      "        [ 0.0335, -0.0291],\n",
      "        [-0.0203,  0.0183]])\n",
      "likelihood: -16.51184844970703\n",
      "tensor([[ 0.0696, -0.0155],\n",
      "        [-0.2209,  0.0579],\n",
      "        [ 0.0214,  0.0664],\n",
      "        [-0.0316,  0.0401]])\n",
      "likelihood: -16.513874053955078\n",
      "tensor([[-0.0469, -0.0035],\n",
      "        [ 0.0258, -0.0967],\n",
      "        [ 0.0117, -0.0239],\n",
      "        [-0.0091,  0.0028]])\n",
      "likelihood: -16.47515106201172\n",
      "tensor([[ 0.0415, -0.0131],\n",
      "        [-0.0197,  0.0157],\n",
      "        [-0.0832,  0.0278],\n",
      "        [-0.0152,  0.0344]])\n",
      "likelihood: -16.466144561767578\n",
      "tensor([[-0.0397,  0.0359],\n",
      "        [ 0.1722, -0.0672],\n",
      "        [ 0.0023,  0.0108],\n",
      "        [ 0.0274, -0.0173]])\n",
      "likelihood: -16.438777923583984\n",
      "tensor([[-0.0077,  0.0277],\n",
      "        [-0.0701, -0.0324],\n",
      "        [-0.0952,  0.0561],\n",
      "        [-0.0033, -0.0284]])\n",
      "likelihood: -16.465412139892578\n",
      "tensor([[-0.0306,  0.0242],\n",
      "        [ 0.0512, -0.0312],\n",
      "        [ 0.0081, -0.0060],\n",
      "        [-0.0024, -0.0020]])\n",
      "likelihood: -16.531856536865234\n",
      "tensor([[-0.0404,  0.0515],\n",
      "        [ 0.0417, -0.0381],\n",
      "        [-0.0721,  0.0779],\n",
      "        [ 0.0254, -0.0317]])\n",
      "likelihood: -16.484851837158203\n",
      "tensor([[-0.0690,  0.0555],\n",
      "        [ 0.1166, -0.1317],\n",
      "        [-0.0392,  0.0140],\n",
      "        [ 0.0213, -0.0423]])\n",
      "likelihood: -16.47285270690918\n",
      "tensor([[-0.0458,  0.0310],\n",
      "        [ 0.0714, -0.0314],\n",
      "        [-0.0416,  0.0019],\n",
      "        [ 0.0145, -0.0138]])\n",
      "likelihood: -16.493621826171875\n",
      "tensor([[ 0.0450,  0.0029],\n",
      "        [ 0.0339, -0.0379],\n",
      "        [ 0.0587, -0.0274],\n",
      "        [ 0.0016, -0.0262]])\n",
      "likelihood: -16.452960968017578\n",
      "tensor([[-0.0443,  0.0008],\n",
      "        [ 0.0187,  0.0034],\n",
      "        [-0.0705,  0.0117],\n",
      "        [ 0.0110, -0.0076]])\n",
      "likelihood: -16.550678253173828\n",
      "tensor([[ 0.0344,  0.0002],\n",
      "        [-0.0281, -0.0059],\n",
      "        [ 0.0158,  0.0001],\n",
      "        [-0.0112, -0.0142]])\n",
      "likelihood: -16.51498794555664\n",
      "tensor([[-0.0970,  0.0207],\n",
      "        [ 0.1193, -0.0508],\n",
      "        [ 0.0090, -0.0014],\n",
      "        [ 0.0159, -0.0130]])\n",
      "likelihood: -16.49139976501465\n",
      "tensor([[ 0.0827, -0.0338],\n",
      "        [-0.0646,  0.0605],\n",
      "        [ 0.1016, -0.0278],\n",
      "        [-0.0271,  0.0291]])\n",
      "likelihood: -16.488611221313477\n",
      "tensor([[ 0.0872, -0.0685],\n",
      "        [-0.1447,  0.1117],\n",
      "        [ 0.0117, -0.0331],\n",
      "        [-0.0355,  0.0267]])\n",
      "likelihood: -16.488412857055664\n",
      "tensor([[ 0.0148,  0.0004],\n",
      "        [ 0.0112, -0.0450],\n",
      "        [ 0.0370, -0.0283],\n",
      "        [ 0.0007,  0.0132]])\n",
      "likelihood: -16.492467880249023\n",
      "tensor([[-0.0632,  0.0319],\n",
      "        [ 0.0990, -0.0679],\n",
      "        [-0.0104,  0.0506],\n",
      "        [ 0.0218, -0.0287]])\n",
      "likelihood: -16.481618881225586\n",
      "tensor([[ 0.0938, -0.0634],\n",
      "        [-0.2114,  0.1179],\n",
      "        [ 0.0453, -0.0292],\n",
      "        [-0.0215,  0.0421]])\n",
      "likelihood: -16.522869110107422\n",
      "tensor([[-0.0059, -0.0300],\n",
      "        [-0.0711,  0.0502],\n",
      "        [-0.0725,  0.0108],\n",
      "        [ 0.0010,  0.0401]])\n",
      "likelihood: -16.538597106933594\n",
      "tensor([[-0.0270, -0.0109],\n",
      "        [ 0.0244,  0.0200],\n",
      "        [-0.0395,  0.0266],\n",
      "        [ 0.0129,  0.0136]])\n",
      "likelihood: -16.486221313476562\n",
      "tensor([[-0.0901,  0.0243],\n",
      "        [ 0.0112, -0.0362],\n",
      "        [-0.0266,  0.0184],\n",
      "        [ 0.0259, -0.0193]])\n",
      "likelihood: -16.430564880371094\n",
      "tensor([[-0.0196,  0.0165],\n",
      "        [ 0.0779,  0.0151],\n",
      "        [ 0.0070,  0.0221],\n",
      "        [ 0.0040, -0.0160]])\n",
      "likelihood: -16.500411987304688\n",
      "tensor([[ 0.0326,  0.0175],\n",
      "        [ 0.0754, -0.0477],\n",
      "        [ 0.0447, -0.0320],\n",
      "        [ 0.0033,  0.0331]])\n",
      "likelihood: -16.5052547454834\n",
      "tensor([[-0.0018, -0.0065],\n",
      "        [ 0.0391, -0.0165],\n",
      "        [ 0.0568, -0.0308],\n",
      "        [ 0.0014, -0.0198]])\n",
      "likelihood: -16.490772247314453\n",
      "tensor([[-0.0676,  0.0169],\n",
      "        [ 0.1889, -0.0703],\n",
      "        [ 0.0705, -0.0601],\n",
      "        [ 0.0203, -0.0584]])\n",
      "likelihood: -16.513713836669922\n",
      "tensor([[ 0.0369, -0.0450],\n",
      "        [-0.0995,  0.0132],\n",
      "        [ 0.0591, -0.0382],\n",
      "        [-0.0109,  0.0377]])\n",
      "likelihood: -16.456613540649414\n",
      "tensor([[-0.0281, -0.0086],\n",
      "        [ 0.0424, -0.0220],\n",
      "        [-0.0284,  0.0004],\n",
      "        [ 0.0040,  0.0105]])\n",
      "likelihood: -16.509849548339844\n",
      "tensor([[ 0.0215, -0.0141],\n",
      "        [ 0.0729,  0.0249],\n",
      "        [ 0.0320, -0.0100],\n",
      "        [-0.0124, -0.0148]])\n",
      "likelihood: -16.529369354248047\n",
      "tensor([[-0.0126,  0.0029],\n",
      "        [ 0.0049, -0.0300],\n",
      "        [ 0.0329, -0.0002],\n",
      "        [-0.0037, -0.0333]])\n",
      "likelihood: -16.51143455505371\n",
      "tensor([[ 0.0625, -0.0140],\n",
      "        [-0.0779,  0.0135],\n",
      "        [ 0.0518, -0.0425],\n",
      "        [-0.0073,  0.0060]])\n",
      "likelihood: -16.43751335144043\n",
      "tensor([[ 0.0381,  0.0018],\n",
      "        [-0.0767,  0.0211],\n",
      "        [ 0.0158,  0.0048],\n",
      "        [-0.0157, -0.0077]])\n",
      "likelihood: -16.4608211517334\n",
      "tensor([[ 0.0085,  0.0044],\n",
      "        [-0.0070,  0.0078],\n",
      "        [-0.0256,  0.0191],\n",
      "        [-0.0113,  0.0172]])\n",
      "likelihood: -16.50598907470703\n",
      "tensor([[ 0.0732, -0.0472],\n",
      "        [-0.0398,  0.0699],\n",
      "        [ 0.0124,  0.0135],\n",
      "        [-0.0035,  0.0408]])\n",
      "likelihood: -16.59140396118164\n",
      "tensor([[ 0.0201, -0.0147],\n",
      "        [-0.0653,  0.0312],\n",
      "        [ 0.0279, -0.0075],\n",
      "        [-0.0234, -0.0064]])\n",
      "likelihood: -16.469572067260742\n",
      "tensor([[-0.0179, -0.0139],\n",
      "        [ 0.0520, -0.0065],\n",
      "        [-0.0172, -0.0307],\n",
      "        [ 0.0158,  0.0170]])\n",
      "likelihood: -16.551776885986328\n",
      "tensor([[ 0.0168,  0.0191],\n",
      "        [-0.0533, -0.0505],\n",
      "        [ 0.0346, -0.0382],\n",
      "        [ 0.0033, -0.0305]])\n",
      "likelihood: -16.502614974975586\n",
      "tensor([[-0.0129, -0.0080],\n",
      "        [ 0.1065, -0.0474],\n",
      "        [ 0.0402, -0.0299],\n",
      "        [ 0.0047, -0.0069]])\n",
      "likelihood: -16.532569885253906\n",
      "tensor([[ 0.0215, -0.0068],\n",
      "        [ 0.0083, -0.0316],\n",
      "        [ 0.0843, -0.0447],\n",
      "        [-0.0094, -0.0018]])\n",
      "likelihood: -16.45473289489746\n",
      "tensor([[-0.0197, -0.0046],\n",
      "        [-0.0764,  0.0433],\n",
      "        [-0.0907,  0.0458],\n",
      "        [-0.0003,  0.0283]])\n",
      "likelihood: -16.48064613342285\n",
      "tensor([[-0.0173,  0.0215],\n",
      "        [ 0.0703, -0.0516],\n",
      "        [ 0.0192,  0.0228],\n",
      "        [ 0.0075,  0.0072]])\n",
      "likelihood: -16.481904983520508\n",
      "tensor([[-0.0570,  0.0320],\n",
      "        [ 0.1139, -0.0625],\n",
      "        [-0.0114,  0.0117],\n",
      "        [ 0.0214, -0.0494]])\n",
      "likelihood: -16.463720321655273\n",
      "tensor([[-0.0345,  0.0201],\n",
      "        [-0.0061, -0.0672],\n",
      "        [-0.0021, -0.0103],\n",
      "        [ 0.0144, -0.0192]])\n",
      "likelihood: -16.49541664123535\n",
      "tensor([[-0.0070, -0.0053],\n",
      "        [ 0.0220,  0.0121],\n",
      "        [-0.0408,  0.0226],\n",
      "        [-0.0007, -0.0054]])\n",
      "likelihood: -16.512897491455078\n",
      "tensor([[ 0.0167, -0.0215],\n",
      "        [-0.0710, -0.0408],\n",
      "        [-0.0075, -0.0549],\n",
      "        [-0.0018,  0.0090]])\n",
      "likelihood: -16.51624870300293\n",
      "tensor([[ 0.0131, -0.0137],\n",
      "        [-0.0034,  0.0612],\n",
      "        [-0.0409,  0.0485],\n",
      "        [-0.0019,  0.0146]])\n",
      "likelihood: -16.515840530395508\n",
      "tensor([[ 0.0509, -0.0271],\n",
      "        [-0.0047,  0.0347],\n",
      "        [ 0.0500, -0.0342],\n",
      "        [-0.0083,  0.0122]])\n",
      "likelihood: -16.5181941986084\n",
      "tensor([[-0.0028,  0.0085],\n",
      "        [-0.0054,  0.0298],\n",
      "        [-0.0641,  0.0557],\n",
      "        [ 0.0165, -0.0106]])\n",
      "likelihood: -16.461854934692383\n",
      "tensor([[-0.0666,  0.0342],\n",
      "        [-0.0112, -0.0242],\n",
      "        [-0.0331,  0.0556],\n",
      "        [ 0.0275, -0.0352]])\n",
      "likelihood: -16.48676109313965\n",
      "tensor([[-0.0279,  0.0571],\n",
      "        [ 0.1092, -0.0940],\n",
      "        [ 0.0298, -0.0058],\n",
      "        [ 0.0215, -0.0239]])\n",
      "likelihood: -16.509227752685547\n",
      "tensor([[-0.0232, -0.0042],\n",
      "        [ 0.0240, -0.0427],\n",
      "        [-0.0014, -0.0261],\n",
      "        [ 0.0085, -0.0003]])\n",
      "likelihood: -16.52249526977539\n",
      "tensor([[-0.0403,  0.0137],\n",
      "        [ 0.0573, -0.0206],\n",
      "        [-0.0171, -0.0279],\n",
      "        [ 0.0296, -0.0238]])\n",
      "likelihood: -16.42501449584961\n",
      "tensor([[-0.0494,  0.0336],\n",
      "        [ 0.0686, -0.0668],\n",
      "        [-0.0297,  0.0043],\n",
      "        [ 0.0270, -0.0345]])\n",
      "likelihood: -16.47245216369629\n",
      "tensor([[ 0.0135, -0.0015],\n",
      "        [ 0.0178, -0.0325],\n",
      "        [ 0.0575, -0.0204],\n",
      "        [-0.0180,  0.0219]])\n",
      "likelihood: -16.483226776123047\n",
      "tensor([[ 0.0423,  0.0033],\n",
      "        [-0.1085,  0.0094],\n",
      "        [-0.0042,  0.0378],\n",
      "        [-0.0129, -0.0029]])\n",
      "likelihood: -16.486711502075195\n",
      "tensor([[ 0.0099, -0.0148],\n",
      "        [ 0.0062,  0.1175],\n",
      "        [-0.0276,  0.0599],\n",
      "        [ 0.0116,  0.0196]])\n",
      "likelihood: -16.43743896484375\n",
      "tensor([[-0.0762,  0.0463],\n",
      "        [ 0.1373, -0.1237],\n",
      "        [-0.0073, -0.0078],\n",
      "        [ 0.0336, -0.0278]])\n",
      "likelihood: -16.47757911682129\n",
      "tensor([[-0.0174,  0.0606],\n",
      "        [ 0.0034, -0.1087],\n",
      "        [-0.0178,  0.0078],\n",
      "        [ 0.0033, -0.0333]])\n",
      "likelihood: -16.47452163696289\n",
      "tensor([[ 0.0105, -0.0219],\n",
      "        [-0.0833,  0.0352],\n",
      "        [-0.0250,  0.0170],\n",
      "        [-0.0034, -0.0109]])\n",
      "likelihood: -16.453994750976562\n",
      "tensor([[ 0.0026, -0.0222],\n",
      "        [ 0.0503,  0.0548],\n",
      "        [-0.0231,  0.0169],\n",
      "        [ 0.0039, -0.0085]])\n",
      "likelihood: -16.50678253173828\n",
      "tensor([[-0.0173,  0.0271],\n",
      "        [ 0.0636, -0.0682],\n",
      "        [ 0.0663, -0.0132],\n",
      "        [ 0.0156, -0.0232]])\n",
      "likelihood: -16.473594665527344\n",
      "tensor([[ 0.0260, -0.0191],\n",
      "        [-0.0495,  0.0458],\n",
      "        [-0.0335,  0.0054],\n",
      "        [ 0.0122,  0.0270]])\n",
      "likelihood: -16.559816360473633\n",
      "tensor([[-0.0702, -0.0463],\n",
      "        [ 0.0549,  0.0166],\n",
      "        [ 0.0203, -0.0273],\n",
      "        [-0.0015,  0.0329]])\n",
      "likelihood: -16.49669647216797\n",
      "tensor([[ 0.0281, -0.0008],\n",
      "        [-0.1266,  0.0774],\n",
      "        [-0.0297,  0.0342],\n",
      "        [-0.0023, -0.0007]])\n",
      "likelihood: -16.48723602294922\n",
      "tensor([[ 0.0492, -0.0454],\n",
      "        [-0.0260,  0.0416],\n",
      "        [ 0.0221, -0.0153],\n",
      "        [-0.0340,  0.0597]])\n",
      "likelihood: -16.477062225341797\n",
      "tensor([[-0.0666,  0.0387],\n",
      "        [ 0.1250, -0.0771],\n",
      "        [ 0.0178, -0.0086],\n",
      "        [ 0.0033,  0.0127]])\n",
      "likelihood: -16.460290908813477\n",
      "tensor([[-0.0130, -0.0137],\n",
      "        [-0.0049,  0.0280],\n",
      "        [-0.0159, -0.0138],\n",
      "        [ 0.0047,  0.0055]])\n",
      "likelihood: -16.501434326171875\n",
      "tensor([[ 0.0854, -0.0470],\n",
      "        [-0.0377,  0.1137],\n",
      "        [ 0.0110, -0.0158],\n",
      "        [-0.0202,  0.0401]])\n",
      "likelihood: -16.521324157714844\n",
      "tensor([[ 0.0298,  0.0046],\n",
      "        [-0.0208,  0.0069],\n",
      "        [ 0.1006, -0.0397],\n",
      "        [-0.0080,  0.0170]])\n",
      "likelihood: -16.47663116455078\n",
      "tensor([[ 0.0031, -0.0121],\n",
      "        [-0.0140,  0.0212],\n",
      "        [-0.0260, -0.0080],\n",
      "        [ 0.0023, -0.0065]])\n",
      "likelihood: -16.561466217041016\n",
      "tensor([[-0.0107,  0.0363],\n",
      "        [ 0.0499, -0.0478],\n",
      "        [ 0.0220,  0.0219],\n",
      "        [-0.0012, -0.0021]])\n",
      "likelihood: -16.45869255065918\n",
      "tensor([[-0.0643,  0.0261],\n",
      "        [ 0.0230,  0.0090],\n",
      "        [-0.1311,  0.0950],\n",
      "        [ 0.0291, -0.0085]])\n",
      "likelihood: -16.49964141845703\n",
      "tensor([[-0.1409,  0.0580],\n",
      "        [ 0.2260, -0.1898],\n",
      "        [-0.0546,  0.0143],\n",
      "        [ 0.0426, -0.0415]])\n",
      "likelihood: -16.505569458007812\n",
      "tensor([[ 0.0660, -0.0110],\n",
      "        [-0.1174,  0.0681],\n",
      "        [ 0.0103,  0.0476],\n",
      "        [-0.0264,  0.0449]])\n",
      "likelihood: -16.502931594848633\n",
      "tensor([[-0.0376, -0.0038],\n",
      "        [ 0.1215, -0.0640],\n",
      "        [ 0.0053, -0.0112],\n",
      "        [ 0.0062,  0.0306]])\n",
      "likelihood: -16.495119094848633\n",
      "tensor([[-0.0394,  0.0238],\n",
      "        [ 0.0520, -0.0107],\n",
      "        [ 0.0229,  0.0089],\n",
      "        [ 0.0101, -0.0405]])\n",
      "likelihood: -16.476158142089844\n",
      "tensor([[ 0.0252, -0.0220],\n",
      "        [-0.0084, -0.0256],\n",
      "        [ 0.0501, -0.0485],\n",
      "        [-0.0106,  0.0216]])\n",
      "likelihood: -16.52301025390625\n",
      "tensor([[ 0.0301,  0.0022],\n",
      "        [-0.0212,  0.0034],\n",
      "        [ 0.0173, -0.0176],\n",
      "        [-0.0156, -0.0118]])\n",
      "likelihood: -16.52069854736328\n",
      "tensor([[-0.0460,  0.0254],\n",
      "        [ 0.0074, -0.0271],\n",
      "        [-0.0816,  0.0157],\n",
      "        [ 0.0173, -0.0095]])\n",
      "likelihood: -16.49961280822754\n",
      "tensor([[ 0.0821, -0.0178],\n",
      "        [-0.0636,  0.0100],\n",
      "        [ 0.1007, -0.0380],\n",
      "        [-0.0268,  0.0049]])\n",
      "likelihood: -16.47049331665039\n",
      "tensor([[ 0.0068,  0.0199],\n",
      "        [-0.1029, -0.0140],\n",
      "        [-0.0258, -0.0072],\n",
      "        [-0.0068, -0.0370]])\n",
      "likelihood: -16.505435943603516\n",
      "tensor([[ 0.0672, -0.0133],\n",
      "        [-0.1032,  0.0335],\n",
      "        [-0.0053,  0.0156],\n",
      "        [-0.0273,  0.0273]])\n",
      "likelihood: -16.49300765991211\n",
      "tensor([[-0.0162, -0.0244],\n",
      "        [ 0.0470,  0.0069],\n",
      "        [ 0.0051, -0.0086],\n",
      "        [ 0.0135, -0.0191]])\n",
      "likelihood: -16.53390884399414\n",
      "tensor([[ 0.0121, -0.0060],\n",
      "        [-0.1175,  0.0392],\n",
      "        [ 0.0656, -0.0139],\n",
      "        [-0.0067, -0.0332]])\n",
      "likelihood: -16.464160919189453\n",
      "tensor([[ 0.0420, -0.0019],\n",
      "        [-0.0304,  0.0244],\n",
      "        [ 0.0126,  0.0189],\n",
      "        [ 0.0006, -0.0058]])\n",
      "likelihood: -16.528921127319336\n",
      "tensor([[ 0.0038, -0.0170],\n",
      "        [ 0.0367,  0.0101],\n",
      "        [ 0.0203, -0.0036],\n",
      "        [-0.0123, -0.0130]])\n",
      "likelihood: -16.525598526000977\n",
      "tensor([[ 0.0292, -0.0389],\n",
      "        [-0.0258,  0.0643],\n",
      "        [ 0.0108, -0.0181],\n",
      "        [-0.0167,  0.0276]])\n",
      "likelihood: -16.55683135986328\n",
      "tensor([[ 0.0532,  0.0276],\n",
      "        [ 0.0414, -0.0493],\n",
      "        [ 0.0454, -0.0184],\n",
      "        [-0.0050, -0.0429]])\n",
      "likelihood: -16.473419189453125\n",
      "tensor([[-0.0963,  0.0574],\n",
      "        [ 0.1410, -0.1000],\n",
      "        [-0.0162,  0.0050],\n",
      "        [ 0.0452, -0.0597]])\n",
      "likelihood: -16.509008407592773\n",
      "tensor([[ 0.0035,  0.0337],\n",
      "        [ 0.0678, -0.0513],\n",
      "        [ 0.0639,  0.0015],\n",
      "        [ 0.0120,  0.0410]])\n",
      "likelihood: -16.512266159057617\n",
      "tensor([[ 0.0013, -0.0005],\n",
      "        [ 0.0678,  0.0067],\n",
      "        [ 0.0489, -0.0033],\n",
      "        [-0.0045,  0.0128]])\n",
      "likelihood: -16.450042724609375\n",
      "tensor([[ 0.0555, -0.0367],\n",
      "        [-0.1478,  0.0870],\n",
      "        [-0.0523,  0.0512],\n",
      "        [-0.0305,  0.0408]])\n",
      "likelihood: -16.476327896118164\n",
      "tensor([[ 0.0584, -0.0145],\n",
      "        [-0.1035,  0.0714],\n",
      "        [-0.0425,  0.0431],\n",
      "        [ 0.0067,  0.0122]])\n",
      "likelihood: -16.46590805053711\n",
      "tensor([[-0.0284,  0.0061],\n",
      "        [ 0.0367,  0.0046],\n",
      "        [ 0.0069, -0.0316],\n",
      "        [ 0.0330, -0.0141]])\n",
      "likelihood: -16.489667892456055\n",
      "tensor([[ 0.0068, -0.0048],\n",
      "        [ 0.0075, -0.0168],\n",
      "        [ 0.0288, -0.0661],\n",
      "        [ 0.0128, -0.0273]])\n",
      "likelihood: -16.482357025146484\n",
      "tensor([[-0.1122,  0.0477],\n",
      "        [ 0.0943, -0.0886],\n",
      "        [-0.0144,  0.0230],\n",
      "        [ 0.0382, -0.0394]])\n",
      "likelihood: -16.501636505126953\n",
      "tensor([[-0.0527,  0.0283],\n",
      "        [ 0.1092, -0.0389],\n",
      "        [ 0.0051,  0.0211],\n",
      "        [ 0.0119, -0.0065]])\n",
      "likelihood: -16.476940155029297\n",
      "tensor([[ 0.0320, -0.0123],\n",
      "        [ 0.0137,  0.0469],\n",
      "        [ 0.0081, -0.0282],\n",
      "        [ 0.0075, -0.0114]])\n",
      "likelihood: -16.486263275146484\n",
      "tensor([[-0.0331,  0.0213],\n",
      "        [ 0.1544, -0.0639],\n",
      "        [ 0.0408, -0.0209],\n",
      "        [ 0.0173, -0.0142]])\n",
      "likelihood: -16.42950439453125\n",
      "tensor([[ 0.0177, -0.0258],\n",
      "        [ 0.0696, -0.0395],\n",
      "        [ 0.0746, -0.0743],\n",
      "        [-0.0109,  0.0333]])\n",
      "likelihood: -16.54412078857422\n",
      "tensor([[ 0.0470, -0.0257],\n",
      "        [-0.2031,  0.0612],\n",
      "        [ 0.0118,  0.0016],\n",
      "        [-0.0020, -0.0073]])\n",
      "likelihood: -16.54108238220215\n",
      "tensor([[ 0.0491, -0.0082],\n",
      "        [-0.1158,  0.0144],\n",
      "        [-0.0379, -0.0043],\n",
      "        [-0.0117,  0.0409]])\n",
      "likelihood: -16.553054809570312\n",
      "tensor([[-0.0143,  0.0285],\n",
      "        [-0.0079, -0.0250],\n",
      "        [ 0.0239, -0.0148],\n",
      "        [ 0.0140, -0.0561]])\n",
      "likelihood: -16.525712966918945\n",
      "tensor([[ 0.0961, -0.0436],\n",
      "        [-0.1685,  0.0957],\n",
      "        [ 0.0644,  0.0080],\n",
      "        [-0.0393,  0.0245]])\n",
      "likelihood: -16.45020866394043\n",
      "tensor([[-0.0542,  0.0589],\n",
      "        [ 0.0480, -0.0726],\n",
      "        [-0.0397,  0.0473],\n",
      "        [ 0.0210, -0.0437]])\n",
      "likelihood: -16.520112991333008\n",
      "tensor([[-0.0861,  0.0215],\n",
      "        [ 0.0010, -0.0169],\n",
      "        [-0.0871,  0.0370],\n",
      "        [ 0.0104, -0.0248]])\n",
      "likelihood: -16.470142364501953\n",
      "tensor([[-0.0387,  0.0026],\n",
      "        [ 0.0821, -0.0010],\n",
      "        [-0.0210,  0.0128],\n",
      "        [ 0.0173,  0.0433]])\n",
      "likelihood: -16.54146385192871\n",
      "tensor([[ 0.0719, -0.0356],\n",
      "        [-0.0014,  0.0397],\n",
      "        [ 0.1003, -0.0703],\n",
      "        [-0.0239,  0.0581]])\n",
      "likelihood: -16.530719757080078\n",
      "tensor([[ 0.0125, -0.0383],\n",
      "        [-0.0196,  0.0855],\n",
      "        [-0.0273, -0.0142],\n",
      "        [-0.0091,  0.0079]])\n",
      "likelihood: -16.476036071777344\n",
      "tensor([[-0.0205,  0.0642],\n",
      "        [ 0.1290, -0.0883],\n",
      "        [ 0.0375, -0.0322],\n",
      "        [ 0.0192, -0.0331]])\n",
      "likelihood: -16.517005920410156\n",
      "tensor([[-0.0793,  0.0070],\n",
      "        [ 0.1353, -0.0997],\n",
      "        [ 0.0564, -0.0563],\n",
      "        [ 0.0037, -0.0148]])\n",
      "likelihood: -16.585683822631836\n",
      "tensor([[-0.0280,  0.0334],\n",
      "        [ 0.1180, -0.0795],\n",
      "        [ 0.0404, -0.0313],\n",
      "        [-0.0016, -0.0623]])\n",
      "likelihood: -16.507091522216797\n",
      "tensor([[ 0.0138,  0.0055],\n",
      "        [-0.1182,  0.0425],\n",
      "        [-0.0723,  0.1000],\n",
      "        [ 0.0054, -0.0219]])\n",
      "likelihood: -16.490673065185547\n",
      "tensor([[-0.0052,  0.0356],\n",
      "        [ 0.0034, -0.0333],\n",
      "        [ 0.0601, -0.0276],\n",
      "        [-0.0013, -0.0331]])\n",
      "likelihood: -16.459579467773438\n",
      "tensor([[-0.0206,  0.0211],\n",
      "        [ 0.0112, -0.0164],\n",
      "        [-0.0358, -0.0098],\n",
      "        [-0.0044,  0.0075]])\n",
      "likelihood: -16.4962158203125\n",
      "tensor([[ 0.0368,  0.0024],\n",
      "        [ 0.0323,  0.0443],\n",
      "        [ 0.0904, -0.0071],\n",
      "        [-0.0203, -0.0219]])\n",
      "likelihood: -16.488637924194336\n",
      "tensor([[-0.0822,  0.0610],\n",
      "        [ 0.1287, -0.1182],\n",
      "        [ 0.0042, -0.0161],\n",
      "        [ 0.0287, -0.0294]])\n",
      "likelihood: -16.4943904876709\n",
      "tensor([[-3.8798e-02,  9.6794e-05],\n",
      "        [ 1.3071e-01,  3.5767e-02],\n",
      "        [-4.7497e-02,  4.5434e-02],\n",
      "        [ 3.5064e-02, -1.3199e-02]])\n",
      "likelihood: -16.50291633605957\n",
      "tensor([[-0.0204,  0.0074],\n",
      "        [ 0.0572, -0.1006],\n",
      "        [ 0.0824, -0.0507],\n",
      "        [ 0.0041, -0.0040]])\n",
      "likelihood: -16.50621223449707\n",
      "tensor([[-0.0257,  0.0290],\n",
      "        [ 0.1013, -0.0697],\n",
      "        [ 0.0450, -0.0418],\n",
      "        [ 0.0058, -0.0361]])\n",
      "likelihood: -16.556705474853516\n",
      "tensor([[ 0.0736, -0.0423],\n",
      "        [-0.1058,  0.1013],\n",
      "        [ 0.0239, -0.0282],\n",
      "        [-0.0300,  0.0271]])\n",
      "likelihood: -16.49192237854004\n",
      "tensor([[ 0.0422, -0.0073],\n",
      "        [-0.0239,  0.0185],\n",
      "        [ 0.0065, -0.0060],\n",
      "        [ 0.0017, -0.0202]])\n",
      "likelihood: -16.528301239013672\n",
      "tensor([[-0.0238, -0.0004],\n",
      "        [ 0.1586, -0.0566],\n",
      "        [ 0.0632, -0.0386],\n",
      "        [-0.0024, -0.0053]])\n",
      "likelihood: -16.518260955810547\n",
      "tensor([[-0.0044,  0.0409],\n",
      "        [ 0.0090, -0.0448],\n",
      "        [-0.0332,  0.0146],\n",
      "        [ 0.0153,  0.0117]])\n",
      "likelihood: -16.48250961303711\n",
      "tensor([[-0.0333,  0.0415],\n",
      "        [ 0.0789, -0.0483],\n",
      "        [-0.0126,  0.0080],\n",
      "        [ 0.0117, -0.0136]])\n",
      "likelihood: -16.543384552001953\n",
      "tensor([[ 0.0399,  0.0131],\n",
      "        [-0.0939, -0.0118],\n",
      "        [ 0.0252, -0.0061],\n",
      "        [-0.0155, -0.0104]])\n",
      "likelihood: -16.479251861572266\n",
      "tensor([[ 0.0179,  0.0222],\n",
      "        [ 0.0477,  0.0085],\n",
      "        [ 0.0226,  0.0059],\n",
      "        [-0.0039, -0.0402]])\n",
      "likelihood: -16.533084869384766\n",
      "tensor([[ 0.0048, -0.0168],\n",
      "        [ 0.0098, -0.0176],\n",
      "        [ 0.0207,  0.0089],\n",
      "        [-0.0013,  0.0142]])\n",
      "likelihood: -16.442407608032227\n",
      "tensor([[-0.0663,  0.0160],\n",
      "        [ 0.1370, -0.0188],\n",
      "        [ 0.0013, -0.0175],\n",
      "        [ 0.0150,  0.0119]])\n",
      "likelihood: -16.439350128173828\n",
      "tensor([[-0.0390,  0.0048],\n",
      "        [ 0.2085, -0.0017],\n",
      "        [-0.0173,  0.0151],\n",
      "        [ 0.0075,  0.0031]])\n",
      "likelihood: -16.57831573486328\n",
      "tensor([[-0.0273, -0.0047],\n",
      "        [ 0.1321, -0.0163],\n",
      "        [ 0.0346, -0.0281],\n",
      "        [ 0.0086, -0.0177]])\n",
      "likelihood: -16.510866165161133\n",
      "tensor([[-0.0060, -0.0184],\n",
      "        [-0.0763,  0.0588],\n",
      "        [-0.0427, -0.0017],\n",
      "        [-0.0166,  0.0249]])\n",
      "likelihood: -16.514997482299805\n",
      "tensor([[ 0.0526, -0.0032],\n",
      "        [ 0.0020,  0.0550],\n",
      "        [ 0.0746,  0.0182],\n",
      "        [-0.0096,  0.0075]])\n",
      "likelihood: -16.550994873046875\n",
      "tensor([[ 0.0495, -0.0459],\n",
      "        [-0.1210,  0.0853],\n",
      "        [ 0.0311,  0.0138],\n",
      "        [-0.0101,  0.0193]])\n",
      "likelihood: -16.46173095703125\n",
      "tensor([[-0.0825,  0.0653],\n",
      "        [ 0.1621, -0.0898],\n",
      "        [-0.0630,  0.0610],\n",
      "        [ 0.0414, -0.0761]])\n",
      "likelihood: -16.490192413330078\n",
      "tensor([[ 0.0096,  0.0264],\n",
      "        [ 0.0538, -0.0530],\n",
      "        [ 0.0319,  0.0025],\n",
      "        [ 0.0048,  0.0134]])\n",
      "likelihood: -16.500961303710938\n",
      "tensor([[-0.0450, -0.0023],\n",
      "        [-0.0117,  0.0507],\n",
      "        [-0.1625,  0.0952],\n",
      "        [ 0.0212,  0.0405]])\n",
      "likelihood: -16.510543823242188\n",
      "tensor([[-0.0016,  0.0072],\n",
      "        [-0.0081, -0.0055],\n",
      "        [-0.0347,  0.0230],\n",
      "        [ 0.0098,  0.0037]])\n",
      "likelihood: -16.51447868347168\n",
      "tensor([[-0.0106,  0.0163],\n",
      "        [ 0.0122,  0.0344],\n",
      "        [-0.0894,  0.0760],\n",
      "        [ 0.0239, -0.0114]])\n",
      "likelihood: -16.489145278930664\n",
      "tensor([[-0.0140, -0.0018],\n",
      "        [ 0.0127,  0.0083],\n",
      "        [-0.0018,  0.0051],\n",
      "        [ 0.0067, -0.0101]])\n",
      "likelihood: -16.511310577392578\n",
      "tensor([[ 0.0071,  0.0072],\n",
      "        [-0.0087,  0.0300],\n",
      "        [-0.0185,  0.0079],\n",
      "        [ 0.0130, -0.0376]])\n",
      "likelihood: -16.54575538635254\n",
      "tensor([[ 0.0471, -0.0014],\n",
      "        [-0.0743,  0.1049],\n",
      "        [-0.0630,  0.0597],\n",
      "        [ 0.0042, -0.0163]])\n",
      "likelihood: -16.472261428833008\n",
      "tensor([[ 0.0240,  0.0014],\n",
      "        [ 0.0552, -0.0242],\n",
      "        [ 0.0498, -0.0196],\n",
      "        [-0.0022,  0.0222]])\n",
      "likelihood: -16.53497886657715\n",
      "tensor([[ 0.0333, -0.0353],\n",
      "        [-0.0883,  0.0821],\n",
      "        [-0.0321,  0.0476],\n",
      "        [-0.0116,  0.0525]])\n",
      "likelihood: -16.531940460205078\n",
      "tensor([[ 0.0276, -0.0166],\n",
      "        [-0.0077,  0.0443],\n",
      "        [ 0.0086, -0.0164],\n",
      "        [-0.0023, -0.0035]])\n",
      "likelihood: -16.523834228515625\n",
      "tensor([[-0.0338, -0.0052],\n",
      "        [ 0.0002,  0.0508],\n",
      "        [-0.0918,  0.0149],\n",
      "        [-0.0037, -0.0298]])\n",
      "likelihood: -16.518505096435547\n",
      "tensor([[ 0.0131, -0.0131],\n",
      "        [ 0.0314,  0.0299],\n",
      "        [-0.0081,  0.0101],\n",
      "        [-0.0092, -0.0284]])\n",
      "likelihood: -16.49894142150879\n",
      "tensor([[-0.0481,  0.0094],\n",
      "        [ 0.2722, -0.0404],\n",
      "        [ 0.0280, -0.0197],\n",
      "        [ 0.0242, -0.0010]])\n",
      "likelihood: -16.459217071533203\n",
      "tensor([[ 0.0397, -0.0227],\n",
      "        [-0.0283,  0.0297],\n",
      "        [ 0.0594, -0.0445],\n",
      "        [-0.0297,  0.0006]])\n",
      "likelihood: -16.55191993713379\n",
      "tensor([[ 0.0475,  0.0017],\n",
      "        [-0.0892,  0.0397],\n",
      "        [-0.0092,  0.0065],\n",
      "        [-0.0093, -0.0528]])\n",
      "likelihood: -16.500850677490234\n",
      "tensor([[-0.0178,  0.0107],\n",
      "        [ 0.0887, -0.0836],\n",
      "        [ 0.0408, -0.0262],\n",
      "        [ 0.0021,  0.0104]])\n",
      "likelihood: -16.464771270751953\n",
      "tensor([[-0.1092,  0.0043],\n",
      "        [ 0.2175, -0.0213],\n",
      "        [-0.0433,  0.0613],\n",
      "        [ 0.0080, -0.0125]])\n",
      "likelihood: -16.528594970703125\n",
      "tensor([[ 0.0027,  0.0050],\n",
      "        [ 0.0491, -0.0200],\n",
      "        [ 0.0192, -0.0268],\n",
      "        [ 0.0011,  0.0098]])\n",
      "likelihood: -16.475488662719727\n",
      "tensor([[-0.0027, -0.0256],\n",
      "        [-0.0639,  0.0338],\n",
      "        [-0.0486,  0.0225],\n",
      "        [ 0.0031,  0.0206]])\n",
      "likelihood: -16.49247932434082\n",
      "tensor([[-0.0462, -0.0474],\n",
      "        [-0.0268,  0.0709],\n",
      "        [-0.0727,  0.0229],\n",
      "        [-0.0080,  0.0415]])\n",
      "likelihood: -16.506103515625\n",
      "tensor([[-0.0223, -0.0011],\n",
      "        [ 0.0981,  0.0002],\n",
      "        [ 0.0076, -0.0140],\n",
      "        [ 0.0234, -0.0226]])\n",
      "likelihood: -16.50996971130371\n",
      "tensor([[-0.0472, -0.0015],\n",
      "        [ 0.0703, -0.0460],\n",
      "        [ 0.0209, -0.0475],\n",
      "        [ 0.0174, -0.0051]])\n",
      "likelihood: -16.513347625732422\n",
      "tensor([[-0.0825,  0.0575],\n",
      "        [ 0.1864, -0.0687],\n",
      "        [-0.1058,  0.0720],\n",
      "        [ 0.0223, -0.0571]])\n",
      "likelihood: -16.49480628967285\n",
      "tensor([[ 0.0466, -0.0276],\n",
      "        [-0.0407,  0.0546],\n",
      "        [-0.0135, -0.0119],\n",
      "        [-0.0266,  0.0525]])\n",
      "likelihood: -16.496191024780273\n",
      "tensor([[-0.0217, -0.0068],\n",
      "        [ 0.0016, -0.0005],\n",
      "        [-0.0383, -0.0246],\n",
      "        [-0.0071,  0.0011]])\n",
      "likelihood: -16.428258895874023\n",
      "tensor([[-0.0825,  0.0304],\n",
      "        [ 0.1085,  0.0111],\n",
      "        [-0.0369,  0.0376],\n",
      "        [ 0.0390, -0.0424]])\n",
      "likelihood: -16.57375717163086\n",
      "tensor([[-0.0081,  0.0169],\n",
      "        [ 0.0389,  0.0023],\n",
      "        [ 0.0008, -0.0101],\n",
      "        [-0.0100,  0.0244]])\n",
      "likelihood: -16.51397705078125\n",
      "tensor([[-0.0929,  0.0349],\n",
      "        [ 0.1902, -0.1288],\n",
      "        [-0.0185, -0.0177],\n",
      "        [ 0.0211, -0.0666]])\n",
      "likelihood: -16.497310638427734\n",
      "tensor([[-0.0400,  0.0206],\n",
      "        [-0.0137, -0.0038],\n",
      "        [-0.0471,  0.0346],\n",
      "        [ 0.0075, -0.0013]])\n",
      "likelihood: -16.483219146728516\n",
      "tensor([[ 0.0576, -0.0045],\n",
      "        [-0.1881,  0.0797],\n",
      "        [ 0.0028,  0.0434],\n",
      "        [-0.0215,  0.0088]])\n",
      "likelihood: -16.545108795166016\n",
      "tensor([[ 0.0629, -0.0391],\n",
      "        [-0.1312,  0.0528],\n",
      "        [ 0.0367, -0.0160],\n",
      "        [-0.0439,  0.0275]])\n",
      "likelihood: -16.443159103393555\n",
      "tensor([[-0.0708,  0.0157],\n",
      "        [ 0.2062,  0.0048],\n",
      "        [-0.0871,  0.0751],\n",
      "        [ 0.0316, -0.0148]])\n",
      "likelihood: -16.511215209960938\n",
      "tensor([[-0.0605,  0.0156],\n",
      "        [ 0.0678, -0.0094],\n",
      "        [-0.0478,  0.0144],\n",
      "        [ 0.0131, -0.0221]])\n",
      "likelihood: -16.497085571289062\n",
      "tensor([[ 0.0800, -0.0408],\n",
      "        [-0.0961,  0.0647],\n",
      "        [ 0.0386, -0.0062],\n",
      "        [-0.0281,  0.0103]])\n",
      "likelihood: -16.509323120117188\n",
      "tensor([[ 0.0009, -0.0195],\n",
      "        [ 0.0218,  0.0361],\n",
      "        [-0.0307,  0.0462],\n",
      "        [-0.0014,  0.0526]])\n",
      "likelihood: -16.49871253967285\n",
      "tensor([[-0.0481,  0.0315],\n",
      "        [ 0.2066, -0.1169],\n",
      "        [ 0.1009, -0.0749],\n",
      "        [ 0.0202, -0.0043]])\n",
      "likelihood: -16.4998779296875\n",
      "tensor([[-0.0607,  0.0303],\n",
      "        [-0.0019, -0.0280],\n",
      "        [-0.0240,  0.0049],\n",
      "        [ 0.0263, -0.0435]])\n",
      "likelihood: -16.506141662597656\n",
      "tensor([[ 0.0548, -0.0353],\n",
      "        [-0.0868,  0.0694],\n",
      "        [ 0.0073,  0.0017],\n",
      "        [-0.0029,  0.0078]])\n",
      "likelihood: -16.41752052307129\n",
      "tensor([[-0.0089,  0.0132],\n",
      "        [-0.0209,  0.0366],\n",
      "        [-0.0836,  0.0840],\n",
      "        [-0.0019,  0.0194]])\n",
      "likelihood: -16.54493522644043\n",
      "tensor([[-0.0153,  0.0190],\n",
      "        [ 0.0279, -0.0532],\n",
      "        [-0.0537,  0.0154],\n",
      "        [-0.0010, -0.0093]])\n",
      "likelihood: -16.53915023803711\n",
      "tensor([[ 0.0060, -0.0007],\n",
      "        [ 0.0466, -0.0273],\n",
      "        [ 0.0168, -0.0539],\n",
      "        [-0.0008,  0.0152]])\n",
      "likelihood: -16.476367950439453\n",
      "tensor([[ 0.0132, -0.0137],\n",
      "        [-0.0046,  0.0414],\n",
      "        [-0.0423,  0.0198],\n",
      "        [-0.0177,  0.0168]])\n",
      "likelihood: -16.5398006439209\n",
      "tensor([[ 0.0275,  0.0035],\n",
      "        [-0.1384, -0.0009],\n",
      "        [ 0.0096,  0.0166],\n",
      "        [-0.0135, -0.0103]])\n",
      "likelihood: -16.5499210357666\n",
      "tensor([[ 0.0877, -0.0460],\n",
      "        [-0.1620,  0.0954],\n",
      "        [-0.0671,  0.0124],\n",
      "        [-0.0503,  0.0599]])\n",
      "likelihood: -16.44523048400879\n",
      "tensor([[-0.0933,  0.0575],\n",
      "        [ 0.1499, -0.1259],\n",
      "        [ 0.0203,  0.0116],\n",
      "        [ 0.0334, -0.0328]])\n",
      "likelihood: -16.493938446044922\n",
      "tensor([[ 0.0221, -0.0156],\n",
      "        [ 0.0416,  0.0515],\n",
      "        [ 0.0394,  0.0166],\n",
      "        [ 0.0089,  0.0052]])\n",
      "likelihood: -16.544906616210938\n",
      "tensor([[-0.0386,  0.0103],\n",
      "        [ 0.1765, -0.0560],\n",
      "        [ 0.0419, -0.0120],\n",
      "        [ 0.0040, -0.0105]])\n",
      "likelihood: -16.452041625976562\n",
      "tensor([[-0.0065, -0.0177],\n",
      "        [ 0.1151, -0.0051],\n",
      "        [ 0.0229, -0.0339],\n",
      "        [ 0.0013, -0.0052]])\n",
      "likelihood: -16.467863082885742\n",
      "tensor([[ 0.0404,  0.0057],\n",
      "        [-0.0353,  0.0073],\n",
      "        [ 0.0440, -0.0035],\n",
      "        [-0.0174,  0.0347]])\n",
      "likelihood: -16.51938247680664\n",
      "tensor([[-0.0138,  0.0117],\n",
      "        [ 0.0467, -0.0940],\n",
      "        [ 0.0411, -0.0185],\n",
      "        [ 0.0048, -0.0019]])\n",
      "likelihood: -16.52792739868164\n",
      "tensor([[ 0.0869, -0.0324],\n",
      "        [-0.0400,  0.0826],\n",
      "        [ 0.0290,  0.0144],\n",
      "        [-0.0391,  0.0203]])\n",
      "likelihood: -16.513164520263672\n",
      "tensor([[-0.0558,  0.0048],\n",
      "        [ 0.2497, -0.0761],\n",
      "        [ 0.0340, -0.0259],\n",
      "        [ 0.0134, -0.0071]])\n",
      "likelihood: -16.512216567993164\n",
      "tensor([[ 0.0325, -0.0083],\n",
      "        [-0.0637,  0.0597],\n",
      "        [-0.0247,  0.0054],\n",
      "        [-0.0036,  0.0404]])\n",
      "likelihood: -16.569040298461914\n",
      "tensor([[-0.0946,  0.0358],\n",
      "        [ 0.2371, -0.1186],\n",
      "        [ 0.0719, -0.0483],\n",
      "        [-0.0034, -0.0192]])\n",
      "likelihood: -16.51695442199707\n",
      "tensor([[ 0.0375, -0.0209],\n",
      "        [ 0.0159,  0.0022],\n",
      "        [ 0.0642, -0.0326],\n",
      "        [-0.0041,  0.0165]])\n",
      "likelihood: -16.49883460998535\n",
      "tensor([[-0.0224, -0.0133],\n",
      "        [-0.0784,  0.0291],\n",
      "        [-0.0726,  0.0527],\n",
      "        [-0.0044,  0.0252]])\n",
      "likelihood: -16.51917266845703\n",
      "tensor([[-0.0063,  0.0323],\n",
      "        [ 0.0427, -0.0867],\n",
      "        [ 0.0208, -0.0324],\n",
      "        [ 0.0142, -0.0083]])\n",
      "likelihood: -16.537307739257812\n",
      "tensor([[ 0.0317, -0.0221],\n",
      "        [-0.0102,  0.0536],\n",
      "        [ 0.0281, -0.0331],\n",
      "        [-0.0058, -0.0314]])\n",
      "likelihood: -16.51382064819336\n",
      "tensor([[ 0.0096,  0.0244],\n",
      "        [-0.0261, -0.1073],\n",
      "        [ 0.0382, -0.0662],\n",
      "        [ 0.0032, -0.0417]])\n",
      "likelihood: -16.507404327392578\n",
      "tensor([[-0.0112, -0.0127],\n",
      "        [ 0.0486, -0.0606],\n",
      "        [ 0.0332, -0.0506],\n",
      "        [-0.0094,  0.0085]])\n",
      "likelihood: -16.48830795288086\n",
      "tensor([[ 0.0134, -0.0097],\n",
      "        [-0.0549,  0.0385],\n",
      "        [-0.0365,  0.0367],\n",
      "        [ 0.0022,  0.0161]])\n",
      "likelihood: -16.50712013244629\n",
      "tensor([[ 0.0184, -0.0258],\n",
      "        [-0.0495,  0.0637],\n",
      "        [-0.0175, -0.0115],\n",
      "        [-0.0049,  0.0017]])\n",
      "likelihood: -16.42719268798828\n",
      "tensor([[-0.0148,  0.0158],\n",
      "        [ 0.0201, -0.0556],\n",
      "        [ 0.0465, -0.0272],\n",
      "        [ 0.0065, -0.0374]])\n",
      "likelihood: -16.499086380004883\n",
      "tensor([[-0.0262,  0.0079],\n",
      "        [ 0.0038, -0.0589],\n",
      "        [ 0.0323, -0.0164],\n",
      "        [-0.0045, -0.0044]])\n",
      "likelihood: -16.486820220947266\n",
      "tensor([[-0.0315,  0.0089],\n",
      "        [-0.0211, -0.0601],\n",
      "        [-0.0395,  0.0015],\n",
      "        [ 0.0091, -0.0072]])\n",
      "likelihood: -16.54717445373535\n",
      "tensor([[ 0.0069,  0.0255],\n",
      "        [-0.0129,  0.0108],\n",
      "        [ 0.0248,  0.0222],\n",
      "        [ 0.0059, -0.0337]])\n",
      "likelihood: -16.490686416625977\n",
      "tensor([[-0.0072,  0.0122],\n",
      "        [-0.0128, -0.0498],\n",
      "        [ 0.0165, -0.0271],\n",
      "        [-0.0006,  0.0174]])\n",
      "likelihood: -16.464445114135742\n",
      "tensor([[-0.0336,  0.0263],\n",
      "        [ 0.0160, -0.0292],\n",
      "        [-0.0671, -0.0112],\n",
      "        [ 0.0212, -0.0414]])\n",
      "likelihood: -16.484724044799805\n",
      "tensor([[-0.0871, -0.0249],\n",
      "        [-0.0294,  0.0028],\n",
      "        [-0.0113, -0.0017],\n",
      "        [ 0.0039, -0.0022]])\n",
      "likelihood: -16.43773078918457\n",
      "tensor([[-0.0305,  0.0086],\n",
      "        [-0.0309,  0.0071],\n",
      "        [-0.0589,  0.0428],\n",
      "        [ 0.0017, -0.0231]])\n",
      "likelihood: -16.43890953063965\n",
      "tensor([[-0.0432,  0.0248],\n",
      "        [ 0.2213, -0.0117],\n",
      "        [-0.0662,  0.0851],\n",
      "        [ 0.0184,  0.0161]])\n",
      "likelihood: -16.48563575744629\n",
      "tensor([[ 0.0705,  0.0107],\n",
      "        [-0.0969, -0.0346],\n",
      "        [-0.0017,  0.0093],\n",
      "        [ 0.0032, -0.0124]])\n",
      "likelihood: -16.514366149902344\n",
      "tensor([[-0.0615,  0.0217],\n",
      "        [ 0.0125, -0.0339],\n",
      "        [-0.0700,  0.0325],\n",
      "        [ 0.0200,  0.0072]])\n"
     ]
    }
   ],
   "source": [
    "likes, evs = trainer.train(model, dag_obj.Y, epochs=40_000, warmup_epochs=0)"
   ]
  },
  {
   "cell_type": "code",
   "execution_count": null,
   "metadata": {},
   "outputs": [],
   "source": []
  },
  {
   "cell_type": "code",
   "execution_count": 9,
   "metadata": {},
   "outputs": [
    {
     "data": {
      "text/plain": [
       "<matplotlib.collections.PathCollection at 0x164cb7d90>"
      ]
     },
     "execution_count": 9,
     "metadata": {},
     "output_type": "execute_result"
    },
    {
     "data": {
      "image/png": "[encoded data removed]",
      "text/plain": [
       "<Figure size 640x480 with 1 Axes>"
      ]
     },
     "metadata": {},
     "output_type": "display_data"
    }
   ],
   "source": [
    "plt.scatter(likes, evs)"
   ]
  },
  {
   "cell_type": "code",
   "execution_count": 28,
   "metadata": {},
   "outputs": [
    {
     "data": {
      "text/plain": [
       "[array(0.7863497, dtype=float32),\n",
       " array(0.796495, dtype=float32),\n",
       " array(0.7692375, dtype=float32),\n",
       " array(0.7782506, dtype=float32),\n",
       " array(0.7701007, dtype=float32),\n",
       " array(0.76716524, dtype=float32),\n",
       " array(0.7889908, dtype=float32),\n",
       " array(0.7760819, dtype=float32),\n",
       " array(0.79075193, dtype=float32),\n",
       " array(0.77667224, dtype=float32),\n",
       " array(0.7698476, dtype=float32),\n",
       " array(0.7816317, dtype=float32),\n",
       " array(0.77174646, dtype=float32),\n",
       " array(0.7761892, dtype=float32),\n",
       " array(0.7796535, dtype=float32),\n",
       " array(0.7727342, dtype=float32),\n",
       " array(0.7665958, dtype=float32),\n",
       " array(0.7700803, dtype=float32),\n",
       " array(0.7753497, dtype=float32),\n",
       " array(0.7756022, dtype=float32)]"
      ]
     },
     "execution_count": 28,
     "metadata": {},
     "output_type": "execute_result"
    }
   ],
   "source": [
    "evs[150:170]"
   ]
  },
  {
   "cell_type": "code",
   "execution_count": 29,
   "metadata": {},
   "outputs": [
    {
     "data": {
      "text/plain": [
       "[<matplotlib.lines.Line2D at 0x1677c5090>]"
      ]
     },
     "execution_count": 29,
     "metadata": {},
     "output_type": "execute_result"
    },
    {
     "data": {
      "image/png": "[encoded data removed]",
      "text/plain": [
       "<Figure size 640x480 with 1 Axes>"
      ]
     },
     "metadata": {},
     "output_type": "display_data"
    }
   ],
   "source": [
    "plt.plot(evs)"
   ]
  },
  {
   "cell_type": "code",
   "execution_count": 30,
   "metadata": {},
   "outputs": [
    {
     "data": {
      "text/plain": [
       "[<matplotlib.lines.Line2D at 0x167820690>]"
      ]
     },
     "execution_count": 30,
     "metadata": {},
     "output_type": "execute_result"
    },
    {
     "data": {
      "image/png": "[encoded data removed]",
      "text/plain": [
       "<Figure size 640x480 with 1 Axes>"
      ]
     },
     "metadata": {},
     "output_type": "display_data"
    }
   ],
   "source": [
    "plt.plot(likes)"
   ]
  },
  {
   "cell_type": "code",
   "execution_count": 31,
   "metadata": {},
   "outputs": [],
   "source": [
    "model_A = model.A.detach().numpy().copy()\n",
    "model_A[np.abs(model_A) < 0.05] = 0.0"
   ]
  },
  {
   "cell_type": "code",
   "execution_count": null,
   "metadata": {},
   "outputs": [],
   "source": []
  },
  {
   "cell_type": "code",
   "execution_count": 32,
   "metadata": {},
   "outputs": [
    {
     "data": {
      "text/plain": [
       "array([[ 0.       , -2.131637 ],\n",
       "       [ 0.       ,  0.       ],\n",
       "       [ 0.       ,  0.735044 ],\n",
       "       [-2.4556372, -0.2966361]], dtype=float32)"
      ]
     },
     "execution_count": 32,
     "metadata": {},
     "output_type": "execute_result"
    }
   ],
   "source": [
    "model_A"
   ]
  },
  {
   "cell_type": "code",
   "execution_count": 33,
   "metadata": {},
   "outputs": [
    {
     "data": {
      "text/plain": [
       "array([[ 0.        , -1.64586653],\n",
       "       [ 0.        ,  0.        ],\n",
       "       [ 0.33725204,  0.36911215],\n",
       "       [-0.32935118, -0.31846772]])"
      ]
     },
     "execution_count": 33,
     "metadata": {},
     "output_type": "execute_result"
    }
   ],
   "source": [
    "dag_obj.A"
   ]
  },
  {
   "cell_type": "code",
   "execution_count": 34,
   "metadata": {},
   "outputs": [
    {
     "data": {
      "text/plain": [
       "array([[ 0.46965847, -1.01305095],\n",
       "       [-0.18476539, -0.73341651],\n",
       "       [ 0.28201586, -0.46889178],\n",
       "       [-0.39782262, -1.47467134]])"
      ]
     },
     "execution_count": 34,
     "metadata": {},
     "output_type": "execute_result"
    }
   ],
   "source": [
    "A_init"
   ]
  },
  {
   "cell_type": "code",
   "execution_count": 35,
   "metadata": {},
   "outputs": [
    {
     "data": {
      "text/plain": [
       "<matplotlib.image.AxesImage at 0x1678d3e50>"
      ]
     },
     "execution_count": 35,
     "metadata": {},
     "output_type": "execute_result"
    },
    {
     "data": {
      "image/png": "[encoded data removed]",
      "text/plain": [
       "<Figure size 640x480 with 1 Axes>"
      ]
     },
     "metadata": {},
     "output_type": "display_data"
    }
   ],
   "source": [
    "plt.imshow(A_init)"
   ]
  },
  {
   "cell_type": "code",
   "execution_count": 36,
   "metadata": {},
   "outputs": [
    {
     "data": {
      "text/plain": [
       "<matplotlib.image.AxesImage at 0x1678d2490>"
      ]
     },
     "execution_count": 36,
     "metadata": {},
     "output_type": "execute_result"
    },
    {
     "data": {
      "image/png": "[encoded data removed]",
      "text/plain": [
       "<Figure size 640x480 with 1 Axes>"
      ]
     },
     "metadata": {},
     "output_type": "display_data"
    }
   ],
   "source": [
    "plt.imshow(dag_obj.A)"
   ]
  },
  {
   "cell_type": "code",
   "execution_count": 37,
   "metadata": {},
   "outputs": [
    {
     "data": {
      "text/plain": [
       "<matplotlib.image.AxesImage at 0x1679aea90>"
      ]
     },
     "execution_count": 37,
     "metadata": {},
     "output_type": "execute_result"
    },
    {
     "data": {
      "image/png": "[encoded data removed]",
      "text/plain": [
       "<Figure size 640x480 with 1 Axes>"
      ]
     },
     "metadata": {},
     "output_type": "display_data"
    }
   ],
   "source": [
    "plt.imshow(model_A)"
   ]
  },
  {
   "cell_type": "code",
   "execution_count": 187,
   "metadata": {},
   "outputs": [
    {
     "data": {
      "text/plain": [
       "2.1476240866594045e+17"
      ]
     },
     "execution_count": 187,
     "metadata": {},
     "output_type": "execute_result"
    }
   ],
   "source": [
    "np.linalg.cond(pinv(A_init.T) @ pinv(A_init))"
   ]
  },
  {
   "cell_type": "code",
   "execution_count": 243,
   "metadata": {},
   "outputs": [
    {
     "data": {
      "text/plain": [
       "(array([[ 1.00000000e+00,  1.64586653e+00],\n",
       "        [ 8.32667268e-17,  1.00000000e+00],\n",
       "        [-3.37252042e-01, -3.69112145e-01],\n",
       "        [ 3.29351178e-01,  3.18467719e-01]]),\n",
       " array([8.00571311e-28, 4.50588594e-27]),\n",
       " 4,\n",
       " array([78.747085  , 38.96310177, 36.95819186, 18.10174118]))"
      ]
     },
     "execution_count": 243,
     "metadata": {},
     "output_type": "execute_result"
    }
   ],
   "source": [
    "np.linalg.lstsq(dag_obj.Y, dag_obj.Z[:, :2], rcond=-1)"
   ]
  },
  {
   "cell_type": "code",
   "execution_count": 241,
   "metadata": {},
   "outputs": [
    {
     "data": {
      "text/plain": [
       "array([[ 1.02435953, -1.66111786,  0.0299188 , -0.04332565],\n",
       "       [ 0.01174301,  0.99156647, -0.01072131, -0.04663349]])"
      ]
     },
     "execution_count": 241,
     "metadata": {},
     "output_type": "execute_result"
    }
   ],
   "source": [
    "lst = np.linalg.lstsq(dag_obj.Z[:, :2], dag_obj.Y, rcond=-1)\n",
    "est = lst[0]\n",
    "est"
   ]
  },
  {
   "cell_type": "code",
   "execution_count": 242,
   "metadata": {},
   "outputs": [
    {
     "data": {
      "text/plain": [
       "(array([[ 1.02435953, -1.66111786,  0.0299188 , -0.04332565],\n",
       "        [ 0.01174301,  0.99156647, -0.01072131, -0.04663349]]),\n",
       " array([ 316.0252667 ,  119.7275427 , 1423.25888913, 1363.6590635 ]),\n",
       " 2,\n",
       " array([42.21216658, 34.91198026]))"
      ]
     },
     "execution_count": 242,
     "metadata": {},
     "output_type": "execute_result"
    }
   ],
   "source": [
    "lst"
   ]
  },
  {
   "cell_type": "code",
   "execution_count": 257,
   "metadata": {},
   "outputs": [
    {
     "data": {
      "text/plain": [
       "array([[ 0.65811567, -1.43477628, -0.48876143,  0.53756767],\n",
       "       [ 0.10433006,  0.93513435,  0.13871178, -0.17473515]])"
      ]
     },
     "execution_count": 257,
     "metadata": {},
     "output_type": "execute_result"
    }
   ],
   "source": [
    "B"
   ]
  },
  {
   "cell_type": "code",
   "execution_count": 261,
   "metadata": {},
   "outputs": [
    {
     "data": {
      "text/plain": [
       "array([[ 0.82982902,  0.10433006, -0.26046035,  0.24997693],\n",
       "       [ 0.10433006,  0.93513435,  0.13871178, -0.17473515],\n",
       "       [-0.26046035,  0.13871178,  0.11363559, -0.11679893],\n",
       "       [ 0.24997693, -0.17473515, -0.11679893,  0.12140104]])"
      ]
     },
     "execution_count": 261,
     "metadata": {},
     "output_type": "execute_result"
    }
   ],
   "source": [
    "(Binv @ Binv.T @ Binv) @ np.linalg.pinv(Binv @ Binv.T @ Binv) "
   ]
  },
  {
   "cell_type": "code",
   "execution_count": 255,
   "metadata": {},
   "outputs": [
    {
     "ename": "TypeError",
     "evalue": "Concatenation operation is not implemented for NumPy arrays, use np.concatenate() instead. Please do not rely on this error; it may not be given on all Python implementations.",
     "output_type": "error",
     "traceback": [
      "\u001b[0;31m---------------------------------------------------------------------------\u001b[0m",
      "\u001b[0;31mTypeError\u001b[0m                                 Traceback (most recent call last)",
      "Cell \u001b[0;32mIn[255], line 1\u001b[0m\n\u001b[0;32m----> 1\u001b[0m (Z \u001b[38;5;241m@\u001b[39m Binv\u001b[38;5;241m.\u001b[39mT \u001b[38;5;241m+\u001b[39m model\u001b[38;5;241m.\u001b[39mU) \u001b[38;5;241m@\u001b[39m np\u001b[38;5;241m.\u001b[39mlinalg\u001b[38;5;241m.\u001b[39minv(Binv \u001b[38;5;241m@\u001b[39m B \u001b[38;5;241m+\u001b[39m np\u001b[38;5;241m.\u001b[39meye(\u001b[38;5;241m4\u001b[39m))\n",
      "\u001b[0;31mTypeError\u001b[0m: Concatenation operation is not implemented for NumPy arrays, use np.concatenate() instead. Please do not rely on this error; it may not be given on all Python implementations."
     ]
    }
   ],
   "source": [
    "(Z @ Binv.T + model.U) @ np.linalg.inv(Binv @ B + np.eye(4)) "
   ]
  },
  {
   "cell_type": "code",
   "execution_count": 253,
   "metadata": {},
   "outputs": [
    {
     "data": {
      "text/plain": [
       "2.0"
      ]
     },
     "execution_count": 253,
     "metadata": {},
     "output_type": "execute_result"
    }
   ],
   "source": [
    "Binv @ B + np.eye(4)"
   ]
  },
  {
   "cell_type": "code",
   "execution_count": 240,
   "metadata": {},
   "outputs": [
    {
     "data": {
      "text/plain": [
       "array([[ 0.44400099, -0.84668612, -0.30718974,  0.33555157],\n",
       "       [-0.84668612,  2.93305923,  0.83097745, -0.93469018],\n",
       "       [-0.30718974,  0.83097745,  0.25812869, -0.28698016],\n",
       "       [ 0.33555157, -0.93469018, -0.28698016,  0.31951137]])"
      ]
     },
     "execution_count": 240,
     "metadata": {},
     "output_type": "execute_result"
    }
   ],
   "source": [
    "B.T @ B"
   ]
  },
  {
   "cell_type": "code",
   "execution_count": 223,
   "metadata": {},
   "outputs": [
    {
     "data": {
      "text/plain": [
       "array([[-0.3648418 ,  1.63988803, -0.02213249, -0.03242432],\n",
       "       [-0.07190704,  0.3823325 , -0.00500943, -0.00908976],\n",
       "       [-0.72108878,  1.46740663, -0.02432447,  0.01689073],\n",
       "       ...,\n",
       "       [ 1.76619829, -2.74987999,  0.05033548, -0.07991621],\n",
       "       [ 1.19831175, -1.24088798,  0.02731045, -0.08274538],\n",
       "       [ 0.5454013 , -2.3098008 ,  0.03153485,  0.04200371]])"
      ]
     },
     "execution_count": 223,
     "metadata": {},
     "output_type": "execute_result"
    }
   ],
   "source": [
    "dag_obj.Z[:, :2] @ est"
   ]
  },
  {
   "cell_type": "code",
   "execution_count": 194,
   "metadata": {},
   "outputs": [
    {
     "data": {
      "text/plain": [
       "array([[-0.92576794,  1.96060373, -1.41973959,  0.23956586],\n",
       "       [ 0.05869093,  0.31980132,  0.6026762 ,  0.21664268],\n",
       "       [-0.80784564,  1.54112596,  0.32026834,  0.63316752],\n",
       "       ...,\n",
       "       [ 1.33758703, -2.51862524, -1.33868745, -0.20087997],\n",
       "       [ 0.93612462, -1.11533805, -1.19237113, -0.53561449],\n",
       "       [ 0.93849423, -2.65006684, -1.67504012, -2.89904794]])"
      ]
     },
     "execution_count": 194,
     "metadata": {},
     "output_type": "execute_result"
    }
   ],
   "source": [
    "dag_obj.Y"
   ]
  },
  {
   "cell_type": "code",
   "execution_count": 180,
   "metadata": {},
   "outputs": [
    {
     "data": {
      "text/plain": [
       "array([[ 1.00000000e+00, -1.23772520e-15, -5.95877514e-16,\n",
       "        -1.84227633e-15],\n",
       "       [ 1.01481323e-16,  1.00000000e+00, -4.85722573e-17,\n",
       "        -7.33788030e-16],\n",
       "       [ 5.20417043e-17, -2.08166817e-17,  1.00000000e+00,\n",
       "        -3.46944695e-17],\n",
       "       [ 7.63278329e-17,  3.46944695e-17, -2.45029691e-16,\n",
       "         1.00000000e+00]])"
      ]
     },
     "execution_count": 180,
     "metadata": {},
     "output_type": "execute_result"
    }
   ],
   "source": [
    "pinv(dag_obj.Y) @ (dag_obj.Y)"
   ]
  },
  {
   "cell_type": "code",
   "execution_count": null,
   "metadata": {},
   "outputs": [],
   "source": []
  },
  {
   "cell_type": "code",
   "execution_count": 101,
   "metadata": {},
   "outputs": [
    {
     "data": {
      "text/plain": [
       "array([[ 0.65811567, -1.43477628, -0.48876143,  0.53756767],\n",
       "       [ 0.10433006,  0.93513435,  0.13871178, -0.17473515]])"
      ]
     },
     "execution_count": 101,
     "metadata": {},
     "output_type": "execute_result"
    }
   ],
   "source": [
    "Binv = (model.U - dag_obj.A).detach().numpy()\n",
    "B = np.linalg.pinv(Binv)\n",
    "B"
   ]
  },
  {
   "cell_type": "code",
   "execution_count": 102,
   "metadata": {},
   "outputs": [],
   "source": [
    "Bt = np.linalg.pinv(Binv.T)"
   ]
  },
  {
   "cell_type": "code",
   "execution_count": 103,
   "metadata": {},
   "outputs": [
    {
     "data": {
      "text/plain": [
       "array([[ 1.00000000e+00, -2.54763330e-16],\n",
       "       [ 1.16489034e-16,  1.00000000e+00]])"
      ]
     },
     "execution_count": 103,
     "metadata": {},
     "output_type": "execute_result"
    }
   ],
   "source": [
    "Binv.T @ Bt"
   ]
  },
  {
   "cell_type": "code",
   "execution_count": 104,
   "metadata": {},
   "outputs": [
    {
     "data": {
      "text/plain": [
       "array([[ 1.00000000e+00, -2.61114124e-17],\n",
       "       [-2.08976430e-16,  1.00000000e+00]])"
      ]
     },
     "execution_count": 104,
     "metadata": {},
     "output_type": "execute_result"
    }
   ],
   "source": [
    "Binv.T @ B.T"
   ]
  },
  {
   "cell_type": "code",
   "execution_count": 105,
   "metadata": {},
   "outputs": [
    {
     "data": {
      "text/plain": [
       "1.6458665345720358"
      ]
     },
     "execution_count": 105,
     "metadata": {},
     "output_type": "execute_result"
    }
   ],
   "source": [
    "Binv[0, :] @ Binv[1, :]"
   ]
  },
  {
   "cell_type": "code",
   "execution_count": 106,
   "metadata": {},
   "outputs": [
    {
     "data": {
      "text/plain": [
       "array([[ 3.01956593, -1.43477628],\n",
       "       [-1.43477628,  0.93513435]])"
      ]
     },
     "execution_count": 106,
     "metadata": {},
     "output_type": "execute_result"
    }
   ],
   "source": [
    "B @ B.T"
   ]
  },
  {
   "cell_type": "code",
   "execution_count": 107,
   "metadata": {},
   "outputs": [
    {
     "data": {
      "text/plain": [
       "array([[ 1.00000000e+00, -2.08976430e-16],\n",
       "       [-2.61114124e-17,  1.00000000e+00]])"
      ]
     },
     "execution_count": 107,
     "metadata": {},
     "output_type": "execute_result"
    }
   ],
   "source": [
    "B @ Binv"
   ]
  },
  {
   "cell_type": "code",
   "execution_count": 108,
   "metadata": {},
   "outputs": [
    {
     "ename": "ValueError",
     "evalue": "matmul: Input operand 1 has a mismatch in its core dimension 0, with gufunc signature (n?,k),(k,m?)->(n?,m?) (size 4 is different from 2)",
     "output_type": "error",
     "traceback": [
      "\u001b[0;31m---------------------------------------------------------------------------\u001b[0m",
      "\u001b[0;31mValueError\u001b[0m                                Traceback (most recent call last)",
      "Cell \u001b[0;32mIn[108], line 1\u001b[0m\n\u001b[0;32m----> 1\u001b[0m B \u001b[38;5;241m@\u001b[39m B\u001b[38;5;241m.\u001b[39mT \u001b[38;5;241m@\u001b[39m Binv\n",
      "\u001b[0;31mValueError\u001b[0m: matmul: Input operand 1 has a mismatch in its core dimension 0, with gufunc signature (n?,k),(k,m?)->(n?,m?) (size 4 is different from 2)"
     ]
    }
   ],
   "source": [
    "B @ B.T @ Binv"
   ]
  },
  {
   "cell_type": "code",
   "execution_count": 109,
   "metadata": {},
   "outputs": [
    {
     "data": {
      "text/plain": [
       "array([[ 3.01956593, -1.43477628],\n",
       "       [-1.43477628,  0.93513435]])"
      ]
     },
     "execution_count": 109,
     "metadata": {},
     "output_type": "execute_result"
    }
   ],
   "source": [
    "B @ B.T"
   ]
  },
  {
   "cell_type": "code",
   "execution_count": 110,
   "metadata": {},
   "outputs": [
    {
     "data": {
      "text/plain": [
       "array([[ 1.00000000e+00, -2.54763330e-16],\n",
       "       [ 1.16489034e-16,  1.00000000e+00]])"
      ]
     },
     "execution_count": 110,
     "metadata": {},
     "output_type": "execute_result"
    }
   ],
   "source": [
    "Binv.T @ np.linalg.pinv(Binv.T)"
   ]
  },
  {
   "cell_type": "code",
   "execution_count": 111,
   "metadata": {},
   "outputs": [
    {
     "data": {
      "text/plain": [
       "array([[ 0.82982902,  0.10433006, -0.26046035,  0.24997693],\n",
       "       [ 0.10433006,  0.93513435,  0.13871178, -0.17473515],\n",
       "       [-0.26046035,  0.13871178,  0.11363559, -0.11679893],\n",
       "       [ 0.24997693, -0.17473515, -0.11679893,  0.12140104]])"
      ]
     },
     "execution_count": 111,
     "metadata": {},
     "output_type": "execute_result"
    }
   ],
   "source": [
    "Binv @ B"
   ]
  },
  {
   "cell_type": "code",
   "execution_count": 112,
   "metadata": {},
   "outputs": [
    {
     "data": {
      "text/plain": [
       "array([[ 0.82982902,  0.10433006, -0.26046035,  0.24997693],\n",
       "       [ 0.10433006,  0.93513435,  0.13871178, -0.17473515],\n",
       "       [-0.26046035,  0.13871178,  0.11363559, -0.11679893],\n",
       "       [ 0.24997693, -0.17473515, -0.11679893,  0.12140104]])"
      ]
     },
     "execution_count": 112,
     "metadata": {},
     "output_type": "execute_result"
    }
   ],
   "source": [
    "B.T @ Binv.T"
   ]
  },
  {
   "cell_type": "code",
   "execution_count": 113,
   "metadata": {},
   "outputs": [
    {
     "data": {
      "text/plain": [
       "array([[ 0.82982902,  0.10433006, -0.26046035,  0.24997693],\n",
       "       [ 0.10433006,  0.93513435,  0.13871178, -0.17473515],\n",
       "       [-0.26046035,  0.13871178,  0.11363559, -0.11679893],\n",
       "       [ 0.24997693, -0.17473515, -0.11679893,  0.12140104]])"
      ]
     },
     "execution_count": 113,
     "metadata": {},
     "output_type": "execute_result"
    }
   ],
   "source": [
    "Binv @ B"
   ]
  },
  {
   "cell_type": "code",
   "execution_count": 114,
   "metadata": {},
   "outputs": [],
   "source": [
    "pinv = np.linalg.pinv"
   ]
  },
  {
   "cell_type": "code",
   "execution_count": 169,
   "metadata": {},
   "outputs": [
    {
     "data": {
      "text/plain": [
       "1.5058031270210723e+17"
      ]
     },
     "execution_count": 169,
     "metadata": {},
     "output_type": "execute_result"
    }
   ],
   "source": [
    "np.linalg.cond(B.T @ B)"
   ]
  },
  {
   "cell_type": "code",
   "execution_count": 173,
   "metadata": {},
   "outputs": [
    {
     "data": {
      "text/plain": [
       "7.68568672305837e+17"
      ]
     },
     "execution_count": 173,
     "metadata": {},
     "output_type": "execute_result"
    }
   ],
   "source": [
    "np.linalg.cond(Binv @ Binv.T)"
   ]
  },
  {
   "cell_type": "code",
   "execution_count": 171,
   "metadata": {},
   "outputs": [
    {
     "data": {
      "text/plain": [
       "4.757246005749757e+16"
      ]
     },
     "execution_count": 171,
     "metadata": {},
     "output_type": "execute_result"
    }
   ],
   "source": [
    "np.linalg.cond(B.T @ Binv.T)"
   ]
  },
  {
   "cell_type": "code",
   "execution_count": 182,
   "metadata": {},
   "outputs": [
    {
     "data": {
      "text/plain": [
       "1.5058031270210723e+17"
      ]
     },
     "execution_count": 182,
     "metadata": {},
     "output_type": "execute_result"
    }
   ],
   "source": [
    "np.linalg.cond(B.T @ B)"
   ]
  },
  {
   "cell_type": "code",
   "execution_count": 183,
   "metadata": {},
   "outputs": [
    {
     "data": {
      "text/plain": [
       "7.68568672305837e+17"
      ]
     },
     "execution_count": 183,
     "metadata": {},
     "output_type": "execute_result"
    }
   ],
   "source": [
    "np.linalg.cond(Binv @ Binv.T)"
   ]
  },
  {
   "cell_type": "code",
   "execution_count": 184,
   "metadata": {},
   "outputs": [
    {
     "data": {
      "text/plain": [
       "8.910816465645408e+16"
      ]
     },
     "execution_count": 184,
     "metadata": {},
     "output_type": "execute_result"
    }
   ],
   "source": [
    "np.linalg.cond(Binv @ B)"
   ]
  },
  {
   "cell_type": "code",
   "execution_count": 176,
   "metadata": {},
   "outputs": [
    {
     "data": {
      "text/plain": [
       "5.7250463082025656e+16"
      ]
     },
     "execution_count": 176,
     "metadata": {},
     "output_type": "execute_result"
    }
   ],
   "source": [
    "np.linalg.cond(pinv(A_init).T @ pinv(A_init))"
   ]
  },
  {
   "cell_type": "code",
   "execution_count": 167,
   "metadata": {},
   "outputs": [
    {
     "data": {
      "text/plain": [
       "1.0000000000000004"
      ]
     },
     "execution_count": 167,
     "metadata": {},
     "output_type": "execute_result"
    }
   ],
   "source": [
    "np.linalg.cond(B @ Binv)"
   ]
  },
  {
   "cell_type": "code",
   "execution_count": 168,
   "metadata": {},
   "outputs": [
    {
     "data": {
      "text/plain": [
       "8.910816465645408e+16"
      ]
     },
     "execution_count": 168,
     "metadata": {},
     "output_type": "execute_result"
    }
   ],
   "source": [
    "np.linalg.cond(Binv @ B)"
   ]
  },
  {
   "cell_type": "code",
   "execution_count": 165,
   "metadata": {},
   "outputs": [
    {
     "data": {
      "text/plain": [
       "18.386482161106727"
      ]
     },
     "execution_count": 165,
     "metadata": {},
     "output_type": "execute_result"
    }
   ],
   "source": [
    "np.linalg.cond(Binv.T @ Binv)"
   ]
  },
  {
   "cell_type": "code",
   "execution_count": 181,
   "metadata": {},
   "outputs": [
    {
     "data": {
      "text/plain": [
       "1.0000000000000004"
      ]
     },
     "execution_count": 181,
     "metadata": {},
     "output_type": "execute_result"
    }
   ],
   "source": [
    "np.linalg.cond(Binv.T @ B.T)"
   ]
  },
  {
   "cell_type": "code",
   "execution_count": 177,
   "metadata": {},
   "outputs": [
    {
     "data": {
      "text/plain": [
       "array([[1.22221114, 1.87523808],\n",
       "       [1.87523808, 3.94654211]])"
      ]
     },
     "execution_count": 177,
     "metadata": {},
     "output_type": "execute_result"
    }
   ],
   "source": [
    "Binv.T @ Binv"
   ]
  },
  {
   "cell_type": "code",
   "execution_count": 170,
   "metadata": {},
   "outputs": [
    {
     "data": {
      "text/plain": [
       "array([[ 3.01956593, -1.43477628],\n",
       "       [-1.43477628,  0.93513435]])"
      ]
     },
     "execution_count": 170,
     "metadata": {},
     "output_type": "execute_result"
    }
   ],
   "source": [
    "B @ B.T"
   ]
  },
  {
   "cell_type": "code",
   "execution_count": 172,
   "metadata": {},
   "outputs": [
    {
     "data": {
      "text/plain": [
       "1.0000000000000004"
      ]
     },
     "execution_count": 172,
     "metadata": {},
     "output_type": "execute_result"
    }
   ],
   "source": [
    "np.linalg.cond(Binv.T @ B.T)"
   ]
  },
  {
   "cell_type": "code",
   "execution_count": 161,
   "metadata": {},
   "outputs": [
    {
     "data": {
      "text/plain": [
       "18.386482161106755"
      ]
     },
     "execution_count": 161,
     "metadata": {},
     "output_type": "execute_result"
    }
   ],
   "source": [
    "np.linalg.cond(B @ B.T)"
   ]
  },
  {
   "cell_type": "code",
   "execution_count": 115,
   "metadata": {},
   "outputs": [
    {
     "data": {
      "text/plain": [
       "array([[ 0.7679515 ,  0.0208411 ,  0.42135564,  0.01506882],\n",
       "       [ 0.0208411 ,  0.19059966, -0.0119702 ,  0.392038  ],\n",
       "       [ 0.42135564, -0.0119702 ,  0.23406987, -0.03996636],\n",
       "       [ 0.01506882,  0.392038  , -0.03996636,  0.80737896]])"
      ]
     },
     "execution_count": 115,
     "metadata": {},
     "output_type": "execute_result"
    }
   ],
   "source": [
    "A_init @ pinv(A_init)"
   ]
  },
  {
   "cell_type": "code",
   "execution_count": null,
   "metadata": {},
   "outputs": [],
   "source": []
  },
  {
   "cell_type": "code",
   "execution_count": 116,
   "metadata": {},
   "outputs": [],
   "source": [
    "Binv[: 0] = 0"
   ]
  },
  {
   "cell_type": "code",
   "execution_count": 163,
   "metadata": {},
   "outputs": [
    {
     "data": {
      "text/plain": [
       "array([[ 1.00000000e+00, -2.16647474e-17],\n",
       "       [ 7.35130313e-18,  1.00000000e+00]])"
      ]
     },
     "execution_count": 163,
     "metadata": {},
     "output_type": "execute_result"
    }
   ],
   "source": [
    "np.linalg.inv(B @ B.T) @  (B @ B.T)"
   ]
  },
  {
   "cell_type": "code",
   "execution_count": 145,
   "metadata": {},
   "outputs": [
    {
     "data": {
      "text/plain": [
       "array([[ 0.82982902,  0.10433006, -0.26046035,  0.24997693],\n",
       "       [ 0.10433006,  0.93513435,  0.13871178, -0.17473515],\n",
       "       [-0.26046035,  0.13871178,  0.11363559, -0.11679893],\n",
       "       [ 0.24997693, -0.17473515, -0.11679893,  0.12140104]])"
      ]
     },
     "execution_count": 145,
     "metadata": {},
     "output_type": "execute_result"
    }
   ],
   "source": [
    "Binv @ B "
   ]
  },
  {
   "cell_type": "code",
   "execution_count": 146,
   "metadata": {},
   "outputs": [
    {
     "data": {
      "text/plain": [
       "array([[ 0.82982902,  0.10433006, -0.26046035,  0.24997693],\n",
       "       [ 0.10433006,  0.93513435,  0.13871178, -0.17473515],\n",
       "       [-0.26046035,  0.13871178,  0.11363559, -0.11679893],\n",
       "       [ 0.24997693, -0.17473515, -0.11679893,  0.12140104]])"
      ]
     },
     "execution_count": 146,
     "metadata": {},
     "output_type": "execute_result"
    }
   ],
   "source": [
    "B.T @ Binv.T"
   ]
  },
  {
   "cell_type": "code",
   "execution_count": 130,
   "metadata": {},
   "outputs": [
    {
     "data": {
      "text/plain": [
       "array([[ 3.09599030e+16, -1.81892408e+16,  6.58021679e+16,\n",
       "        -2.66220012e+16],\n",
       "       [-1.96476870e+16,  1.15855374e+16, -4.07748230e+16,\n",
       "         1.79027587e+16],\n",
       "       [ 3.18884804e+16, -1.77504243e+16,  9.06654947e+16,\n",
       "        -3.98163787e+15],\n",
       "       [-6.13492502e+16,  3.70512535e+16, -1.06952842e+17,\n",
       "         7.67545020e+16]])"
      ]
     },
     "execution_count": 130,
     "metadata": {},
     "output_type": "execute_result"
    }
   ],
   "source": [
    "np.linalg.inv(B.T @ Binv.T)"
   ]
  },
  {
   "cell_type": "code",
   "execution_count": 120,
   "metadata": {},
   "outputs": [
    {
     "data": {
      "text/plain": [
       "array([[ 0.82982902,  0.10433006, -0.26046035,  0.24997693],\n",
       "       [ 0.10433006,  0.93513435,  0.13871178, -0.17473515],\n",
       "       [-0.26046035,  0.13871178,  0.11363559, -0.11679893],\n",
       "       [ 0.24997693, -0.17473515, -0.11679893,  0.12140104]])"
      ]
     },
     "execution_count": 120,
     "metadata": {},
     "output_type": "execute_result"
    }
   ],
   "source": [
    "Binv @ B"
   ]
  },
  {
   "cell_type": "code",
   "execution_count": 59,
   "metadata": {},
   "outputs": [
    {
     "data": {
      "text/plain": [
       "array([[ 0.82982902,  0.10433006, -0.26046035,  0.24997693],\n",
       "       [ 0.10433006,  0.93513435,  0.13871178, -0.17473515],\n",
       "       [-0.26046035,  0.13871178,  0.11363559, -0.11679893],\n",
       "       [ 0.24997693, -0.17473515, -0.11679893,  0.12140104]])"
      ]
     },
     "execution_count": 59,
     "metadata": {},
     "output_type": "execute_result"
    }
   ],
   "source": [
    "B.T @ Binv.T"
   ]
  },
  {
   "cell_type": "code",
   "execution_count": 63,
   "metadata": {},
   "outputs": [
    {
     "data": {
      "text/plain": [
       "array([[ 3.70887665,  1.64586653, -0.94476137,  0.85350654],\n",
       "       [ 1.64586653,  1.        , -0.36911215,  0.31846772],\n",
       "       [-0.94476137, -0.36911215,  0.24998272, -0.22862466],\n",
       "       [ 0.85350654,  0.31846772, -0.22862466,  0.20989389]])"
      ]
     },
     "execution_count": 63,
     "metadata": {},
     "output_type": "execute_result"
    }
   ],
   "source": [
    "Binv @ Binv.T"
   ]
  },
  {
   "cell_type": "code",
   "execution_count": 65,
   "metadata": {},
   "outputs": [
    {
     "data": {
      "text/plain": [
       "array([[ 1.0000000e+00, -2.0897643e-16],\n",
       "       [ 2.0897643e-16,  1.0000000e+00]])"
      ]
     },
     "execution_count": 65,
     "metadata": {},
     "output_type": "execute_result"
    }
   ],
   "source": [
    "np.linalg.pinv(Binv.T @ B.T)"
   ]
  },
  {
   "cell_type": "code",
   "execution_count": 39,
   "metadata": {},
   "outputs": [],
   "source": [
    "Z = dag_obj.Z[:, :2]"
   ]
  },
  {
   "cell_type": "code",
   "execution_count": 40,
   "metadata": {},
   "outputs": [
    {
     "data": {
      "text/plain": [
       "array([[-0.36805656,  1.03725038],\n",
       "       [-0.07321132,  0.26293736],\n",
       "       [-0.70732233,  0.29494834],\n",
       "       ...,\n",
       "       [ 1.72290205,  0.1130165 ],\n",
       "       [ 1.16184895,  0.69494088],\n",
       "       [ 0.54860008, -1.41040613]])"
      ]
     },
     "execution_count": 40,
     "metadata": {},
     "output_type": "execute_result"
    }
   ],
   "source": [
    "Z"
   ]
  },
  {
   "cell_type": "code",
   "execution_count": 41,
   "metadata": {},
   "outputs": [
    {
     "data": {
      "text/plain": [
       "array([[-0.92576794,  1.96060373, -1.41973959,  0.23956586],\n",
       "       [ 0.05869093,  0.31980132,  0.6026762 ,  0.21664268],\n",
       "       [-0.80784564,  1.54112596,  0.32026834,  0.63316752],\n",
       "       ...,\n",
       "       [ 1.33758703, -2.51862524, -1.33868745, -0.20087997],\n",
       "       [ 0.93612462, -1.11533805, -1.19237113, -0.53561449],\n",
       "       [ 0.93849423, -2.65006684, -1.67504012, -2.89904794]])"
      ]
     },
     "execution_count": 41,
     "metadata": {},
     "output_type": "execute_result"
    }
   ],
   "source": [
    "dag_obj.Y"
   ]
  },
  {
   "cell_type": "code",
   "execution_count": 42,
   "metadata": {},
   "outputs": [
    {
     "data": {
      "text/plain": [
       "array([[-0.1340074 ,  1.4980473 ,  0.3237707 , -0.37909941],\n",
       "       [-0.02074925,  0.35092363,  0.07225538, -0.08530044],\n",
       "       [-0.43472793,  1.29066562,  0.38662468, -0.43177146],\n",
       "       ...,\n",
       "       [ 1.14565985, -2.36629338, -0.82641134,  0.90642848],\n",
       "       [ 0.83713422, -1.01713023, -0.47147046,  0.50314183],\n",
       "       [ 0.21389455, -2.1060376 , -0.4637745 ,  0.54135719]])"
      ]
     },
     "execution_count": 42,
     "metadata": {},
     "output_type": "execute_result"
    }
   ],
   "source": [
    "Z @ B"
   ]
  },
  {
   "cell_type": "code",
   "execution_count": 43,
   "metadata": {},
   "outputs": [
    {
     "data": {
      "text/plain": [
       "array([[6.26884757e-01, 2.13958459e-01, 3.03982815e+00, 3.82746715e-01],\n",
       "       [6.31074259e-03, 9.68598026e-04, 2.81346250e-01, 9.11696500e-02],\n",
       "       [1.39216830e-01, 6.27303849e-02, 4.40316377e-03, 1.13409501e+00],\n",
       "       ...,\n",
       "       [3.68360425e-02, 2.32049952e-02, 2.62426810e-01, 1.22613201e+00],\n",
       "       [9.79909844e-03, 9.64477503e-03, 5.19697773e-01, 1.07901469e+00],\n",
       "       [5.25044697e-01, 2.95967815e-01, 1.46716440e+00, 1.18363875e+01]])"
      ]
     },
     "execution_count": 43,
     "metadata": {},
     "output_type": "execute_result"
    }
   ],
   "source": [
    "(dag_obj.Y - (Z @ B))**2"
   ]
  },
  {
   "cell_type": "code",
   "execution_count": 46,
   "metadata": {},
   "outputs": [
    {
     "data": {
      "text/plain": [
       "array([[-0.92576794,  1.96060373],\n",
       "       [ 0.05869093,  0.31980132],\n",
       "       [-0.80784564,  1.54112596],\n",
       "       ...,\n",
       "       [ 1.33758703, -2.51862524],\n",
       "       [ 0.93612462, -1.11533805],\n",
       "       [ 0.93849423, -2.65006684]])"
      ]
     },
     "execution_count": 46,
     "metadata": {},
     "output_type": "execute_result"
    }
   ],
   "source": [
    "dag_obj.Y @ dag_obj.A + Z"
   ]
  },
  {
   "cell_type": "code",
   "execution_count": 47,
   "metadata": {},
   "outputs": [
    {
     "data": {
      "text/plain": [
       "array([[-0.92576794,  1.96060373],\n",
       "       [ 0.05869093,  0.31980132],\n",
       "       [-0.80784564,  1.54112596],\n",
       "       ...,\n",
       "       [ 1.33758703, -2.51862524],\n",
       "       [ 0.93612462, -1.11533805],\n",
       "       [ 0.93849423, -2.65006684]])"
      ]
     },
     "execution_count": 47,
     "metadata": {},
     "output_type": "execute_result"
    }
   ],
   "source": [
    "dag_obj.X"
   ]
  },
  {
   "cell_type": "code",
   "execution_count": null,
   "metadata": {},
   "outputs": [],
   "source": []
  },
  {
   "cell_type": "code",
   "execution_count": 44,
   "metadata": {},
   "outputs": [
    {
     "data": {
      "text/plain": [
       "Parameter containing:\n",
       "tensor([[ 0.0040, -2.1316],\n",
       "        [-0.0026,  0.0113],\n",
       "        [ 0.0254,  0.7350],\n",
       "        [-2.4556, -0.2966]], requires_grad=True)"
      ]
     },
     "execution_count": 44,
     "metadata": {},
     "output_type": "execute_result"
    }
   ],
   "source": [
    "model.A"
   ]
  },
  {
   "cell_type": "code",
   "execution_count": 21,
   "metadata": {},
   "outputs": [
    {
     "data": {
      "text/plain": [
       "array([[ 1.21608397, -0.03132528],\n",
       "       [-0.03132528,  1.73169902]])"
      ]
     },
     "execution_count": 21,
     "metadata": {},
     "output_type": "execute_result"
    }
   ],
   "source": [
    "np.cov(dag_obj.Z[:, :2].T)"
   ]
  },
  {
   "cell_type": "code",
   "execution_count": 22,
   "metadata": {},
   "outputs": [],
   "source": [
    "X = model.Y @ model.U\n",
    "ya = model.Y @ model_A"
   ]
  },
  {
   "cell_type": "code",
   "execution_count": 23,
   "metadata": {},
   "outputs": [
    {
     "data": {
      "text/plain": [
       "array([8.858345 , 2.1058974], dtype=float32)"
      ]
     },
     "execution_count": 23,
     "metadata": {},
     "output_type": "execute_result"
    }
   ],
   "source": [
    "np.mean(((X - ya)**2).detach().numpy(), axis=0)"
   ]
  },
  {
   "cell_type": "code",
   "execution_count": 24,
   "metadata": {},
   "outputs": [
    {
     "data": {
      "text/plain": [
       "array([1.21486789, 1.72996733])"
      ]
     },
     "execution_count": 24,
     "metadata": {},
     "output_type": "execute_result"
    }
   ],
   "source": [
    "np.mean(((X - (model.Y  @ dag_obj.A))**2).detach().numpy(), axis=0)"
   ]
  },
  {
   "cell_type": "code",
   "execution_count": 25,
   "metadata": {},
   "outputs": [
    {
     "data": {
      "text/plain": [
       "torch.Size([1000, 4])"
      ]
     },
     "execution_count": 25,
     "metadata": {},
     "output_type": "execute_result"
    }
   ],
   "source": [
    "model.Y.shape"
   ]
  },
  {
   "cell_type": "code",
   "execution_count": 26,
   "metadata": {},
   "outputs": [
    {
     "data": {
      "text/plain": [
       "8.858348"
      ]
     },
     "execution_count": 26,
     "metadata": {},
     "output_type": "execute_result"
    }
   ],
   "source": [
    "np.mean((X[:, 0] -model.Y  @ model_A[:,0]).detach().numpy()**2)"
   ]
  },
  {
   "cell_type": "code",
   "execution_count": 27,
   "metadata": {},
   "outputs": [
    {
     "data": {
      "text/plain": [
       "1.2148678930710852"
      ]
     },
     "execution_count": 27,
     "metadata": {},
     "output_type": "execute_result"
    }
   ],
   "source": [
    "np.mean((X[:, 0] -model.Y  @ dag_obj.A[:,0]).detach().numpy()**2)"
   ]
  },
  {
   "cell_type": "code",
   "execution_count": 28,
   "metadata": {},
   "outputs": [
    {
     "data": {
      "text/plain": [
       "array([0.       , 0.       , 0.       , 2.3289719], dtype=float32)"
      ]
     },
     "execution_count": 28,
     "metadata": {},
     "output_type": "execute_result"
    }
   ],
   "source": [
    "model_A[:,0]"
   ]
  },
  {
   "cell_type": "code",
   "execution_count": 29,
   "metadata": {},
   "outputs": [
    {
     "data": {
      "text/plain": [
       "array([0., 0., 0., 0.])"
      ]
     },
     "execution_count": 29,
     "metadata": {},
     "output_type": "execute_result"
    }
   ],
   "source": [
    "dag_obj.A[:,0]"
   ]
  },
  {
   "cell_type": "code",
   "execution_count": 46,
   "metadata": {},
   "outputs": [],
   "source": [
    "def _compute_likelihood(Y, A):\n",
    "    with torch.no_grad():\n",
    "        I = np.eye(4)\n",
    "        ep = 1e-4\n",
    "        Binv = model.U - A\n",
    "        B = torch.pinverse(Binv)\n",
    "            # print(self.A)\n",
    "            # print(Binv)\n",
    "            # print(self.Y @ Binv)\n",
    "        omega = torch.diag(torch.diag((Y @ Binv).T @ (Y @ Binv))) / 1000\n",
    "        print(B.T @ omega @ B)\n",
    "        # print(Binv)\n",
    "        print(omega)\n",
    "            # print((self.Y @ Binv).T @ (self.Y @ Binv))\n",
    "        # print(torch.det(B.T @ omega @ B + ep * I))\n",
    "        # print(B.T @ omega @ B)\n",
    "        # print(np.linalg.eig((B.T @ omega @ B).detach().numpy())[0])\n",
    "        print(torch.det(B.T @ omega @ B + ep * I))\n",
    "        return 0.5 * torch.logdet(B.T @ omega @ B + ep * I)"
   ]
  },
  {
   "cell_type": "code",
   "execution_count": 51,
   "metadata": {},
   "outputs": [],
   "source": [
    "Y = dag_obj.Y.copy()\n",
    "Y = Y - Y.mean(axis=0, keepdims=True)"
   ]
  },
  {
   "cell_type": "code",
   "execution_count": 53,
   "metadata": {},
   "outputs": [
    {
     "data": {
      "text/plain": [
       "array([[ 1.21608397, -2.01479882,  0.03204799, -0.01949671],\n",
       "       [-2.01479882,  5.45645238,  0.66117395, -0.36362493],\n",
       "       [ 0.03204799,  0.66117395,  1.92593391,  0.04882495],\n",
       "       [-0.01949671, -0.36362493,  0.04882495,  1.39383527]])"
      ]
     },
     "execution_count": 53,
     "metadata": {},
     "output_type": "execute_result"
    }
   ],
   "source": [
    "np.cov(dag_obj.Y.T)"
   ]
  },
  {
   "cell_type": "code",
   "execution_count": 52,
   "metadata": {},
   "outputs": [
    {
     "data": {
      "text/plain": [
       "array([[ 1.21608397, -2.01479882,  0.03204799, -0.01949671],\n",
       "       [-2.01479882,  5.45645238,  0.66117395, -0.36362493],\n",
       "       [ 0.03204799,  0.66117395,  1.92593391,  0.04882495],\n",
       "       [-0.01949671, -0.36362493,  0.04882495,  1.39383527]])"
      ]
     },
     "execution_count": 52,
     "metadata": {},
     "output_type": "execute_result"
    }
   ],
   "source": [
    "np.cov(Y.T)"
   ]
  },
  {
   "cell_type": "code",
   "execution_count": 47,
   "metadata": {},
   "outputs": [
    {
     "name": "stdout",
     "output_type": "stream",
     "text": [
      "tensor([[ 1.2158, -1.6168,  0.5968, -0.5149],\n",
      "        [-1.6168,  3.2794, -1.2105,  1.0444],\n",
      "        [ 0.5968, -1.2105,  0.4468, -0.3855],\n",
      "        [-0.5149,  1.0444, -0.3855,  0.3326]])\n",
      "tensor([[1.2158, 0.0000],\n",
      "        [0.0000, 1.7300]])\n",
      "tensor(1.6992e-08, dtype=torch.float64)\n"
     ]
    },
    {
     "data": {
      "text/plain": [
       "tensor(-8.9453, dtype=torch.float64)"
      ]
     },
     "execution_count": 47,
     "metadata": {},
     "output_type": "execute_result"
    }
   ],
   "source": [
    "_compute_likelihood(torch.tensor(dag_obj.Y, dtype=torch.float32), torch.tensor(dag_obj.A, dtype=torch.float32))\n",
    "\n",
    "\n"
   ]
  },
  {
   "cell_type": "code",
   "execution_count": 48,
   "metadata": {},
   "outputs": [
    {
     "name": "stdout",
     "output_type": "stream",
     "text": [
      "tensor([[ 0.3275,  0.0925, -0.0420, -0.2470],\n",
      "        [ 0.0925,  0.0617, -0.0287,  0.1345],\n",
      "        [-0.0420, -0.0287,  0.0134, -0.0649],\n",
      "        [-0.2470,  0.1345, -0.0649,  1.3601]])\n",
      "tensor([[8.8422, 0.0000],\n",
      "        [0.0000, 2.0961]])\n",
      "tensor(4.7861e-09, dtype=torch.float64)\n"
     ]
    },
    {
     "data": {
      "text/plain": [
       "tensor(-9.5788, dtype=torch.float64)"
      ]
     },
     "execution_count": 48,
     "metadata": {},
     "output_type": "execute_result"
    }
   ],
   "source": [
    "_compute_likelihood(torch.tensor(dag_obj.Y, dtype=torch.float32), model.A)\n"
   ]
  },
  {
   "cell_type": "code",
   "execution_count": 49,
   "metadata": {},
   "outputs": [
    {
     "name": "stdout",
     "output_type": "stream",
     "text": [
      "tensor([[ 0.3212,  0.1329, -0.3134,  0.0066],\n",
      "        [ 0.1329,  0.1098, -0.0585, -0.3230],\n",
      "        [-0.3134, -0.0585,  0.3980, -0.4291],\n",
      "        [ 0.0066, -0.3230, -0.4291,  1.9353]])\n",
      "tensor([[6.5282, 0.0000],\n",
      "        [0.0000, 1.3473]])\n",
      "tensor(1.4037e-08, dtype=torch.float64)\n"
     ]
    },
    {
     "data": {
      "text/plain": [
       "tensor(-9.0408, dtype=torch.float64)"
      ]
     },
     "execution_count": 49,
     "metadata": {},
     "output_type": "execute_result"
    }
   ],
   "source": [
    "_compute_likelihood(torch.tensor(dag_obj.Y, dtype=torch.float32), torch.tensor(A_init, dtype=torch.float32))\n"
   ]
  },
  {
   "cell_type": "code",
   "execution_count": 28,
   "metadata": {},
   "outputs": [
    {
     "data": {
      "text/plain": [
       "Parameter containing:\n",
       "tensor([[-3.4861e-04, -5.4466e-02],\n",
       "        [-3.8858e-01,  2.8552e-02],\n",
       "        [ 9.6113e-02,  6.2363e+00],\n",
       "        [-3.2357e-01,  1.9938e-03]], requires_grad=True)"
      ]
     },
     "execution_count": 28,
     "metadata": {},
     "output_type": "execute_result"
    }
   ],
   "source": [
    "model.A"
   ]
  },
  {
   "cell_type": "code",
   "execution_count": 25,
   "metadata": {},
   "outputs": [
    {
     "data": {
      "text/plain": [
       "array([[-6.79826306e-04,  4.79212493e-01, -2.63758361e-01, ...,\n",
       "        -4.93924856e-01, -1.92541766e+00, -4.78318747e-04],\n",
       "       [-1.39268942e-03,  7.51298910e-04, -7.21449792e-01, ...,\n",
       "         1.69374144e+00, -5.51100727e-01,  9.80791729e-03],\n",
       "       [ 1.57697403e+00,  3.24333429e-01,  1.99115428e-04, ...,\n",
       "        -2.53417015e+00,  3.78803345e-01, -1.05911934e+00],\n",
       "       ...,\n",
       "       [-5.08634031e-01,  1.55329883e+00, -9.35586751e-01, ...,\n",
       "        -4.82470393e-01,  1.93203062e-01, -1.51545763e-01],\n",
       "       [ 1.51200384e-01,  3.72558057e-01,  3.14641416e-01, ...,\n",
       "        -2.89724261e-01,  9.32363272e-02,  1.70876610e+00],\n",
       "       [ 6.57421172e-01,  8.23455229e-02,  1.60553500e-01, ...,\n",
       "         4.06680346e-01, -5.97177625e-01,  2.01480770e+00]])"
      ]
     },
     "execution_count": 25,
     "metadata": {},
     "output_type": "execute_result"
    }
   ],
   "source": [
    "model.A.detach().numpy()  - dag_obj.A"
   ]
  },
  {
   "cell_type": "code",
   "execution_count": 23,
   "metadata": {},
   "outputs": [
    {
     "data": {
      "text/plain": [
       "array([[-6.7982631e-04,  4.7921249e-01, -2.6375836e-01, ...,\n",
       "        -4.9392486e-01, -1.9254177e+00, -4.7831875e-04],\n",
       "       [-1.3926894e-03,  7.5129891e-04, -7.2144979e-01, ...,\n",
       "         1.6937414e+00,  1.1800190e+00,  9.8079173e-03],\n",
       "       [ 1.5769740e+00,  3.2433343e-01,  1.9911543e-04, ...,\n",
       "        -2.5341702e+00, -5.4727811e-01,  7.4729908e-01],\n",
       "       ...,\n",
       "       [-5.0863403e-01,  1.5532988e+00, -9.3558675e-01, ...,\n",
       "        -4.8247039e-01,  1.9320306e-01, -1.5154576e-01],\n",
       "       [ 1.5120038e-01,  3.7255806e-01,  3.1464142e-01, ...,\n",
       "        -2.8972426e-01,  9.3236327e-02,  1.7087661e+00],\n",
       "       [ 6.5742117e-01,  8.2345523e-02,  1.6055350e-01, ...,\n",
       "         4.0668035e-01, -5.9717762e-01,  2.0148077e+00]], dtype=float32)"
      ]
     },
     "execution_count": 23,
     "metadata": {},
     "output_type": "execute_result"
    }
   ],
   "source": [
    "model.A.detach().numpy()"
   ]
  },
  {
   "cell_type": "code",
   "execution_count": 26,
   "metadata": {},
   "outputs": [
    {
     "data": {
      "text/plain": [
       "tensor([[ 0.0228,  0.0069, -0.0031,  0.0583, -0.0322, -0.0378,  0.0242, -0.0063,\n",
       "          0.0415,  0.0540,  0.0395,  0.0136, -0.0772,  0.0420, -0.0307, -0.0634,\n",
       "          0.0234, -0.0030,  0.0330, -0.0499]])"
      ]
     },
     "execution_count": 26,
     "metadata": {},
     "output_type": "execute_result"
    }
   ],
   "source": [
    "model.Y.mean(axis=0, keepdims=True)"
   ]
  },
  {
   "cell_type": "code",
   "execution_count": null,
   "metadata": {},
   "outputs": [],
   "source": []
  }
 ],
 "metadata": {
  "kernelspec": {
   "display_name": "Python 3 (ipykernel)",
   "language": "python",
   "name": "python3"
  },
  "language_info": {
   "codemirror_mode": {
    "name": "ipython",
    "version": 3
   },
   "file_extension": ".py",
   "mimetype": "text/x-python",
   "name": "python",
   "nbconvert_exporter": "python",
   "pygments_lexer": "ipython3",
   "version": "3.11.7"
  }
 },
 "nbformat": 4,
 "nbformat_minor": 2
}
