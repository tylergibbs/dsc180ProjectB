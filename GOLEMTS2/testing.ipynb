{
 "cells": [
  {
   "cell_type": "code",
   "execution_count": 1,
   "metadata": {},
   "outputs": [],
   "source": [
    "import numpy as np\n",
    "import matplotlib.pyplot as plt"
   ]
  },
  {
   "cell_type": "code",
   "execution_count": null,
   "metadata": {},
   "outputs": [],
   "source": []
  },
  {
   "cell_type": "code",
   "execution_count": 2,
   "metadata": {},
   "outputs": [],
   "source": [
    "from model import GolemTS2\n",
    "from generate_data import SyntheticDataset"
   ]
  },
  {
   "cell_type": "code",
   "execution_count": 3,
   "metadata": {},
   "outputs": [],
   "source": [
    "d = 10\n",
    "p = 1\n",
    "n = 1000\n",
    "\n",
    "A_init = np.random.randn((p+1) *d, d)\n",
    "dag_obj = SyntheticDataset(n=n, d=d, p=p, B_scale=1.0, graph_type='ER', degree=2, A_scale=1.0, noise_type='NV')\n",
    "model = GolemTS2(n=n, d=d, p=p, Y=dag_obj.Y, lambda_1=1.5e-2, lambda_2=5.0, A_init=None, ev=False, lr=3e-3, lambda_3=2.0)"
   ]
  },
  {
   "cell_type": "code",
   "execution_count": 4,
   "metadata": {},
   "outputs": [
    {
     "name": "stdout",
     "output_type": "stream",
     "text": [
      "likelihood: 58.34044647216797\n",
      "likelihood: 49.480201721191406\n",
      "likelihood: 48.72545623779297\n",
      "likelihood: 48.442447662353516\n",
      "likelihood: 48.256805419921875\n",
      "likelihood: 48.15814208984375\n",
      "likelihood: 48.10104751586914\n",
      "likelihood: 48.05112075805664\n",
      "likelihood: 48.02220153808594\n",
      "likelihood: 47.99468994140625\n",
      "likelihood: 47.97548294067383\n",
      "likelihood: 47.9610595703125\n",
      "likelihood: 47.9566535949707\n",
      "likelihood: 47.94637680053711\n",
      "likelihood: 47.95215606689453\n",
      "likelihood: 47.94716262817383\n",
      "likelihood: 47.93735122680664\n",
      "likelihood: 47.94464111328125\n",
      "likelihood: 47.941612243652344\n",
      "likelihood: 47.93979263305664\n",
      "likelihood: 47.94657516479492\n",
      "likelihood: 47.93983840942383\n",
      "likelihood: 47.93973159790039\n",
      "likelihood: 47.943904876708984\n",
      "likelihood: 47.942195892333984\n",
      "likelihood: 47.94407272338867\n",
      "likelihood: 47.94763946533203\n",
      "likelihood: 47.94154739379883\n",
      "likelihood: 47.9412841796875\n",
      "likelihood: 47.94145965576172\n",
      "likelihood: 47.9398078918457\n",
      "likelihood: 47.94464111328125\n",
      "likelihood: 47.945491790771484\n",
      "likelihood: 47.94123840332031\n",
      "likelihood: 47.94502639770508\n",
      "likelihood: 47.94380569458008\n",
      "likelihood: 47.94205856323242\n",
      "likelihood: 47.939205169677734\n",
      "likelihood: 47.9432373046875\n",
      "likelihood: 47.94577407836914\n",
      "likelihood: 47.94245910644531\n",
      "likelihood: 47.93903732299805\n",
      "likelihood: 47.945926666259766\n",
      "likelihood: 47.94485092163086\n",
      "likelihood: 47.938140869140625\n",
      "likelihood: 47.940956115722656\n",
      "likelihood: 47.942867279052734\n",
      "likelihood: 47.944156646728516\n",
      "likelihood: 47.93941879272461\n",
      "likelihood: 47.94428253173828\n",
      "likelihood: 47.9379768371582\n",
      "likelihood: 47.94247817993164\n",
      "likelihood: 47.93843078613281\n",
      "likelihood: 47.945068359375\n",
      "likelihood: 47.938262939453125\n",
      "likelihood: 47.943824768066406\n",
      "likelihood: 47.941017150878906\n",
      "likelihood: 47.94181442260742\n",
      "likelihood: 47.94099426269531\n",
      "likelihood: 47.945499420166016\n",
      "likelihood: 47.94257354736328\n",
      "likelihood: 47.9435920715332\n",
      "likelihood: 47.943660736083984\n",
      "likelihood: 47.945674896240234\n",
      "likelihood: 47.940643310546875\n",
      "likelihood: 47.93820571899414\n",
      "likelihood: 47.940223693847656\n",
      "likelihood: 47.94258499145508\n",
      "likelihood: 47.94367980957031\n",
      "likelihood: 47.946353912353516\n",
      "likelihood: 47.93919372558594\n",
      "likelihood: 47.93696212768555\n",
      "likelihood: 47.94013977050781\n",
      "likelihood: 47.938419342041016\n",
      "likelihood: 47.94192886352539\n",
      "likelihood: 47.941287994384766\n",
      "likelihood: 47.9432373046875\n",
      "likelihood: 47.94269561767578\n",
      "likelihood: 47.94557189941406\n",
      "likelihood: 47.940486907958984\n",
      "likelihood: 47.94102478027344\n",
      "likelihood: 47.9375114440918\n",
      "likelihood: 47.945308685302734\n",
      "likelihood: 47.94402313232422\n",
      "likelihood: 47.943092346191406\n",
      "likelihood: 47.94503402709961\n",
      "likelihood: 47.947750091552734\n",
      "likelihood: 47.94309997558594\n",
      "likelihood: 47.94480514526367\n",
      "likelihood: 47.9398078918457\n",
      "likelihood: 47.94371795654297\n",
      "likelihood: 47.940311431884766\n",
      "likelihood: 47.943702697753906\n",
      "likelihood: 47.936363220214844\n",
      "likelihood: 47.94337844848633\n",
      "likelihood: 47.942779541015625\n",
      "likelihood: 47.943485260009766\n",
      "likelihood: 47.9417839050293\n",
      "likelihood: 47.9423942565918\n",
      "likelihood: 47.9448127746582\n",
      "likelihood: 36.394371032714844\n",
      "likelihood: 36.38438034057617\n",
      "likelihood: 36.389610290527344\n",
      "likelihood: 36.38563537597656\n",
      "likelihood: 36.391414642333984\n",
      "likelihood: 36.37942886352539\n",
      "likelihood: 36.38825225830078\n",
      "likelihood: 36.38774871826172\n",
      "likelihood: 36.3819694519043\n",
      "likelihood: 36.38704299926758\n",
      "likelihood: 36.3906135559082\n",
      "likelihood: 36.38682556152344\n",
      "likelihood: 36.384639739990234\n",
      "likelihood: 36.388099670410156\n",
      "likelihood: 36.38600158691406\n",
      "likelihood: 36.39128494262695\n",
      "likelihood: 36.38859176635742\n",
      "likelihood: 36.38732147216797\n",
      "likelihood: 36.38002395629883\n",
      "likelihood: 36.39107894897461\n",
      "likelihood: 36.382225036621094\n",
      "likelihood: 36.394081115722656\n",
      "likelihood: 36.390960693359375\n",
      "likelihood: 36.38742446899414\n",
      "likelihood: 36.39015197753906\n",
      "likelihood: 36.38872528076172\n",
      "likelihood: 36.392189025878906\n",
      "likelihood: 36.38792037963867\n",
      "likelihood: 36.38599395751953\n",
      "likelihood: 36.38566207885742\n",
      "likelihood: 36.38954544067383\n",
      "likelihood: 36.387367248535156\n",
      "likelihood: 36.38828659057617\n",
      "likelihood: 36.390220642089844\n",
      "likelihood: 36.39026641845703\n",
      "likelihood: 36.38734817504883\n",
      "likelihood: 36.38435745239258\n",
      "likelihood: 36.386722564697266\n",
      "likelihood: 36.383094787597656\n",
      "likelihood: 36.39004135131836\n",
      "likelihood: 36.39091110229492\n",
      "likelihood: 36.390235900878906\n",
      "likelihood: 36.38832092285156\n",
      "likelihood: 36.38888931274414\n",
      "likelihood: 36.38557815551758\n",
      "likelihood: 36.38610076904297\n",
      "likelihood: 36.38924026489258\n",
      "likelihood: 36.388999938964844\n",
      "likelihood: 36.391029357910156\n",
      "likelihood: 36.38873291015625\n",
      "likelihood: 36.38960266113281\n",
      "likelihood: 36.391357421875\n",
      "likelihood: 36.38901901245117\n",
      "likelihood: 36.38944625854492\n",
      "likelihood: 36.386451721191406\n",
      "likelihood: 36.387752532958984\n",
      "likelihood: 36.38258743286133\n",
      "likelihood: 36.388797760009766\n",
      "likelihood: 36.38479995727539\n",
      "likelihood: 36.38978576660156\n",
      "likelihood: 36.38603973388672\n",
      "likelihood: 36.386688232421875\n",
      "likelihood: 36.38501739501953\n",
      "likelihood: 36.38812255859375\n",
      "likelihood: 36.38872146606445\n",
      "likelihood: 36.38922119140625\n",
      "likelihood: 36.38837814331055\n",
      "likelihood: 36.38905715942383\n",
      "likelihood: 36.384334564208984\n",
      "likelihood: 36.38874053955078\n",
      "likelihood: 36.38740539550781\n",
      "likelihood: 36.39076614379883\n",
      "likelihood: 36.38606262207031\n",
      "likelihood: 36.38097381591797\n",
      "likelihood: 36.39170455932617\n",
      "likelihood: 36.386112213134766\n",
      "likelihood: 36.3904914855957\n",
      "likelihood: 36.386077880859375\n",
      "likelihood: 36.386863708496094\n",
      "likelihood: 36.3877067565918\n",
      "likelihood: 36.390438079833984\n",
      "likelihood: 36.392822265625\n",
      "likelihood: 36.38602066040039\n",
      "likelihood: 36.38871765136719\n",
      "likelihood: 36.38574981689453\n",
      "likelihood: 36.38877868652344\n",
      "likelihood: 36.38959884643555\n",
      "likelihood: 36.38596725463867\n",
      "likelihood: 36.387779235839844\n",
      "likelihood: 36.3879508972168\n",
      "likelihood: 36.39009475708008\n",
      "likelihood: 36.387271881103516\n",
      "likelihood: 36.38591384887695\n",
      "likelihood: 36.390724182128906\n",
      "likelihood: 36.390716552734375\n",
      "likelihood: 36.39133071899414\n",
      "likelihood: 36.387489318847656\n",
      "likelihood: 36.39182662963867\n",
      "likelihood: 36.38648223876953\n",
      "likelihood: 36.38602828979492\n",
      "likelihood: 36.38766860961914\n",
      "likelihood: 36.38432693481445\n",
      "likelihood: 36.38710403442383\n",
      "likelihood: 36.386539459228516\n",
      "likelihood: 36.38853454589844\n",
      "likelihood: 36.38963317871094\n",
      "likelihood: 36.38709259033203\n",
      "likelihood: 36.38543701171875\n",
      "likelihood: 36.38896179199219\n",
      "likelihood: 36.3885383605957\n",
      "likelihood: 36.38613510131836\n",
      "likelihood: 36.38766860961914\n",
      "likelihood: 36.38865280151367\n",
      "likelihood: 36.39068603515625\n",
      "likelihood: 36.38956832885742\n",
      "likelihood: 36.3897590637207\n",
      "likelihood: 36.38479995727539\n",
      "likelihood: 36.38719940185547\n",
      "likelihood: 36.38871765136719\n",
      "likelihood: 36.38454055786133\n",
      "likelihood: 36.3891487121582\n",
      "likelihood: 36.38930130004883\n",
      "likelihood: 36.39037322998047\n",
      "likelihood: 36.38783645629883\n",
      "likelihood: 36.38850402832031\n",
      "likelihood: 36.38970947265625\n",
      "likelihood: 36.387786865234375\n",
      "likelihood: 36.38949203491211\n",
      "likelihood: 36.39241027832031\n",
      "likelihood: 36.385711669921875\n",
      "likelihood: 36.38825988769531\n",
      "likelihood: 36.38634490966797\n",
      "likelihood: 36.389583587646484\n",
      "likelihood: 36.38467025756836\n",
      "likelihood: 36.391632080078125\n",
      "likelihood: 36.38972473144531\n",
      "likelihood: 36.385459899902344\n",
      "likelihood: 36.38610076904297\n",
      "likelihood: 36.384490966796875\n",
      "likelihood: 36.38738250732422\n",
      "likelihood: 36.38756561279297\n",
      "likelihood: 36.38728713989258\n",
      "likelihood: 36.38856887817383\n",
      "likelihood: 36.384525299072266\n",
      "likelihood: 36.387088775634766\n",
      "likelihood: 36.39072799682617\n",
      "likelihood: 36.38821792602539\n",
      "likelihood: 36.3856315612793\n",
      "likelihood: 36.38756561279297\n",
      "likelihood: 36.39167785644531\n",
      "likelihood: 36.387413024902344\n",
      "likelihood: 36.38846206665039\n",
      "likelihood: 36.388946533203125\n",
      "likelihood: 36.38935089111328\n",
      "likelihood: 36.386417388916016\n",
      "likelihood: 36.387081146240234\n",
      "likelihood: 36.386619567871094\n",
      "likelihood: 36.39176940917969\n",
      "likelihood: 36.388267517089844\n",
      "likelihood: 36.39033508300781\n",
      "likelihood: 36.38677215576172\n",
      "likelihood: 36.39000701904297\n",
      "likelihood: 36.38197326660156\n",
      "likelihood: 36.39063262939453\n",
      "likelihood: 36.38969802856445\n",
      "likelihood: 36.38425064086914\n",
      "likelihood: 36.39070510864258\n",
      "likelihood: 36.382381439208984\n",
      "likelihood: 36.39299392700195\n",
      "likelihood: 36.38844680786133\n",
      "likelihood: 36.388641357421875\n",
      "likelihood: 36.38759231567383\n",
      "likelihood: 36.3865852355957\n",
      "likelihood: 36.3874397277832\n",
      "likelihood: 36.38705825805664\n",
      "likelihood: 36.385780334472656\n",
      "likelihood: 36.389827728271484\n",
      "likelihood: 36.38435363769531\n",
      "likelihood: 36.38841247558594\n",
      "likelihood: 36.38363265991211\n",
      "likelihood: 36.391326904296875\n",
      "likelihood: 36.38917541503906\n",
      "likelihood: 36.3863639831543\n",
      "likelihood: 36.39022445678711\n",
      "likelihood: 36.3875846862793\n",
      "likelihood: 36.39225387573242\n",
      "likelihood: 36.38725280761719\n",
      "likelihood: 36.388763427734375\n",
      "likelihood: 36.389644622802734\n",
      "likelihood: 36.39129638671875\n",
      "likelihood: 36.38591766357422\n",
      "likelihood: 36.390804290771484\n",
      "likelihood: 36.389434814453125\n",
      "likelihood: 36.39006042480469\n",
      "likelihood: 36.391666412353516\n",
      "likelihood: 36.38642883300781\n",
      "likelihood: 36.39315414428711\n",
      "likelihood: 36.385650634765625\n",
      "likelihood: 36.38822937011719\n",
      "likelihood: 36.38912582397461\n",
      "likelihood: 36.38978576660156\n",
      "likelihood: 36.38358688354492\n",
      "likelihood: 36.3874626159668\n",
      "likelihood: 36.3858757019043\n",
      "likelihood: 36.390968322753906\n",
      "likelihood: 36.38623046875\n",
      "likelihood: 36.38948440551758\n",
      "likelihood: 36.386985778808594\n",
      "likelihood: 36.39130401611328\n",
      "likelihood: 36.3865852355957\n",
      "likelihood: 36.38784408569336\n",
      "likelihood: 36.39009475708008\n",
      "likelihood: 36.389244079589844\n",
      "likelihood: 36.38424301147461\n",
      "likelihood: 36.38775634765625\n",
      "likelihood: 36.38308334350586\n",
      "likelihood: 36.38760757446289\n",
      "likelihood: 36.38810348510742\n",
      "likelihood: 36.38279724121094\n",
      "likelihood: 36.3885498046875\n",
      "likelihood: 36.38289260864258\n",
      "likelihood: 36.38850402832031\n",
      "likelihood: 36.38669967651367\n",
      "likelihood: 36.38922882080078\n",
      "likelihood: 36.3857536315918\n",
      "likelihood: 36.38798904418945\n",
      "likelihood: 36.3913688659668\n",
      "likelihood: 36.38917922973633\n",
      "likelihood: 36.39044189453125\n",
      "likelihood: 36.386714935302734\n",
      "likelihood: 36.388702392578125\n",
      "likelihood: 36.389747619628906\n",
      "likelihood: 36.38809585571289\n",
      "likelihood: 36.38738250732422\n",
      "likelihood: 36.38471221923828\n",
      "likelihood: 36.38995361328125\n",
      "likelihood: 36.387229919433594\n",
      "likelihood: 36.39030456542969\n",
      "likelihood: 36.390663146972656\n",
      "likelihood: 36.38665771484375\n",
      "likelihood: 36.3875732421875\n",
      "likelihood: 36.38896942138672\n",
      "likelihood: 36.384605407714844\n",
      "likelihood: 36.389564514160156\n",
      "likelihood: 36.38380813598633\n",
      "likelihood: 36.38391876220703\n",
      "likelihood: 36.3891716003418\n",
      "likelihood: 36.39219665527344\n",
      "likelihood: 36.386478424072266\n",
      "likelihood: 36.39033126831055\n",
      "likelihood: 36.3890266418457\n",
      "likelihood: 36.38193130493164\n",
      "likelihood: 36.387542724609375\n",
      "likelihood: 36.38701629638672\n",
      "likelihood: 36.38438415527344\n",
      "likelihood: 36.3876838684082\n",
      "likelihood: 36.38381576538086\n",
      "likelihood: 36.39342498779297\n",
      "likelihood: 36.38886642456055\n",
      "likelihood: 36.389217376708984\n",
      "likelihood: 36.38786697387695\n",
      "likelihood: 36.38859939575195\n",
      "likelihood: 36.38835144042969\n",
      "likelihood: 36.387290954589844\n",
      "likelihood: 36.38789749145508\n",
      "likelihood: 36.38627624511719\n",
      "likelihood: 36.38768768310547\n",
      "likelihood: 36.39108657836914\n",
      "likelihood: 36.38692855834961\n",
      "likelihood: 36.391841888427734\n",
      "likelihood: 36.38358688354492\n",
      "likelihood: 36.38453674316406\n",
      "likelihood: 36.38736343383789\n",
      "likelihood: 36.38719940185547\n",
      "likelihood: 36.38875961303711\n",
      "likelihood: 36.38685989379883\n",
      "likelihood: 36.3919677734375\n",
      "likelihood: 36.38920593261719\n",
      "likelihood: 36.38969421386719\n",
      "likelihood: 36.38984298706055\n",
      "likelihood: 36.388484954833984\n",
      "likelihood: 36.38609313964844\n",
      "likelihood: 36.38574981689453\n",
      "likelihood: 36.38542938232422\n",
      "likelihood: 36.38773727416992\n",
      "likelihood: 36.38596725463867\n",
      "likelihood: 36.38770294189453\n",
      "likelihood: 36.38883972167969\n",
      "likelihood: 36.389339447021484\n",
      "likelihood: 36.38400650024414\n",
      "likelihood: 36.387325286865234\n",
      "likelihood: 36.388999938964844\n",
      "likelihood: 36.38614273071289\n",
      "likelihood: 36.38661575317383\n",
      "likelihood: 36.38739776611328\n",
      "likelihood: 36.38874053955078\n",
      "likelihood: 36.38796615600586\n",
      "likelihood: 36.384586334228516\n",
      "likelihood: 36.38203430175781\n",
      "likelihood: 36.38304138183594\n"
     ]
    }
   ],
   "source": [
    "import trainer\n",
    "likes, evs = trainer.train(model, dag_obj.Y, epochs=40_000, warmup_epochs=10_000, log=True)"
   ]
  },
  {
   "cell_type": "code",
   "execution_count": 5,
   "metadata": {},
   "outputs": [
    {
     "data": {
      "text/plain": [
       "[<matplotlib.lines.Line2D at 0x16289d310>]"
      ]
     },
     "execution_count": 5,
     "metadata": {},
     "output_type": "execute_result"
    },
    {
     "data": {
      "image/png": "[encoded data removed]",
      "text/plain": [
       "<Figure size 640x480 with 1 Axes>"
      ]
     },
     "metadata": {},
     "output_type": "display_data"
    }
   ],
   "source": [
    "plt.plot(evs)"
   ]
  },
  {
   "cell_type": "code",
   "execution_count": 6,
   "metadata": {},
   "outputs": [
    {
     "data": {
      "text/plain": [
       "[<matplotlib.lines.Line2D at 0x1628ff190>]"
      ]
     },
     "execution_count": 6,
     "metadata": {},
     "output_type": "execute_result"
    },
    {
     "data": {
      "image/png": "[encoded data removed]",
      "text/plain": [
       "<Figure size 640x480 with 1 Axes>"
      ]
     },
     "metadata": {},
     "output_type": "display_data"
    }
   ],
   "source": [
    "plt.plot(likes)"
   ]
  },
  {
   "cell_type": "code",
   "execution_count": 7,
   "metadata": {},
   "outputs": [
    {
     "data": {
      "text/plain": [
       "<matplotlib.image.AxesImage at 0x16dd34910>"
      ]
     },
     "execution_count": 7,
     "metadata": {},
     "output_type": "execute_result"
    },
    {
     "data": {
      "image/png": "[encoded data removed]",
      "text/plain": [
       "<Figure size 640x480 with 1 Axes>"
      ]
     },
     "metadata": {},
     "output_type": "display_data"
    }
   ],
   "source": [
    "plt.imshow(dag_obj.A)"
   ]
  },
  {
   "cell_type": "code",
   "execution_count": 8,
   "metadata": {},
   "outputs": [
    {
     "data": {
      "text/plain": [
       "Parameter containing:\n",
       "tensor([[ 2.5916e-04,  1.8158e+00, -1.9437e-04, -4.3056e-01, -3.9635e-04,\n",
       "         -4.1207e-01, -2.4251e-02, -2.2759e-04, -3.6495e-02,  1.5905e+00,\n",
       "          6.1749e-04,  1.1796e-03, -7.3717e-04, -7.0406e-04, -9.7846e-04,\n",
       "         -5.0643e-04, -5.5775e-04,  3.1243e-04, -1.7503e-04, -1.0652e-04],\n",
       "        [ 1.4541e-03,  4.6632e-03,  3.6011e-04, -9.4646e-04,  1.6741e-03,\n",
       "         -2.4990e-02, -2.6172e-04, -3.9933e-03, -1.4302e-02,  7.6157e-03,\n",
       "         -4.1321e-04,  5.9227e-04,  1.5465e-05, -2.7458e-04, -1.0022e-03,\n",
       "         -4.9387e-05, -1.0276e-03, -3.1562e-04,  1.4795e-04, -2.0407e-04],\n",
       "        [-1.2853e-03,  6.4031e-01, -4.7815e-04, -3.8064e-02, -3.3555e-04,\n",
       "         -1.6467e+00,  1.3570e-04,  7.8457e-05, -8.9547e-03,  3.6965e-02,\n",
       "         -2.6502e-04, -6.9141e-04, -4.8798e-04, -4.4828e-04, -1.0106e-04,\n",
       "          3.8179e-04,  1.4362e-04, -3.7791e-05, -2.9248e-04,  2.5635e-04],\n",
       "        [ 2.7464e-04,  1.7390e-02, -5.9832e-03,  4.6879e-04, -8.0138e-04,\n",
       "         -1.2509e-03,  4.0934e-04,  1.1553e-04,  2.6059e-03,  6.9609e-03,\n",
       "          6.9943e-04,  4.6875e-04, -3.1291e-04,  7.2728e-04,  4.4091e-04,\n",
       "          1.1265e-04,  2.2705e-04,  4.3615e-04, -5.6159e-04,  1.7701e-04],\n",
       "        [ 2.6473e-04, -4.4026e-05, -1.5041e-02, -6.0767e-03,  6.7866e-05,\n",
       "         -8.7978e-01, -3.6233e-02,  2.3988e-04,  1.3175e-03, -3.4215e-04,\n",
       "         -1.3935e-04,  7.2045e-04,  3.1183e-04,  5.5066e-04,  8.1994e-04,\n",
       "         -3.6647e-04, -5.5367e-04,  8.7532e-05,  1.4069e-04,  4.8659e-04],\n",
       "        [-3.8908e-03, -6.1662e-04, -1.1772e-04,  4.6366e-04, -3.2875e-04,\n",
       "          4.1023e-03, -8.0267e-03, -4.9259e-04,  1.2710e+00,  1.3813e-02,\n",
       "          1.0530e-03,  1.0482e-03, -3.0487e-04, -2.2630e-05, -9.0514e-04,\n",
       "         -3.0558e-04, -2.8482e-04,  2.9488e-04,  6.3928e-04, -1.5243e-03],\n",
       "        [ 6.9681e-04,  2.2956e-03, -5.6795e-04,  3.0905e-04, -1.2630e-02,\n",
       "          3.2546e-04,  1.0875e-03, -2.3406e-03, -1.0373e+00,  6.6311e-03,\n",
       "         -1.2917e-04, -3.8276e-04,  1.1568e-05, -9.9744e-06, -1.3064e-03,\n",
       "          2.4009e-04,  1.9400e-04, -7.2910e-04,  1.1417e-03, -6.9197e-04],\n",
       "        [-3.0565e-05,  6.5286e-04, -5.2727e-04, -2.5949e-05,  1.5026e+00,\n",
       "         -4.9954e-01,  3.4692e-03, -1.1247e-04,  4.8822e-04, -5.9677e-04,\n",
       "         -5.2027e-04,  1.0550e-04, -5.2550e-04, -1.5182e-04, -6.7414e-04,\n",
       "         -6.8106e-05,  2.5306e-04, -4.5474e-04, -3.7538e-05, -1.7880e-04],\n",
       "        [-4.3062e-03, -5.1137e-03,  2.5998e-04, -3.9525e-03,  1.5663e-04,\n",
       "          3.5771e-03, -3.9290e-03, -2.2660e-03,  3.0810e-03, -5.6885e-04,\n",
       "         -2.0258e-04, -8.2199e-04,  4.1428e-04, -1.0352e-05,  2.4003e-04,\n",
       "         -1.8328e-03,  1.8186e-04, -3.1424e-05,  2.6840e-04, -9.8872e-05],\n",
       "        [-4.8390e-05,  8.0414e-01, -4.3556e-05,  9.2320e-01,  1.0030e-02,\n",
       "          6.6550e-04,  1.0996e+00, -6.3747e-03,  5.2978e-02,  3.3601e-03,\n",
       "          1.1190e-04,  4.4124e-04, -4.4147e-04, -6.6272e-04, -6.5842e-04,\n",
       "          6.7419e-04, -3.5686e-04,  2.5059e-04, -2.4795e-04, -7.2062e-04],\n",
       "        [ 3.1651e-01,  1.2146e-04,  9.6286e-05, -1.4184e-03, -1.6684e-04,\n",
       "         -4.5793e-03,  1.9552e-02,  8.7246e-05,  4.5274e-01,  2.1765e-02,\n",
       "         -8.5978e-04,  6.6911e-04,  4.0351e-05,  5.9299e-04, -7.5939e-04,\n",
       "          8.3909e-05,  5.7079e-04, -4.9494e-04,  1.0484e-04, -5.7306e-04],\n",
       "        [-2.7892e-01,  4.6749e-04, -3.3637e-04,  2.4640e-02, -5.3427e-03,\n",
       "          1.6167e-02, -3.7399e-04, -5.1848e-03, -1.7560e-03, -2.5625e-02,\n",
       "          4.6186e-04,  1.8711e-04,  2.9917e-04,  1.4314e-06, -1.6292e-04,\n",
       "         -2.2337e-04, -1.6506e-05, -5.7914e-04,  3.7431e-04,  1.6937e-04],\n",
       "        [ 3.2798e-02,  4.3477e-02,  7.3148e-05,  1.5423e-04,  1.2328e-03,\n",
       "         -1.2711e-04,  1.7660e-02,  3.6900e-02,  2.3821e-03,  2.8123e-02,\n",
       "          1.5670e-04,  5.8262e-04, -2.6002e-04,  8.6774e-04,  7.7941e-04,\n",
       "         -3.5854e-04,  4.8377e-04,  9.4105e-04, -2.4570e-04,  2.7214e-04],\n",
       "        [-5.3412e-04,  9.3051e-06, -7.8026e-04, -3.1552e-02, -5.9072e-04,\n",
       "          9.3984e-04,  1.0551e-02, -6.3962e-04,  1.9905e-02, -9.2302e-04,\n",
       "         -1.2862e-04,  4.1955e-04,  7.8417e-04,  5.8496e-07, -3.8593e-04,\n",
       "          1.7392e-04, -6.0830e-05, -9.7505e-06,  1.5887e-04, -1.7878e-04],\n",
       "        [ 3.2624e-01,  7.2058e-02,  4.2459e-03, -7.0573e-04,  2.1885e-04,\n",
       "          4.3437e-01, -2.3568e-04, -4.1895e-02,  4.2398e-01, -3.8933e-01,\n",
       "         -1.1480e-04, -1.6226e-04,  3.9680e-04, -1.3624e-04,  3.0127e-04,\n",
       "          1.3253e-06, -2.0295e-04,  2.4266e-04,  8.1502e-04, -3.1784e-06],\n",
       "        [-3.5033e-01,  3.8155e-01, -2.2698e-05,  1.9590e-04, -2.7272e-04,\n",
       "         -7.9158e-05,  1.0685e-01,  3.8207e-02, -4.8452e-04, -3.5522e-02,\n",
       "          4.9758e-05,  1.2091e-03,  4.1344e-05, -8.1929e-05, -4.4678e-04,\n",
       "          9.6119e-05, -1.9209e-04, -2.0514e-04,  3.9479e-05,  1.3474e-04],\n",
       "        [-7.6061e-04, -9.4040e-05, -2.3861e-02, -5.3721e-04,  8.0332e-03,\n",
       "         -6.0643e-02, -6.6554e-03,  2.6966e-02, -4.5045e-01, -2.0004e-02,\n",
       "          2.6080e-04, -4.1192e-04,  2.7905e-04, -4.4696e-04,  3.2378e-04,\n",
       "         -1.2057e-04, -1.5793e-04, -6.5745e-04, -3.5166e-04,  3.4008e-04],\n",
       "        [-6.7340e-04, -4.7845e-04, -3.9519e-02,  1.8346e-02, -8.9370e-04,\n",
       "          1.7211e-02, -1.1638e-02,  2.2585e-03, -2.6506e-04,  2.3339e-02,\n",
       "          3.5496e-05,  4.0273e-04,  5.6944e-04,  7.8461e-04, -3.3429e-04,\n",
       "          5.3866e-04, -2.6784e-04,  1.4002e-04, -5.5552e-04,  2.4196e-04],\n",
       "        [ 8.0688e-03, -2.3526e-02, -3.5031e-04,  8.4136e-04,  4.0476e-04,\n",
       "         -3.6507e-03, -1.1409e-05,  1.1409e-02, -2.4032e-03, -4.1679e-02,\n",
       "          4.4908e-04, -1.5858e-04, -2.3448e-04,  3.3724e-04,  9.7965e-05,\n",
       "          8.9562e-04, -3.1701e-04, -1.1821e-04,  5.5442e-04,  3.8539e-04],\n",
       "        [ 1.6613e-04, -4.0203e-01, -2.3068e-02, -8.5556e-04, -5.6282e-04,\n",
       "          3.8387e-04,  2.8019e-01, -3.1388e-03, -1.6029e-02,  4.7595e-01,\n",
       "         -3.1965e-04, -1.6027e-04, -7.0546e-04, -7.2511e-04,  2.7774e-04,\n",
       "          5.2682e-06, -5.6589e-04,  1.1884e-04, -3.6704e-04, -3.7280e-04]],\n",
       "       requires_grad=True)"
      ]
     },
     "execution_count": 8,
     "metadata": {},
     "output_type": "execute_result"
    }
   ],
   "source": [
    "model.B"
   ]
  },
  {
   "cell_type": "code",
   "execution_count": 9,
   "metadata": {},
   "outputs": [
    {
     "data": {
      "text/plain": [
       "<matplotlib.image.AxesImage at 0x16dde7cd0>"
      ]
     },
     "execution_count": 9,
     "metadata": {},
     "output_type": "execute_result"
    },
    {
     "data": {
      "image/png": "[encoded data removed]",
      "text/plain": [
       "<Figure size 640x480 with 1 Axes>"
      ]
     },
     "metadata": {},
     "output_type": "display_data"
    }
   ],
   "source": [
    "plt.imshow(model.B.detach().numpy())"
   ]
  },
  {
   "cell_type": "code",
   "execution_count": 10,
   "metadata": {},
   "outputs": [],
   "source": [
    "model_B = model.B.detach().numpy()\n",
    "model_B[np.abs(model_B) < 0.3] = 0"
   ]
  },
  {
   "cell_type": "code",
   "execution_count": 11,
   "metadata": {},
   "outputs": [],
   "source": [
    "import testing_utils"
   ]
  },
  {
   "cell_type": "code",
   "execution_count": 12,
   "metadata": {},
   "outputs": [],
   "source": [
    "model_B = testing_utils.postprocess(model_B)"
   ]
  },
  {
   "cell_type": "code",
   "execution_count": 13,
   "metadata": {},
   "outputs": [
    {
     "data": {
      "text/plain": [
       "<matplotlib.image.AxesImage at 0x16de7a750>"
      ]
     },
     "execution_count": 13,
     "metadata": {},
     "output_type": "execute_result"
    },
    {
     "data": {
      "image/png": "[encoded data removed]",
      "text/plain": [
       "<Figure size 640x480 with 1 Axes>"
      ]
     },
     "metadata": {},
     "output_type": "display_data"
    }
   ],
   "source": [
    "plt.imshow(testing_utils.postprocess(model_B) - model_B)"
   ]
  },
  {
   "cell_type": "code",
   "execution_count": 14,
   "metadata": {},
   "outputs": [
    {
     "data": {
      "text/plain": [
       "<matplotlib.image.AxesImage at 0x16de9fc90>"
      ]
     },
     "execution_count": 14,
     "metadata": {},
     "output_type": "execute_result"
    },
    {
     "data": {
      "image/png": "[encoded data removed]",
      "text/plain": [
       "<Figure size 640x480 with 1 Axes>"
      ]
     },
     "metadata": {},
     "output_type": "display_data"
    }
   ],
   "source": [
    "plt.imshow(model_B)"
   ]
  },
  {
   "cell_type": "code",
   "execution_count": 15,
   "metadata": {},
   "outputs": [
    {
     "data": {
      "text/plain": [
       "array([0., 0., 0., 0., 0., 0., 0., 0., 0., 0., 0., 0., 0., 0., 0., 0., 0.,\n",
       "       0., 0., 0.], dtype=float32)"
      ]
     },
     "execution_count": 15,
     "metadata": {},
     "output_type": "execute_result"
    }
   ],
   "source": [
    "np.diag(model_B)"
   ]
  },
  {
   "cell_type": "code",
   "execution_count": 16,
   "metadata": {},
   "outputs": [
    {
     "data": {
      "text/plain": [
       "<matplotlib.image.AxesImage at 0x16dd1cb90>"
      ]
     },
     "execution_count": 16,
     "metadata": {},
     "output_type": "execute_result"
    },
    {
     "data": {
      "image/png": "[encoded data removed]",
      "text/plain": [
       "<Figure size 640x480 with 1 Axes>"
      ]
     },
     "metadata": {},
     "output_type": "display_data"
    }
   ],
   "source": [
    "model_A = model_B[:, :d]\n",
    "plt.imshow(model_A)"
   ]
  },
  {
   "cell_type": "code",
   "execution_count": 17,
   "metadata": {},
   "outputs": [
    {
     "data": {
      "text/plain": [
       "<matplotlib.image.AxesImage at 0x16dfd3450>"
      ]
     },
     "execution_count": 17,
     "metadata": {},
     "output_type": "execute_result"
    },
    {
     "data": {
      "image/png": "[encoded data removed]",
      "text/plain": [
       "<Figure size 640x480 with 1 Axes>"
      ]
     },
     "metadata": {},
     "output_type": "display_data"
    }
   ],
   "source": [
    "plt.imshow(dag_obj.A)"
   ]
  },
  {
   "cell_type": "code",
   "execution_count": 18,
   "metadata": {},
   "outputs": [
    {
     "data": {
      "text/plain": [
       "<matplotlib.image.AxesImage at 0x16e00e490>"
      ]
     },
     "execution_count": 18,
     "metadata": {},
     "output_type": "execute_result"
    },
    {
     "data": {
      "image/png": "[encoded data removed]",
      "text/plain": [
       "<Figure size 640x480 with 1 Axes>"
      ]
     },
     "metadata": {},
     "output_type": "display_data"
    }
   ],
   "source": [
    "plt.imshow(((dag_obj.A != 0).astype(int) == (model_A !=0 ).astype(int))**2)"
   ]
  },
  {
   "cell_type": "code",
   "execution_count": 19,
   "metadata": {},
   "outputs": [
    {
     "data": {
      "text/plain": [
       "array([[0, 1, 0, 1, 0, 1, 0, 0, 0, 1],\n",
       "       [0, 0, 0, 0, 0, 0, 0, 0, 0, 0],\n",
       "       [0, 1, 0, 0, 0, 1, 0, 0, 0, 0],\n",
       "       [0, 0, 0, 0, 0, 0, 0, 0, 0, 0],\n",
       "       [0, 0, 0, 0, 0, 1, 0, 0, 0, 0],\n",
       "       [0, 0, 0, 0, 0, 0, 0, 0, 1, 0],\n",
       "       [0, 0, 0, 0, 0, 0, 0, 0, 1, 0],\n",
       "       [0, 0, 0, 0, 1, 1, 0, 0, 0, 0],\n",
       "       [0, 0, 0, 0, 0, 0, 0, 0, 0, 0],\n",
       "       [0, 1, 0, 1, 0, 0, 1, 0, 0, 0],\n",
       "       [1, 0, 0, 0, 0, 0, 0, 0, 1, 0],\n",
       "       [1, 0, 0, 0, 0, 0, 0, 0, 0, 0],\n",
       "       [0, 0, 0, 0, 0, 0, 0, 0, 0, 0],\n",
       "       [0, 0, 0, 0, 0, 0, 0, 0, 0, 0],\n",
       "       [1, 0, 0, 0, 0, 1, 0, 0, 1, 1],\n",
       "       [1, 1, 0, 0, 0, 0, 0, 0, 0, 0],\n",
       "       [0, 0, 0, 0, 0, 0, 0, 0, 1, 0],\n",
       "       [0, 0, 0, 0, 0, 0, 0, 0, 0, 0],\n",
       "       [0, 0, 0, 0, 0, 0, 0, 0, 0, 0],\n",
       "       [0, 1, 0, 0, 0, 0, 1, 0, 0, 1]])"
      ]
     },
     "execution_count": 19,
     "metadata": {},
     "output_type": "execute_result"
    }
   ],
   "source": [
    "(dag_obj.A != 0).astype(int)"
   ]
  },
  {
   "cell_type": "code",
   "execution_count": null,
   "metadata": {},
   "outputs": [],
   "source": []
  },
  {
   "cell_type": "code",
   "execution_count": null,
   "metadata": {},
   "outputs": [],
   "source": []
  },
  {
   "cell_type": "code",
   "execution_count": null,
   "metadata": {},
   "outputs": [],
   "source": []
  },
  {
   "cell_type": "code",
   "execution_count": null,
   "metadata": {},
   "outputs": [],
   "source": []
  }
 ],
 "metadata": {
  "kernelspec": {
   "display_name": "Python 3 (ipykernel)",
   "language": "python",
   "name": "python3"
  },
  "language_info": {
   "codemirror_mode": {
    "name": "ipython",
    "version": 3
   },
   "file_extension": ".py",
   "mimetype": "text/x-python",
   "name": "python",
   "nbconvert_exporter": "python",
   "pygments_lexer": "ipython3",
   "version": "3.11.7"
  }
 },
 "nbformat": 4,
 "nbformat_minor": 2
}
