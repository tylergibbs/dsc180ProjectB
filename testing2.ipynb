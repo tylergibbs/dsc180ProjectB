{
 "cells": [
  {
   "cell_type": "code",
   "execution_count": 335,
   "id": "28359e2e",
   "metadata": {},
   "outputs": [],
   "source": [
    "from src.data.dataset import Dataset\n",
    "from src.utill.constraint import Constraint\n",
    "from src.utill.WAgraph import WAgraph\n",
    "from src.model.NOTEARS import NOTEARS\n",
    "from src.model.DAGMA import DAGMA\n",
    "from src.trainer.trainer import Trainer\n",
    "import numpy as np"
   ]
  },
  {
   "cell_type": "code",
   "execution_count": 139,
   "id": "e07a849c",
   "metadata": {},
   "outputs": [],
   "source": [
    "observations = 3\n",
    "variables = 2\n",
    "times = 6\n",
    "window = 4"
   ]
  },
  {
   "cell_type": "code",
   "execution_count": 140,
   "id": "588f0a30",
   "metadata": {},
   "outputs": [],
   "source": [
    "cons = Constraint([], [], window, variables)"
   ]
  },
  {
   "cell_type": "code",
   "execution_count": 141,
   "id": "0eae0c46",
   "metadata": {},
   "outputs": [
    {
     "data": {
      "text/plain": [
       "array([], shape=(1, 0), dtype=float64)"
      ]
     },
     "execution_count": 141,
     "metadata": {},
     "output_type": "execute_result"
    }
   ],
   "source": [
    "W = np.array([[]])\n",
    "cons.constrainW(W)\n",
    "W"
   ]
  },
  {
   "cell_type": "code",
   "execution_count": 142,
   "id": "129c59c7",
   "metadata": {},
   "outputs": [],
   "source": [
    "cons = Constraint([[0,0,1], [1,0,3]], [[0,0,0,1]], window, variables)"
   ]
  },
  {
   "cell_type": "code",
   "execution_count": 143,
   "id": "2ad3b1a6",
   "metadata": {},
   "outputs": [
    {
     "data": {
      "text/plain": [
       "array([[1, 2],\n",
       "       [3, 2]])"
      ]
     },
     "execution_count": 143,
     "metadata": {},
     "output_type": "execute_result"
    }
   ],
   "source": [
    "W = np.array([[2, 2],[2, 2]])\n",
    "cons.constrainW(W)\n",
    "W"
   ]
  },
  {
   "cell_type": "code",
   "execution_count": 144,
   "id": "084c3292",
   "metadata": {},
   "outputs": [
    {
     "data": {
      "text/plain": [
       "array([[[1],\n",
       "        [2]],\n",
       "\n",
       "       [[2],\n",
       "        [2]]])"
      ]
     },
     "execution_count": 144,
     "metadata": {},
     "output_type": "execute_result"
    }
   ],
   "source": [
    "A = np.array([[[2], [2]],[[2], [2]]])\n",
    "cons.constrainA(A)\n",
    "A"
   ]
  },
  {
   "cell_type": "code",
   "execution_count": 145,
   "id": "a29dc8dd",
   "metadata": {},
   "outputs": [
    {
     "data": {
      "text/plain": [
       "True"
      ]
     },
     "execution_count": 145,
     "metadata": {},
     "output_type": "execute_result"
    }
   ],
   "source": [
    "cons.validate(window, variables)"
   ]
  },
  {
   "cell_type": "code",
   "execution_count": 146,
   "id": "84660606",
   "metadata": {},
   "outputs": [],
   "source": [
    "WA = WAgraph(window, variables)"
   ]
  },
  {
   "cell_type": "code",
   "execution_count": null,
   "id": "ee3743cb",
   "metadata": {},
   "outputs": [],
   "source": []
  },
  {
   "cell_type": "code",
   "execution_count": 147,
   "id": "226290b9",
   "metadata": {},
   "outputs": [
    {
     "data": {
      "text/plain": [
       "4"
      ]
     },
     "execution_count": 147,
     "metadata": {},
     "output_type": "execute_result"
    }
   ],
   "source": [
    "WA.getWindow()"
   ]
  },
  {
   "cell_type": "code",
   "execution_count": 148,
   "id": "93ecda5b",
   "metadata": {},
   "outputs": [
    {
     "data": {
      "text/plain": [
       "2"
      ]
     },
     "execution_count": 148,
     "metadata": {},
     "output_type": "execute_result"
    }
   ],
   "source": [
    "WA.getV()"
   ]
  },
  {
   "cell_type": "code",
   "execution_count": 149,
   "id": "bcc1cf24",
   "metadata": {},
   "outputs": [
    {
     "data": {
      "text/plain": [
       "2"
      ]
     },
     "execution_count": 149,
     "metadata": {},
     "output_type": "execute_result"
    }
   ],
   "source": [
    "WA.getVA()"
   ]
  },
  {
   "cell_type": "code",
   "execution_count": 150,
   "id": "5219b177",
   "metadata": {},
   "outputs": [
    {
     "data": {
      "text/plain": [
       "array([[2, 2],\n",
       "       [2, 2]])"
      ]
     },
     "execution_count": 150,
     "metadata": {},
     "output_type": "execute_result"
    }
   ],
   "source": [
    "WA.setW([[2,2],[2,2]])\n",
    "WA.getW()"
   ]
  },
  {
   "cell_type": "code",
   "execution_count": 151,
   "id": "1b600b77",
   "metadata": {},
   "outputs": [
    {
     "data": {
      "text/plain": [
       "array([[[2, 2],\n",
       "        [2, 2]],\n",
       "\n",
       "       [[2, 2],\n",
       "        [2, 2]],\n",
       "\n",
       "       [[2, 2],\n",
       "        [2, 2]],\n",
       "\n",
       "       [[2, 2],\n",
       "        [2, 2]]])"
      ]
     },
     "execution_count": 151,
     "metadata": {},
     "output_type": "execute_result"
    }
   ],
   "source": [
    "WA.setA([[[2,2],[2,2]],[[2,2],[2,2]],[[2,2],[2,2]],[[2,2],[2,2]]])\n",
    "WA.getA()"
   ]
  },
  {
   "cell_type": "code",
   "execution_count": 152,
   "id": "7b02b194",
   "metadata": {},
   "outputs": [],
   "source": [
    "WA.generateW()"
   ]
  },
  {
   "cell_type": "code",
   "execution_count": 153,
   "id": "4401321a",
   "metadata": {},
   "outputs": [
    {
     "data": {
      "text/plain": [
       "array([[0.42077553, 0.12635419],\n",
       "       [0.5133799 , 0.15976728]], dtype=float32)"
      ]
     },
     "execution_count": 153,
     "metadata": {},
     "output_type": "execute_result"
    }
   ],
   "source": [
    "WA.getW()"
   ]
  },
  {
   "cell_type": "code",
   "execution_count": 154,
   "id": "b6b31a58",
   "metadata": {},
   "outputs": [
    {
     "name": "stdout",
     "output_type": "stream",
     "text": [
      "2 1\n"
     ]
    }
   ],
   "source": [
    "WA.generateW_B(1, 'ER')"
   ]
  },
  {
   "cell_type": "code",
   "execution_count": 155,
   "id": "6d2408e6",
   "metadata": {},
   "outputs": [
    {
     "data": {
      "text/plain": [
       "tensor([[0, 0],\n",
       "        [1, 0]])"
      ]
     },
     "execution_count": 155,
     "metadata": {},
     "output_type": "execute_result"
    }
   ],
   "source": [
    "WA.W_B"
   ]
  },
  {
   "cell_type": "code",
   "execution_count": 156,
   "id": "fff05506",
   "metadata": {},
   "outputs": [
    {
     "data": {
      "text/plain": [
       "array([[0.        , 0.        ],\n",
       "       [0.79977524, 0.        ]], dtype=float32)"
      ]
     },
     "execution_count": 156,
     "metadata": {},
     "output_type": "execute_result"
    }
   ],
   "source": [
    "WA.generateW()\n",
    "WA.getW()"
   ]
  },
  {
   "cell_type": "code",
   "execution_count": 157,
   "id": "34157999",
   "metadata": {},
   "outputs": [
    {
     "data": {
      "text/plain": [
       "array([[[2, 2],\n",
       "        [2, 2]],\n",
       "\n",
       "       [[2, 2],\n",
       "        [2, 2]],\n",
       "\n",
       "       [[2, 2],\n",
       "        [2, 2]],\n",
       "\n",
       "       [[2, 2],\n",
       "        [2, 2]]])"
      ]
     },
     "execution_count": 157,
     "metadata": {},
     "output_type": "execute_result"
    }
   ],
   "source": [
    "WA.getA()"
   ]
  },
  {
   "cell_type": "code",
   "execution_count": 158,
   "id": "9bc03366",
   "metadata": {},
   "outputs": [
    {
     "data": {
      "text/plain": [
       "tensor([[[1, 1],\n",
       "         [1, 1]],\n",
       "\n",
       "        [[1, 1],\n",
       "         [1, 1]],\n",
       "\n",
       "        [[1, 1],\n",
       "         [1, 1]],\n",
       "\n",
       "        [[1, 1],\n",
       "         [1, 1]]], dtype=torch.int32)"
      ]
     },
     "execution_count": 158,
     "metadata": {},
     "output_type": "execute_result"
    }
   ],
   "source": [
    "WA.A_B"
   ]
  },
  {
   "cell_type": "code",
   "execution_count": 159,
   "id": "e49cba9a",
   "metadata": {},
   "outputs": [
    {
     "data": {
      "text/plain": [
       "array([[[0.8630755 , 0.66960305],\n",
       "        [0.7496601 , 0.7030773 ]],\n",
       "\n",
       "       [[0.01844579, 0.41253522],\n",
       "        [0.23764223, 0.4633031 ]],\n",
       "\n",
       "       [[0.9112983 , 0.7981976 ],\n",
       "        [0.6926623 , 0.8043077 ]],\n",
       "\n",
       "       [[0.17468293, 0.20105241],\n",
       "        [0.4861069 , 0.6002657 ]]], dtype=float32)"
      ]
     },
     "execution_count": 159,
     "metadata": {},
     "output_type": "execute_result"
    }
   ],
   "source": [
    "WA.generateA()\n",
    "WA.getA()"
   ]
  },
  {
   "cell_type": "code",
   "execution_count": 160,
   "id": "e92be952",
   "metadata": {},
   "outputs": [],
   "source": [
    "WA.generateA_B(3, 'ER')"
   ]
  },
  {
   "cell_type": "code",
   "execution_count": 161,
   "id": "7e8fb714",
   "metadata": {},
   "outputs": [
    {
     "data": {
      "text/plain": [
       "tensor([[[0., 1.],\n",
       "         [0., 0.]],\n",
       "\n",
       "        [[0., 1.],\n",
       "         [0., 0.]],\n",
       "\n",
       "        [[0., 0.],\n",
       "         [0., 0.]],\n",
       "\n",
       "        [[0., 0.],\n",
       "         [1., 0.]]], dtype=torch.float64)"
      ]
     },
     "execution_count": 161,
     "metadata": {},
     "output_type": "execute_result"
    }
   ],
   "source": [
    "WA.A_B"
   ]
  },
  {
   "cell_type": "code",
   "execution_count": 162,
   "id": "d38fcea4",
   "metadata": {},
   "outputs": [
    {
     "data": {
      "text/plain": [
       "array([[[0.        , 0.39647606],\n",
       "        [0.        , 0.        ]],\n",
       "\n",
       "       [[0.        , 0.53526437],\n",
       "        [0.        , 0.        ]],\n",
       "\n",
       "       [[0.        , 0.        ],\n",
       "        [0.        , 0.        ]],\n",
       "\n",
       "       [[0.        , 0.        ],\n",
       "        [0.12735143, 0.        ]]])"
      ]
     },
     "execution_count": 162,
     "metadata": {},
     "output_type": "execute_result"
    }
   ],
   "source": [
    "WA.generateA()\n",
    "WA.getA()"
   ]
  },
  {
   "cell_type": "code",
   "execution_count": 163,
   "id": "f54df669",
   "metadata": {},
   "outputs": [
    {
     "data": {
      "text/plain": [
       "array([[[0.        , 0.39647606],\n",
       "        [0.        , 0.        ]],\n",
       "\n",
       "       [[0.        , 0.53526437],\n",
       "        [0.        , 0.        ]],\n",
       "\n",
       "       [[0.        , 0.        ],\n",
       "        [0.        , 0.        ]],\n",
       "\n",
       "       [[0.        , 0.        ],\n",
       "        [0.12735143, 0.        ]]])"
      ]
     },
     "execution_count": 163,
     "metadata": {},
     "output_type": "execute_result"
    }
   ],
   "source": [
    "WA.getA()"
   ]
  },
  {
   "cell_type": "code",
   "execution_count": null,
   "id": "fe4da487",
   "metadata": {},
   "outputs": [],
   "source": []
  },
  {
   "cell_type": "code",
   "execution_count": 164,
   "id": "175aa893",
   "metadata": {},
   "outputs": [
    {
     "data": {
      "text/plain": [
       "array([[0.        , 0.        ],\n",
       "       [0.79977524, 0.        ]], dtype=float32)"
      ]
     },
     "execution_count": 164,
     "metadata": {},
     "output_type": "execute_result"
    }
   ],
   "source": [
    "WA.getW()"
   ]
  },
  {
   "cell_type": "code",
   "execution_count": 165,
   "id": "e867ccca",
   "metadata": {},
   "outputs": [
    {
     "data": {
      "text/plain": [
       "array([[[0.        , 0.39647606],\n",
       "        [0.        , 0.        ]],\n",
       "\n",
       "       [[0.        , 0.53526437],\n",
       "        [0.        , 0.        ]],\n",
       "\n",
       "       [[0.        , 0.        ],\n",
       "        [0.        , 0.        ]],\n",
       "\n",
       "       [[0.        , 0.        ],\n",
       "        [0.12735143, 0.        ]]])"
      ]
     },
     "execution_count": 165,
     "metadata": {},
     "output_type": "execute_result"
    }
   ],
   "source": [
    "WA.getA()"
   ]
  },
  {
   "cell_type": "code",
   "execution_count": 166,
   "id": "cf89e797",
   "metadata": {
    "scrolled": true
   },
   "outputs": [
    {
     "data": {
      "text/plain": [
       "tensor([[0, 0],\n",
       "        [1, 0]])"
      ]
     },
     "execution_count": 166,
     "metadata": {},
     "output_type": "execute_result"
    }
   ],
   "source": [
    "WA.W_B"
   ]
  },
  {
   "cell_type": "code",
   "execution_count": 167,
   "id": "ae7f0359",
   "metadata": {},
   "outputs": [
    {
     "data": {
      "text/plain": [
       "tensor([[[0, 1],\n",
       "         [0, 0]],\n",
       "\n",
       "        [[0, 1],\n",
       "         [0, 0]],\n",
       "\n",
       "        [[0, 0],\n",
       "         [0, 0]],\n",
       "\n",
       "        [[0, 0],\n",
       "         [1, 0]]], dtype=torch.int32)"
      ]
     },
     "execution_count": 167,
     "metadata": {},
     "output_type": "execute_result"
    }
   ],
   "source": [
    "WA.A_B"
   ]
  },
  {
   "cell_type": "code",
   "execution_count": 168,
   "id": "e97a3610",
   "metadata": {},
   "outputs": [],
   "source": [
    "from src.data.dataset import Dataset"
   ]
  },
  {
   "cell_type": "code",
   "execution_count": 169,
   "id": "56f9dffe",
   "metadata": {},
   "outputs": [],
   "source": [
    "ds = Dataset(observations, variables, variables, times, window, WA, cons)"
   ]
  },
  {
   "cell_type": "code",
   "execution_count": 170,
   "id": "2ade185d",
   "metadata": {},
   "outputs": [],
   "source": [
    "dataex = np.array([[[1,2,3],[4,5,6]],\n",
    "                   [[1,2,3],[4,5,6]],\n",
    "                   [[1,2,3],[4,5,6]],\n",
    "                   [[1,2,3],[4,5,6]],\n",
    "                   [[1,2,3],[4,5,6]],\n",
    "                   [[1,2,3],[4,5,6]]])\n",
    "\n",
    "ds.setData(dataex)"
   ]
  },
  {
   "cell_type": "code",
   "execution_count": 171,
   "id": "7a90a1db",
   "metadata": {},
   "outputs": [
    {
     "data": {
      "text/plain": [
       "array([[[1, 2, 3],\n",
       "        [4, 5, 6]],\n",
       "\n",
       "       [[1, 2, 3],\n",
       "        [4, 5, 6]],\n",
       "\n",
       "       [[1, 2, 3],\n",
       "        [4, 5, 6]],\n",
       "\n",
       "       [[1, 2, 3],\n",
       "        [4, 5, 6]],\n",
       "\n",
       "       [[1, 2, 3],\n",
       "        [4, 5, 6]],\n",
       "\n",
       "       [[1, 2, 3],\n",
       "        [4, 5, 6]]])"
      ]
     },
     "execution_count": 171,
     "metadata": {},
     "output_type": "execute_result"
    }
   ],
   "source": [
    "ds.getData()"
   ]
  },
  {
   "cell_type": "code",
   "execution_count": 172,
   "id": "df7ffd10",
   "metadata": {},
   "outputs": [
    {
     "data": {
      "text/plain": [
       "array([[[1, 2, 3],\n",
       "        [4, 5, 6]],\n",
       "\n",
       "       [[1, 2, 3],\n",
       "        [4, 5, 6]],\n",
       "\n",
       "       [[1, 2, 3],\n",
       "        [4, 5, 6]],\n",
       "\n",
       "       [[1, 2, 3],\n",
       "        [4, 5, 6]]])"
      ]
     },
     "execution_count": 172,
     "metadata": {},
     "output_type": "execute_result"
    }
   ],
   "source": [
    "ds.getDataWindow()"
   ]
  },
  {
   "cell_type": "code",
   "execution_count": 173,
   "id": "531532c8",
   "metadata": {},
   "outputs": [
    {
     "data": {
      "text/plain": [
       "<src.utill.WAgraph.WAgraph at 0x2b1fdb750>"
      ]
     },
     "execution_count": 173,
     "metadata": {},
     "output_type": "execute_result"
    }
   ],
   "source": [
    "ds.getWA()"
   ]
  },
  {
   "cell_type": "code",
   "execution_count": 174,
   "id": "bdc29827",
   "metadata": {},
   "outputs": [],
   "source": [
    "ds.generateData(lambda x: np.random.rand())"
   ]
  },
  {
   "cell_type": "code",
   "execution_count": 175,
   "id": "40f5ff88",
   "metadata": {},
   "outputs": [
    {
     "data": {
      "text/plain": [
       "array([[[6.19308599, 9.676685  , 6.67315119],\n",
       "        [5.09300776, 9.54586462, 6.3568389 ]],\n",
       "\n",
       "       [[5.38919112, 7.45415205, 5.63325872],\n",
       "        [5.31682989, 6.10664276, 5.38664944]],\n",
       "\n",
       "       [[4.49378209, 6.89280399, 4.33145023],\n",
       "        [4.00041544, 7.6830784 , 5.22637904]],\n",
       "\n",
       "       [[4.37258451, 4.874131  , 3.05829567],\n",
       "        [4.1480065 , 4.89110079, 2.61573823]],\n",
       "\n",
       "       [[3.25025432, 3.53964764, 2.41048022],\n",
       "        [3.66181414, 3.45657914, 2.21467271]],\n",
       "\n",
       "       [[1.74097841, 2.05275194, 1.33495097],\n",
       "        [3.20029217, 3.0310054 , 2.99239973]]])"
      ]
     },
     "execution_count": 175,
     "metadata": {},
     "output_type": "execute_result"
    }
   ],
   "source": [
    "ds.data"
   ]
  },
  {
   "cell_type": "code",
   "execution_count": 176,
   "id": "108cfa1e",
   "metadata": {},
   "outputs": [
    {
     "data": {
      "text/plain": [
       "tensor([[[1.0000, 0.3965],\n",
       "         [0.0000, 0.0000]],\n",
       "\n",
       "        [[0.0000, 0.5353],\n",
       "         [0.0000, 0.0000]],\n",
       "\n",
       "        [[0.0000, 0.0000],\n",
       "         [0.0000, 0.0000]],\n",
       "\n",
       "        [[0.0000, 0.0000],\n",
       "         [0.1274, 0.0000]]], dtype=torch.float64)"
      ]
     },
     "execution_count": 176,
     "metadata": {},
     "output_type": "execute_result"
    }
   ],
   "source": [
    "ds.WA.A"
   ]
  },
  {
   "cell_type": "code",
   "execution_count": 177,
   "id": "21f193cd",
   "metadata": {},
   "outputs": [
    {
     "data": {
      "text/plain": [
       "tensor([[1., 0.],\n",
       "        [3., 0.]])"
      ]
     },
     "execution_count": 177,
     "metadata": {},
     "output_type": "execute_result"
    }
   ],
   "source": [
    "ds.WA.W"
   ]
  },
  {
   "cell_type": "code",
   "execution_count": 178,
   "id": "4d16789e",
   "metadata": {},
   "outputs": [
    {
     "data": {
      "text/plain": [
       "array([[1., 0.],\n",
       "       [3., 0.]], dtype=float32)"
      ]
     },
     "execution_count": 178,
     "metadata": {},
     "output_type": "execute_result"
    }
   ],
   "source": [
    "ds.WA.getW()"
   ]
  },
  {
   "cell_type": "code",
   "execution_count": 179,
   "id": "ea6890ff",
   "metadata": {},
   "outputs": [
    {
     "name": "stdout",
     "output_type": "stream",
     "text": [
      "0\n",
      "1\n",
      "0\n"
     ]
    }
   ],
   "source": [
    "import math\n",
    "pos = np.random.randint(0, (2*2-2)//2)\n",
    "y = math.floor(.5*(np.sqrt(8*pos+9)))\n",
    "x = pos-(y*(y-1)//2)\n",
    "print(pos)\n",
    "print(y)\n",
    "print(x)"
   ]
  },
  {
   "cell_type": "code",
   "execution_count": 180,
   "id": "28e3295f",
   "metadata": {},
   "outputs": [
    {
     "data": {
      "text/plain": [
       "3.0"
      ]
     },
     "execution_count": 180,
     "metadata": {},
     "output_type": "execute_result"
    }
   ],
   "source": [
    "ds.WA.getW()[y][x]"
   ]
  },
  {
   "cell_type": "code",
   "execution_count": 181,
   "id": "2d2fb9e1",
   "metadata": {},
   "outputs": [
    {
     "name": "stdout",
     "output_type": "stream",
     "text": [
      "2 1\n"
     ]
    }
   ],
   "source": [
    "WA.generateW_B(1, \"ER\")\n",
    "WA.generateW()"
   ]
  },
  {
   "cell_type": "code",
   "execution_count": 182,
   "id": "bbc7cb81",
   "metadata": {},
   "outputs": [
    {
     "data": {
      "text/plain": [
       "array([[0.        , 0.        ],\n",
       "       [0.18188666, 0.        ]], dtype=float32)"
      ]
     },
     "execution_count": 182,
     "metadata": {},
     "output_type": "execute_result"
    }
   ],
   "source": [
    "WA.getW()"
   ]
  },
  {
   "cell_type": "code",
   "execution_count": 183,
   "id": "5d0104d2",
   "metadata": {},
   "outputs": [
    {
     "data": {
      "text/plain": [
       "array([[0, 0],\n",
       "       [1, 0]])"
      ]
     },
     "execution_count": 183,
     "metadata": {},
     "output_type": "execute_result"
    }
   ],
   "source": [
    "WA.getW_B()"
   ]
  },
  {
   "cell_type": "code",
   "execution_count": 184,
   "id": "25ca1a35",
   "metadata": {},
   "outputs": [],
   "source": [
    "nt = NOTEARS(window, variables)"
   ]
  },
  {
   "cell_type": "code",
   "execution_count": 185,
   "id": "fab6a831",
   "metadata": {},
   "outputs": [],
   "source": [
    "nt.set_learning_rate(1e-3)"
   ]
  },
  {
   "cell_type": "code",
   "execution_count": 186,
   "id": "0e1aab20",
   "metadata": {},
   "outputs": [
    {
     "data": {
      "text/plain": [
       "(tensor(222.6634, grad_fn=<AddBackward0>),\n",
       " {'likelyhood': tensor(222.6634, grad_fn=<DivBackward0>),\n",
       "  'sparcityW': tensor(0., grad_fn=<LinalgVectorNormBackward0>),\n",
       "  'sparcityA': tensor(0., grad_fn=<LinalgVectorNormBackward0>),\n",
       "  'acyclicity': tensor(0., grad_fn=<SubBackward0>)})"
      ]
     },
     "execution_count": 186,
     "metadata": {},
     "output_type": "execute_result"
    }
   ],
   "source": [
    "nt.run(ds.data)"
   ]
  },
  {
   "cell_type": "code",
   "execution_count": 187,
   "id": "2d0b5a3b",
   "metadata": {},
   "outputs": [
    {
     "name": "stderr",
     "output_type": "stream",
     "text": [
      "/Users/tylergibbs/dsc180/src/model/model.py:60: UserWarning: To copy construct from a tensor, it is recommended to use sourceTensor.clone().detach() or sourceTensor.clone().detach().requires_grad_(True), rather than torch.tensor(sourceTensor).\n",
      "  X = torch.tensor(X, dtype=torch.float32)\n"
     ]
    },
    {
     "data": {
      "text/plain": [
       "(tensor(222.6634, grad_fn=<AddBackward0>),\n",
       " {'likelyhood': tensor(222.6634, grad_fn=<DivBackward0>),\n",
       "  'sparcityW': tensor(0., grad_fn=<LinalgVectorNormBackward0>),\n",
       "  'sparcityA': tensor(0., grad_fn=<LinalgVectorNormBackward0>),\n",
       "  'acyclicity': tensor(0., grad_fn=<SubBackward0>)})"
      ]
     },
     "execution_count": 187,
     "metadata": {},
     "output_type": "execute_result"
    }
   ],
   "source": [
    "nt.update(ds.data)"
   ]
  },
  {
   "cell_type": "code",
   "execution_count": 188,
   "id": "0bb95bc4",
   "metadata": {},
   "outputs": [
    {
     "data": {
      "text/plain": [
       "tensor([[-235.3647, -221.7785],\n",
       "        [-221.7785, -209.9622]])"
      ]
     },
     "execution_count": 188,
     "metadata": {},
     "output_type": "execute_result"
    }
   ],
   "source": [
    "nt.WA.W.grad"
   ]
  },
  {
   "cell_type": "code",
   "execution_count": 333,
   "id": "82039a27",
   "metadata": {},
   "outputs": [
    {
     "name": "stdout",
     "output_type": "stream",
     "text": [
      "3 1\n"
     ]
    }
   ],
   "source": [
    "observations = 10000\n",
    "variables = 3\n",
    "times = 2\n",
    "window = 1\n",
    "\n",
    "WA = WAgraph(window, variables)\n",
    "WA.generateW_B(1, 'ER')\n",
    "WA.generateW(lambda: np.random.rand()+.5)\n",
    "WA.generateA_B(2, 'ER')\n",
    "WA.generateA(lambda: np.random.rand()+.5)\n",
    "\n",
    "cons = Constraint([], [], window, variables)\n",
    "ds = Dataset(observations, variables, variables, times, window, WA, cons)\n",
    "ds.generateData(lambda x: np.random.rand())\n",
    "tr = Trainer(.1)"
   ]
  },
  {
   "cell_type": "code",
   "execution_count": 334,
   "id": "810aa180",
   "metadata": {},
   "outputs": [
    {
     "data": {
      "text/plain": [
       "tensor([[0.0000, 0.0000, 0.0000],\n",
       "        [0.5052, 0.0000, 0.0000],\n",
       "        [0.0000, 1.2609, 0.0000]])"
      ]
     },
     "execution_count": 334,
     "metadata": {},
     "output_type": "execute_result"
    }
   ],
   "source": [
    "WA.W"
   ]
  },
  {
   "cell_type": "code",
   "execution_count": 328,
   "id": "f8d7eadd",
   "metadata": {},
   "outputs": [
    {
     "name": "stdout",
     "output_type": "stream",
     "text": [
      "3 1\n",
      "TRAINING: [Iter 0] score 3.164108991622925, likelyhood 3.164108991622925, sparcityW 0.0, sparcityA 0.0, acyclicity 0.0\n",
      "(0, 'VALIDATION: [Iter 0] score 3.164108991622925, likelyhood 3.164108991622925, sparcityW 0.0, sparcityA 0.0, acyclicity 0.0')\n",
      "TRAINING: [Iter 1000] score 0.5542342066764832, likelyhood 0.389293372631073, sparcityW 2.1675057411193848, sparcityA 1.1027010679244995, acyclicity 1.430511474609375e-05\n",
      "(1000, 'VALIDATION: [Iter 1000] score 0.5543432235717773, likelyhood 0.389293372631073, sparcityW 2.1675057411193848, sparcityA 1.1027010679244995, acyclicity 1.430511474609375e-05')\n",
      "TRAINING: [Iter 2000] score 0.5548948645591736, likelyhood 0.3904722332954407, sparcityW 2.1309211254119873, sparcityA 1.1293987035751343, acyclicity 1.4066696166992188e-05\n",
      "(2000, 'VALIDATION: [Iter 2000] score 0.5544917583465576, likelyhood 0.3904722332954407, sparcityW 2.1309211254119873, sparcityA 1.1293987035751343, acyclicity 1.4066696166992188e-05')\n",
      "TRAINING: [Iter 3000] score 0.5584366917610168, likelyhood 0.38704708218574524, sparcityW 2.164276599884033, sparcityA 1.1257097721099854, acyclicity 6.890296936035156e-05\n",
      "(3000, 'VALIDATION: [Iter 3000] score 0.5587796568870544, likelyhood 0.38704708218574524, sparcityW 2.164276599884033, sparcityA 1.1257097721099854, acyclicity 6.890296936035156e-05')\n",
      "TRAINING: [Iter 4000] score 0.5547258853912354, likelyhood 0.39000317454338074, sparcityW 2.1389989852905273, sparcityA 1.099665641784668, acyclicity 2.7894973754882812e-05\n",
      "(4000, 'VALIDATION: [Iter 4000] score 0.5545881986618042, likelyhood 0.39000317454338074, sparcityW 2.1389989852905273, sparcityA 1.099665641784668, acyclicity 2.7894973754882812e-05')\n",
      "TRAINING: [Iter 5000] score 0.5567185282707214, likelyhood 0.3925755023956299, sparcityW 2.1285934448242188, sparcityA 1.0875102281570435, acyclicity 3.337860107421875e-05\n",
      "(5000, 'VALIDATION: [Iter 5000] score 0.5565914511680603, likelyhood 0.3925755023956299, sparcityW 2.1285934448242188, sparcityA 1.0875102281570435, acyclicity 3.337860107421875e-05')\n",
      "TRAINING: [Iter 6000] score 0.5603652000427246, likelyhood 0.3935636281967163, sparcityW 2.1325600147247314, sparcityA 1.1052426099777222, acyclicity 4.9114227294921875e-05\n",
      "(6000, 'VALIDATION: [Iter 6000] score 0.5595535635948181, likelyhood 0.3935636281967163, sparcityW 2.1325600147247314, sparcityA 1.1052426099777222, acyclicity 4.9114227294921875e-05')\n",
      "TRAINING: [Iter 7000] score 0.5580577254295349, likelyhood 0.39160850644111633, sparcityW 2.1549997329711914, sparcityA 1.116763949394226, acyclicity 2.86102294921875e-05\n",
      "(7000, 'VALIDATION: [Iter 7000] score 0.5579336285591125, likelyhood 0.39160850644111633, sparcityW 2.1549997329711914, sparcityA 1.116763949394226, acyclicity 2.86102294921875e-05')\n",
      "TRAINING: [Iter 8000] score 0.5592525005340576, likelyhood 0.3957379162311554, sparcityW 2.1119420528411865, sparcityA 1.0849164724349976, acyclicity 3.6716461181640625e-05\n",
      "(8000, 'VALIDATION: [Iter 8000] score 0.5583136677742004, likelyhood 0.3957379162311554, sparcityW 2.1119420528411865, sparcityA 1.0849164724349976, acyclicity 3.6716461181640625e-05')\n",
      "TRAINING: [Iter 9000] score 0.5584474802017212, likelyhood 0.39028823375701904, sparcityW 2.1568808555603027, sparcityA 1.1137977838516235, acyclicity 4.6253204345703125e-05\n",
      "(9000, 'VALIDATION: [Iter 9000] score 0.5562394857406616, likelyhood 0.39028823375701904, sparcityW 2.1568808555603027, sparcityA 1.1137977838516235, acyclicity 4.6253204345703125e-05')\n",
      "TRAINING: [Iter 10000] score 0.5572215914726257, likelyhood 0.38844484090805054, sparcityW 2.1670920848846436, sparcityA 1.140731930732727, acyclicity 3.3855438232421875e-05\n",
      "(10000, 'VALIDATION: [Iter 10000] score 0.5566315650939941, likelyhood 0.38844484090805054, sparcityW 2.1670920848846436, sparcityA 1.140731930732727, acyclicity 3.3855438232421875e-05')\n"
     ]
    }
   ],
   "source": [
    "nt = NOTEARS(window, variables, .05, .05, 100)\n",
    "\n",
    "tr.train(nt, ds.data, ds.data, 10000, 0, 1000)"
   ]
  },
  {
   "cell_type": "code",
   "execution_count": 329,
   "id": "b7e767c1",
   "metadata": {},
   "outputs": [
    {
     "data": {
      "text/plain": [
       "array([[ 0.  ,  0.  ,  0.01],\n",
       "       [ 1.29, -0.  ,  0.5 ],\n",
       "       [ 0.33,  0.01,  0.  ]], dtype=float32)"
      ]
     },
     "execution_count": 329,
     "metadata": {},
     "output_type": "execute_result"
    }
   ],
   "source": [
    "nt.WA.getW().round(2)"
   ]
  },
  {
   "cell_type": "code",
   "execution_count": 330,
   "id": "a2336275",
   "metadata": {},
   "outputs": [
    {
     "data": {
      "text/plain": [
       "array([[0.       , 0.       , 0.       ],\n",
       "       [1.4283786, 0.       , 0.       ],\n",
       "       [0.       , 0.9306136, 0.       ]], dtype=float32)"
      ]
     },
     "execution_count": 330,
     "metadata": {},
     "output_type": "execute_result"
    }
   ],
   "source": [
    "ds.WA.getW()"
   ]
  },
  {
   "cell_type": "code",
   "execution_count": 331,
   "id": "fd7921bd",
   "metadata": {},
   "outputs": [
    {
     "data": {
      "text/plain": [
       "array([[[-0. , -0. ,  0. ],\n",
       "        [ 0.2,  0. ,  0.3],\n",
       "        [ 0.2,  0. ,  0.3]]], dtype=float32)"
      ]
     },
     "execution_count": 331,
     "metadata": {},
     "output_type": "execute_result"
    }
   ],
   "source": [
    "nt.WA.getA().round(1)"
   ]
  },
  {
   "cell_type": "code",
   "execution_count": 332,
   "id": "86bc1dce",
   "metadata": {},
   "outputs": [
    {
     "data": {
      "text/plain": [
       "array([[[0., 0., 0.],\n",
       "        [0., 0., 0.],\n",
       "        [0., 0., 0.]]])"
      ]
     },
     "execution_count": 332,
     "metadata": {},
     "output_type": "execute_result"
    }
   ],
   "source": [
    "ds.WA.getA().round(1)"
   ]
  },
  {
   "cell_type": "code",
   "execution_count": 307,
   "id": "b18e3cda",
   "metadata": {},
   "outputs": [
    {
     "name": "stdout",
     "output_type": "stream",
     "text": [
      "3 1\n"
     ]
    }
   ],
   "source": []
  },
  {
   "cell_type": "code",
   "execution_count": 301,
   "id": "6bd5d319",
   "metadata": {},
   "outputs": [
    {
     "data": {
      "text/plain": [
       "array([[0.  , 0.  , 0.  , 0.  ],\n",
       "       [2.85, 0.  , 0.  , 0.  ],\n",
       "       [2.63, 0.  , 0.  , 0.  ],\n",
       "       [0.  , 2.16, 0.  , 0.  ]], dtype=float32)"
      ]
     },
     "execution_count": 301,
     "metadata": {},
     "output_type": "execute_result"
    }
   ],
   "source": [
    "WA.getW().round(2)"
   ]
  },
  {
   "cell_type": "code",
   "execution_count": 287,
   "id": "0aad3245",
   "metadata": {},
   "outputs": [
    {
     "data": {
      "text/plain": [
       "array([[[0. , 0. , 0. , 0. ],\n",
       "        [0. , 0. , 0. , 0. ],\n",
       "        [0. , 1.6, 0. , 0. ],\n",
       "        [0. , 0. , 0. , 0. ]],\n",
       "\n",
       "       [[0. , 0. , 0. , 0. ],\n",
       "        [0. , 0. , 0. , 0. ],\n",
       "        [0. , 0. , 0. , 0. ],\n",
       "        [0. , 0. , 0. , 1.8]]])"
      ]
     },
     "execution_count": 287,
     "metadata": {},
     "output_type": "execute_result"
    }
   ],
   "source": [
    "WA.getA().round(1)"
   ]
  },
  {
   "cell_type": "code",
   "execution_count": 336,
   "id": "0195a197",
   "metadata": {},
   "outputs": [
    {
     "name": "stdout",
     "output_type": "stream",
     "text": [
      "TRAINING: [Iter 0] score -57.22974395751953, likelyhood 12.084976196289062, sparcityW 0.0, sparcityA 0.0, acyclicity -0.6931471824645996\n",
      "(0, 'VALIDATION: [Iter 0] score -57.22974395751953, likelyhood 12.084976196289062, sparcityW 0.0, sparcityA 0.0, acyclicity -0.6931471824645996')\n",
      "TRAINING: [Iter 1000] score -68.71855163574219, likelyhood 0.34593531489372253, sparcityW 1.3304551839828491, sparcityA 3.6040589809417725, acyclicity -0.6931121349334717\n",
      "(1000, 'VALIDATION: [Iter 1000] score -68.71966552734375, likelyhood 0.34593531489372253, sparcityW 1.3304551839828491, sparcityA 3.6040589809417725, acyclicity -0.6931121349334717')\n",
      "TRAINING: [Iter 2000] score -68.71419525146484, likelyhood 0.35258030891418457, sparcityW 1.3109709024429321, sparcityA 3.6076130867004395, acyclicity -0.6931270360946655\n",
      "(2000, 'VALIDATION: [Iter 2000] score -68.7137451171875, likelyhood 0.35258030891418457, sparcityW 1.3109709024429321, sparcityA 3.6076130867004395, acyclicity -0.6931270360946655')\n",
      "TRAINING: [Iter 3000] score -68.71793365478516, likelyhood 0.34446659684181213, sparcityW 1.3296269178390503, sparcityA 3.5906600952148438, acyclicity -0.693084180355072\n",
      "(3000, 'VALIDATION: [Iter 3000] score -68.71919250488281, likelyhood 0.34446659684181213, sparcityW 1.3296269178390503, sparcityA 3.5906600952148438, acyclicity -0.693084180355072')\n",
      "TRAINING: [Iter 4000] score -68.71855163574219, likelyhood 0.3464207649230957, sparcityW 1.3458245992660522, sparcityA 3.607285499572754, acyclicity -0.6931263208389282\n",
      "(4000, 'VALIDATION: [Iter 4000] score -68.71751403808594, likelyhood 0.3464207649230957, sparcityW 1.3458245992660522, sparcityA 3.607285499572754, acyclicity -0.6931263208389282')\n",
      "TRAINING: [Iter 5000] score -68.71728515625, likelyhood 0.3488771617412567, sparcityW 1.3258594274520874, sparcityA 3.6001250743865967, acyclicity -0.6931246519088745\n",
      "(5000, 'VALIDATION: [Iter 5000] score -68.71739959716797, likelyhood 0.3488771617412567, sparcityW 1.3258594274520874, sparcityA 3.6001250743865967, acyclicity -0.6931246519088745')\n",
      "TRAINING: [Iter 6000] score -68.71453857421875, likelyhood 0.3532586395740509, sparcityW 1.3139592409133911, sparcityA 3.576638698577881, acyclicity -0.6931232213973999\n",
      "(6000, 'VALIDATION: [Iter 6000] score -68.7144775390625, likelyhood 0.3532586395740509, sparcityW 1.3139592409133911, sparcityA 3.576638698577881, acyclicity -0.6931232213973999')\n",
      "TRAINING: [Iter 7000] score -68.71839904785156, likelyhood 0.34782907366752625, sparcityW 1.3296436071395874, sparcityA 3.578885555267334, acyclicity -0.6931165456771851\n",
      "(7000, 'VALIDATION: [Iter 7000] score -68.71733093261719, likelyhood 0.34782907366752625, sparcityW 1.3296436071395874, sparcityA 3.578885555267334, acyclicity -0.6931165456771851')\n",
      "TRAINING: [Iter 8000] score -68.71192169189453, likelyhood 0.3533756136894226, sparcityW 1.3385287523269653, sparcityA 3.5844221115112305, acyclicity -0.6931144595146179\n",
      "(8000, 'VALIDATION: [Iter 8000] score -68.70912170410156, likelyhood 0.3533756136894226, sparcityW 1.3385287523269653, sparcityA 3.5844221115112305, acyclicity -0.6931144595146179')\n",
      "TRAINING: [Iter 9000] score -68.71805572509766, likelyhood 0.3477106988430023, sparcityW 1.3346779346466064, sparcityA 3.596662998199463, acyclicity -0.6931233406066895\n",
      "(9000, 'VALIDATION: [Iter 9000] score -68.71741485595703, likelyhood 0.3477106988430023, sparcityW 1.3346779346466064, sparcityA 3.596662998199463, acyclicity -0.6931233406066895')\n",
      "TRAINING: [Iter 10000] score -68.71807098388672, likelyhood 0.34579548239707947, sparcityW 1.346331238746643, sparcityA 3.5941390991210938, acyclicity -0.6931089162826538\n",
      "(10000, 'VALIDATION: [Iter 10000] score -68.7183609008789, likelyhood 0.34579548239707947, sparcityW 1.346331238746643, sparcityA 3.5941390991210938, acyclicity -0.6931089162826538')\n"
     ]
    }
   ],
   "source": [
    "nt = DAGMA(window, variables, .05, .05, 100)\n",
    "\n",
    "tr.train(nt, ds.data, ds.data, 10000, 0, 1000)"
   ]
  },
  {
   "cell_type": "code",
   "execution_count": 337,
   "id": "7d700137",
   "metadata": {},
   "outputs": [
    {
     "data": {
      "text/plain": [
       "array([[0.01, 0.  , 0.  ],\n",
       "       [0.5 , 0.  , 0.  ],\n",
       "       [0.  , 0.8 , 0.  ]], dtype=float32)"
      ]
     },
     "execution_count": 337,
     "metadata": {},
     "output_type": "execute_result"
    }
   ],
   "source": [
    "nt.WA.getW().round(2)"
   ]
  },
  {
   "cell_type": "code",
   "execution_count": 338,
   "id": "aec48a0c",
   "metadata": {},
   "outputs": [
    {
     "data": {
      "text/plain": [
       "array([[0.  , 0.  , 0.  ],\n",
       "       [0.51, 0.  , 0.  ],\n",
       "       [0.  , 1.26, 0.  ]], dtype=float32)"
      ]
     },
     "execution_count": 338,
     "metadata": {},
     "output_type": "execute_result"
    }
   ],
   "source": [
    "ds.WA.getW().round(2)"
   ]
  },
  {
   "cell_type": "code",
   "execution_count": 339,
   "id": "fce4b63e",
   "metadata": {},
   "outputs": [
    {
     "data": {
      "text/plain": [
       "array([[[ 0. ,  0. ,  1.2],\n",
       "        [ 0.1,  0.1,  0. ],\n",
       "        [ 0.1,  1.3, -0.7]]], dtype=float32)"
      ]
     },
     "execution_count": 339,
     "metadata": {},
     "output_type": "execute_result"
    }
   ],
   "source": [
    "nt.WA.getA().round(1)"
   ]
  },
  {
   "cell_type": "code",
   "execution_count": 340,
   "id": "f2d3391b",
   "metadata": {},
   "outputs": [
    {
     "data": {
      "text/plain": [
       "array([[[0. , 0. , 1.3],\n",
       "        [0. , 0. , 0. ],\n",
       "        [0. , 1.2, 0. ]]])"
      ]
     },
     "execution_count": 340,
     "metadata": {},
     "output_type": "execute_result"
    }
   ],
   "source": [
    "ds.WA.getA().round(1)"
   ]
  },
  {
   "cell_type": "code",
   "execution_count": null,
   "id": "2aec2320",
   "metadata": {},
   "outputs": [],
   "source": []
  }
 ],
 "metadata": {
  "kernelspec": {
   "display_name": "Python 3 (ipykernel)",
   "language": "python",
   "name": "python3"
  },
  "language_info": {
   "codemirror_mode": {
    "name": "ipython",
    "version": 3
   },
   "file_extension": ".py",
   "mimetype": "text/x-python",
   "name": "python",
   "nbconvert_exporter": "python",
   "pygments_lexer": "ipython3",
   "version": "3.11.1"
  }
 },
 "nbformat": 4,
 "nbformat_minor": 5
}
