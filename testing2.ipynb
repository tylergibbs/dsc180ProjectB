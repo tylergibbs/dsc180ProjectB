{
 "cells": [
  {
   "cell_type": "code",
   "execution_count": 1,
   "id": "28359e2e",
   "metadata": {},
   "outputs": [],
   "source": [
    "from src.data.dataset import Dataset\n",
    "from src.utill.constraint import Constraint\n",
    "from src.utill.WAgraph import WAgraph\n",
    "from src.model.NOTEARS import NOTEARS\n",
    "from src.trainer.trainer import Trainer\n",
    "import numpy as np"
   ]
  },
  {
   "cell_type": "code",
   "execution_count": 2,
   "id": "e07a849c",
   "metadata": {},
   "outputs": [],
   "source": [
    "observations = 3\n",
    "variables = 2\n",
    "times = 6\n",
    "window = 4"
   ]
  },
  {
   "cell_type": "code",
   "execution_count": 3,
   "id": "588f0a30",
   "metadata": {},
   "outputs": [],
   "source": [
    "cons = Constraint([], [], window, variables)"
   ]
  },
  {
   "cell_type": "code",
   "execution_count": 4,
   "id": "0eae0c46",
   "metadata": {},
   "outputs": [
    {
     "data": {
      "text/plain": [
       "array([], shape=(1, 0), dtype=float64)"
      ]
     },
     "execution_count": 4,
     "metadata": {},
     "output_type": "execute_result"
    }
   ],
   "source": [
    "W = np.array([[]])\n",
    "cons.constrainW(W)\n",
    "W"
   ]
  },
  {
   "cell_type": "code",
   "execution_count": 5,
   "id": "129c59c7",
   "metadata": {},
   "outputs": [],
   "source": [
    "cons = Constraint([[0,0,1], [1,0,3]], [[0,0,0,1]], window, variables)"
   ]
  },
  {
   "cell_type": "code",
   "execution_count": 6,
   "id": "2ad3b1a6",
   "metadata": {},
   "outputs": [
    {
     "data": {
      "text/plain": [
       "array([[1, 2],\n",
       "       [3, 2]])"
      ]
     },
     "execution_count": 6,
     "metadata": {},
     "output_type": "execute_result"
    }
   ],
   "source": [
    "W = np.array([[2, 2],[2, 2]])\n",
    "cons.constrainW(W)\n",
    "W"
   ]
  },
  {
   "cell_type": "code",
   "execution_count": 7,
   "id": "084c3292",
   "metadata": {},
   "outputs": [
    {
     "data": {
      "text/plain": [
       "array([[[1],\n",
       "        [2]],\n",
       "\n",
       "       [[2],\n",
       "        [2]]])"
      ]
     },
     "execution_count": 7,
     "metadata": {},
     "output_type": "execute_result"
    }
   ],
   "source": [
    "A = np.array([[[2], [2]],[[2], [2]]])\n",
    "cons.constrainA(A)\n",
    "A"
   ]
  },
  {
   "cell_type": "code",
   "execution_count": 8,
   "id": "a29dc8dd",
   "metadata": {},
   "outputs": [
    {
     "data": {
      "text/plain": [
       "True"
      ]
     },
     "execution_count": 8,
     "metadata": {},
     "output_type": "execute_result"
    }
   ],
   "source": [
    "cons.validate(window, variables)"
   ]
  },
  {
   "cell_type": "code",
   "execution_count": null,
   "id": "84660606",
   "metadata": {},
   "outputs": [],
   "source": []
  },
  {
   "cell_type": "code",
   "execution_count": 9,
   "id": "ee3743cb",
   "metadata": {},
   "outputs": [],
   "source": [
    "WA = WAgraph(window, variables)"
   ]
  },
  {
   "cell_type": "code",
   "execution_count": 10,
   "id": "226290b9",
   "metadata": {},
   "outputs": [
    {
     "data": {
      "text/plain": [
       "4"
      ]
     },
     "execution_count": 10,
     "metadata": {},
     "output_type": "execute_result"
    }
   ],
   "source": [
    "WA.getWindow()"
   ]
  },
  {
   "cell_type": "code",
   "execution_count": 11,
   "id": "93ecda5b",
   "metadata": {},
   "outputs": [
    {
     "data": {
      "text/plain": [
       "2"
      ]
     },
     "execution_count": 11,
     "metadata": {},
     "output_type": "execute_result"
    }
   ],
   "source": [
    "WA.getV()"
   ]
  },
  {
   "cell_type": "code",
   "execution_count": 12,
   "id": "bcc1cf24",
   "metadata": {},
   "outputs": [
    {
     "data": {
      "text/plain": [
       "2"
      ]
     },
     "execution_count": 12,
     "metadata": {},
     "output_type": "execute_result"
    }
   ],
   "source": [
    "WA.getVA()"
   ]
  },
  {
   "cell_type": "code",
   "execution_count": 13,
   "id": "5219b177",
   "metadata": {},
   "outputs": [
    {
     "data": {
      "text/plain": [
       "array([[2, 2],\n",
       "       [2, 2]])"
      ]
     },
     "execution_count": 13,
     "metadata": {},
     "output_type": "execute_result"
    }
   ],
   "source": [
    "WA.setW([[2,2],[2,2]])\n",
    "WA.getW()"
   ]
  },
  {
   "cell_type": "code",
   "execution_count": 14,
   "id": "1b600b77",
   "metadata": {},
   "outputs": [
    {
     "data": {
      "text/plain": [
       "array([[[2, 2],\n",
       "        [2, 2]],\n",
       "\n",
       "       [[2, 2],\n",
       "        [2, 2]],\n",
       "\n",
       "       [[2, 2],\n",
       "        [2, 2]],\n",
       "\n",
       "       [[2, 2],\n",
       "        [2, 2]]])"
      ]
     },
     "execution_count": 14,
     "metadata": {},
     "output_type": "execute_result"
    }
   ],
   "source": [
    "WA.setA([[[2,2],[2,2]],[[2,2],[2,2]],[[2,2],[2,2]],[[2,2],[2,2]]])\n",
    "WA.getA()"
   ]
  },
  {
   "cell_type": "code",
   "execution_count": 15,
   "id": "7b02b194",
   "metadata": {},
   "outputs": [],
   "source": [
    "WA.generateW()"
   ]
  },
  {
   "cell_type": "code",
   "execution_count": 16,
   "id": "4401321a",
   "metadata": {},
   "outputs": [
    {
     "data": {
      "text/plain": [
       "array([[0.25099343, 0.94120467],\n",
       "       [0.32823697, 0.11051276]], dtype=float32)"
      ]
     },
     "execution_count": 16,
     "metadata": {},
     "output_type": "execute_result"
    }
   ],
   "source": [
    "WA.getW()"
   ]
  },
  {
   "cell_type": "code",
   "execution_count": 17,
   "id": "b6b31a58",
   "metadata": {},
   "outputs": [
    {
     "name": "stdout",
     "output_type": "stream",
     "text": [
      "2 1\n"
     ]
    }
   ],
   "source": [
    "WA.generateW_B(1, 'ER')"
   ]
  },
  {
   "cell_type": "code",
   "execution_count": 18,
   "id": "6d2408e6",
   "metadata": {},
   "outputs": [
    {
     "data": {
      "text/plain": [
       "tensor([[0, 0],\n",
       "        [1, 0]])"
      ]
     },
     "execution_count": 18,
     "metadata": {},
     "output_type": "execute_result"
    }
   ],
   "source": [
    "WA.W_B"
   ]
  },
  {
   "cell_type": "code",
   "execution_count": 19,
   "id": "fff05506",
   "metadata": {},
   "outputs": [
    {
     "data": {
      "text/plain": [
       "array([[0.        , 0.        ],\n",
       "       [0.80591315, 0.        ]], dtype=float32)"
      ]
     },
     "execution_count": 19,
     "metadata": {},
     "output_type": "execute_result"
    }
   ],
   "source": [
    "WA.generateW()\n",
    "WA.getW()"
   ]
  },
  {
   "cell_type": "code",
   "execution_count": 20,
   "id": "34157999",
   "metadata": {},
   "outputs": [
    {
     "data": {
      "text/plain": [
       "array([[[2, 2],\n",
       "        [2, 2]],\n",
       "\n",
       "       [[2, 2],\n",
       "        [2, 2]],\n",
       "\n",
       "       [[2, 2],\n",
       "        [2, 2]],\n",
       "\n",
       "       [[2, 2],\n",
       "        [2, 2]]])"
      ]
     },
     "execution_count": 20,
     "metadata": {},
     "output_type": "execute_result"
    }
   ],
   "source": [
    "WA.getA()"
   ]
  },
  {
   "cell_type": "code",
   "execution_count": 21,
   "id": "9bc03366",
   "metadata": {},
   "outputs": [
    {
     "data": {
      "text/plain": [
       "tensor([[[1, 1],\n",
       "         [1, 1]],\n",
       "\n",
       "        [[1, 1],\n",
       "         [1, 1]],\n",
       "\n",
       "        [[1, 1],\n",
       "         [1, 1]],\n",
       "\n",
       "        [[1, 1],\n",
       "         [1, 1]]], dtype=torch.int32)"
      ]
     },
     "execution_count": 21,
     "metadata": {},
     "output_type": "execute_result"
    }
   ],
   "source": [
    "WA.A_B"
   ]
  },
  {
   "cell_type": "code",
   "execution_count": 22,
   "id": "e49cba9a",
   "metadata": {},
   "outputs": [
    {
     "data": {
      "text/plain": [
       "array([[[0.78658587, 0.2954582 ],\n",
       "        [0.51598495, 0.18044259]],\n",
       "\n",
       "       [[0.3299557 , 0.10373474],\n",
       "        [0.37742004, 0.12933609]],\n",
       "\n",
       "       [[0.6958986 , 0.83042663],\n",
       "        [0.32942367, 0.60888517]],\n",
       "\n",
       "       [[0.22294591, 0.45579883],\n",
       "        [0.89648384, 0.41957185]]], dtype=float32)"
      ]
     },
     "execution_count": 22,
     "metadata": {},
     "output_type": "execute_result"
    }
   ],
   "source": [
    "WA.generateA()\n",
    "WA.getA()"
   ]
  },
  {
   "cell_type": "code",
   "execution_count": 23,
   "id": "e92be952",
   "metadata": {},
   "outputs": [],
   "source": [
    "WA.generateA_B(3, 'ER')"
   ]
  },
  {
   "cell_type": "code",
   "execution_count": 24,
   "id": "7e8fb714",
   "metadata": {},
   "outputs": [
    {
     "data": {
      "text/plain": [
       "tensor([[[0., 0.],\n",
       "         [0., 0.]],\n",
       "\n",
       "        [[0., 1.],\n",
       "         [0., 0.]],\n",
       "\n",
       "        [[0., 0.],\n",
       "         [0., 0.]],\n",
       "\n",
       "        [[0., 1.],\n",
       "         [0., 0.]]], dtype=torch.float64)"
      ]
     },
     "execution_count": 24,
     "metadata": {},
     "output_type": "execute_result"
    }
   ],
   "source": [
    "WA.A_B"
   ]
  },
  {
   "cell_type": "code",
   "execution_count": 25,
   "id": "d38fcea4",
   "metadata": {},
   "outputs": [
    {
     "data": {
      "text/plain": [
       "array([[[0.        , 0.        ],\n",
       "        [0.        , 0.        ]],\n",
       "\n",
       "       [[0.        , 0.13176513],\n",
       "        [0.        , 0.        ]],\n",
       "\n",
       "       [[0.        , 0.        ],\n",
       "        [0.        , 0.        ]],\n",
       "\n",
       "       [[0.        , 0.74202824],\n",
       "        [0.        , 0.        ]]])"
      ]
     },
     "execution_count": 25,
     "metadata": {},
     "output_type": "execute_result"
    }
   ],
   "source": [
    "WA.generateA()\n",
    "WA.getA()"
   ]
  },
  {
   "cell_type": "code",
   "execution_count": 26,
   "id": "f54df669",
   "metadata": {},
   "outputs": [
    {
     "data": {
      "text/plain": [
       "array([[[0.        , 0.        ],\n",
       "        [0.        , 0.        ]],\n",
       "\n",
       "       [[0.        , 0.13176513],\n",
       "        [0.        , 0.        ]],\n",
       "\n",
       "       [[0.        , 0.        ],\n",
       "        [0.        , 0.        ]],\n",
       "\n",
       "       [[0.        , 0.74202824],\n",
       "        [0.        , 0.        ]]])"
      ]
     },
     "execution_count": 26,
     "metadata": {},
     "output_type": "execute_result"
    }
   ],
   "source": [
    "WA.getA()"
   ]
  },
  {
   "cell_type": "code",
   "execution_count": null,
   "id": "fe4da487",
   "metadata": {},
   "outputs": [],
   "source": []
  },
  {
   "cell_type": "code",
   "execution_count": 27,
   "id": "175aa893",
   "metadata": {},
   "outputs": [
    {
     "data": {
      "text/plain": [
       "array([[0.        , 0.        ],\n",
       "       [0.80591315, 0.        ]], dtype=float32)"
      ]
     },
     "execution_count": 27,
     "metadata": {},
     "output_type": "execute_result"
    }
   ],
   "source": [
    "WA.getW()"
   ]
  },
  {
   "cell_type": "code",
   "execution_count": 28,
   "id": "e867ccca",
   "metadata": {},
   "outputs": [
    {
     "data": {
      "text/plain": [
       "array([[[0.        , 0.        ],\n",
       "        [0.        , 0.        ]],\n",
       "\n",
       "       [[0.        , 0.13176513],\n",
       "        [0.        , 0.        ]],\n",
       "\n",
       "       [[0.        , 0.        ],\n",
       "        [0.        , 0.        ]],\n",
       "\n",
       "       [[0.        , 0.74202824],\n",
       "        [0.        , 0.        ]]])"
      ]
     },
     "execution_count": 28,
     "metadata": {},
     "output_type": "execute_result"
    }
   ],
   "source": [
    "WA.getA()"
   ]
  },
  {
   "cell_type": "code",
   "execution_count": 29,
   "id": "cf89e797",
   "metadata": {
    "scrolled": true
   },
   "outputs": [
    {
     "data": {
      "text/plain": [
       "tensor([[0, 0],\n",
       "        [1, 0]])"
      ]
     },
     "execution_count": 29,
     "metadata": {},
     "output_type": "execute_result"
    }
   ],
   "source": [
    "WA.W_B"
   ]
  },
  {
   "cell_type": "code",
   "execution_count": 30,
   "id": "ae7f0359",
   "metadata": {},
   "outputs": [
    {
     "data": {
      "text/plain": [
       "tensor([[[0, 0],\n",
       "         [0, 0]],\n",
       "\n",
       "        [[0, 1],\n",
       "         [0, 0]],\n",
       "\n",
       "        [[0, 0],\n",
       "         [0, 0]],\n",
       "\n",
       "        [[0, 1],\n",
       "         [0, 0]]], dtype=torch.int32)"
      ]
     },
     "execution_count": 30,
     "metadata": {},
     "output_type": "execute_result"
    }
   ],
   "source": [
    "WA.A_B"
   ]
  },
  {
   "cell_type": "code",
   "execution_count": 31,
   "id": "e97a3610",
   "metadata": {},
   "outputs": [],
   "source": [
    "from src.data.dataset import Dataset"
   ]
  },
  {
   "cell_type": "code",
   "execution_count": 32,
   "id": "56f9dffe",
   "metadata": {},
   "outputs": [],
   "source": [
    "ds = Dataset(observations, variables, variables, times, window, WA, cons)"
   ]
  },
  {
   "cell_type": "code",
   "execution_count": 33,
   "id": "2ade185d",
   "metadata": {},
   "outputs": [],
   "source": [
    "dataex = np.array([[[1,2,3],[4,5,6]],[[1,2,3],[4,5,6]],[[1,2,3],[4,5,6]],[[1,2,3],[4,5,6]],[[1,2,3],[4,5,6]],[[1,2,3],[4,5,6]]])\n",
    "\n",
    "ds.setData(dataex)"
   ]
  },
  {
   "cell_type": "code",
   "execution_count": 34,
   "id": "7a90a1db",
   "metadata": {},
   "outputs": [
    {
     "data": {
      "text/plain": [
       "array([[[1, 2, 3],\n",
       "        [4, 5, 6]],\n",
       "\n",
       "       [[1, 2, 3],\n",
       "        [4, 5, 6]],\n",
       "\n",
       "       [[1, 2, 3],\n",
       "        [4, 5, 6]],\n",
       "\n",
       "       [[1, 2, 3],\n",
       "        [4, 5, 6]],\n",
       "\n",
       "       [[1, 2, 3],\n",
       "        [4, 5, 6]],\n",
       "\n",
       "       [[1, 2, 3],\n",
       "        [4, 5, 6]]])"
      ]
     },
     "execution_count": 34,
     "metadata": {},
     "output_type": "execute_result"
    }
   ],
   "source": [
    "ds.getData()"
   ]
  },
  {
   "cell_type": "code",
   "execution_count": 35,
   "id": "df7ffd10",
   "metadata": {},
   "outputs": [
    {
     "data": {
      "text/plain": [
       "array([[[1, 2, 3],\n",
       "        [4, 5, 6]],\n",
       "\n",
       "       [[1, 2, 3],\n",
       "        [4, 5, 6]],\n",
       "\n",
       "       [[1, 2, 3],\n",
       "        [4, 5, 6]],\n",
       "\n",
       "       [[1, 2, 3],\n",
       "        [4, 5, 6]]])"
      ]
     },
     "execution_count": 35,
     "metadata": {},
     "output_type": "execute_result"
    }
   ],
   "source": [
    "ds.getDataWindow()"
   ]
  },
  {
   "cell_type": "code",
   "execution_count": 36,
   "id": "531532c8",
   "metadata": {},
   "outputs": [
    {
     "data": {
      "text/plain": [
       "<src.utill.WAgraph.WAgraph at 0x2adcce510>"
      ]
     },
     "execution_count": 36,
     "metadata": {},
     "output_type": "execute_result"
    }
   ],
   "source": [
    "ds.getWA()"
   ]
  },
  {
   "cell_type": "code",
   "execution_count": 37,
   "id": "bdc29827",
   "metadata": {},
   "outputs": [],
   "source": [
    "ds.generateData(lambda x: np.random.rand())"
   ]
  },
  {
   "cell_type": "code",
   "execution_count": 38,
   "id": "40f5ff88",
   "metadata": {},
   "outputs": [
    {
     "data": {
      "text/plain": [
       "array([[[5.90449478, 5.92138231, 6.76732506],\n",
       "        [5.33953918, 3.6689769 , 5.23723274]],\n",
       "\n",
       "       [[4.75965409, 4.80945224, 5.35541059],\n",
       "        [2.08848429, 2.24018565, 3.30885701]],\n",
       "\n",
       "       [[4.48906975, 4.06661602, 4.42403426],\n",
       "        [2.48570468, 3.38137674, 3.77999915]],\n",
       "\n",
       "       [[3.61569008, 2.52931432, 2.47203719],\n",
       "        [1.18862651, 2.09943365, 1.43745573]],\n",
       "\n",
       "       [[3.25297488, 1.51821841, 2.32181831],\n",
       "        [3.86241942, 2.29567812, 1.59345099]],\n",
       "\n",
       "       [[1.56211719, 0.26048906, 1.93026657],\n",
       "        [2.23720437, 1.35746882, 3.76136733]]])"
      ]
     },
     "execution_count": 38,
     "metadata": {},
     "output_type": "execute_result"
    }
   ],
   "source": [
    "ds.data"
   ]
  },
  {
   "cell_type": "code",
   "execution_count": 39,
   "id": "108cfa1e",
   "metadata": {},
   "outputs": [
    {
     "data": {
      "text/plain": [
       "tensor([[[1.0000, 0.0000],\n",
       "         [0.0000, 0.0000]],\n",
       "\n",
       "        [[0.0000, 0.1318],\n",
       "         [0.0000, 0.0000]],\n",
       "\n",
       "        [[0.0000, 0.0000],\n",
       "         [0.0000, 0.0000]],\n",
       "\n",
       "        [[0.0000, 0.7420],\n",
       "         [0.0000, 0.0000]]], dtype=torch.float64)"
      ]
     },
     "execution_count": 39,
     "metadata": {},
     "output_type": "execute_result"
    }
   ],
   "source": [
    "ds.WA.A"
   ]
  },
  {
   "cell_type": "code",
   "execution_count": 40,
   "id": "21f193cd",
   "metadata": {},
   "outputs": [
    {
     "data": {
      "text/plain": [
       "tensor([[1., 0.],\n",
       "        [3., 0.]])"
      ]
     },
     "execution_count": 40,
     "metadata": {},
     "output_type": "execute_result"
    }
   ],
   "source": [
    "ds.WA.W"
   ]
  },
  {
   "cell_type": "code",
   "execution_count": 41,
   "id": "4d16789e",
   "metadata": {},
   "outputs": [
    {
     "data": {
      "text/plain": [
       "array([[1., 0.],\n",
       "       [3., 0.]], dtype=float32)"
      ]
     },
     "execution_count": 41,
     "metadata": {},
     "output_type": "execute_result"
    }
   ],
   "source": [
    "ds.WA.getW()"
   ]
  },
  {
   "cell_type": "code",
   "execution_count": 42,
   "id": "ea6890ff",
   "metadata": {},
   "outputs": [
    {
     "name": "stdout",
     "output_type": "stream",
     "text": [
      "0\n",
      "1\n",
      "0\n"
     ]
    }
   ],
   "source": [
    "import math\n",
    "pos = np.random.randint(0, (2*2-2)//2)\n",
    "y = math.floor(.5*(np.sqrt(8*pos+9)))\n",
    "x = pos-(y*(y-1)//2)\n",
    "print(pos)\n",
    "print(y)\n",
    "print(x)"
   ]
  },
  {
   "cell_type": "code",
   "execution_count": 43,
   "id": "28e3295f",
   "metadata": {},
   "outputs": [
    {
     "data": {
      "text/plain": [
       "3.0"
      ]
     },
     "execution_count": 43,
     "metadata": {},
     "output_type": "execute_result"
    }
   ],
   "source": [
    "ds.WA.getW()[y][x]"
   ]
  },
  {
   "cell_type": "code",
   "execution_count": 44,
   "id": "2d2fb9e1",
   "metadata": {},
   "outputs": [
    {
     "name": "stdout",
     "output_type": "stream",
     "text": [
      "2 1\n"
     ]
    }
   ],
   "source": [
    "WA.generateW_B(1, \"ER\")\n",
    "WA.generateW()"
   ]
  },
  {
   "cell_type": "code",
   "execution_count": 45,
   "id": "bbc7cb81",
   "metadata": {},
   "outputs": [
    {
     "data": {
      "text/plain": [
       "array([[0.        , 0.        ],\n",
       "       [0.56888515, 0.        ]], dtype=float32)"
      ]
     },
     "execution_count": 45,
     "metadata": {},
     "output_type": "execute_result"
    }
   ],
   "source": [
    "WA.getW()"
   ]
  },
  {
   "cell_type": "code",
   "execution_count": 46,
   "id": "5d0104d2",
   "metadata": {},
   "outputs": [
    {
     "data": {
      "text/plain": [
       "array([[0, 0],\n",
       "       [1, 0]])"
      ]
     },
     "execution_count": 46,
     "metadata": {},
     "output_type": "execute_result"
    }
   ],
   "source": [
    "WA.getW_B()"
   ]
  },
  {
   "cell_type": "code",
   "execution_count": 47,
   "id": "25ca1a35",
   "metadata": {},
   "outputs": [],
   "source": [
    "nt = NOTEARS(window, variables)"
   ]
  },
  {
   "cell_type": "code",
   "execution_count": 48,
   "id": "fab6a831",
   "metadata": {},
   "outputs": [],
   "source": [
    "nt.set_learning_rate(1e-3)"
   ]
  },
  {
   "cell_type": "code",
   "execution_count": 49,
   "id": "0e1aab20",
   "metadata": {},
   "outputs": [
    {
     "data": {
      "text/plain": [
       "(tensor(10.2846, grad_fn=<AddBackward0>),\n",
       " {'likelyhood': tensor(10.2846, grad_fn=<DivBackward0>),\n",
       "  'sparcityW': tensor(0., grad_fn=<LinalgVectorNormBackward0>),\n",
       "  'sparcityA': tensor(0., grad_fn=<LinalgVectorNormBackward0>),\n",
       "  'acyclicity': tensor(0., grad_fn=<SubBackward0>)})"
      ]
     },
     "execution_count": 49,
     "metadata": {},
     "output_type": "execute_result"
    }
   ],
   "source": [
    "nt.run(ds.data)"
   ]
  },
  {
   "cell_type": "code",
   "execution_count": 50,
   "id": "2d0b5a3b",
   "metadata": {},
   "outputs": [
    {
     "name": "stderr",
     "output_type": "stream",
     "text": [
      "/Users/tylergibbs/dsc180/src/model/model.py:60: UserWarning: To copy construct from a tensor, it is recommended to use sourceTensor.clone().detach() or sourceTensor.clone().detach().requires_grad_(True), rather than torch.tensor(sourceTensor).\n",
      "  X = torch.tensor(X, dtype=torch.float32)\n"
     ]
    },
    {
     "data": {
      "text/plain": [
       "(tensor(10.2846, grad_fn=<AddBackward0>),\n",
       " {'likelyhood': tensor(10.2846, grad_fn=<DivBackward0>),\n",
       "  'sparcityW': tensor(0., grad_fn=<LinalgVectorNormBackward0>),\n",
       "  'sparcityA': tensor(0., grad_fn=<LinalgVectorNormBackward0>),\n",
       "  'acyclicity': tensor(0., grad_fn=<SubBackward0>)})"
      ]
     },
     "execution_count": 50,
     "metadata": {},
     "output_type": "execute_result"
    }
   ],
   "source": [
    "nt.update(ds.data)"
   ]
  },
  {
   "cell_type": "code",
   "execution_count": 51,
   "id": "717a1b95",
   "metadata": {},
   "outputs": [
    {
     "data": {
      "text/plain": [
       "tensor([[-12.8581,  -9.8550],\n",
       "        [ -9.8550,  -7.7112]])"
      ]
     },
     "execution_count": 51,
     "metadata": {},
     "output_type": "execute_result"
    }
   ],
   "source": [
    "nt.WA.W.grad"
   ]
  },
  {
   "cell_type": "code",
   "execution_count": null,
   "id": "fe4d5de4",
   "metadata": {},
   "outputs": [],
   "source": []
  },
  {
   "cell_type": "code",
   "execution_count": 52,
   "id": "638271ad",
   "metadata": {},
   "outputs": [],
   "source": []
  },
  {
   "cell_type": "code",
   "execution_count": 109,
   "id": "dbbd9f6a",
   "metadata": {},
   "outputs": [
    {
     "name": "stdout",
     "output_type": "stream",
     "text": [
      "2 1\n",
      "TRAINING: [Iter 0] score 0.665051281452179, likelyhood 0.665051281452179, sparcityW 0.0, sparcityA 0.0, acyclicity 0.0\n",
      "(0, 'VALIDATION: [Iter 0] score 0.665051281452179, likelyhood 0.665051281452179, sparcityW 0.0, sparcityA 0.0, acyclicity 0.0')\n",
      "TRAINING: [Iter 1000] score 0.14548668265342712, likelyhood 0.027219083160161972, sparcityW 0.016960449516773224, sparcityA 1.1657155752182007, acyclicity 0.0\n",
      "(1000, 'VALIDATION: [Iter 1000] score 0.13874801993370056, likelyhood 0.027219083160161972, sparcityW 0.016960449516773224, sparcityA 1.1657155752182007, acyclicity 0.0')\n",
      "TRAINING: [Iter 2000] score 0.5202896595001221, likelyhood 0.026463091373443604, sparcityW 0.031502656638622284, sparcityA 1.1397494077682495, acyclicity 3.7670135498046875e-05\n",
      "(2000, 'VALIDATION: [Iter 2000] score 0.5699046850204468, likelyhood 0.026463091373443604, sparcityW 0.031502656638622284, sparcityA 1.1397494077682495, acyclicity 3.7670135498046875e-05')\n",
      "TRAINING: [Iter 3000] score 0.30676978826522827, likelyhood 0.027427272871136665, sparcityW 0.03451680764555931, sparcityA 1.1376619338989258, acyclicity 1.621246337890625e-05\n",
      "(3000, 'VALIDATION: [Iter 3000] score 0.29201120138168335, likelyhood 0.027427272871136665, sparcityW 0.03451680764555931, sparcityA 1.1376619338989258, acyclicity 1.621246337890625e-05')\n",
      "TRAINING: [Iter 4000] score 0.1570645421743393, likelyhood 0.021960575133562088, sparcityW 0.04860883951187134, sparcityA 1.1593796014785767, acyclicity 1.430511474609375e-06\n",
      "(4000, 'VALIDATION: [Iter 4000] score 0.1571410894393921, likelyhood 0.021960575133562088, sparcityW 0.04860883951187134, sparcityA 1.1593796014785767, acyclicity 1.430511474609375e-06')\n",
      "TRAINING: [Iter 5000] score 0.1585085391998291, likelyhood 0.019589006900787354, sparcityW 0.04241297394037247, sparcityA 1.2037311792373657, acyclicity 1.430511474609375e-06\n",
      "(5000, 'VALIDATION: [Iter 5000] score 0.15972723066806793, likelyhood 0.019589006900787354, sparcityW 0.04241297394037247, sparcityA 1.2037311792373657, acyclicity 1.430511474609375e-06')\n",
      "TRAINING: [Iter 6000] score 0.5012149214744568, likelyhood 0.023843741044402122, sparcityW 0.03946075588464737, sparcityA 1.1102887392044067, acyclicity 3.62396240234375e-05\n",
      "(6000, 'VALIDATION: [Iter 6000] score 0.5378826260566711, likelyhood 0.023843741044402122, sparcityW 0.03946075588464737, sparcityA 1.1102887392044067, acyclicity 3.62396240234375e-05')\n",
      "TRAINING: [Iter 7000] score 0.5154017210006714, likelyhood 0.027508560568094254, sparcityW 0.026589419692754745, sparcityA 1.1806957721710205, acyclicity 3.6716461181640625e-05\n",
      "(7000, 'VALIDATION: [Iter 7000] score 0.556250810623169, likelyhood 0.027508560568094254, sparcityW 0.026589419692754745, sparcityA 1.1806957721710205, acyclicity 3.6716461181640625e-05')\n",
      "TRAINING: [Iter 8000] score 0.2503809928894043, likelyhood 0.024281900376081467, sparcityW 0.01068409439176321, sparcityA 1.1535815000534058, acyclicity 1.0967254638671875e-05\n",
      "(8000, 'VALIDATION: [Iter 8000] score 0.25765955448150635, likelyhood 0.024281900376081467, sparcityW 0.01068409439176321, sparcityA 1.1535815000534058, acyclicity 1.0967254638671875e-05')\n",
      "TRAINING: [Iter 9000] score 0.2428920865058899, likelyhood 0.02114235796034336, sparcityW 0.008494498208165169, sparcityA 1.1599609851837158, acyclicity 1.049041748046875e-05\n",
      "(9000, 'VALIDATION: [Iter 9000] score 0.26439982652664185, likelyhood 0.02114235796034336, sparcityW 0.008494498208165169, sparcityA 1.1599609851837158, acyclicity 1.049041748046875e-05')\n",
      "TRAINING: [Iter 10000] score 0.21409350633621216, likelyhood 0.022248731926083565, sparcityW 0.012504705227911472, sparcityA 1.2145291566848755, acyclicity 6.9141387939453125e-06\n",
      "(10000, 'VALIDATION: [Iter 10000] score 0.21931001543998718, likelyhood 0.022248731926083565, sparcityW 0.012504705227911472, sparcityA 1.2145291566848755, acyclicity 6.9141387939453125e-06')\n"
     ]
    }
   ],
   "source": [
    "WA = WAgraph(window, variables)\n",
    "WA.generateW_B(1, 'ER')\n",
    "WA.generateW()\n",
    "WA.generateA_B(3, 'ER')\n",
    "WA.generateA()\n",
    "\n",
    "cons = Constraint([], [], window, variables)\n",
    "\n",
    "ds = Dataset(observations, variables, variables, times, window, WA, cons)\n",
    "ds.generateData(lambda x: np.random.rand())\n",
    "\n",
    "nt = NOTEARS(window, variables, .1, .1, 10000)\n",
    "\n",
    "tr = Trainer(.1)\n",
    "tr.train(nt, ds.data, ds.data, 10000, 0, 1000)"
   ]
  },
  {
   "cell_type": "code",
   "execution_count": 110,
   "id": "5b2eda78",
   "metadata": {},
   "outputs": [
    {
     "data": {
      "text/plain": [
       "array([[0.00186966, 0.00423277],\n",
       "       [0.00457578, 0.00215315]], dtype=float32)"
      ]
     },
     "execution_count": 110,
     "metadata": {},
     "output_type": "execute_result"
    }
   ],
   "source": [
    "nt.WA.getW()"
   ]
  },
  {
   "cell_type": "code",
   "execution_count": 111,
   "id": "7ff472ae",
   "metadata": {},
   "outputs": [
    {
     "data": {
      "text/plain": [
       "array([[0.        , 0.        ],\n",
       "       [0.47100544, 0.        ]], dtype=float32)"
      ]
     },
     "execution_count": 111,
     "metadata": {},
     "output_type": "execute_result"
    }
   ],
   "source": [
    "ds.WA.getW()"
   ]
  },
  {
   "cell_type": "code",
   "execution_count": 112,
   "id": "18cd3fef",
   "metadata": {},
   "outputs": [
    {
     "data": {
      "text/plain": [
       "array([[[ 0.  ,  0.03],\n",
       "        [ 0.15,  0.75]],\n",
       "\n",
       "       [[ 0.  ,  0.01],\n",
       "        [-0.  ,  0.01]],\n",
       "\n",
       "       [[ 0.01,  0.05],\n",
       "        [-0.01,  0.02]],\n",
       "\n",
       "       [[ 0.02, -0.  ],\n",
       "        [ 0.05,  0.04]]], dtype=float32)"
      ]
     },
     "execution_count": 112,
     "metadata": {},
     "output_type": "execute_result"
    }
   ],
   "source": [
    "nt.WA.getA().round(2)"
   ]
  },
  {
   "cell_type": "code",
   "execution_count": 113,
   "id": "598bd182",
   "metadata": {},
   "outputs": [
    {
     "data": {
      "text/plain": [
       "array([[[0.34848869, 0.        ],\n",
       "        [0.        , 0.        ]],\n",
       "\n",
       "       [[0.        , 0.        ],\n",
       "        [0.        , 0.        ]],\n",
       "\n",
       "       [[0.        , 0.        ],\n",
       "        [0.        , 0.60850728]],\n",
       "\n",
       "       [[0.        , 0.72014058],\n",
       "        [0.        , 0.        ]]])"
      ]
     },
     "execution_count": 113,
     "metadata": {},
     "output_type": "execute_result"
    }
   ],
   "source": [
    "ds.WA.getA()"
   ]
  },
  {
   "cell_type": "code",
   "execution_count": null,
   "id": "34b87398",
   "metadata": {},
   "outputs": [],
   "source": []
  },
  {
   "cell_type": "code",
   "execution_count": null,
   "id": "56c17f9f",
   "metadata": {},
   "outputs": [],
   "source": []
  }
 ],
 "metadata": {
  "kernelspec": {
   "display_name": "Python 3 (ipykernel)",
   "language": "python",
   "name": "python3"
  },
  "language_info": {
   "codemirror_mode": {
    "name": "ipython",
    "version": 3
   },
   "file_extension": ".py",
   "mimetype": "text/x-python",
   "name": "python",
   "nbconvert_exporter": "python",
   "pygments_lexer": "ipython3",
   "version": "3.11.1"
  }
 },
 "nbformat": 4,
 "nbformat_minor": 5
}
