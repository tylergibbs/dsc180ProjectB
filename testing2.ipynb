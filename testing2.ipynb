{
 "cells": [
  {
   "cell_type": "code",
   "execution_count": 40,
   "id": "28359e2e",
   "metadata": {},
   "outputs": [],
   "source": [
    "from src.data.dataset import Dataset\n",
    "from src.utill.constraint import Constraint\n",
    "from src.utill.WAgraph import WAgraph\n",
    "import numpy as np"
   ]
  },
  {
   "cell_type": "code",
   "execution_count": 41,
   "id": "e07a849c",
   "metadata": {},
   "outputs": [],
   "source": [
    "observations = 3\n",
    "variables = 2\n",
    "times = 6\n",
    "window = 4"
   ]
  },
  {
   "cell_type": "code",
   "execution_count": 42,
   "id": "588f0a30",
   "metadata": {},
   "outputs": [],
   "source": [
    "cons = Constraint([], [], window, variables)"
   ]
  },
  {
   "cell_type": "code",
   "execution_count": 43,
   "id": "0eae0c46",
   "metadata": {},
   "outputs": [
    {
     "data": {
      "text/plain": [
       "array([], shape=(1, 0), dtype=float64)"
      ]
     },
     "execution_count": 43,
     "metadata": {},
     "output_type": "execute_result"
    }
   ],
   "source": [
    "W = np.array([[]])\n",
    "cons.constrainW(W)\n",
    "W"
   ]
  },
  {
   "cell_type": "code",
   "execution_count": 44,
   "id": "129c59c7",
   "metadata": {},
   "outputs": [],
   "source": [
    "cons = Constraint([[0,0,1], [1,0,3]], [[0,0,0,1]], window, variables)"
   ]
  },
  {
   "cell_type": "code",
   "execution_count": 45,
   "id": "2ad3b1a6",
   "metadata": {},
   "outputs": [
    {
     "data": {
      "text/plain": [
       "array([[1, 2],\n",
       "       [3, 2]])"
      ]
     },
     "execution_count": 45,
     "metadata": {},
     "output_type": "execute_result"
    }
   ],
   "source": [
    "W = np.array([[2, 2],[2, 2]])\n",
    "cons.constrainW(W)\n",
    "W"
   ]
  },
  {
   "cell_type": "code",
   "execution_count": 46,
   "id": "084c3292",
   "metadata": {},
   "outputs": [
    {
     "data": {
      "text/plain": [
       "array([[[1],\n",
       "        [2]],\n",
       "\n",
       "       [[2],\n",
       "        [2]]])"
      ]
     },
     "execution_count": 46,
     "metadata": {},
     "output_type": "execute_result"
    }
   ],
   "source": [
    "A = np.array([[[2], [2]],[[2], [2]]])\n",
    "cons.constrainA(A)\n",
    "A"
   ]
  },
  {
   "cell_type": "code",
   "execution_count": 47,
   "id": "a29dc8dd",
   "metadata": {},
   "outputs": [
    {
     "data": {
      "text/plain": [
       "True"
      ]
     },
     "execution_count": 47,
     "metadata": {},
     "output_type": "execute_result"
    }
   ],
   "source": [
    "cons.validate(window, variables)"
   ]
  },
  {
   "cell_type": "code",
   "execution_count": null,
   "id": "84660606",
   "metadata": {},
   "outputs": [],
   "source": []
  },
  {
   "cell_type": "code",
   "execution_count": 48,
   "id": "ee3743cb",
   "metadata": {},
   "outputs": [],
   "source": [
    "WA = WAgraph(window, variables)"
   ]
  },
  {
   "cell_type": "code",
   "execution_count": 49,
   "id": "226290b9",
   "metadata": {},
   "outputs": [
    {
     "data": {
      "text/plain": [
       "4"
      ]
     },
     "execution_count": 49,
     "metadata": {},
     "output_type": "execute_result"
    }
   ],
   "source": [
    "WA.getWindow()"
   ]
  },
  {
   "cell_type": "code",
   "execution_count": 50,
   "id": "93ecda5b",
   "metadata": {},
   "outputs": [
    {
     "data": {
      "text/plain": [
       "2"
      ]
     },
     "execution_count": 50,
     "metadata": {},
     "output_type": "execute_result"
    }
   ],
   "source": [
    "WA.getV()"
   ]
  },
  {
   "cell_type": "code",
   "execution_count": 51,
   "id": "bcc1cf24",
   "metadata": {},
   "outputs": [
    {
     "data": {
      "text/plain": [
       "2"
      ]
     },
     "execution_count": 51,
     "metadata": {},
     "output_type": "execute_result"
    }
   ],
   "source": [
    "WA.getVA()"
   ]
  },
  {
   "cell_type": "code",
   "execution_count": 52,
   "id": "5219b177",
   "metadata": {},
   "outputs": [
    {
     "data": {
      "text/plain": [
       "array([[2, 2],\n",
       "       [2, 2]])"
      ]
     },
     "execution_count": 52,
     "metadata": {},
     "output_type": "execute_result"
    }
   ],
   "source": [
    "WA.setW([[2,2],[2,2]])\n",
    "WA.getW()"
   ]
  },
  {
   "cell_type": "code",
   "execution_count": 53,
   "id": "1b600b77",
   "metadata": {},
   "outputs": [
    {
     "data": {
      "text/plain": [
       "array([[[2, 2],\n",
       "        [2, 2]],\n",
       "\n",
       "       [[2, 2],\n",
       "        [2, 2]],\n",
       "\n",
       "       [[2, 2],\n",
       "        [2, 2]],\n",
       "\n",
       "       [[2, 2],\n",
       "        [2, 2]]])"
      ]
     },
     "execution_count": 53,
     "metadata": {},
     "output_type": "execute_result"
    }
   ],
   "source": [
    "WA.setA([[[2,2],[2,2]],[[2,2],[2,2]],[[2,2],[2,2]],[[2,2],[2,2]]])\n",
    "WA.getA()"
   ]
  },
  {
   "cell_type": "code",
   "execution_count": 54,
   "id": "7b02b194",
   "metadata": {},
   "outputs": [],
   "source": [
    "WA.generateW()"
   ]
  },
  {
   "cell_type": "code",
   "execution_count": 55,
   "id": "4401321a",
   "metadata": {},
   "outputs": [
    {
     "data": {
      "text/plain": [
       "array([[0.10333531, 0.44171465],\n",
       "       [0.04101156, 0.39531893]])"
      ]
     },
     "execution_count": 55,
     "metadata": {},
     "output_type": "execute_result"
    }
   ],
   "source": [
    "WA.getW()"
   ]
  },
  {
   "cell_type": "code",
   "execution_count": 56,
   "id": "b6b31a58",
   "metadata": {},
   "outputs": [],
   "source": [
    "WA.generateW_B(1, 'ER')"
   ]
  },
  {
   "cell_type": "code",
   "execution_count": 57,
   "id": "6d2408e6",
   "metadata": {},
   "outputs": [
    {
     "data": {
      "text/plain": [
       "array([[0., 0.],\n",
       "       [0., 1.]])"
      ]
     },
     "execution_count": 57,
     "metadata": {},
     "output_type": "execute_result"
    }
   ],
   "source": [
    "WA.W_B"
   ]
  },
  {
   "cell_type": "code",
   "execution_count": 58,
   "id": "fff05506",
   "metadata": {},
   "outputs": [
    {
     "data": {
      "text/plain": [
       "array([[0.        , 0.        ],\n",
       "       [0.        , 0.71794586]])"
      ]
     },
     "execution_count": 58,
     "metadata": {},
     "output_type": "execute_result"
    }
   ],
   "source": [
    "WA.generateW()\n",
    "WA.getW()"
   ]
  },
  {
   "cell_type": "code",
   "execution_count": 59,
   "id": "34157999",
   "metadata": {},
   "outputs": [
    {
     "data": {
      "text/plain": [
       "array([[[2, 2],\n",
       "        [2, 2]],\n",
       "\n",
       "       [[2, 2],\n",
       "        [2, 2]],\n",
       "\n",
       "       [[2, 2],\n",
       "        [2, 2]],\n",
       "\n",
       "       [[2, 2],\n",
       "        [2, 2]]])"
      ]
     },
     "execution_count": 59,
     "metadata": {},
     "output_type": "execute_result"
    }
   ],
   "source": [
    "WA.getA()"
   ]
  },
  {
   "cell_type": "code",
   "execution_count": 60,
   "id": "9bc03366",
   "metadata": {},
   "outputs": [
    {
     "data": {
      "text/plain": [
       "array([[[1, 1],\n",
       "        [1, 1]],\n",
       "\n",
       "       [[1, 1],\n",
       "        [1, 1]],\n",
       "\n",
       "       [[1, 1],\n",
       "        [1, 1]],\n",
       "\n",
       "       [[1, 1],\n",
       "        [1, 1]]])"
      ]
     },
     "execution_count": 60,
     "metadata": {},
     "output_type": "execute_result"
    }
   ],
   "source": [
    "WA.A_B"
   ]
  },
  {
   "cell_type": "code",
   "execution_count": 61,
   "id": "e49cba9a",
   "metadata": {},
   "outputs": [
    {
     "data": {
      "text/plain": [
       "array([[[0.92240732, 0.6862707 ],\n",
       "        [0.68375447, 0.08232078]],\n",
       "\n",
       "       [[0.89892365, 0.74524802],\n",
       "        [0.62144161, 0.38430805]],\n",
       "\n",
       "       [[0.35158324, 0.26513008],\n",
       "        [0.01483125, 0.87254128]],\n",
       "\n",
       "       [[0.12377053, 0.12081559],\n",
       "        [0.21107919, 0.02047898]]])"
      ]
     },
     "execution_count": 61,
     "metadata": {},
     "output_type": "execute_result"
    }
   ],
   "source": [
    "WA.generateA()\n",
    "WA.getA()"
   ]
  },
  {
   "cell_type": "code",
   "execution_count": 62,
   "id": "e92be952",
   "metadata": {},
   "outputs": [],
   "source": [
    "WA.generateA_B(3, 'ER')"
   ]
  },
  {
   "cell_type": "code",
   "execution_count": 63,
   "id": "7e8fb714",
   "metadata": {},
   "outputs": [
    {
     "data": {
      "text/plain": [
       "array([[[1., 0.],\n",
       "        [0., 0.]],\n",
       "\n",
       "       [[0., 0.],\n",
       "        [0., 0.]],\n",
       "\n",
       "       [[0., 1.],\n",
       "        [0., 0.]],\n",
       "\n",
       "       [[0., 0.],\n",
       "        [0., 1.]]])"
      ]
     },
     "execution_count": 63,
     "metadata": {},
     "output_type": "execute_result"
    }
   ],
   "source": [
    "WA.A_B"
   ]
  },
  {
   "cell_type": "code",
   "execution_count": 64,
   "id": "d38fcea4",
   "metadata": {},
   "outputs": [
    {
     "data": {
      "text/plain": [
       "array([[[0.34568258, 0.        ],\n",
       "        [0.        , 0.        ]],\n",
       "\n",
       "       [[0.        , 0.        ],\n",
       "        [0.        , 0.        ]],\n",
       "\n",
       "       [[0.        , 0.32972594],\n",
       "        [0.        , 0.        ]],\n",
       "\n",
       "       [[0.        , 0.        ],\n",
       "        [0.        , 0.05370134]]])"
      ]
     },
     "execution_count": 64,
     "metadata": {},
     "output_type": "execute_result"
    }
   ],
   "source": [
    "WA.generateA()\n",
    "WA.getA()"
   ]
  },
  {
   "cell_type": "code",
   "execution_count": 65,
   "id": "f54df669",
   "metadata": {},
   "outputs": [
    {
     "data": {
      "text/plain": [
       "array([[[0.34568258, 0.        ],\n",
       "        [0.        , 0.        ]],\n",
       "\n",
       "       [[0.        , 0.        ],\n",
       "        [0.        , 0.        ]],\n",
       "\n",
       "       [[0.        , 0.32972594],\n",
       "        [0.        , 0.        ]],\n",
       "\n",
       "       [[0.        , 0.        ],\n",
       "        [0.        , 0.05370134]]])"
      ]
     },
     "execution_count": 65,
     "metadata": {},
     "output_type": "execute_result"
    }
   ],
   "source": [
    "WA.getA()"
   ]
  },
  {
   "cell_type": "code",
   "execution_count": 66,
   "id": "fe4da487",
   "metadata": {},
   "outputs": [],
   "source": [
    "WA = cons.constrainWA(WA)"
   ]
  },
  {
   "cell_type": "code",
   "execution_count": 67,
   "id": "175aa893",
   "metadata": {},
   "outputs": [
    {
     "data": {
      "text/plain": [
       "array([[1.        , 0.        ],\n",
       "       [3.        , 0.71794586]])"
      ]
     },
     "execution_count": 67,
     "metadata": {},
     "output_type": "execute_result"
    }
   ],
   "source": [
    "WA.getW()"
   ]
  },
  {
   "cell_type": "code",
   "execution_count": 68,
   "id": "e867ccca",
   "metadata": {},
   "outputs": [
    {
     "data": {
      "text/plain": [
       "array([[[1.        , 0.        ],\n",
       "        [0.        , 0.        ]],\n",
       "\n",
       "       [[0.        , 0.        ],\n",
       "        [0.        , 0.        ]],\n",
       "\n",
       "       [[0.        , 0.32972594],\n",
       "        [0.        , 0.        ]],\n",
       "\n",
       "       [[0.        , 0.        ],\n",
       "        [0.        , 0.05370134]]])"
      ]
     },
     "execution_count": 68,
     "metadata": {},
     "output_type": "execute_result"
    }
   ],
   "source": [
    "WA.getA()"
   ]
  },
  {
   "cell_type": "code",
   "execution_count": 69,
   "id": "cf89e797",
   "metadata": {
    "scrolled": true
   },
   "outputs": [
    {
     "data": {
      "text/plain": [
       "array([[1, 0],\n",
       "       [1, 1]])"
      ]
     },
     "execution_count": 69,
     "metadata": {},
     "output_type": "execute_result"
    }
   ],
   "source": [
    "WA.W_B"
   ]
  },
  {
   "cell_type": "code",
   "execution_count": 70,
   "id": "ae7f0359",
   "metadata": {},
   "outputs": [
    {
     "data": {
      "text/plain": [
       "array([[[1, 0],\n",
       "        [0, 0]],\n",
       "\n",
       "       [[0, 0],\n",
       "        [0, 0]],\n",
       "\n",
       "       [[0, 1],\n",
       "        [0, 0]],\n",
       "\n",
       "       [[0, 0],\n",
       "        [0, 1]]])"
      ]
     },
     "execution_count": 70,
     "metadata": {},
     "output_type": "execute_result"
    }
   ],
   "source": [
    "WA.A_B"
   ]
  },
  {
   "cell_type": "code",
   "execution_count": 71,
   "id": "e97a3610",
   "metadata": {},
   "outputs": [],
   "source": [
    "from src.data.dataset import Dataset"
   ]
  },
  {
   "cell_type": "code",
   "execution_count": 72,
   "id": "56f9dffe",
   "metadata": {},
   "outputs": [],
   "source": [
    "ds = Dataset(observations, variables, variables, times, window, WA, cons)"
   ]
  },
  {
   "cell_type": "code",
   "execution_count": 73,
   "id": "2ade185d",
   "metadata": {},
   "outputs": [
    {
     "name": "stdout",
     "output_type": "stream",
     "text": [
      "(6, 2, 3)\n"
     ]
    }
   ],
   "source": [
    "dataex = np.array([[[1,2,3],[4,5,6]],[[1,2,3],[4,5,6]],[[1,2,3],[4,5,6]],[[1,2,3],[4,5,6]],[[1,2,3],[4,5,6]],[[1,2,3],[4,5,6]]])\n",
    "\n",
    "ds.setData(dataex)"
   ]
  },
  {
   "cell_type": "code",
   "execution_count": 74,
   "id": "7a90a1db",
   "metadata": {},
   "outputs": [
    {
     "data": {
      "text/plain": [
       "array([[[1, 2, 3],\n",
       "        [4, 5, 6]],\n",
       "\n",
       "       [[1, 2, 3],\n",
       "        [4, 5, 6]],\n",
       "\n",
       "       [[1, 2, 3],\n",
       "        [4, 5, 6]],\n",
       "\n",
       "       [[1, 2, 3],\n",
       "        [4, 5, 6]],\n",
       "\n",
       "       [[1, 2, 3],\n",
       "        [4, 5, 6]],\n",
       "\n",
       "       [[1, 2, 3],\n",
       "        [4, 5, 6]]])"
      ]
     },
     "execution_count": 74,
     "metadata": {},
     "output_type": "execute_result"
    }
   ],
   "source": [
    "ds.getData()"
   ]
  },
  {
   "cell_type": "code",
   "execution_count": 75,
   "id": "df7ffd10",
   "metadata": {},
   "outputs": [
    {
     "data": {
      "text/plain": [
       "array([[[1, 2, 3],\n",
       "        [4, 5, 6]],\n",
       "\n",
       "       [[1, 2, 3],\n",
       "        [4, 5, 6]],\n",
       "\n",
       "       [[1, 2, 3],\n",
       "        [4, 5, 6]],\n",
       "\n",
       "       [[1, 2, 3],\n",
       "        [4, 5, 6]]])"
      ]
     },
     "execution_count": 75,
     "metadata": {},
     "output_type": "execute_result"
    }
   ],
   "source": [
    "ds.getDataWindow()"
   ]
  },
  {
   "cell_type": "code",
   "execution_count": 76,
   "id": "531532c8",
   "metadata": {},
   "outputs": [
    {
     "data": {
      "text/plain": [
       "<src.utill.WAgraph.WAgraph at 0x2ac87da90>"
      ]
     },
     "execution_count": 76,
     "metadata": {},
     "output_type": "execute_result"
    }
   ],
   "source": [
    "ds.getWA()"
   ]
  },
  {
   "cell_type": "code",
   "execution_count": 77,
   "id": "bdc29827",
   "metadata": {},
   "outputs": [
    {
     "name": "stdout",
     "output_type": "stream",
     "text": [
      "(2, 3) (2, 3) (2, 3)\n",
      "(2, 3) (2, 3) (2, 3)\n",
      "(2, 3) (2, 3) (2, 3)\n",
      "(2, 3) (2, 3) (2, 3)\n",
      "(2, 3) (2, 3) (2, 3)\n",
      "(2, 3) (2, 3) (2, 3)\n",
      "(6, 2, 3)\n"
     ]
    }
   ],
   "source": [
    "ds.generateData(lambda x: np.random.rand())"
   ]
  },
  {
   "cell_type": "code",
   "execution_count": 79,
   "id": "40f5ff88",
   "metadata": {},
   "outputs": [
    {
     "data": {
      "text/plain": [
       "array([[[0.83099257, 0.14448427, 0.03457177],\n",
       "        [0.4207793 , 0.3529993 , 0.66056809]],\n",
       "\n",
       "       [[0.88192029, 0.91958093, 0.73491666],\n",
       "        [0.82898865, 0.58349516, 0.0354362 ]],\n",
       "\n",
       "       [[0.91888084, 0.35323469, 0.76332255],\n",
       "        [0.99116645, 0.24697949, 0.85975362]],\n",
       "\n",
       "       [[0.12669097, 0.44054006, 0.22414773],\n",
       "        [0.98903446, 0.71254874, 0.71117547]],\n",
       "\n",
       "       [[4.11503038, 2.53486897, 2.97166245],\n",
       "        [1.56119375, 0.75121402, 1.81575742]],\n",
       "\n",
       "       [[2.968855  , 1.60839599, 3.47998736],\n",
       "        [1.13767637, 0.21596771, 2.75032952]]])"
      ]
     },
     "execution_count": 79,
     "metadata": {},
     "output_type": "execute_result"
    }
   ],
   "source": [
    "ds.data"
   ]
  },
  {
   "cell_type": "code",
   "execution_count": 80,
   "id": "108cfa1e",
   "metadata": {},
   "outputs": [
    {
     "data": {
      "text/plain": [
       "array([[[1.        , 0.        ],\n",
       "        [0.        , 0.        ]],\n",
       "\n",
       "       [[0.        , 0.        ],\n",
       "        [0.        , 0.        ]],\n",
       "\n",
       "       [[0.        , 0.32972594],\n",
       "        [0.        , 0.        ]],\n",
       "\n",
       "       [[0.        , 0.        ],\n",
       "        [0.        , 0.05370134]]])"
      ]
     },
     "execution_count": 80,
     "metadata": {},
     "output_type": "execute_result"
    }
   ],
   "source": [
    "ds.WA.A"
   ]
  },
  {
   "cell_type": "code",
   "execution_count": 81,
   "id": "21f193cd",
   "metadata": {},
   "outputs": [
    {
     "data": {
      "text/plain": [
       "array([[1.        , 0.        ],\n",
       "       [3.        , 0.71794586]])"
      ]
     },
     "execution_count": 81,
     "metadata": {},
     "output_type": "execute_result"
    }
   ],
   "source": [
    "ds.WA.W"
   ]
  },
  {
   "cell_type": "code",
   "execution_count": null,
   "id": "4d16789e",
   "metadata": {},
   "outputs": [],
   "source": []
  }
 ],
 "metadata": {
  "kernelspec": {
   "display_name": "Python 3 (ipykernel)",
   "language": "python",
   "name": "python3"
  },
  "language_info": {
   "codemirror_mode": {
    "name": "ipython",
    "version": 3
   },
   "file_extension": ".py",
   "mimetype": "text/x-python",
   "name": "python",
   "nbconvert_exporter": "python",
   "pygments_lexer": "ipython3",
   "version": "3.11.1"
  }
 },
 "nbformat": 4,
 "nbformat_minor": 5
}
