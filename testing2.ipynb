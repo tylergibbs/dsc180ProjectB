{
 "cells": [
  {
   "cell_type": "code",
   "execution_count": 1,
   "id": "28359e2e",
   "metadata": {},
   "outputs": [],
   "source": [
    "from src.data.dataset import Dataset\n",
    "from src.utill.constraint import Constraint\n",
    "from src.utill.WAgraph import WAgraph\n",
    "from src.model.NOTEARS import NOTEARS\n",
    "from src.trainer.trainer import Trainer\n",
    "import numpy as np"
   ]
  },
  {
   "cell_type": "code",
   "execution_count": 139,
   "id": "e07a849c",
   "metadata": {},
   "outputs": [],
   "source": [
    "observations = 3\n",
    "variables = 2\n",
    "times = 6\n",
    "window = 4"
   ]
  },
  {
   "cell_type": "code",
   "execution_count": 140,
   "id": "588f0a30",
   "metadata": {},
   "outputs": [],
   "source": [
    "cons = Constraint([], [], window, variables)"
   ]
  },
  {
   "cell_type": "code",
   "execution_count": 141,
   "id": "0eae0c46",
   "metadata": {},
   "outputs": [
    {
     "data": {
      "text/plain": [
       "array([], shape=(1, 0), dtype=float64)"
      ]
     },
     "execution_count": 141,
     "metadata": {},
     "output_type": "execute_result"
    }
   ],
   "source": [
    "W = np.array([[]])\n",
    "cons.constrainW(W)\n",
    "W"
   ]
  },
  {
   "cell_type": "code",
   "execution_count": 142,
   "id": "129c59c7",
   "metadata": {},
   "outputs": [],
   "source": [
    "cons = Constraint([[0,0,1], [1,0,3]], [[0,0,0,1]], window, variables)"
   ]
  },
  {
   "cell_type": "code",
   "execution_count": 143,
   "id": "2ad3b1a6",
   "metadata": {},
   "outputs": [
    {
     "data": {
      "text/plain": [
       "array([[1, 2],\n",
       "       [3, 2]])"
      ]
     },
     "execution_count": 143,
     "metadata": {},
     "output_type": "execute_result"
    }
   ],
   "source": [
    "W = np.array([[2, 2],[2, 2]])\n",
    "cons.constrainW(W)\n",
    "W"
   ]
  },
  {
   "cell_type": "code",
   "execution_count": 144,
   "id": "084c3292",
   "metadata": {},
   "outputs": [
    {
     "data": {
      "text/plain": [
       "array([[[1],\n",
       "        [2]],\n",
       "\n",
       "       [[2],\n",
       "        [2]]])"
      ]
     },
     "execution_count": 144,
     "metadata": {},
     "output_type": "execute_result"
    }
   ],
   "source": [
    "A = np.array([[[2], [2]],[[2], [2]]])\n",
    "cons.constrainA(A)\n",
    "A"
   ]
  },
  {
   "cell_type": "code",
   "execution_count": 145,
   "id": "a29dc8dd",
   "metadata": {},
   "outputs": [
    {
     "data": {
      "text/plain": [
       "True"
      ]
     },
     "execution_count": 145,
     "metadata": {},
     "output_type": "execute_result"
    }
   ],
   "source": [
    "cons.validate(window, variables)"
   ]
  },
  {
   "cell_type": "code",
   "execution_count": 146,
   "id": "84660606",
   "metadata": {},
   "outputs": [],
   "source": [
    "WA = WAgraph(window, variables)"
   ]
  },
  {
   "cell_type": "code",
   "execution_count": null,
   "id": "ee3743cb",
   "metadata": {},
   "outputs": [],
   "source": []
  },
  {
   "cell_type": "code",
   "execution_count": 147,
   "id": "226290b9",
   "metadata": {},
   "outputs": [
    {
     "data": {
      "text/plain": [
       "4"
      ]
     },
     "execution_count": 147,
     "metadata": {},
     "output_type": "execute_result"
    }
   ],
   "source": [
    "WA.getWindow()"
   ]
  },
  {
   "cell_type": "code",
   "execution_count": 148,
   "id": "93ecda5b",
   "metadata": {},
   "outputs": [
    {
     "data": {
      "text/plain": [
       "2"
      ]
     },
     "execution_count": 148,
     "metadata": {},
     "output_type": "execute_result"
    }
   ],
   "source": [
    "WA.getV()"
   ]
  },
  {
   "cell_type": "code",
   "execution_count": 149,
   "id": "bcc1cf24",
   "metadata": {},
   "outputs": [
    {
     "data": {
      "text/plain": [
       "2"
      ]
     },
     "execution_count": 149,
     "metadata": {},
     "output_type": "execute_result"
    }
   ],
   "source": [
    "WA.getVA()"
   ]
  },
  {
   "cell_type": "code",
   "execution_count": 150,
   "id": "5219b177",
   "metadata": {},
   "outputs": [
    {
     "data": {
      "text/plain": [
       "array([[2, 2],\n",
       "       [2, 2]])"
      ]
     },
     "execution_count": 150,
     "metadata": {},
     "output_type": "execute_result"
    }
   ],
   "source": [
    "WA.setW([[2,2],[2,2]])\n",
    "WA.getW()"
   ]
  },
  {
   "cell_type": "code",
   "execution_count": 151,
   "id": "1b600b77",
   "metadata": {},
   "outputs": [
    {
     "data": {
      "text/plain": [
       "array([[[2, 2],\n",
       "        [2, 2]],\n",
       "\n",
       "       [[2, 2],\n",
       "        [2, 2]],\n",
       "\n",
       "       [[2, 2],\n",
       "        [2, 2]],\n",
       "\n",
       "       [[2, 2],\n",
       "        [2, 2]]])"
      ]
     },
     "execution_count": 151,
     "metadata": {},
     "output_type": "execute_result"
    }
   ],
   "source": [
    "WA.setA([[[2,2],[2,2]],[[2,2],[2,2]],[[2,2],[2,2]],[[2,2],[2,2]]])\n",
    "WA.getA()"
   ]
  },
  {
   "cell_type": "code",
   "execution_count": 152,
   "id": "7b02b194",
   "metadata": {},
   "outputs": [],
   "source": [
    "WA.generateW()"
   ]
  },
  {
   "cell_type": "code",
   "execution_count": 153,
   "id": "4401321a",
   "metadata": {},
   "outputs": [
    {
     "data": {
      "text/plain": [
       "array([[0.42077553, 0.12635419],\n",
       "       [0.5133799 , 0.15976728]], dtype=float32)"
      ]
     },
     "execution_count": 153,
     "metadata": {},
     "output_type": "execute_result"
    }
   ],
   "source": [
    "WA.getW()"
   ]
  },
  {
   "cell_type": "code",
   "execution_count": 154,
   "id": "b6b31a58",
   "metadata": {},
   "outputs": [
    {
     "name": "stdout",
     "output_type": "stream",
     "text": [
      "2 1\n"
     ]
    }
   ],
   "source": [
    "WA.generateW_B(1, 'ER')"
   ]
  },
  {
   "cell_type": "code",
   "execution_count": 155,
   "id": "6d2408e6",
   "metadata": {},
   "outputs": [
    {
     "data": {
      "text/plain": [
       "tensor([[0, 0],\n",
       "        [1, 0]])"
      ]
     },
     "execution_count": 155,
     "metadata": {},
     "output_type": "execute_result"
    }
   ],
   "source": [
    "WA.W_B"
   ]
  },
  {
   "cell_type": "code",
   "execution_count": 156,
   "id": "fff05506",
   "metadata": {},
   "outputs": [
    {
     "data": {
      "text/plain": [
       "array([[0.        , 0.        ],\n",
       "       [0.79977524, 0.        ]], dtype=float32)"
      ]
     },
     "execution_count": 156,
     "metadata": {},
     "output_type": "execute_result"
    }
   ],
   "source": [
    "WA.generateW()\n",
    "WA.getW()"
   ]
  },
  {
   "cell_type": "code",
   "execution_count": 157,
   "id": "34157999",
   "metadata": {},
   "outputs": [
    {
     "data": {
      "text/plain": [
       "array([[[2, 2],\n",
       "        [2, 2]],\n",
       "\n",
       "       [[2, 2],\n",
       "        [2, 2]],\n",
       "\n",
       "       [[2, 2],\n",
       "        [2, 2]],\n",
       "\n",
       "       [[2, 2],\n",
       "        [2, 2]]])"
      ]
     },
     "execution_count": 157,
     "metadata": {},
     "output_type": "execute_result"
    }
   ],
   "source": [
    "WA.getA()"
   ]
  },
  {
   "cell_type": "code",
   "execution_count": 158,
   "id": "9bc03366",
   "metadata": {},
   "outputs": [
    {
     "data": {
      "text/plain": [
       "tensor([[[1, 1],\n",
       "         [1, 1]],\n",
       "\n",
       "        [[1, 1],\n",
       "         [1, 1]],\n",
       "\n",
       "        [[1, 1],\n",
       "         [1, 1]],\n",
       "\n",
       "        [[1, 1],\n",
       "         [1, 1]]], dtype=torch.int32)"
      ]
     },
     "execution_count": 158,
     "metadata": {},
     "output_type": "execute_result"
    }
   ],
   "source": [
    "WA.A_B"
   ]
  },
  {
   "cell_type": "code",
   "execution_count": 159,
   "id": "e49cba9a",
   "metadata": {},
   "outputs": [
    {
     "data": {
      "text/plain": [
       "array([[[0.8630755 , 0.66960305],\n",
       "        [0.7496601 , 0.7030773 ]],\n",
       "\n",
       "       [[0.01844579, 0.41253522],\n",
       "        [0.23764223, 0.4633031 ]],\n",
       "\n",
       "       [[0.9112983 , 0.7981976 ],\n",
       "        [0.6926623 , 0.8043077 ]],\n",
       "\n",
       "       [[0.17468293, 0.20105241],\n",
       "        [0.4861069 , 0.6002657 ]]], dtype=float32)"
      ]
     },
     "execution_count": 159,
     "metadata": {},
     "output_type": "execute_result"
    }
   ],
   "source": [
    "WA.generateA()\n",
    "WA.getA()"
   ]
  },
  {
   "cell_type": "code",
   "execution_count": 160,
   "id": "e92be952",
   "metadata": {},
   "outputs": [],
   "source": [
    "WA.generateA_B(3, 'ER')"
   ]
  },
  {
   "cell_type": "code",
   "execution_count": 161,
   "id": "7e8fb714",
   "metadata": {},
   "outputs": [
    {
     "data": {
      "text/plain": [
       "tensor([[[0., 1.],\n",
       "         [0., 0.]],\n",
       "\n",
       "        [[0., 1.],\n",
       "         [0., 0.]],\n",
       "\n",
       "        [[0., 0.],\n",
       "         [0., 0.]],\n",
       "\n",
       "        [[0., 0.],\n",
       "         [1., 0.]]], dtype=torch.float64)"
      ]
     },
     "execution_count": 161,
     "metadata": {},
     "output_type": "execute_result"
    }
   ],
   "source": [
    "WA.A_B"
   ]
  },
  {
   "cell_type": "code",
   "execution_count": 162,
   "id": "d38fcea4",
   "metadata": {},
   "outputs": [
    {
     "data": {
      "text/plain": [
       "array([[[0.        , 0.39647606],\n",
       "        [0.        , 0.        ]],\n",
       "\n",
       "       [[0.        , 0.53526437],\n",
       "        [0.        , 0.        ]],\n",
       "\n",
       "       [[0.        , 0.        ],\n",
       "        [0.        , 0.        ]],\n",
       "\n",
       "       [[0.        , 0.        ],\n",
       "        [0.12735143, 0.        ]]])"
      ]
     },
     "execution_count": 162,
     "metadata": {},
     "output_type": "execute_result"
    }
   ],
   "source": [
    "WA.generateA()\n",
    "WA.getA()"
   ]
  },
  {
   "cell_type": "code",
   "execution_count": 163,
   "id": "f54df669",
   "metadata": {},
   "outputs": [
    {
     "data": {
      "text/plain": [
       "array([[[0.        , 0.39647606],\n",
       "        [0.        , 0.        ]],\n",
       "\n",
       "       [[0.        , 0.53526437],\n",
       "        [0.        , 0.        ]],\n",
       "\n",
       "       [[0.        , 0.        ],\n",
       "        [0.        , 0.        ]],\n",
       "\n",
       "       [[0.        , 0.        ],\n",
       "        [0.12735143, 0.        ]]])"
      ]
     },
     "execution_count": 163,
     "metadata": {},
     "output_type": "execute_result"
    }
   ],
   "source": [
    "WA.getA()"
   ]
  },
  {
   "cell_type": "code",
   "execution_count": null,
   "id": "fe4da487",
   "metadata": {},
   "outputs": [],
   "source": []
  },
  {
   "cell_type": "code",
   "execution_count": 164,
   "id": "175aa893",
   "metadata": {},
   "outputs": [
    {
     "data": {
      "text/plain": [
       "array([[0.        , 0.        ],\n",
       "       [0.79977524, 0.        ]], dtype=float32)"
      ]
     },
     "execution_count": 164,
     "metadata": {},
     "output_type": "execute_result"
    }
   ],
   "source": [
    "WA.getW()"
   ]
  },
  {
   "cell_type": "code",
   "execution_count": 165,
   "id": "e867ccca",
   "metadata": {},
   "outputs": [
    {
     "data": {
      "text/plain": [
       "array([[[0.        , 0.39647606],\n",
       "        [0.        , 0.        ]],\n",
       "\n",
       "       [[0.        , 0.53526437],\n",
       "        [0.        , 0.        ]],\n",
       "\n",
       "       [[0.        , 0.        ],\n",
       "        [0.        , 0.        ]],\n",
       "\n",
       "       [[0.        , 0.        ],\n",
       "        [0.12735143, 0.        ]]])"
      ]
     },
     "execution_count": 165,
     "metadata": {},
     "output_type": "execute_result"
    }
   ],
   "source": [
    "WA.getA()"
   ]
  },
  {
   "cell_type": "code",
   "execution_count": 166,
   "id": "cf89e797",
   "metadata": {
    "scrolled": true
   },
   "outputs": [
    {
     "data": {
      "text/plain": [
       "tensor([[0, 0],\n",
       "        [1, 0]])"
      ]
     },
     "execution_count": 166,
     "metadata": {},
     "output_type": "execute_result"
    }
   ],
   "source": [
    "WA.W_B"
   ]
  },
  {
   "cell_type": "code",
   "execution_count": 167,
   "id": "ae7f0359",
   "metadata": {},
   "outputs": [
    {
     "data": {
      "text/plain": [
       "tensor([[[0, 1],\n",
       "         [0, 0]],\n",
       "\n",
       "        [[0, 1],\n",
       "         [0, 0]],\n",
       "\n",
       "        [[0, 0],\n",
       "         [0, 0]],\n",
       "\n",
       "        [[0, 0],\n",
       "         [1, 0]]], dtype=torch.int32)"
      ]
     },
     "execution_count": 167,
     "metadata": {},
     "output_type": "execute_result"
    }
   ],
   "source": [
    "WA.A_B"
   ]
  },
  {
   "cell_type": "code",
   "execution_count": 168,
   "id": "e97a3610",
   "metadata": {},
   "outputs": [],
   "source": [
    "from src.data.dataset import Dataset"
   ]
  },
  {
   "cell_type": "code",
   "execution_count": 169,
   "id": "56f9dffe",
   "metadata": {},
   "outputs": [],
   "source": [
    "ds = Dataset(observations, variables, variables, times, window, WA, cons)"
   ]
  },
  {
   "cell_type": "code",
   "execution_count": 170,
   "id": "2ade185d",
   "metadata": {},
   "outputs": [],
   "source": [
    "dataex = np.array([[[1,2,3],[4,5,6]],\n",
    "                   [[1,2,3],[4,5,6]],\n",
    "                   [[1,2,3],[4,5,6]],\n",
    "                   [[1,2,3],[4,5,6]],\n",
    "                   [[1,2,3],[4,5,6]],\n",
    "                   [[1,2,3],[4,5,6]]])\n",
    "\n",
    "ds.setData(dataex)"
   ]
  },
  {
   "cell_type": "code",
   "execution_count": 171,
   "id": "7a90a1db",
   "metadata": {},
   "outputs": [
    {
     "data": {
      "text/plain": [
       "array([[[1, 2, 3],\n",
       "        [4, 5, 6]],\n",
       "\n",
       "       [[1, 2, 3],\n",
       "        [4, 5, 6]],\n",
       "\n",
       "       [[1, 2, 3],\n",
       "        [4, 5, 6]],\n",
       "\n",
       "       [[1, 2, 3],\n",
       "        [4, 5, 6]],\n",
       "\n",
       "       [[1, 2, 3],\n",
       "        [4, 5, 6]],\n",
       "\n",
       "       [[1, 2, 3],\n",
       "        [4, 5, 6]]])"
      ]
     },
     "execution_count": 171,
     "metadata": {},
     "output_type": "execute_result"
    }
   ],
   "source": [
    "ds.getData()"
   ]
  },
  {
   "cell_type": "code",
   "execution_count": 172,
   "id": "df7ffd10",
   "metadata": {},
   "outputs": [
    {
     "data": {
      "text/plain": [
       "array([[[1, 2, 3],\n",
       "        [4, 5, 6]],\n",
       "\n",
       "       [[1, 2, 3],\n",
       "        [4, 5, 6]],\n",
       "\n",
       "       [[1, 2, 3],\n",
       "        [4, 5, 6]],\n",
       "\n",
       "       [[1, 2, 3],\n",
       "        [4, 5, 6]]])"
      ]
     },
     "execution_count": 172,
     "metadata": {},
     "output_type": "execute_result"
    }
   ],
   "source": [
    "ds.getDataWindow()"
   ]
  },
  {
   "cell_type": "code",
   "execution_count": 173,
   "id": "531532c8",
   "metadata": {},
   "outputs": [
    {
     "data": {
      "text/plain": [
       "<src.utill.WAgraph.WAgraph at 0x2b1fdb750>"
      ]
     },
     "execution_count": 173,
     "metadata": {},
     "output_type": "execute_result"
    }
   ],
   "source": [
    "ds.getWA()"
   ]
  },
  {
   "cell_type": "code",
   "execution_count": 174,
   "id": "bdc29827",
   "metadata": {},
   "outputs": [],
   "source": [
    "ds.generateData(lambda x: np.random.rand())"
   ]
  },
  {
   "cell_type": "code",
   "execution_count": 175,
   "id": "40f5ff88",
   "metadata": {},
   "outputs": [
    {
     "data": {
      "text/plain": [
       "array([[[6.19308599, 9.676685  , 6.67315119],\n",
       "        [5.09300776, 9.54586462, 6.3568389 ]],\n",
       "\n",
       "       [[5.38919112, 7.45415205, 5.63325872],\n",
       "        [5.31682989, 6.10664276, 5.38664944]],\n",
       "\n",
       "       [[4.49378209, 6.89280399, 4.33145023],\n",
       "        [4.00041544, 7.6830784 , 5.22637904]],\n",
       "\n",
       "       [[4.37258451, 4.874131  , 3.05829567],\n",
       "        [4.1480065 , 4.89110079, 2.61573823]],\n",
       "\n",
       "       [[3.25025432, 3.53964764, 2.41048022],\n",
       "        [3.66181414, 3.45657914, 2.21467271]],\n",
       "\n",
       "       [[1.74097841, 2.05275194, 1.33495097],\n",
       "        [3.20029217, 3.0310054 , 2.99239973]]])"
      ]
     },
     "execution_count": 175,
     "metadata": {},
     "output_type": "execute_result"
    }
   ],
   "source": [
    "ds.data"
   ]
  },
  {
   "cell_type": "code",
   "execution_count": 176,
   "id": "108cfa1e",
   "metadata": {},
   "outputs": [
    {
     "data": {
      "text/plain": [
       "tensor([[[1.0000, 0.3965],\n",
       "         [0.0000, 0.0000]],\n",
       "\n",
       "        [[0.0000, 0.5353],\n",
       "         [0.0000, 0.0000]],\n",
       "\n",
       "        [[0.0000, 0.0000],\n",
       "         [0.0000, 0.0000]],\n",
       "\n",
       "        [[0.0000, 0.0000],\n",
       "         [0.1274, 0.0000]]], dtype=torch.float64)"
      ]
     },
     "execution_count": 176,
     "metadata": {},
     "output_type": "execute_result"
    }
   ],
   "source": [
    "ds.WA.A"
   ]
  },
  {
   "cell_type": "code",
   "execution_count": 177,
   "id": "21f193cd",
   "metadata": {},
   "outputs": [
    {
     "data": {
      "text/plain": [
       "tensor([[1., 0.],\n",
       "        [3., 0.]])"
      ]
     },
     "execution_count": 177,
     "metadata": {},
     "output_type": "execute_result"
    }
   ],
   "source": [
    "ds.WA.W"
   ]
  },
  {
   "cell_type": "code",
   "execution_count": 178,
   "id": "4d16789e",
   "metadata": {},
   "outputs": [
    {
     "data": {
      "text/plain": [
       "array([[1., 0.],\n",
       "       [3., 0.]], dtype=float32)"
      ]
     },
     "execution_count": 178,
     "metadata": {},
     "output_type": "execute_result"
    }
   ],
   "source": [
    "ds.WA.getW()"
   ]
  },
  {
   "cell_type": "code",
   "execution_count": 179,
   "id": "ea6890ff",
   "metadata": {},
   "outputs": [
    {
     "name": "stdout",
     "output_type": "stream",
     "text": [
      "0\n",
      "1\n",
      "0\n"
     ]
    }
   ],
   "source": [
    "import math\n",
    "pos = np.random.randint(0, (2*2-2)//2)\n",
    "y = math.floor(.5*(np.sqrt(8*pos+9)))\n",
    "x = pos-(y*(y-1)//2)\n",
    "print(pos)\n",
    "print(y)\n",
    "print(x)"
   ]
  },
  {
   "cell_type": "code",
   "execution_count": 180,
   "id": "28e3295f",
   "metadata": {},
   "outputs": [
    {
     "data": {
      "text/plain": [
       "3.0"
      ]
     },
     "execution_count": 180,
     "metadata": {},
     "output_type": "execute_result"
    }
   ],
   "source": [
    "ds.WA.getW()[y][x]"
   ]
  },
  {
   "cell_type": "code",
   "execution_count": 181,
   "id": "2d2fb9e1",
   "metadata": {},
   "outputs": [
    {
     "name": "stdout",
     "output_type": "stream",
     "text": [
      "2 1\n"
     ]
    }
   ],
   "source": [
    "WA.generateW_B(1, \"ER\")\n",
    "WA.generateW()"
   ]
  },
  {
   "cell_type": "code",
   "execution_count": 182,
   "id": "bbc7cb81",
   "metadata": {},
   "outputs": [
    {
     "data": {
      "text/plain": [
       "array([[0.        , 0.        ],\n",
       "       [0.18188666, 0.        ]], dtype=float32)"
      ]
     },
     "execution_count": 182,
     "metadata": {},
     "output_type": "execute_result"
    }
   ],
   "source": [
    "WA.getW()"
   ]
  },
  {
   "cell_type": "code",
   "execution_count": 183,
   "id": "5d0104d2",
   "metadata": {},
   "outputs": [
    {
     "data": {
      "text/plain": [
       "array([[0, 0],\n",
       "       [1, 0]])"
      ]
     },
     "execution_count": 183,
     "metadata": {},
     "output_type": "execute_result"
    }
   ],
   "source": [
    "WA.getW_B()"
   ]
  },
  {
   "cell_type": "code",
   "execution_count": 184,
   "id": "25ca1a35",
   "metadata": {},
   "outputs": [],
   "source": [
    "nt = NOTEARS(window, variables)"
   ]
  },
  {
   "cell_type": "code",
   "execution_count": 185,
   "id": "fab6a831",
   "metadata": {},
   "outputs": [],
   "source": [
    "nt.set_learning_rate(1e-3)"
   ]
  },
  {
   "cell_type": "code",
   "execution_count": 186,
   "id": "0e1aab20",
   "metadata": {},
   "outputs": [
    {
     "data": {
      "text/plain": [
       "(tensor(222.6634, grad_fn=<AddBackward0>),\n",
       " {'likelyhood': tensor(222.6634, grad_fn=<DivBackward0>),\n",
       "  'sparcityW': tensor(0., grad_fn=<LinalgVectorNormBackward0>),\n",
       "  'sparcityA': tensor(0., grad_fn=<LinalgVectorNormBackward0>),\n",
       "  'acyclicity': tensor(0., grad_fn=<SubBackward0>)})"
      ]
     },
     "execution_count": 186,
     "metadata": {},
     "output_type": "execute_result"
    }
   ],
   "source": [
    "nt.run(ds.data)"
   ]
  },
  {
   "cell_type": "code",
   "execution_count": 187,
   "id": "2d0b5a3b",
   "metadata": {},
   "outputs": [
    {
     "name": "stderr",
     "output_type": "stream",
     "text": [
      "/Users/tylergibbs/dsc180/src/model/model.py:60: UserWarning: To copy construct from a tensor, it is recommended to use sourceTensor.clone().detach() or sourceTensor.clone().detach().requires_grad_(True), rather than torch.tensor(sourceTensor).\n",
      "  X = torch.tensor(X, dtype=torch.float32)\n"
     ]
    },
    {
     "data": {
      "text/plain": [
       "(tensor(222.6634, grad_fn=<AddBackward0>),\n",
       " {'likelyhood': tensor(222.6634, grad_fn=<DivBackward0>),\n",
       "  'sparcityW': tensor(0., grad_fn=<LinalgVectorNormBackward0>),\n",
       "  'sparcityA': tensor(0., grad_fn=<LinalgVectorNormBackward0>),\n",
       "  'acyclicity': tensor(0., grad_fn=<SubBackward0>)})"
      ]
     },
     "execution_count": 187,
     "metadata": {},
     "output_type": "execute_result"
    }
   ],
   "source": [
    "nt.update(ds.data)"
   ]
  },
  {
   "cell_type": "code",
   "execution_count": 188,
   "id": "f7f5c7b8",
   "metadata": {},
   "outputs": [
    {
     "data": {
      "text/plain": [
       "tensor([[-235.3647, -221.7785],\n",
       "        [-221.7785, -209.9622]])"
      ]
     },
     "execution_count": 188,
     "metadata": {},
     "output_type": "execute_result"
    }
   ],
   "source": [
    "nt.WA.W.grad"
   ]
  },
  {
   "cell_type": "code",
   "execution_count": null,
   "id": "3b37d560",
   "metadata": {},
   "outputs": [],
   "source": []
  },
  {
   "cell_type": "code",
   "execution_count": null,
   "id": "b4db3491",
   "metadata": {},
   "outputs": [],
   "source": []
  },
  {
   "cell_type": "code",
   "execution_count": 240,
   "id": "aed536ff",
   "metadata": {},
   "outputs": [
    {
     "name": "stdout",
     "output_type": "stream",
     "text": [
      "3 1\n",
      "TRAINING: [Iter 0] score 8.28359317779541, likelyhood 8.28359317779541, sparcityW 0.0, sparcityA 0.0, acyclicity 0.0\n",
      "(0, 'VALIDATION: [Iter 0] score 8.28359317779541, likelyhood 8.28359317779541, sparcityW 0.0, sparcityA 0.0, acyclicity 0.0')\n",
      "TRAINING: [Iter 1000] score 0.6127249598503113, likelyhood 0.3845727741718292, sparcityW 4.073526382446289, sparcityA 0.4847496449947357, acyclicity 2.384185791015625e-07\n",
      "(1000, 'VALIDATION: [Iter 1000] score 0.612471878528595, likelyhood 0.3845727741718292, sparcityW 4.073526382446289, sparcityA 0.4847496449947357, acyclicity 2.384185791015625e-07')\n",
      "TRAINING: [Iter 2000] score 0.6725935935974121, likelyhood 0.3689410388469696, sparcityW 4.3821797370910645, sparcityA 0.4987782835960388, acyclicity 5.9604644775390625e-05\n",
      "(2000, 'VALIDATION: [Iter 2000] score 0.6963778734207153, likelyhood 0.3689410388469696, sparcityW 4.3821797370910645, sparcityA 0.4987782835960388, acyclicity 5.9604644775390625e-05')\n",
      "TRAINING: [Iter 3000] score 0.6370934844017029, likelyhood 0.37169894576072693, sparcityW 4.272761344909668, sparcityA 0.5535232424736023, acyclicity 2.4080276489257812e-05\n",
      "(3000, 'VALIDATION: [Iter 3000] score 0.6431006193161011, likelyhood 0.37169894576072693, sparcityW 4.272761344909668, sparcityA 0.5535232424736023, acyclicity 2.4080276489257812e-05')\n",
      "TRAINING: [Iter 4000] score 0.7792240381240845, likelyhood 0.3656065762042999, sparcityW 4.356775760650635, sparcityA 0.5109566450119019, acyclicity 0.00017023086547851562\n",
      "(4000, 'VALIDATION: [Iter 4000] score 0.8235490918159485, likelyhood 0.3656065762042999, sparcityW 4.356775760650635, sparcityA 0.5109566450119019, acyclicity 0.00017023086547851562')\n",
      "TRAINING: [Iter 5000] score 0.6298784613609314, likelyhood 0.3510335683822632, sparcityW 4.725944519042969, sparcityA 0.5123984217643738, acyclicity 1.6927719116210938e-05\n",
      "(5000, 'VALIDATION: [Iter 5000] score 0.6294773817062378, likelyhood 0.3510335683822632, sparcityW 4.725944519042969, sparcityA 0.5123984217643738, acyclicity 1.6927719116210938e-05')\n",
      "TRAINING: [Iter 6000] score 0.6524947285652161, likelyhood 0.3609299957752228, sparcityW 4.488712787628174, sparcityA 0.5224221348762512, acyclicity 4.100799560546875e-05\n",
      "(6000, 'VALIDATION: [Iter 6000] score 0.6518775224685669, likelyhood 0.3609299957752228, sparcityW 4.488712787628174, sparcityA 0.5224221348762512, acyclicity 4.100799560546875e-05')\n",
      "TRAINING: [Iter 7000] score 0.8645892143249512, likelyhood 0.45954325795173645, sparcityW 3.657909393310547, sparcityA 0.6950697302818298, acyclicity 0.00018739700317382812\n",
      "(7000, 'VALIDATION: [Iter 7000] score 0.7130367159843445, likelyhood 0.45954325795173645, sparcityW 3.657909393310547, sparcityA 0.6950697302818298, acyclicity 0.00018739700317382812')\n",
      "TRAINING: [Iter 8000] score 0.8365647792816162, likelyhood 0.3703629970550537, sparcityW 4.203290939331055, sparcityA 0.519266664981842, acyclicity 0.0002300739288330078\n",
      "(8000, 'VALIDATION: [Iter 8000] score 0.9835344552993774, likelyhood 0.3703629970550537, sparcityW 4.203290939331055, sparcityA 0.519266664981842, acyclicity 0.0002300739288330078')\n",
      "TRAINING: [Iter 9000] score 0.6345863342285156, likelyhood 0.3632573187351227, sparcityW 4.352863788604736, sparcityA 0.5348907113075256, acyclicity 2.6941299438476562e-05\n",
      "(9000, 'VALIDATION: [Iter 9000] score 0.6352343559265137, likelyhood 0.3632573187351227, sparcityW 4.352863788604736, sparcityA 0.5348907113075256, acyclicity 2.6941299438476562e-05')\n",
      "TRAINING: [Iter 10000] score 0.6657141447067261, likelyhood 0.38612890243530273, sparcityW 3.999070882797241, sparcityA 0.6008119583129883, acyclicity 4.9591064453125e-05\n",
      "(10000, 'VALIDATION: [Iter 10000] score 0.6500153541564941, likelyhood 0.38612890243530273, sparcityW 3.999070882797241, sparcityA 0.6008119583129883, acyclicity 4.9591064453125e-05')\n"
     ]
    }
   ],
   "source": [
    "observations = 10000\n",
    "variables = 3\n",
    "times = 2\n",
    "window = 1\n",
    "\n",
    "WA = WAgraph(window, variables)\n",
    "WA.generateW_B(1, 'ER')\n",
    "WA.generateW(lambda: np.random.rand()+2)\n",
    "WA.generateA_B(0, 'ER')\n",
    "WA.generateA(lambda: np.random.rand()+1)\n",
    "\n",
    "cons = Constraint([], [], window, variables)\n",
    "\n",
    "ds = Dataset(observations, variables, variables, times, window, WA, cons)\n",
    "ds.generateData(lambda x: np.random.rand())\n",
    "\n",
    "nt = NOTEARS(window, variables, .05, .05, 1000)\n",
    "\n",
    "tr = Trainer(.1)\n",
    "tr.train(nt, ds.data, ds.data, 10000, 0, 1000)"
   ]
  },
  {
   "cell_type": "code",
   "execution_count": 241,
   "id": "b2573d74",
   "metadata": {},
   "outputs": [
    {
     "data": {
      "text/plain": [
       "array([[ 0.  ,  0.  , -0.  ],\n",
       "       [ 0.83, -0.  ,  0.59],\n",
       "       [ 2.56, -0.  , -0.  ]], dtype=float32)"
      ]
     },
     "execution_count": 241,
     "metadata": {},
     "output_type": "execute_result"
    }
   ],
   "source": [
    "nt.WA.getW().round(2)"
   ]
  },
  {
   "cell_type": "code",
   "execution_count": 242,
   "id": "01867615",
   "metadata": {},
   "outputs": [
    {
     "data": {
      "text/plain": [
       "array([[0.       , 0.       , 0.       ],\n",
       "       [2.5096433, 0.       , 0.       ],\n",
       "       [2.760073 , 0.       , 0.       ]], dtype=float32)"
      ]
     },
     "execution_count": 242,
     "metadata": {},
     "output_type": "execute_result"
    }
   ],
   "source": [
    "ds.WA.getW()"
   ]
  },
  {
   "cell_type": "code",
   "execution_count": 243,
   "id": "563a15ec",
   "metadata": {},
   "outputs": [
    {
     "data": {
      "text/plain": [
       "array([[[ 0. ,  0. , -0. ],\n",
       "        [ 0.1,  0.1,  0.1],\n",
       "        [ 0.1,  0. ,  0.1]]], dtype=float32)"
      ]
     },
     "execution_count": 243,
     "metadata": {},
     "output_type": "execute_result"
    }
   ],
   "source": [
    "nt.WA.getA().round(1)"
   ]
  },
  {
   "cell_type": "code",
   "execution_count": 244,
   "id": "9bbfd744",
   "metadata": {},
   "outputs": [
    {
     "data": {
      "text/plain": [
       "array([[[0., 0., 0.],\n",
       "        [0., 0., 0.],\n",
       "        [0., 0., 0.]]])"
      ]
     },
     "execution_count": 244,
     "metadata": {},
     "output_type": "execute_result"
    }
   ],
   "source": [
    "ds.WA.getA().round(1)"
   ]
  },
  {
   "cell_type": "code",
   "execution_count": null,
   "id": "c9114b56",
   "metadata": {},
   "outputs": [],
   "source": []
  },
  {
   "cell_type": "code",
   "execution_count": null,
   "id": "70dff18c",
   "metadata": {},
   "outputs": [],
   "source": []
  },
  {
   "cell_type": "code",
   "execution_count": null,
   "id": "6e540a9e",
   "metadata": {},
   "outputs": [],
   "source": []
  }
 ],
 "metadata": {
  "kernelspec": {
   "display_name": "Python 3 (ipykernel)",
   "language": "python",
   "name": "python3"
  },
  "language_info": {
   "codemirror_mode": {
    "name": "ipython",
    "version": 3
   },
   "file_extension": ".py",
   "mimetype": "text/x-python",
   "name": "python",
   "nbconvert_exporter": "python",
   "pygments_lexer": "ipython3",
   "version": "3.11.1"
  }
 },
 "nbformat": 4,
 "nbformat_minor": 5
}
